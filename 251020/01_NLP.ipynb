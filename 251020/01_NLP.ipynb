{
 "cells": [
  {
   "cell_type": "code",
   "execution_count": null,
   "id": "059faade",
   "metadata": {},
   "outputs": [],
   "source": [
    "# 라이브러리 설치 \n",
    "# !pip install konlpy"
   ]
  },
  {
   "cell_type": "code",
   "execution_count": null,
   "id": "3d105285",
   "metadata": {},
   "outputs": [],
   "source": [
    "from konlpy.tag import Okt\n",
    "okt = Okt()\n",
    "print(okt.morphs('나는 학교에 간다'))"
   ]
  },
  {
   "cell_type": "markdown",
   "id": "7104de7e",
   "metadata": {},
   "source": [
    "# 데이터의 분할\n",
    "- KFold의 분할 방식 \n",
    "    - KFold\n",
    "        - 무작위로 데이터를 폴드화 \n",
    "    - StratifiedKFold\n",
    "        - 계층화를 유지하면서 폴드화 "
   ]
  },
  {
   "cell_type": "code",
   "execution_count": null,
   "id": "1200a734",
   "metadata": {},
   "outputs": [],
   "source": [
    "import pandas as pd\n",
    "from sklearn.model_selection import KFold, StratifiedKFold, StratifiedGroupKFold\n",
    "\n",
    "data = {\n",
    "    'document' : ['A', 'B', 'C', 'D', 'E', 'F', 'G', 'H'],\n",
    "    'label' : [1, 1, 0, 0, 1, 0, 0, 1], \n",
    "    'id' : ['a', 'a', 'b', 'b', 'c', 'c', 'd', 'd']\n",
    "}\n",
    "df = pd.DataFrame(data)\n",
    "df"
   ]
  },
  {
   "cell_type": "code",
   "execution_count": 12,
   "id": "b1fcd41c",
   "metadata": {},
   "outputs": [],
   "source": [
    "# 일반적인 KFold \n",
    "X = df['document']\n",
    "Y = df['label']\n",
    "groups = df['id']\n",
    "\n",
    "k_folds = KFold(n_splits=2, shuffle=True, random_state=42)\n",
    "s_folds = StratifiedKFold(n_splits=2, shuffle=True, random_state=42)\n",
    "sg_fold = StratifiedGroupKFold(n_splits=2, shuffle=True, random_state=42)"
   ]
  },
  {
   "cell_type": "code",
   "execution_count": null,
   "id": "da057f16",
   "metadata": {},
   "outputs": [],
   "source": [
    "for x_idx, y_idx in k_folds.split(X, Y):\n",
    "    print(df.loc[x_idx])\n",
    "    print(df.loc[y_idx])\n",
    "    break"
   ]
  },
  {
   "cell_type": "code",
   "execution_count": 10,
   "id": "65ba5576",
   "metadata": {},
   "outputs": [
    {
     "name": "stdout",
     "output_type": "stream",
     "text": [
      "  document  label id\n",
      "1        B      1  a\n",
      "3        D      0  b\n",
      "6        G      0  d\n",
      "7        H      1  d\n",
      "  document  label id\n",
      "0        A      1  a\n",
      "2        C      0  b\n",
      "4        E      1  c\n",
      "5        F      0  c\n"
     ]
    }
   ],
   "source": [
    "# 계층화 KFold\n",
    "for x_idx, y_idx in s_folds.split(X, Y):\n",
    "    print(df.loc[x_idx])\n",
    "    print(df.loc[y_idx])\n",
    "    break"
   ]
  },
  {
   "cell_type": "code",
   "execution_count": 16,
   "id": "1e058801",
   "metadata": {},
   "outputs": [
    {
     "name": "stdout",
     "output_type": "stream",
     "text": [
      "  document  label id\n",
      "4        E      1  c\n",
      "5        F      0  c\n",
      "6        G      0  d\n",
      "7        H      1  d\n",
      "  document  label id\n",
      "0        A      1  a\n",
      "1        B      1  a\n",
      "2        C      0  b\n",
      "3        D      0  b\n"
     ]
    }
   ],
   "source": [
    "# 계층별 그룹화 KFold\n",
    "for x_idx, y_idx in sg_fold.split(X, Y, groups):\n",
    "    print(df.loc[x_idx])\n",
    "    print(df.loc[y_idx])\n",
    "    break"
   ]
  }
 ],
 "metadata": {
  "kernelspec": {
   "display_name": "Python 3",
   "language": "python",
   "name": "python3"
  },
  "language_info": {
   "codemirror_mode": {
    "name": "ipython",
    "version": 3
   },
   "file_extension": ".py",
   "mimetype": "text/x-python",
   "name": "python",
   "nbconvert_exporter": "python",
   "pygments_lexer": "ipython3",
   "version": "3.11.9"
  }
 },
 "nbformat": 4,
 "nbformat_minor": 5
}
