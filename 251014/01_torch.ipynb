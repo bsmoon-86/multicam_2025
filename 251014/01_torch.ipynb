{
 "cells": [
  {
   "cell_type": "code",
   "execution_count": null,
   "id": "a0512af0",
   "metadata": {},
   "outputs": [],
   "source": [
    "# 라이브러리 설치 \n",
    "# !pip install torch torchvision torchaudio"
   ]
  },
  {
   "cell_type": "code",
   "execution_count": 2,
   "id": "c01842cb",
   "metadata": {},
   "outputs": [],
   "source": [
    "# 라이브러리 로드 \n",
    "import torch \n",
    "import torch.nn as nn\n",
    "import torch.optim as optim"
   ]
  },
  {
   "cell_type": "code",
   "execution_count": 4,
   "id": "7243393f",
   "metadata": {},
   "outputs": [],
   "source": [
    "# 데이터셋을 생성 \n",
    "# 독립, 종속 -> 파이토치에서는 독립, 종속 변수의 데이터의 타입은 Tensor 로 구성\n",
    "# 독립 변수 -> 2차원 데이터\n",
    "# 종속 변수 -> 2차원 데이터 (sklearn에서는 1차원)\n",
    "X = torch.tensor( [ [1.0], [2.0], [3.0], [4.0] ] )\n",
    "# 종속 변수는 독립 변수 데이터에서 2를 곱하고 1을 더해준 값으로 생성\n",
    "Y = torch.tensor( [ [3.0], [5.0], [7.0], [9.0] ] )"
   ]
  },
  {
   "cell_type": "code",
   "execution_count": 5,
   "id": "174ce436",
   "metadata": {},
   "outputs": [
    {
     "data": {
      "text/plain": [
       "torch.Tensor"
      ]
     },
     "execution_count": 5,
     "metadata": {},
     "output_type": "execute_result"
    }
   ],
   "source": [
    "type(X)"
   ]
  },
  {
   "cell_type": "code",
   "execution_count": 7,
   "id": "fe79d3e2",
   "metadata": {},
   "outputs": [],
   "source": [
    "# 선형 회귀 \n",
    "class LinearReg(nn.Module):\n",
    "    # 생성자 함수 \n",
    "    def __init__(self):\n",
    "        # self : 클래스가 생성된 메모리의 주소\n",
    "        # super() : 부모 클래스(nn.Module)를 의미 -> 상속\n",
    "        super( LinearReg, self ).__init__()     # 부모 클래스의 생성자 함수를 실행\n",
    "        # Linear()에서는 첫번째인자로는 입력 데이터(독립의 피쳐) 크기 \n",
    "        # 두번째 인자의 출력의(종속의 피쳐) 크기\n",
    "        self.linear = nn.Linear(1, 1)\n",
    "\n",
    "    def forward(self, x):\n",
    "        return self.linear(x)"
   ]
  },
  {
   "cell_type": "code",
   "execution_count": 8,
   "id": "81c0a370",
   "metadata": {},
   "outputs": [],
   "source": [
    "# 모델을 생성 -> 회귀 모델 \n",
    "# LinearReg 라는 클래스에서 생성자 함수에 매개변수가 self을 제외하고 존재 하지 않기 때문에 \n",
    "# 클래스 생성 시 인자 값을 넣지 않는다. \n",
    "model = LinearReg()"
   ]
  },
  {
   "cell_type": "code",
   "execution_count": null,
   "id": "69185b7f",
   "metadata": {},
   "outputs": [],
   "source": [
    "# 손실 함수 \n",
    "criterion = nn.MSELoss()\n",
    "# 가중치의 갱신 (경사 하강법) lr은 가중치의 변환 시 변환 비율\n",
    "optimizer = optim.SGD(model.parameters(), lr=0.01)"
   ]
  }
 ],
 "metadata": {
  "kernelspec": {
   "display_name": "Python 3",
   "language": "python",
   "name": "python3"
  },
  "language_info": {
   "codemirror_mode": {
    "name": "ipython",
    "version": 3
   },
   "file_extension": ".py",
   "mimetype": "text/x-python",
   "name": "python",
   "nbconvert_exporter": "python",
   "pygments_lexer": "ipython3",
   "version": "3.11.9"
  }
 },
 "nbformat": 4,
 "nbformat_minor": 5
}
