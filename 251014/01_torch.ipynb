{
 "cells": [
  {
   "cell_type": "code",
   "execution_count": null,
   "id": "a0512af0",
   "metadata": {},
   "outputs": [],
   "source": [
    "# 라이브러리 설치 \n",
    "# !pip install torch torchvision torchaudio"
   ]
  },
  {
   "cell_type": "code",
   "execution_count": null,
   "id": "c01842cb",
   "metadata": {},
   "outputs": [],
   "source": [
    "# 라이브러리 로드 \n",
    "import torch \n",
    "import torch.nn as nn\n",
    "import torch.optim as optim"
   ]
  },
  {
   "cell_type": "code",
   "execution_count": null,
   "id": "7243393f",
   "metadata": {},
   "outputs": [],
   "source": [
    "# 데이터셋을 생성 \n",
    "# 독립, 종속 -> 파이토치에서는 독립, 종속 변수의 데이터의 타입은 Tensor 로 구성\n",
    "# 독립 변수 -> 2차원 데이터\n",
    "# 종속 변수 -> 2차원 데이터 (sklearn에서는 1차원)\n",
    "X = torch.tensor( [ [1.0], [2.0], [3.0], [4.0] ] )\n",
    "# 종속 변수는 독립 변수 데이터에서 2를 곱하고 1을 더해준 값으로 생성\n",
    "Y = torch.tensor( [ [3.0], [5.0], [7.0], [9.0] ] )"
   ]
  },
  {
   "cell_type": "code",
   "execution_count": null,
   "id": "174ce436",
   "metadata": {},
   "outputs": [],
   "source": [
    "type(X)"
   ]
  },
  {
   "cell_type": "code",
   "execution_count": null,
   "id": "fe79d3e2",
   "metadata": {},
   "outputs": [],
   "source": [
    "# 선형 회귀 \n",
    "class LinearReg(nn.Module):\n",
    "    # 생성자 함수 \n",
    "    def __init__(self):\n",
    "        # self : 클래스가 생성된 메모리의 주소\n",
    "        # super() : 부모 클래스(nn.Module)를 의미 -> 상속\n",
    "        super( LinearReg, self ).__init__()     # 부모 클래스의 생성자 함수를 실행\n",
    "        # Linear()에서는 첫번째인자로는 입력 데이터(독립의 피쳐) 크기 \n",
    "        # 두번째 인자의 출력의(종속의 피쳐) 크기\n",
    "        self.linear = nn.Linear(1, 1)\n",
    "\n",
    "    def forward(self, x):\n",
    "        return self.linear(x)"
   ]
  },
  {
   "cell_type": "code",
   "execution_count": null,
   "id": "81c0a370",
   "metadata": {},
   "outputs": [],
   "source": [
    "# 모델을 생성 -> 회귀 모델 \n",
    "# LinearReg 라는 클래스에서 생성자 함수에 매개변수가 self을 제외하고 존재 하지 않기 때문에 \n",
    "# 클래스 생성 시 인자 값을 넣지 않는다. \n",
    "model = LinearReg()"
   ]
  },
  {
   "cell_type": "code",
   "execution_count": null,
   "id": "69185b7f",
   "metadata": {},
   "outputs": [],
   "source": [
    "# 손실 함수 \n",
    "criterion = nn.MSELoss()\n",
    "# 가중치의 갱신 (경사 하강법) lr은 가중치의 변환 시 변환 비율\n",
    "optimizer = optim.SGD(model.parameters(), lr=0.01)"
   ]
  },
  {
   "cell_type": "code",
   "execution_count": null,
   "id": "c68a9c4b",
   "metadata": {},
   "outputs": [],
   "source": [
    "# 500번 반복 실행하면서 Loss를 확인 \n",
    "for epoch in range(500):\n",
    "    # 순전파 \n",
    "    Y_pred = model(X)\n",
    "    # 손실 함수\n",
    "    loss = criterion(Y_pred, Y)\n",
    "    # 역전파\n",
    "    optimizer.zero_grad()       # 기울기 초기화\n",
    "    loss.backward()             # 기울기 계산\n",
    "    optimizer.step()            # 파타미터를 업데이트\n",
    "\n",
    "    # 50회 마다 loss의 값을 출력 \n",
    "    if (epoch + 1) % 50 == 0:\n",
    "        print(f'Epoch : [{epoch+1}, 500], Loss : {round(loss.item(), 4)}')"
   ]
  },
  {
   "cell_type": "code",
   "execution_count": null,
   "id": "6833ba21",
   "metadata": {},
   "outputs": [],
   "source": [
    "# 예측 값 확인 \n",
    "pred = model(X).detach()\n",
    "\n",
    "for i in range(len(X)):\n",
    "    print(f\"독립 : {X[i].item()}, 종속 : {Y[i].item()}, 예측 : {pred[i].item()}\")"
   ]
  },
  {
   "cell_type": "code",
   "execution_count": null,
   "id": "33bbe3b6",
   "metadata": {},
   "outputs": [],
   "source": [
    "# sklearn에서 제공하는 캘리포니아 데이터를 이용하여 회귀분석 \n",
    "from sklearn.datasets import fetch_california_housing\n",
    "from sklearn.preprocessing import StandardScaler\n",
    "from sklearn.model_selection import train_test_split\n",
    "import numpy as np"
   ]
  },
  {
   "cell_type": "code",
   "execution_count": 134,
   "id": "fb23e8c8",
   "metadata": {},
   "outputs": [
    {
     "name": "stdout",
     "output_type": "stream",
     "text": [
      "독립 변수 데이터의 크기 :  (20640, 8)\n",
      "종속 변수 데이터의 크기 :  (20640,)\n"
     ]
    }
   ],
   "source": [
    "# 데이터를 로드해서 독립 종속 변수 데이터 생성 \n",
    "data = fetch_california_housing()\n",
    "\n",
    "X = data['data']\n",
    "Y = data['target']\n",
    "\n",
    "print(\"독립 변수 데이터의 크기 : \", X.shape)\n",
    "print('종속 변수 데이터의 크기 : ', Y.shape)"
   ]
  },
  {
   "cell_type": "code",
   "execution_count": 135,
   "id": "7a5f598c",
   "metadata": {},
   "outputs": [],
   "source": [
    "# 데이터를 학습, 평가 데이터로 분할\n",
    "X_train, X_test, Y_train, Y_test = train_test_split(\n",
    "    X, Y, test_size=0.2, random_state=42\n",
    ")"
   ]
  },
  {
   "cell_type": "code",
   "execution_count": 136,
   "id": "4cce385c",
   "metadata": {},
   "outputs": [],
   "source": [
    "# StandardScaler를 이용하여 스케일링 -> train 데이터를 기준으로 fitting을 하고 \n",
    "# train, test 모두 같은 fit model에서 변환 작업 (데이터 누수 방지)\n",
    "scaler = StandardScaler()\n",
    "X_train_sc = scaler.fit_transform(X_train)\n",
    "X_test_sc = scaler.transform(X_test)"
   ]
  },
  {
   "cell_type": "code",
   "execution_count": 137,
   "id": "c478dc8f",
   "metadata": {},
   "outputs": [],
   "source": [
    "# 총 4개의 데이터의 타입은 array형태 -> Tensor 형태로 변환 \n",
    "X_train_sc_tensor = torch.tensor(X_train_sc, dtype=torch.float32)\n",
    "X_test_sc_tensor = torch.tensor(X_test_sc, dtype=torch.float32)\n",
    "X_train_tensor = torch.tensor(X_train, dtype=torch.float32)\n",
    "X_test_tensor = torch.tensor(X_test, dtype=torch.float32)\n",
    "# Y의 데이터들은 현재 1차원-> 2차원 변경해서  Tensor로 변환\n",
    "Y_train_tensor = torch.tensor( Y_train.reshape(-1, 1), dtype=torch.float32 )\n",
    "Y_test_tensor = torch.tensor(Y_test.reshape(-1, 1), dtype=torch.float32)"
   ]
  },
  {
   "cell_type": "code",
   "execution_count": 138,
   "id": "bca7f228",
   "metadata": {},
   "outputs": [],
   "source": [
    "# class 생성 \n",
    "class Reg(nn.Module):\n",
    "    # 생성자 함수에서 self외의 매개변수를 하나 생성 -> \n",
    "    # nn.Linear()에서 사용할 첫번째 인자 값 (입력 값의 열의 크기 )\n",
    "    def __init__(self, _dim):\n",
    "        super(Reg, self).__init__()\n",
    "        self.linear = nn.Linear(_dim, 1)\n",
    "    \n",
    "    def forward(self, x):\n",
    "        return self.linear(x)"
   ]
  },
  {
   "cell_type": "code",
   "execution_count": 139,
   "id": "e0e3da31",
   "metadata": {},
   "outputs": [],
   "source": [
    "# 모델을 생성 -> 학습 데이터의 피쳐의 개수\n",
    "reg_model = Reg( X_train.shape[1] )"
   ]
  },
  {
   "cell_type": "code",
   "execution_count": 140,
   "id": "452b65fa",
   "metadata": {},
   "outputs": [],
   "source": [
    "# 손실 함수 \n",
    "criterion = nn.MSELoss()\n",
    "# 가중치 변환\n",
    "optimizer = optim.SGD(reg_model.parameters(), lr= 0.01)"
   ]
  },
  {
   "cell_type": "code",
   "execution_count": 141,
   "id": "0987b777",
   "metadata": {},
   "outputs": [
    {
     "name": "stdout",
     "output_type": "stream",
     "text": [
      "Epoch : 30, Loss : 2.224\n",
      "Epoch : 60, Loss : 1.1339\n",
      "Epoch : 90, Loss : 0.7977\n",
      "Epoch : 120, Loss : 0.6875\n",
      "Epoch : 150, Loss : 0.6461\n",
      "Epoch : 180, Loss : 0.6265\n",
      "Epoch : 210, Loss : 0.6143\n",
      "Epoch : 240, Loss : 0.6049\n",
      "Epoch : 270, Loss : 0.5969\n",
      "Epoch : 300, Loss : 0.5899\n"
     ]
    }
   ],
   "source": [
    "# 학습 반복 실행 \n",
    "for epoch in range(300):\n",
    "    # 순전파\n",
    "    Y_pred = reg_model(X_train_sc_tensor)\n",
    "    # 손실\n",
    "    loss = criterion(Y_pred, Y_train_tensor)\n",
    "    # 기울기 초기화 \n",
    "    optimizer.zero_grad()\n",
    "    # 역전파 \n",
    "    loss.backward()\n",
    "    # 가중치 업데이트 \n",
    "    optimizer.step()\n",
    "    # 30회마다 loss의 변화 확인\n",
    "    if (epoch + 1) % 30 == 0:\n",
    "        print(f'Epoch : {epoch+1}, Loss : {round(loss.item(), 4)}')"
   ]
  },
  {
   "cell_type": "code",
   "execution_count": 142,
   "id": "e7c96304",
   "metadata": {},
   "outputs": [
    {
     "data": {
      "text/plain": [
       "Reg(\n",
       "  (linear): Linear(in_features=8, out_features=1, bias=True)\n",
       ")"
      ]
     },
     "execution_count": 142,
     "metadata": {},
     "output_type": "execute_result"
    }
   ],
   "source": [
    "# 현재 모델의 학습 모드에서 평가 모드로 변환 (학습이 중지가 아니라 모드의 변환)\n",
    "# eval() : 평가모드 변환\n",
    "# train() : 학습모드 변환\n",
    "reg_model.eval()"
   ]
  },
  {
   "cell_type": "code",
   "execution_count": 143,
   "id": "60d77099",
   "metadata": {},
   "outputs": [],
   "source": [
    "# 예측과 평가 \n",
    "# torch.nograd() -> 평가시 gradient 계산을 비활성화 (속도 빨라짐, 메모리 소모 줄어듬)\n",
    "with torch.no_grad():\n",
    "    Y_pred = reg_model(X_test_sc_tensor)\n",
    "    test_loss = criterion(Y_pred, Y_test_tensor)"
   ]
  },
  {
   "cell_type": "code",
   "execution_count": 144,
   "id": "235cbbdc",
   "metadata": {},
   "outputs": [
    {
     "name": "stdout",
     "output_type": "stream",
     "text": [
      "테스트 데이터의 MSE :  0.6035\n",
      "테스트 데이터의 RSME :  0.7768\n"
     ]
    }
   ],
   "source": [
    "# 성능 평가 \n",
    "# MSE, RMSE 지표 확인 \n",
    "rmse = np.sqrt(test_loss.item())\n",
    "print(\"테스트 데이터의 MSE : \", round(test_loss.item(), 4))\n",
    "print(\"테스트 데이터의 RSME : \", round(rmse, 4))"
   ]
  },
  {
   "cell_type": "code",
   "execution_count": 145,
   "id": "97a498db",
   "metadata": {},
   "outputs": [
    {
     "name": "stdout",
     "output_type": "stream",
     "text": [
      "실제 값 : 0.477, 예측 값 : 0.972\n",
      "실제 값 : 0.458, 예측 값 : 1.586\n",
      "실제 값 : 5.00001, 예측 값 : 2.378\n",
      "실제 값 : 2.186, 예측 값 : 2.72\n",
      "실제 값 : 2.78, 예측 값 : 2.205\n",
      "실제 값 : 1.587, 예측 값 : 2.139\n",
      "실제 값 : 1.982, 예측 값 : 2.709\n",
      "실제 값 : 1.575, 예측 값 : 2.177\n",
      "실제 값 : 3.4, 예측 값 : 2.152\n",
      "실제 값 : 4.466, 예측 값 : 4.12\n"
     ]
    }
   ],
   "source": [
    "# 실제 값과 예측 값을 확인 -> 상위 10개의 데이터만 확인\n",
    "for i in range(10):\n",
    "    print(f\"실제 값 : {Y_test[i]}, 예측 값 : {round(Y_pred[i].item(), 3)}\")"
   ]
  },
  {
   "cell_type": "code",
   "execution_count": 146,
   "id": "ccf1f45f",
   "metadata": {},
   "outputs": [
    {
     "name": "stdout",
     "output_type": "stream",
     "text": [
      "Reg(\n",
      "  (linear): Linear(in_features=8, out_features=1, bias=True)\n",
      ")\n"
     ]
    }
   ],
   "source": [
    "# 스탠다드 스케일링을 하지 않은 데이터를 이용하여 학습하고 예측을 출력하시오\n",
    "\n",
    "\n",
    "# 모델 생성 \n",
    "reg_model2 = Reg(X_train.shape[1])\n",
    "print(reg_model2)"
   ]
  },
  {
   "cell_type": "code",
   "execution_count": 147,
   "id": "918917a2",
   "metadata": {},
   "outputs": [],
   "source": [
    "criterion2 = nn.MSELoss()\n",
    "# Adam -> 적응적 학습율 기반 경사하강법 \n",
    "optimizer2 = optim.Adam(reg_model2.parameters(), lr = 0.01)"
   ]
  },
  {
   "cell_type": "code",
   "execution_count": 148,
   "id": "2af95cee",
   "metadata": {},
   "outputs": [
    {
     "name": "stdout",
     "output_type": "stream",
     "text": [
      "Epoch : 30, Loss : 1734.6365\n",
      "Epoch : 60, Loss : 83.7378\n",
      "Epoch : 90, Loss : 31.3308\n",
      "Epoch : 120, Loss : 9.9788\n",
      "Epoch : 150, Loss : 3.7891\n",
      "Epoch : 180, Loss : 2.1297\n",
      "Epoch : 210, Loss : 1.6199\n",
      "Epoch : 240, Loss : 1.3997\n",
      "Epoch : 270, Loss : 1.2743\n",
      "Epoch : 300, Loss : 1.1903\n"
     ]
    }
   ],
   "source": [
    "for epoch in range(300):\n",
    "    Y_pred2 = reg_model2(X_train_tensor)\n",
    "    # print(Y_pred2)\n",
    "    # break\n",
    "    loss2 = criterion2(Y_pred2, Y_train_tensor)\n",
    "\n",
    "    optimizer2.zero_grad()\n",
    "\n",
    "    loss2.backward()\n",
    "\n",
    "    optimizer2.step()\n",
    "\n",
    "    if (epoch + 1) % 30 == 0:\n",
    "        print(f'Epoch : {epoch+1}, Loss : {round(loss2.item(), 4)}')"
   ]
  },
  {
   "cell_type": "code",
   "execution_count": 149,
   "id": "acb3029d",
   "metadata": {},
   "outputs": [],
   "source": [
    "reg_model2.eval()\n",
    "with torch.no_grad():\n",
    "    Y_pred2 = reg_model2(X_test_tensor)\n",
    "    test_loss2 = criterion2(Y_pred2, Y_test_tensor).item()"
   ]
  },
  {
   "cell_type": "code",
   "execution_count": null,
   "id": "17398fb0",
   "metadata": {},
   "outputs": [],
   "source": [
    "# 실제 값과 예측 값 확인 \n",
    "for i in range(10):\n",
    "    print(f\"실제 : {Y_test[i]}, 예측 : {round(Y_pred2[i].item(), 4)}\")"
   ]
  },
  {
   "cell_type": "code",
   "execution_count": 151,
   "id": "9b4d52b1",
   "metadata": {},
   "outputs": [
    {
     "name": "stdout",
     "output_type": "stream",
     "text": [
      "스케일링 작업x 테스트 MSE :  1.1597\n",
      "스케일링 작업x 테스트 RMSE :  1.0769\n"
     ]
    }
   ],
   "source": [
    "rmse2 = np.sqrt(test_loss2)\n",
    "print(\"스케일링 작업x 테스트 MSE : \", round(test_loss2, 4))\n",
    "print(\"스케일링 작업x 테스트 RMSE : \", round(rmse2, 4))"
   ]
  },
  {
   "cell_type": "code",
   "execution_count": 152,
   "id": "d4cc23fc",
   "metadata": {},
   "outputs": [],
   "source": [
    "# 파이토치를 이용한 분류 분석 \n",
    "# iris 데이터를 이용\n",
    "from sklearn.datasets import load_iris\n",
    "# 분류 검증 정확도 \n",
    "from sklearn.metrics import accuracy_score"
   ]
  },
  {
   "cell_type": "code",
   "execution_count": 153,
   "id": "6e15d7f2",
   "metadata": {},
   "outputs": [],
   "source": [
    "iris = load_iris()\n",
    "X = iris['data']\n",
    "Y = iris['target']"
   ]
  },
  {
   "cell_type": "code",
   "execution_count": 154,
   "id": "856c127f",
   "metadata": {},
   "outputs": [],
   "source": [
    "# train, test 분할 \n",
    "X_train, X_test, Y_train, Y_test = train_test_split(\n",
    "    X, Y, test_size=0.2, random_state=42\n",
    ")"
   ]
  },
  {
   "cell_type": "code",
   "execution_count": 155,
   "id": "4f3a9eb4",
   "metadata": {},
   "outputs": [],
   "source": [
    "# 스탠다드스케일러를 이용한 스케일링\n",
    "scaler = StandardScaler()\n",
    "X_train = scaler.fit_transform(X_train)\n",
    "X_test = scaler.transform(X_test)"
   ]
  },
  {
   "cell_type": "code",
   "execution_count": 156,
   "id": "41a2dcb7",
   "metadata": {},
   "outputs": [],
   "source": [
    "# 분류 모델에서 Tensor 데이터로 변환 \n",
    "# 독립변수 -> float32 타입으로 변경\n",
    "# 종속변수 -> long 타입으로 변경\n",
    "X_train_tensor = torch.tensor(X_train, dtype=torch.float32)\n",
    "X_test_tensor = torch.tensor(X_test, dtype=torch.float32)\n",
    "Y_train_tensor = torch.tensor(Y_train, dtype=torch.long)\n",
    "Y_test_tensor = torch.tensor(Y_test, dtype=torch.long)"
   ]
  },
  {
   "cell_type": "code",
   "execution_count": 157,
   "id": "c9382859",
   "metadata": {},
   "outputs": [
    {
     "data": {
      "text/plain": [
       "tensor([0, 0, 1, 0, 0, 2, 1, 0, 0, 0, 2, 1, 1, 0, 0, 1, 2, 2, 1, 2, 1, 2, 1, 0,\n",
       "        2, 1, 0, 0, 0, 1, 2, 0, 0, 0, 1, 0, 1, 2, 0, 1, 2, 0, 2, 2, 1, 1, 2, 1,\n",
       "        0, 1, 2, 0, 0, 1, 1, 0, 2, 0, 0, 1, 1, 2, 1, 2, 2, 1, 0, 0, 2, 2, 0, 0,\n",
       "        0, 1, 2, 0, 2, 2, 0, 1, 1, 2, 1, 2, 0, 2, 1, 2, 1, 1, 1, 0, 1, 1, 0, 1,\n",
       "        2, 2, 0, 1, 2, 2, 0, 2, 0, 1, 2, 2, 1, 2, 1, 1, 2, 2, 0, 1, 2, 0, 1, 2])"
      ]
     },
     "execution_count": 157,
     "metadata": {},
     "output_type": "execute_result"
    }
   ],
   "source": [
    "Y_train_tensor"
   ]
  },
  {
   "cell_type": "code",
   "execution_count": 158,
   "id": "6dd6b44c",
   "metadata": {},
   "outputs": [
    {
     "data": {
      "text/plain": [
       "(150, 4)"
      ]
     },
     "execution_count": 158,
     "metadata": {},
     "output_type": "execute_result"
    }
   ],
   "source": [
    "X.shape"
   ]
  },
  {
   "cell_type": "code",
   "execution_count": 159,
   "id": "81a92151",
   "metadata": {},
   "outputs": [],
   "source": [
    "# 모델의 정의 \n",
    "class IrisClass(nn.Module):\n",
    "    def __init__(self):\n",
    "        # 부모 클래스의 생성자 함수 실행\n",
    "        super(IrisClass, self).__init__()\n",
    "        # 분류 모델을 선택 \n",
    "        self.model = nn.Sequential(\n",
    "            # Linear() -> 첫번째 인자 입력 값의 열의 개수\n",
    "            # 두번째 인자 값을 분류 클래스의 개수\n",
    "            nn.Linear(4, 3)\n",
    "        )\n",
    "    \n",
    "    def forward(self, x):\n",
    "        return self.model(x)"
   ]
  },
  {
   "cell_type": "code",
   "execution_count": 160,
   "id": "460023ff",
   "metadata": {},
   "outputs": [],
   "source": [
    "# 모델의 생성\n",
    "cls_model = IrisClass()"
   ]
  },
  {
   "cell_type": "code",
   "execution_count": 161,
   "id": "d18ba9cf",
   "metadata": {},
   "outputs": [],
   "source": [
    "# 손실 함수 / 옵티마이저 생성 \n",
    "# 분류 모델의 손실 함수 \n",
    "criterion = nn.CrossEntropyLoss()\n",
    "# 옵티마이저 \n",
    "optimizer = optim.Adam(cls_model.parameters(), lr=0.01)"
   ]
  },
  {
   "cell_type": "code",
   "execution_count": 163,
   "id": "72ec1c5d",
   "metadata": {},
   "outputs": [
    {
     "name": "stdout",
     "output_type": "stream",
     "text": [
      "Epoch : 30, Loss : 0.5508\n",
      "Epoch : 60, Loss : 0.4176\n",
      "Epoch : 90, Loss : 0.3581\n",
      "Epoch : 120, Loss : 0.3173\n",
      "Epoch : 150, Loss : 0.2849\n",
      "Epoch : 180, Loss : 0.258\n",
      "Epoch : 210, Loss : 0.2355\n",
      "Epoch : 240, Loss : 0.2164\n",
      "Epoch : 270, Loss : 0.2002\n",
      "Epoch : 300, Loss : 0.1863\n"
     ]
    }
   ],
   "source": [
    "# 반복 학습 시작\n",
    "for epoch in range(300):\n",
    "    Y_pred = cls_model(X_train_tensor)\n",
    "    loss = criterion(Y_pred, Y_train_tensor)\n",
    "\n",
    "    optimizer.zero_grad()\n",
    "    loss.backward()\n",
    "    optimizer.step()\n",
    "\n",
    "    # 30회 마다 loss를 확인 \n",
    "    if (epoch + 1) % 30 == 0:\n",
    "        print(f\"Epoch : {epoch+1}, Loss : {round(loss.item(), 4)}\")"
   ]
  },
  {
   "cell_type": "code",
   "execution_count": 169,
   "id": "68541b55",
   "metadata": {},
   "outputs": [
    {
     "name": "stdout",
     "output_type": "stream",
     "text": [
      "정확도 : 1.0\n"
     ]
    }
   ],
   "source": [
    "# 평가 \n",
    "cls_model.eval()\n",
    "with torch.no_grad():\n",
    "    # pred -> 예측에 대한 엔트로피 계수(높은 값의 위치가 유력)\n",
    "    pred = cls_model(X_test_tensor)\n",
    "    _, pred_idx = torch.max(pred, 1)\n",
    "    # 정확도를 계산\n",
    "    acc = accuracy_score(Y_test, pred_idx)\n",
    "print(\"정확도 :\", acc)\n"
   ]
  },
  {
   "cell_type": "code",
   "execution_count": null,
   "id": "9eff21c6",
   "metadata": {},
   "outputs": [],
   "source": [
    "# torch.max() : -> 2차원 리스트 형태의 데이터에서 각 원소별 위치, 값을 되돌려주는 함수\n",
    "torch.max(pred, 1)"
   ]
  },
  {
   "cell_type": "code",
   "execution_count": 170,
   "id": "7937ff72",
   "metadata": {},
   "outputs": [
    {
     "name": "stdout",
     "output_type": "stream",
     "text": [
      "실제 : 1, 예측 : 1\n",
      "실제 : 0, 예측 : 0\n",
      "실제 : 2, 예측 : 2\n",
      "실제 : 1, 예측 : 1\n",
      "실제 : 1, 예측 : 1\n",
      "실제 : 0, 예측 : 0\n",
      "실제 : 1, 예측 : 1\n",
      "실제 : 2, 예측 : 2\n",
      "실제 : 1, 예측 : 1\n",
      "실제 : 1, 예측 : 1\n"
     ]
    }
   ],
   "source": [
    "for i in range(10):\n",
    "    print(f\"실제 : {Y_test[i]}, 예측 : {pred_idx[i].item()}\")"
   ]
  },
  {
   "cell_type": "markdown",
   "id": "756c6854",
   "metadata": {},
   "source": [
    "### 문제\n",
    "- data 폴더 안에 bodyPerformance.csv 파일을 로드 \n",
    "- 데이터중 object 형 데이터의 컬럼들은 LabelEncoder를 이용하여 라벨링\n",
    "- 독립, 종속 변수로 데이터를 나눠준다. \n",
    "- train, test 데이터를 8:2의 비율로 나눠준다. \n",
    "- 독립 데이터들은 StandardScaler를 이용하여 스케일링\n",
    "- 생성된 변수 4개를 Tensor의 형태로 변환\n",
    "- torch의 분류 분석을 통해서 데이터 학습 \n",
    "    - 손실함수는 Adam을 사용하고 lr의 값은 0.01로 설정 \n",
    "    - 반복 학습의 횟수는 200회 loss값 확인\n",
    "- 반복 학습이 끝나면 정확도를 확인\n"
   ]
  }
 ],
 "metadata": {
  "kernelspec": {
   "display_name": "Python 3",
   "language": "python",
   "name": "python3"
  },
  "language_info": {
   "codemirror_mode": {
    "name": "ipython",
    "version": 3
   },
   "file_extension": ".py",
   "mimetype": "text/x-python",
   "name": "python",
   "nbconvert_exporter": "python",
   "pygments_lexer": "ipython3",
   "version": "3.11.9"
  }
 },
 "nbformat": 4,
 "nbformat_minor": 5
}
