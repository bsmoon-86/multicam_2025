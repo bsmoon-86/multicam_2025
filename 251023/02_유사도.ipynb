{
 "cells": [
  {
   "cell_type": "code",
   "execution_count": null,
   "id": "c2889601",
   "metadata": {},
   "outputs": [],
   "source": [
    "# 외부의 텍스트 파일을 로드하는 방법 \n",
    "text = open('../data/qa.txt', 'r', encoding='utf-8').read()"
   ]
  },
  {
   "cell_type": "code",
   "execution_count": null,
   "id": "27e62ec9",
   "metadata": {},
   "outputs": [],
   "source": [
    "text"
   ]
  },
  {
   "cell_type": "code",
   "execution_count": null,
   "id": "671948ab",
   "metadata": {},
   "outputs": [],
   "source": [
    "# 일반 문자를 python의 구조로 변경하는 함수\n",
    "QnA_list = eval(text)"
   ]
  },
  {
   "cell_type": "code",
   "execution_count": null,
   "id": "affca608",
   "metadata": {},
   "outputs": [],
   "source": [
    "type(QnA_list)"
   ]
  },
  {
   "cell_type": "markdown",
   "id": "ce42ecaa",
   "metadata": {},
   "source": [
    "- QnA_list 데이터에서 질문들을 따로 추출하여 형태소 분석을 이용하여 단어를 추출 \n",
    "- 백터화 작업 (TF-IDF)\n",
    "- 코사인 유사도\n",
    "    - 문장과 문장 사이에의 어느 정도 같은 의미를 가지는가?"
   ]
  },
  {
   "cell_type": "code",
   "execution_count": null,
   "id": "b3c35a14",
   "metadata": {},
   "outputs": [],
   "source": [
    "from sklearn.feature_extraction.text import TfidfVectorizer\n",
    "from sklearn.metrics.pairwise import cosine_similarity"
   ]
  },
  {
   "cell_type": "code",
   "execution_count": null,
   "id": "7156ab67",
   "metadata": {},
   "outputs": [],
   "source": [
    "QnA_list"
   ]
  },
  {
   "cell_type": "code",
   "execution_count": null,
   "id": "9fae1b42",
   "metadata": {},
   "outputs": [],
   "source": [
    "# QnA_list에서 질문들의 목록을 생성 \n",
    "# 패턴 인지 -> list에서 각각의 원소들을 추출 -> 원소에서 첫번째 문자를 추출\n",
    "# 목록이라는 새로운 리스트를 생성\n",
    "questions = []\n",
    "# list에서 각각의 원소들을 추출\n",
    "for data in QnA_list:\n",
    "    print(data[0])"
   ]
  },
  {
   "cell_type": "code",
   "execution_count": null,
   "id": "fe92bdb3",
   "metadata": {},
   "outputs": [],
   "source": [
    "for q, a in QnA_list:\n",
    "    print(q)"
   ]
  },
  {
   "cell_type": "code",
   "execution_count": null,
   "id": "5628ea0d",
   "metadata": {},
   "outputs": [],
   "source": [
    "questions = [ q for q, a in QnA_list ]\n",
    "questions"
   ]
  },
  {
   "cell_type": "code",
   "execution_count": null,
   "id": "ce99fda6",
   "metadata": {},
   "outputs": [],
   "source": [
    "from konlpy.tag import Komoran"
   ]
  },
  {
   "cell_type": "code",
   "execution_count": null,
   "id": "12409157",
   "metadata": {},
   "outputs": [],
   "source": [
    "# 토큰화 -> 백터화 \n",
    "komoran = Komoran()\n",
    "\n",
    "def tokenize(text):\n",
    "    return komoran.morphs(text)\n",
    "\n",
    "vectorizer = TfidfVectorizer(\n",
    "    tokenizer= tokenize, \n",
    "    ngram_range=(1, 2), \n",
    "    lowercase= False\n",
    ")"
   ]
  },
  {
   "cell_type": "code",
   "execution_count": null,
   "id": "4d46b5d0",
   "metadata": {},
   "outputs": [],
   "source": [
    "X = vectorizer.fit_transform(questions)"
   ]
  },
  {
   "cell_type": "code",
   "execution_count": null,
   "id": "f7b42025",
   "metadata": {},
   "outputs": [],
   "source": [
    "X.toarray().shape"
   ]
  },
  {
   "cell_type": "code",
   "execution_count": null,
   "id": "78507974",
   "metadata": {},
   "outputs": [],
   "source": [
    "# 새로운 질문 \n",
    "query = \"환불을 하려면 어떻게 하면 될까요?\"\n",
    "# 질문을 백터화\n",
    "query_vec = vectorizer.transform([query])"
   ]
  },
  {
   "cell_type": "code",
   "execution_count": null,
   "id": "c35031d0",
   "metadata": {},
   "outputs": [],
   "source": [
    "# 코사인 거리 유사도  함수를 사용 \n",
    "# ravel() -> array에서 사용하는 함수로 다차원 배열을 1차원 배열로 변경하는 함수 \n",
    "sims = cosine_similarity(query_vec, X).ravel()"
   ]
  },
  {
   "cell_type": "code",
   "execution_count": null,
   "id": "92dd99be",
   "metadata": {},
   "outputs": [],
   "source": [
    "sims"
   ]
  },
  {
   "cell_type": "code",
   "execution_count": null,
   "id": "01e446b1",
   "metadata": {},
   "outputs": [],
   "source": [
    "# argsort() : 배열의 값을 정렬 했을때 그 정렬 순서를 되돌려주는 함수 \n",
    "# 정렬의 순서는 인덱스의 의미\n",
    "rank = sims.argsort()[::-1]"
   ]
  },
  {
   "cell_type": "code",
   "execution_count": null,
   "id": "3c44a089",
   "metadata": {},
   "outputs": [],
   "source": [
    "print('질문 : ', query)\n",
    "for i in rank[:2]:\n",
    "    print(f\"index : {i}, 유사도 : {round(sims[i], 3)}, \\\n",
    "          유사 질문 : {questions[i]}\")"
   ]
  }
 ],
 "metadata": {
  "kernelspec": {
   "display_name": "Python 3",
   "language": "python",
   "name": "python3"
  },
  "language_info": {
   "codemirror_mode": {
    "name": "ipython",
    "version": 3
   },
   "file_extension": ".py",
   "mimetype": "text/x-python",
   "name": "python",
   "nbconvert_exporter": "python",
   "pygments_lexer": "ipython3",
   "version": "3.11.9"
  }
 },
 "nbformat": 4,
 "nbformat_minor": 5
}
