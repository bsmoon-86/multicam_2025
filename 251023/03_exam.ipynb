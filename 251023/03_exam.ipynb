{
 "cells": [
  {
   "cell_type": "code",
   "execution_count": null,
   "id": "63124623",
   "metadata": {},
   "outputs": [],
   "source": [
    "import pandas as pd"
   ]
  },
  {
   "cell_type": "code",
   "execution_count": null,
   "id": "3971609a",
   "metadata": {},
   "outputs": [],
   "source": [
    "df = pd.read_json(\"../data/민원(콜센터) 질의응답_다산콜센터_일반행정 문의_Training.json\")"
   ]
  },
  {
   "cell_type": "code",
   "execution_count": null,
   "id": "30f33fc4",
   "metadata": {},
   "outputs": [],
   "source": [
    "df.info()"
   ]
  },
  {
   "cell_type": "code",
   "execution_count": null,
   "id": "fa0524dd",
   "metadata": {},
   "outputs": [],
   "source": [
    "# 결측치의 개수를 확인 \n",
    "df.isna().sum()"
   ]
  },
  {
   "cell_type": "code",
   "execution_count": null,
   "id": "b88f10b0",
   "metadata": {},
   "outputs": [],
   "source": [
    "df.head(10)"
   ]
  },
  {
   "cell_type": "markdown",
   "id": "d61d5cd3",
   "metadata": {},
   "source": [
    "### 문제 \n",
    "1. 일반행정 데이터와, 대중 교통 데이터를 로드 \n",
    "2. 두개의 데이터프레임을 결합 (단순한 행 결합)\n",
    "3. 데이터의 필터링 고객질문에 대한 상담사의 답변이 즉각적으로 오는 데이터들만 필터 \n",
    "4. 질문 중 중복 데이터를 제거 \n",
    "5. 질문들을 모아서 토큰화, 백터화 \n",
    "6. 그 외의 질문 목록을 이용하여 코사인 유사도 확인하고 유사 질문과 답변을 출력 "
   ]
  },
  {
   "cell_type": "code",
   "execution_count": null,
   "id": "c727530d",
   "metadata": {},
   "outputs": [],
   "source": [
    "# 2개의 데이터프레임을 로드 \n",
    "df = pd.read_json(\"../data/민원(콜센터) 질의응답_다산콜센터_대중교통 안내_Training.json\")\n",
    "df2 = pd.read_json(\"../data/민원(콜센터) 질의응답_다산콜센터_일반행정 문의_Training.json\")\n"
   ]
  },
  {
   "cell_type": "code",
   "execution_count": null,
   "id": "61f001a2",
   "metadata": {},
   "outputs": [],
   "source": [
    "# 2개의 데이터프레임을 단순한 행 결합 (union 결합)\n",
    "total_df = pd.concat( [df, df2], ignore_index=True  )"
   ]
  },
  {
   "cell_type": "code",
   "execution_count": null,
   "id": "593f37dc",
   "metadata": {},
   "outputs": [],
   "source": [
    "# 단순 결합시 주의할점 : 인덱스의 값이 중복 값이 생기는 부분 \n",
    "total_df.loc[0, ]"
   ]
  },
  {
   "cell_type": "code",
   "execution_count": null,
   "id": "62cff41c",
   "metadata": {},
   "outputs": [],
   "source": [
    "total_df.head()"
   ]
  },
  {
   "cell_type": "code",
   "execution_count": null,
   "id": "15ba2a59",
   "metadata": {},
   "outputs": [],
   "source": [
    "# 고객질문(요청) 컬럼의 데이터들의 개수를 확인 \n",
    "total_df['고객질문(요청)'].value_counts()\n",
    "#공백의 데이터가 여러개가 존재 확인 "
   ]
  },
  {
   "cell_type": "code",
   "execution_count": null,
   "id": "afa313ea",
   "metadata": {},
   "outputs": [],
   "source": [
    "# 공백으로 이루어진 value들을 통일화\n",
    "# 스리즈에서 각각의 value을 추출하여 함수에 대입 -> map()\n",
    "total_df = total_df.map(\n",
    "    lambda x : str(x).strip() \n",
    ")"
   ]
  },
  {
   "cell_type": "code",
   "execution_count": null,
   "id": "eaa77d56",
   "metadata": {},
   "outputs": [],
   "source": [
    "total_df.head()"
   ]
  },
  {
   "cell_type": "code",
   "execution_count": null,
   "id": "8a73bb8a",
   "metadata": {},
   "outputs": [],
   "source": [
    "# 1번 조건식 -> 현재 행에서 고객질문(요청) 데이터가 ''가 아니고 \n",
    "#               다음 행의 상담사답변의 value가 ''이 아닌경우\n",
    "flag1 = (total_df['고객질문(요청)'] != '') & \\\n",
    "    (total_df['상담사답변'].shift(-1) != '')"
   ]
  },
  {
   "cell_type": "code",
   "execution_count": null,
   "id": "7374a959",
   "metadata": {},
   "outputs": [],
   "source": [
    "# 2번 조건식 -> 현재 행에서 상담사답변이 '' 가 아니고\n",
    "#               전 행의 고객질문(요청) 데이터가 '' 가 아닌 경우\n",
    "flag2 = (total_df['상담사답변'] != '') & \\\n",
    "        (total_df['고객질문(요청)'].shift(1) != ''  )"
   ]
  },
  {
   "cell_type": "code",
   "execution_count": null,
   "id": "2116af9a",
   "metadata": {},
   "outputs": [],
   "source": [
    "# flag1은 고객 질문만 나오고\n",
    "# flag2는 상담사 답변 \n",
    "# 둘 중 하나만 True라면 \n",
    "total_df = total_df.loc[flag1 | flag2,]"
   ]
  },
  {
   "cell_type": "code",
   "execution_count": 58,
   "id": "3cf06aa9",
   "metadata": {},
   "outputs": [],
   "source": [
    "# 고객 질문 데이터중 중복 데이터는 제거 \n",
    "total_df['상담사답변'] = total_df['상담사답변'].shift(-1)"
   ]
  },
  {
   "cell_type": "code",
   "execution_count": 61,
   "id": "60cb8d80",
   "metadata": {},
   "outputs": [],
   "source": [
    "# 고객질문(요청) 데이터에서 ''가 아닌 데이터만 필터\n",
    "total_df = total_df.loc[\n",
    "    total_df['고객질문(요청)'] != ''\n",
    "]"
   ]
  },
  {
   "cell_type": "code",
   "execution_count": 64,
   "id": "7693331b",
   "metadata": {},
   "outputs": [],
   "source": [
    "total_df = total_df.drop_duplicates('고객질문(요청)').reset_index(drop=True)"
   ]
  },
  {
   "cell_type": "code",
   "execution_count": null,
   "id": "3b1636c6",
   "metadata": {},
   "outputs": [],
   "source": [
    "total_df"
   ]
  },
  {
   "cell_type": "code",
   "execution_count": 67,
   "id": "53877e30",
   "metadata": {},
   "outputs": [],
   "source": [
    "# 토큰화, 백터화 정의 \n",
    "from konlpy.tag import Komoran\n",
    "from sklearn.feature_extraction.text import TfidfVectorizer\n",
    "from sklearn.metrics.pairwise import cosine_similarity"
   ]
  },
  {
   "cell_type": "code",
   "execution_count": 68,
   "id": "6489d824",
   "metadata": {},
   "outputs": [],
   "source": [
    "komoran = Komoran()\n",
    "\n",
    "def tokenize(text):\n",
    "    return komoran.morphs(text)\n",
    "\n",
    "vectorizer = TfidfVectorizer(\n",
    "    tokenizer=tokenize, \n",
    "    lowercase=False, \n",
    "    ngram_range= (1,1), \n",
    "    min_df = 5, \n",
    "    max_df= 0.8\n",
    ")"
   ]
  },
  {
   "cell_type": "code",
   "execution_count": 69,
   "id": "c5bb6473",
   "metadata": {},
   "outputs": [
    {
     "name": "stderr",
     "output_type": "stream",
     "text": [
      "c:\\Users\\ekfla\\AppData\\Local\\Programs\\Python\\Python311\\Lib\\site-packages\\sklearn\\feature_extraction\\text.py:517: UserWarning: The parameter 'token_pattern' will not be used since 'tokenizer' is not None'\n",
      "  warnings.warn(\n"
     ]
    }
   ],
   "source": [
    "# total_df에서 고객질문(요청) 데이터를 토큰화, 백터화 작업 \n",
    "X = vectorizer.fit_transform(\n",
    "    total_df['고객질문(요청)'].values\n",
    ")"
   ]
  },
  {
   "cell_type": "code",
   "execution_count": 76,
   "id": "9b52a9df",
   "metadata": {},
   "outputs": [],
   "source": [
    "# 질문 목록 \n",
    "new_questions = [\n",
    "    '여권 재발급 신청 방법을 알려줘', \n",
    "    '전입 신고가 인터넷으로 가능한가요?',\n",
    "    '지방세 환급금을 어디서 신청하나요?'\n",
    "]"
   ]
  },
  {
   "cell_type": "code",
   "execution_count": 77,
   "id": "ed3ff6e2",
   "metadata": {},
   "outputs": [],
   "source": [
    "# new_questions도 토큰, 백터화 -> fit() x\n",
    "test = vectorizer.transform(new_questions)"
   ]
  },
  {
   "cell_type": "code",
   "execution_count": 78,
   "id": "c64065ba",
   "metadata": {},
   "outputs": [],
   "source": [
    "# 코사인 유사도 생성 \n",
    "sims = cosine_similarity(test, X)"
   ]
  },
  {
   "cell_type": "code",
   "execution_count": 79,
   "id": "eb2ae523",
   "metadata": {},
   "outputs": [
    {
     "data": {
      "text/plain": [
       "array([[0.        , 0.        , 0.03641695, ..., 0.        , 0.        ,\n",
       "        0.        ],\n",
       "       [0.02427217, 0.        , 0.03673714, ..., 0.        , 0.        ,\n",
       "        0.05143491],\n",
       "       [0.02110636, 0.        , 0.03996141, ..., 0.03383102, 0.03217321,\n",
       "        0.02175454]], shape=(3, 18952))"
      ]
     },
     "execution_count": 79,
     "metadata": {},
     "output_type": "execute_result"
    }
   ],
   "source": [
    "sims"
   ]
  },
  {
   "cell_type": "code",
   "execution_count": 81,
   "id": "e70c7707",
   "metadata": {},
   "outputs": [
    {
     "name": "stdout",
     "output_type": "stream",
     "text": [
      "유저의 질문 :  여권 재발급 신청 방법을 알려줘\n",
      "유사도 : 0.619               유사 질문 : 신청방법을 알려주세요.,               답변 : 주민등록상 세대주와 가까운 주민센터 또는 복지로 홈페이지에서 신청가능하세요.\n",
      "유사도 : 0.568               유사 질문 : 신청방법 좀 알려주세요?,               답변 : 우선 사이트에 접속하셔서 회원가입을 해주세요. 청소년일경우 공인인증서가 없으면 본인확인절차를 거쳐 회원가입을 하고, 부모님이나 세대주분께서 가입을 하실 경우 공인인증서로 가입할 수 있습니다.\n",
      "유저의 질문 :  전입 신고가 인터넷으로 가능한가요?\n",
      "유사도 : 0.738               유사 질문 : 인터넷으로도 신고가능한가요?,               답변 : 방문 접수밖에 안됩니다.\n",
      "유사도 : 0.682               유사 질문 : 인터넷으로 가능한가요?,               답변 : 인터넷으로 신청 가능합니다.\n",
      "유저의 질문 :  지방세 환급금을 어디서 신청하나요?\n",
      "유사도 : 0.76               유사 질문 : 지방세 환급금 신청은 어떻게 해야하죠?,               답변 : 인터넷에서 접수를 하셔야 합니다\n",
      "유사도 : 0.566               유사 질문 : 환급금을 기부할 수도 있나요?,               답변 : 네 환급금을 사회복지공동모금회에 본인 명의로 기부가 가능합니다\n"
     ]
    }
   ],
   "source": [
    "for idx, sim in enumerate(sims):\n",
    "    question = new_questions[idx]\n",
    "    print(\"유저의 질문 : \", question)\n",
    "    # sim데이터에서 내림차순정렬을 한 인덱스의 목록 \n",
    "    sim_idxs = sim.argsort()[::-1]\n",
    "    for i in sim_idxs[:2]:\n",
    "        # i : 유저의 질문에 가장 유사한 질문의 인덱스\n",
    "        print(f\"유사도 : {round(sim[i], 3)} \\\n",
    "              유사 질문 : {total_df.loc[i, '고객질문(요청)']}, \\\n",
    "              답변 : {total_df.loc[i, '상담사답변']}\")"
   ]
  },
  {
   "cell_type": "markdown",
   "id": "7e21b0e9",
   "metadata": {},
   "source": [
    "### 문제 2\n",
    "- 고객질문의 데이터를 이용하여 카테고리를 분류하는 모델을 생성 \n",
    "    - 고객질문 데이터들을 이용하여 토큰화, 백터화 작업 (독립 변수) \n",
    "    - 카테고리 일반행정, 대중교통을 타켓 데이터 (종속 변수)\n",
    "        - 카테고리 데이터를 LabelEncoder()를 이용하여 수치화 변환\n",
    "    - SVC 모델을 이용하여 백터화된 데이터와 카테고리 데이터를 이용하여 학습 \n",
    "    - new_qeustions의 카테고리를 확인 "
   ]
  }
 ],
 "metadata": {
  "kernelspec": {
   "display_name": "Python 3",
   "language": "python",
   "name": "python3"
  },
  "language_info": {
   "codemirror_mode": {
    "name": "ipython",
    "version": 3
   },
   "file_extension": ".py",
   "mimetype": "text/x-python",
   "name": "python",
   "nbconvert_exporter": "python",
   "pygments_lexer": "ipython3",
   "version": "3.11.9"
  }
 },
 "nbformat": 4,
 "nbformat_minor": 5
}
