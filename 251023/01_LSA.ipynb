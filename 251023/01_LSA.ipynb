{
 "cells": [
  {
   "cell_type": "code",
   "execution_count": 1,
   "id": "83ade3b7",
   "metadata": {},
   "outputs": [],
   "source": [
    "# 라이브러리 로드 \n",
    "from konlpy.tag import Komoran\n",
    "from sklearn.feature_extraction.text import TfidfVectorizer\n",
    "from sklearn.decomposition import TruncatedSVD\n",
    "from sklearn.svm import SVC\n",
    "from sklearn.pipeline import Pipeline\n",
    "from sklearn.model_selection import GridSearchCV\n",
    "from sklearn.metrics import accuracy_score, f1_score\n",
    "import pandas as pd"
   ]
  },
  {
   "cell_type": "code",
   "execution_count": null,
   "id": "7f4fc25d",
   "metadata": {},
   "outputs": [],
   "source": [
    "# 데이터 로드\n",
    "df = pd.read_csv(\"../data/ratings_train.txt\", sep='\\t')"
   ]
  },
  {
   "cell_type": "code",
   "execution_count": 3,
   "id": "18065e7f",
   "metadata": {},
   "outputs": [],
   "source": [
    "# 데이터 결측치를 제외 \n",
    "df.dropna(inplace=True)"
   ]
  },
  {
   "cell_type": "code",
   "execution_count": 7,
   "id": "8c4e0e22",
   "metadata": {},
   "outputs": [],
   "source": [
    "# 독립 변수, 종속 변수 생성\n",
    "X = df['document'][:5000]\n",
    "Y = df['label'][:5000]"
   ]
  },
  {
   "cell_type": "code",
   "execution_count": 8,
   "id": "22568e56",
   "metadata": {},
   "outputs": [],
   "source": [
    "from sklearn.model_selection import train_test_split"
   ]
  },
  {
   "cell_type": "code",
   "execution_count": 9,
   "id": "5e338f11",
   "metadata": {},
   "outputs": [],
   "source": [
    "X_train, X_test, Y_train, Y_test = train_test_split(\n",
    "    X, Y, test_size=0.2, stratify=Y, random_state=42\n",
    ")"
   ]
  },
  {
   "cell_type": "code",
   "execution_count": 10,
   "id": "87428c25",
   "metadata": {},
   "outputs": [
    {
     "name": "stdout",
     "output_type": "stream",
     "text": [
      "(4000,)\n"
     ]
    }
   ],
   "source": [
    "print(X_train.shape)"
   ]
  },
  {
   "cell_type": "markdown",
   "id": "c05d3321",
   "metadata": {},
   "source": [
    "- 파이프라인 생성 \n",
    "    - 백터화(TF-IDF 방식)\n",
    "        - 토큰화 함수(Komoran 형태소 방식) 포함 \n",
    "    - LSA\n",
    "        - TruncatedSVD() 차원 축소를 사용\n",
    "    - Scaler\n",
    "        - StandardScaler를 이용\n",
    "    - Model\n",
    "        - SVC() 모델 "
   ]
  },
  {
   "cell_type": "code",
   "execution_count": 11,
   "id": "460ed37c",
   "metadata": {},
   "outputs": [],
   "source": [
    "from sklearn.preprocessing import StandardScaler"
   ]
  },
  {
   "cell_type": "code",
   "execution_count": 12,
   "id": "262c2ca7",
   "metadata": {},
   "outputs": [],
   "source": [
    "# 토큰화 함수 \n",
    "komoran = Komoran()\n",
    "allow_pos = ['NNP', 'NNG', 'VV', 'VA', 'MAG']\n",
    "\n",
    "def tokenize(text):\n",
    "    result = []\n",
    "    for word, pos in komoran.pos(text):\n",
    "        if pos in allow_pos:\n",
    "            result.append(word)\n",
    "    return result\n",
    "\n",
    "# 백터화 객체 생성\n",
    "vectorizer = TfidfVectorizer(\n",
    "    # 토큰화 방식 \n",
    "    tokenizer= tokenize, \n",
    "    lowercase= False, \n",
    "    min_df = 5, \n",
    "    max_df= 0.8, \n",
    "    ngram_range=(1, 1)\n",
    ")"
   ]
  },
  {
   "cell_type": "code",
   "execution_count": 13,
   "id": "85d7c2f7",
   "metadata": {},
   "outputs": [],
   "source": [
    "# 차원 축소 객체 생성 \n",
    "svd = TruncatedSVD(\n",
    "    n_components= 200, \n",
    "    random_state=42\n",
    ")"
   ]
  },
  {
   "cell_type": "code",
   "execution_count": 14,
   "id": "44c2a327",
   "metadata": {},
   "outputs": [],
   "source": [
    "# StandardScaler \n",
    "scaler = StandardScaler(with_mean=True)"
   ]
  },
  {
   "cell_type": "code",
   "execution_count": 15,
   "id": "cad61ee8",
   "metadata": {},
   "outputs": [],
   "source": [
    "svc = SVC(\n",
    "    kernel= 'linear', \n",
    "    random_state=42, \n",
    "    probability=False\n",
    ")"
   ]
  },
  {
   "cell_type": "code",
   "execution_count": 16,
   "id": "313bbc5e",
   "metadata": {},
   "outputs": [],
   "source": [
    "# 위의 4개의 작업 을 하나의 객체로 연결 \n",
    "pipe = Pipeline(\n",
    "  [\n",
    "      ('vector', vectorizer), \n",
    "      ('lsa', svd), \n",
    "      ('scaler', scaler), \n",
    "      ('model', svc)\n",
    "  ]  \n",
    ")"
   ]
  },
  {
   "cell_type": "code",
   "execution_count": 24,
   "id": "81b7f685",
   "metadata": {},
   "outputs": [],
   "source": [
    "# 최적의 매개변수를 찾기 위해 매개변수들을 지정 \n",
    "# pipe를 이용하게 되면 pipe step의 객체들의 key__parameter : [val1, val2]\n",
    "grid_params = {\n",
    "    \"vector__ngram_range\" : [ (1,1), (1,2) ],\n",
    "    \"lsa__n_components\" : [100, 200], \n",
    "    \"model__C\" : [1.0, 2.0]\n",
    "}"
   ]
  },
  {
   "cell_type": "code",
   "execution_count": 25,
   "id": "ec68b806",
   "metadata": {},
   "outputs": [],
   "source": [
    "# GridSearchCV를 이용하여 각각 매개변수들을 대입하여 \n",
    "# 최적의 매개변수를 찾는다\n",
    "grid = GridSearchCV(\n",
    "    estimator= pipe, \n",
    "    param_grid= grid_params, \n",
    "    cv = 2, \n",
    "    scoring='accuracy', \n",
    "    verbose=1, \n",
    "    # n_jobs=-1   # remote error 발생 시 주석 처리 \n",
    ")"
   ]
  },
  {
   "cell_type": "code",
   "execution_count": null,
   "id": "fc1858e2",
   "metadata": {},
   "outputs": [],
   "source": [
    "grid.fit(X_train, Y_train)"
   ]
  },
  {
   "cell_type": "code",
   "execution_count": 27,
   "id": "4614f869",
   "metadata": {},
   "outputs": [
    {
     "name": "stdout",
     "output_type": "stream",
     "text": [
      "Best Params :  {'lsa__n_components': 200, 'model__C': 2.0, 'vector__ngram_range': (1, 1)}\n",
      "Best Acc :  0.724\n"
     ]
    }
   ],
   "source": [
    "# 최적의 모델을 확인 \n",
    "print(\"Best Params : \", grid.best_params_)\n",
    "# 최적의 모델의 정확도를 확인 \n",
    "print(\"Best Acc : \", round(grid.best_score_, 4))"
   ]
  },
  {
   "cell_type": "code",
   "execution_count": 28,
   "id": "21421335",
   "metadata": {},
   "outputs": [],
   "source": [
    "# 테스트 데이터를 이용하여 정확도 f1score를 확인 \n",
    "# 실무 -> 충분한 모델링 학습을 하고 실전의 데이터를 이용하여 \n",
    "# 정확도 및 f1score를 확인\n",
    "# grid에서 최적의 모델을 변수에 저장 \n",
    "best_model = grid.best_estimator_"
   ]
  },
  {
   "cell_type": "code",
   "execution_count": 29,
   "id": "f3bfd86e",
   "metadata": {},
   "outputs": [],
   "source": [
    "# test 데이터셋을 이용하여 예측 \n",
    "best_pred = best_model.predict(X_test)"
   ]
  },
  {
   "cell_type": "code",
   "execution_count": 30,
   "id": "856806af",
   "metadata": {},
   "outputs": [
    {
     "name": "stdout",
     "output_type": "stream",
     "text": [
      "정확도 : 0.744, f1 : 0.732\n"
     ]
    }
   ],
   "source": [
    "# 예측 값과 실제값을 이용하여 정확도 f1score를 확인 \n",
    "best_acc = accuracy_score(best_pred, Y_test)\n",
    "best_f1 = f1_score(best_pred, Y_test)\n",
    "print(f\"정확도 : {round(best_acc, 3)}, f1 : {round(best_f1, 3)}\")"
   ]
  }
 ],
 "metadata": {
  "kernelspec": {
   "display_name": "Python 3",
   "language": "python",
   "name": "python3"
  },
  "language_info": {
   "codemirror_mode": {
    "name": "ipython",
    "version": 3
   },
   "file_extension": ".py",
   "mimetype": "text/x-python",
   "name": "python",
   "nbconvert_exporter": "python",
   "pygments_lexer": "ipython3",
   "version": "3.11.9"
  }
 },
 "nbformat": 4,
 "nbformat_minor": 5
}
