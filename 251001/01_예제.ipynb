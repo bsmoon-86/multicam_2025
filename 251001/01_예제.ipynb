{
 "cells": [
  {
   "cell_type": "markdown",
   "id": "18aaa933",
   "metadata": {},
   "source": [
    "## 객실의 사용 여부 관련 데이터 \n",
    "1. 데이터를 로드 (hotel_bookings.csv)\n",
    "2. 데이터에 대한 정보를 확인 \n",
    "3. 해당 데이터에서 문제가 있는 부분을 확인하여 수정 "
   ]
  },
  {
   "cell_type": "code",
   "execution_count": null,
   "id": "1afd4b77",
   "metadata": {},
   "outputs": [],
   "source": [
    "import pandas as pd \n",
    "import numpy as np"
   ]
  },
  {
   "cell_type": "code",
   "execution_count": null,
   "id": "647e1827",
   "metadata": {},
   "outputs": [],
   "source": [
    "# data폴더 안에 hotel_bookings.csv 파일을 로드 \n",
    "\n",
    "# 데이터를 로드 하고 문제점(랜덤포레스트 학습)\n",
    "\n",
    "hotel = pd.read_csv(\"../data/hotel_bookings.csv\")\n",
    "hotel.head(2)"
   ]
  },
  {
   "cell_type": "code",
   "execution_count": null,
   "id": "df8fc2ed",
   "metadata": {},
   "outputs": [],
   "source": [
    "# 데이터프레임의 정보 확인 \n",
    "hotel.info()"
   ]
  },
  {
   "cell_type": "markdown",
   "id": "9d656583",
   "metadata": {},
   "source": [
    "### 해당 데이터의 컬럼의 의미 \n",
    "is_canceled : 예약 취소 여부 (0=취소 안됨 ,1=취소 )\n",
    "\n",
    "deposit_type : 보증금 유형 (No Deposit, Not Refund, Refundable)\n",
    "\n",
    "lead_time : 예약일과 실제 도착일 사이의 일수 \n",
    "\n",
    "stays_in_weekend_nights : 주말의 숙박 일수 \n",
    "\n",
    "stays_in_week_nights : 주중의 숙박 일수\n",
    "\n",
    "is_repeated_guest : 재방문 고객 여부 (0=신규, 1=재방문)\n",
    "\n",
    "previous_cancellations : 과거 예약 취소 횟수\n",
    "\n",
    "previous_bookings_not_canceled : 과거 예약 중 취소되지 않은 건수\n",
    "\n",
    "booking_changes : 예약 후 변경 횟수\n",
    "\n",
    "days_in_waiting_list : 대기자가 있었던 일수\n",
    "\n",
    "adr : 평균 일일 객실 요금"
   ]
  },
  {
   "cell_type": "code",
   "execution_count": null,
   "id": "bc8bbbdc",
   "metadata": {},
   "outputs": [],
   "source": [
    "# 결측치가 존재하는것은 확인 -> 실제 결측치의 개수를 확인 \n",
    "# 결측치가 존재 여부 함수 -> bool 타입의 데이터프레임이 생성 \n",
    "# bool의 데이터들을 합산하여 컬럼별로 확인 \n",
    "hotel.isna().sum()"
   ]
  },
  {
   "cell_type": "code",
   "execution_count": null,
   "id": "9cb5e2a5",
   "metadata": {},
   "outputs": [],
   "source": [
    "# 결측치의 비율 -> 결측치의 개수 / 데이터프레임의 길이 * 100\n",
    "print(\"lead_time 컬럼의 결측치의 비율 \", round( 5 / len(hotel) * 100 , 2 ))\n",
    "print('is_repeated_guest 컬럼의 결측치의 비율 ', \n",
    "      round( 358 / len(hotel) * 100, 2 ))\n",
    "print('adr 컬럼의 결측치의 비율 ', round( 1063 / len(hotel) * 100, 2 ))"
   ]
  },
  {
   "cell_type": "markdown",
   "id": "53ac381d",
   "metadata": {},
   "source": [
    "- lead_time 컬럼의 결측치의 비율은 매우 작기 때문에 제거 -> 결측치인 인덱스를 제외\n",
    "- is_repeated_guest는 해당 데이터에서 개수가 많은 데이터로 결측치를 채워준다. \n",
    "- adr 컬럼의 결측치는 해당 데이터들을 확인하고 특정한 조건에 맞춰서 데이터를 채워준다. "
   ]
  },
  {
   "cell_type": "code",
   "execution_count": null,
   "id": "deeb0723",
   "metadata": {},
   "outputs": [],
   "source": [
    "# lead_time의 결측치가 존재하는 인덱스를 제외 \n",
    "# 제거한다(drop) + 결측치(na) -> 결측치가 존재하는 행이나 열을 제거하는 함수 \n",
    "hotel.dropna( subset=['lead_time'], axis = 0, inplace=True)"
   ]
  },
  {
   "cell_type": "code",
   "execution_count": null,
   "id": "9602398f",
   "metadata": {},
   "outputs": [],
   "source": [
    "# 값들의 빈도수를 체크하는 함수를 사용\n",
    "hotel['is_repeated_guest'].value_counts()"
   ]
  },
  {
   "cell_type": "code",
   "execution_count": null,
   "id": "ae525acc",
   "metadata": {},
   "outputs": [],
   "source": [
    "# is_repeated_guest 컬럼의 결측치는 0으로 채워준다. \n",
    "hotel['is_repeated_guest'].fillna(0, inplace=True)"
   ]
  },
  {
   "cell_type": "code",
   "execution_count": null,
   "id": "907e717f",
   "metadata": {},
   "outputs": [],
   "source": [
    "hotel.isna().sum()"
   ]
  },
  {
   "cell_type": "code",
   "execution_count": 17,
   "id": "026a9b37",
   "metadata": {},
   "outputs": [
    {
     "data": {
      "text/plain": [
       "count    18932.000000\n",
       "mean       101.410702\n",
       "std         49.241204\n",
       "min         -6.380000\n",
       "25%         68.822500\n",
       "50%         94.500000\n",
       "75%        126.000000\n",
       "max        451.500000\n",
       "Name: adr, dtype: float64"
      ]
     },
     "execution_count": 17,
     "metadata": {},
     "output_type": "execute_result"
    }
   ],
   "source": [
    "hotel['adr'].describe()"
   ]
  },
  {
   "cell_type": "code",
   "execution_count": 21,
   "id": "febd322c",
   "metadata": {},
   "outputs": [],
   "source": [
    "# 통계 정보를 확인하니 객실 요금 평균에 음수가 존재한다. -> 이상한 데이터가 발견 \n",
    "# 이상치 데이터는 제거 \n",
    "# 인덱스의 조건식을 생성 -> 객실 요금 데이터에서 0보다 작은 \n",
    "flag = hotel['adr'] < 0\n",
    "\n",
    "hotel = hotel.loc[~flag]"
   ]
  },
  {
   "cell_type": "code",
   "execution_count": 30,
   "id": "c9415d54",
   "metadata": {},
   "outputs": [],
   "source": [
    "# adr의 결측치들을 deposit_type의 값에 따라 그룹화를 하고 평균의 adr의 값을 채워준다. \n",
    "\n",
    "# deposit_type에 따른 adr의 평균값을 확인\n",
    "deposit_adr_mean = hotel.groupby(['deposit_type'])['adr'].mean().to_dict()"
   ]
  },
  {
   "cell_type": "code",
   "execution_count": 33,
   "id": "6074f4ad",
   "metadata": {},
   "outputs": [],
   "source": [
    "# hotel 복사 본 생성 \n",
    "test_hotel = hotel.copy()"
   ]
  },
  {
   "cell_type": "code",
   "execution_count": 38,
   "id": "adb08de2",
   "metadata": {},
   "outputs": [],
   "source": [
    "null_flag = test_hotel['adr'].isna()\n",
    "for key in  deposit_adr_mean:\n",
    "    # print(key)\n",
    "    # print(deposit_adr_mean[key])\n",
    "    # 인덱스 조건식 -> deposit_type이 key와 같다. \n",
    "    flag = test_hotel['deposit_type'] == key \n",
    "    # flag와 null_flag 두 조건식이 모두 만족하는 인덱스 필터 \n",
    "    # 첫번째 반복 시에는 deposit_type이 No Deposit이고 adr이 결측치인 데이터를 선택 \n",
    "    test_hotel.loc[flag & null_flag, 'adr'] = deposit_adr_mean[key]\n",
    "    # break"
   ]
  },
  {
   "cell_type": "code",
   "execution_count": 39,
   "id": "0396d202",
   "metadata": {},
   "outputs": [
    {
     "data": {
      "text/plain": [
       "is_canceled                       0\n",
       "deposit_type                      0\n",
       "lead_time                         0\n",
       "stays_in_weekend_nights           0\n",
       "stays_in_week_nights              0\n",
       "is_repeated_guest                 0\n",
       "previous_cancellations            0\n",
       "previous_bookings_not_canceled    0\n",
       "booking_changes                   0\n",
       "days_in_waiting_list              0\n",
       "adr                               0\n",
       "dtype: int64"
      ]
     },
     "execution_count": 39,
     "metadata": {},
     "output_type": "execute_result"
    }
   ],
   "source": [
    "test_hotel.isna().sum()"
   ]
  },
  {
   "cell_type": "code",
   "execution_count": null,
   "id": "00035d89",
   "metadata": {},
   "outputs": [],
   "source": [
    "# map(), apply()\n",
    "hotel['adr'].map(\n",
    "    lambda x : print(x)\n",
    ")"
   ]
  },
  {
   "cell_type": "code",
   "execution_count": null,
   "id": "3ce2f3c6",
   "metadata": {},
   "outputs": [],
   "source": [
    "hotel['adr'].apply(\n",
    "    lambda x : print(x)\n",
    ")"
   ]
  },
  {
   "cell_type": "markdown",
   "id": "9462324a",
   "metadata": {},
   "source": [
    "- 1차원 스리즈 데이터에서 map(), apply() 함수를 같은 행동은 한다. "
   ]
  },
  {
   "cell_type": "code",
   "execution_count": null,
   "id": "b50ccbc0",
   "metadata": {},
   "outputs": [],
   "source": [
    "hotel.map(\n",
    "    lambda x : print(x)\n",
    ")\n",
    "# DataFrame에서 map() 함수는 첫번째 스리즈의 values들을 모두 탐색하고\n",
    "# 다음 스리즈의 value로 넘어간다. "
   ]
  },
  {
   "cell_type": "code",
   "execution_count": null,
   "id": "c35dec52",
   "metadata": {},
   "outputs": [],
   "source": [
    "hotel.apply(\n",
    "    lambda x : print(x)\n",
    ")\n",
    "# DataFrame에서 apply() 함수는 스리즈 별로 탐색을 하는 함수 \n",
    "# 차원을 한개 축소하여 데이터를 확인 "
   ]
  },
  {
   "cell_type": "code",
   "execution_count": 46,
   "id": "0005e31b",
   "metadata": {},
   "outputs": [],
   "source": [
    "# groupby() 함수와 apply()를 조합하여 \n",
    "# deposit_type에 따라서 adr의 결측치를 평균값으로 대체 \n",
    "adj_hotel = hotel.groupby('deposit_type').apply(\n",
    "    lambda x : x.fillna(x.mean())\n",
    ")"
   ]
  },
  {
   "cell_type": "code",
   "execution_count": null,
   "id": "a3e94826",
   "metadata": {},
   "outputs": [],
   "source": [
    "# adj_hotel의 인덱스 중 deposit_type 인덱스를 다시 벨류값로 넘겨온다. \n",
    "adj_hotel.info()"
   ]
  },
  {
   "cell_type": "code",
   "execution_count": 51,
   "id": "5c1dbf37",
   "metadata": {},
   "outputs": [],
   "source": [
    "# 멀티인덱스인 경우 \n",
    "# 특정 인덱스만 초기화하고 싶으면 reset_index()에서 level매개변수 설정 변경 \n",
    "adj_hotel.reset_index(level='deposit_type', inplace=True)"
   ]
  },
  {
   "cell_type": "code",
   "execution_count": 52,
   "id": "66702c4c",
   "metadata": {},
   "outputs": [
    {
     "data": {
      "text/plain": [
       "is_canceled\n",
       "0    17594\n",
       "1     2400\n",
       "Name: count, dtype: int64"
      ]
     },
     "execution_count": 52,
     "metadata": {},
     "output_type": "execute_result"
    }
   ],
   "source": [
    "# 종속 변수 -> 취소여부의  데이터 균형 부분 확인 \n",
    "adj_hotel['is_canceled'].value_counts()"
   ]
  },
  {
   "cell_type": "markdown",
   "id": "f95636ba",
   "metadata": {},
   "source": [
    "- 종속 변수 데이터의 균형 문제가 발생 -> 약 7:1 정도의 불균형이 발생\n",
    "    - 원본의 데이터를 그대로 유지해서 불균형을 문제를 학습이 모델이 처리하도록 실행 \n",
    "    - 오버샘플링을 이용하여 모델에 학습 \n",
    "        - 랜덤오버 샘플링 \n",
    "        - SMOTE"
   ]
  },
  {
   "cell_type": "code",
   "execution_count": 54,
   "id": "08be39a9",
   "metadata": {},
   "outputs": [
    {
     "data": {
      "text/plain": [
       "array(['No Deposit', 'Non Refund', 'Refundable'], dtype=object)"
      ]
     },
     "execution_count": 54,
     "metadata": {},
     "output_type": "execute_result"
    }
   ],
   "source": [
    "adj_hotel['deposit_type'].unique()"
   ]
  },
  {
   "cell_type": "code",
   "execution_count": 56,
   "id": "1cb49697",
   "metadata": {},
   "outputs": [],
   "source": [
    "# deposit_type이 문자형 데이터이기 때문에 0, 1, 2로 데이터를 변경 \n",
    "adj_hotel['deposit_type'] = adj_hotel['deposit_type'].map(\n",
    "    {\n",
    "        'No Deposit' : 0, \n",
    "        'Non Refund' : 1, \n",
    "        'Refundable' : 2\n",
    "    }\n",
    ")"
   ]
  },
  {
   "cell_type": "markdown",
   "id": "9eceeba1",
   "metadata": {},
   "source": [
    "1. adj_hotel에서 독립 변수와 종속변수로 데이터를 나눠준다. \n",
    "2. train, test로 데이터를 분할 (7:3)\n",
    "    - 종속 변수의 데이터의 비율로 데이터를 분할\n",
    "3. 랜덤포레스트 분류 모델을 생성\n",
    "4. train 데이터를 이용하여 학습 \n",
    "5. test데이터를 이용하여 예측\n",
    "6. 평가 지표중 정확도를 확인 "
   ]
  },
  {
   "cell_type": "code",
   "execution_count": 57,
   "id": "529dc716",
   "metadata": {},
   "outputs": [],
   "source": [
    "from sklearn.model_selection import train_test_split\n",
    "from sklearn.ensemble import RandomForestClassifier\n",
    "from sklearn.metrics import accuracy_score, classification_report\n",
    "import time"
   ]
  },
  {
   "cell_type": "code",
   "execution_count": null,
   "id": "903962e0",
   "metadata": {},
   "outputs": [],
   "source": [
    "adj_hotel.columns"
   ]
  },
  {
   "cell_type": "code",
   "execution_count": 59,
   "id": "16b50d03",
   "metadata": {},
   "outputs": [
    {
     "name": "stdout",
     "output_type": "stream",
     "text": [
      "정확도 :  0.92\n",
      "              precision    recall  f1-score   support\n",
      "\n",
      "           0       0.93      0.99      0.96      5279\n",
      "           1       0.81      0.43      0.56       720\n",
      "\n",
      "    accuracy                           0.92      5999\n",
      "   macro avg       0.87      0.71      0.76      5999\n",
      "weighted avg       0.91      0.92      0.91      5999\n",
      "\n",
      "코드 진행 시간 :  0.9382681846618652\n"
     ]
    }
   ],
   "source": [
    "# 시작 타이머 지정\n",
    "start = time.time()\n",
    "# 독립, 종속 \n",
    "x = adj_hotel.drop('is_canceled', axis=1).values\n",
    "y = adj_hotel['is_canceled'].values\n",
    "# train, test로 데이터 분할\n",
    "X_train, X_test, Y_train, Y_test = train_test_split(\n",
    "    x,y, \n",
    "    test_size=0.3,  \n",
    "    stratify=y\n",
    ")\n",
    "# 모델 생성 \n",
    "clf = RandomForestClassifier()\n",
    "# 모델 학습\n",
    "clf.fit(X_train, Y_train)\n",
    "# 모델 예측\n",
    "pred = clf.predict(X_test)\n",
    "end = time.time()\n",
    "# 평가 지표 \n",
    "print(\"정확도 : \", round(\n",
    "    accuracy_score(Y_test, pred), 2\n",
    "))\n",
    "# 분류 보고서 출력 \n",
    "print(classification_report(Y_test, pred))\n",
    "# 코드의 실행 시간 출력 \n",
    "print(\"코드 진행 시간 : \", end-start)"
   ]
  }
 ],
 "metadata": {
  "kernelspec": {
   "display_name": "Python 3",
   "language": "python",
   "name": "python3"
  },
  "language_info": {
   "codemirror_mode": {
    "name": "ipython",
    "version": 3
   },
   "file_extension": ".py",
   "mimetype": "text/x-python",
   "name": "python",
   "nbconvert_exporter": "python",
   "pygments_lexer": "ipython3",
   "version": "3.11.9"
  }
 },
 "nbformat": 4,
 "nbformat_minor": 5
}
