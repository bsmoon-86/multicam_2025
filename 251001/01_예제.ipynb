{
 "cells": [
  {
   "cell_type": "markdown",
   "id": "18aaa933",
   "metadata": {},
   "source": [
    "## 객실의 사용 여부 관련 데이터 \n",
    "1. 데이터를 로드 (hotel_bookings.csv)\n",
    "2. 데이터에 대한 정보를 확인 \n",
    "3. 해당 데이터에서 문제가 있는 부분을 확인하여 수정 "
   ]
  },
  {
   "cell_type": "code",
   "execution_count": null,
   "id": "1afd4b77",
   "metadata": {},
   "outputs": [],
   "source": [
    "import pandas as pd \n",
    "import numpy as np"
   ]
  },
  {
   "cell_type": "code",
   "execution_count": null,
   "id": "647e1827",
   "metadata": {},
   "outputs": [],
   "source": [
    "# data폴더 안에 hotel_bookings.csv 파일을 로드 \n",
    "\n",
    "# 데이터를 로드 하고 문제점(랜덤포레스트 학습)\n",
    "\n",
    "hotel = pd.read_csv(\"../data/hotel_bookings.csv\")\n",
    "hotel.head(2)"
   ]
  },
  {
   "cell_type": "code",
   "execution_count": null,
   "id": "df8fc2ed",
   "metadata": {},
   "outputs": [],
   "source": [
    "# 데이터프레임의 정보 확인 \n",
    "hotel.info()"
   ]
  },
  {
   "cell_type": "markdown",
   "id": "9d656583",
   "metadata": {},
   "source": [
    "### 해당 데이터의 컬럼의 의미 \n",
    "is_canceled : 예약 취소 여부 (0=취소 안됨 ,1=취소 )\n",
    "\n",
    "deposit_type : 보증금 유형 (No Deposit, Not Refund, Refundable)\n",
    "\n",
    "lead_time : 예약일과 실제 도착일 사이의 일수 \n",
    "\n",
    "stays_in_weekend_nights : 주말의 숙박 일수 \n",
    "\n",
    "stays_in_week_nights : 주중의 숙박 일수\n",
    "\n",
    "is_repeated_guest : 재방문 고객 여부 (0=신규, 1=재방문)\n",
    "\n",
    "previous_cancellations : 과거 예약 취소 횟수\n",
    "\n",
    "previous_bookings_not_canceled : 과거 예약 중 취소되지 않은 건수\n",
    "\n",
    "booking_changes : 예약 후 변경 횟수\n",
    "\n",
    "days_in_waiting_list : 대기자가 있었던 일수\n",
    "\n",
    "adr : 평균 일일 객실 요금"
   ]
  },
  {
   "cell_type": "code",
   "execution_count": null,
   "id": "bc8bbbdc",
   "metadata": {},
   "outputs": [],
   "source": [
    "# 결측치가 존재하는것은 확인 -> 실제 결측치의 개수를 확인 \n",
    "# 결측치가 존재 여부 함수 -> bool 타입의 데이터프레임이 생성 \n",
    "# bool의 데이터들을 합산하여 컬럼별로 확인 \n",
    "hotel.isna().sum()"
   ]
  },
  {
   "cell_type": "code",
   "execution_count": null,
   "id": "9cb5e2a5",
   "metadata": {},
   "outputs": [],
   "source": [
    "# 결측치의 비율 -> 결측치의 개수 / 데이터프레임의 길이 * 100\n",
    "print(\"lead_time 컬럼의 결측치의 비율 \", round( 5 / len(hotel) * 100 , 2 ))\n",
    "print('is_repeated_guest 컬럼의 결측치의 비율 ', \n",
    "      round( 358 / len(hotel) * 100, 2 ))\n",
    "print('adr 컬럼의 결측치의 비율 ', round( 1063 / len(hotel) * 100, 2 ))"
   ]
  },
  {
   "cell_type": "markdown",
   "id": "53ac381d",
   "metadata": {},
   "source": [
    "- lead_time 컬럼의 결측치의 비율은 매우 작기 때문에 제거 -> 결측치인 인덱스를 제외\n",
    "- is_repeated_guest는 해당 데이터에서 개수가 많은 데이터로 결측치를 채워준다. \n",
    "- adr 컬럼의 결측치는 해당 데이터들을 확인하고 특정한 조건에 맞춰서 데이터를 채워준다. "
   ]
  },
  {
   "cell_type": "code",
   "execution_count": null,
   "id": "deeb0723",
   "metadata": {},
   "outputs": [],
   "source": [
    "# lead_time의 결측치가 존재하는 인덱스를 제외 \n",
    "# 제거한다(drop) + 결측치(na) -> 결측치가 존재하는 행이나 열을 제거하는 함수 \n",
    "hotel.dropna( subset=['lead_time'], axis = 0, inplace=True)"
   ]
  },
  {
   "cell_type": "code",
   "execution_count": null,
   "id": "9602398f",
   "metadata": {},
   "outputs": [],
   "source": [
    "# 값들의 빈도수를 체크하는 함수를 사용\n",
    "hotel['is_repeated_guest'].value_counts()"
   ]
  },
  {
   "cell_type": "code",
   "execution_count": null,
   "id": "ae525acc",
   "metadata": {},
   "outputs": [],
   "source": [
    "# is_repeated_guest 컬럼의 결측치는 0으로 채워준다. \n",
    "hotel['is_repeated_guest'].fillna(0, inplace=True)"
   ]
  },
  {
   "cell_type": "code",
   "execution_count": null,
   "id": "907e717f",
   "metadata": {},
   "outputs": [],
   "source": [
    "hotel.isna().sum()"
   ]
  },
  {
   "cell_type": "code",
   "execution_count": null,
   "id": "026a9b37",
   "metadata": {},
   "outputs": [],
   "source": [
    "hotel['adr'].describe()"
   ]
  },
  {
   "cell_type": "code",
   "execution_count": null,
   "id": "febd322c",
   "metadata": {},
   "outputs": [],
   "source": [
    "# 통계 정보를 확인하니 객실 요금 평균에 음수가 존재한다. -> 이상한 데이터가 발견 \n",
    "# 이상치 데이터는 제거 \n",
    "# 인덱스의 조건식을 생성 -> 객실 요금 데이터에서 0보다 작은 \n",
    "flag = hotel['adr'] < 0\n",
    "\n",
    "hotel = hotel.loc[~flag]"
   ]
  },
  {
   "cell_type": "code",
   "execution_count": null,
   "id": "c9415d54",
   "metadata": {},
   "outputs": [],
   "source": [
    "# adr의 결측치들을 deposit_type의 값에 따라 그룹화를 하고 평균의 adr의 값을 채워준다. \n",
    "\n",
    "# deposit_type에 따른 adr의 평균값을 확인\n",
    "deposit_adr_mean = hotel.groupby(['deposit_type'])['adr'].mean().to_dict()"
   ]
  },
  {
   "cell_type": "code",
   "execution_count": null,
   "id": "6074f4ad",
   "metadata": {},
   "outputs": [],
   "source": [
    "# hotel 복사 본 생성 \n",
    "test_hotel = hotel.copy()"
   ]
  },
  {
   "cell_type": "code",
   "execution_count": null,
   "id": "adb08de2",
   "metadata": {},
   "outputs": [],
   "source": [
    "null_flag = test_hotel['adr'].isna()\n",
    "for key in  deposit_adr_mean:\n",
    "    # print(key)\n",
    "    # print(deposit_adr_mean[key])\n",
    "    # 인덱스 조건식 -> deposit_type이 key와 같다. \n",
    "    flag = test_hotel['deposit_type'] == key \n",
    "    # flag와 null_flag 두 조건식이 모두 만족하는 인덱스 필터 \n",
    "    # 첫번째 반복 시에는 deposit_type이 No Deposit이고 adr이 결측치인 데이터를 선택 \n",
    "    test_hotel.loc[flag & null_flag, 'adr'] = deposit_adr_mean[key]\n",
    "    # break"
   ]
  },
  {
   "cell_type": "code",
   "execution_count": null,
   "id": "0396d202",
   "metadata": {},
   "outputs": [],
   "source": [
    "test_hotel.isna().sum()"
   ]
  },
  {
   "cell_type": "code",
   "execution_count": null,
   "id": "00035d89",
   "metadata": {},
   "outputs": [],
   "source": [
    "# map(), apply()\n",
    "hotel['adr'].map(\n",
    "    lambda x : print(x)\n",
    ")"
   ]
  },
  {
   "cell_type": "code",
   "execution_count": null,
   "id": "3ce2f3c6",
   "metadata": {},
   "outputs": [],
   "source": [
    "hotel['adr'].apply(\n",
    "    lambda x : print(x)\n",
    ")"
   ]
  },
  {
   "cell_type": "markdown",
   "id": "9462324a",
   "metadata": {},
   "source": [
    "- 1차원 스리즈 데이터에서 map(), apply() 함수를 같은 행동은 한다. "
   ]
  },
  {
   "cell_type": "code",
   "execution_count": null,
   "id": "b50ccbc0",
   "metadata": {},
   "outputs": [],
   "source": [
    "hotel.map(\n",
    "    lambda x : print(x)\n",
    ")\n",
    "# DataFrame에서 map() 함수는 첫번째 스리즈의 values들을 모두 탐색하고\n",
    "# 다음 스리즈의 value로 넘어간다. "
   ]
  },
  {
   "cell_type": "code",
   "execution_count": null,
   "id": "c35dec52",
   "metadata": {},
   "outputs": [],
   "source": [
    "hotel.apply(\n",
    "    lambda x : print(x)\n",
    ")\n",
    "# DataFrame에서 apply() 함수는 스리즈 별로 탐색을 하는 함수 \n",
    "# 차원을 한개 축소하여 데이터를 확인 "
   ]
  },
  {
   "cell_type": "code",
   "execution_count": null,
   "id": "0005e31b",
   "metadata": {},
   "outputs": [],
   "source": [
    "# groupby() 함수와 apply()를 조합하여 \n",
    "# deposit_type에 따라서 adr의 결측치를 평균값으로 대체 \n",
    "adj_hotel = hotel.groupby('deposit_type').apply(\n",
    "    lambda x : x.fillna(x.mean())\n",
    ")"
   ]
  },
  {
   "cell_type": "code",
   "execution_count": null,
   "id": "a3e94826",
   "metadata": {},
   "outputs": [],
   "source": [
    "# adj_hotel의 인덱스 중 deposit_type 인덱스를 다시 벨류값로 넘겨온다. \n",
    "adj_hotel.info()"
   ]
  },
  {
   "cell_type": "code",
   "execution_count": null,
   "id": "5c1dbf37",
   "metadata": {},
   "outputs": [],
   "source": [
    "# 멀티인덱스인 경우 \n",
    "# 특정 인덱스만 초기화하고 싶으면 reset_index()에서 level매개변수 설정 변경 \n",
    "adj_hotel.reset_index(level='deposit_type', inplace=True)"
   ]
  },
  {
   "cell_type": "code",
   "execution_count": null,
   "id": "66702c4c",
   "metadata": {},
   "outputs": [],
   "source": [
    "# 종속 변수 -> 취소여부의  데이터 균형 부분 확인 \n",
    "adj_hotel['is_canceled'].value_counts()"
   ]
  },
  {
   "cell_type": "markdown",
   "id": "f95636ba",
   "metadata": {},
   "source": [
    "- 종속 변수 데이터의 균형 문제가 발생 -> 약 7:1 정도의 불균형이 발생\n",
    "    - 원본의 데이터를 그대로 유지해서 불균형을 문제를 학습이 모델이 처리하도록 실행 \n",
    "    - 오버샘플링을 이용하여 모델에 학습 \n",
    "        - 랜덤오버 샘플링 \n",
    "        - SMOTE"
   ]
  },
  {
   "cell_type": "code",
   "execution_count": null,
   "id": "08be39a9",
   "metadata": {},
   "outputs": [],
   "source": [
    "adj_hotel['deposit_type'].unique()"
   ]
  },
  {
   "cell_type": "code",
   "execution_count": null,
   "id": "1cb49697",
   "metadata": {},
   "outputs": [],
   "source": [
    "# deposit_type이 문자형 데이터이기 때문에 0, 1, 2로 데이터를 변경 \n",
    "adj_hotel['deposit_type'] = adj_hotel['deposit_type'].map(\n",
    "    {\n",
    "        'No Deposit' : 0, \n",
    "        'Non Refund' : 1, \n",
    "        'Refundable' : 2\n",
    "    }\n",
    ")"
   ]
  },
  {
   "cell_type": "markdown",
   "id": "9eceeba1",
   "metadata": {},
   "source": [
    "1. adj_hotel에서 독립 변수와 종속변수로 데이터를 나눠준다. \n",
    "2. train, test로 데이터를 분할 (7:3)\n",
    "    - 종속 변수의 데이터의 비율로 데이터를 분할\n",
    "3. 랜덤포레스트 분류 모델을 생성\n",
    "4. train 데이터를 이용하여 학습 \n",
    "5. test데이터를 이용하여 예측\n",
    "6. 평가 지표중 정확도를 확인 "
   ]
  },
  {
   "cell_type": "code",
   "execution_count": null,
   "id": "529dc716",
   "metadata": {},
   "outputs": [],
   "source": [
    "from sklearn.model_selection import train_test_split\n",
    "from sklearn.ensemble import RandomForestClassifier\n",
    "from sklearn.metrics import accuracy_score, classification_report\n",
    "import time"
   ]
  },
  {
   "cell_type": "code",
   "execution_count": null,
   "id": "903962e0",
   "metadata": {},
   "outputs": [],
   "source": [
    "adj_hotel.columns"
   ]
  },
  {
   "cell_type": "code",
   "execution_count": null,
   "id": "16b50d03",
   "metadata": {},
   "outputs": [],
   "source": [
    "# 시작 타이머 지정\n",
    "start = time.time()\n",
    "# 독립, 종속 \n",
    "x = adj_hotel.drop('is_canceled', axis=1).values\n",
    "y = adj_hotel['is_canceled'].values\n",
    "# train, test로 데이터 분할\n",
    "X_train, X_test, Y_train, Y_test = train_test_split(\n",
    "    x,y, \n",
    "    test_size=0.3,  \n",
    "    stratify=y\n",
    ")\n",
    "# 모델 생성 \n",
    "clf = RandomForestClassifier()\n",
    "# 모델 학습\n",
    "clf.fit(X_train, Y_train)\n",
    "# 모델 예측\n",
    "pred = clf.predict(X_test)\n",
    "end = time.time()\n",
    "# 평가 지표 \n",
    "print(\"정확도 : \", round(\n",
    "    accuracy_score(Y_test, pred), 2\n",
    "))\n",
    "# 분류 보고서 출력 \n",
    "print(classification_report(Y_test, pred))\n",
    "# 코드의 실행 시간 출력 \n",
    "print(\"코드 진행 시간 : \", end-start)"
   ]
  },
  {
   "cell_type": "code",
   "execution_count": null,
   "id": "42edadc0",
   "metadata": {},
   "outputs": [],
   "source": [
    "# 원데이터에서 랜덤 오버 샘플링 작업을 하여 샘플링이 된 데이터셋을 학습\n",
    "# 독립 변수와 종속변수를 이용하여 랜덤 오버 샘플링 \n",
    "from imblearn.over_sampling import RandomOverSampler\n",
    "from imblearn.over_sampling import SMOTE"
   ]
  },
  {
   "cell_type": "code",
   "execution_count": null,
   "id": "3bc96a12",
   "metadata": {},
   "outputs": [],
   "source": [
    "# 샘플러 생성 \n",
    "ros = RandomOverSampler(random_state=42)\n",
    "smote = SMOTE(random_state=42)"
   ]
  },
  {
   "cell_type": "code",
   "execution_count": null,
   "id": "26303fea",
   "metadata": {},
   "outputs": [],
   "source": [
    "x_over, y_over = ros.fit_resample(x, y)\n",
    "x_sm, y_sm = smote.fit_resample(x, y)"
   ]
  },
  {
   "cell_type": "code",
   "execution_count": null,
   "id": "e7712d63",
   "metadata": {},
   "outputs": [],
   "source": [
    "# train test 데이터셋 분할 \n",
    "X_train_ros , X_test_ros, \\\n",
    "    Y_train_ros, Y_test_ros = train_test_split(\n",
    "        x_over, y_over, \n",
    "        test_size=0.3, random_state=42, \n",
    "        stratify=y_over\n",
    ")\n",
    "\n",
    "X_train_sm, X_test_sm, \\\n",
    "    Y_train_sm, Y_test_sm = train_test_split(\n",
    "    x_sm, y_sm, \n",
    "    test_size=0.3, random_state=42, \n",
    "    stratify=y_sm\n",
    ")"
   ]
  },
  {
   "cell_type": "code",
   "execution_count": null,
   "id": "62d432c0",
   "metadata": {},
   "outputs": [],
   "source": [
    "# Random Over Sampling을 한 데이터를 이용하여 랜덤포레스트의 학습, 검증\n",
    "start = time.time()\n",
    "clf_ros = RandomForestClassifier()\n",
    "clf_ros.fit(X_train_ros, Y_train_ros)\n",
    "pred_ros = clf_ros.predict(X_test_ros)\n",
    "end = time.time()\n",
    "print(classification_report(Y_test_ros, pred_ros))\n",
    "print(\"RandomOver 데이터의 소요 시간 : \", end-start)"
   ]
  },
  {
   "cell_type": "code",
   "execution_count": 68,
   "id": "b13bb948",
   "metadata": {},
   "outputs": [
    {
     "name": "stdout",
     "output_type": "stream",
     "text": [
      "              precision    recall  f1-score   support\n",
      "\n",
      "           0       0.92      0.98      0.95      5279\n",
      "           1       0.98      0.92      0.95      5278\n",
      "\n",
      "    accuracy                           0.95     10557\n",
      "   macro avg       0.95      0.95      0.95     10557\n",
      "weighted avg       0.95      0.95      0.95     10557\n",
      "\n",
      "SMOTE 데이터의 소요 시간 :  1.7264037132263184\n"
     ]
    }
   ],
   "source": [
    "# SMOTE을 이용하여 랜덤포레스트에 학습, 검증\n",
    "start = time.time()\n",
    "clf_sm = RandomForestClassifier()\n",
    "clf_sm.fit(X_train_sm, Y_train_sm)\n",
    "pred_sm = clf_sm.predict(X_test_sm)\n",
    "end = time.time()\n",
    "print(classification_report(Y_test_sm, pred_sm))\n",
    "print(\"SMOTE 데이터의 소요 시간 : \", end-start)"
   ]
  }
 ],
 "metadata": {
  "kernelspec": {
   "display_name": "Python 3",
   "language": "python",
   "name": "python3"
  },
  "language_info": {
   "codemirror_mode": {
    "name": "ipython",
    "version": 3
   },
   "file_extension": ".py",
   "mimetype": "text/x-python",
   "name": "python",
   "nbconvert_exporter": "python",
   "pygments_lexer": "ipython3",
   "version": "3.11.9"
  }
 },
 "nbformat": 4,
 "nbformat_minor": 5
}
