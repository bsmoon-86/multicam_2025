{
 "cells": [
  {
   "cell_type": "markdown",
   "id": "6496bf1a",
   "metadata": {},
   "source": [
    "# 이상치 \n",
    "- 결측치, 범위에서 벗어나는 데이터, 값이 크게 벗어나는 데이터 \n",
    "- 분석 모델의 성능을 떨어뜨리거나 결과에 악영향을 미치는 경우가 발생 \n",
    "- 이상치는 발견 시에 특정한 데이터로 대체, 삭제 \n",
    "- 결측치를 확인하는 방법\n",
    "    - isna()를 이용하여 결측치의 유무를 판단하고 sum()을 이용해서 결측치의 개수를 확인\n",
    "    - info()를 이용하여 non-null count를 보고 결측치의 존재를 파악 \n",
    "- 특정 범위에 벗어나는 데이터 확인하는 방법 \n",
    "    - isin()을 이용하여 특정 데이터의 포함 여부를 확인하고 전제 데이터를 비트연산자(~) 부정을 하고 확인 가능 \n",
    "    - value_counts()를 이용하여 데이터의 개수를 보고 확인 가능 \n",
    "    - unique()를 이용하여 확인 가능 \n",
    "- 극단치( 값이 크게 벗어나는 데이터 )\n",
    "    - IQR 방식 \n",
    "        - matplot 안에 boxplot의 이상치를 결정하는 방법 \n",
    "        - Q3(3사분위수)와 Q1(1사분위수)를 이용하여 범위를 지정 \n",
    "        - IQR = Q3 - Q1\n",
    "        - 극단치의 경계 \n",
    "            - 상단의 경계 : Q3 + 1.5 * IQR\n",
    "            - 하단의 경계 : Q1 - 1.5 * IQR\n",
    "        - 많은 데이터들이 극단치로 판단이 될 가능성이 존재\n",
    "        - 1.5의 값을 조절해서 극단치의 범위를 변경"
   ]
  },
  {
   "cell_type": "code",
   "execution_count": null,
   "id": "fbdc71ec",
   "metadata": {},
   "outputs": [],
   "source": [
    "# 라이브러리 로드 \n",
    "import pandas as pd\n",
    "import numpy as np \n",
    "import matplotlib.pyplot as plt\n",
    "from sklearn.datasets import load_wine"
   ]
  },
  {
   "cell_type": "code",
   "execution_count": null,
   "id": "aa7d3731",
   "metadata": {},
   "outputs": [],
   "source": [
    "# 샘플 데이터를 로드 \n",
    "wine_data = load_wine()"
   ]
  },
  {
   "cell_type": "code",
   "execution_count": null,
   "id": "aeadd99d",
   "metadata": {},
   "outputs": [],
   "source": [
    "wine_data"
   ]
  },
  {
   "cell_type": "markdown",
   "id": "085d83ac",
   "metadata": {},
   "source": [
    "- sklearn 라이브러리에서 sample data의 키\n",
    "    - data\n",
    "        - 독립변수 \n",
    "        - 머신러닝에서 문제 (학습 데이터)\n",
    "    - target\n",
    "        - 종속변수 \n",
    "        - 독립변수를 이용하여 예측에 대한 답\n",
    "    - frame\n",
    "        - 독립변수와 종속변수 데이터를 데이터프레임으로 제공 \n",
    "        - 데이터가 존재하는 경우와 존재하지 않는 경우가 있다. \n",
    "    - DESCR\n",
    "        - 데이터의 정보를 확인 \n",
    "    - feature_names\n",
    "        - 피쳐(컬럼)의 이름을 의미\n",
    "    - target_names\n",
    "        - 종속변수의 의미 "
   ]
  },
  {
   "cell_type": "code",
   "execution_count": null,
   "id": "b72d1d53",
   "metadata": {},
   "outputs": [],
   "source": [
    "wine_data['DESCR']"
   ]
  },
  {
   "cell_type": "code",
   "execution_count": null,
   "id": "3e1f5cfa",
   "metadata": {},
   "outputs": [],
   "source": [
    "wine = pd.DataFrame(\n",
    "    data = wine_data['data'], \n",
    "    columns = wine_data['feature_names']\n",
    ")\n",
    "wine.head()"
   ]
  },
  {
   "cell_type": "code",
   "execution_count": null,
   "id": "00f3ddbf",
   "metadata": {},
   "outputs": [],
   "source": [
    "# target data로 데이터프레임에 추가 -> 파생변수 생성\n",
    "wine['class'] = wine_data['target']"
   ]
  },
  {
   "cell_type": "code",
   "execution_count": null,
   "id": "17097923",
   "metadata": {},
   "outputs": [],
   "source": [
    "wine.info()"
   ]
  },
  {
   "cell_type": "code",
   "execution_count": null,
   "id": "93fcfd51",
   "metadata": {},
   "outputs": [],
   "source": [
    "# 특정 컬럼을 선택해서 boxplot()를 그린다. \n",
    "plt.boxplot(wine['color_intensity'])\n",
    "plt.show()"
   ]
  },
  {
   "cell_type": "code",
   "execution_count": null,
   "id": "c110e411",
   "metadata": {},
   "outputs": [],
   "source": [
    "# 사분위수를 describe()를 이용하여 출력이 가능\n",
    "wine['color_intensity'].describe()['75%']"
   ]
  },
  {
   "cell_type": "code",
   "execution_count": null,
   "id": "080e5e76",
   "metadata": {},
   "outputs": [],
   "source": [
    "# numpy를 이용하여 사분위수를 출력 \n",
    "q_1, q_3 = np.percentile(\n",
    "    wine['color_intensity'], \n",
    "    [25, 75]\n",
    ")"
   ]
  },
  {
   "cell_type": "code",
   "execution_count": null,
   "id": "f080f7ad",
   "metadata": {},
   "outputs": [],
   "source": [
    "# IQR계산 : 3사분위수 - 1사분위수\n",
    "iqr = q_3 - q_1\n",
    "# 상단의 경계 값 : 3사분위수 + (1.5 * IQR) \n",
    "upper_whis = q_3 + (1.5 * iqr)\n",
    "# 하단의 경계 값 : 1사분위수 - (1.5 * IQR)\n",
    "lower_whis = q_1 - (1.5 * iqr)\n",
    "print(upper_whis, lower_whis)"
   ]
  },
  {
   "cell_type": "code",
   "execution_count": null,
   "id": "0e2d18e9",
   "metadata": {},
   "outputs": [],
   "source": [
    "# 상단의 경계 값보다 크거나 하단의 경계보다 작은 데이터를 확인 \n",
    "flag = (wine['color_intensity'] > upper_whis) | (wine['color_intensity'] < lower_whis)"
   ]
  },
  {
   "cell_type": "code",
   "execution_count": null,
   "id": "a245d165",
   "metadata": {},
   "outputs": [],
   "source": [
    "wine.loc[flag, ]"
   ]
  },
  {
   "cell_type": "markdown",
   "id": "0f752933",
   "metadata": {},
   "source": [
    "- 극단치의 데이터를 제거하는 방법 \n",
    "    - drop()를 이용하여 제거 \n",
    "    - 극단치의 경계식인 flag를 부정(~)하여 필터링\n",
    "    - 극단치의 데이터를 결측치로 대체하고 결측치를 제거하는 함수를 이용\n",
    "        - 특정 컬럼들의 극단치를 확인하여 결측치로 대체하고 독립변수들의 결측치 존재 유무를 행 단위로 파악하여 극단치의 개수를 확인하고 제거할지 정한다. \n",
    "- 극단치의 데이터를 특정 데이터로 대체\n",
    "    - Series = 단일데이터 -> 스리즈의 모든 value가 단일데이터로 변경 \n",
    "        - series -> 극단치의 상단 / 하단 경계 , 특정 컬럼명  = 상단 / 하단 경계 값\n",
    "    - 대입 연산자를 사용하기 전에 백업 데이터를 구성"
   ]
  },
  {
   "cell_type": "code",
   "execution_count": null,
   "id": "0c4bf35f",
   "metadata": {},
   "outputs": [],
   "source": [
    "# 백업 데이터 생성\n",
    "df = wine.copy()"
   ]
  },
  {
   "cell_type": "code",
   "execution_count": null,
   "id": "7ec722a1",
   "metadata": {},
   "outputs": [],
   "source": [
    "# 극단치의 경계의 데이터를 특정 값으로 대체 \n",
    "# 상단의 경계보다 큰 조건식 -> 참인 경우 color_intensity 데이터를 upper_whis 대체\n",
    "upper_flag = df['color_intensity'] > upper_whis\n",
    "# 하단의 경계보다 작은 조건식 -> 참인 경우 color_intensity 데이터를 lower_whis 대체\n",
    "lower_flag = df['color_intensity'] < lower_whis"
   ]
  },
  {
   "cell_type": "code",
   "execution_count": null,
   "id": "fdaf1eea",
   "metadata": {},
   "outputs": [],
   "source": [
    "df.loc[upper_flag, 'color_intensity'] = upper_whis"
   ]
  },
  {
   "cell_type": "code",
   "execution_count": null,
   "id": "7c399f03",
   "metadata": {},
   "outputs": [],
   "source": [
    "df.loc[lower_flag, 'color_intensity'] = lower_whis"
   ]
  },
  {
   "cell_type": "code",
   "execution_count": null,
   "id": "258b0ee4",
   "metadata": {},
   "outputs": [],
   "source": [
    "df.loc[flag, ]"
   ]
  },
  {
   "cell_type": "markdown",
   "id": "a71573c1",
   "metadata": {},
   "source": [
    "- 극단치를 확인하고 처리할수 있는 함수 생성 \n",
    "    - 매개변수 4개 \n",
    "        - data -> 필수항목 -> 데이터프레임\n",
    "        - cols -> 컬럼을 선택 -> 인자의 개수가 가변인 경우 -> 인자가 0개라면 모든 컬럼\n",
    "        - cnt -> 극단치의 범위 지정 -> 기본값은 1.5\n",
    "        - type -> 되돌려주는 데이터의 타입 -> 기본값은 'dict' -> dict인 경우에는 key를 컬럼의 이름 value는 해당 컬럼의 극단치에 해당하는 데이터프레임 -> df인 경우에는 극단치에 해당하는 데이터들을 결측치로 대체\n",
    "    - 기준이 되는 컬럼의 개수만큼 반복 실행 \n",
    "        - 컬럼의 데이터에서 iqr을 구하고 상단의 경계, 하단의 경계 값을 변수에 저장 \n",
    "        - type이 dict이라면\n",
    "            - 데이터프레임에서 해당 경계를 벗어나는 부분을 데이터프레임으로 생성 \n",
    "            - 빈 dict에 데이터를 채워준다. \n",
    "            - 반복을 종료하고 dict를 되돌려준다\n",
    "        - type이 df라면 \n",
    "            - 데이터프레임에서 해당 경계를 벗어나느 부분을 결측치로 채워준다. \n",
    "            - 반복을 종료하고 데이터프레임을 되돌려준다\n"
   ]
  },
  {
   "cell_type": "code",
   "execution_count": null,
   "id": "8936b15e",
   "metadata": {},
   "outputs": [],
   "source": [
    "def outlier_iqr(_data, *_cols, _cnt = 1.5, _type='dict'):\n",
    "    # 입력받은 데이터프레임의 복사본을 생성 \n",
    "    df = _data.copy()\n",
    "    # _cols의 개수가 0개라면 모든 컬럼을 선택 \n",
    "    if _cols:\n",
    "        # _cols의 데이터가 존재하는 경우 \n",
    "        cols = _cols\n",
    "    else:\n",
    "        # _cols에 데이터가 존재하지 않는 경우\n",
    "        cols = df.columns\n",
    "    # 빈 딕셔너리 생성 \n",
    "    result = dict()\n",
    "    # cols를 기준으로 반복문을 생성\n",
    "    for col in cols:\n",
    "        try:\n",
    "            # 컬럼의 데이터가 숫자가 아니라면 에러가 발생 -> 예외처리 \n",
    "            # 1사분위, 3사분위 수를 변수에 저장 \n",
    "            q_1, q_3 = np.percentile( df[col] , [25, 75] )\n",
    "            # iqr 생성\n",
    "            iqr = q_3 - q_1\n",
    "            # 상단 경계 값 생성 \n",
    "            upper_whis = q_3 + (_cnt * iqr)\n",
    "            # 하단 경계 값 생성\n",
    "            lower_whis = q_1 - (_cnt * iqr)\n",
    "            print(f\"\"\"\n",
    "                    column : {col}, \n",
    "                    upper_whis : {upper_whis}, \n",
    "                    lower_whis : {lower_whis}\n",
    "                \"\"\")\n",
    "            # 조건식 생성 (상단에 경계보다 크거나 하단의 경계보다 작은 경우)\n",
    "            flag = (df[col] > upper_whis) | (df[col] < lower_whis) \n",
    "            # _type에 따라 행동을 다르게 구현 \n",
    "            if _type == 'dict':\n",
    "                # 극단치의 경계 데이터를 필터링\n",
    "                outlier = df.loc[flag, ]\n",
    "                # 빈 딕셔너리에 outlier을 추가 \n",
    "                result[col] = outlier\n",
    "            elif _type == 'df': \n",
    "                # 극단치의 경계 밖에 있는 데이터를 결측치로 대체\n",
    "                df.loc[flag, col] = np.nan\n",
    "            else:\n",
    "                print('_type의 값이 잘못되었습니다 dict, df를 선택하세요')\n",
    "                return ''\n",
    "        except Exception as e:\n",
    "            print(\"error : \", e)\n",
    "            print('column : ', col)\n",
    "    if _type == 'df':\n",
    "        result = df\n",
    "    return result"
   ]
  },
  {
   "cell_type": "code",
   "execution_count": null,
   "id": "8d8ab8e2",
   "metadata": {},
   "outputs": [],
   "source": [
    "outlier = outlier_iqr(wine, _type = 'df')"
   ]
  },
  {
   "cell_type": "code",
   "execution_count": 32,
   "id": "d63a742d",
   "metadata": {},
   "outputs": [
    {
     "data": {
      "text/plain": [
       "alcohol                         0\n",
       "malic_acid                      3\n",
       "ash                             3\n",
       "alcalinity_of_ash               4\n",
       "magnesium                       4\n",
       "total_phenols                   0\n",
       "flavanoids                      0\n",
       "nonflavanoid_phenols            0\n",
       "proanthocyanins                 2\n",
       "color_intensity                 4\n",
       "hue                             1\n",
       "od280/od315_of_diluted_wines    0\n",
       "proline                         0\n",
       "class                           0\n",
       "dtype: int64"
      ]
     },
     "execution_count": 32,
     "metadata": {},
     "output_type": "execute_result"
    }
   ],
   "source": [
    "outlier.isna().sum()"
   ]
  },
  {
   "cell_type": "code",
   "execution_count": null,
   "id": "b6fe4ddc",
   "metadata": {},
   "outputs": [],
   "source": []
  }
 ],
 "metadata": {
  "kernelspec": {
   "display_name": "Python 3",
   "language": "python",
   "name": "python3"
  },
  "language_info": {
   "codemirror_mode": {
    "name": "ipython",
    "version": 3
   },
   "file_extension": ".py",
   "mimetype": "text/x-python",
   "name": "python",
   "nbconvert_exporter": "python",
   "pygments_lexer": "ipython3",
   "version": "3.11.9"
  }
 },
 "nbformat": 4,
 "nbformat_minor": 5
}
