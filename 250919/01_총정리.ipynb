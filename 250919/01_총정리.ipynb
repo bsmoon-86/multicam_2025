{
 "cells": [
  {
   "cell_type": "markdown",
   "id": "4b1bc09a",
   "metadata": {},
   "source": [
    "# 변수 \n",
    "- 데이터가 저장되는 공간의 이름 (접근성 좋아짐)\n",
    "    - 데이터 종류\n",
    "        - 단일 데이터 \n",
    "            - 문자(str) \n",
    "            - 숫자(int / float)\n",
    "            - bool(참/거짓)\n",
    "        - 다차원 데이터 \n",
    "            - tuple\n",
    "            - list\n",
    "            - dict\n",
    "    - 변수의 종류\n",
    "        - 전역 변수 \n",
    "            - 어디서든 사용이 가능한 변수 \n",
    "            - globals()를 이용하여 확인 \n",
    "        - 지역 변수 \n",
    "            - 특정한 영역에서만 사용이 가능\n",
    "            - 함수 내에서 생성된 변수나 매개변수등이 지역변수의 대표적인 예\n",
    "        - 매개 변수\n",
    "            - 함수가 호출될때 입력 값(인자)을 받아오기 위한 공간의 이름\n",
    "            - 기본 값을 지정하여 인자가 없더라도 기본값을 이용하여 함수가 실행\n",
    "            - 인자의 개수가 가변인 경우 변수명 앞에 *붙여서 변수를 생성\n",
    "        - 객체 변수\n",
    "            - class 내부에서 사용을 하는 데이터들을 저장하는 공간의 이름 \n",
    "            - self.변수명을 이용하여 데이터들을 저장 \n",
    "            - 생성이 되는 class마다 독립적인 데이터를 저장\n",
    "        - 클래스 변수 \n",
    "            - class 내부에서 사용하는 데이터들을 저장하는 공간의 이름\n",
    "            - 클래스 선언시 함수와 같은 영역에 변수를 생성 \n",
    "            - 같은 class가 생성이 될때 서로 공유할 수 있는 변수"
   ]
  },
  {
   "cell_type": "code",
   "execution_count": null,
   "id": "444bcb03",
   "metadata": {},
   "outputs": [],
   "source": [
    "# python에서는 변수를 생성할때 데이터가 같이 대입 \n",
    "vari_1 = \"hello\"\n",
    "print(vari_1)"
   ]
  },
  {
   "cell_type": "code",
   "execution_count": null,
   "id": "918e25b1",
   "metadata": {},
   "outputs": [],
   "source": [
    "def func_1():\n",
    "    result = 1111\n",
    "    return result\n",
    "a = func_1()\n",
    "print(a)"
   ]
  },
  {
   "cell_type": "code",
   "execution_count": null,
   "id": "29da2c69",
   "metadata": {},
   "outputs": [],
   "source": [
    "# result는 함수 내부에서 생성된 지역 변수임으로 외부에서는 사용이 불가능\n",
    "# print(result)"
   ]
  },
  {
   "cell_type": "code",
   "execution_count": null,
   "id": "ddb5bf0c",
   "metadata": {},
   "outputs": [],
   "source": [
    "def func_2():\n",
    "    result = 1111\n",
    "    print(result)"
   ]
  },
  {
   "cell_type": "code",
   "execution_count": null,
   "id": "5ef4c54b",
   "metadata": {},
   "outputs": [],
   "source": [
    "b = func_2()\n",
    "print(b)"
   ]
  },
  {
   "cell_type": "code",
   "execution_count": null,
   "id": "01a34620",
   "metadata": {},
   "outputs": [],
   "source": [
    "# bool -> True / False 2가지의 타입을 가진 데이터 \n",
    "# 조건식에서 사용 -> if문, while문\n",
    "# 조건식이 들어가는 부분에서 변수를 사용을 하는 경우가 종종 발생\n",
    "# 변수를 강제적으로 bool형태로 변환\n",
    "# 문자 타입의 강제 bool 변환 \n",
    "print(bool('a'))    # True\n",
    "print(bool(' '))    # True\n",
    "print(bool(''))     # False"
   ]
  },
  {
   "cell_type": "markdown",
   "id": "699dbb30",
   "metadata": {},
   "source": [
    "# 경로 \n",
    "- 절대 경로\n",
    "    - 절대적인 주소 값\n",
    "    - 어떤 환경에서도 같은 위치를 나타낸다. \n",
    "        - 환경 -> 컴퓨터 \n",
    "    - ex\n",
    "        - c:/users/admin/document/a.txt\n",
    "            - 컴퓨터 안에 파일들을 불러오는 경우에는 절대 경로보다는 상대 경로를 사용이 유리 \n",
    "        - https://www.google.com\n",
    "            - url 이용시에는 절대 경로로 사용\n",
    "        - Database server의 주소를 이용하는 경우 절대 경로 사용\n",
    "- 상대 경로\n",
    "    - 상대적인 주소 값\n",
    "    - 환경이 변경되었을 때 위치도 변화한다. \n",
    "        - ./ : 현재 작업중인 디렉토리(경로)\n",
    "        - ../ : 현재 디렉토리 상위 디렉토리로 이동\n",
    "        - 디렉토리명(폴더명)/ : 하위 디렉토리 이동"
   ]
  },
  {
   "cell_type": "code",
   "execution_count": null,
   "id": "f980ee99",
   "metadata": {},
   "outputs": [],
   "source": [
    "import pandas as pd "
   ]
  },
  {
   "cell_type": "code",
   "execution_count": null,
   "id": "ecb4e549",
   "metadata": {},
   "outputs": [],
   "source": [
    "# 절대 경로를 이용하여 csv 파일 불러오기 \n",
    "df = pd.read_csv(r\"C:\\Users\\ekfla\\Documents\\GitHub\\multicam_2025\\csv\\AAPL.csv\")"
   ]
  },
  {
   "cell_type": "code",
   "execution_count": null,
   "id": "15288469",
   "metadata": {},
   "outputs": [],
   "source": [
    "# 상대 경로를 이용하여 csv 파일 불러오기 \n",
    "df2 = pd.read_csv(\"../csv/AAPL.csv\")"
   ]
  },
  {
   "cell_type": "markdown",
   "id": "b52a5980",
   "metadata": {},
   "source": [
    "# 함수  \n",
    "- 특정 행동(기능)을 특정 공간에 저장하여 함수의 이름을 호출하여 반복적으로 사용\n",
    "- 사용하는 이유? -> 같은 행동을 여러 곳에서 사용하는 경우 함수를 이용한다면 코드의 라인이 줄어들고 가독성이 올라가고 오류가 날 확률이 줄어든다. \n",
    "- def 키워드를 이용해서 함수를 생성 \n",
    "- 이름없는 함수 :  lambda 함수\n",
    "    - 간단한 작업을 특정 영역에서 반복적으로 실행을 할때 사용\n",
    "    - map()함수나 apply()함수에서 자주 사용\n",
    "- 재귀함수\n",
    "    - 내가 나 자신을 호출 하는 함수 \n",
    "    - 루프를 돌려서 반복 실행하고 특정 결과가 완성되었을때 출력을 돌려주는 함수\n",
    "    - 일반적인 반복문을 이용하는 것보다 가독성이 올라간다. "
   ]
  },
  {
   "cell_type": "code",
   "execution_count": null,
   "id": "a4b313d2",
   "metadata": {},
   "outputs": [],
   "source": [
    "# 매개변수가 존재하지 않는 함수 생성 \n",
    "def func_3():\n",
    "    # 함수가 호출될때 일반적으로 동일한 데이터를 되돌려준다. \n",
    "    result = \"Hello\"\n",
    "    return result"
   ]
  },
  {
   "cell_type": "code",
   "execution_count": null,
   "id": "38c5860c",
   "metadata": {},
   "outputs": [],
   "source": [
    "func_3()"
   ]
  },
  {
   "cell_type": "code",
   "execution_count": null,
   "id": "2c4b0474",
   "metadata": {},
   "outputs": [],
   "source": [
    "# 매개변수가 존재하는 함수 \n",
    "def func_4(x, y):\n",
    "    # x, y는 함수가 호출될때 입력 값들이 대입이 되는 공간\n",
    "    # 매개변수가 2개인 함수는 호출시 인자도 2개 \n",
    "    result = x + y \n",
    "    return result"
   ]
  },
  {
   "cell_type": "code",
   "execution_count": null,
   "id": "8f5f462c",
   "metadata": {},
   "outputs": [],
   "source": [
    "func_4(10, 2)"
   ]
  },
  {
   "cell_type": "code",
   "execution_count": null,
   "id": "afafadae",
   "metadata": {},
   "outputs": [],
   "source": [
    "# 매개변수가 2개 인데 호출이 인자의 개수가 다르다면?\n",
    "# 에러 발생 \n",
    "# func_4(10, 3, 2)"
   ]
  },
  {
   "cell_type": "code",
   "execution_count": null,
   "id": "a593f707",
   "metadata": {},
   "outputs": [],
   "source": [
    "# 매개변수에 기본값을 설정한 함수 \n",
    "def load_data( servicekey, cnt = 10 ):\n",
    "    # servicekey 매개변수는 입력이 필수 항목\n",
    "    # cnt 매개변수는 기본값이 설정되어있으므로 선택 항목\n",
    "    # servicekey 확인 \n",
    "    if servicekey == 'abcd':\n",
    "        df = pd.read_csv(\"../csv/boston.csv\")\n",
    "        result = df.head(cnt).to_dict(orient='records')\n",
    "    else:\n",
    "        result = \"등록된 servicekey가 아닙니다.\"\n",
    "    return result\n",
    "    "
   ]
  },
  {
   "cell_type": "code",
   "execution_count": null,
   "id": "78f3b2ae",
   "metadata": {},
   "outputs": [],
   "source": [
    "len(load_data('abcd'))"
   ]
  },
  {
   "cell_type": "code",
   "execution_count": null,
   "id": "5d4eba64",
   "metadata": {},
   "outputs": [],
   "source": [
    "load_data('aaaa')"
   ]
  },
  {
   "cell_type": "code",
   "execution_count": null,
   "id": "192224c2",
   "metadata": {},
   "outputs": [],
   "source": [
    "len(load_data( 'abcd', cnt = 20 ))"
   ]
  },
  {
   "cell_type": "code",
   "execution_count": null,
   "id": "54b617e2",
   "metadata": {},
   "outputs": [],
   "source": [
    "# 인자의 개수가 가변인 경우 매개변수 생성하는 함수 \n",
    "def func_5( x, *y ):\n",
    "    print(type(x))\n",
    "    print(type(y))"
   ]
  },
  {
   "cell_type": "code",
   "execution_count": null,
   "id": "fbcaa4d1",
   "metadata": {},
   "outputs": [],
   "source": [
    "func_5('a', 'b', 'c', 'd')"
   ]
  },
  {
   "cell_type": "code",
   "execution_count": null,
   "id": "9ef0e99f",
   "metadata": {},
   "outputs": [],
   "source": [
    "func_5(1, 2, 3, 4)"
   ]
  },
  {
   "cell_type": "code",
   "execution_count": null,
   "id": "59ebf271",
   "metadata": {},
   "outputs": [],
   "source": [
    "def func_6(*_numbers, _type):\n",
    "    \n",
    "    if _type == 'sum':\n",
    "        result = 0\n",
    "        for num in _numbers:\n",
    "            result += num\n",
    "    else:\n",
    "        result = 1\n",
    "        for num in _numbers:\n",
    "            result *= num\n",
    "    return result "
   ]
  },
  {
   "cell_type": "code",
   "execution_count": null,
   "id": "72a0239d",
   "metadata": {},
   "outputs": [],
   "source": [
    "input_type = 'sum'\n",
    "input_numbers = [1,2,3,4,5]"
   ]
  },
  {
   "cell_type": "code",
   "execution_count": null,
   "id": "76a5ab23",
   "metadata": {},
   "outputs": [],
   "source": [
    "func_6(*input_numbers, _type = input_type)"
   ]
  },
  {
   "cell_type": "markdown",
   "id": "346f4ae8",
   "metadata": {},
   "source": [
    "# class \n",
    "- 변수, 함수들의 모음 \n",
    "- 특징\n",
    "    - 동일한 class가 여러 곳(변수)에서 생성(사용)이 가능\n",
    "    - 여러 곳에서 같은 기능을 사용이 가능\n",
    "- python에서 클래스를 사용하는 이유?\n",
    "    - python의 모든 데이터의 타입은 class 구성\n",
    "    - 같은 class를 생성하여도 독립적인 데이터를 이용해서 함수를 사용이 가능\n",
    "- 상속\n",
    "    - 부모 클래스에 있는 변수, 함수들을 자식 클래스가 사용하도록 물려받는 기능\n",
    "    - 부모 클래스에서의 기능은 그대로 유지한 채로 자식 클래스에서는 그 외의 기능들을 추가해서 사용\n",
    "    - 파일을 분할 관리 하듯이 클래스도 기능별 각각 분할하여 관리 가능"
   ]
  },
  {
   "cell_type": "code",
   "execution_count": null,
   "id": "0f322ca1",
   "metadata": {},
   "outputs": [],
   "source": [
    "# 특정 경로에 있는 파일의 목록을 불러와서 \n",
    "# 파일들을 모두 로드 하는 방법 \n",
    "import os \n",
    "from glob import glob"
   ]
  },
  {
   "cell_type": "code",
   "execution_count": null,
   "id": "4a727ed8",
   "metadata": {},
   "outputs": [],
   "source": [
    "# 특정 경로에 있는 파일의 목록을 불러온다. \n",
    "# 목록(list) + 디렉토리(dir)\n",
    "os.listdir( \"../csv\" )"
   ]
  },
  {
   "cell_type": "code",
   "execution_count": null,
   "id": "a677ab05",
   "metadata": {},
   "outputs": [],
   "source": [
    "glob(\"../csv/*.csv\")"
   ]
  },
  {
   "cell_type": "markdown",
   "id": "fa924377",
   "metadata": {},
   "source": [
    "## 특정 경로에 있는 데이터 파일을 모두 로드 \n",
    "- 파일 로드의 방식\n",
    "    1. os 라이브러리 안에 있는 listdir() \n",
    "    2. glob 라이브러리 안에 있는 glob()\n",
    "- 파일의 저장 방식\n",
    "    1. 각각의 전역 변수에 저장 \n",
    "    2. 하나의 []에 저장\n",
    "    3. 하나의 데이터프레임으로 결합(단순한 행 결합 UNION)\n"
   ]
  },
  {
   "cell_type": "markdown",
   "id": "bb9b4dd0",
   "metadata": {},
   "source": []
  }
 ],
 "metadata": {
  "kernelspec": {
   "display_name": "Python 3",
   "language": "python",
   "name": "python3"
  },
  "language_info": {
   "codemirror_mode": {
    "name": "ipython",
    "version": 3
   },
   "file_extension": ".py",
   "mimetype": "text/x-python",
   "name": "python",
   "nbconvert_exporter": "python",
   "pygments_lexer": "ipython3",
   "version": "3.11.9"
  }
 },
 "nbformat": 4,
 "nbformat_minor": 5
}
