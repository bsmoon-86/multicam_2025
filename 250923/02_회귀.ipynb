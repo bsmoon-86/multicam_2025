{
 "cells": [
  {
   "cell_type": "markdown",
   "id": "51cad9de",
   "metadata": {},
   "source": [
    "# 회귀분석 \n",
    "- 회귀 분석은 실젯값과 예측값의 차이를 기반으로 한 지표들을 중심으로 성능 평가 지표\n",
    "- 실젯값과 예측값의 차이를 구해서 이것들을 단순 합산을 하면 양수와 음수가 섞여있기 때문에 문제 발생 \n",
    "\n",
    "### MAE\n",
    "    - 실젯값과 예측값의 차이를 절댓값으로 변환 평균을 구한 값\n",
    "    - 에러의 크기가 그대로 반영 \n",
    "    - 이상치에 영향을 받는다. \n",
    "\n",
    "### MSE\n",
    "    - 실젯값과 예측값의 차이를 제곱을 한 값의 평균을 구한 값\n",
    "    - 실젯값과 예측값의 면적 합을 의미 \n",
    "    - 이상치에 영향을 받는다. \n",
    "\n",
    "### RMSE\n",
    "    - MSE의 값에 루트를 씌운 값 \n",
    "    - 에러에 제곱을 하면 에러가 클수록 그에 따른 가중치가 높이 반영\n",
    "    - 손실이 기하급수적으로 증가하는 상황에서 실제 오류 평균보다 값이 커지는 현상을 상쇄하기 위해 사용\n",
    "\n",
    "### MSLE\n",
    "    - 실젯값과 예측값의 차이를 제곱해 평균을 한 값(MSE)에 로그를 적용한 값\n",
    "    - RMSE와 같이 손실이 기하급수적으로 증가하는 상황에서 실제 오류 평균보다 값이 커지는 현상을 상쇄하기 위해 사용\n",
    "\n",
    "### MAPE\n",
    "    - MAE를 퍼센트로 표시 \n",
    "    - 오차가 예측값에서 차지하는 정도를 나타냄"
   ]
  },
  {
   "cell_type": "markdown",
   "id": "98823de4",
   "metadata": {},
   "source": [
    "- 회귀 분석의 순서\n",
    "1. 모델 선택하고 import \n",
    "2. 모델 객체(class)를 생성\n",
    "3. 모델을 학습 (독립 변수 + 종속 변수)\n",
    "4. 데이터(독립 변수)를 주고 예측\n",
    "5. 실제 값과 예측 값을 확인하고 오차를 체크"
   ]
  },
  {
   "cell_type": "code",
   "execution_count": null,
   "id": "389fb73b",
   "metadata": {},
   "outputs": [],
   "source": [
    "import pandas as pd\n",
    "import matplotlib.pyplot as plt \n",
    "import seaborn as sns "
   ]
  },
  {
   "cell_type": "code",
   "execution_count": null,
   "id": "f660d32e",
   "metadata": {},
   "outputs": [],
   "source": [
    "# csv 폴더 안에 있는 boston.csv 파일 로드 \n",
    "boston = pd.read_csv(\"../csv/boston.csv\")\n",
    "boston.head()"
   ]
  },
  {
   "cell_type": "code",
   "execution_count": null,
   "id": "6010b007",
   "metadata": {},
   "outputs": [],
   "source": [
    "boston.info()"
   ]
  },
  {
   "cell_type": "markdown",
   "id": "a9947551",
   "metadata": {},
   "source": [
    "- boston 데이터에서 컬럼\n",
    "    - CRIM : 범죄율 ( 해당 지역 1인당 범죄 발생 수 )\n",
    "    - ZN : 25,000 평방피트 이상 주거지역 비율\n",
    "    - INDUS : 비상업 지역(상업지구 아닌 지역) 토지 비율\n",
    "    - CHAS : 찰스강 경계 여부 (1 : 경계, 0: 비경계)\n",
    "    - NOX : 일산화질소 농도 (10ppm 단위)\n",
    "    - RM : 주택 1가구당 평균 방 개수 \n",
    "    - AGE : 1940년 이전의 지어진 주택 비율(건물이 30년 이상의 주택 비율)\n",
    "    - DIS : 작업 중심지(보스턴 5군데)까지의 가중 거리 \n",
    "    - RAD : 방사형 고속도로 접근성 지수\n",
    "    - TAX : $10,000 당 제산세율\n",
    "    - PTRATIO : 지역별 학생-교사 비율\n",
    "    - B : 인종 지수 (흑인 거주 비율)\n",
    "    - LSTAT : 저소득층 비율 (%)\n",
    "    - Price : 주택의 가격의 중앙값 "
   ]
  },
  {
   "cell_type": "code",
   "execution_count": null,
   "id": "e512bd79",
   "metadata": {},
   "outputs": [],
   "source": [
    "cols = boston.columns.difference( ['CHAS', 'Price'] )"
   ]
  },
  {
   "cell_type": "code",
   "execution_count": null,
   "id": "dd086117",
   "metadata": {},
   "outputs": [],
   "source": [
    "# subplots를 이용하여 Price와 CHAS컬럼을 제외한 나머지 컬럼들 간의 산점도 그래프 \n",
    "fig, axes = plt.subplots(nrows=3, ncols=4, figsize=(16, 10))\n",
    "\n",
    "# cols를 기준으로 반복문 실행 \n",
    "for i in range(len(cols)):\n",
    "    sns.regplot(x = cols[i], y = boston['Price'], data = boston, ax = axes.flat[i])\n",
    "\n",
    "plt.show()\n"
   ]
  },
  {
   "cell_type": "code",
   "execution_count": null,
   "id": "a5560717",
   "metadata": {},
   "outputs": [],
   "source": [
    "# subplots를 이용하여 Price와 CHAS컬럼을 제외한 나머지 컬럼들 간의 산점도 그래프 \n",
    "fig, axes = plt.subplots(nrows=3, ncols=4, figsize=(16, 10))\n",
    "\n",
    "# cols를 기준으로 반복문 실행 \n",
    "for i, col in zip(range(len(cols)), cols):\n",
    "    sns.regplot(x = col, y = boston['Price'], data = boston, ax = axes.flat[i])\n",
    "\n",
    "plt.show()"
   ]
  },
  {
   "cell_type": "code",
   "execution_count": null,
   "id": "922ff526",
   "metadata": {},
   "outputs": [],
   "source": [
    "# subplots를 이용하여 Price와 CHAS컬럼을 제외한 나머지 컬럼들 간의 산점도 그래프 \n",
    "fig, axes = plt.subplots(nrows=3, ncols=4, figsize=(16, 10))\n",
    "\n",
    "# cols를 기준으로 반복문 실행 \n",
    "for i, column in zip(range(len(cols)), cols):\n",
    "    # row = i // 4\n",
    "    row = int(i / 4)\n",
    "    col = i % 4\n",
    "    sns.regplot(x = column, y = boston['Price'], data = boston, ax = axes[row][col])\n",
    "\n",
    "plt.show()"
   ]
  },
  {
   "cell_type": "code",
   "execution_count": null,
   "id": "2586f0ec",
   "metadata": {},
   "outputs": [],
   "source": [
    "# 모든 컬럼을 기준으로 train, test 데이터셋으로 데이터 분할 \n",
    "# 독립 변수는 주택의 가격을 제외한 나머지 컬럼들 \n",
    "X = boston.drop('Price', axis=1).values\n",
    "Y = boston['Price'].values"
   ]
  },
  {
   "cell_type": "code",
   "execution_count": null,
   "id": "192f184b",
   "metadata": {},
   "outputs": [],
   "source": [
    "from sklearn.model_selection import train_test_split"
   ]
  },
  {
   "cell_type": "code",
   "execution_count": null,
   "id": "79c2781b",
   "metadata": {},
   "outputs": [],
   "source": [
    "X_train, X_test, Y_train, Y_test = train_test_split(\n",
    "    X, Y, test_size=0.2, random_state= 100\n",
    ")"
   ]
  },
  {
   "cell_type": "code",
   "execution_count": null,
   "id": "60c49b28",
   "metadata": {},
   "outputs": [],
   "source": [
    "# 종속변수의 학습 데이터와 평가 데이터의 평균을 확인 \n",
    "print(Y_train.mean())\n",
    "print(Y_test.mean())"
   ]
  },
  {
   "cell_type": "code",
   "execution_count": null,
   "id": "9f2a45ae",
   "metadata": {},
   "outputs": [],
   "source": [
    "# 모델의 선택 \n",
    "from sklearn.linear_model import LinearRegression"
   ]
  },
  {
   "cell_type": "code",
   "execution_count": null,
   "id": "39753a34",
   "metadata": {},
   "outputs": [],
   "source": [
    "# class(객체)를 생성 \n",
    "lr = LinearRegression()"
   ]
  },
  {
   "cell_type": "code",
   "execution_count": null,
   "id": "65766561",
   "metadata": {},
   "outputs": [],
   "source": [
    "# 모델에 학습 -> X_train, Y_train\n",
    "lr.fit(X_train, Y_train)"
   ]
  },
  {
   "cell_type": "code",
   "execution_count": null,
   "id": "7985c5e3",
   "metadata": {},
   "outputs": [],
   "source": [
    "# 예측 -> 독립 변수중 평가 데이터로 구성된 X_test 데이터를 대입\n",
    "pred = lr.predict(X_test)"
   ]
  },
  {
   "cell_type": "code",
   "execution_count": null,
   "id": "c80867d9",
   "metadata": {},
   "outputs": [],
   "source": [
    "pred_df = pd.DataFrame(pred, columns = ['Pred price'])\n",
    "actual_df = pd.DataFrame(Y_test, columns = ['Actual price']) \n",
    "test_df = pd.DataFrame(X_test, columns = boston.columns.difference(['Price']))"
   ]
  },
  {
   "cell_type": "code",
   "execution_count": null,
   "id": "0508ee42",
   "metadata": {},
   "outputs": [],
   "source": [
    "# 두개의 데이터프레임을 단순한 열 결합 \n",
    "pd.concat( [test_df, pred_df, actual_df], axis = 1 )"
   ]
  },
  {
   "cell_type": "code",
   "execution_count": null,
   "id": "1ffa8d4d",
   "metadata": {},
   "outputs": [],
   "source": [
    "# 평가 지표 생성 \n",
    "import numpy as np \n",
    "from sklearn.metrics import mean_absolute_error, \\\n",
    "    mean_squared_error, mean_squared_log_error, \\\n",
    "    mean_absolute_percentage_error, root_mean_squared_error"
   ]
  },
  {
   "cell_type": "code",
   "execution_count": null,
   "id": "f8025a3b",
   "metadata": {},
   "outputs": [],
   "source": [
    "mae = mean_absolute_error(Y_test, pred)\n",
    "mse = mean_squared_error(Y_test, pred)\n",
    "msle = mean_squared_log_error(Y_test, pred)\n",
    "mape = mean_absolute_percentage_error(Y_test, pred)\n",
    "rmse = root_mean_squared_error(Y_test, pred)\n",
    "rmse2 = np.sqrt(mse)"
   ]
  },
  {
   "cell_type": "code",
   "execution_count": null,
   "id": "22938ba3",
   "metadata": {},
   "outputs": [],
   "source": [
    "print(\"MAE : \", round(mae, 2))\n",
    "print(\"MSE : \", round(mse, 2))\n",
    "print(\"RMSE : \", round(rmse, 2))\n",
    "print(\"RMSE2 : \", round(rmse2, 2))\n",
    "print('MSLE : ', round(msle, 2))\n",
    "print('MAPE : ', round(mape, 2) * 100)\n"
   ]
  },
  {
   "cell_type": "code",
   "execution_count": null,
   "id": "c62603c7",
   "metadata": {},
   "outputs": [],
   "source": [
    "from sklearn.metrics import r2_score\n",
    "\n",
    "# 결정 계수 출력 \n",
    "r2 = r2_score( Y_test, pred )\n",
    "\n",
    "print(\"R2 Score : \", round(r2, 2))"
   ]
  },
  {
   "cell_type": "code",
   "execution_count": null,
   "id": "bbd15cd4",
   "metadata": {},
   "outputs": [],
   "source": [
    "# R2-score의 문제 : 컬럼(피쳐)의 개수가 많아지면 R2-Score가 증가하는 경향\n",
    "# 수정된 R2-Score 생성 \n",
    "# 1 - ( (1 - r2)*(n - 1) / (n - p - 1) )\n",
    "# X_test의 인덱스의 수\n",
    "n = X_test.shape[0]\n",
    "# X_test의 컬럼의 수\n",
    "p = X_test.shape[1]\n",
    "\n",
    "adj_r2 = 1 - ( (1 - r2) * (n - 1) / (n - p - 1) )\n",
    "\n",
    "print('Adj R2 Score : ', round(adj_r2, 2))\n"
   ]
  },
  {
   "cell_type": "code",
   "execution_count": null,
   "id": "6fc391df",
   "metadata": {},
   "outputs": [],
   "source": [
    "# 회귀계수 출력 \n",
    "print(lr.coef_)"
   ]
  },
  {
   "cell_type": "code",
   "execution_count": null,
   "id": "962c9266",
   "metadata": {},
   "outputs": [],
   "source": [
    "pd.Series(\n",
    "    lr.coef_, \n",
    "    index = boston.columns.difference(['Price'])\n",
    ")"
   ]
  },
  {
   "cell_type": "markdown",
   "id": "8fe06d69",
   "metadata": {},
   "source": [
    "- 연습 \n",
    "1. boston 데이터에서 B, CHAS, LSTAT, TAX 컬럼을 제외\n",
    "2. 독립변수는 Price를 제외한 나머지 데이터\n",
    "3. 종속변수는 Prcie 데이터 \n",
    "4. train, test 데이터를 7:3의 비율으로 나눠준다 (random_state는 42 고정)\n",
    "5. Scaler를 이용하여 train data를 스케일링 (MinMaxScaler)\n",
    "6. LinearRegression 모델을 이용하여 학습, 예측\n",
    "7. 실제값과 예측값의 평가 지표를 mae, mse, msle, r2, adj_r2 출력 "
   ]
  },
  {
   "cell_type": "code",
   "execution_count": null,
   "id": "ec400999",
   "metadata": {},
   "outputs": [],
   "source": [
    "df = boston.drop(['B', 'CHAS', 'LSTAT', 'TAX'], axis=1)"
   ]
  },
  {
   "cell_type": "code",
   "execution_count": null,
   "id": "31fec156",
   "metadata": {},
   "outputs": [],
   "source": [
    "X = df.iloc[:, :-1].values\n",
    "Y = df['Price'].values"
   ]
  },
  {
   "cell_type": "code",
   "execution_count": null,
   "id": "b7c65917",
   "metadata": {},
   "outputs": [],
   "source": [
    "X_train, X_test, Y_train, Y_test = train_test_split(\n",
    "    X, Y, test_size=0.3, random_state=42\n",
    ")"
   ]
  },
  {
   "cell_type": "code",
   "execution_count": null,
   "id": "32457c04",
   "metadata": {},
   "outputs": [],
   "source": [
    "from sklearn.preprocessing import MinMaxScaler"
   ]
  },
  {
   "cell_type": "code",
   "execution_count": null,
   "id": "8a5444bc",
   "metadata": {},
   "outputs": [],
   "source": [
    "mmscaler = MinMaxScaler()"
   ]
  },
  {
   "cell_type": "code",
   "execution_count": null,
   "id": "1c554db6",
   "metadata": {},
   "outputs": [],
   "source": [
    "mmscaler.fit(X_train)"
   ]
  },
  {
   "cell_type": "code",
   "execution_count": null,
   "id": "fc5b8c41",
   "metadata": {},
   "outputs": [],
   "source": [
    "X_train_sc = mmscaler.transform(X_train)\n",
    "X_test_sc = mmscaler.transform(X_test)"
   ]
  },
  {
   "cell_type": "code",
   "execution_count": null,
   "id": "34151fae",
   "metadata": {},
   "outputs": [],
   "source": [
    "lr = LinearRegression()"
   ]
  },
  {
   "cell_type": "code",
   "execution_count": null,
   "id": "61a096b6",
   "metadata": {},
   "outputs": [],
   "source": [
    "lr.fit(X_train_sc, Y_train)"
   ]
  },
  {
   "cell_type": "code",
   "execution_count": null,
   "id": "3cf6cf42",
   "metadata": {},
   "outputs": [],
   "source": [
    "pred_sc = lr.predict(X_test_sc)"
   ]
  },
  {
   "cell_type": "code",
   "execution_count": null,
   "id": "e368f209",
   "metadata": {},
   "outputs": [],
   "source": [
    "mae_sc = mean_absolute_error(Y_test, pred_sc)\n",
    "mse_sc = mean_squared_error(Y_test, pred_sc)\n",
    "msle_sc = mean_squared_log_error(Y_test, pred_sc)\n",
    "r2_sc = r2_score(Y_test, pred_sc)\n",
    "\n",
    "n = X_test_sc.shape[0]\n",
    "p = X_test_sc.shape[1]\n",
    "adj_r2_sc = 1 - ( (1-r2_sc)*(n - 1) / (n - p - 1) ) "
   ]
  },
  {
   "cell_type": "code",
   "execution_count": null,
   "id": "f94ed521",
   "metadata": {},
   "outputs": [],
   "source": [
    "print(round(mae, 2), round(mae_sc, 2))\n",
    "print(round(mse, 2), round(mse_sc, 2))\n",
    "print(round(msle, 2), round(msle_sc, 2))\n",
    "print(round(r2, 2), round(r2_sc, 2))\n",
    "print(round(adj_r2, 2), round(adj_r2_sc, 2))"
   ]
  },
  {
   "cell_type": "code",
   "execution_count": null,
   "id": "eb0ba067",
   "metadata": {},
   "outputs": [],
   "source": [
    "boston.corr(method='pearson')['Price'].abs().sort_values(ascending=False)"
   ]
  },
  {
   "cell_type": "code",
   "execution_count": null,
   "id": "cc7d0463",
   "metadata": {},
   "outputs": [],
   "source": []
  }
 ],
 "metadata": {
  "kernelspec": {
   "display_name": "Python 3",
   "language": "python",
   "name": "python3"
  },
  "language_info": {
   "codemirror_mode": {
    "name": "ipython",
    "version": 3
   },
   "file_extension": ".py",
   "mimetype": "text/x-python",
   "name": "python",
   "nbconvert_exporter": "python",
   "pygments_lexer": "ipython3",
   "version": "3.11.9"
  }
 },
 "nbformat": 4,
 "nbformat_minor": 5
}
