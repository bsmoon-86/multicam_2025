{
 "cells": [
  {
   "cell_type": "code",
   "execution_count": null,
   "id": "d1ccfc46",
   "metadata": {},
   "outputs": [],
   "source": [
    "import pandas as pd"
   ]
  },
  {
   "cell_type": "code",
   "execution_count": null,
   "id": "5561aa27",
   "metadata": {},
   "outputs": [],
   "source": [
    "df = pd.read_json(\"1-1.여성의류(196).json\")\n",
    "df.head()"
   ]
  },
  {
   "cell_type": "markdown",
   "id": "8debdd58",
   "metadata": {},
   "source": [
    "## 문제 \n",
    "- 데이터프레임에서 'Aspects' 컬럼에 데이터들을 이용하여 분류 모델을 생성하려 한다. \n",
    "- SentimentText 텍스트를 이용하여 'Aspect', 'SentimentPolarity'의 값들을 예측 하는 모델을 생성 \n",
    "    1. df에서 'Aspects' 데이터를 추출 \n",
    "    2. SentimentText데이터를 문자형으로 이루어져있으니 학습에 대한 데이터의 형태로 변환 (문자의 데이터를 숫자형 데이터) -> 토큰화(Okt), 벡터화(TF-IDF)\n",
    "    3. 종속 변수는 'Aspect', 'SentimentPolarity'\n",
    "    4. 분류 모델(LinearSVC) random_state만 42로 고정 \n",
    "    5. 테스트를 이용하여 분류가 잘되고 있는가? 정확도만 확인(197 데이터를 로드하여 정확도 계산)\n",
    "    - 백터화, 모델링 파이프라인으로 연결해서 사용"
   ]
  },
  {
   "cell_type": "code",
   "execution_count": null,
   "id": "62de88e8",
   "metadata": {},
   "outputs": [],
   "source": [
    "import json"
   ]
  },
  {
   "cell_type": "code",
   "execution_count": null,
   "id": "ebc706c1",
   "metadata": {},
   "outputs": [],
   "source": [
    "json.load(\n",
    "    open('1-1.여성의류(196).json', 'r', encoding='utf-8')\n",
    ")"
   ]
  },
  {
   "cell_type": "code",
   "execution_count": null,
   "id": "95c749e7",
   "metadata": {},
   "outputs": [],
   "source": [
    "test_text = [\n",
    "    '색상이 마음에 든다', \n",
    "    '설명에 비해 옷이 두껍진 않다', \n",
    "    '길이가 너무 길지도 않고 짧지도 한다.'\n",
    "]"
   ]
  },
  {
   "cell_type": "code",
   "execution_count": null,
   "id": "b4844b90",
   "metadata": {},
   "outputs": [],
   "source": [
    "# 라이브러리 로드 \n",
    "import pandas as pd \n",
    "from sklearn.preprocessing import LabelEncoder\n",
    "from sklearn.pipeline import Pipeline\n",
    "from sklearn.feature_extraction.text import TfidfVectorizer\n",
    "from sklearn.svm import LinearSVC\n",
    "from sklearn.metrics import accuracy_score"
   ]
  },
  {
   "cell_type": "code",
   "execution_count": null,
   "id": "7926e137",
   "metadata": {},
   "outputs": [],
   "source": [
    "# 데이터 로드 \n",
    "df = pd.read_json(\"1-1.여성의류(196).json\")\n",
    "df.head(1)"
   ]
  },
  {
   "cell_type": "code",
   "execution_count": null,
   "id": "1c519205",
   "metadata": {},
   "outputs": [],
   "source": [
    "# Aspects 컬럼의 데이터들을 이용하여 하나의 새로운 데이터프레임으로 생성 \n",
    "pd.DataFrame(df['Aspects'].sum())"
   ]
  },
  {
   "cell_type": "code",
   "execution_count": null,
   "id": "9294915a",
   "metadata": {},
   "outputs": [],
   "source": [
    "# 각 행의 Aspects 데이터를 추출하여 리스트에 추가 \n",
    "new_list= []\n",
    "\n",
    "# iterrows() : 데이터프레임에서 [(idx, df.loc[idx, ]), ...] 되돌려주는 \n",
    "for i, s in df.iterrows():\n",
    "    # print(s['Aspects'])\n",
    "    aspects = s['Aspects']\n",
    "    for aspect in aspects:\n",
    "        # aspect에서 'SentimentWord' 키는 제거 \n",
    "        # dict 형태의 데이터에서 특정 키를 제거 -> del\n",
    "        try:\n",
    "            del aspect['SentimentWord']\n",
    "        except:\n",
    "            pass\n",
    "        # print(aspect)\n",
    "        new_list.append(aspect)\n",
    "\n",
    "aspect_df = pd.DataFrame(new_list)\n",
    "        "
   ]
  },
  {
   "cell_type": "code",
   "execution_count": null,
   "id": "a66cdeee",
   "metadata": {},
   "outputs": [],
   "source": [
    "# 분류 모델을 돌리기 위해 종속 변수들의 균형이 어떻게 되는가?\n",
    "# polarity의 데이터의 개수들을 확인 \n",
    "aspect_df['SentimentPolarity'].value_counts()"
   ]
  },
  {
   "cell_type": "code",
   "execution_count": null,
   "id": "b6f24b29",
   "metadata": {},
   "outputs": [],
   "source": [
    "aspect_df['Aspect'].value_counts()"
   ]
  },
  {
   "cell_type": "code",
   "execution_count": null,
   "id": "80ef6f5c",
   "metadata": {},
   "outputs": [],
   "source": [
    "# 결측치가 존재하는가?\n",
    "aspect_df.isna().sum()"
   ]
  },
  {
   "cell_type": "code",
   "execution_count": null,
   "id": "814dce68",
   "metadata": {},
   "outputs": [],
   "source": [
    "# 모든 value에게 좌우의 공백을 제거\n",
    "aspect_df.iloc[:, :2] = aspect_df.iloc[:, :2].map(\n",
    "    lambda x : x.strip()\n",
    ")"
   ]
  },
  {
   "cell_type": "code",
   "execution_count": null,
   "id": "298d5e8d",
   "metadata": {},
   "outputs": [],
   "source": [
    "# 빈텍스트가 존재하는가?\n",
    "aspect_df.isin(['']).sum()"
   ]
  },
  {
   "cell_type": "code",
   "execution_count": null,
   "id": "dc1deb6f",
   "metadata": {},
   "outputs": [],
   "source": [
    "# Aspect 컬럼의 데이터들을 LabelEncoder로 변환 \n",
    "le = LabelEncoder()\n",
    "\n",
    "aspect_df['Aspect'] = le.fit_transform(aspect_df['Aspect'])"
   ]
  },
  {
   "cell_type": "code",
   "execution_count": null,
   "id": "2e25cd07",
   "metadata": {},
   "outputs": [],
   "source": [
    "aspect_df.head()"
   ]
  },
  {
   "cell_type": "code",
   "execution_count": null,
   "id": "aa5eb3f6",
   "metadata": {},
   "outputs": [],
   "source": [
    "# Text을 토큰화 -> 백터화 작업\n",
    "from konlpy.tag import Okt"
   ]
  },
  {
   "cell_type": "code",
   "execution_count": null,
   "id": "fe447f41",
   "metadata": {},
   "outputs": [],
   "source": [
    "okt = Okt()\n",
    "\n",
    "vectorizer = TfidfVectorizer(\n",
    "    tokenizer= okt.morphs, \n",
    "    lowercase= False, \n",
    "    ngram_range=(1, 2)\n",
    ")"
   ]
  },
  {
   "cell_type": "code",
   "execution_count": null,
   "id": "9b232b1e",
   "metadata": {},
   "outputs": [],
   "source": [
    "# 분류 모델 정의 \n",
    "svc1 = LinearSVC(\n",
    "    random_state= 42\n",
    ")\n",
    "svc2 = LinearSVC(\n",
    "    random_state= 42\n",
    ")"
   ]
  },
  {
   "cell_type": "code",
   "execution_count": null,
   "id": "3a30056c",
   "metadata": {},
   "outputs": [],
   "source": [
    "# Aspect 예측하기 위한 모델 \n",
    "pipe_aspect = Pipeline(\n",
    "    [\n",
    "        ('vector', vectorizer), \n",
    "        ('clf', svc1)\n",
    "    ]\n",
    ")\n",
    "# Pola 예측하기 위한 모델 \n",
    "pipe_pola = Pipeline(\n",
    "    [\n",
    "        ('vector', vectorizer), \n",
    "        ('clf', svc2)\n",
    "    ]\n",
    ")"
   ]
  },
  {
   "cell_type": "code",
   "execution_count": null,
   "id": "22add75e",
   "metadata": {},
   "outputs": [],
   "source": [
    "X = aspect_df['SentimentText'].values\n",
    "Y1 = aspect_df['Aspect'].values\n",
    "Y2 = aspect_df['SentimentPolarity'].values"
   ]
  },
  {
   "cell_type": "code",
   "execution_count": null,
   "id": "cb8c9546",
   "metadata": {},
   "outputs": [],
   "source": [
    "Y2"
   ]
  },
  {
   "cell_type": "code",
   "execution_count": null,
   "id": "7e1e8898",
   "metadata": {},
   "outputs": [],
   "source": [
    "# 2개의 모델에 학습 -> 독립 변수 Text, 종속 변수 Aspect, Pola\n",
    "# pipeline.fit() -> 스탭중 변환이 있으면 fit_transform() -> 모델에는 fit()\n",
    "pipe_aspect.fit(X, Y1)\n",
    "pipe_pola.fit(X, Y2)"
   ]
  },
  {
   "cell_type": "code",
   "execution_count": null,
   "id": "6efb5634",
   "metadata": {},
   "outputs": [],
   "source": [
    "# pipeline.predit() -> 스탭 중 변환이 있으면 transform() -> 모델에는 predict()\n",
    "pred_aspect = pipe_aspect.predict(test_text)\n",
    "pred_pola = pipe_pola.predict(test_text)"
   ]
  },
  {
   "cell_type": "code",
   "execution_count": null,
   "id": "bdf12ce2",
   "metadata": {},
   "outputs": [],
   "source": [
    "pred_pola"
   ]
  },
  {
   "cell_type": "code",
   "execution_count": null,
   "id": "80fbb7ee",
   "metadata": {},
   "outputs": [],
   "source": [
    "pred_aspect"
   ]
  },
  {
   "cell_type": "code",
   "execution_count": null,
   "id": "367df8c0",
   "metadata": {},
   "outputs": [],
   "source": [
    "le.inverse_transform(pred_aspect)"
   ]
  },
  {
   "cell_type": "code",
   "execution_count": null,
   "id": "75056650",
   "metadata": {},
   "outputs": [],
   "source": [
    "test_text"
   ]
  },
  {
   "cell_type": "code",
   "execution_count": null,
   "id": "af59ddb4",
   "metadata": {},
   "outputs": [],
   "source": [
    "\n",
    "df2 = aspect_df.copy()"
   ]
  },
  {
   "cell_type": "code",
   "execution_count": null,
   "id": "a075d463",
   "metadata": {},
   "outputs": [],
   "source": [
    "# LabelEncoder를 원본으로 변환 \n",
    "df2['Aspect'] = le.inverse_transform(df2['Aspect'])"
   ]
  },
  {
   "cell_type": "code",
   "execution_count": null,
   "id": "11367680",
   "metadata": {},
   "outputs": [],
   "source": [
    "df2['target'] = df2['Aspect'] + '_' + df2['SentimentPolarity']"
   ]
  },
  {
   "cell_type": "code",
   "execution_count": null,
   "id": "5d2e114b",
   "metadata": {},
   "outputs": [],
   "source": [
    "df2.head()"
   ]
  },
  {
   "cell_type": "code",
   "execution_count": null,
   "id": "f29bcfc5",
   "metadata": {},
   "outputs": [],
   "source": [
    "# target 컬럼의 데이터를 LabelEncoder 변환 \n",
    "le2 = LabelEncoder()\n",
    "df2['target'] = le2.fit_transform(df2['target'])"
   ]
  },
  {
   "cell_type": "code",
   "execution_count": null,
   "id": "62cb05c0",
   "metadata": {},
   "outputs": [],
   "source": [
    "X_2 = df2['SentimentText']\n",
    "Y_2 = df2['target']"
   ]
  },
  {
   "cell_type": "code",
   "execution_count": null,
   "id": "4bc83180",
   "metadata": {},
   "outputs": [],
   "source": [
    "print(X_2.shape, Y_2.shape)"
   ]
  },
  {
   "cell_type": "code",
   "execution_count": null,
   "id": "d0e48dae",
   "metadata": {},
   "outputs": [],
   "source": [
    "pipe = Pipeline(\n",
    "    [\n",
    "        ('vector', vectorizer ),\n",
    "        ('clf', LinearSVC(random_state=42))\n",
    "    ]\n",
    ")"
   ]
  },
  {
   "cell_type": "code",
   "execution_count": null,
   "id": "a7096fa8",
   "metadata": {},
   "outputs": [],
   "source": [
    "pipe.fit(X_2, Y_2)"
   ]
  },
  {
   "cell_type": "code",
   "execution_count": null,
   "id": "9bada8ae",
   "metadata": {},
   "outputs": [],
   "source": [
    "pipe.predict(test_text)"
   ]
  },
  {
   "cell_type": "code",
   "execution_count": null,
   "id": "ff927d5b",
   "metadata": {},
   "outputs": [],
   "source": [
    "# 종속 변수가 2개인 경우 일반적으로 사용하는 객체 \n",
    "from sklearn.multioutput import MultiOutputClassifier"
   ]
  },
  {
   "cell_type": "code",
   "execution_count": null,
   "id": "3d4b166b",
   "metadata": {},
   "outputs": [],
   "source": [
    "# 종속 변수의 크기가 (2000, 2)\n",
    "# 첫번째 종속의 데이터를 이용하여 fit() -> predict()\n",
    "# 두번째 종속의 데이터를 이용하여 fit() -> predict()\n",
    "# 위의 2개의 작업를 병렬로 처리 "
   ]
  },
  {
   "cell_type": "code",
   "execution_count": null,
   "id": "93086b30",
   "metadata": {},
   "outputs": [],
   "source": [
    "# 분류 모델을 생성 \n",
    "svc = LinearSVC(random_state=42)\n",
    "# 멀티 아웃 모델을 생성 \n",
    "multi_model = MultiOutputClassifier(svc)\n",
    "# 파이프라인 생성 \n",
    "pipe_multi = Pipeline(\n",
    "    [\n",
    "        ('vector', vectorizer), \n",
    "        ('model', multi_model)\n",
    "    ]\n",
    ")"
   ]
  },
  {
   "cell_type": "code",
   "execution_count": null,
   "id": "4197f250",
   "metadata": {},
   "outputs": [],
   "source": [
    "aspect_df['SentimentPolarity'] = aspect_df['SentimentPolarity'].astype(int)"
   ]
  },
  {
   "cell_type": "code",
   "execution_count": null,
   "id": "e830afc2",
   "metadata": {},
   "outputs": [],
   "source": [
    "# 멀티 모델 종속은 2차원 그대로 사용 \n",
    "X = aspect_df['SentimentText'].values\n",
    "Y1 = aspect_df[['Aspect', 'SentimentPolarity']].values"
   ]
  },
  {
   "cell_type": "code",
   "execution_count": null,
   "id": "7b60826a",
   "metadata": {},
   "outputs": [],
   "source": [
    "Y1"
   ]
  },
  {
   "cell_type": "code",
   "execution_count": null,
   "id": "5d099213",
   "metadata": {},
   "outputs": [],
   "source": [
    "pipe_multi.fit(X, Y1)"
   ]
  },
  {
   "cell_type": "code",
   "execution_count": null,
   "id": "30313405",
   "metadata": {},
   "outputs": [],
   "source": [
    "# 예측 \n",
    "pred_multi = pipe_multi.predict(test_text)"
   ]
  },
  {
   "cell_type": "code",
   "execution_count": null,
   "id": "6a850518",
   "metadata": {},
   "outputs": [],
   "source": [
    "pred_aspect_origin = le.inverse_transform(pred_multi[:, 0])\n",
    "pred_aspect_origin"
   ]
  },
  {
   "cell_type": "code",
   "execution_count": null,
   "id": "69f14d72",
   "metadata": {},
   "outputs": [],
   "source": [
    "pred_pola = pred_multi[:, 1]\n",
    "pred_pola"
   ]
  },
  {
   "cell_type": "code",
   "execution_count": null,
   "id": "e99246c1",
   "metadata": {},
   "outputs": [],
   "source": [
    "# 문단인 장문의 데이터에서 문장별로 나눠주기 \n",
    "from konlpy.tag import Kkma"
   ]
  },
  {
   "cell_type": "code",
   "execution_count": null,
   "id": "bd4705e6",
   "metadata": {},
   "outputs": [],
   "source": [
    "text = df.loc[2, 'RawText']"
   ]
  },
  {
   "cell_type": "code",
   "execution_count": null,
   "id": "237e4545",
   "metadata": {},
   "outputs": [],
   "source": [
    "kkma = Kkma()"
   ]
  },
  {
   "cell_type": "code",
   "execution_count": null,
   "id": "f9a604d1",
   "metadata": {},
   "outputs": [],
   "source": [
    "texts = kkma.sentences(text)"
   ]
  },
  {
   "cell_type": "code",
   "execution_count": null,
   "id": "b9acd3b0",
   "metadata": {},
   "outputs": [],
   "source": [
    "pred = pipe_multi.predict(texts)"
   ]
  },
  {
   "cell_type": "code",
   "execution_count": null,
   "id": "02c50778",
   "metadata": {},
   "outputs": [],
   "source": [
    "le.inverse_transform(pred[:, 0])"
   ]
  },
  {
   "cell_type": "code",
   "execution_count": null,
   "id": "21ff25bd",
   "metadata": {},
   "outputs": [],
   "source": [
    "pred[:, 1]"
   ]
  },
  {
   "cell_type": "code",
   "execution_count": null,
   "id": "71ee7b8f",
   "metadata": {},
   "outputs": [],
   "source": [
    "texts"
   ]
  },
  {
   "cell_type": "markdown",
   "id": "6e7068b9",
   "metadata": {},
   "source": [
    "#### 최적의 파라미터를 확인\n",
    "- pipe_multi에서 최적의 파라미터를 생성\n",
    "- step 1\n",
    "    - vector화 작업\n",
    "        - ngram_range를 (1, 1), (1, 2)\n",
    "- step2\n",
    "    - LinearSVC를 병렬 작업\n",
    "        - C 를 1.0, 1.5, 2.0\n",
    "        - class_weight 를 None, 'balanced'\n",
    "- 교차 검증의 횟수는 3회 \n",
    "- 평가 점수는 정확도\n",
    "- 최적의 매개변수의 값을 확인 "
   ]
  },
  {
   "cell_type": "code",
   "execution_count": null,
   "id": "fef755aa",
   "metadata": {},
   "outputs": [],
   "source": [
    "from sklearn.model_selection import GridSearchCV"
   ]
  },
  {
   "cell_type": "code",
   "execution_count": null,
   "id": "fc99195b",
   "metadata": {},
   "outputs": [],
   "source": [
    "grid_params = {\n",
    "    'vector__ngram_range' : [ (1, 1), (1, 2) ], \n",
    "    'model__estimator__C' : [ 1.0, 1.5, 2.0 ], \n",
    "    'model__estimator__class_weight' : [ None, 'balanced' ]\n",
    "}"
   ]
  },
  {
   "cell_type": "code",
   "execution_count": null,
   "id": "6e73d721",
   "metadata": {},
   "outputs": [],
   "source": [
    "grid = GridSearchCV(\n",
    "    estimator= pipe_multi, \n",
    "    param_grid= grid_params, \n",
    "    cv = 3, \n",
    "    scoring='accuracy', \n",
    "    n_jobs=1\n",
    ")"
   ]
  },
  {
   "cell_type": "code",
   "execution_count": null,
   "id": "482dfade",
   "metadata": {},
   "outputs": [],
   "source": [
    "grid.fit(X, Y1)"
   ]
  },
  {
   "cell_type": "code",
   "execution_count": null,
   "id": "1e5778ff",
   "metadata": {},
   "outputs": [],
   "source": [
    "grid.best_score_"
   ]
  }
 ],
 "metadata": {
  "kernelspec": {
   "display_name": "Python 3",
   "language": "python",
   "name": "python3"
  },
  "language_info": {
   "codemirror_mode": {
    "name": "ipython",
    "version": 3
   },
   "file_extension": ".py",
   "mimetype": "text/x-python",
   "name": "python",
   "nbconvert_exporter": "python",
   "pygments_lexer": "ipython3",
   "version": "3.11.9"
  }
 },
 "nbformat": 4,
 "nbformat_minor": 5
}
