{
 "cells": [
  {
   "cell_type": "markdown",
   "id": "73e98d45",
   "metadata": {},
   "source": [
    "### Openapi\n",
    "- 데이터를 제공하는 주소와 요청 시 필요한 데이터들을 요청 메시지에 추가하여 요청(request)\n",
    "- 필요한 데이터들과 주소가 명확하다면 응답 메시지 반환\n",
    "- 서버에게 요청을 보내는 라이브러리 : requests\n",
    "    - requests에 내장된 get() 함수를 이용하여 요청을 보내고 응답 메시지를 받는다. "
   ]
  },
  {
   "cell_type": "code",
   "execution_count": null,
   "id": "ef722a38",
   "metadata": {},
   "outputs": [],
   "source": [
    "import requests"
   ]
  },
  {
   "cell_type": "code",
   "execution_count": null,
   "id": "78debae5",
   "metadata": {},
   "outputs": [],
   "source": []
  },
  {
   "cell_type": "code",
   "execution_count": null,
   "id": "e19f803d",
   "metadata": {},
   "outputs": [],
   "source": [
    "url = 'https://apis.data.go.kr/B190001/salesPolicy'\n",
    "service_key = 'dtbWOdJ/Cz5HE0DGLU+CRPe7pOW0NIQBUcGEqsHZaTRiYCI/5+zugwzQjcvuId7NPdg6rUiW+ft3fm7yqyD4pw=='\n",
    "sub_url = '/paper'\n",
    "\n",
    "params = {\n",
    "    'serviceKey' : service_key, \n",
    "    'pageNo' : 1, \n",
    "    'numOfRows' : 10\n",
    "}\n",
    "\n",
    "res = requests.get(url+sub_url, params)"
   ]
  },
  {
   "cell_type": "code",
   "execution_count": null,
   "id": "652a468a",
   "metadata": {},
   "outputs": [],
   "source": [
    "res"
   ]
  },
  {
   "cell_type": "code",
   "execution_count": null,
   "id": "8ae36f24",
   "metadata": {},
   "outputs": [],
   "source": [
    "type(res.content)"
   ]
  },
  {
   "cell_type": "code",
   "execution_count": null,
   "id": "709fa6fa",
   "metadata": {},
   "outputs": [],
   "source": [
    "import pandas as pd"
   ]
  },
  {
   "cell_type": "code",
   "execution_count": null,
   "id": "d9be9324",
   "metadata": {},
   "outputs": [],
   "source": [
    "pd.DataFrame(res.content)"
   ]
  },
  {
   "cell_type": "code",
   "execution_count": null,
   "id": "6a3a6600",
   "metadata": {},
   "outputs": [],
   "source": [
    "# bytes 타입의 데이터는 DataFrame 변환이 불가능\n",
    "# json 형태의 데이터인 경우 -> json 라이브러리 호출\n",
    "# json 라이브러리 안에 loads() 함수를 이용하여 데이터의 타입을 변환 \n",
    "import json \n",
    "res_data = json.loads(res.content)"
   ]
  },
  {
   "cell_type": "code",
   "execution_count": null,
   "id": "6e0508ad",
   "metadata": {},
   "outputs": [],
   "source": [
    "type(res_data)"
   ]
  },
  {
   "cell_type": "code",
   "execution_count": 18,
   "id": "35d293a6",
   "metadata": {},
   "outputs": [],
   "source": [
    "# res_data에는 데이터셋 뿐만이 아니라 요청에 대한 응답 결과들이 같이 포함\n",
    "# 원하는 데이터셋만 따로 추출하여 데이터프레임화 \n",
    "df = pd.DataFrame(res_data['data'])\n",
    "df2 = df.copy()"
   ]
  },
  {
   "cell_type": "code",
   "execution_count": 19,
   "id": "92b282a9",
   "metadata": {},
   "outputs": [],
   "source": [
    "# 데이터프레임에서 각각의 컬럼의 이름들은 api을 제공하는 사이트에서 확인하여 이름을 변경 \n",
    "# df.columns -> 전체 컬럼의 이름을 변경 (class의 속성의 값을 변경)\n",
    "# df.rename() -> 함수를 이용하여 컬럼의 이름을 변경 (class의 메서드를 이용하여 내부의 데이터를 변경)\n",
    "df.columns = ['법인할인구매가능여부', '법인단순구매가능여부', '기준일자', '할인정책적용시작일자', \n",
    " '할인정책종료일자', '할인율', '일간구매제한금액', '예외정책여부', '최대할인제한금액', \n",
    " '최대환전제한금액', '월간구매제한금액', '제공기관코드', '사용처지역코드', '연간구매제한금액']"
   ]
  },
  {
   "cell_type": "code",
   "execution_count": null,
   "id": "288ef893",
   "metadata": {},
   "outputs": [],
   "source": [
    "df.info()"
   ]
  },
  {
   "cell_type": "code",
   "execution_count": 22,
   "id": "7bdb5a00",
   "metadata": {},
   "outputs": [],
   "source": [
    "cols = df2.columns\n",
    "new_cols = ['법인할인구매가능여부', '법인단순구매가능여부', '기준일자', '할인정책적용시작일자', \n",
    " '할인정책종료일자', '할인율', '일간구매제한금액', '예외정책여부', '최대할인제한금액', \n",
    " '최대환전제한금액', '월간구매제한금액', '제공기관코드', '사용처지역코드', '연간구매제한금액']"
   ]
  },
  {
   "cell_type": "code",
   "execution_count": 23,
   "id": "e5234ece",
   "metadata": {},
   "outputs": [],
   "source": [
    "cols_dict = {}\n",
    "for old, new in zip(cols, new_cols):\n",
    "    cols_dict[old] = new"
   ]
  },
  {
   "cell_type": "code",
   "execution_count": null,
   "id": "40c193d4",
   "metadata": {},
   "outputs": [],
   "source": [
    "cols_dict"
   ]
  },
  {
   "cell_type": "code",
   "execution_count": null,
   "id": "44f56161",
   "metadata": {},
   "outputs": [],
   "source": [
    "# rename 함수를 이용하여 컬럼의 이름을 변경 \n",
    "# rename 함수의 장점 : 인덱스나 컬럼이나 모두 변경이 가능, \n",
    "# columns 속성의 값을 변환할 때는 확인 불가능하지만 rename은 확인 하고 변환이 가능\n",
    "# inplace 매개변수의 값을 True로 변경하여 데이터를 변환\n",
    "df2.rename(columns = cols_dict, inplace=True)"
   ]
  },
  {
   "cell_type": "code",
   "execution_count": null,
   "id": "780e06ec",
   "metadata": {},
   "outputs": [],
   "source": [
    "# api에서 수집한 데이터를 저장 \n",
    "# 파일로 저장 ( csv, excel, json, xml 파일의 형태를 지정하여 저장 ) -> to_xxxx() 함수\n",
    "# to -> 일반적으로 데이터의 타입을 변경할때 자주 사용하는 키워드 \n",
    "# to_csv -> csv 타입으로 변경(파일로 저장 -> 저장하는 위치)\n",
    "# excel 파일로 저장 -> to_excel()\n",
    "# list 형태로 변환 -> to_list()\n",
    "# dict 형태로 변환 -> to_dict()\n",
    "df.to_csv( \"./test.csv\", index = False, )\n",
    "# mode 매개변수 -> 인자를 'a' -> append 모드 -> 기존의 파일에 데이터를 추가하는 형태 "
   ]
  },
  {
   "cell_type": "code",
   "execution_count": null,
   "id": "9ac04274",
   "metadata": {},
   "outputs": [],
   "source": [
    "import os \n",
    "# 특정 경로에 파일이 존재하는가?\n",
    "\n",
    "# 존재유무판단-> is \n",
    "# 파일 -> file\n",
    "\n",
    "if os.path.isfile(\"./test.csv\"):\n",
    "    # 특정 경로에 파일이 존재하는 경우\n",
    "    # 해당 파일에 데이터를 추가 \n",
    "    # 데이터프레임에서 인덱스 저장x 헤더(머리 부분의 데이터 -> 컬럼명) 저장x\n",
    "    df.to_csv('./test.csv', index=False, mode='a', header=False)\n",
    "else:\n",
    "    # 파일이 존재하지 않는 경우 \n",
    "    # 파일을 새로 생성하여 헤더는 저장o, 인덱스는 저장x\n",
    "    df.to_csv('./test.csv', index=False)\n",
    "# mode 매개변수 \n",
    "    # 'w'(기본값) : 기존의 파일이 존재한다면 대체, 없으면 생성\n",
    "    # 'a' : 기존의 파일에 데이터를 추가 \n",
    "    # 'x' : 기존이 파일이 존재한다면 대입하지 않겠다.(기존의 파일을 보존)"
   ]
  },
  {
   "cell_type": "code",
   "execution_count": null,
   "id": "40c495d2",
   "metadata": {},
   "outputs": [],
   "source": [
    "# 자체적인 DataBase에 저장 \n",
    "# 1. 각 행의 데이터들을 insert query 문을 이용하여 대입 \n",
    "# 2. sqlalchemy 라이브러리를 이용하여 DBserver와의 연결을 하고 to_sql()을 이용하여 \n",
    "#    데이터프레임 전체를 테이블에 대입\n",
    "#       (테이블이 존재하는 경우 -> 교체, 추가 / 테이블이 존재하지 않을때는 테이블생성) "
   ]
  }
 ],
 "metadata": {
  "kernelspec": {
   "display_name": "Python 3",
   "language": "python",
   "name": "python3"
  },
  "language_info": {
   "codemirror_mode": {
    "name": "ipython",
    "version": 3
   },
   "file_extension": ".py",
   "mimetype": "text/x-python",
   "name": "python",
   "nbconvert_exporter": "python",
   "pygments_lexer": "ipython3",
   "version": "3.11.9"
  }
 },
 "nbformat": 4,
 "nbformat_minor": 5
}
