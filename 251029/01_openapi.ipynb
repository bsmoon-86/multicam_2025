{
 "cells": [
  {
   "cell_type": "markdown",
   "id": "73e98d45",
   "metadata": {},
   "source": [
    "### Openapi\n",
    "- 데이터를 제공하는 주소와 요청 시 필요한 데이터들을 요청 메시지에 추가하여 요청(request)\n",
    "- 필요한 데이터들과 주소가 명확하다면 응답 메시지 반환\n",
    "- 서버에게 요청을 보내는 라이브러리 : requests\n",
    "    - requests에 내장된 get() 함수를 이용하여 요청을 보내고 응답 메시지를 받는다. "
   ]
  },
  {
   "cell_type": "code",
   "execution_count": null,
   "id": "ef722a38",
   "metadata": {},
   "outputs": [],
   "source": [
    "import requests"
   ]
  },
  {
   "cell_type": "code",
   "execution_count": null,
   "id": "78debae5",
   "metadata": {},
   "outputs": [],
   "source": []
  },
  {
   "cell_type": "code",
   "execution_count": null,
   "id": "e19f803d",
   "metadata": {},
   "outputs": [],
   "source": [
    "url = 'https://apis.data.go.kr/B190001/salesPolicy'\n",
    "service_key = 'dtbWOdJ/Cz5HE0DGLU+CRPe7pOW0NIQBUcGEqsHZaTRiYCI/5+zugwzQjcvuId7NPdg6rUiW+ft3fm7yqyD4pw=='\n",
    "sub_url = '/paper'\n",
    "\n",
    "params = {\n",
    "    'serviceKey' : service_key, \n",
    "    'pageNo' : 1, \n",
    "    'numOfRows' : 10\n",
    "}\n",
    "\n",
    "res = requests.get(url+sub_url, params)"
   ]
  },
  {
   "cell_type": "code",
   "execution_count": null,
   "id": "652a468a",
   "metadata": {},
   "outputs": [],
   "source": [
    "res"
   ]
  },
  {
   "cell_type": "code",
   "execution_count": null,
   "id": "8ae36f24",
   "metadata": {},
   "outputs": [],
   "source": [
    "type(res.content)"
   ]
  },
  {
   "cell_type": "code",
   "execution_count": null,
   "id": "709fa6fa",
   "metadata": {},
   "outputs": [],
   "source": [
    "import pandas as pd"
   ]
  },
  {
   "cell_type": "code",
   "execution_count": null,
   "id": "d9be9324",
   "metadata": {},
   "outputs": [],
   "source": [
    "pd.DataFrame(res.content)"
   ]
  },
  {
   "cell_type": "code",
   "execution_count": null,
   "id": "6a3a6600",
   "metadata": {},
   "outputs": [],
   "source": [
    "# bytes 타입의 데이터는 DataFrame 변환이 불가능\n",
    "# json 형태의 데이터인 경우 -> json 라이브러리 호출\n",
    "# json 라이브러리 안에 loads() 함수를 이용하여 데이터의 타입을 변환 \n",
    "import json \n",
    "res_data = json.loads(res.content)"
   ]
  },
  {
   "cell_type": "code",
   "execution_count": null,
   "id": "6e0508ad",
   "metadata": {},
   "outputs": [],
   "source": [
    "type(res_data)"
   ]
  },
  {
   "cell_type": "code",
   "execution_count": 18,
   "id": "35d293a6",
   "metadata": {},
   "outputs": [],
   "source": [
    "# res_data에는 데이터셋 뿐만이 아니라 요청에 대한 응답 결과들이 같이 포함\n",
    "# 원하는 데이터셋만 따로 추출하여 데이터프레임화 \n",
    "df = pd.DataFrame(res_data['data'])\n",
    "df2 = df.copy()"
   ]
  },
  {
   "cell_type": "code",
   "execution_count": 19,
   "id": "92b282a9",
   "metadata": {},
   "outputs": [],
   "source": [
    "# 데이터프레임에서 각각의 컬럼의 이름들은 api을 제공하는 사이트에서 확인하여 이름을 변경 \n",
    "# df.columns -> 전체 컬럼의 이름을 변경 (class의 속성의 값을 변경)\n",
    "# df.rename() -> 함수를 이용하여 컬럼의 이름을 변경 (class의 메서드를 이용하여 내부의 데이터를 변경)\n",
    "df.columns = ['법인할인구매가능여부', '법인단순구매가능여부', '기준일자', '할인정책적용시작일자', \n",
    " '할인정책종료일자', '할인율', '일간구매제한금액', '예외정책여부', '최대할인제한금액', \n",
    " '최대환전제한금액', '월간구매제한금액', '제공기관코드', '사용처지역코드', '연간구매제한금액']"
   ]
  },
  {
   "cell_type": "code",
   "execution_count": null,
   "id": "288ef893",
   "metadata": {},
   "outputs": [],
   "source": [
    "df.info()"
   ]
  },
  {
   "cell_type": "code",
   "execution_count": 22,
   "id": "7bdb5a00",
   "metadata": {},
   "outputs": [],
   "source": [
    "cols = df2.columns\n",
    "new_cols = ['법인할인구매가능여부', '법인단순구매가능여부', '기준일자', '할인정책적용시작일자', \n",
    " '할인정책종료일자', '할인율', '일간구매제한금액', '예외정책여부', '최대할인제한금액', \n",
    " '최대환전제한금액', '월간구매제한금액', '제공기관코드', '사용처지역코드', '연간구매제한금액']"
   ]
  },
  {
   "cell_type": "code",
   "execution_count": 23,
   "id": "e5234ece",
   "metadata": {},
   "outputs": [],
   "source": [
    "cols_dict = {}\n",
    "for old, new in zip(cols, new_cols):\n",
    "    cols_dict[old] = new"
   ]
  },
  {
   "cell_type": "code",
   "execution_count": null,
   "id": "40c193d4",
   "metadata": {},
   "outputs": [],
   "source": [
    "cols_dict"
   ]
  },
  {
   "cell_type": "code",
   "execution_count": null,
   "id": "44f56161",
   "metadata": {},
   "outputs": [],
   "source": [
    "# rename 함수를 이용하여 컬럼의 이름을 변경 \n",
    "# rename 함수의 장점 : 인덱스나 컬럼이나 모두 변경이 가능, \n",
    "# columns 속성의 값을 변환할 때는 확인 불가능하지만 rename은 확인 하고 변환이 가능\n",
    "# inplace 매개변수의 값을 True로 변경하여 데이터를 변환\n",
    "df2.rename(columns = cols_dict, inplace=True)"
   ]
  },
  {
   "cell_type": "code",
   "execution_count": null,
   "id": "780e06ec",
   "metadata": {},
   "outputs": [],
   "source": [
    "# api에서 수집한 데이터를 저장 \n",
    "# 파일로 저장 ( csv, excel, json, xml 파일의 형태를 지정하여 저장 ) -> to_xxxx() 함수\n",
    "# to -> 일반적으로 데이터의 타입을 변경할때 자주 사용하는 키워드 \n",
    "# to_csv -> csv 타입으로 변경(파일로 저장 -> 저장하는 위치)\n",
    "# excel 파일로 저장 -> to_excel()\n",
    "# list 형태로 변환 -> to_list()\n",
    "# dict 형태로 변환 -> to_dict()\n",
    "df.to_csv( \"./test.csv\", index = False, )\n",
    "# mode 매개변수 -> 인자를 'a' -> append 모드 -> 기존의 파일에 데이터를 추가하는 형태 "
   ]
  },
  {
   "cell_type": "code",
   "execution_count": null,
   "id": "9ac04274",
   "metadata": {},
   "outputs": [],
   "source": [
    "import os \n",
    "# 특정 경로에 파일이 존재하는가?\n",
    "\n",
    "# 존재유무판단-> is \n",
    "# 파일 -> file\n",
    "\n",
    "if os.path.isfile(\"./test.csv\"):\n",
    "    # 특정 경로에 파일이 존재하는 경우\n",
    "    # 해당 파일에 데이터를 추가 \n",
    "    # 데이터프레임에서 인덱스 저장x 헤더(머리 부분의 데이터 -> 컬럼명) 저장x\n",
    "    df.to_csv('./test.csv', index=False, mode='a', header=False)\n",
    "else:\n",
    "    # 파일이 존재하지 않는 경우 \n",
    "    # 파일을 새로 생성하여 헤더는 저장o, 인덱스는 저장x\n",
    "    df.to_csv('./test.csv', index=False)\n",
    "# mode 매개변수 \n",
    "    # 'w'(기본값) : 기존의 파일이 존재한다면 대체, 없으면 생성\n",
    "    # 'a' : 기존의 파일에 데이터를 추가 \n",
    "    # 'x' : 기존이 파일이 존재한다면 대입하지 않겠다.(기존의 파일을 보존)"
   ]
  },
  {
   "cell_type": "code",
   "execution_count": 32,
   "id": "2da781c9",
   "metadata": {},
   "outputs": [
    {
     "name": "stdout",
     "output_type": "stream",
     "text": [
      "http://openapi.seoul.go.kr:8088/6546674f4664617237314274704d75/xml/LOCALDATA_082604_SM/1/10/\n"
     ]
    }
   ],
   "source": [
    "# 서울시 열린데이터 api 사용 \n",
    "service_key2 = '6546674f4664617237314274704d75'\n",
    "data_type = 'xml'\n",
    "service_name = 'LOCALDATA_082604_SM'\n",
    "start_idx = '1'\n",
    "end_idx = '10'\n",
    "\n",
    "url = f\"http://openapi.seoul.go.kr:8088/{service_key2}/{data_type}/{service_name}/{start_idx}/{end_idx}/\"\n",
    "print(url)"
   ]
  },
  {
   "cell_type": "code",
   "execution_count": 33,
   "id": "2f2d68e0",
   "metadata": {},
   "outputs": [],
   "source": [
    "res2 = requests.get(url)"
   ]
  },
  {
   "cell_type": "code",
   "execution_count": 34,
   "id": "a30b4be3",
   "metadata": {},
   "outputs": [
    {
     "data": {
      "text/plain": [
       "<Response [200]>"
      ]
     },
     "execution_count": 34,
     "metadata": {},
     "output_type": "execute_result"
    }
   ],
   "source": [
    "res2"
   ]
  },
  {
   "cell_type": "code",
   "execution_count": 35,
   "id": "ae7aedba",
   "metadata": {},
   "outputs": [
    {
     "data": {
      "text/plain": [
       "b'<?xml version=\"1.0\" encoding=\"UTF-8\"?>\\n<LOCALDATA_082604_SM>\\n<list_total_count>17515</list_total_count>\\n<RESULT>\\n<CODE>INFO-000</CODE>\\n<MESSAGE>\\xec\\xa0\\x95\\xec\\x83\\x81 \\xec\\xb2\\x98\\xeb\\xa6\\xac\\xeb\\x90\\x98\\xec\\x97\\x88\\xec\\x8a\\xb5\\xeb\\x8b\\x88\\xeb\\x8b\\xa4</MESSAGE>\\n</RESULT>\\n<row>\\n<OPNSFTEAMCODE>3120000</OPNSFTEAMCODE>\\n<MGTNO>2002312010723200033</MGTNO>\\n<APVPERMYMD>2002-08-28</APVPERMYMD>\\n<APVCANCELYMD/>\\n<TRDSTATEGBN>03</TRDSTATEGBN>\\n<TRDSTATENM>\\xed\\x8f\\x90\\xec\\x97\\x85</TRDSTATENM>\\n<DTLSTATEGBN>03</DTLSTATEGBN>\\n<DTLSTATENM>\\xed\\x8f\\x90\\xec\\x97\\x85\\xec\\xb2\\x98\\xeb\\xa6\\xac</DTLSTATENM>\\n<DCBYMD>2012-12-12</DCBYMD>\\n<CLGSTDT/>\\n<CLGENDDT/>\\n<ROPNYMD/>\\n<SITETEL>362-6328</SITETEL>\\n<SITEAREA/>\\n<SITEPOSTNO>120-170</SITEPOSTNO>\\n<SITEWHLADDR>\\xec\\x84\\x9c\\xec\\x9a\\xb8\\xed\\x8a\\xb9\\xeb\\xb3\\x84\\xec\\x8b\\x9c \\xec\\x84\\x9c\\xeb\\x8c\\x80\\xeb\\xac\\xb8\\xea\\xb5\\xac \\xeb\\x8c\\x80\\xed\\x98\\x84\\xeb\\x8f\\x99 **\\xeb\\xb2\\x88\\xec\\xa7\\x80 **\\xed\\x98\\xb8</SITEWHLADDR>\\n<RDNWHLADDR>\\xec\\x84\\x9c\\xec\\x9a\\xb8\\xed\\x8a\\xb9\\xeb\\xb3\\x84\\xec\\x8b\\x9c \\xec\\x84\\x9c\\xeb\\x8c\\x80\\xeb\\xac\\xb8\\xea\\xb5\\xac \\xec\\x8b\\xa0\\xec\\xb4\\x8c\\xeb\\xa1\\x9c *** (\\xeb\\x8c\\x80\\xed\\x98\\x84\\xeb\\x8f\\x99)</RDNWHLADDR>\\n<RDNPOSTNO>120-170</RDNPOSTNO>\\n<BPLCNM>\\xea\\xb8\\xb0\\xed\\x94\\x84\\xed\\x8a\\xb8\\xeb\\x8b\\xb7\\xec\\xbb\\xb4</BPLCNM>\\n<LASTMODTS>2012-12-12 14:35:57</LASTMODTS>\\n<UPDATEGBN>I</UPDATEGBN>\\n<UPDATEDT>2022-04-22 00:22:33.0</UPDATEDT>\\n<UPTAENM>-</UPTAENM>\\n<X>195214.990355229    </X>\\n<Y>450530.472512122    </Y>\\n<ASETSCP>0</ASETSCP>\\n<BCTOTAM>0</BCTOTAM>\\n<CAPT>0</CAPT>\\n<SILMETNM/>\\n</row>\\n<row>\\n<OPNSFTEAMCODE>3120000</OPNSFTEAMCODE>\\n<MGTNO>2002312010723200042</MGTNO>\\n<APVPERMYMD>2002-09-03</APVPERMYMD>\\n<APVCANCELYMD/>\\n<TRDSTATEGBN>04</TRDSTATEGBN>\\n<TRDSTATENM>\\xec\\xb7\\xa8\\xec\\x86\\x8c/\\xeb\\xa7\\x90\\xec\\x86\\x8c/\\xeb\\xa7\\x8c\\xeb\\xa3\\x8c/\\xec\\xa0\\x95\\xec\\xa7\\x80/\\xec\\xa4\\x91\\xec\\xa7\\x80</TRDSTATENM>\\n<DTLSTATEGBN>07</DTLSTATEGBN>\\n<DTLSTATENM>\\xec\\xa7\\x81\\xea\\xb6\\x8c\\xeb\\xa7\\x90\\xec\\x86\\x8c</DTLSTATENM>\\n<DCBYMD/>\\n<CLGSTDT/>\\n<CLGENDDT/>\\n<ROPNYMD/>\\n<SITETEL>02  394   3216</SITETEL>\\n<SITEAREA/>\\n<SITEPOSTNO/>\\n<SITEWHLADDR>\\xed\\x99\\x8d\\xec\\x9d\\x80\\xeb\\x8f\\x99***-**\\xec\\x98\\x81\\xec\\x8b\\xa0\\xeb\\xb9\\x8c\\xeb\\x9d\\xbc***</SITEWHLADDR>\\n<RDNWHLADDR/>\\n<RDNPOSTNO/>\\n<BPLCNM>VOVOS</BPLCNM>\\n<LASTMODTS>2013-02-20 17:55:28</LASTMODTS>\\n<UPDATEGBN>I</UPDATEGBN>\\n<UPDATEDT>2022-04-22 00:22:33.0</UPDATEDT>\\n<UPTAENM>-</UPTAENM>\\n<X/>\\n<Y/>\\n<ASETSCP>0</ASETSCP>\\n<BCTOTAM>0</BCTOTAM>\\n<CAPT>0</CAPT>\\n<SILMETNM/>\\n</row>\\n<row>\\n<OPNSFTEAMCODE>3120000</OPNSFTEAMCODE>\\n<MGTNO>2002312010723200062</MGTNO>\\n<APVPERMYMD>2002-09-16</APVPERMYMD>\\n<APVCANCELYMD/>\\n<TRDSTATEGBN>03</TRDSTATEGBN>\\n<TRDSTATENM>\\xed\\x8f\\x90\\xec\\x97\\x85</TRDSTATENM>\\n<DTLSTATEGBN>03</DTLSTATEGBN>\\n<DTLSTATENM>\\xed\\x8f\\x90\\xec\\x97\\x85\\xec\\xb2\\x98\\xeb\\xa6\\xac</DTLSTATENM>\\n<DCBYMD>2008-02-01</DCBYMD>\\n<CLGSTDT/>\\n<CLGENDDT/>\\n<ROPNYMD/>\\n<SITETEL>02  396   6531</SITETEL>\\n<SITEAREA/>\\n<SITEPOSTNO/>\\n<SITEWHLADDR>\\xed\\x99\\x8d\\xec\\xa0\\x9c\\xeb\\x8f\\x99**-* ***\\xed\\x98\\xb8</SITEWHLADDR>\\n<RDNWHLADDR/>\\n<RDNPOSTNO/>\\n<BPLCNM>\\xec\\x9d\\xb4\\xeb\\xa1\\xac\\xeb\\x9d\\xbc\\xec\\x9d\\xb4\\xed\\x94\\x84\\xec\\x84\\x9c\\xeb\\x8c\\x80\\xeb\\xac\\xb8\\xec\\xa4\\x91\\xec\\x95\\x99\\xec\\xa7\\x80\\xec\\x82\\xac</BPLCNM>\\n<LASTMODTS>2011-12-26 13:35:52</LASTMODTS>\\n<UPDATEGBN>I</UPDATEGBN>\\n<UPDATEDT>2022-04-22 00:22:33.0</UPDATEDT>\\n<UPTAENM>-</UPTAENM>\\n<X/>\\n<Y/>\\n<ASETSCP>0</ASETSCP>\\n<BCTOTAM>0</BCTOTAM>\\n<CAPT>0</CAPT>\\n<SILMETNM/>\\n</row>\\n<row>\\n<OPNSFTEAMCODE>3120000</OPNSFTEAMCODE>\\n<MGTNO>2002312010723200080</MGTNO>\\n<APVPERMYMD>2001-12-20</APVPERMYMD>\\n<APVCANCELYMD/>\\n<TRDSTATEGBN>03</TRDSTATEGBN>\\n<TRDSTATENM>\\xed\\x8f\\x90\\xec\\x97\\x85</TRDSTATENM>\\n<DTLSTATEGBN>03</DTLSTATEGBN>\\n<DTLSTATENM>\\xed\\x8f\\x90\\xec\\x97\\x85\\xec\\xb2\\x98\\xeb\\xa6\\xac</DTLSTATENM>\\n<DCBYMD>2007-08-28</DCBYMD>\\n<CLGSTDT/>\\n<CLGENDDT/>\\n<ROPNYMD/>\\n<SITETEL>02  363   8494</SITETEL>\\n<SITEAREA/>\\n<SITEPOSTNO>110-035</SITEPOSTNO>\\n<SITEWHLADDR>\\xec\\x84\\x9c\\xec\\x9a\\xb8\\xed\\x8a\\xb9\\xeb\\xb3\\x84\\xec\\x8b\\x9c \\xec\\xa2\\x85\\xeb\\xa1\\x9c\\xea\\xb5\\xac \\xec\\x98\\xa5\\xec\\x9d\\xb8\\xeb\\x8f\\x99 **\\xeb\\xb2\\x88\\xec\\xa7\\x80 **\\xed\\x98\\xb8 \\xec\\x98\\xa5\\xec\\x9d\\xb8\\xeb\\xb9\\x8c\\xeb\\x94\\xa9 *\\xec\\xb8\\xb5</SITEWHLADDR>\\n<RDNWHLADDR>\\xec\\x84\\x9c\\xec\\x9a\\xb8\\xed\\x8a\\xb9\\xeb\\xb3\\x84\\xec\\x8b\\x9c \\xec\\xa2\\x85\\xeb\\xa1\\x9c\\xea\\xb5\\xac \\xec\\x9e\\x90\\xed\\x95\\x98\\xeb\\xac\\xb8\\xeb\\xa1\\x9c ** (\\xec\\x98\\xa5\\xec\\x9d\\xb8\\xeb\\x8f\\x99,\\xec\\x98\\xa5\\xec\\x9d\\xb8\\xeb\\xb9\\x8c\\xeb\\x94\\xa9 *\\xec\\xb8\\xb5)</RDNWHLADDR>\\n<RDNPOSTNO/>\\n<BPLCNM>(\\xec\\xa3\\xbc)\\xed\\x94\\x84\\xeb\\xa0\\x88\\xec\\x8b\\x9c\\xec\\x95\\x88</BPLCNM>\\n<LASTMODTS>2007-08-28 16:09:48</LASTMODTS>\\n<UPDATEGBN>I</UPDATEGBN>\\n<UPDATEDT>2022-04-22 00:22:33.0</UPDATEDT>\\n<UPTAENM>-</UPTAENM>\\n<X>197316.790897542    </X>\\n<Y>453287.92068054     </Y>\\n<ASETSCP>0</ASETSCP>\\n<BCTOTAM>0</BCTOTAM>\\n<CAPT>0</CAPT>\\n<SILMETNM/>\\n</row>\\n<row>\\n<OPNSFTEAMCODE>3120000</OPNSFTEAMCODE>\\n<MGTNO>2002312010723200085</MGTNO>\\n<APVPERMYMD>2000-04-14</APVPERMYMD>\\n<APVCANCELYMD/>\\n<TRDSTATEGBN>01</TRDSTATEGBN>\\n<TRDSTATENM>\\xec\\x98\\x81\\xec\\x97\\x85/\\xec\\xa0\\x95\\xec\\x83\\x81</TRDSTATENM>\\n<DTLSTATEGBN>01</DTLSTATEGBN>\\n<DTLSTATENM>\\xec\\xa0\\x95\\xec\\x83\\x81\\xec\\x98\\x81\\xec\\x97\\x85</DTLSTATENM>\\n<DCBYMD/>\\n<CLGSTDT/>\\n<CLGENDDT/>\\n<ROPNYMD/>\\n<SITETEL>02  393   0700</SITETEL>\\n<SITEAREA/>\\n<SITEPOSTNO/>\\n<SITEWHLADDR>\\xec\\x84\\x9c\\xec\\x9a\\xb8\\xed\\x8a\\xb9\\xeb\\xb3\\x84\\xec\\x8b\\x9c \\xec\\x84\\x9c\\xeb\\x8c\\x80\\xeb\\xac\\xb8\\xea\\xb5\\xac \\xeb\\x8c\\x80\\xed\\x98\\x84\\xeb\\x8f\\x99 **\\xeb\\xb2\\x88\\xec\\xa7\\x80 **\\xed\\x98\\xb8</SITEWHLADDR>\\n<RDNWHLADDR>\\xec\\x84\\x9c\\xec\\x9a\\xb8\\xed\\x8a\\xb9\\xeb\\xb3\\x84\\xec\\x8b\\x9c \\xec\\x84\\x9c\\xeb\\x8c\\x80\\xeb\\xac\\xb8\\xea\\xb5\\xac \\xec\\x9d\\xb4\\xed\\x99\\x94\\xec\\x97\\xac\\xeb\\x8c\\x80\\xea\\xb8\\xb8 ** (\\xeb\\x8c\\x80\\xed\\x98\\x84\\xeb\\x8f\\x99)</RDNWHLADDR>\\n<RDNPOSTNO>03766</RDNPOSTNO>\\n<BPLCNM>\\xeb\\x86\\x8d\\xec\\x97\\x85\\xed\\x9a\\x8c\\xec\\x82\\xac\\xeb\\xb2\\x95\\xec\\x9d\\xb8 \\xec\\xa3\\xbc\\xec\\x8b\\x9d\\xed\\x9a\\x8c\\xec\\x82\\xac \\xec\\x98\\x88\\xec\\x82\\x90\\xec\\x9b\\x90\\xec\\x98\\x88</BPLCNM>\\n<LASTMODTS>2019-10-22 14:22:04</LASTMODTS>\\n<UPDATEGBN>I</UPDATEGBN>\\n<UPDATEDT>2019-10-24 00:22:57.0</UPDATEDT>\\n<UPTAENM>\\xea\\xb8\\xb0\\xed\\x83\\x80</UPTAENM>\\n<X>195125.659700742    </X>\\n<Y>450688.154142148    </Y>\\n<ASETSCP>0</ASETSCP>\\n<BCTOTAM>0</BCTOTAM>\\n<CAPT>0</CAPT>\\n<SILMETNM>\\xec\\x9d\\xb8\\xed\\x84\\xb0\\xeb\\x84\\xb7</SILMETNM>\\n</row>\\n<row>\\n<OPNSFTEAMCODE>3120000</OPNSFTEAMCODE>\\n<MGTNO>2002312010723200091</MGTNO>\\n<APVPERMYMD>2001-07-09</APVPERMYMD>\\n<APVCANCELYMD/>\\n<TRDSTATEGBN>03</TRDSTATEGBN>\\n<TRDSTATENM>\\xed\\x8f\\x90\\xec\\x97\\x85</TRDSTATENM>\\n<DTLSTATEGBN>03</DTLSTATEGBN>\\n<DTLSTATENM>\\xed\\x8f\\x90\\xec\\x97\\x85\\xec\\xb2\\x98\\xeb\\xa6\\xac</DTLSTATENM>\\n<DCBYMD>2009-12-28</DCBYMD>\\n<CLGSTDT/>\\n<CLGENDDT/>\\n<ROPNYMD/>\\n<SITETEL>02  303   4411</SITETEL>\\n<SITEAREA/>\\n<SITEPOSTNO/>\\n<SITEWHLADDR>\\xeb\\x82\\xa8\\xea\\xb0\\x80\\xec\\xa2\\x8c\\xeb\\x8f\\x99***-*</SITEWHLADDR>\\n<RDNWHLADDR/>\\n<RDNPOSTNO/>\\n<BPLCNM>\\xec\\x9d\\x80\\xed\\x8f\\x89\\xec\\xa0\\x95\\xeb\\xb3\\xb4\\xed\\x86\\xb5\\xec\\x8b\\xa0</BPLCNM>\\n<LASTMODTS>2009-12-28 09:57:36</LASTMODTS>\\n<UPDATEGBN>I</UPDATEGBN>\\n<UPDATEDT>2022-04-22 00:22:33.0</UPDATEDT>\\n<UPTAENM>-</UPTAENM>\\n<X/>\\n<Y/>\\n<ASETSCP>0</ASETSCP>\\n<BCTOTAM>0</BCTOTAM>\\n<CAPT>0</CAPT>\\n<SILMETNM/>\\n</row>\\n<row>\\n<OPNSFTEAMCODE>3120000</OPNSFTEAMCODE>\\n<MGTNO>2002312010723200096</MGTNO>\\n<APVPERMYMD>2001-11-28</APVPERMYMD>\\n<APVCANCELYMD/>\\n<TRDSTATEGBN>03</TRDSTATEGBN>\\n<TRDSTATENM>\\xed\\x8f\\x90\\xec\\x97\\x85</TRDSTATENM>\\n<DTLSTATEGBN>03</DTLSTATEGBN>\\n<DTLSTATENM>\\xed\\x8f\\x90\\xec\\x97\\x85\\xec\\xb2\\x98\\xeb\\xa6\\xac</DTLSTATENM>\\n<DCBYMD>2016-11-18</DCBYMD>\\n<CLGSTDT/>\\n<CLGENDDT/>\\n<ROPNYMD/>\\n<SITETEL>305-6063</SITETEL>\\n<SITEAREA/>\\n<SITEPOSTNO>120-131</SITEPOSTNO>\\n<SITEWHLADDR>\\xec\\x84\\x9c\\xec\\x9a\\xb8\\xed\\x8a\\xb9\\xeb\\xb3\\x84\\xec\\x8b\\x9c \\xec\\x84\\x9c\\xeb\\x8c\\x80\\xeb\\xac\\xb8\\xea\\xb5\\xac \\xeb\\xb6\\x81\\xea\\xb0\\x80\\xec\\xa2\\x8c*\\xeb\\x8f\\x99 ***\\xeb\\xb2\\x88\\xec\\xa7\\x80 *\\xed\\x98\\xb8</SITEWHLADDR>\\n<RDNWHLADDR>\\xec\\x84\\x9c\\xec\\x9a\\xb8\\xed\\x8a\\xb9\\xeb\\xb3\\x84\\xec\\x8b\\x9c \\xec\\x84\\x9c\\xeb\\x8c\\x80\\xeb\\xac\\xb8\\xea\\xb5\\xac \\xec\\x9d\\x91\\xec\\x95\\x94\\xeb\\xa1\\x9c *** (\\xeb\\xb6\\x81\\xea\\xb0\\x80\\xec\\xa2\\x8c\\xeb\\x8f\\x99)</RDNWHLADDR>\\n<RDNPOSTNO>120-131</RDNPOSTNO>\\n<BPLCNM>(\\xec\\xa3\\xbc)\\xeb\\xaf\\xb8\\xeb\\x9e\\x98\\xec\\x99\\x80\\xec\\x9a\\xb0\\xec\\xa3\\xbc</BPLCNM>\\n<LASTMODTS>2016-11-18 14:09:34</LASTMODTS>\\n<UPDATEGBN>I</UPDATEGBN>\\n<UPDATEDT>2018-08-31 23:59:59.0</UPDATEDT>\\n<UPTAENM>\\xea\\xb0\\x80\\xec\\xa0\\x84</UPTAENM>\\n<X>192359.530890607    </X>\\n<Y>453474.882927471    </Y>\\n<ASETSCP>0</ASETSCP>\\n<BCTOTAM>0</BCTOTAM>\\n<CAPT>0</CAPT>\\n<SILMETNM>\\xec\\x9d\\xb8\\xed\\x84\\xb0\\xeb\\x84\\xb7</SILMETNM>\\n</row>\\n<row>\\n<OPNSFTEAMCODE>3120000</OPNSFTEAMCODE>\\n<MGTNO>2002312010723200109</MGTNO>\\n<APVPERMYMD>1999-10-02</APVPERMYMD>\\n<APVCANCELYMD/>\\n<TRDSTATEGBN>01</TRDSTATEGBN>\\n<TRDSTATENM>\\xec\\x98\\x81\\xec\\x97\\x85/\\xec\\xa0\\x95\\xec\\x83\\x81</TRDSTATENM>\\n<DTLSTATEGBN>01</DTLSTATEGBN>\\n<DTLSTATENM>\\xec\\xa0\\x95\\xec\\x83\\x81\\xec\\x98\\x81\\xec\\x97\\x85</DTLSTATENM>\\n<DCBYMD/>\\n<CLGSTDT>2003-05-09</CLGSTDT>\\n<CLGENDDT>2004-11-05</CLGENDDT>\\n<ROPNYMD/>\\n<SITETEL>02  393   4822</SITETEL>\\n<SITEAREA/>\\n<SITEPOSTNO/>\\n<SITEWHLADDR>\\xed\\x95\\xa9\\xeb\\x8f\\x99**-*</SITEWHLADDR>\\n<RDNWHLADDR/>\\n<RDNPOSTNO/>\\n<BPLCNM>\\xe3\\x88\\x9c\\xed\\x8e\\x9c.\\xea\\xb7\\xb8\\xeb\\xa6\\xac\\xea\\xb3\\xa0 \\xec\\x9e\\x90\\xec\\x9c\\xa0</BPLCNM>\\n<LASTMODTS>2008-02-21 00:00:00</LASTMODTS>\\n<UPDATEGBN>I</UPDATEGBN>\\n<UPDATEDT>2022-04-22 00:22:33.0</UPDATEDT>\\n<UPTAENM>-</UPTAENM>\\n<X/>\\n<Y/>\\n<ASETSCP>0</ASETSCP>\\n<BCTOTAM>0</BCTOTAM>\\n<CAPT>0</CAPT>\\n<SILMETNM/>\\n</row>\\n<row>\\n<OPNSFTEAMCODE>3120000</OPNSFTEAMCODE>\\n<MGTNO>2002312010723200111</MGTNO>\\n<APVPERMYMD>2002-04-17</APVPERMYMD>\\n<APVCANCELYMD/>\\n<TRDSTATEGBN>03</TRDSTATEGBN>\\n<TRDSTATENM>\\xed\\x8f\\x90\\xec\\x97\\x85</TRDSTATENM>\\n<DTLSTATEGBN>03</DTLSTATEGBN>\\n<DTLSTATENM>\\xed\\x8f\\x90\\xec\\x97\\x85\\xec\\xb2\\x98\\xeb\\xa6\\xac</DTLSTATENM>\\n<DCBYMD>2013-12-30</DCBYMD>\\n<CLGSTDT/>\\n<CLGENDDT/>\\n<ROPNYMD/>\\n<SITETEL>02  392   3200</SITETEL>\\n<SITEAREA/>\\n<SITEPOSTNO/>\\n<SITEWHLADDR>\\xec\\x8b\\xa0\\xec\\xb4\\x8c\\xeb\\x8f\\x99**-** *\\xec\\xb8\\xb5</SITEWHLADDR>\\n<RDNWHLADDR/>\\n<RDNPOSTNO/>\\n<BPLCNM>\\xec\\xa3\\xbc\\xec\\x8b\\x9d\\xed\\x9a\\x8c\\xec\\x82\\xac \\xed\\x81\\xac\\xeb\\xa0\\x88\\xeb\\xa7\\x88\\xec\\xbb\\xa4\\xed\\x94\\xbc\\xec\\xbb\\xb4\\xed\\x8e\\x98\\xeb\\x8b\\x88</BPLCNM>\\n<LASTMODTS>2013-12-30 18:15:10</LASTMODTS>\\n<UPDATEGBN>I</UPDATEGBN>\\n<UPDATEDT>2022-04-22 00:22:33.0</UPDATEDT>\\n<UPTAENM>-</UPTAENM>\\n<X/>\\n<Y/>\\n<ASETSCP>0</ASETSCP>\\n<BCTOTAM>0</BCTOTAM>\\n<CAPT>0</CAPT>\\n<SILMETNM/>\\n</row>\\n<row>\\n<OPNSFTEAMCODE>3120000</OPNSFTEAMCODE>\\n<MGTNO>2002312010723200119</MGTNO>\\n<APVPERMYMD>2002-05-17</APVPERMYMD>\\n<APVCANCELYMD/>\\n<TRDSTATEGBN>01</TRDSTATEGBN>\\n<TRDSTATENM>\\xec\\x98\\x81\\xec\\x97\\x85/\\xec\\xa0\\x95\\xec\\x83\\x81</TRDSTATENM>\\n<DTLSTATEGBN>01</DTLSTATEGBN>\\n<DTLSTATENM>\\xec\\xa0\\x95\\xec\\x83\\x81\\xec\\x98\\x81\\xec\\x97\\x85</DTLSTATENM>\\n<DCBYMD/>\\n<CLGSTDT/>\\n<CLGENDDT/>\\n<ROPNYMD/>\\n<SITETEL>335-1521</SITETEL>\\n<SITEAREA/>\\n<SITEPOSTNO>120-110</SITEPOSTNO>\\n<SITEWHLADDR>\\xec\\x84\\x9c\\xec\\x9a\\xb8\\xed\\x8a\\xb9\\xeb\\xb3\\x84\\xec\\x8b\\x9c \\xec\\x84\\x9c\\xeb\\x8c\\x80\\xeb\\xac\\xb8\\xea\\xb5\\xac \\xec\\x97\\xb0\\xed\\x9d\\xac\\xeb\\x8f\\x99 ***\\xeb\\xb2\\x88\\xec\\xa7\\x80 ***\\xed\\x98\\xb8 \\xec\\x9e\\xac\\xec\\x9d\\xb4\\xec\\x86\\x90\\xeb\\xb9\\x8c\\xeb\\x94\\xa9 ***\\xed\\x98\\xb8</SITEWHLADDR>\\n<RDNWHLADDR>\\xec\\x84\\x9c\\xec\\x9a\\xb8\\xed\\x8a\\xb9\\xeb\\xb3\\x84\\xec\\x8b\\x9c \\xec\\x84\\x9c\\xeb\\x8c\\x80\\xeb\\xac\\xb8\\xea\\xb5\\xac \\xec\\x97\\xb0\\xed\\x9d\\xac\\xeb\\xa1\\x9c **, ***\\xed\\x98\\xb8 (\\xec\\x97\\xb0\\xed\\x9d\\xac\\xeb\\x8f\\x99)</RDNWHLADDR>\\n<RDNPOSTNO>120-830</RDNPOSTNO>\\n<BPLCNM>\\xec\\x9e\\xac\\xec\\x9d\\xb4\\xec\\x86\\x90\\xec\\x82\\xb0\\xec\\x97\\x85(\\xec\\xa3\\xbc)</BPLCNM>\\n<LASTMODTS>2012-12-07 16:22:02</LASTMODTS>\\n<UPDATEGBN>I</UPDATEGBN>\\n<UPDATEDT>2018-08-31 23:59:59.0</UPDATEDT>\\n<UPTAENM>\\xeb\\xa0\\x88\\xec\\xa0\\xb8/\\xec\\x97\\xac\\xed\\x96\\x89/\\xea\\xb3\\xb5\\xec\\x97\\xb0</UPTAENM>\\n<X>193559.689489602    </X>\\n<Y>451122.684993594    </Y>\\n<ASETSCP>0</ASETSCP>\\n<BCTOTAM>0</BCTOTAM>\\n<CAPT>0</CAPT>\\n<SILMETNM>\\xec\\x9d\\xb8\\xed\\x84\\xb0\\xeb\\x84\\xb7</SILMETNM>\\n</row>\\n</LOCALDATA_082604_SM>\\n'"
      ]
     },
     "execution_count": 35,
     "metadata": {},
     "output_type": "execute_result"
    }
   ],
   "source": [
    "res2.content"
   ]
  },
  {
   "cell_type": "code",
   "execution_count": null,
   "id": "eefcdb1b",
   "metadata": {},
   "outputs": [],
   "source": [
    "# !pip install xmltodict"
   ]
  },
  {
   "cell_type": "code",
   "execution_count": 38,
   "id": "1f97b199",
   "metadata": {},
   "outputs": [],
   "source": [
    "# res2의 데이터는 xml 형태로 데이터 확인 \n",
    "# 익숙한 데이터의 타입인 dict 형태로 데이터 변환 -> 해당 기능을 가진 라이브러리 호출 \n",
    "import xmltodict"
   ]
  },
  {
   "cell_type": "code",
   "execution_count": 39,
   "id": "ea3932f8",
   "metadata": {},
   "outputs": [],
   "source": [
    "# xml 형태인 바이트 데이터를  dict 형태로 변환\n",
    "# xmltodict에 내장된 parse() 함수를 이용\n",
    "data = xmltodict.parse(res2.content)"
   ]
  },
  {
   "cell_type": "code",
   "execution_count": 44,
   "id": "8526d242",
   "metadata": {},
   "outputs": [],
   "source": [
    "from pprint import pprint"
   ]
  },
  {
   "cell_type": "code",
   "execution_count": null,
   "id": "960194f8",
   "metadata": {},
   "outputs": [],
   "source": [
    "pprint(data['LOCALDATA_082604_SM']['row'])"
   ]
  },
  {
   "cell_type": "code",
   "execution_count": 50,
   "id": "819e7a55",
   "metadata": {},
   "outputs": [
    {
     "data": {
      "text/plain": [
       "dict_keys(['list_total_count', 'RESULT', 'row'])"
      ]
     },
     "execution_count": 50,
     "metadata": {},
     "output_type": "execute_result"
    }
   ],
   "source": [
    "data['LOCALDATA_082604_SM'].keys()"
   ]
  },
  {
   "cell_type": "code",
   "execution_count": null,
   "id": "17050263",
   "metadata": {},
   "outputs": [],
   "source": [
    "df3 = pd.DataFrame(data['LOCALDATA_082604_SM']['row'])\n",
    "df3.head()"
   ]
  },
  {
   "cell_type": "code",
   "execution_count": 51,
   "id": "be27855a",
   "metadata": {},
   "outputs": [],
   "source": [
    "df3.to_csv(\"./서울시서대문통신판매업인허가현황.csv\", index= False)"
   ]
  },
  {
   "cell_type": "code",
   "execution_count": null,
   "id": "40c495d2",
   "metadata": {},
   "outputs": [],
   "source": [
    "# 자체적인 DataBase에 저장 \n",
    "# 1. 각 행의 데이터들을 insert query 문을 이용하여 대입 \n",
    "# 2. sqlalchemy 라이브러리를 이용하여 DBserver와의 연결을 하고 to_sql()을 이용하여 \n",
    "#    데이터프레임 전체를 테이블에 대입\n",
    "#       (테이블이 존재하는 경우 -> 교체, 추가 / 테이블이 존재하지 않을때는 테이블생성) "
   ]
  },
  {
   "cell_type": "code",
   "execution_count": 52,
   "id": "e3253ba9",
   "metadata": {},
   "outputs": [],
   "source": [
    "# 데이터베이스에 연결 \n",
    "import pymysql "
   ]
  },
  {
   "cell_type": "code",
   "execution_count": 53,
   "id": "a2d5f106",
   "metadata": {},
   "outputs": [],
   "source": [
    "# service_key, DB Server 정보들은 외부 노출시 보안상 큰 문제가 발생 \n",
    "# .env에 데이터를 저장하고 외부에 해당 파일은 업로드 하지 않는다. (일반적인 방법)\n",
    "# dotenv 라이브러리를 이용해서 .env의 데이터를 가져온다. \n",
    "# !pip install python-dotenv"
   ]
  },
  {
   "cell_type": "code",
   "execution_count": 54,
   "id": "940301ab",
   "metadata": {},
   "outputs": [],
   "source": [
    "from dotenv import load_dotenv\n",
    "import os"
   ]
  },
  {
   "cell_type": "code",
   "execution_count": null,
   "id": "8cfe8853",
   "metadata": {},
   "outputs": [],
   "source": [
    "# load_dotenv() -> 작업 공간에 있는 .env 파일을 환경 변수에 등록 \n",
    "# os 라이브러리 -> 시스템 환경변수에 접근하기 위해 로드 "
   ]
  },
  {
   "cell_type": "code",
   "execution_count": 56,
   "id": "3a1b4529",
   "metadata": {},
   "outputs": [
    {
     "data": {
      "text/plain": [
       "True"
      ]
     },
     "execution_count": 56,
     "metadata": {},
     "output_type": "execute_result"
    }
   ],
   "source": [
    "load_dotenv()"
   ]
  },
  {
   "cell_type": "code",
   "execution_count": 60,
   "id": "94bf1424",
   "metadata": {},
   "outputs": [
    {
     "data": {
      "text/plain": [
       "'3306'"
      ]
     },
     "execution_count": 60,
     "metadata": {},
     "output_type": "execute_result"
    }
   ],
   "source": [
    "# 환경 변수에서 서버의 정보를 불러온다. \n",
    "os.getenv('port')"
   ]
  },
  {
   "cell_type": "code",
   "execution_count": 61,
   "id": "a759a5cf",
   "metadata": {},
   "outputs": [],
   "source": [
    "# DB server 연결(connect)\n",
    "db = pymysql.connect(\n",
    "    host = os.getenv('host'), \n",
    "    port = int(os.getenv('port')), \n",
    "    user = os.getenv('user'), \n",
    "    password = os.getenv('pw'), \n",
    "    db = os.getenv('db_name')\n",
    ")"
   ]
  },
  {
   "cell_type": "code",
   "execution_count": 62,
   "id": "e42f377c",
   "metadata": {},
   "outputs": [],
   "source": [
    "# python환경과 DB server 환경 사이에 가상의 공간(cursor)을 생성 \n",
    "# cursor() -> 기본값으로 사용하면 쿼리의 결과를 tuple 형태로 되돌려줌\n",
    "# DictCursor를 사용하면 dict 형태를 되돌려줌\n",
    "cursor = db.cursor(pymysql.cursors.DictCursor)"
   ]
  },
  {
   "cell_type": "code",
   "execution_count": 63,
   "id": "c7f2aae3",
   "metadata": {},
   "outputs": [
    {
     "data": {
      "text/plain": [
       "Index(['OPNSFTEAMCODE', 'MGTNO', 'APVPERMYMD', 'APVCANCELYMD', 'TRDSTATEGBN',\n",
       "       'TRDSTATENM', 'DTLSTATEGBN', 'DTLSTATENM', 'DCBYMD', 'CLGSTDT',\n",
       "       'CLGENDDT', 'ROPNYMD', 'SITETEL', 'SITEAREA', 'SITEPOSTNO',\n",
       "       'SITEWHLADDR', 'RDNWHLADDR', 'RDNPOSTNO', 'BPLCNM', 'LASTMODTS',\n",
       "       'UPDATEGBN', 'UPDATEDT', 'UPTAENM', 'X', 'Y', 'ASETSCP', 'BCTOTAM',\n",
       "       'CAPT', 'SILMETNM'],\n",
       "      dtype='object')"
      ]
     },
     "execution_count": 63,
     "metadata": {},
     "output_type": "execute_result"
    }
   ],
   "source": [
    "df3.columns"
   ]
  },
  {
   "cell_type": "code",
   "execution_count": null,
   "id": "d1a02446",
   "metadata": {},
   "outputs": [],
   "source": [
    "# 수집한 데이터를 저장하기 위해 저장할 공간(table)을 생성\n",
    "# table은 엑셀파일과 같다라고 생각\n",
    "\n",
    "# table을 생성하는 query문 -> CREATE문 -> table이나 Database를 생성할때 사용\n",
    "create_query = \"\"\"\n",
    "    CREATE TABLE test \n",
    "    (\n",
    "        a varchar(32) primary key, \n",
    "        b varchar(32) not null\n",
    "    )\n",
    "\"\"\"\n",
    "\n",
    "# df3의 컬럼의 개수가 29개... \n",
    "query_head = \"CREATE TABLE test_data (\""
   ]
  }
 ],
 "metadata": {
  "kernelspec": {
   "display_name": "Python 3",
   "language": "python",
   "name": "python3"
  },
  "language_info": {
   "codemirror_mode": {
    "name": "ipython",
    "version": 3
   },
   "file_extension": ".py",
   "mimetype": "text/x-python",
   "name": "python",
   "nbconvert_exporter": "python",
   "pygments_lexer": "ipython3",
   "version": "3.11.9"
  }
 },
 "nbformat": 4,
 "nbformat_minor": 5
}
