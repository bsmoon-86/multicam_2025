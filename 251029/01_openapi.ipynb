{
 "cells": [
  {
   "cell_type": "markdown",
   "id": "73e98d45",
   "metadata": {},
   "source": [
    "### Openapi\n",
    "- 데이터를 제공하는 주소와 요청 시 필요한 데이터들을 요청 메시지에 추가하여 요청(request)\n",
    "- 필요한 데이터들과 주소가 명확하다면 응답 메시지 반환\n",
    "- 서버에게 요청을 보내는 라이브러리 : requests\n",
    "    - requests에 내장된 get() 함수를 이용하여 요청을 보내고 응답 메시지를 받는다. "
   ]
  },
  {
   "cell_type": "code",
   "execution_count": 1,
   "id": "ef722a38",
   "metadata": {},
   "outputs": [],
   "source": [
    "import requests"
   ]
  },
  {
   "cell_type": "code",
   "execution_count": null,
   "id": "78debae5",
   "metadata": {},
   "outputs": [],
   "source": []
  },
  {
   "cell_type": "code",
   "execution_count": 6,
   "id": "e19f803d",
   "metadata": {},
   "outputs": [],
   "source": [
    "url = 'https://apis.data.go.kr/B190001/salesPolicy'\n",
    "service_key = 'dtbWOdJ/Cz5HE0DGLU+CRPe7pOW0NIQBUcGEqsHZaTRiYCI/5+zugwzQjcvuId7NPdg6rUiW+ft3fm7yqyD4pw=='\n",
    "sub_url = '/paper'\n",
    "\n",
    "params = {\n",
    "    'serviceKey' : service_key, \n",
    "    'pageNo' : 1, \n",
    "    'numOfRows' : 10\n",
    "}\n",
    "\n",
    "res = requests.get(url+sub_url, params)"
   ]
  },
  {
   "cell_type": "code",
   "execution_count": 7,
   "id": "652a468a",
   "metadata": {},
   "outputs": [
    {
     "data": {
      "text/plain": [
       "<Response [200]>"
      ]
     },
     "execution_count": 7,
     "metadata": {},
     "output_type": "execute_result"
    }
   ],
   "source": [
    "res"
   ]
  },
  {
   "cell_type": "code",
   "execution_count": null,
   "id": "8ae36f24",
   "metadata": {},
   "outputs": [],
   "source": []
  }
 ],
 "metadata": {
  "kernelspec": {
   "display_name": "Python 3",
   "language": "python",
   "name": "python3"
  },
  "language_info": {
   "codemirror_mode": {
    "name": "ipython",
    "version": 3
   },
   "file_extension": ".py",
   "mimetype": "text/x-python",
   "name": "python",
   "nbconvert_exporter": "python",
   "pygments_lexer": "ipython3",
   "version": "3.11.9"
  }
 },
 "nbformat": 4,
 "nbformat_minor": 5
}
