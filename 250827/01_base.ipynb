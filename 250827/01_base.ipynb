{
 "cells": [
  {
   "cell_type": "markdown",
   "id": "04c0a5e9",
   "metadata": {},
   "source": [
    "# 제목\n",
    "## 제목2\n",
    "### 제목3\n",
    "#### 제목4"
   ]
  },
  {
   "cell_type": "markdown",
   "id": "cc19d393",
   "metadata": {},
   "source": [
    "### 리스트 형태 텍스트\n",
    "\n",
    "#### 순서형 \n",
    "1. list1\n",
    "1. list2\n",
    "7. list3\n",
    "#### 비순서형\n",
    "- list1\n",
    "- list2\n",
    "- list3\n",
    "#### 리스트 안에 리스트\n",
    "1. list1\n",
    "    1. sub1\n",
    "    1. sub2\n",
    "2. list2\n",
    "    - sub1\n",
    "    - sub2"
   ]
  },
  {
   "cell_type": "markdown",
   "id": "b51cd3f7",
   "metadata": {},
   "source": [
    "### 자료형 데이터 \n",
    "- 여러개의 데이터를 하나의 변수에 저장시키기 위한 형태 \n",
    "\n",
    "- tuple\n",
    "    - 자료형 데이터 중에 가장 기본적인 형태 \n",
    "    - ()를 이용해서 데이터를 생성 \n",
    "    - 한번 생성이 되면 수정이 불가능 (새로운 tuple을 생성)\n",
    "\n",
    "- list \n",
    "    - []를 이용하여 데이터를 생성 \n",
    "    - tuple과는 다르게 각 원소들을 수정하거나 삭제, 추가 작업이 가능 (리스트의 내부 함수를 이용)\n",
    "    - 원소의 개수를 0개부터 생성이 가능(비어있는 리스트가 생성 -> 여러개의 데이터를 하나의 변수에 담을 준비 과정)\n",
    "- dict\n",
    "    - {}를 이용하여 데이터를 생성 \n",
    "    - key : value의 형태로 데이터가 구성 (list에서는 위치를 기준으로 데이터를 추출한다면 dict는 key를 기준으로 데이터를 추출)\n",
    "    - 원소의 개수는 0부터 생성이 가능"
   ]
  },
  {
   "cell_type": "code",
   "execution_count": 1,
   "id": "26e235f9",
   "metadata": {},
   "outputs": [
    {
     "name": "stdout",
     "output_type": "stream",
     "text": [
      "(1, 'Hello')\n",
      "(3, 3.14)\n",
      "<class 'tuple'>\n"
     ]
    }
   ],
   "source": [
    "# tuple 데이터 생성 \n",
    "# 원소마다 타입이 달라도 생성이 가능\n",
    "tuple_a = (1, 'Hello')\n",
    "tuple_b = (3, 3.14)\n",
    "print(tuple_a)\n",
    "print(tuple_b)\n",
    "print(type(tuple_a))"
   ]
  },
  {
   "cell_type": "code",
   "execution_count": 2,
   "id": "878f6afa",
   "metadata": {},
   "outputs": [
    {
     "name": "stdout",
     "output_type": "stream",
     "text": [
      "1\n",
      "3.14\n"
     ]
    }
   ],
   "source": [
    "# tuple에서 특정 위치의 데이터를 추출 (index값은 0부터 시작)\n",
    "print(tuple_a[0])  # 1\n",
    "print(tuple_b[1])  # 3.14\n"
   ]
  },
  {
   "cell_type": "code",
   "execution_count": 3,
   "id": "8a02149d",
   "metadata": {},
   "outputs": [
    {
     "data": {
      "text/plain": [
       "(1, 'Hello', 3, 3.14)"
      ]
     },
     "execution_count": 3,
     "metadata": {},
     "output_type": "execute_result"
    }
   ],
   "source": [
    "# tuple 끼리의 합 -> 문자의 합과 같은 결과 -> 새로운 튜플이 생성\n",
    "tuple_a + tuple_b"
   ]
  },
  {
   "cell_type": "code",
   "execution_count": null,
   "id": "2e4496b1",
   "metadata": {},
   "outputs": [],
   "source": [
    "# tuple이랑 숫자의 합? -> 에러가 발생 -> tuple과 숫자 데이터를 합이 불가능\n",
    "# tuple_b + 1"
   ]
  },
  {
   "cell_type": "code",
   "execution_count": 8,
   "id": "3adc6574",
   "metadata": {},
   "outputs": [],
   "source": [
    "# list 형태의 데이터 \n",
    "list_a = [30, 20, 50, 10]\n",
    "list_b = ['abc', 'fi', 'be']"
   ]
  },
  {
   "cell_type": "code",
   "execution_count": 9,
   "id": "6fccdb9c",
   "metadata": {},
   "outputs": [],
   "source": [
    "# list의 함수중 정렬을 변경하는 함수를 사용\n",
    "# sort() : 기본적으로는 리스트의 원소들을 오름차순 정렬로 변경 \n",
    "# reverse() : 리스트의 원소들을 역순으로 변경 \n",
    "# 위의 2개의 함수는 list를 변경 -> print()함수를 이용하지 않는 이상 출력 x\n",
    "list_a.sort()"
   ]
  },
  {
   "cell_type": "code",
   "execution_count": 10,
   "id": "92318f6a",
   "metadata": {},
   "outputs": [
    {
     "data": {
      "text/plain": [
       "[10, 20, 30, 50]"
      ]
     },
     "execution_count": 10,
     "metadata": {},
     "output_type": "execute_result"
    }
   ],
   "source": [
    "list_a"
   ]
  },
  {
   "cell_type": "code",
   "execution_count": 11,
   "id": "b400ba3d",
   "metadata": {},
   "outputs": [],
   "source": [
    "# 내림차순 정렬? -> \n",
    "# 오름차순 정렬은 하고 순서를 역순으로 변경\n",
    "list_b.sort()\n",
    "list_b.reverse()"
   ]
  },
  {
   "cell_type": "code",
   "execution_count": 12,
   "id": "b2e7f77b",
   "metadata": {},
   "outputs": [
    {
     "data": {
      "text/plain": [
       "['fi', 'be', 'abc']"
      ]
     },
     "execution_count": 12,
     "metadata": {},
     "output_type": "execute_result"
    }
   ],
   "source": [
    "list_b"
   ]
  },
  {
   "cell_type": "code",
   "execution_count": 13,
   "id": "1ebf5ac3",
   "metadata": {},
   "outputs": [],
   "source": [
    "# sort() : 매개변수 reverse 존재 (기본값이 False -> 오름차순 정렬)\n",
    "#           reverse의 값을 True로 변경하면 내림차순 정렬\n",
    "list_a.sort(reverse=True)"
   ]
  },
  {
   "cell_type": "code",
   "execution_count": 14,
   "id": "b4659133",
   "metadata": {},
   "outputs": [
    {
     "data": {
      "text/plain": [
       "[50, 30, 20, 10]"
      ]
     },
     "execution_count": 14,
     "metadata": {},
     "output_type": "execute_result"
    }
   ],
   "source": [
    "list_a"
   ]
  },
  {
   "cell_type": "code",
   "execution_count": null,
   "id": "f5f4d362",
   "metadata": {},
   "outputs": [],
   "source": [
    "list_a.sort()"
   ]
  },
  {
   "cell_type": "code",
   "execution_count": 15,
   "id": "e9a40a8a",
   "metadata": {},
   "outputs": [
    {
     "name": "stdout",
     "output_type": "stream",
     "text": [
      "[50, 30, 20, 10, 100]\n"
     ]
    }
   ],
   "source": [
    "# 리스트의 원소를 추가하는 방법\n",
    "# 가장 마지막에 원소를 추가하는 방법 : append('data')\n",
    "# 특정 위치에 데이터를 대입 : insert( index, 'data' )\n",
    "list_a.append(100)\n",
    "print(list_a)"
   ]
  },
  {
   "cell_type": "code",
   "execution_count": 16,
   "id": "9d8e5ebd",
   "metadata": {},
   "outputs": [
    {
     "name": "stdout",
     "output_type": "stream",
     "text": [
      "[50, 30, 5, 20, 10, 100]\n"
     ]
    }
   ],
   "source": [
    "list_a.insert(2, 5)\n",
    "print(list_a)"
   ]
  },
  {
   "cell_type": "code",
   "execution_count": 18,
   "id": "1ccc97cc",
   "metadata": {},
   "outputs": [],
   "source": [
    "# list에 update() 함수가 존재하지 않기 때문에 에러 발생\n",
    "# list_a.update(2, 10)"
   ]
  },
  {
   "cell_type": "code",
   "execution_count": 20,
   "id": "f95c6528",
   "metadata": {},
   "outputs": [
    {
     "name": "stdout",
     "output_type": "stream",
     "text": [
      "30\n",
      "[50, 15, 5, 20, 10, 100]\n"
     ]
    }
   ],
   "source": [
    "# list 내부의 데이터를 수정하는 방법???\n",
    "# 어떠한 데이터를 수정할것인가? -> 수정할 데이터를 선택\n",
    "# list_a에 있는 2번째의 위치의 데이터를 수정할것이다.(index -> 1)\n",
    "print(list_a[1])\n",
    "# 30를 15로 변경하고 싶다. -> 30의 데이터를 제거하고 15를 대입 \n",
    "list_a[1] = 15\n",
    "print(list_a)"
   ]
  },
  {
   "cell_type": "code",
   "execution_count": 21,
   "id": "d440b6f4",
   "metadata": {},
   "outputs": [
    {
     "data": {
      "text/plain": [
       "100"
      ]
     },
     "execution_count": 21,
     "metadata": {},
     "output_type": "execute_result"
    }
   ],
   "source": [
    "# list에서 데이터를 삭제 \n",
    "# 가장 마지막 데이터를 제거 : pop()\n",
    "# 특정 값의 데이터를 제거 : remove('data')\n",
    "# 특정 위치의 데이터를 제거 : del list[index]\n",
    "list_a.pop()"
   ]
  },
  {
   "cell_type": "code",
   "execution_count": 22,
   "id": "bc4909d0",
   "metadata": {},
   "outputs": [
    {
     "data": {
      "text/plain": [
       "[50, 15, 5, 20, 10]"
      ]
     },
     "execution_count": 22,
     "metadata": {},
     "output_type": "execute_result"
    }
   ],
   "source": [
    "list_a"
   ]
  },
  {
   "cell_type": "code",
   "execution_count": 23,
   "id": "44d42e98",
   "metadata": {},
   "outputs": [
    {
     "data": {
      "text/plain": [
       "[50, 15, 5, 20, 10, 15]"
      ]
     },
     "execution_count": 23,
     "metadata": {},
     "output_type": "execute_result"
    }
   ],
   "source": [
    "list_a.append(15)\n",
    "list_a"
   ]
  },
  {
   "cell_type": "code",
   "execution_count": 24,
   "id": "6c5d62ad",
   "metadata": {},
   "outputs": [],
   "source": [
    "# remove() 함수를 이용하여 list_a의 15라는 값을 제거 \n",
    "list_a.remove(15)"
   ]
  },
  {
   "cell_type": "code",
   "execution_count": 25,
   "id": "105f0bd3",
   "metadata": {},
   "outputs": [
    {
     "data": {
      "text/plain": [
       "[50, 5, 20, 10, 15]"
      ]
     },
     "execution_count": 25,
     "metadata": {},
     "output_type": "execute_result"
    }
   ],
   "source": [
    "list_a"
   ]
  },
  {
   "cell_type": "code",
   "execution_count": 26,
   "id": "deadb2f5",
   "metadata": {},
   "outputs": [],
   "source": [
    "# 특정 위치의 데이터를 제거하는 del \n",
    "del list_a[3]"
   ]
  },
  {
   "cell_type": "code",
   "execution_count": 27,
   "id": "5a779944",
   "metadata": {},
   "outputs": [
    {
     "data": {
      "text/plain": [
       "[50, 5, 20, 15]"
      ]
     },
     "execution_count": 27,
     "metadata": {},
     "output_type": "execute_result"
    }
   ],
   "source": [
    "list_a"
   ]
  },
  {
   "cell_type": "code",
   "execution_count": 28,
   "id": "faf587fe",
   "metadata": {},
   "outputs": [
    {
     "name": "stdout",
     "output_type": "stream",
     "text": [
      "10\n",
      "10\n"
     ]
    }
   ],
   "source": [
    "# 복사본 생성? (백업)\n",
    "a = 10\n",
    "b = a\n",
    "print(a)\n",
    "print(b)"
   ]
  },
  {
   "cell_type": "code",
   "execution_count": 29,
   "id": "0a06df8f",
   "metadata": {},
   "outputs": [
    {
     "name": "stdout",
     "output_type": "stream",
     "text": [
      "11\n",
      "10\n"
     ]
    }
   ],
   "source": [
    "a += 1 # a = a + 1\n",
    "print(a)\n",
    "print(b)"
   ]
  },
  {
   "cell_type": "code",
   "execution_count": 30,
   "id": "d1f790f9",
   "metadata": {},
   "outputs": [],
   "source": [
    "list_clone = list_a"
   ]
  },
  {
   "cell_type": "code",
   "execution_count": 31,
   "id": "8ae68759",
   "metadata": {},
   "outputs": [
    {
     "name": "stdout",
     "output_type": "stream",
     "text": [
      "[50, 5, 20, 15]\n",
      "[50, 5, 20, 15]\n"
     ]
    }
   ],
   "source": [
    "print(list_a)\n",
    "print(list_clone)"
   ]
  },
  {
   "cell_type": "code",
   "execution_count": 32,
   "id": "7557ea71",
   "metadata": {},
   "outputs": [
    {
     "data": {
      "text/plain": [
       "15"
      ]
     },
     "execution_count": 32,
     "metadata": {},
     "output_type": "execute_result"
    }
   ],
   "source": [
    "# list_clone를 수정 \n",
    "list_clone.pop()"
   ]
  },
  {
   "cell_type": "code",
   "execution_count": 33,
   "id": "d4d82dcd",
   "metadata": {},
   "outputs": [
    {
     "name": "stdout",
     "output_type": "stream",
     "text": [
      "[50, 5, 20]\n",
      "[50, 5, 20]\n"
     ]
    }
   ],
   "source": [
    "print(list_a)\n",
    "print(list_clone)"
   ]
  },
  {
   "cell_type": "code",
   "execution_count": 35,
   "id": "333b1d7d",
   "metadata": {},
   "outputs": [],
   "source": [
    "# list = list -> 같은 위치의 데이터를 의미 \n",
    "# 실제 복사본을 생성하려면 copy() 함수를 이용\n",
    "list_clone2 = list_a.copy()"
   ]
  },
  {
   "cell_type": "code",
   "execution_count": 36,
   "id": "657fce17",
   "metadata": {},
   "outputs": [],
   "source": [
    "list_clone2.append(1)"
   ]
  },
  {
   "cell_type": "code",
   "execution_count": 37,
   "id": "29246482",
   "metadata": {},
   "outputs": [
    {
     "name": "stdout",
     "output_type": "stream",
     "text": [
      "[50, 5, 20]\n",
      "[50, 5, 20]\n",
      "[50, 5, 20, 1]\n"
     ]
    }
   ],
   "source": [
    "print(list_a)\n",
    "print(list_clone)\n",
    "print(list_clone2)"
   ]
  },
  {
   "cell_type": "code",
   "execution_count": 39,
   "id": "c3e0ba78",
   "metadata": {},
   "outputs": [],
   "source": [
    "# list에서 정렬을 변경하고 원본의 데이터는 그대로 유지 \n",
    "# sorted(list명)\n",
    "sort_list_a = sorted(list_a)"
   ]
  },
  {
   "cell_type": "code",
   "execution_count": 40,
   "id": "4f894e33",
   "metadata": {},
   "outputs": [
    {
     "name": "stdout",
     "output_type": "stream",
     "text": [
      "[50, 5, 20]\n",
      "[5, 20, 50]\n"
     ]
    }
   ],
   "source": [
    "print(list_a)\n",
    "print(sort_list_a)"
   ]
  },
  {
   "cell_type": "code",
   "execution_count": 41,
   "id": "6e60982d",
   "metadata": {},
   "outputs": [
    {
     "data": {
      "text/plain": [
       "[50, 5, 20, 'fi', 'be', 'abc']"
      ]
     },
     "execution_count": 41,
     "metadata": {},
     "output_type": "execute_result"
    }
   ],
   "source": [
    "# list 간의 합\n",
    "list_a + list_b"
   ]
  },
  {
   "cell_type": "code",
   "execution_count": 43,
   "id": "f91bedc3",
   "metadata": {},
   "outputs": [],
   "source": [
    "# list와 숫자의 합? -> 에러가 발생 -> list도 단일데이터와의 합은 문제 발생\n",
    "# list_a + 1"
   ]
  },
  {
   "cell_type": "code",
   "execution_count": 45,
   "id": "04b62fea",
   "metadata": {},
   "outputs": [
    {
     "data": {
      "text/plain": [
       "2"
      ]
     },
     "execution_count": 45,
     "metadata": {},
     "output_type": "execute_result"
    }
   ],
   "source": [
    "# 데이터를 찾는 함수 \n",
    "# index(data) : 특정 데이터의 첫번째 위치를 출력 -> 해당 데이터가 존재하지 않으면??\n",
    "list_a.index(20)"
   ]
  },
  {
   "cell_type": "code",
   "execution_count": 47,
   "id": "90e0868b",
   "metadata": {},
   "outputs": [],
   "source": [
    "# index() 함수를 이용해서 없는 데이터를 찾는 경우? -> 에러가 발생\n",
    "# list_a.index(10)"
   ]
  },
  {
   "cell_type": "code",
   "execution_count": 48,
   "id": "b7557097",
   "metadata": {},
   "outputs": [],
   "source": [
    "# 2차원 데이터 : 리스트 안에 리스트, 리스트 안에 튜플 , 튜플 안에 리스트 \n",
    "#               딕셔너리 안에 리스트, 리스트 안에 딕셔너리 \n",
    "list_c = [\n",
    "    [10, 20], \n",
    "    [30, 40], \n",
    "    [50, 60]\n",
    "]"
   ]
  },
  {
   "cell_type": "code",
   "execution_count": 49,
   "id": "ee147bca",
   "metadata": {},
   "outputs": [
    {
     "data": {
      "text/plain": [
       "[30, 40]"
      ]
     },
     "execution_count": 49,
     "metadata": {},
     "output_type": "execute_result"
    }
   ],
   "source": [
    "# 2차원 데이터에서 특정 위치 하나를 선택하면 -> 1차원 데이터 변경 \n",
    "list_c[1] # list_c에서 2번째 위치의 데이터를 추출"
   ]
  },
  {
   "cell_type": "code",
   "execution_count": 51,
   "id": "20986710",
   "metadata": {},
   "outputs": [
    {
     "name": "stdout",
     "output_type": "stream",
     "text": [
      "[30, 40]\n",
      "30\n"
     ]
    }
   ],
   "source": [
    "# list_c에서 30이라는 데이터를 추출 \n",
    "# list_c 30은 2번째 위치의 원소 안에 포함\n",
    "print(list_c[1])\n",
    "# 2번째 위치의 원소에서 첫번째 위치의 데이터가 30\n",
    "print(list_c[1][0])"
   ]
  },
  {
   "cell_type": "code",
   "execution_count": 52,
   "id": "40ad3f7e",
   "metadata": {},
   "outputs": [],
   "source": [
    "dict_a = {\n",
    "    'name' : 'test', \n",
    "    'age' : 20, \n",
    "    'phone' : '01012345678'\n",
    "}"
   ]
  },
  {
   "cell_type": "code",
   "execution_count": 54,
   "id": "1112142d",
   "metadata": {},
   "outputs": [],
   "source": [
    "# dict는 위치를 기준으로 하는 list와 달리 key를 기준으로 데이터를 추출\n",
    "# dict_a[0] --> 0이라는 키값에 대응이 되는 value를 출력한다. \n",
    "# 0이라는 key가 존재하지 않기 때문에 에러 발생\n",
    "# dict_a[0]"
   ]
  },
  {
   "cell_type": "code",
   "execution_count": 55,
   "id": "9485baca",
   "metadata": {},
   "outputs": [
    {
     "data": {
      "text/plain": [
       "'test'"
      ]
     },
     "execution_count": 55,
     "metadata": {},
     "output_type": "execute_result"
    }
   ],
   "source": [
    "dict_a['name']"
   ]
  },
  {
   "cell_type": "code",
   "execution_count": 56,
   "id": "89fd3dbd",
   "metadata": {},
   "outputs": [],
   "source": [
    "dict_b = {\n",
    "    'age' : 30, \n",
    "    'name' : 'test2', \n",
    "    'phone' : '01011112222'\n",
    "}"
   ]
  },
  {
   "cell_type": "code",
   "execution_count": 57,
   "id": "6b6746ba",
   "metadata": {},
   "outputs": [
    {
     "data": {
      "text/plain": [
       "'test2'"
      ]
     },
     "execution_count": 57,
     "metadata": {},
     "output_type": "execute_result"
    }
   ],
   "source": [
    "dict_b['name']"
   ]
  },
  {
   "cell_type": "code",
   "execution_count": 59,
   "id": "10ef4807",
   "metadata": {},
   "outputs": [],
   "source": [
    "# 데이터를 추가하려면 -> key:value 를 추가\n",
    "# 추가 기능과 수정 기능의 코드 차이가 거의 없다. \n",
    "# 추가 -> 새로운 key = data\n",
    "# 수정 -> 기존 key = data\n",
    "# dict_a에 loc 라는 키 값으로 value는 seoul 데이터를 추가 \n",
    "dict_a['loc'] = 'seoul'"
   ]
  },
  {
   "cell_type": "code",
   "execution_count": 60,
   "id": "8847348a",
   "metadata": {},
   "outputs": [
    {
     "data": {
      "text/plain": [
       "{'name': 'test', 'age': 20, 'phone': '01012345678', 'loc': 'seoul'}"
      ]
     },
     "execution_count": 60,
     "metadata": {},
     "output_type": "execute_result"
    }
   ],
   "source": [
    "dict_a"
   ]
  },
  {
   "cell_type": "code",
   "execution_count": 62,
   "id": "d631d3e5",
   "metadata": {},
   "outputs": [],
   "source": [
    "# 기존의 key값을 선택하고 데이터를 대입하면 \n",
    "# 기존의 value를 제거되고 새로운 value가 추가(데이터 수정)\n",
    "dict_a['age'] = 30"
   ]
  },
  {
   "cell_type": "code",
   "execution_count": 63,
   "id": "cc16a389",
   "metadata": {},
   "outputs": [
    {
     "data": {
      "text/plain": [
       "{'name': 'test', 'age': 30, 'phone': '01012345678', 'loc': 'seoul'}"
      ]
     },
     "execution_count": 63,
     "metadata": {},
     "output_type": "execute_result"
    }
   ],
   "source": [
    "dict_a"
   ]
  },
  {
   "cell_type": "code",
   "execution_count": 64,
   "id": "2bf87d49",
   "metadata": {},
   "outputs": [],
   "source": [
    "# dict에서 데이터를 제거 -> key와 value가 모두 삭제\n",
    "del dict_a['name']"
   ]
  },
  {
   "cell_type": "code",
   "execution_count": 65,
   "id": "617cd961",
   "metadata": {},
   "outputs": [
    {
     "data": {
      "text/plain": [
       "{'age': 30, 'phone': '01012345678', 'loc': 'seoul'}"
      ]
     },
     "execution_count": 65,
     "metadata": {},
     "output_type": "execute_result"
    }
   ],
   "source": [
    "dict_a"
   ]
  },
  {
   "cell_type": "code",
   "execution_count": 66,
   "id": "6c252cfa",
   "metadata": {},
   "outputs": [],
   "source": [
    "# 데이터를 수집하는 경우 \n",
    "# open api(data api) 사용하는 경우 \n",
    "# 리스트 안에 딕셔너리 이거나 딕셔너리 안에 리스트인 경우가 과반\n",
    "sample_data = {\n",
    "    'name' : ['kim', 'park', 'lee'], \n",
    "    'age' : [20, 25, 30], \n",
    "    'gender' : ['F', 'M', 'F']\n",
    "}"
   ]
  },
  {
   "cell_type": "code",
   "execution_count": 67,
   "id": "633b045e",
   "metadata": {},
   "outputs": [
    {
     "data": {
      "text/plain": [
       "['F', 'M', 'F']"
      ]
     },
     "execution_count": 67,
     "metadata": {},
     "output_type": "execute_result"
    }
   ],
   "source": [
    "# sample_data에서 'M'을 추출하려면?\n",
    "# sample_data의 타입이? -> dict이므로 'M'이 위치한 key는 -> 'gender'\n",
    "sample_data['gender']"
   ]
  },
  {
   "cell_type": "code",
   "execution_count": 68,
   "id": "842eff9f",
   "metadata": {},
   "outputs": [
    {
     "data": {
      "text/plain": [
       "'M'"
      ]
     },
     "execution_count": 68,
     "metadata": {},
     "output_type": "execute_result"
    }
   ],
   "source": [
    "# 위의 결과에서 나온 1차원 데이터에서 'M'은 몇번째 위치? -> 1\n",
    "sample_data['gender'][1]"
   ]
  },
  {
   "cell_type": "code",
   "execution_count": 69,
   "id": "5e6e6a30",
   "metadata": {},
   "outputs": [],
   "source": [
    "sample_data2 = [\n",
    "    {\n",
    "        'name' : 'kim', \n",
    "        'age' : 20, \n",
    "        'gender' : 'F'\n",
    "    }, \n",
    "    {\n",
    "        'name' : 'park', \n",
    "        'age' : 25, \n",
    "        'gender' : 'M'\n",
    "    }, \n",
    "    {\n",
    "        'name' : 'lee', \n",
    "        'age' : 30, \n",
    "        'gender' : 'F'\n",
    "    }\n",
    "]"
   ]
  },
  {
   "cell_type": "code",
   "execution_count": 70,
   "id": "e0ad023c",
   "metadata": {},
   "outputs": [
    {
     "data": {
      "text/plain": [
       "{'name': 'park', 'age': 25, 'gender': 'M'}"
      ]
     },
     "execution_count": 70,
     "metadata": {},
     "output_type": "execute_result"
    }
   ],
   "source": [
    "# sample_data2에서 'park'이라는 데이터를 추출하려면?\n",
    "# sample_data2에서 2번째 위치에 'park'데이터가 존재 -> index 1\n",
    "sample_data2[1]"
   ]
  },
  {
   "cell_type": "code",
   "execution_count": 71,
   "id": "533ee3a7",
   "metadata": {},
   "outputs": [
    {
     "data": {
      "text/plain": [
       "'park'"
      ]
     },
     "execution_count": 71,
     "metadata": {},
     "output_type": "execute_result"
    }
   ],
   "source": [
    "# sample_data2[1]은 데이터의 타입이 dict이고 'park' 데이터는 'name' key에 존재 \n",
    "sample_data2[1]['name']"
   ]
  },
  {
   "cell_type": "code",
   "execution_count": 72,
   "id": "6fc9757b",
   "metadata": {},
   "outputs": [
    {
     "name": "stdout",
     "output_type": "stream",
     "text": [
      "['kim']\n"
     ]
    }
   ],
   "source": [
    "# sample_data2에서 이름들을 따로 새로운 리스트를 생성\n",
    "# 이름들을 저장할수 있는 공간을 생성 -> 변수에 여러개의 이름이 저장 -> 리스트나 딕셔너리 생성\n",
    "name_list = []\n",
    "# sample_data2에서 첫번째 원소의 'name'의 값을 추출하여 name_list에 추가 \n",
    "name = sample_data2[0]['name']\n",
    "name_list.append(name)\n",
    "print(name_list)"
   ]
  },
  {
   "cell_type": "code",
   "execution_count": 73,
   "id": "7616900c",
   "metadata": {},
   "outputs": [
    {
     "name": "stdout",
     "output_type": "stream",
     "text": [
      "['kim', 'park']\n",
      "['kim', 'park', 'lee']\n"
     ]
    }
   ],
   "source": [
    "# sample_data2에서 두번쨰 원소의 'name'의 값을 추출하여 name_list에 추가 \n",
    "name = sample_data2[1]['name']\n",
    "name_list.append(name)\n",
    "print(name_list)\n",
    "name = sample_data2[2]['name']\n",
    "name_list.append(name)\n",
    "print(name_list)"
   ]
  },
  {
   "cell_type": "code",
   "execution_count": 78,
   "id": "0c1fd6cb",
   "metadata": {},
   "outputs": [
    {
     "name": "stdout",
     "output_type": "stream",
     "text": [
      "['kim', 'park', 'lee']\n"
     ]
    }
   ],
   "source": [
    "# 반복문을 이용하여 name_list 생성 \n",
    "# 새로운 빈 리스트를 생성\n",
    "\n",
    "name_list2 = []\n",
    "\n",
    "for i in range( len(sample_data2) ):\n",
    "    name = sample_data2[i]['name']\n",
    "    name_list2.append(name)\n",
    "\n",
    "print(name_list2)"
   ]
  },
  {
   "cell_type": "code",
   "execution_count": 76,
   "id": "eefa9176",
   "metadata": {},
   "outputs": [
    {
     "data": {
      "text/plain": [
       "3"
      ]
     },
     "execution_count": 76,
     "metadata": {},
     "output_type": "execute_result"
    }
   ],
   "source": [
    "len(sample_data2)"
   ]
  },
  {
   "cell_type": "code",
   "execution_count": null,
   "id": "09eb908e",
   "metadata": {},
   "outputs": [],
   "source": [
    "list_a = [10, 40, 20, 30]\n",
    "\n",
    "for i in list_a:\n",
    "    # i는 -> list_a의 각 원소들이 대입 \n",
    "    print(i)\n",
    "\n",
    "for i in range(len(list_a)):\n",
    "    # i는 -> list_a의 위치 값 (0, 1, 2, 3)\n",
    "    print(list_a[i])"
   ]
  },
  {
   "cell_type": "code",
   "execution_count": null,
   "id": "fa99af43",
   "metadata": {},
   "outputs": [
    {
     "name": "stdout",
     "output_type": "stream",
     "text": [
      "{'name': 'kim', 'age': 20, 'gender': 'F'}\n",
      "kim\n",
      "{'name': 'park', 'age': 25, 'gender': 'M'}\n",
      "park\n",
      "{'name': 'lee', 'age': 30, 'gender': 'F'}\n",
      "lee\n",
      "['kim', 'park', 'lee']\n"
     ]
    }
   ],
   "source": [
    "name_list3 = []\n",
    "for i in sample_data2:\n",
    "    # i는 ??? -> sample_data2에 있는 원소들(dict) \n",
    "    # print(i)\n",
    "    # i에서 name이라는 key의 value를 추출 \n",
    "    # print(i['name'])\n",
    "    name_list3.append(i['name'])\n",
    "\n",
    "print(name_list3)\n",
    "    "
   ]
  },
  {
   "cell_type": "code",
   "execution_count": 85,
   "id": "f0f69062",
   "metadata": {},
   "outputs": [
    {
     "name": "stdout",
     "output_type": "stream",
     "text": [
      "name\n",
      "['kim', 'park', 'lee']\n",
      "age\n",
      "[20, 25, 30]\n",
      "gender\n",
      "['F', 'M', 'F']\n"
     ]
    }
   ],
   "source": [
    "# dict 형태의 데이터를 가지고 반복문을 이용한다면?\n",
    "for i in sample_data:\n",
    "    # i는???? -> dict 데이터에서 key 값들이 대입 \n",
    "    print(i)\n",
    "    print(sample_data[i])"
   ]
  },
  {
   "cell_type": "code",
   "execution_count": 88,
   "id": "8c9b4fea",
   "metadata": {},
   "outputs": [],
   "source": [
    "# sort() -> 리스트 각각의 원소들을 비교하여 가장 작은 데이터를 처음으로 \n",
    "# 가장 큰 데이터를 마지막으로 하여 정렬을 변경하는 함수 \n",
    "sample_list = [30, 10, 50, 7] \n",
    "# sample_list에서 가장 작은 데이터를 담아줄수 있는 새로운 빈 리스트 필요\n",
    "sort_list = []\n",
    "# sample_list의 길이만큼 반복을 하는 반복문을 생성 \n",
    "for i in range(0, len(sample_list) ):    #    4번 \n",
    "    # 첫번째 원소의 데이터를 최솟값으로 지정 \n",
    "    min_value = sample_list[0]\n",
    "    # 2번째 원소(1)부터 마지막 원소(len)까지 min_value 비교해서 작은 데이터를 min_value에 대입\n",
    "    for j in range(1, len(sample_list)):   #   3번 \n",
    "        # min_value와 sample_list[j] 데이터를 비교하여 작은 값을 찾는다. \n",
    "        if min_value > sample_list[j]:\n",
    "            # min_value가 리스트의 원소보다 크다면 실행이 되는 부분 \n",
    "            min_value = sample_list[j]\n",
    "\n",
    "    # print(min_value)\n",
    "    sort_list.append(min_value)\n",
    "    # sample_list에서 최솟값으로 지정된 데이터를 sample_list에서 제거 \n",
    "    sample_list.remove(min_value)"
   ]
  },
  {
   "cell_type": "code",
   "execution_count": 89,
   "id": "9bb9d873",
   "metadata": {},
   "outputs": [
    {
     "data": {
      "text/plain": [
       "[7, 10, 30, 50]"
      ]
     },
     "execution_count": 89,
     "metadata": {},
     "output_type": "execute_result"
    }
   ],
   "source": [
    "sort_list"
   ]
  },
  {
   "cell_type": "code",
   "execution_count": 92,
   "id": "f08d5077",
   "metadata": {},
   "outputs": [
    {
     "name": "stdout",
     "output_type": "stream",
     "text": [
      "[7, 10, 30, 50]\n"
     ]
    }
   ],
   "source": [
    "sample_list = [30, 10, 50, 7] \n",
    "sort_list = []\n",
    "\n",
    "for i in range(len(sample_list)):\n",
    "    # 반복 할때마다 sample_list의 가장 작은 데이터를 찾는다. -> min()\n",
    "    min_value = min(sample_list)\n",
    "    # print(min_value)\n",
    "    sort_list.append(min_value)\n",
    "    # sample_list에서 min_value 데이터를 제거\n",
    "    sample_list.remove(min_value)\n",
    "print(sort_list)"
   ]
  },
  {
   "cell_type": "code",
   "execution_count": 93,
   "id": "7f8568fa",
   "metadata": {},
   "outputs": [
    {
     "data": {
      "text/plain": [
       "[7, 10, 30, 50]"
      ]
     },
     "execution_count": 93,
     "metadata": {},
     "output_type": "execute_result"
    }
   ],
   "source": [
    "sample_list = [30, 10, 50, 7] \n",
    "sorted(sample_list)"
   ]
  },
  {
   "cell_type": "code",
   "execution_count": null,
   "id": "50959a63",
   "metadata": {},
   "outputs": [],
   "source": []
  }
 ],
 "metadata": {
  "kernelspec": {
   "display_name": "Python 3",
   "language": "python",
   "name": "python3"
  },
  "language_info": {
   "codemirror_mode": {
    "name": "ipython",
    "version": 3
   },
   "file_extension": ".py",
   "mimetype": "text/x-python",
   "name": "python",
   "nbconvert_exporter": "python",
   "pygments_lexer": "ipython3",
   "version": "3.11.9"
  }
 },
 "nbformat": 4,
 "nbformat_minor": 5
}
