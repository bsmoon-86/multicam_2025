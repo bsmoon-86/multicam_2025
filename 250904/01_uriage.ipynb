{
 "cells": [
  {
   "cell_type": "code",
   "execution_count": null,
   "id": "ed3c7544",
   "metadata": {},
   "outputs": [],
   "source": [
    "# csv 폴더 안에 있는 uriage.csv 파일을 로드 \n",
    "import pandas as pd"
   ]
  },
  {
   "cell_type": "code",
   "execution_count": null,
   "id": "6d686a1f",
   "metadata": {},
   "outputs": [],
   "source": [
    "# 상대경로 \n",
    "# 상위 디렉토리 이동(../) -> 하위 csv 디렉토리(csv/) -> uriage.csv\n",
    "\n",
    "uriage = pd.read_csv(\"../csv/uriage.csv\")"
   ]
  },
  {
   "cell_type": "code",
   "execution_count": null,
   "id": "ed90654e",
   "metadata": {},
   "outputs": [],
   "source": [
    "uriage.info()"
   ]
  },
  {
   "cell_type": "code",
   "execution_count": null,
   "id": "ceebb1f9",
   "metadata": {},
   "outputs": [],
   "source": [
    "uriage.head()"
   ]
  },
  {
   "cell_type": "code",
   "execution_count": null,
   "id": "3b69a264",
   "metadata": {},
   "outputs": [],
   "source": [
    "uriage.tail()"
   ]
  },
  {
   "cell_type": "code",
   "execution_count": null,
   "id": "2396e219",
   "metadata": {},
   "outputs": [],
   "source": [
    "# 결측치의 개수를 확인 \n",
    "uriage.isna().sum()"
   ]
  },
  {
   "cell_type": "markdown",
   "id": "115a88f3",
   "metadata": {},
   "source": [
    "- 문제점 \n",
    "    1. 결측치\n",
    "        - item_price 컬럼에서 결측치 존재 \n",
    "        - 결측치의 개수가 전체 데이터 개수와 비교해서 대략 10% 이상\n",
    "        - 결측치를 특정 데이터로 치환 \n",
    "    2. 데이터 정형화\n",
    "        - item_name의 데이터에서 데이터의 규칙의 문제 \n",
    "            - 대, 소문자 문제 \n",
    "                - 모든 문자를 대문자, 소문자로 통일 \n",
    "                - 문자열 함수 중 upper(), lower(), title()\n",
    "            - 문자 사이에 공백 문제 \n",
    "                - 문자 사이에 있는 공백을 제거 \n",
    "                - 문자 시작과 끝에만 공백이 존재한다면 -> strip() 함수를 이용하여 제거가 가능\n",
    "                - 문자열 사이에 공백를 제거하려면 -> replace() 함수를 이용하여 공백을 빈 문자로 치환하여 해결 "
   ]
  },
  {
   "cell_type": "code",
   "execution_count": null,
   "id": "0b6f22ac",
   "metadata": {},
   "outputs": [],
   "source": [
    "# 문자를 모두 대문자 변경 \n",
    "# item_name의 데이터를 확인 \n",
    "# Series안에 values의 개수를 파악한다. \n",
    "# value + 개수(count) -> value_counts()\n",
    "uriage['item_name'].value_counts()"
   ]
  },
  {
   "cell_type": "code",
   "execution_count": null,
   "id": "cf1174b4",
   "metadata": {},
   "outputs": [],
   "source": [
    "# 데이터에서 중복 값들은 제외 -> 유일한 리스트 데이터 생성 \n",
    "# 유일(unique)\n",
    "uriage['item_name'].unique()"
   ]
  },
  {
   "cell_type": "code",
   "execution_count": null,
   "id": "83d5ddc1",
   "metadata": {},
   "outputs": [],
   "source": [
    "# 문자를 대문자로 변경 -> upper() -> str class 안에 존재하는 함수 \n",
    "# str.upper()\n",
    "uriage.loc[2, 'item_name'].upper()"
   ]
  },
  {
   "cell_type": "code",
   "execution_count": null,
   "id": "1eab39b1",
   "metadata": {},
   "outputs": [],
   "source": [
    "# Series에서는 upper() 함수가 사용이 가능한가?? -> 불가능 -> 해당 함수가 존재하지 않는다.\n",
    "# uriage['item_name'].upper()"
   ]
  },
  {
   "cell_type": "code",
   "execution_count": null,
   "id": "b284fe01",
   "metadata": {},
   "outputs": [],
   "source": [
    "# 복사본 생성 \n",
    "df = uriage.copy()"
   ]
  },
  {
   "cell_type": "code",
   "execution_count": null,
   "id": "17fb81c8",
   "metadata": {},
   "outputs": [],
   "source": [
    "# case1\n",
    "# 반복문을 이용하여 모든 문자를 대문자로 변경 \n",
    "# 반복 횟수 : 2999번(데이터프레임의 길이)\n",
    "for i in range(0, len(df)):\n",
    "    df.loc[i, 'item_name'] = df.loc[ i, 'item_name' ].upper()"
   ]
  },
  {
   "cell_type": "code",
   "execution_count": null,
   "id": "4e56e389",
   "metadata": {},
   "outputs": [],
   "source": [
    "df['item_name']"
   ]
  },
  {
   "cell_type": "code",
   "execution_count": null,
   "id": "8017b08f",
   "metadata": {},
   "outputs": [],
   "source": [
    "df2 = uriage.copy()"
   ]
  },
  {
   "cell_type": "code",
   "execution_count": null,
   "id": "8dbd0dfb",
   "metadata": {},
   "outputs": [],
   "source": [
    "# case2 \n",
    "# Series.map() 함수를 이용하여 데이터 변환 \n",
    "# map() -> 1차원 데이터에서 각각의 원소들을 함수에 대입하여 결과를 \n",
    "# 받아와서 새로운 1차원 데이터 생성\n",
    "# map에서 사용하는 함수 일반 def 키워드 함수, lambda 함수 가능 \n",
    "# lambda 함수를 이용\n",
    "df2['item_name'].map(\n",
    "    # x의 타입은 str -> 문자열 내장함수인 upper() 사용 가능\n",
    "    lambda x : x.upper()\n",
    ")"
   ]
  },
  {
   "cell_type": "code",
   "execution_count": null,
   "id": "5559b898",
   "metadata": {},
   "outputs": [],
   "source": [
    "# map + 일반함수 \n",
    "def change(x):\n",
    "    # x의 대입이 되는 데이터는 타입이 str인 데이터 \n",
    "    # x에 문자열 내장함수 사용 가능\n",
    "    x = x.upper()\n",
    "    return x\n",
    "\n",
    "df2['item_name'] = df2['item_name'].map(\n",
    "    change\n",
    ")"
   ]
  },
  {
   "cell_type": "code",
   "execution_count": null,
   "id": "1cc95e93",
   "metadata": {},
   "outputs": [],
   "source": [
    "df3 = uriage.copy()"
   ]
  },
  {
   "cell_type": "code",
   "execution_count": null,
   "id": "46d24179",
   "metadata": {},
   "outputs": [],
   "source": [
    "# case3\n",
    "# Series 데이터에서 문자열 함수를 사용하기 위해 타입은 변경 \n",
    "df3['item_name'] = df3['item_name'].str.upper()"
   ]
  },
  {
   "cell_type": "code",
   "execution_count": null,
   "id": "55da0fe3",
   "metadata": {},
   "outputs": [],
   "source": [
    "# 문자열 대문자 변환 문제는 해결"
   ]
  },
  {
   "cell_type": "code",
   "execution_count": null,
   "id": "6efe81d8",
   "metadata": {},
   "outputs": [],
   "source": [
    "# 문자열 사이에 있는 공백을 제거 문제 \n",
    "# replace( ' ', '' )\n",
    "df['item_name'].str.replace(' ', '')"
   ]
  },
  {
   "cell_type": "code",
   "execution_count": null,
   "id": "e7970af3",
   "metadata": {},
   "outputs": [],
   "source": [
    "_val = [True, False, True]\n",
    "\n",
    "test = pd.Series(\n",
    "    _val\n",
    ")"
   ]
  },
  {
   "cell_type": "code",
   "execution_count": null,
   "id": "d166b45d",
   "metadata": {},
   "outputs": [],
   "source": [
    "test.astype(str).str.upper().astype(bool)"
   ]
  },
  {
   "cell_type": "code",
   "execution_count": null,
   "id": "ae36e631",
   "metadata": {},
   "outputs": [],
   "source": [
    "# uriage 데이터에서 item_name의 문자들을 일괄적으로 변환 \n",
    "uriage['item_name'].str.upper().str.replace(' ', '')"
   ]
  },
  {
   "cell_type": "code",
   "execution_count": null,
   "id": "fdabc5e6",
   "metadata": {},
   "outputs": [],
   "source": [
    "uriage['item_name'] = uriage['item_name'].str.upper()\n",
    "uriage['item_name'] = uriage['item_name'].str.replace(' ', '')"
   ]
  },
  {
   "cell_type": "code",
   "execution_count": null,
   "id": "13e8e916",
   "metadata": {},
   "outputs": [],
   "source": []
  },
  {
   "cell_type": "code",
   "execution_count": null,
   "id": "562c39cd",
   "metadata": {},
   "outputs": [],
   "source": [
    "type(\n",
    "    uriage['item_name'].str.upper().str.replace(' ', '')\n",
    "    )"
   ]
  },
  {
   "cell_type": "code",
   "execution_count": null,
   "id": "ed48fb22",
   "metadata": {},
   "outputs": [],
   "source": [
    "uriage['item_name'].value_counts()"
   ]
  },
  {
   "cell_type": "code",
   "execution_count": null,
   "id": "fe783598",
   "metadata": {},
   "outputs": [],
   "source": [
    "uriage['item_name'].unique()"
   ]
  },
  {
   "cell_type": "markdown",
   "id": "4fd09ed8",
   "metadata": {},
   "source": [
    "- item_price 데이터에 결측치 채우기 \n",
    "    - 상품별 결측치를 제외한 item_price의 평균을 구한다.\n",
    "    - 해당 상품의 item_price가 결측치인 데이터에 평균값을 대입 "
   ]
  },
  {
   "cell_type": "code",
   "execution_count": null,
   "id": "f062aead",
   "metadata": {},
   "outputs": [],
   "source": [
    "# 상품A의 item_price가 결측치가 아닌 데이터를 확인 \n",
    "# 조건식 -> item_name이 상품A인( uriage['item_name'] == '상품A' )\n",
    "#          item_price가 결측치 인 조건 ( uriage['item_price'].isna() )\n",
    "flag = uriage['item_name'] == '상품A'\n",
    "flag_null = uriage['item_price'].isna()"
   ]
  },
  {
   "cell_type": "code",
   "execution_count": null,
   "id": "70f2af9f",
   "metadata": {},
   "outputs": [],
   "source": [
    "# item_name이 상품A(flag) 이고(그리고) item_price가 결측치가 아닌(~flag_null) \n",
    "# 상품 정보(모든 컬럼)를 확인 \n",
    "uriage.loc[\n",
    "    flag & ~flag_null, \n",
    "]\n",
    "# 위의 인덱스 조건에서 item_price 컬럼(컬럼의 조건식)의 데이터의 평균값(mean()) 구한다. \n",
    "mean_price = uriage.loc[\n",
    "    flag & ~flag_null, \n",
    "    'item_price'\n",
    "].mean()"
   ]
  },
  {
   "cell_type": "code",
   "execution_count": null,
   "id": "c29dc6a3",
   "metadata": {},
   "outputs": [],
   "source": [
    "# mean_price를 item_name이 상품A(flag) 이고 item_price가 결측치인(flag_ null) \n",
    "# item_price에(컬럼의 조건) 대입\n",
    "uriage.loc[flag & flag_null, 'item_price'].fillna(mean_price, inplace=True)"
   ]
  },
  {
   "cell_type": "code",
   "execution_count": null,
   "id": "d21961c1",
   "metadata": {},
   "outputs": [],
   "source": [
    "uriage.loc[flag & flag_null, 'item_price'] = \\\n",
    "    uriage.loc[flag & flag_null, 'item_price'].fillna(mean_price)"
   ]
  },
  {
   "cell_type": "code",
   "execution_count": null,
   "id": "eb6af3e4",
   "metadata": {},
   "outputs": [],
   "source": [
    "uriage.loc[flag & flag_null, 'item_price']"
   ]
  },
  {
   "cell_type": "code",
   "execution_count": null,
   "id": "e196a781",
   "metadata": {},
   "outputs": [],
   "source": [
    "flag"
   ]
  },
  {
   "cell_type": "code",
   "execution_count": null,
   "id": "fce28bd0",
   "metadata": {},
   "outputs": [],
   "source": [
    "# 위의 작업들을 상품A부터 상품Z까지(item_name 데이터에서 중복으로 제거한 리스트) 반복 실행 \n",
    "item_list = uriage['item_name'].unique()\n",
    "\n",
    "# 반복문을 작성 \n",
    "# item_list의 길이만큼 반복 \n",
    "for item_name in item_list:\n",
    "# for i in range(len(item_list)):\n",
    "    # item_name 변수에는 item_list의 각각의 원소들이 대입 \n",
    "    # i는 -> item_list의 index값이 대입\n",
    "    flag = uriage['item_name'] == item_name\n",
    "    # flag = uriage['item_name'] == item_list[i]\n",
    "    flag_null = uriage['item_price'].isna()\n",
    "\n",
    "    mean_price = uriage.loc[flag & ~flag_null, 'item_price'].mean()\n",
    "\n",
    "    uriage.loc[flag & flag_null, 'item_price'] = mean_price"
   ]
  },
  {
   "cell_type": "code",
   "execution_count": null,
   "id": "55664387",
   "metadata": {},
   "outputs": [],
   "source": [
    "# 결측치의 개수를 확인 \n",
    "uriage.isna().sum()"
   ]
  },
  {
   "cell_type": "code",
   "execution_count": null,
   "id": "7bf7a16a",
   "metadata": {},
   "outputs": [],
   "source": [
    "uriage.groupby(['item_name'])['item_price'].mean()"
   ]
  }
 ],
 "metadata": {
  "kernelspec": {
   "display_name": "Python 3",
   "language": "python",
   "name": "python3"
  },
  "language_info": {
   "codemirror_mode": {
    "name": "ipython",
    "version": 3
   },
   "file_extension": ".py",
   "mimetype": "text/x-python",
   "name": "python",
   "nbconvert_exporter": "python",
   "pygments_lexer": "ipython3",
   "version": "3.11.9"
  }
 },
 "nbformat": 4,
 "nbformat_minor": 5
}
