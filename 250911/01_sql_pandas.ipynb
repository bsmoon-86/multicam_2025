{
 "cells": [
  {
   "cell_type": "code",
   "execution_count": null,
   "id": "5aba47e8",
   "metadata": {},
   "outputs": [],
   "source": [
    "# 라이브러리 로드 \n",
    "import pandas as pd\n",
    "from database import MyDB"
   ]
  },
  {
   "cell_type": "code",
   "execution_count": null,
   "id": "205f95a8",
   "metadata": {},
   "outputs": [],
   "source": [
    "# 로컬 DB server와의 연결 \n",
    "db1 = MyDB()"
   ]
  },
  {
   "cell_type": "code",
   "execution_count": null,
   "id": "e0d7ce60",
   "metadata": {},
   "outputs": [],
   "source": [
    "query_1 = \"\"\"\n",
    "    select * from `emp`\n",
    "\"\"\"\n",
    "emp_df = pd.DataFrame(db1.sql_query(query_1))\n",
    "emp_df"
   ]
  },
  {
   "cell_type": "code",
   "execution_count": null,
   "id": "9553b42c",
   "metadata": {},
   "outputs": [],
   "source": [
    "query_2 = \"\"\"\n",
    "    select * from `dept`\n",
    "\"\"\"\n",
    "dept_df = pd.DataFrame(db1.sql_query(query_2))\n",
    "dept_df"
   ]
  },
  {
   "cell_type": "code",
   "execution_count": null,
   "id": "cbc60e22",
   "metadata": {},
   "outputs": [],
   "source": [
    "emp_df.head(1)"
   ]
  },
  {
   "cell_type": "code",
   "execution_count": null,
   "id": "3da7c4d2",
   "metadata": {},
   "outputs": [],
   "source": [
    "# emp table에서 SAL 컬럼의 데이터가 1500 이상인 사원의 정보를 확인\n",
    "# DataFrame을 이용하여 확인 \n",
    "# 인덱스의 조건식 -> 기준이 인덱스의 값, value는 bool 형태의 데이터(Series)\n",
    "flag = emp_df['SAL'] >= 1500\n",
    "# 인덱스의 조건식을 이용하여 데이터프레임을 필터링 \n",
    "    # loc[인덱스의 조건, 컬럼의 조건]\n",
    "emp_df.loc[flag, ]"
   ]
  },
  {
   "cell_type": "code",
   "execution_count": null,
   "id": "5af4b9be",
   "metadata": {},
   "outputs": [],
   "source": [
    "# select query문을 이용하여 SAL이 1500이상인 데이터를 확인 \n",
    "query_3 = \"\"\"\n",
    "    select * from `emp`\n",
    "    where `SAL` >= 1500\n",
    "\"\"\"\n",
    "pd.DataFrame(\n",
    "    db1.sql_query(query_3)\n",
    ")"
   ]
  },
  {
   "cell_type": "code",
   "execution_count": null,
   "id": "89ab1a52",
   "metadata": {},
   "outputs": [],
   "source": [
    "# emp table에서 SAL이 1500 이상 이고 JOB이 MANAGER 인 사원의 정보를 확인 \n",
    "query_4 = \"\"\"\n",
    "    select * from `emp`\n",
    "    where \n",
    "    `SAL` >= 1500\n",
    "    and\n",
    "    `JOB` = \"MANAGER\"\n",
    "\"\"\"\n",
    "pd.DataFrame(\n",
    "    db1.sql_query(query_4)\n",
    ")"
   ]
  },
  {
   "cell_type": "code",
   "execution_count": null,
   "id": "1e04cf2a",
   "metadata": {},
   "outputs": [],
   "source": [
    "# 위의 조건식을 이용하여 같은 결과를 DataFrame에서 출력하시오\n",
    "flag = emp_df['SAL'] >= 1500\n",
    "flag2 = emp_df['JOB'] == 'MANAGER'\n",
    "emp_df.loc[ flag & flag2 , ]"
   ]
  },
  {
   "cell_type": "code",
   "execution_count": null,
   "id": "19db7fe4",
   "metadata": {},
   "outputs": [],
   "source": [
    "emp_df.loc[\n",
    "    (emp_df['SAL'] >= 1500) & (emp_df['JOB'] == 'MANAGER') ,\n",
    "]"
   ]
  },
  {
   "cell_type": "code",
   "execution_count": null,
   "id": "30074196",
   "metadata": {},
   "outputs": [],
   "source": [
    "emp_df.query(\n",
    "    \"(SAL >= 1500) and (JOB == 'MANAGER')\"\n",
    ")"
   ]
  },
  {
   "cell_type": "code",
   "execution_count": null,
   "id": "81b185e9",
   "metadata": {},
   "outputs": [],
   "source": [
    "# SAL의 데이터가 1500이상이고 2500이하인 사원번호와 사원 이름을 출력\n",
    "query_5 = \"\"\"\n",
    "    select `EMPNO`, `ENAME` from `emp`\n",
    "    where \n",
    "    `SAL` >= 1500 \n",
    "    and \n",
    "    `SAL` <= 2500\n",
    "\"\"\"\n",
    "pd.DataFrame(\n",
    "    db1.sql_query(query_5)\n",
    ")"
   ]
  },
  {
   "cell_type": "code",
   "execution_count": null,
   "id": "a0093b4e",
   "metadata": {},
   "outputs": [],
   "source": [
    "query_6 = \"\"\"\n",
    "    select `EMPNO`, `ENAME` from `emp`\n",
    "    where \n",
    "    `SAL` between 1500 and 2500\n",
    "\"\"\"\n",
    "pd.DataFrame(\n",
    "    db1.sql_query(query_6)\n",
    ")"
   ]
  },
  {
   "cell_type": "code",
   "execution_count": null,
   "id": "2d0db21f",
   "metadata": {},
   "outputs": [],
   "source": [
    "# emp_df를 이용하여 위와 같은 결과를 출력하시오\n",
    "emp_df.loc[\n",
    "    (emp_df['SAL'] >= 1500)\n",
    "    & \n",
    "    (emp_df['SAL'] <= 2500) , \n",
    "    ['EMPNO', 'ENAME']\n",
    "]"
   ]
  },
  {
   "cell_type": "code",
   "execution_count": null,
   "id": "1b7735dc",
   "metadata": {},
   "outputs": [],
   "source": [
    "emp_df.loc[\n",
    "    emp_df['SAL'].isin(range(1500, 2501)), \n",
    "    ['EMPNO', 'ENAME']\n",
    "]"
   ]
  },
  {
   "cell_type": "code",
   "execution_count": null,
   "id": "4100c261",
   "metadata": {},
   "outputs": [],
   "source": [
    "emp_df.loc[\n",
    "    emp_df['SAL'].between(1500, 2500), \n",
    "    ['EMPNO', 'ENAME']\n",
    "]"
   ]
  },
  {
   "cell_type": "code",
   "execution_count": null,
   "id": "1e4b300f",
   "metadata": {},
   "outputs": [],
   "source": [
    "# sql query 조건에서 2개의 데이터중 하나가 포함되어있는 조건 \n",
    "# JOB의 데이터가 MANAGER이거나 SALESMAN인 사원의 정보를 출력 \n",
    "query_7 = \"\"\"\n",
    "    select * from `emp`\n",
    "    where \n",
    "    `JOB` = \"MANAGER\"\n",
    "    or\n",
    "    `JOB` = \"SALESMAN\"\n",
    "\"\"\"\n",
    "pd.DataFrame(\n",
    "    db1.sql_query(query_7)\n",
    ")"
   ]
  },
  {
   "cell_type": "code",
   "execution_count": null,
   "id": "efb5e9a3",
   "metadata": {},
   "outputs": [],
   "source": [
    "query_8 = \"\"\"\n",
    "    select * from `emp`\n",
    "    where \n",
    "    `JOB` in (\"MANAGER\", \"SALESMAN\")\n",
    "\"\"\"\n",
    "pd.DataFrame(\n",
    "    db1.sql_query(query_8)\n",
    ")"
   ]
  },
  {
   "cell_type": "code",
   "execution_count": null,
   "id": "65883212",
   "metadata": {},
   "outputs": [],
   "source": [
    "# 사원의 이름이 특정 문자('S')로 시작하는 사원의 정보를 확인 \n",
    "query_9 = \"\"\"\n",
    "    select * from `emp`\n",
    "    where \n",
    "    `ENAME` like \"s%%\"\n",
    "\"\"\"\n",
    "pd.DataFrame(\n",
    "    db1.sql_query(query_9)\n",
    ")"
   ]
  },
  {
   "cell_type": "code",
   "execution_count": null,
   "id": "958115b9",
   "metadata": {},
   "outputs": [],
   "source": [
    "# emp_df에서 ENAME이 S로 시작하는 사원의 정보를 출력하자\n",
    "# case1 \n",
    "# 반복문 -> ENAME 컬럼의 데이터들을 하나씩 확인 \n",
    "emp_df['ENAME']\n",
    "\n",
    "word = 'S'\n",
    "flag_list = [] \n",
    "for i in emp_df['ENAME']:\n",
    "    # print(i[ : len(word)])\n",
    "    # print( word.lower() == i[ : len(word)].lower())\n",
    "    flag_list.append(\n",
    "        # 특정 문자로 시작하는 경우의 조건\n",
    "        word.lower() == i[ : len(word)].lower()\n",
    "        # 특정 문자로 끝나는 경우의 조건\n",
    "        # word.lower() == i[-len(word) : ].lower()\n",
    "    )\n",
    "\n",
    "emp_df.loc[flag_list, ]"
   ]
  },
  {
   "cell_type": "code",
   "execution_count": null,
   "id": "a6d61f27",
   "metadata": {},
   "outputs": [],
   "source": [
    "# 특정 문자가 포함되어있는가?\n",
    "flag_list = []\n",
    "\n",
    "word = 's'\n",
    "\n",
    "for i in emp_df['ENAME']:\n",
    "    flag_list.append(\n",
    "        word.lower() in i.lower()\n",
    "    )\n",
    "\n",
    "emp_df.loc[flag_list, ]\n"
   ]
  },
  {
   "cell_type": "code",
   "execution_count": null,
   "id": "f4b3f181",
   "metadata": {},
   "outputs": [],
   "source": [
    "word = 's'\n",
    "# word로 시작하는가?\n",
    "emp_df['ENAME'].map(\n",
    "    lambda x : x.lower().startswith(word)\n",
    ")"
   ]
  },
  {
   "cell_type": "code",
   "execution_count": null,
   "id": "6bae8d5a",
   "metadata": {},
   "outputs": [],
   "source": [
    "# word로 끝나는가?\n",
    "emp_df['ENAME'].map(\n",
    "    lambda x : x.lower().endswith(word)\n",
    ")"
   ]
  },
  {
   "cell_type": "code",
   "execution_count": null,
   "id": "2a957440",
   "metadata": {},
   "outputs": [],
   "source": [
    "# 특정 문자 포함 여부\n",
    "emp_df['ENAME'].str.lower().str.contains(word.lower())"
   ]
  },
  {
   "cell_type": "markdown",
   "id": "acd79a92",
   "metadata": {},
   "source": [
    "### 데이터프레임의 결합 \n",
    "- 유니언 결합 \n",
    "    - 단순하게 행을 결합하거나 열을 결합하는 방식 \n",
    "    - pandas에 내장된 concat() 함수를 이용\n",
    "        - concat( [데이터프레임1, 데이터프레임2, ...] )\n",
    "            - axis 매개변수\n",
    "                - 0(index, rows) : 단순 행을 결합\n",
    "                - 1(columns) : 단순 열을 결합 \n",
    "            - ignore_index 매개변수\n",
    "                - False : 결합되는 기준(인덱스, 컬럼)을 보존 \n",
    "                - True : 결합되는 기준(인덱스, 컬럼)을 초기화\n",
    "- 조인 결합 \n",
    "    - 특정한 조건에 맞춰서 열을 결합 \n",
    "    - 데이터프레임과 데이터프레임 간의 결합 -> 특정 컬럼의 데이터들이 같은 값들로 이루어져 있는 경우에 열을 추가하는 결합 방식\n",
    "    - pandas, DataFrame에 내장된 merge() 함수 이용\n",
    "    - 조건에 맞춰서 열을 결합 방식이기 때문에 concat()과는 다르게 2개의 데이터프레임만 결합 \n",
    "        - pd.merge( 데이터프레임명, 데이터프레임명 ) // df.merge(데이터프레임명)\n",
    "            - on 매개변수\n",
    "                - 조건식(두 개의 데이터프레임이 공통적으로 가지고 있는 데이터 컬럼명)\n",
    "                - 두개의 데이터프레임이 공통적으로 가지고 있는 데이터가 컬럼의 이름이 다른 경우 \n",
    "                    - left_on 매개변수 첫번째 데이터프레임의 컬럼명\n",
    "                    - right_on 매개변수 두번째 데이터프레임의 컬럼명\n",
    "            - how 매개변수\n",
    "                - 조인 결합의 방식을 지정 \n",
    "                    - inner : 두 개의 데이터프레임이 공통적으로 가지고 있는 데이터만 결합하여 출력 \n",
    "                    - left : 왼쪽(첫번째) 데이터프레임을 기준으로 결합 \n",
    "                    - right : 오른쪽(두번째) 데이터프레임을 기준으로 결합 \n",
    "                    - outer : 두개의 데이터프레임의 합집합"
   ]
  },
  {
   "cell_type": "code",
   "execution_count": null,
   "id": "1e38b96d",
   "metadata": {},
   "outputs": [],
   "source": [
    "# sql을 이용하여 tran_1, tran_2 테이블을 유니언 결합 \n",
    "query_10 = \"\"\"\n",
    "    select * from `tran_1`\n",
    "    union\n",
    "    select * from `tran_2`\n",
    "\"\"\"\n",
    "pd.DataFrame(\n",
    "    db1.sql_query(query_10)\n",
    ")"
   ]
  },
  {
   "cell_type": "code",
   "execution_count": null,
   "id": "792bee3d",
   "metadata": {},
   "outputs": [],
   "source": [
    "# 상대 경로 : 상위로 이동(../) -> csv 폴더 이동(csv/) -> tran_1.csv\n",
    "tran_1 = pd.read_csv(\"../csv/tran_1.csv\")\n",
    "tran_2 = pd.read_csv(\"../csv/tran_2.csv\")\n",
    "tran_d_1 = pd.read_csv(\"../csv/tran_d_1.csv\")\n",
    "trad_d_2 = pd.read_csv(\"../csv/tran_d_2.csv\")"
   ]
  },
  {
   "cell_type": "code",
   "execution_count": null,
   "id": "44435862",
   "metadata": {},
   "outputs": [],
   "source": [
    "pd.concat( [tran_1, tran_2], axis=0 )"
   ]
  },
  {
   "cell_type": "code",
   "execution_count": null,
   "id": "4b9288c8",
   "metadata": {},
   "outputs": [],
   "source": [
    "# 조인 결합 \n",
    "# tran_1, tran_d_1 조인 결합 \n",
    "# 조건 확인 -> 두개의 데이터프레임이 가지고 있는 같은 데이터가 무엇인가?"
   ]
  },
  {
   "cell_type": "code",
   "execution_count": null,
   "id": "2eac62c0",
   "metadata": {},
   "outputs": [],
   "source": [
    "tran_1.head(1)"
   ]
  },
  {
   "cell_type": "code",
   "execution_count": null,
   "id": "19f86770",
   "metadata": {},
   "outputs": [],
   "source": [
    "tran_d_1.head(1)"
   ]
  },
  {
   "cell_type": "code",
   "execution_count": null,
   "id": "d8333959",
   "metadata": {},
   "outputs": [],
   "source": [
    "# 두개의 데이터프레임에서 공통적으로 가지고 잇는 데이터는 transaction_id\n",
    "query_11 = \"\"\"\n",
    "    select \n",
    "    `t1`.`transaction_id` `거래 식별자`, \n",
    "    `payment_date` `지불 일자`, \n",
    "    `price` `가격`, \n",
    "    `quantity` `개수`, \n",
    "    `item_id` `아이템 이름`\n",
    "    from\n",
    "    `tran_1` `t1` left join `tran_d_1` `td1`\n",
    "    on `t1`.`transaction_id` = `td1`.`transaction_id`\n",
    "\"\"\"\n",
    "pd.DataFrame(\n",
    "    db1.sql_query(query_11)\n",
    ")"
   ]
  },
  {
   "cell_type": "code",
   "execution_count": null,
   "id": "48194c24",
   "metadata": {},
   "outputs": [],
   "source": [
    "# 위의 결과와 같은 작업 \n",
    "# left join 결합 \n",
    "tran_df = pd.merge( tran_1, tran_d_1, \n",
    "         how = 'left', on= 'transaction_id' )"
   ]
  },
  {
   "cell_type": "code",
   "execution_count": null,
   "id": "a11a3b0f",
   "metadata": {},
   "outputs": [],
   "source": [
    "# 특정 컬럼만 필터링 \n",
    "# (transaction_id, payment_date, price, quantity, item_id)\n",
    "tran_df.loc[ : , ['transaction_id', 'payment_date', 'price', \n",
    "                'quantity', 'item_id'] ]"
   ]
  },
  {
   "cell_type": "code",
   "execution_count": null,
   "id": "6017a54e",
   "metadata": {},
   "outputs": [],
   "source": [
    "tran_df = tran_df[ ['transaction_id', 'payment_date', 'price', \n",
    "                'quantity', 'item_id'] ]"
   ]
  },
  {
   "cell_type": "code",
   "execution_count": null,
   "id": "8f8f1c4c",
   "metadata": {},
   "outputs": [],
   "source": [
    "# 컬럼의 이름을 변경 \n",
    "# case1\n",
    "# rename() : 인덱스를 재지정하거나 컬럼을 재지정\n",
    "tran_df.rename(\n",
    "    columns= {\n",
    "        'transaction_id' : '거래 식별자', \n",
    "        'payment_date' : '지불 일자', \n",
    "        'price' : '가격', \n",
    "        'quantity' : '개수', \n",
    "        'item_id' : '아이템 이름'\n",
    "    }\n",
    ")"
   ]
  },
  {
   "cell_type": "code",
   "execution_count": 89,
   "id": "7cea7d92",
   "metadata": {},
   "outputs": [],
   "source": [
    "\n",
    "# case2\n",
    "# 데이터프레임 안에 저장된 변수 columns를 변경 \n",
    "# 바로 대입하는 경우 유의할 점 -> \n",
    "# 기존의 컬럼의 개수와 대입하려는 데이터의 개수가 같아야된다.\n",
    "tran_df.columns = ['거래 식별자', '지불 일자', '가격', \n",
    "                   '개수', '아이템 이름']"
   ]
  },
  {
   "cell_type": "code",
   "execution_count": 90,
   "id": "0aed9feb",
   "metadata": {},
   "outputs": [
    {
     "data": {
      "text/html": [
       "<div>\n",
       "<style scoped>\n",
       "    .dataframe tbody tr th:only-of-type {\n",
       "        vertical-align: middle;\n",
       "    }\n",
       "\n",
       "    .dataframe tbody tr th {\n",
       "        vertical-align: top;\n",
       "    }\n",
       "\n",
       "    .dataframe thead th {\n",
       "        text-align: right;\n",
       "    }\n",
       "</style>\n",
       "<table border=\"1\" class=\"dataframe\">\n",
       "  <thead>\n",
       "    <tr style=\"text-align: right;\">\n",
       "      <th></th>\n",
       "      <th>거래 식별자</th>\n",
       "      <th>지불 일자</th>\n",
       "      <th>가격</th>\n",
       "      <th>개수</th>\n",
       "      <th>아이템 이름</th>\n",
       "    </tr>\n",
       "  </thead>\n",
       "  <tbody>\n",
       "    <tr>\n",
       "      <th>0</th>\n",
       "      <td>T0000000113</td>\n",
       "      <td>2019-02-01 01:36:57</td>\n",
       "      <td>210000</td>\n",
       "      <td>1.0</td>\n",
       "      <td>S005</td>\n",
       "    </tr>\n",
       "    <tr>\n",
       "      <th>1</th>\n",
       "      <td>T0000000114</td>\n",
       "      <td>2019-02-01 01:37:23</td>\n",
       "      <td>50000</td>\n",
       "      <td>1.0</td>\n",
       "      <td>S001</td>\n",
       "    </tr>\n",
       "    <tr>\n",
       "      <th>2</th>\n",
       "      <td>T0000000115</td>\n",
       "      <td>2019-02-01 02:34:19</td>\n",
       "      <td>120000</td>\n",
       "      <td>1.0</td>\n",
       "      <td>S003</td>\n",
       "    </tr>\n",
       "    <tr>\n",
       "      <th>3</th>\n",
       "      <td>T0000000116</td>\n",
       "      <td>2019-02-01 02:47:23</td>\n",
       "      <td>210000</td>\n",
       "      <td>1.0</td>\n",
       "      <td>S005</td>\n",
       "    </tr>\n",
       "    <tr>\n",
       "      <th>4</th>\n",
       "      <td>T0000000117</td>\n",
       "      <td>2019-02-01 04:33:46</td>\n",
       "      <td>170000</td>\n",
       "      <td>2.0</td>\n",
       "      <td>S002</td>\n",
       "    </tr>\n",
       "    <tr>\n",
       "      <th>...</th>\n",
       "      <td>...</td>\n",
       "      <td>...</td>\n",
       "      <td>...</td>\n",
       "      <td>...</td>\n",
       "      <td>...</td>\n",
       "    </tr>\n",
       "    <tr>\n",
       "      <th>5238</th>\n",
       "      <td>T0000005108</td>\n",
       "      <td>2019-06-15 02:42:41</td>\n",
       "      <td>210000</td>\n",
       "      <td>NaN</td>\n",
       "      <td>NaN</td>\n",
       "    </tr>\n",
       "    <tr>\n",
       "      <th>5239</th>\n",
       "      <td>T0000005109</td>\n",
       "      <td>2019-06-15 03:36:16</td>\n",
       "      <td>150000</td>\n",
       "      <td>NaN</td>\n",
       "      <td>NaN</td>\n",
       "    </tr>\n",
       "    <tr>\n",
       "      <th>5240</th>\n",
       "      <td>T0000005110</td>\n",
       "      <td>2019-06-15 03:44:06</td>\n",
       "      <td>50000</td>\n",
       "      <td>NaN</td>\n",
       "      <td>NaN</td>\n",
       "    </tr>\n",
       "    <tr>\n",
       "      <th>5241</th>\n",
       "      <td>T0000005111</td>\n",
       "      <td>2019-06-15 04:14:06</td>\n",
       "      <td>210000</td>\n",
       "      <td>NaN</td>\n",
       "      <td>NaN</td>\n",
       "    </tr>\n",
       "    <tr>\n",
       "      <th>5242</th>\n",
       "      <td>T0000005112</td>\n",
       "      <td>2019-06-15 04:42:38</td>\n",
       "      <td>50000</td>\n",
       "      <td>NaN</td>\n",
       "      <td>NaN</td>\n",
       "    </tr>\n",
       "  </tbody>\n",
       "</table>\n",
       "<p>5243 rows × 5 columns</p>\n",
       "</div>"
      ],
      "text/plain": [
       "           거래 식별자                지불 일자      가격   개수 아이템 이름\n",
       "0     T0000000113  2019-02-01 01:36:57  210000  1.0   S005\n",
       "1     T0000000114  2019-02-01 01:37:23   50000  1.0   S001\n",
       "2     T0000000115  2019-02-01 02:34:19  120000  1.0   S003\n",
       "3     T0000000116  2019-02-01 02:47:23  210000  1.0   S005\n",
       "4     T0000000117  2019-02-01 04:33:46  170000  2.0   S002\n",
       "...           ...                  ...     ...  ...    ...\n",
       "5238  T0000005108  2019-06-15 02:42:41  210000  NaN    NaN\n",
       "5239  T0000005109  2019-06-15 03:36:16  150000  NaN    NaN\n",
       "5240  T0000005110  2019-06-15 03:44:06   50000  NaN    NaN\n",
       "5241  T0000005111  2019-06-15 04:14:06  210000  NaN    NaN\n",
       "5242  T0000005112  2019-06-15 04:42:38   50000  NaN    NaN\n",
       "\n",
       "[5243 rows x 5 columns]"
      ]
     },
     "execution_count": 90,
     "metadata": {},
     "output_type": "execute_result"
    }
   ],
   "source": [
    "tran_df"
   ]
  },
  {
   "cell_type": "code",
   "execution_count": 93,
   "id": "d6f3136b",
   "metadata": {},
   "outputs": [
    {
     "data": {
      "text/html": [
       "<div>\n",
       "<style scoped>\n",
       "    .dataframe tbody tr th:only-of-type {\n",
       "        vertical-align: middle;\n",
       "    }\n",
       "\n",
       "    .dataframe tbody tr th {\n",
       "        vertical-align: top;\n",
       "    }\n",
       "\n",
       "    .dataframe thead th {\n",
       "        text-align: right;\n",
       "    }\n",
       "</style>\n",
       "<table border=\"1\" class=\"dataframe\">\n",
       "  <thead>\n",
       "    <tr style=\"text-align: right;\">\n",
       "      <th></th>\n",
       "      <th>EMPNO</th>\n",
       "      <th>ENAME</th>\n",
       "      <th>JOB</th>\n",
       "      <th>MGR</th>\n",
       "      <th>HIREDATE</th>\n",
       "      <th>SAL</th>\n",
       "      <th>COMM</th>\n",
       "      <th>DEPTNO</th>\n",
       "    </tr>\n",
       "  </thead>\n",
       "  <tbody>\n",
       "    <tr>\n",
       "      <th>0</th>\n",
       "      <td>7566.0</td>\n",
       "      <td>JONES</td>\n",
       "      <td>MANAGER</td>\n",
       "      <td>7839.0</td>\n",
       "      <td>1981-04-02</td>\n",
       "      <td>2975.0</td>\n",
       "      <td>0.0</td>\n",
       "      <td>20.0</td>\n",
       "    </tr>\n",
       "    <tr>\n",
       "      <th>1</th>\n",
       "      <td>7782.0</td>\n",
       "      <td>CLARK</td>\n",
       "      <td>MANAGER</td>\n",
       "      <td>7839.0</td>\n",
       "      <td>1981-06-09</td>\n",
       "      <td>2450.0</td>\n",
       "      <td>0.0</td>\n",
       "      <td>10.0</td>\n",
       "    </tr>\n",
       "    <tr>\n",
       "      <th>2</th>\n",
       "      <td>7698.0</td>\n",
       "      <td>BLAKE</td>\n",
       "      <td>MANAGER</td>\n",
       "      <td>7839.0</td>\n",
       "      <td>1981-05-01</td>\n",
       "      <td>2850.0</td>\n",
       "      <td>0.0</td>\n",
       "      <td>30.0</td>\n",
       "    </tr>\n",
       "  </tbody>\n",
       "</table>\n",
       "</div>"
      ],
      "text/plain": [
       "    EMPNO  ENAME      JOB     MGR    HIREDATE     SAL  COMM  DEPTNO\n",
       "0  7566.0  JONES  MANAGER  7839.0  1981-04-02  2975.0   0.0    20.0\n",
       "1  7782.0  CLARK  MANAGER  7839.0  1981-06-09  2450.0   0.0    10.0\n",
       "2  7698.0  BLAKE  MANAGER  7839.0  1981-05-01  2850.0   0.0    30.0"
      ]
     },
     "execution_count": 93,
     "metadata": {},
     "output_type": "execute_result"
    }
   ],
   "source": [
    "# 정렬 방식 \n",
    "# DataFrame -> sort_values()\n",
    "# SQL -> order by `컬럼` [ASC : 오름차순, DESC : 내림차순]\n",
    "\n",
    "query_12 = \"\"\"\n",
    "    select * from `emp`\n",
    "    where `JOB` = \"MANAGER\"\n",
    "    order by `ENAME` desc\n",
    "\"\"\"\n",
    "\n",
    "pd.DataFrame(\n",
    "    db1.sql_query(query_12)\n",
    ")"
   ]
  },
  {
   "cell_type": "code",
   "execution_count": 97,
   "id": "57950472",
   "metadata": {},
   "outputs": [
    {
     "data": {
      "text/html": [
       "<div>\n",
       "<style scoped>\n",
       "    .dataframe tbody tr th:only-of-type {\n",
       "        vertical-align: middle;\n",
       "    }\n",
       "\n",
       "    .dataframe tbody tr th {\n",
       "        vertical-align: top;\n",
       "    }\n",
       "\n",
       "    .dataframe thead th {\n",
       "        text-align: right;\n",
       "    }\n",
       "</style>\n",
       "<table border=\"1\" class=\"dataframe\">\n",
       "  <thead>\n",
       "    <tr style=\"text-align: right;\">\n",
       "      <th></th>\n",
       "      <th>JOB</th>\n",
       "      <th>mean_SAL</th>\n",
       "    </tr>\n",
       "  </thead>\n",
       "  <tbody>\n",
       "    <tr>\n",
       "      <th>0</th>\n",
       "      <td>PRESIDENT</td>\n",
       "      <td>5000.000000</td>\n",
       "    </tr>\n",
       "    <tr>\n",
       "      <th>1</th>\n",
       "      <td>ANALYST</td>\n",
       "      <td>3000.000000</td>\n",
       "    </tr>\n",
       "    <tr>\n",
       "      <th>2</th>\n",
       "      <td>MANAGER</td>\n",
       "      <td>2758.333333</td>\n",
       "    </tr>\n",
       "    <tr>\n",
       "      <th>3</th>\n",
       "      <td>SALESMAN</td>\n",
       "      <td>1400.000000</td>\n",
       "    </tr>\n",
       "    <tr>\n",
       "      <th>4</th>\n",
       "      <td>CLERK</td>\n",
       "      <td>1037.500000</td>\n",
       "    </tr>\n",
       "  </tbody>\n",
       "</table>\n",
       "</div>"
      ],
      "text/plain": [
       "         JOB     mean_SAL\n",
       "0  PRESIDENT  5000.000000\n",
       "1    ANALYST  3000.000000\n",
       "2    MANAGER  2758.333333\n",
       "3   SALESMAN  1400.000000\n",
       "4      CLERK  1037.500000"
      ]
     },
     "execution_count": 97,
     "metadata": {},
     "output_type": "execute_result"
    }
   ],
   "source": [
    "# 그룹화 sql \n",
    "# JOB을 기준으로 그룹화 -> SAL의 평균을 구한다. \n",
    "# -> JOB, SAL의 평균 컬럼으로 지정 -> SAL의 평균을 기준으로 내림차순\n",
    "query_13 = \"\"\"\n",
    "    select \n",
    "    `JOB`, AVG(`SAL`) `mean_SAL`\n",
    "    from \n",
    "    `emp` \n",
    "    group by \n",
    "    `JOB`\n",
    "    order by \n",
    "    `mean_SAL` DESC\n",
    "\"\"\"\n",
    "\n",
    "pd.DataFrame(\n",
    "    db1.sql_query(query_13)\n",
    ")\n"
   ]
  }
 ],
 "metadata": {
  "kernelspec": {
   "display_name": "Python 3",
   "language": "python",
   "name": "python3"
  },
  "language_info": {
   "codemirror_mode": {
    "name": "ipython",
    "version": 3
   },
   "file_extension": ".py",
   "mimetype": "text/x-python",
   "name": "python",
   "nbconvert_exporter": "python",
   "pygments_lexer": "ipython3",
   "version": "3.11.9"
  }
 },
 "nbformat": 4,
 "nbformat_minor": 5
}
