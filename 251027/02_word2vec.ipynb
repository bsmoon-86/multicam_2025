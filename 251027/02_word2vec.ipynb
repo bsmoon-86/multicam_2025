{
 "cells": [
  {
   "cell_type": "code",
   "execution_count": null,
   "id": "35c0404f",
   "metadata": {},
   "outputs": [],
   "source": [
    "# 라이브러리 설치 \n",
    "# !pip install gensim"
   ]
  },
  {
   "cell_type": "code",
   "execution_count": 2,
   "id": "0fc7824d",
   "metadata": {},
   "outputs": [],
   "source": [
    "from gensim.models import Word2Vec"
   ]
  },
  {
   "cell_type": "code",
   "execution_count": 3,
   "id": "76fe96f6",
   "metadata": {},
   "outputs": [],
   "source": [
    "# 토큰화가 된 데이터 셋을 임의로 생성 \n",
    "sentences = [\n",
    "    ['오늘', '날씨', '좋다'], \n",
    "    ['강아지', '산책', '기분', '좋다'], \n",
    "    ['비', '오다', '산책', '못하다']\n",
    "]"
   ]
  },
  {
   "cell_type": "code",
   "execution_count": 4,
   "id": "c176304c",
   "metadata": {},
   "outputs": [],
   "source": [
    "# Word2Vec 객체를 생성하면서 데이터를 입력 \n",
    "model = Word2Vec(\n",
    "    sentences= sentences, \n",
    "    vector_size= 100, \n",
    "    window=5, \n",
    "    min_count=1, \n",
    "    sg= 1, \n",
    "    epochs= 100, \n",
    "    seed = 42 \n",
    ")"
   ]
  },
  {
   "cell_type": "code",
   "execution_count": 8,
   "id": "bf6155ac",
   "metadata": {},
   "outputs": [
    {
     "name": "stdout",
     "output_type": "stream",
     "text": [
      "KeyedVectors<vector_size=100, 9 keys>\n"
     ]
    }
   ],
   "source": [
    "# 단위 벡터 출력 \n",
    "print(model.wv)"
   ]
  },
  {
   "cell_type": "code",
   "execution_count": 7,
   "id": "63a1b7fa",
   "metadata": {},
   "outputs": [
    {
     "name": "stdout",
     "output_type": "stream",
     "text": [
      "[('오늘', 0.1943289339542389), ('좋다', 0.09307777136564255), ('기분', 0.03429308161139488), ('못하다', 0.029127657413482666), ('날씨', 0.00435193907469511), ('오다', -0.007374857552349567), ('강아지', -0.009019400924444199), ('비', -0.02072860859334469)]\n"
     ]
    }
   ],
   "source": [
    "# 코사인 유사도 \n",
    "print(model.wv.most_similar('산책'))"
   ]
  }
 ],
 "metadata": {
  "kernelspec": {
   "display_name": "Python 3",
   "language": "python",
   "name": "python3"
  },
  "language_info": {
   "codemirror_mode": {
    "name": "ipython",
    "version": 3
   },
   "file_extension": ".py",
   "mimetype": "text/x-python",
   "name": "python",
   "nbconvert_exporter": "python",
   "pygments_lexer": "ipython3",
   "version": "3.11.9"
  }
 },
 "nbformat": 4,
 "nbformat_minor": 5
}
