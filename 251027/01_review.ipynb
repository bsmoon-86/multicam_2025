{
 "cells": [
  {
   "cell_type": "code",
   "execution_count": null,
   "id": "139db327",
   "metadata": {},
   "outputs": [],
   "source": [
    "import os \n",
    "from glob import glob\n",
    "import pandas as pd"
   ]
  },
  {
   "cell_type": "code",
   "execution_count": null,
   "id": "209c139a",
   "metadata": {},
   "outputs": [],
   "source": [
    "# 특정 경로의 파일의 목록을 가져오는 기능 \n",
    "# os 라이브러리를 이용\n",
    "os.listdir('./')"
   ]
  },
  {
   "cell_type": "code",
   "execution_count": null,
   "id": "3798b866",
   "metadata": {},
   "outputs": [],
   "source": [
    "# glob 이용 \n",
    "# 장점 : 파일의 경로와 파일의 이름을 하나의 리스트로 생성 \n",
    "#       특정 확장자만 선택해서 리스트로 생성이 가능\n",
    "json_list = glob(\"./*.json\")"
   ]
  },
  {
   "cell_type": "code",
   "execution_count": null,
   "id": "0a8f10d7",
   "metadata": {},
   "outputs": [],
   "source": [
    "# json_list를 이용하여 하나의 데이터프레임으로 단순 행 결합\n",
    "\n",
    "# 빈 데이터프레임을 생성\n",
    "total_df = pd.DataFrame()\n",
    "\n",
    "for file_path in json_list:\n",
    "    # print(file_path)\n",
    "    df = pd.read_json(file_path)\n",
    "    # total_df, df를 단순 행결합을 하여 total_df에 대입 \n",
    "    total_df = pd.concat( [total_df, df], axis=0 )\n",
    "    # print(df)\n",
    "    # break\n",
    "total_df.reset_index(drop=True, inplace=True)"
   ]
  },
  {
   "cell_type": "code",
   "execution_count": null,
   "id": "7a003426",
   "metadata": {},
   "outputs": [],
   "source": [
    "total_df.info()"
   ]
  },
  {
   "cell_type": "code",
   "execution_count": null,
   "id": "a3621268",
   "metadata": {},
   "outputs": [],
   "source": [
    "pd.concat(\n",
    "    [ pd.read_json(file_path) for file_path in json_list[:5] ]\n",
    ").info()"
   ]
  },
  {
   "cell_type": "code",
   "execution_count": null,
   "id": "bc1ceeee",
   "metadata": {},
   "outputs": [],
   "source": [
    "# Aspects 의 데이터를 하나로 합치고 새로운 데이터 프레임을 생성 \n",
    "aspect_df = pd.DataFrame(sum(total_df['Aspects'], []))"
   ]
  },
  {
   "cell_type": "code",
   "execution_count": null,
   "id": "3d4a708e",
   "metadata": {},
   "outputs": [],
   "source": [
    "aspect_df.info()"
   ]
  },
  {
   "cell_type": "code",
   "execution_count": null,
   "id": "c8e0df4b",
   "metadata": {},
   "outputs": [],
   "source": [
    "# 데이터의 분균형 문제 확인 \n",
    "aspect_df['SentimentPolarity'].value_counts()"
   ]
  },
  {
   "cell_type": "code",
   "execution_count": null,
   "id": "99cfc8af",
   "metadata": {},
   "outputs": [],
   "source": [
    "aspect_df.isna().sum()"
   ]
  },
  {
   "cell_type": "code",
   "execution_count": null,
   "id": "2e8e2441",
   "metadata": {},
   "outputs": [],
   "source": [
    "# 데이터셋에서 문자열의 좌우의 공백을 제거 \n",
    "# 모든 컬럼이 Object 형이기 때문에 strip() 바로 사용 가능\n",
    "aspect_df = aspect_df.map(lambda x : x.strip())"
   ]
  },
  {
   "cell_type": "code",
   "execution_count": null,
   "id": "4072c563",
   "metadata": {},
   "outputs": [],
   "source": [
    "aspect_df.isin(['']).sum()"
   ]
  },
  {
   "cell_type": "code",
   "execution_count": null,
   "id": "5b6516bb",
   "metadata": {},
   "outputs": [],
   "source": [
    "aspect_df['SentimentText'].value_counts()"
   ]
  },
  {
   "cell_type": "code",
   "execution_count": null,
   "id": "035390e0",
   "metadata": {},
   "outputs": [],
   "source": [
    "before_cnt = len(aspect_df)\n",
    "\n",
    "aspect_df.drop_duplicates('SentimentText', inplace=True)\n",
    "\n",
    "after_cnt = len(aspect_df)\n",
    "\n",
    "print(f\"제거가 된 행의 개수 {before_cnt - after_cnt}\")"
   ]
  },
  {
   "cell_type": "code",
   "execution_count": null,
   "id": "ff39776e",
   "metadata": {},
   "outputs": [],
   "source": [
    "# 1, 0, -1 의 비율을 확인 \n",
    "aspect_df['SentimentPolarity'].value_counts()"
   ]
  },
  {
   "cell_type": "code",
   "execution_count": null,
   "id": "f71e16fd",
   "metadata": {},
   "outputs": [],
   "source": [
    "# 인덱스를 초기화 \n",
    "aspect_df.reset_index(drop=True, inplace=True)"
   ]
  },
  {
   "cell_type": "code",
   "execution_count": null,
   "id": "78d1fcd3",
   "metadata": {},
   "outputs": [],
   "source": [
    "# 토큰화 -> 백터화 \n",
    "from konlpy.tag import Komoran\n",
    "from sklearn.feature_extraction.text import TfidfVectorizer\n",
    "\n",
    "komoran = Komoran()\n",
    "allow_pos = ['NNP', 'NNG', 'VV', 'VA', 'MAG', 'SL']\n",
    "\n",
    "def komoran_tokenize(text):\n",
    "    tokens = []\n",
    "    for word, pos in komoran.pos(text):\n",
    "        if (pos in allow_pos) & (len(word) >= 2)  :\n",
    "            tokens.append(word)\n",
    "    return tokens\n",
    "\n",
    "vectorizer = TfidfVectorizer(\n",
    "    tokenizer= komoran_tokenize, \n",
    "    ngram_range=(1, 2), \n",
    "    min_df = 3, \n",
    "    max_df=0.8, \n",
    "    max_features=30000\n",
    ")"
   ]
  },
  {
   "cell_type": "code",
   "execution_count": null,
   "id": "e5bf4334",
   "metadata": {},
   "outputs": [],
   "source": [
    "# 모델 생성 \n",
    "from sklearn.svm import LinearSVC\n",
    "from sklearn.pipeline import Pipeline\n",
    "from sklearn.multioutput import MultiOutputClassifier"
   ]
  },
  {
   "cell_type": "code",
   "execution_count": null,
   "id": "2495546d",
   "metadata": {},
   "outputs": [],
   "source": [
    "svc = LinearSVC(random_state=42, class_weight='balanced')\n",
    "\n",
    "multi_model = MultiOutputClassifier(svc)\n",
    "\n",
    "pipe = Pipeline(\n",
    "    [\n",
    "        ('vector', vectorizer), \n",
    "        ('model', multi_model)\n",
    "    ]\n",
    ")\n"
   ]
  },
  {
   "cell_type": "code",
   "execution_count": null,
   "id": "db26ddd7",
   "metadata": {},
   "outputs": [],
   "source": [
    "# 계층화 폴드 \n",
    "from sklearn.model_selection import KFold\n",
    "\n",
    "skfold = KFold(n_splits=3, shuffle= True, \n",
    "                         random_state=42)"
   ]
  },
  {
   "cell_type": "code",
   "execution_count": null,
   "id": "3d86860c",
   "metadata": {},
   "outputs": [],
   "source": [
    "aspect_df.info()"
   ]
  },
  {
   "cell_type": "code",
   "execution_count": null,
   "id": "8757f756",
   "metadata": {},
   "outputs": [],
   "source": [
    "from sklearn.preprocessing import LabelEncoder"
   ]
  },
  {
   "cell_type": "code",
   "execution_count": null,
   "id": "8270ac79",
   "metadata": {},
   "outputs": [],
   "source": [
    "le = LabelEncoder()\n",
    "aspect_df['Aspect'] = le.fit_transform(aspect_df['Aspect'])\n",
    "aspect_df['SentimentPolarity'] = aspect_df[\n",
    "    'SentimentPolarity'].astype('int')"
   ]
  },
  {
   "cell_type": "code",
   "execution_count": null,
   "id": "39a4ad24",
   "metadata": {},
   "outputs": [],
   "source": [
    "# 독립 변수 , 종속 변수 생성\n",
    "X = aspect_df['SentimentText'].values\n",
    "Y = aspect_df[['Aspect', 'SentimentPolarity']].values"
   ]
  },
  {
   "cell_type": "code",
   "execution_count": null,
   "id": "df2541c3",
   "metadata": {},
   "outputs": [],
   "source": [
    "print(X.shape, Y.shape)"
   ]
  },
  {
   "cell_type": "code",
   "execution_count": null,
   "id": "b14e036d",
   "metadata": {},
   "outputs": [],
   "source": [
    "print(type(Y[0][0]), type(Y[0][1]))"
   ]
  },
  {
   "cell_type": "code",
   "execution_count": null,
   "id": "87cfafe8",
   "metadata": {},
   "outputs": [],
   "source": [
    "from sklearn.model_selection import GridSearchCV"
   ]
  },
  {
   "cell_type": "code",
   "execution_count": null,
   "id": "66442b69",
   "metadata": {},
   "outputs": [],
   "source": [
    "params = {\n",
    "    'model__estimator__C' : [1.0, 2.0]\n",
    "}\n",
    "grid = GridSearchCV(\n",
    "    estimator=pipe, \n",
    "    param_grid= params, \n",
    "    cv = skfold, \n",
    "    scoring=\"accuracy\"\n",
    ")"
   ]
  },
  {
   "cell_type": "code",
   "execution_count": null,
   "id": "b999ea25",
   "metadata": {},
   "outputs": [],
   "source": [
    "grid.fit(X, Y)"
   ]
  },
  {
   "cell_type": "code",
   "execution_count": null,
   "id": "1887d10a",
   "metadata": {},
   "outputs": [],
   "source": [
    "grid.best_"
   ]
  },
  {
   "cell_type": "markdown",
   "id": "94e9d7e8",
   "metadata": {},
   "source": [
    "1. total_df에서 rawText 컬럼의 데이터들을 이용하여 Kkma를 이용하여 문장별로 나눠준다. \n",
    "2. grid의 best_estimator_에서 예측을 실행 \n",
    "3. 실행된 결과 값을 이용하여 데이터프레임( RawText, Aspect_pred, Pola_pred )으로 생성 \n",
    "4. rawText, Aspect_pred 값을 이용하여 그룹화 -> 그룹화 연산에는 평균 "
   ]
  },
  {
   "cell_type": "code",
   "execution_count": null,
   "id": "0fc16356",
   "metadata": {},
   "outputs": [],
   "source": [
    "best_model = grid.best_estimator_"
   ]
  },
  {
   "cell_type": "code",
   "execution_count": null,
   "id": "00c1228e",
   "metadata": {},
   "outputs": [],
   "source": [
    "total_df.columns"
   ]
  },
  {
   "cell_type": "code",
   "execution_count": null,
   "id": "3549c656",
   "metadata": {},
   "outputs": [],
   "source": [
    "total_df.loc[0, 'RawText']"
   ]
  },
  {
   "cell_type": "code",
   "execution_count": null,
   "id": "4bdd88b7",
   "metadata": {},
   "outputs": [],
   "source": [
    "from konlpy.tag import Kkma"
   ]
  },
  {
   "cell_type": "code",
   "execution_count": null,
   "id": "4c735aec",
   "metadata": {},
   "outputs": [],
   "source": [
    "kkma = Kkma()\n",
    "# raw_list에는 리뷰 문단을 문장으로 나눈 리스트를 담기 위한 공간\n",
    "raw_list = []\n",
    "# raw_dict 리뷰 문단마다 index를 키값으로 value는 리뷰 문단\n",
    "raw_dict = {}\n",
    "for i in range(len(total_df)):\n",
    "    # print(kkma.sentences(total_df.loc[i, 'RawText']))\n",
    "    # break\n",
    "    raw_list.append(kkma.sentences(total_df.loc[i, 'RawText']))\n",
    "    raw_dict[i] = total_df.loc[i, 'RawText']"
   ]
  },
  {
   "cell_type": "code",
   "execution_count": null,
   "id": "f8fcb2f1",
   "metadata": {},
   "outputs": [],
   "source": [
    "sentence_df = pd.DataFrame()\n",
    "for idx, raw in enumerate(raw_list):\n",
    "    # print(raw)\n",
    "    pred = best_model.predict(raw)\n",
    "    # print(pred)\n",
    "    temp_df = pd.DataFrame(pred, columns = [\n",
    "        'Aspect_pred', 'Pola_pred'])\n",
    "    temp_df['RawText'] = raw_dict[idx]\n",
    "    # display(temp_df)\n",
    "    sentence_df = pd.concat([sentence_df, temp_df])\n",
    "    # break"
   ]
  },
  {
   "cell_type": "code",
   "execution_count": null,
   "id": "c5e6488c",
   "metadata": {},
   "outputs": [],
   "source": [
    "len(sum(raw_list, []))"
   ]
  },
  {
   "cell_type": "code",
   "execution_count": null,
   "id": "30b6a662",
   "metadata": {},
   "outputs": [],
   "source": [
    "sentence_df"
   ]
  },
  {
   "cell_type": "code",
   "execution_count": null,
   "id": "4910311e",
   "metadata": {},
   "outputs": [],
   "source": [
    "group_df = sentence_df.groupby(['RawText', \n",
    "                                'Aspect_pred']).mean()"
   ]
  },
  {
   "cell_type": "code",
   "execution_count": null,
   "id": "13927232",
   "metadata": {},
   "outputs": [],
   "source": [
    "group_df.reset_index(inplace=True)"
   ]
  },
  {
   "cell_type": "code",
   "execution_count": null,
   "id": "d3787f84",
   "metadata": {},
   "outputs": [],
   "source": [
    "group_df['Aspect_pred'] = le.inverse_transform(group_df[\n",
    "    'Aspect_pred'])"
   ]
  },
  {
   "cell_type": "code",
   "execution_count": null,
   "id": "b1e90341",
   "metadata": {},
   "outputs": [],
   "source": [
    "group_df.index"
   ]
  },
  {
   "cell_type": "code",
   "execution_count": null,
   "id": "acb7a15f",
   "metadata": {},
   "outputs": [],
   "source": [
    "total_df.index"
   ]
  },
  {
   "cell_type": "code",
   "execution_count": null,
   "id": "b9d26cd2",
   "metadata": {},
   "outputs": [],
   "source": [
    "# total_df와 group_df를 조인 결합 \n",
    "review_df = pd.merge(total_df, group_df, on = 'RawText', how = 'inner')"
   ]
  },
  {
   "cell_type": "code",
   "execution_count": null,
   "id": "c3c49240",
   "metadata": {},
   "outputs": [],
   "source": [
    "review_df.info()"
   ]
  },
  {
   "cell_type": "code",
   "execution_count": null,
   "id": "938f5970",
   "metadata": {},
   "outputs": [],
   "source": [
    "# ProductName의 빈도 수 체크 \n",
    "len(review_df['ProductName'].unique())"
   ]
  },
  {
   "cell_type": "code",
   "execution_count": null,
   "id": "fca1ec81",
   "metadata": {},
   "outputs": [],
   "source": [
    "# 제품별 리뷰의 상세 감정 분석이 가능\n",
    "# 제품 이름 중 가장 많은 리뷰를 가진 제품을 선택하여 감정 점수의 평균을 확인\n",
    "review_df.groupby(['ProductName', 'RawText']).n()"
   ]
  },
  {
   "cell_type": "code",
   "execution_count": null,
   "id": "cdbbe407",
   "metadata": {},
   "outputs": [],
   "source": [
    "pd.pivot_table(\n",
    "    data = review_df.drop_duplicates('RawText'),\n",
    "    index = 'ProductName', \n",
    "    values = 'RawText', \n",
    "    aggfunc= ('count')\n",
    ").sort_values('RawText',ascending=False).index[0]"
   ]
  },
  {
   "cell_type": "code",
   "execution_count": null,
   "id": "759fe8a8",
   "metadata": {},
   "outputs": [],
   "source": [
    "product_name = 'OO 코튼 가디건 '\n",
    "# 해당 제품의 리뷰들의 전체적인 감정의 점수를 출력 \n",
    "# case1 -> ProductName에서 필터링을 한 뒤 Aspect_pred 를 \n",
    "# 기준으로  그룹화 -> Pola_pred의 평균 \n",
    "test_df = review_df.loc[review_df['ProductName'] == product_name, ]\n",
    "test_df"
   ]
  },
  {
   "cell_type": "code",
   "execution_count": null,
   "id": "8eebcc4a",
   "metadata": {},
   "outputs": [],
   "source": [
    "\n",
    "test_df.groupby('Aspect_pred')['Pola_pred'].mean()"
   ]
  },
  {
   "cell_type": "code",
   "execution_count": null,
   "id": "4f1f2b3f",
   "metadata": {},
   "outputs": [],
   "source": [
    "# case2 -> review_df에서 ProductName과 Aspect_pred를 기준으로 그룹화\n",
    "# Pola_pred의 평균을 구한다. \n",
    "# 원하는 제품명을 선택하여 확인 \n",
    "group_df2 = review_df.groupby(['ProductName', 'Aspect_pred'])\\\n",
    "    ['Pola_pred'].mean()"
   ]
  },
  {
   "cell_type": "code",
   "execution_count": 231,
   "id": "a8f7fb1f",
   "metadata": {},
   "outputs": [
    {
     "data": {
      "text/plain": [
       "Aspect_pred\n",
       "가격      0.875000\n",
       "기능      0.944444\n",
       "길이      1.000000\n",
       "두께      0.875000\n",
       "디자인     1.000000\n",
       "마감      1.000000\n",
       "사이즈     0.300000\n",
       "색상      0.950000\n",
       "소재      1.000000\n",
       "신축성     1.000000\n",
       "제품구성   -1.000000\n",
       "착용감     1.000000\n",
       "촉감      1.000000\n",
       "품질      0.600000\n",
       "핏       1.000000\n",
       "활용성     0.666667\n",
       "Name: Pola_pred, dtype: float64"
      ]
     },
     "execution_count": 231,
     "metadata": {},
     "output_type": "execute_result"
    }
   ],
   "source": [
    "group_df2[product_name]"
   ]
  }
 ],
 "metadata": {
  "kernelspec": {
   "display_name": "Python 3",
   "language": "python",
   "name": "python3"
  },
  "language_info": {
   "codemirror_mode": {
    "name": "ipython",
    "version": 3
   },
   "file_extension": ".py",
   "mimetype": "text/x-python",
   "name": "python",
   "nbconvert_exporter": "python",
   "pygments_lexer": "ipython3",
   "version": "3.11.9"
  }
 },
 "nbformat": 4,
 "nbformat_minor": 5
}
