{
 "cells": [
  {
   "cell_type": "code",
   "execution_count": null,
   "id": "139db327",
   "metadata": {},
   "outputs": [],
   "source": [
    "import os \n",
    "from glob import glob\n",
    "import pandas as pd"
   ]
  },
  {
   "cell_type": "code",
   "execution_count": null,
   "id": "209c139a",
   "metadata": {},
   "outputs": [],
   "source": [
    "# 특정 경로의 파일의 목록을 가져오는 기능 \n",
    "# os 라이브러리를 이용\n",
    "os.listdir('./')"
   ]
  },
  {
   "cell_type": "code",
   "execution_count": null,
   "id": "3798b866",
   "metadata": {},
   "outputs": [],
   "source": [
    "# glob 이용 \n",
    "# 장점 : 파일의 경로와 파일의 이름을 하나의 리스트로 생성 \n",
    "#       특정 확장자만 선택해서 리스트로 생성이 가능\n",
    "json_list = glob(\"./*.json\")"
   ]
  },
  {
   "cell_type": "code",
   "execution_count": null,
   "id": "0a8f10d7",
   "metadata": {},
   "outputs": [],
   "source": [
    "# json_list를 이용하여 하나의 데이터프레임으로 단순 행 결합\n",
    "\n",
    "# 빈 데이터프레임을 생성\n",
    "total_df = pd.DataFrame()\n",
    "\n",
    "for file_path in json_list:\n",
    "    # print(file_path)\n",
    "    df = pd.read_json(file_path)\n",
    "    # total_df, df를 단순 행결합을 하여 total_df에 대입 \n",
    "    total_df = pd.concat( [total_df, df], axis=0 )\n",
    "    # print(df)\n",
    "    # break\n",
    "total_df.reset_index(drop=True, inplace=True)"
   ]
  },
  {
   "cell_type": "code",
   "execution_count": null,
   "id": "7a003426",
   "metadata": {},
   "outputs": [],
   "source": [
    "total_df.info()"
   ]
  },
  {
   "cell_type": "code",
   "execution_count": null,
   "id": "a3621268",
   "metadata": {},
   "outputs": [],
   "source": [
    "pd.concat(\n",
    "    [ pd.read_json(file_path) for file_path in json_list[:5] ]\n",
    ").info()"
   ]
  },
  {
   "cell_type": "code",
   "execution_count": null,
   "id": "bc1ceeee",
   "metadata": {},
   "outputs": [],
   "source": [
    "# Aspects 의 데이터를 하나로 합치고 새로운 데이터 프레임을 생성 \n",
    "aspect_df = pd.DataFrame(sum(total_df['Aspects'], []))"
   ]
  },
  {
   "cell_type": "code",
   "execution_count": null,
   "id": "3d4a708e",
   "metadata": {},
   "outputs": [],
   "source": [
    "aspect_df.info()"
   ]
  },
  {
   "cell_type": "code",
   "execution_count": null,
   "id": "c8e0df4b",
   "metadata": {},
   "outputs": [],
   "source": [
    "# 데이터의 분균형 문제 확인 \n",
    "aspect_df['SentimentPolarity'].value_counts()"
   ]
  },
  {
   "cell_type": "code",
   "execution_count": null,
   "id": "99cfc8af",
   "metadata": {},
   "outputs": [],
   "source": [
    "aspect_df.isna().sum()"
   ]
  },
  {
   "cell_type": "code",
   "execution_count": null,
   "id": "2e8e2441",
   "metadata": {},
   "outputs": [],
   "source": [
    "# 데이터셋에서 문자열의 좌우의 공백을 제거 \n",
    "# 모든 컬럼이 Object 형이기 때문에 strip() 바로 사용 가능\n",
    "aspect_df = aspect_df.map(lambda x : x.strip())"
   ]
  },
  {
   "cell_type": "code",
   "execution_count": null,
   "id": "4072c563",
   "metadata": {},
   "outputs": [],
   "source": [
    "aspect_df.isin(['']).sum()"
   ]
  },
  {
   "cell_type": "code",
   "execution_count": null,
   "id": "5b6516bb",
   "metadata": {},
   "outputs": [],
   "source": [
    "aspect_df['SentimentText'].value_counts()"
   ]
  },
  {
   "cell_type": "code",
   "execution_count": null,
   "id": "035390e0",
   "metadata": {},
   "outputs": [],
   "source": [
    "before_cnt = len(aspect_df)\n",
    "\n",
    "aspect_df.drop_duplicates('SentimentText', inplace=True)\n",
    "\n",
    "after_cnt = len(aspect_df)\n",
    "\n",
    "print(f\"제거가 된 행의 개수 {before_cnt - after_cnt}\")"
   ]
  },
  {
   "cell_type": "code",
   "execution_count": null,
   "id": "ff39776e",
   "metadata": {},
   "outputs": [],
   "source": [
    "# 1, 0, -1 의 비율을 확인 \n",
    "aspect_df['SentimentPolarity'].value_counts()"
   ]
  },
  {
   "cell_type": "code",
   "execution_count": null,
   "id": "f71e16fd",
   "metadata": {},
   "outputs": [],
   "source": [
    "# 인덱스를 초기화 \n",
    "aspect_df.reset_index(drop=True, inplace=True)"
   ]
  },
  {
   "cell_type": "code",
   "execution_count": null,
   "id": "78d1fcd3",
   "metadata": {},
   "outputs": [],
   "source": [
    "# 토큰화 -> 백터화 \n",
    "from konlpy.tag import Komoran\n",
    "from sklearn.feature_extraction.text import TfidfVectorizer\n",
    "\n",
    "komoran = Komoran()\n",
    "allow_pos = ['NNP', 'NNG', 'VV', 'VA', 'MAG', 'SL']\n",
    "\n",
    "def komoran_tokenize(text):\n",
    "    tokens = []\n",
    "    for word, pos in komoran.pos(text):\n",
    "        if (pos in allow_pos) & (len(word) >= 2)  :\n",
    "            tokens.append(word)\n",
    "    return tokens\n",
    "\n",
    "vectorizer = TfidfVectorizer(\n",
    "    tokenizer= komoran_tokenize, \n",
    "    ngram_range=(1, 2), \n",
    "    min_df = 3, \n",
    "    max_df=0.8, \n",
    "    max_features=30000\n",
    ")"
   ]
  },
  {
   "cell_type": "code",
   "execution_count": null,
   "id": "e5bf4334",
   "metadata": {},
   "outputs": [],
   "source": [
    "# 모델 생성 \n",
    "from sklearn.svm import LinearSVC\n",
    "from sklearn.pipeline import Pipeline\n",
    "from sklearn.multioutput import MultiOutputClassifier"
   ]
  },
  {
   "cell_type": "code",
   "execution_count": null,
   "id": "2495546d",
   "metadata": {},
   "outputs": [],
   "source": [
    "svc = LinearSVC(random_state=42, class_weight='balanced')\n",
    "\n",
    "multi_model = MultiOutputClassifier(svc)\n",
    "\n",
    "pipe = Pipeline(\n",
    "    [\n",
    "        ('vector', vectorizer), \n",
    "        ('model', multi_model)\n",
    "    ]\n",
    ")\n"
   ]
  },
  {
   "cell_type": "code",
   "execution_count": null,
   "id": "db26ddd7",
   "metadata": {},
   "outputs": [],
   "source": [
    "# 계층화 폴드 \n",
    "from sklearn.model_selection import KFold\n",
    "\n",
    "skfold = KFold(n_splits=3, shuffle= True, \n",
    "                         random_state=42)"
   ]
  },
  {
   "cell_type": "code",
   "execution_count": null,
   "id": "3d86860c",
   "metadata": {},
   "outputs": [],
   "source": [
    "aspect_df.info()"
   ]
  },
  {
   "cell_type": "code",
   "execution_count": null,
   "id": "8757f756",
   "metadata": {},
   "outputs": [],
   "source": [
    "from sklearn.preprocessing import LabelEncoder"
   ]
  },
  {
   "cell_type": "code",
   "execution_count": null,
   "id": "8270ac79",
   "metadata": {},
   "outputs": [],
   "source": [
    "le = LabelEncoder()\n",
    "aspect_df['Aspect'] = le.fit_transform(aspect_df['Aspect'])\n",
    "aspect_df['SentimentPolarity'] = aspect_df[\n",
    "    'SentimentPolarity'].astype('int')"
   ]
  },
  {
   "cell_type": "code",
   "execution_count": null,
   "id": "39a4ad24",
   "metadata": {},
   "outputs": [],
   "source": [
    "# 독립 변수 , 종속 변수 생성\n",
    "X = aspect_df['SentimentText'].values\n",
    "Y = aspect_df[['Aspect', 'SentimentPolarity']].values"
   ]
  },
  {
   "cell_type": "code",
   "execution_count": null,
   "id": "df2541c3",
   "metadata": {},
   "outputs": [],
   "source": [
    "print(X.shape, Y.shape)"
   ]
  },
  {
   "cell_type": "code",
   "execution_count": null,
   "id": "b14e036d",
   "metadata": {},
   "outputs": [],
   "source": [
    "print(type(Y[0][0]), type(Y[0][1]))"
   ]
  },
  {
   "cell_type": "code",
   "execution_count": null,
   "id": "87cfafe8",
   "metadata": {},
   "outputs": [],
   "source": [
    "from sklearn.model_selection import GridSearchCV"
   ]
  },
  {
   "cell_type": "code",
   "execution_count": null,
   "id": "66442b69",
   "metadata": {},
   "outputs": [],
   "source": [
    "params = {\n",
    "    'model__estimator__C' : [1.0, 2.0]\n",
    "}\n",
    "grid = GridSearchCV(\n",
    "    estimator=pipe, \n",
    "    param_grid= params, \n",
    "    cv = skfold, \n",
    "    scoring=\"accuracy\"\n",
    ")"
   ]
  },
  {
   "cell_type": "code",
   "execution_count": null,
   "id": "b999ea25",
   "metadata": {},
   "outputs": [],
   "source": [
    "grid.fit(X, Y)"
   ]
  },
  {
   "cell_type": "code",
   "execution_count": 108,
   "id": "1887d10a",
   "metadata": {},
   "outputs": [
    {
     "data": {
      "text/plain": [
       "np.float64(nan)"
      ]
     },
     "execution_count": 108,
     "metadata": {},
     "output_type": "execute_result"
    }
   ],
   "source": [
    "grid.best_score_"
   ]
  }
 ],
 "metadata": {
  "kernelspec": {
   "display_name": "Python 3",
   "language": "python",
   "name": "python3"
  },
  "language_info": {
   "codemirror_mode": {
    "name": "ipython",
    "version": 3
   },
   "file_extension": ".py",
   "mimetype": "text/x-python",
   "name": "python",
   "nbconvert_exporter": "python",
   "pygments_lexer": "ipython3",
   "version": "3.11.9"
  }
 },
 "nbformat": 4,
 "nbformat_minor": 5
}
