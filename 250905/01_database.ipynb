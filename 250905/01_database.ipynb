{
 "cells": [
  {
   "cell_type": "markdown",
   "id": "ccd5321c",
   "metadata": {},
   "source": [
    "- mysql과 python 연동 \n",
    "    1. 연동 기능이 존재하는 라이브러리(pymysql) 설치 \n",
    "    2. 라이브러리 로드 \n",
    "    3. 데이터베이스 서버와의 연결\n",
    "        - 서버의 정보\n",
    "            - 주소\n",
    "            - port \n",
    "            - 사용자 아이디\n",
    "            - 비밀번호\n",
    "            - 사용할 데이터베이스명\n",
    "    4. 커서(가상공간)를 생성\n",
    "    5. query문을 작성하여 질의를 한다. \n",
    "        - insert, update, delete : return 존재X\n",
    "        - select : return 존재 o\n",
    "            - fetchall() : cursor에서 데이터를 가져온다(cursor에는 데이터가 삭제)\n",
    "    6. DB server와 Cursor를 동기화\n",
    "    7. DB server와의 연결을 종료"
   ]
  },
  {
   "cell_type": "code",
   "execution_count": null,
   "id": "f87c8108",
   "metadata": {},
   "outputs": [],
   "source": [
    "# 라이브러리 설치 \n",
    "# !pip install pymysql "
   ]
  },
  {
   "cell_type": "code",
   "execution_count": 2,
   "id": "7dedc7f6",
   "metadata": {},
   "outputs": [],
   "source": [
    "# 라이브러리 로드 \n",
    "import pymysql "
   ]
  },
  {
   "cell_type": "code",
   "execution_count": 3,
   "id": "90a38da0",
   "metadata": {},
   "outputs": [],
   "source": [
    "# DB server와의 연결 -> 연결되는 정보를 변수에 저장 \n",
    "\n",
    "_db = pymysql.connect(\n",
    "    # host = 'localhost'\n",
    "    host = '127.0.0.1',     # 서버의 주소\n",
    "    port = 3306,            # port 번호 (숫자)\n",
    "    user = 'root',          # 유저의 아이디\n",
    "    password = '1234',      # 비밀번호 (비밀번호가 없을 시 '')\n",
    "    db = 'multicam'\n",
    ")"
   ]
  },
  {
   "cell_type": "code",
   "execution_count": 4,
   "id": "ee0e657f",
   "metadata": {},
   "outputs": [],
   "source": [
    "# cryptography 에러 발생 시 \n",
    "# !pip install cryptography"
   ]
  },
  {
   "cell_type": "code",
   "execution_count": null,
   "id": "401358e0",
   "metadata": {},
   "outputs": [],
   "source": [
    "# _db를 이용하여 Cursor 생성 \n",
    "# 기본값으로 커서 생성 -> select문을 이용하여 데이터를 로드할때 데이터의 타입이 tuple\n",
    "cursor = _db.cursor()\n",
    "# DictCursor 옵션 사용해서 커서를 생성  ->  select문을 이용하여 데이터를 로드할때 데이터의 타입이 dict\n",
    "cursor2 = _db.cursor( pymysql.cursors.DictCursor )"
   ]
  },
  {
   "cell_type": "code",
   "execution_count": 7,
   "id": "35081244",
   "metadata": {},
   "outputs": [
    {
     "data": {
      "text/plain": [
       "14"
      ]
     },
     "execution_count": 7,
     "metadata": {},
     "output_type": "execute_result"
    }
   ],
   "source": [
    "# query문을 작성해서 커서에게 질의 보낸다.\n",
    "select_query = \"\"\"\n",
    "    select \n",
    "    * \n",
    "    from \n",
    "    `emp`\n",
    "\"\"\"\n",
    "# select_query를 커서에게 보낸다(Cursor.execute())\n",
    "cursor.execute(select_query)\n",
    "cursor2.execute(select_query)"
   ]
  },
  {
   "cell_type": "code",
   "execution_count": 11,
   "id": "212b4429",
   "metadata": {},
   "outputs": [
    {
     "data": {
      "text/plain": [
       "()"
      ]
     },
     "execution_count": 11,
     "metadata": {},
     "output_type": "execute_result"
    }
   ],
   "source": [
    "cursor.fetchall()"
   ]
  },
  {
   "cell_type": "code",
   "execution_count": 10,
   "id": "e2af6fbe",
   "metadata": {},
   "outputs": [
    {
     "data": {
      "text/plain": [
       "[]"
      ]
     },
     "execution_count": 10,
     "metadata": {},
     "output_type": "execute_result"
    }
   ],
   "source": [
    "cursor2.fetchall()"
   ]
  },
  {
   "cell_type": "code",
   "execution_count": 12,
   "id": "c3547d92",
   "metadata": {},
   "outputs": [
    {
     "data": {
      "text/plain": [
       "1"
      ]
     },
     "execution_count": 12,
     "metadata": {},
     "output_type": "execute_result"
    }
   ],
   "source": [
    "insert_query = \"\"\"\n",
    "    insert into \n",
    "    `user_info`\n",
    "    values \n",
    "    (\"test2\", \"1234\", \"park\", \"000101\")\n",
    "\"\"\"\n",
    "# 커서에게 insert_query 질의를 보낸다. \n",
    "cursor2.execute(insert_query)"
   ]
  },
  {
   "cell_type": "code",
   "execution_count": 13,
   "id": "227f2f54",
   "metadata": {},
   "outputs": [
    {
     "data": {
      "text/plain": [
       "[{'id': 'test', 'password': '1234', 'name': 'kim', 'birth': '900101'},\n",
       " {'id': 'test2', 'password': '1234', 'name': 'park', 'birth': '000101'}]"
      ]
     },
     "execution_count": 13,
     "metadata": {},
     "output_type": "execute_result"
    }
   ],
   "source": [
    "select_query2 = \"\"\"\n",
    "    select * from `user_info`\n",
    "\"\"\"\n",
    "cursor2.execute(select_query2)\n",
    "cursor2.fetchall()"
   ]
  },
  {
   "cell_type": "code",
   "execution_count": 14,
   "id": "70b4576d",
   "metadata": {},
   "outputs": [],
   "source": [
    "# 현재까지의 작업은 커서(가상공간)에 데이터의 변화만 존재 "
   ]
  },
  {
   "cell_type": "code",
   "execution_count": 15,
   "id": "d6ebeb12",
   "metadata": {},
   "outputs": [],
   "source": [
    "# cursor와 DBserver와의 동기화 \n",
    "_db.commit()"
   ]
  },
  {
   "cell_type": "code",
   "execution_count": 16,
   "id": "bd6cb8bf",
   "metadata": {},
   "outputs": [],
   "source": [
    "# 데이터베이스와의 연결을 종료\n",
    "_db.close()"
   ]
  },
  {
   "cell_type": "code",
   "execution_count": null,
   "id": "fd081209",
   "metadata": {},
   "outputs": [],
   "source": []
  }
 ],
 "metadata": {
  "kernelspec": {
   "display_name": "Python 3",
   "language": "python",
   "name": "python3"
  },
  "language_info": {
   "codemirror_mode": {
    "name": "ipython",
    "version": 3
   },
   "file_extension": ".py",
   "mimetype": "text/x-python",
   "name": "python",
   "nbconvert_exporter": "python",
   "pygments_lexer": "ipython3",
   "version": "3.11.9"
  }
 },
 "nbformat": 4,
 "nbformat_minor": 5
}
