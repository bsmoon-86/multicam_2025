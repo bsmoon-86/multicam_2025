{
 "cells": [
  {
   "cell_type": "code",
   "execution_count": 1,
   "id": "63b0d3f9",
   "metadata": {},
   "outputs": [],
   "source": [
    "import pandas as pd \n",
    "from bs4 import BeautifulSoup as bs\n",
    "from selenium import webdriver"
   ]
  },
  {
   "cell_type": "code",
   "execution_count": 2,
   "id": "d00141e7",
   "metadata": {},
   "outputs": [],
   "source": [
    "# 접속 주소\n",
    "url = \"https://comp.wisereport.co.kr/company/c1010001.aspx?cmp_cd=\"\n",
    "# 종목의 코드 (하이닉스 종목코드)\n",
    "input_code = \"000660\""
   ]
  },
  {
   "cell_type": "markdown",
   "id": "e3292027",
   "metadata": {},
   "source": [
    "### 연습 \n",
    "- webdriver의 Chrome을 이용하여 url + input_code 로 요청 \n",
    "- driver의 html 문서를 불러온다. \n",
    "- 불러온 html을 BeautifulSoup을 이용하여 데이터 파싱 \n",
    "- div 태그 중 class의 이름이 \"cmp_comment\"와 같은 태그를 선택 \n",
    "    - li 태그들을 모두 찾아서 텍스트 추출하여 새로운 리스트를 생성(cmp_info)\n",
    "- div 태그 중 class의 이름이 \"cmp_comment_etc\"와 같은 태그를 선택 \n",
    "    - li 태그들을 모두 찾아서 텍스트 추출하여 새로운 리스트를 생성(cmp_etc)\n",
    "- DataFrame 생성하여 cmp_info, cmp_etc 을 대입 "
   ]
  },
  {
   "cell_type": "code",
   "execution_count": 11,
   "id": "781ae5ef",
   "metadata": {},
   "outputs": [],
   "source": [
    "driver = webdriver.Chrome()"
   ]
  },
  {
   "cell_type": "code",
   "execution_count": 12,
   "id": "a39e8bb7",
   "metadata": {},
   "outputs": [],
   "source": [
    "# url + input_code를 이용해서 요청 \n",
    "driver.get(url+input_code)"
   ]
  },
  {
   "cell_type": "code",
   "execution_count": 13,
   "id": "e56007a3",
   "metadata": {},
   "outputs": [],
   "source": [
    "soup = bs(\n",
    "    driver.page_source, 'html.parser'\n",
    ")"
   ]
  },
  {
   "cell_type": "code",
   "execution_count": 14,
   "id": "ca58e204",
   "metadata": {},
   "outputs": [],
   "source": [
    "driver.quit()"
   ]
  },
  {
   "cell_type": "code",
   "execution_count": 15,
   "id": "34987309",
   "metadata": {},
   "outputs": [
    {
     "data": {
      "text/plain": [
       "<div class=\"cmp_comment\">\n",
       "<ul class=\"dot_cmp\">\n",
       "<li class=\"dot_cmp\" data-cd=\"000660\">동사는 1949년 설립되어 경기도 이천시에 본사를 두고 4개의 생산기지와 3개의 연구개발법인 및 여러 해외 판매법인을 운영하는 글로벌 반도체 기업임.</li>\n",
       "<li class=\"dot_cmp\" data-cd=\"000660\">메모리 반도체와 Foundry 사업을 영위하며, DRAM과 NAND Flash를 주력 생산하고 있음.</li>\n",
       "<li class=\"dot_cmp\" data-cd=\"000660\">생성형 AI 시장의 신기술 등장과 시장 영향력 확대에 따라 고성능/고용량 메모리 솔루션 개발에 주력하고 있음.</li>\n",
       "</ul>\n",
       "</div>"
      ]
     },
     "execution_count": 15,
     "metadata": {},
     "output_type": "execute_result"
    }
   ],
   "source": [
    "# div 태그중 class가 'cmp_comment'인 태그를 선택 \n",
    "div_data = soup.find(\n",
    "    'div', attrs={\n",
    "        'class' : 'cmp_comment'\n",
    "    }\n",
    ")\n",
    "div_data"
   ]
  },
  {
   "cell_type": "code",
   "execution_count": 17,
   "id": "563e1f71",
   "metadata": {},
   "outputs": [],
   "source": [
    "# div_data에서 li 태그들을 모두 찾는다. \n",
    "li_list = div_data.find_all('li')"
   ]
  },
  {
   "cell_type": "code",
   "execution_count": 18,
   "id": "77496d6b",
   "metadata": {},
   "outputs": [
    {
     "data": {
      "text/plain": [
       "['동사는 1949년 설립되어 경기도 이천시에 본사를 두고 4개의 생산기지와 3개의 연구개발법인 및 여러 해외 판매법인을 운영하는 글로벌 반도체 기업임.',\n",
       " '메모리 반도체와 Foundry 사업을 영위하며, DRAM과 NAND Flash를 주력 생산하고 있음.',\n",
       " '생성형 AI 시장의 신기술 등장과 시장 영향력 확대에 따라 고성능/고용량 메모리 솔루션 개발에 주력하고 있음.']"
      ]
     },
     "execution_count": 18,
     "metadata": {},
     "output_type": "execute_result"
    }
   ],
   "source": [
    "cmp_info = []\n",
    "for li_data in li_list:\n",
    "    # li_data는 Tag data 대입 \n",
    "    cmp_info.append(li_data.get_text())\n",
    "cmp_info"
   ]
  },
  {
   "cell_type": "code",
   "execution_count": null,
   "id": "61f58c74",
   "metadata": {},
   "outputs": [],
   "source": []
  }
 ],
 "metadata": {
  "kernelspec": {
   "display_name": "Python 3",
   "language": "python",
   "name": "python3"
  },
  "language_info": {
   "codemirror_mode": {
    "name": "ipython",
    "version": 3
   },
   "file_extension": ".py",
   "mimetype": "text/x-python",
   "name": "python",
   "nbconvert_exporter": "python",
   "pygments_lexer": "ipython3",
   "version": "3.11.9"
  }
 },
 "nbformat": 4,
 "nbformat_minor": 5
}
