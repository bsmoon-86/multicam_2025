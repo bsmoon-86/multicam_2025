{
 "cells": [
  {
   "cell_type": "code",
   "execution_count": null,
   "id": "63b0d3f9",
   "metadata": {},
   "outputs": [],
   "source": [
    "import pandas as pd \n",
    "from bs4 import BeautifulSoup as bs\n",
    "from selenium import webdriver"
   ]
  },
  {
   "cell_type": "code",
   "execution_count": null,
   "id": "d00141e7",
   "metadata": {},
   "outputs": [],
   "source": [
    "# 접속 주소\n",
    "url = \"https://comp.wisereport.co.kr/company/c1010001.aspx?cmp_cd=\"\n",
    "# 종목의 코드 (하이닉스 종목코드)\n",
    "input_code = \"000660\""
   ]
  },
  {
   "cell_type": "markdown",
   "id": "e3292027",
   "metadata": {},
   "source": [
    "### 연습 \n",
    "- webdriver의 Chrome을 이용하여 url + input_code 로 요청 \n",
    "- driver의 html 문서를 불러온다. \n",
    "- 불러온 html을 BeautifulSoup을 이용하여 데이터 파싱 \n",
    "- div 태그 중 class의 이름이 \"cmp_comment\"와 같은 태그를 선택 \n",
    "    - li 태그들을 모두 찾아서 텍스트 추출하여 새로운 리스트를 생성(cmp_info)\n",
    "- div 태그 중 class의 이름이 \"cmp_comment_etc\"와 같은 태그를 선택 \n",
    "    - li 태그들을 모두 찾아서 텍스트 추출하여 새로운 리스트를 생성(cmp_etc)\n",
    "- DataFrame 생성하여 cmp_info, cmp_etc 을 대입 "
   ]
  },
  {
   "cell_type": "code",
   "execution_count": null,
   "id": "781ae5ef",
   "metadata": {},
   "outputs": [],
   "source": [
    "driver = webdriver.Chrome()"
   ]
  },
  {
   "cell_type": "code",
   "execution_count": null,
   "id": "a39e8bb7",
   "metadata": {},
   "outputs": [],
   "source": [
    "# url + input_code를 이용해서 요청 \n",
    "driver.get(url+input_code)"
   ]
  },
  {
   "cell_type": "code",
   "execution_count": null,
   "id": "e56007a3",
   "metadata": {},
   "outputs": [],
   "source": [
    "soup = bs(\n",
    "    driver.page_source, 'html.parser'\n",
    ")"
   ]
  },
  {
   "cell_type": "code",
   "execution_count": null,
   "id": "ca58e204",
   "metadata": {},
   "outputs": [],
   "source": [
    "driver.quit()"
   ]
  },
  {
   "cell_type": "code",
   "execution_count": null,
   "id": "34987309",
   "metadata": {},
   "outputs": [],
   "source": [
    "# div 태그중 class가 'cmp_comment'인 태그를 선택 \n",
    "div_data = soup.find(\n",
    "    'div', attrs={\n",
    "        'class' : 'cmp_comment'\n",
    "    }\n",
    ")\n",
    "div_data"
   ]
  },
  {
   "cell_type": "code",
   "execution_count": null,
   "id": "563e1f71",
   "metadata": {},
   "outputs": [],
   "source": [
    "# div_data에서 li 태그들을 모두 찾는다. \n",
    "li_list = div_data.find_all('li')"
   ]
  },
  {
   "cell_type": "code",
   "execution_count": null,
   "id": "77496d6b",
   "metadata": {},
   "outputs": [],
   "source": [
    "cmp_info = []\n",
    "for li_data in li_list:\n",
    "    # li_data는 Tag data 대입 \n",
    "    cmp_info.append(li_data.get_text())\n",
    "cmp_info"
   ]
  },
  {
   "cell_type": "code",
   "execution_count": null,
   "id": "61f58c74",
   "metadata": {},
   "outputs": [],
   "source": [
    "cmp_etc = list(\n",
    "    map(\n",
    "        lambda x : x.get_text(),\n",
    "        soup.find('div', \n",
    "            attrs={'class' : 'cmp_comment_etc'}\n",
    "        ).find_all('li')\n",
    "    )\n",
    ")"
   ]
  },
  {
   "cell_type": "code",
   "execution_count": null,
   "id": "6abc2f3b",
   "metadata": {},
   "outputs": [],
   "source": [
    "df1 = pd.DataFrame(\n",
    "    [\n",
    "        cmp_info, cmp_etc\n",
    "    ], index = ['cmp_info', 'cmp_etc']\n",
    ")\n",
    "df1"
   ]
  },
  {
   "cell_type": "code",
   "execution_count": null,
   "id": "e4bf4691",
   "metadata": {},
   "outputs": [],
   "source": [
    "df2 = pd.DataFrame(\n",
    "    {\n",
    "        'cmp_info' : cmp_info, \n",
    "        'cmp_etc' : cmp_etc\n",
    "    }\n",
    ")\n",
    "df2"
   ]
  },
  {
   "cell_type": "code",
   "execution_count": 32,
   "id": "4b679fe2",
   "metadata": {},
   "outputs": [],
   "source": [
    "# df1의 인덱스를 컬럼으로 컬럼을 인덱스로 변환하는 전치 \n",
    "df2['code'] = input_code"
   ]
  },
  {
   "cell_type": "code",
   "execution_count": 33,
   "id": "37c04d44",
   "metadata": {},
   "outputs": [
    {
     "data": {
      "text/html": [
       "<div>\n",
       "<style scoped>\n",
       "    .dataframe tbody tr th:only-of-type {\n",
       "        vertical-align: middle;\n",
       "    }\n",
       "\n",
       "    .dataframe tbody tr th {\n",
       "        vertical-align: top;\n",
       "    }\n",
       "\n",
       "    .dataframe thead th {\n",
       "        text-align: right;\n",
       "    }\n",
       "</style>\n",
       "<table border=\"1\" class=\"dataframe\">\n",
       "  <thead>\n",
       "    <tr style=\"text-align: right;\">\n",
       "      <th></th>\n",
       "      <th>cmp_info</th>\n",
       "      <th>cmp_etc</th>\n",
       "      <th>code</th>\n",
       "    </tr>\n",
       "  </thead>\n",
       "  <tbody>\n",
       "    <tr>\n",
       "      <th>0</th>\n",
       "      <td>동사는 1949년 설립되어 경기도 이천시에 본사를 두고 4개의 생산기지와 3개의 연...</td>\n",
       "      <td>2025년 상반기 전년동기 대비 연결기준 매출액은 38.2% 증가, 영업이익은 99...</td>\n",
       "      <td>000660</td>\n",
       "    </tr>\n",
       "    <tr>\n",
       "      <th>1</th>\n",
       "      <td>메모리 반도체와 Foundry 사업을 영위하며, DRAM과 NAND Flash를 주...</td>\n",
       "      <td>AI향 메모리 수요 성장과 우호적 가격 환경으로 DRAM과 NAND 출하량이 증가했...</td>\n",
       "      <td>000660</td>\n",
       "    </tr>\n",
       "    <tr>\n",
       "      <th>2</th>\n",
       "      <td>생성형 AI 시장의 신기술 등장과 시장 영향력 확대에 따라 고성능/고용량 메모리 솔...</td>\n",
       "      <td>AI 서버와 데이터센터 확산으로 HBM 수요 급증, DRAM은 프리미엄 제품 성장이...</td>\n",
       "      <td>000660</td>\n",
       "    </tr>\n",
       "  </tbody>\n",
       "</table>\n",
       "</div>"
      ],
      "text/plain": [
       "                                            cmp_info  \\\n",
       "0  동사는 1949년 설립되어 경기도 이천시에 본사를 두고 4개의 생산기지와 3개의 연...   \n",
       "1  메모리 반도체와 Foundry 사업을 영위하며, DRAM과 NAND Flash를 주...   \n",
       "2  생성형 AI 시장의 신기술 등장과 시장 영향력 확대에 따라 고성능/고용량 메모리 솔...   \n",
       "\n",
       "                                             cmp_etc    code  \n",
       "0  2025년 상반기 전년동기 대비 연결기준 매출액은 38.2% 증가, 영업이익은 99...  000660  \n",
       "1  AI향 메모리 수요 성장과 우호적 가격 환경으로 DRAM과 NAND 출하량이 증가했...  000660  \n",
       "2  AI 서버와 데이터센터 확산으로 HBM 수요 급증, DRAM은 프리미엄 제품 성장이...  000660  "
      ]
     },
     "execution_count": 33,
     "metadata": {},
     "output_type": "execute_result"
    }
   ],
   "source": [
    "df2"
   ]
  },
  {
   "cell_type": "code",
   "execution_count": 34,
   "id": "07e72e1e",
   "metadata": {},
   "outputs": [],
   "source": [
    "# 데이터프레임의 행 결합 \n",
    "    # 조건 -> 데이터프레임의 구조가 같다.\n",
    "# pandas 안에 존재하는 concat() 함수를 이용\n",
    "# concat() -> 단순한 데이터프레임의 결합 \n",
    "    # 첫번째 인자 -> 데이터프레임들 [df, df2, df3, ...]\n",
    "    # axis 매개변수 -> 행으로 결합할것인가, 열로 결합 할것인가?\n",
    "    # ingore_index -> 결합 후 인덱스를 초기화할것인가?"
   ]
  },
  {
   "cell_type": "code",
   "execution_count": 35,
   "id": "9a5498dd",
   "metadata": {},
   "outputs": [],
   "source": [
    "import requests"
   ]
  },
  {
   "cell_type": "code",
   "execution_count": 36,
   "id": "8dc176c3",
   "metadata": {},
   "outputs": [],
   "source": [
    "input_code = \"005180\""
   ]
  },
  {
   "cell_type": "code",
   "execution_count": 37,
   "id": "e7e05dd2",
   "metadata": {},
   "outputs": [],
   "source": [
    "res = requests.get(url+input_code)"
   ]
  },
  {
   "cell_type": "code",
   "execution_count": 38,
   "id": "6a61605e",
   "metadata": {},
   "outputs": [
    {
     "data": {
      "text/plain": [
       "<Response [200]>"
      ]
     },
     "execution_count": 38,
     "metadata": {},
     "output_type": "execute_result"
    }
   ],
   "source": [
    "res"
   ]
  },
  {
   "cell_type": "code",
   "execution_count": 39,
   "id": "5ae5a62d",
   "metadata": {},
   "outputs": [],
   "source": [
    "soup = bs(res.text, 'html.parser')"
   ]
  },
  {
   "cell_type": "code",
   "execution_count": null,
   "id": "931d33ab",
   "metadata": {},
   "outputs": [],
   "source": [
    "cmp_info = list(\n",
    "    map(\n",
    "        lambda x : x.get_text(),\n",
    "        soup.find('div', attrs={'class' : 'cmp_comment'}).find_all('li')\n",
    "    )\n",
    ")\n",
    "cmp_etc = list(\n",
    "    map(\n",
    "        lambda x : x.get_text(), \n",
    "        soup.find('div', attrs={'class' : 'cmp_comment_etc'}).find_all('li')\n",
    "    )\n",
    ")"
   ]
  },
  {
   "cell_type": "code",
   "execution_count": 41,
   "id": "87e60de8",
   "metadata": {},
   "outputs": [],
   "source": [
    "df3 = pd.DataFrame({'cmp_info' : cmp_info, 'cmp_etc' : cmp_etc})\n",
    "df3['code'] = input_code"
   ]
  },
  {
   "cell_type": "code",
   "execution_count": null,
   "id": "c4a9b5fe",
   "metadata": {},
   "outputs": [
    {
     "data": {
      "text/html": [
       "<div>\n",
       "<style scoped>\n",
       "    .dataframe tbody tr th:only-of-type {\n",
       "        vertical-align: middle;\n",
       "    }\n",
       "\n",
       "    .dataframe tbody tr th {\n",
       "        vertical-align: top;\n",
       "    }\n",
       "\n",
       "    .dataframe thead th {\n",
       "        text-align: right;\n",
       "    }\n",
       "</style>\n",
       "<table border=\"1\" class=\"dataframe\">\n",
       "  <thead>\n",
       "    <tr style=\"text-align: right;\">\n",
       "      <th></th>\n",
       "      <th>cmp_info</th>\n",
       "      <th>cmp_etc</th>\n",
       "      <th>code</th>\n",
       "    </tr>\n",
       "  </thead>\n",
       "  <tbody>\n",
       "    <tr>\n",
       "      <th>0</th>\n",
       "      <td>동사는 1949년 설립되어 경기도 이천시에 본사를 두고 4개의 생산기지와 3개의 연...</td>\n",
       "      <td>2025년 상반기 전년동기 대비 연결기준 매출액은 38.2% 증가, 영업이익은 99...</td>\n",
       "      <td>000660</td>\n",
       "    </tr>\n",
       "    <tr>\n",
       "      <th>1</th>\n",
       "      <td>메모리 반도체와 Foundry 사업을 영위하며, DRAM과 NAND Flash를 주...</td>\n",
       "      <td>AI향 메모리 수요 성장과 우호적 가격 환경으로 DRAM과 NAND 출하량이 증가했...</td>\n",
       "      <td>000660</td>\n",
       "    </tr>\n",
       "    <tr>\n",
       "      <th>2</th>\n",
       "      <td>생성형 AI 시장의 신기술 등장과 시장 영향력 확대에 따라 고성능/고용량 메모리 솔...</td>\n",
       "      <td>AI 서버와 데이터센터 확산으로 HBM 수요 급증, DRAM은 프리미엄 제품 성장이...</td>\n",
       "      <td>000660</td>\n",
       "    </tr>\n",
       "    <tr>\n",
       "      <th>3</th>\n",
       "      <td>동사는 1967년 설립된 유가증권시장 상장 유가공 전문기업임.</td>\n",
       "      <td>2025년 상반기 전년동기 대비 연결기준 매출액은 1.4% 증가, 영업이익은 38....</td>\n",
       "      <td>005180</td>\n",
       "    </tr>\n",
       "    <tr>\n",
       "      <th>4</th>\n",
       "      <td>바나나맛우유, 요플레, 투게더, 아카페라, 따옴 등 주요 제품을 보유하고 있으며, ...</td>\n",
       "      <td>유가공 사업은 원재료 가격 상승과 일회성 비용으로 수익성이 하락했으나, 고품질 정책...</td>\n",
       "      <td>005180</td>\n",
       "    </tr>\n",
       "    <tr>\n",
       "      <th>5</th>\n",
       "      <td>남양주, 광주, 김해, 논산, 경산에 생산공장을 보유하고 있으며, 식품연구소 내 6...</td>\n",
       "      <td>국내는 기능성 제품 수요가 확산되고, 해외는 중국의 고품질 선호도, 베트남의 한류 ...</td>\n",
       "      <td>005180</td>\n",
       "    </tr>\n",
       "  </tbody>\n",
       "</table>\n",
       "</div>"
      ],
      "text/plain": [
       "                                            cmp_info  \\\n",
       "0  동사는 1949년 설립되어 경기도 이천시에 본사를 두고 4개의 생산기지와 3개의 연...   \n",
       "1  메모리 반도체와 Foundry 사업을 영위하며, DRAM과 NAND Flash를 주...   \n",
       "2  생성형 AI 시장의 신기술 등장과 시장 영향력 확대에 따라 고성능/고용량 메모리 솔...   \n",
       "3                 동사는 1967년 설립된 유가증권시장 상장 유가공 전문기업임.   \n",
       "4  바나나맛우유, 요플레, 투게더, 아카페라, 따옴 등 주요 제품을 보유하고 있으며, ...   \n",
       "5  남양주, 광주, 김해, 논산, 경산에 생산공장을 보유하고 있으며, 식품연구소 내 6...   \n",
       "\n",
       "                                             cmp_etc    code  \n",
       "0  2025년 상반기 전년동기 대비 연결기준 매출액은 38.2% 증가, 영업이익은 99...  000660  \n",
       "1  AI향 메모리 수요 성장과 우호적 가격 환경으로 DRAM과 NAND 출하량이 증가했...  000660  \n",
       "2  AI 서버와 데이터센터 확산으로 HBM 수요 급증, DRAM은 프리미엄 제품 성장이...  000660  \n",
       "3  2025년 상반기 전년동기 대비 연결기준 매출액은 1.4% 증가, 영업이익은 38....  005180  \n",
       "4  유가공 사업은 원재료 가격 상승과 일회성 비용으로 수익성이 하락했으나, 고품질 정책...  005180  \n",
       "5  국내는 기능성 제품 수요가 확산되고, 해외는 중국의 고품질 선호도, 베트남의 한류 ...  005180  "
      ]
     },
     "execution_count": 44,
     "metadata": {},
     "output_type": "execute_result"
    }
   ],
   "source": [
    "pd.concat([df2, df3], axis = 0, ignore_index=True)"
   ]
  }
 ],
 "metadata": {
  "kernelspec": {
   "display_name": "Python 3",
   "language": "python",
   "name": "python3"
  },
  "language_info": {
   "codemirror_mode": {
    "name": "ipython",
    "version": 3
   },
   "file_extension": ".py",
   "mimetype": "text/x-python",
   "name": "python",
   "nbconvert_exporter": "python",
   "pygments_lexer": "ipython3",
   "version": "3.11.9"
  }
 },
 "nbformat": 4,
 "nbformat_minor": 5
}
