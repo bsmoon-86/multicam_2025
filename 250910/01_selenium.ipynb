{
 "cells": [
  {
   "cell_type": "code",
   "execution_count": null,
   "id": "d8e2f460",
   "metadata": {},
   "outputs": [],
   "source": [
    "from selenium import webdriver\n",
    "# By : Tag에 접근하기 편하게 하는 기능\n",
    "from selenium.webdriver.common.by import By\n",
    "# Keys : 키보드의 이벤트\n",
    "from selenium.webdriver.common.keys import Keys\n",
    "import pandas as pd \n",
    "from sqlalchemy import create_engine"
   ]
  },
  {
   "cell_type": "code",
   "execution_count": null,
   "id": "1f4ba711",
   "metadata": {},
   "outputs": [],
   "source": [
    "# 웹드라이버를 이용하여 구글크롬 브라우져를 오픈 \n",
    "driver =webdriver.Chrome()"
   ]
  },
  {
   "cell_type": "code",
   "execution_count": null,
   "id": "506a9fc8",
   "metadata": {},
   "outputs": [],
   "source": [
    "# 특정 주소로 요청을 보낸다. \n",
    "driver.get('http://www.naver.com')"
   ]
  },
  {
   "cell_type": "code",
   "execution_count": null,
   "id": "4fa00fda",
   "metadata": {},
   "outputs": [],
   "source": [
    "# Tag 중 id가 query인 태그를 선택하여 변수에 저장 \n",
    "search_element = \\\n",
    "    driver.find_element(By.ID, 'query')"
   ]
  },
  {
   "cell_type": "code",
   "execution_count": null,
   "id": "550e9a04",
   "metadata": {},
   "outputs": [],
   "source": [
    "type(search_element)"
   ]
  },
  {
   "cell_type": "code",
   "execution_count": null,
   "id": "e98f4f75",
   "metadata": {},
   "outputs": [],
   "source": [
    "# search_element(검색어창)에 특정 텍스트를 \n",
    "# 입력(데이터를 보낸다)한다. \n",
    "search_element.send_keys('아이폰')"
   ]
  },
  {
   "cell_type": "code",
   "execution_count": null,
   "id": "9979b03a",
   "metadata": {},
   "outputs": [],
   "source": [
    "# search_element에서 ENTER 이벤트를 발생\n",
    "search_element.send_keys(Keys.ENTER)"
   ]
  },
  {
   "cell_type": "code",
   "execution_count": null,
   "id": "b57946c8",
   "metadata": {},
   "outputs": [],
   "source": [
    "# 쇼핑 버튼(Tag)을 선택한다. \n",
    "# LINK_TEXT가 쇼핑인 태그 -> \n",
    "# 해당 조건에 맞는 태그가 몇개인가?\n",
    "len(driver.find_elements(By.LINK_TEXT, '쇼핑'))\n",
    "# 조건에 맞는 태그의 개수가 1개 이므로 클릭 이벤트 발생\n",
    "driver.find_element(By.LINK_TEXT, '쇼핑').click()"
   ]
  },
  {
   "cell_type": "code",
   "execution_count": null,
   "id": "f2d1a952",
   "metadata": {},
   "outputs": [],
   "source": [
    "# 쇼핑 페이지에서 검색어의 결과(물건의 가격과 제품명)를 \n",
    "# 크롤링 -> 해당 페이지의 소스코드를 불러온다. \n",
    "html_data = driver.page_source"
   ]
  },
  {
   "cell_type": "code",
   "execution_count": null,
   "id": "e0ece5c9",
   "metadata": {},
   "outputs": [],
   "source": [
    "# bs4 라이브러리 안에 있는 BeautifulSoup을 이용하여 \n",
    "# html_data를 parsing(데이터의 타입을 변환)\n",
    "from bs4 import BeautifulSoup as bs"
   ]
  },
  {
   "cell_type": "code",
   "execution_count": null,
   "id": "6225bd67",
   "metadata": {},
   "outputs": [],
   "source": [
    "soup = bs(html_data, 'html.parser')"
   ]
  },
  {
   "cell_type": "code",
   "execution_count": null,
   "id": "93814337",
   "metadata": {},
   "outputs": [],
   "source": [
    "# html_data가 2개의 탭중 어떤 소스코드인지 확인 \n",
    "# 탭의 제목이 다르기 때문에 title Tag 확인\n",
    "# 특정 태그를 확인 \n",
    "soup.title"
   ]
  },
  {
   "cell_type": "code",
   "execution_count": null,
   "id": "2e558fa8",
   "metadata": {},
   "outputs": [],
   "source": [
    "# page_source가 첫번째 탭인것을 확인 \n",
    "# 두번째 탭으로 page_source를 이동 \n",
    "# 탭의 정보를 확인\n",
    "# driver에서 탭의 주소를 확인 \n",
    "driver.window_handles"
   ]
  },
  {
   "cell_type": "code",
   "execution_count": null,
   "id": "185dd0cf",
   "metadata": {},
   "outputs": [],
   "source": [
    "# driver에서 탭을 이동\n",
    "driver.switch_to.window(\n",
    "    driver.window_handles[1]\n",
    ")"
   ]
  },
  {
   "cell_type": "code",
   "execution_count": null,
   "id": "5b871b6f",
   "metadata": {},
   "outputs": [],
   "source": [
    "html_data2 = driver.page_source\n",
    "soup2 = bs(html_data2, 'html.parser')\n",
    "\n",
    "soup2.title"
   ]
  },
  {
   "cell_type": "markdown",
   "id": "5801edbd",
   "metadata": {},
   "source": [
    "#### 네이버 쇼핑 크롤링\n",
    "1. div 태그중 id가 'content'인 태그를 선택하여 저장(content_data)\n",
    "2. 저장한 태그(content_data)에서 div 태그중 class가 'product_item__KQayS' 인 태그 정보를 모두 저장 (div_list)\n",
    "3. div_list에서 div 태그중 class가 'product_title__ljFM_'인 태그의 문자를 추출(상품명)\n",
    "4. div_list에서 span 태그중 class가 'price'인 태그의 문자를 추출(상품 격)"
   ]
  },
  {
   "cell_type": "code",
   "execution_count": null,
   "id": "cc7ab9a0",
   "metadata": {},
   "outputs": [],
   "source": [
    "content_data = soup2.find(\n",
    "    'div', \n",
    "    attrs={\n",
    "        'id' : 'content'\n",
    "    }\n",
    ")"
   ]
  },
  {
   "cell_type": "code",
   "execution_count": 29,
   "id": "f67ceb3a",
   "metadata": {},
   "outputs": [],
   "source": [
    "import re"
   ]
  },
  {
   "cell_type": "code",
   "execution_count": 30,
   "id": "e45a6ef0",
   "metadata": {},
   "outputs": [
    {
     "data": {
      "text/plain": [
       "3"
      ]
     },
     "execution_count": 30,
     "metadata": {},
     "output_type": "execute_result"
    }
   ],
   "source": [
    "# content_data에서 div중 class가 'product_item_KQayS'인 태그의 개수를 확인\n",
    "# class의 이름에 'product_item'이 포함되어있는 태그\n",
    "len(\n",
    "    content_data.find_all(\n",
    "        'div', \n",
    "        # attrs={\n",
    "        #     'class' : 'product_item__KQayS'\n",
    "        # }\n",
    "        attrs = {\n",
    "            'class' : re.compile('product_item')\n",
    "        }\n",
    "    )\n",
    ")"
   ]
  },
  {
   "cell_type": "code",
   "execution_count": 31,
   "id": "3b1423f9",
   "metadata": {},
   "outputs": [],
   "source": [
    "div_list = content_data.find_all(\n",
    "    'div', \n",
    "    # attrs={\n",
    "    #     'class' : 'product_item__KQayS'\n",
    "    #     }\n",
    "    attrs = {\n",
    "            'class' : re.compile('product_item')\n",
    "    }\n",
    ")"
   ]
  },
  {
   "cell_type": "code",
   "execution_count": null,
   "id": "78018a24",
   "metadata": {},
   "outputs": [],
   "source": [
    "div_data = div_list[0]"
   ]
  },
  {
   "cell_type": "code",
   "execution_count": 35,
   "id": "af214a8f",
   "metadata": {},
   "outputs": [],
   "source": [
    "item_name = div_data.find(\n",
    "    'div', \n",
    "    # attrs = {\n",
    "    #     'class' : 'product_title__ljFM_'\n",
    "    # }\n",
    "    attrs = {\n",
    "        'class' : re.compile('product_title')\n",
    "    }\n",
    ").get_text()"
   ]
  },
  {
   "cell_type": "code",
   "execution_count": 36,
   "id": "32a3e729",
   "metadata": {},
   "outputs": [],
   "source": [
    "item_price = div_data.find('span', attrs = {'class' : 'price'}).get_text()"
   ]
  },
  {
   "cell_type": "code",
   "execution_count": 34,
   "id": "8045381d",
   "metadata": {},
   "outputs": [],
   "source": [
    "# 상품의 이름과 상품의 가격을 dict 형태로 생성\n",
    "\n",
    "# 비어있는 dict 생성 \n",
    "dict_data = {}"
   ]
  },
  {
   "cell_type": "code",
   "execution_count": 38,
   "id": "db5d5b8c",
   "metadata": {},
   "outputs": [],
   "source": [
    "# dict에 데이터를 추가 \n",
    "dict_data['상품명'] = item_name\n",
    "dict_data['가격'] = item_price"
   ]
  },
  {
   "cell_type": "code",
   "execution_count": 39,
   "id": "96877eae",
   "metadata": {},
   "outputs": [
    {
     "data": {
      "text/plain": [
       "{'상품명': 'Apple 애플 아이폰 13 미니 128GB 새상품', '가격': '298,000원'}"
      ]
     },
     "execution_count": 39,
     "metadata": {},
     "output_type": "execute_result"
    }
   ],
   "source": [
    "dict_data"
   ]
  },
  {
   "cell_type": "code",
   "execution_count": 64,
   "id": "c05251b8",
   "metadata": {},
   "outputs": [],
   "source": [
    "values = []\n",
    "for div_data in div_list:\n",
    "    item_name = div_data.find(\n",
    "        'div', \n",
    "        attrs = {\n",
    "            'class' : re.compile('product_title')\n",
    "        }\n",
    "    ).get_text()\n",
    "    item_price = div_data.find('span', attrs = {'class' : 'price'}).get_text()\n",
    "    item_url = div_data.find('a')['href']\n",
    "    dict_data = {\n",
    "        '상품명' : item_name, \n",
    "        '가격' : item_price, \n",
    "        'url' : item_url\n",
    "    }\n",
    "    values.append(dict_data)"
   ]
  },
  {
   "cell_type": "code",
   "execution_count": 65,
   "id": "efaef2ff",
   "metadata": {},
   "outputs": [
    {
     "data": {
      "text/plain": [
       "[{'상품명': 'Apple 애플 아이폰 13 미니 128GB 새상품',\n",
       "  '가격': '298,000원',\n",
       "  'url': 'https://cr.shopping.naver.com/adcr?x=1zLjF9l0wn2sDaNEbXMa4f%2F%2F%2Fw%3D%3DsBY7ovv7PqUbNeXIcdqvSfK1odJ2%2F6LBtogIwFjN3ri1yoYErd7Wx1dfdVO6hh7qVWl9Lw2a9XdaIHIXvhymRpMKdlAuo4CRofAy%2FiHp8jqv8RtWXQ%2B4yWv%2FzzZujOpojSOJcOlgKXJrBbuiphAOYksvvFzydFsJfvMWJZSW9JRsX03%2FPXqL6DRioMWujJoazyaxxRm4H8HcYDi0B3B3iQmfQT7uWwvxdz8nMvhXCKF1zPnBo0jGi%2FSdSlDWdPE2TZznAAH%2FDJkgOxgHmnSf1jZwCn%2FAtvdQblXmaS8p1DhgQhkkHXK4%2FmSRy5icYE%2F27ZC%2BSXUxwyLUckntucAABtftfixCF1WpHtYmpQGaH5CMUlnTe%2Bq%2FRuRxi5rXKKROMbF4OZVL2Q%2FcwuxYvViSTh%2F4PzmWxMBgw%2FsYqXl1ymjHUl1Mb6CmDxR1AktcPJbKngLwgHSP3DD1GBfo2Ry7n82dFqn9EtHPPkp8WxjFFMRTBK7bxfhjLutrsEfkVCvcrmizsw57iASTSdiNeVn6LnWD7VD1bWrOzy%2FEGoKY7dKPTn%2BIvcxawVxNuePP9ktetRpdLJBo4KrDhyu8x%2FXb0ZktX%2FDLZQdSo3ix0kwlBIJeB%2FaZ8wxZd28c0hrtmjZHpzY6of2Xpggjm6A4Z8HgJhg%3D%3D&nvMid=88573763568&catId=50001519'},\n",
       " {'상품명': '아이폰 16 프로 128GB [자급제]',\n",
       "  '가격': '최저1,538,900원',\n",
       "  'url': 'https://cr.shopping.naver.com/adcr?x=7p79rCh1kEEYs7GhNPhNev%2F%2F%2Fw%3D%3DsZ8Et1ac2Qf2tjasrRoV6duPF2osglqx6%2FOj3H7y3YjsAjU5j3gjlMYsRq8%2BGHFpS6mhA0TzczoINA16Tx7HD7TXJD0NsZoE8wg%2BLc2SvDZhHRaISaXjSXtxpkOUV9xcVe7PMKaCxhxafPZSr6B3ZSKbMZEi2I4IVaYt1dKxluxwgXHL%2FX1TLx%2F9K6wmUu8Zo2h%2FqNbmMd3P9tE5jamCbKQuIB8ncdehaYvLTVmrbJlFDBFsXDcQITe%2F6o6zqov6Jq78V28aE%2B3QYfSzi6Eh6QOE8YCiibN06F7pXXqOPTLASl8w9RAJ94JGF5Lt3C38fYJIN%2F%2FywO%2B2PS%2FLmVgRHyz9rXyqENDUD8omnd%2BAEOivf3Vb8LXDlJWzaxi1N0VJ6fSkVgg6Qw4k55Bse3Eh4QxWNAKkiTmTHiwlbaGtF%2BcphjJCiYA4JHC9pe%2FgFTXe%2F%2BTkuIHaBp4yH%2B3DARDBHVZnNnIN8ajVJChhG9cYPNZ0kOdi%2Bl%2FP6H5nrBXPcolReINXQlnysSRaZeFKM%2FiK%2FYw9Uv7%2BuXk8s9e0jSRo%2Fw%2BR2PXL5Wx2sQDBP2rcpEHhLS05BGFD5BN%2BZabRXZQcGONIGA%2FC0M0hp%2F4Ff%2FXs4YDDC0hiHfmfzmAI0X1cC502KDmbhZ1mZ2WDP1%2B8Zb3YzVshrrDxXNQhRnMHs%2F9Swuq6DG554kJfPE%2BSUp9tUm1kTBq7h9PA5SrIXrcWPClBGWw%3D%3D&nvMid=53599505975&catId=50001519'},\n",
       " {'상품명': '아이폰 16 프로 256GB [자급제]',\n",
       "  '가격': '최저1,647,940원',\n",
       "  'url': 'https://cr.shopping.naver.com/adcr?x=dTM%2BbFOJFufddwqbpMjZlv%2F%2F%2Fw%3D%3DsyyEYlaGyssLL2Nt8KD2337pmVY3Xey03tOz%2FKYQb9%2BPxTAJR5s3V3RheLYZrm3hTWJuUDmNnTcrp8SLBMPzqbWg6HabDTRx466CGciRiUnFBZuMfzSBinsMMtj7lqMfUNfYeb1OyZ%2BXkZtSTeCMu9o9SbwtVD9g%2FisOumy9kF0YJmvqNk7%2BNzDzI%2FTopt%2FVs334rL%2BbR36BhYe0R%2FrUmjkI1yUrC8vID%2FKz%2F8c89qMuf0NR%2Fx5rWTcVMnKn8BCOoY2ZxuAuvSW7ZwIsaDJftz694IFlqpi2PXO88uXmhtpFBioyGYc1IlucKuBLuPxSHB4vyYOO6DQwwEpDCng04QcHPv45Edr5fvvv%2FlTzZa4VsMFPM5dXNnCFfhupAhbjvM2%2FH4X10YkANECq6mFz3g%2FVBDMIut42nyyM8MGNK2LFGsRl2PUazvcwFqYwQ5dSX%2FXLPn9pL2Vi54QHIDRw7ckWIF0%2FFNK69g5vrsUBgEAaau04OSPv%2Bxwf9oqtrtppPsOL%2FhLYMKm5ivtVtXV2aU0P%2BQUw7izuxPHixtztdddBQqrZur0QoiQJsbpAcsiGJA3GuXm1y4QRVxDJBcVks3wlg98m6RQup%2B0JWSnIbBiqIDf9TYDOC4LzgCehLsur5qKFxV0PlhcIpCwSdCZcVXEWQIPURoxuTfvYehojepvHke%2FVP%2BgM94BPZkP5YJ%2Bex&nvMid=53599506392&catId=50001519'}]"
      ]
     },
     "execution_count": 65,
     "metadata": {},
     "output_type": "execute_result"
    }
   ],
   "source": [
    "values"
   ]
  },
  {
   "cell_type": "code",
   "execution_count": 42,
   "id": "b32b9833",
   "metadata": {},
   "outputs": [],
   "source": [
    "# div_list에서 div 태그중 class의 이름에 'product_img_area'가 포함된 태그를 찾는다. \n",
    "# 해당 태그에서 img 태그에 있는 src 속성의 값을 추출\n",
    "div_data = div_list[0]"
   ]
  },
  {
   "cell_type": "code",
   "execution_count": 63,
   "id": "f6144b3a",
   "metadata": {},
   "outputs": [
    {
     "data": {
      "text/plain": [
       "'https://cr.shopping.naver.com/adcr?x=1zLjF9l0wn2sDaNEbXMa4f%2F%2F%2Fw%3D%3DsBY7ovv7PqUbNeXIcdqvSfK1odJ2%2F6LBtogIwFjN3ri1yoYErd7Wx1dfdVO6hh7qVWl9Lw2a9XdaIHIXvhymRpMKdlAuo4CRofAy%2FiHp8jqv8RtWXQ%2B4yWv%2FzzZujOpojSOJcOlgKXJrBbuiphAOYksvvFzydFsJfvMWJZSW9JRsX03%2FPXqL6DRioMWujJoazyaxxRm4H8HcYDi0B3B3iQmfQT7uWwvxdz8nMvhXCKF1zPnBo0jGi%2FSdSlDWdPE2TZznAAH%2FDJkgOxgHmnSf1jZwCn%2FAtvdQblXmaS8p1DhgQhkkHXK4%2FmSRy5icYE%2F27ZC%2BSXUxwyLUckntucAABtftfixCF1WpHtYmpQGaH5CMUlnTe%2Bq%2FRuRxi5rXKKROMbF4OZVL2Q%2FcwuxYvViSTh%2F4PzmWxMBgw%2FsYqXl1ymjHUl1Mb6CmDxR1AktcPJbKngLwgHSP3DD1GBfo2Ry7n82dFqn9EtHPPkp8WxjFFMRTBK7bxfhjLutrsEfkVCvcrmizsw57iASTSdiNeVn6LnWD7VD1bWrOzy%2FEGoKY7dKPTn%2BIvcxawVxNuePP9ktetRpdLJBo4KrDhyu8x%2FXb0ZktX%2FDLZQdSo3ix0kwlBIJeB%2FaZ8wxZd28c0hrtmjZHpzY6of2Xpggjm6A4Z8HgJhg%3D%3D&nvMid=88573763568&catId=50001519'"
      ]
     },
     "execution_count": 63,
     "metadata": {},
     "output_type": "execute_result"
    }
   ],
   "source": [
    "# div_data에서 a태그(하이퍼링크) 첫번째 정보를 확인하여 href 속성의 값을 출력\n",
    "# html문서에서 첫번째 태그의 정보를 확인 \n",
    "    # htmldata.태그명\n",
    "    # htmldata.find(태그명)\n",
    "# 특정 태그의 속성의 값을 확인 \n",
    "    # Tag[속성명]\n",
    "# div_data.a['href']\n",
    "div_data.find('a')['href']"
   ]
  },
  {
   "cell_type": "code",
   "execution_count": null,
   "id": "41485f67",
   "metadata": {},
   "outputs": [],
   "source": [
    "# driver 스크롤을 가장 밑으로 내린다. \n",
    "# driver.execute_script(\n",
    "#     \"window.scrollTo(0, document.body.scrollHeight);\"\n",
    "# )"
   ]
  },
  {
   "cell_type": "code",
   "execution_count": 77,
   "id": "8cd9f1f0",
   "metadata": {},
   "outputs": [],
   "source": [
    "# driver에서 스크롤을 일정 간격으로 내린다. \n",
    "driver.execute_script(\n",
    "    \"window.scrollBy(0, 800);\"\n",
    ")"
   ]
  },
  {
   "cell_type": "code",
   "execution_count": 78,
   "id": "95f85026",
   "metadata": {},
   "outputs": [],
   "source": [
    "html_data3 = driver.page_source"
   ]
  },
  {
   "cell_type": "code",
   "execution_count": 80,
   "id": "5667324d",
   "metadata": {},
   "outputs": [],
   "source": [
    "# BeautifulSoup을 이용해서 데이터 파싱 \n",
    "soup3 = bs(html_data3, 'html.parser')\n",
    "# 광고 상품을 제외한 모든 상품의 이름과 가격 링크 주소를 \n",
    "# 2차원 데이터(리스트 안에 딕셔너리)로 생성\n",
    "content_data = soup3.find('div', attrs={'id' : 'content'})\n",
    "div_list = content_data.find_all('div', \n",
    "    attrs = {\n",
    "            'class' : re.compile('product_item')\n",
    "    }\n",
    ")\n",
    "values = []\n",
    "for div_data in div_list:\n",
    "    item_name = div_data.find('div', \n",
    "        attrs = {'class' : re.compile('product_title')}).get_text()\n",
    "    item_price = div_data.find('span', attrs = {'class' : 'price'}).get_text()\n",
    "    item_url = div_data.find('a')['href']\n",
    "    dict_data = {\n",
    "        '상품명' : item_name, \n",
    "        '가격' : item_price, \n",
    "        'url' : item_url\n",
    "    }\n",
    "    values.append(dict_data)\n",
    "# 생성된 2차원 데이터를 데이터프레임으로 생성 \n",
    "df = pd.DataFrame(values)\n",
    "# df\n",
    "# 검색어('아이폰')를 파일명으로 csv 파일을 생성하고 \n",
    "df.to_csv('아이폰.csv', index=False)\n",
    "# 인덱스는 제외한다."
   ]
  },
  {
   "cell_type": "code",
   "execution_count": 83,
   "id": "d4126e1a",
   "metadata": {},
   "outputs": [],
   "source": [
    "# driver를 종료 \n",
    "driver.quit()"
   ]
  }
 ],
 "metadata": {
  "kernelspec": {
   "display_name": "Python 3",
   "language": "python",
   "name": "python3"
  },
  "language_info": {
   "codemirror_mode": {
    "name": "ipython",
    "version": 3
   },
   "file_extension": ".py",
   "mimetype": "text/x-python",
   "name": "python",
   "nbconvert_exporter": "python",
   "pygments_lexer": "ipython3",
   "version": "3.11.9"
  }
 },
 "nbformat": 4,
 "nbformat_minor": 5
}
