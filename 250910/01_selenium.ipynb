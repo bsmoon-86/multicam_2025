{
 "cells": [
  {
   "cell_type": "code",
   "execution_count": 1,
   "id": "d8e2f460",
   "metadata": {},
   "outputs": [],
   "source": [
    "from selenium import webdriver\n",
    "# By : Tag에 접근하기 편하게 하는 기능\n",
    "from selenium.webdriver.common.by import By\n",
    "# Keys : 키보드의 이벤트\n",
    "from selenium.webdriver.common.keys import Keys\n",
    "import pandas as pd \n",
    "from sqlalchemy import create_engine"
   ]
  },
  {
   "cell_type": "code",
   "execution_count": 5,
   "id": "1f4ba711",
   "metadata": {},
   "outputs": [],
   "source": [
    "# 웹드라이버를 이용하여 구글크롬 브라우져를 오픈 \n",
    "driver =webdriver.Chrome()"
   ]
  },
  {
   "cell_type": "code",
   "execution_count": 6,
   "id": "506a9fc8",
   "metadata": {},
   "outputs": [],
   "source": [
    "# 특정 주소로 요청을 보낸다. \n",
    "driver.get('http://www.naver.com')"
   ]
  },
  {
   "cell_type": "code",
   "execution_count": 7,
   "id": "4fa00fda",
   "metadata": {},
   "outputs": [],
   "source": [
    "# Tag 중 id가 query인 태그를 선택하여 변수에 저장 \n",
    "search_element = \\\n",
    "    driver.find_element(By.ID, 'query')"
   ]
  },
  {
   "cell_type": "code",
   "execution_count": 9,
   "id": "550e9a04",
   "metadata": {},
   "outputs": [
    {
     "data": {
      "text/plain": [
       "selenium.webdriver.remote.webelement.WebElement"
      ]
     },
     "execution_count": 9,
     "metadata": {},
     "output_type": "execute_result"
    }
   ],
   "source": [
    "type(search_element)"
   ]
  },
  {
   "cell_type": "code",
   "execution_count": 10,
   "id": "e98f4f75",
   "metadata": {},
   "outputs": [],
   "source": [
    "# search_element(검색어창)에 특정 텍스트를 \n",
    "# 입력(데이터를 보낸다)한다. \n",
    "search_element.send_keys('아이폰')"
   ]
  },
  {
   "cell_type": "code",
   "execution_count": 11,
   "id": "9979b03a",
   "metadata": {},
   "outputs": [],
   "source": [
    "# search_element에서 ENTER 이벤트를 발생\n",
    "search_element.send_keys(Keys.ENTER)"
   ]
  },
  {
   "cell_type": "code",
   "execution_count": 13,
   "id": "b57946c8",
   "metadata": {},
   "outputs": [],
   "source": [
    "# 쇼핑 버튼(Tag)을 선택한다. \n",
    "# LINK_TEXT가 쇼핑인 태그 -> \n",
    "# 해당 조건에 맞는 태그가 몇개인가?\n",
    "len(driver.find_elements(By.LINK_TEXT, '쇼핑'))\n",
    "# 조건에 맞는 태그의 개수가 1개 이므로 클릭 이벤트 발생\n",
    "driver.find_element(By.LINK_TEXT, '쇼핑').click()"
   ]
  },
  {
   "cell_type": "code",
   "execution_count": 14,
   "id": "f2d1a952",
   "metadata": {},
   "outputs": [],
   "source": [
    "# 쇼핑 페이지에서 검색어의 결과(물건의 가격과 제품명)를 \n",
    "# 크롤링 -> 해당 페이지의 소스코드를 불러온다. \n",
    "html_data = driver.page_source"
   ]
  },
  {
   "cell_type": "code",
   "execution_count": 15,
   "id": "e0ece5c9",
   "metadata": {},
   "outputs": [],
   "source": [
    "# bs4 라이브러리 안에 있는 BeautifulSoup을 이용하여 \n",
    "# html_data를 parsing(데이터의 타입을 변환)\n",
    "from bs4 import BeautifulSoup as bs"
   ]
  },
  {
   "cell_type": "code",
   "execution_count": 16,
   "id": "6225bd67",
   "metadata": {},
   "outputs": [],
   "source": [
    "soup = bs(html_data, 'html.parser')"
   ]
  },
  {
   "cell_type": "code",
   "execution_count": null,
   "id": "93814337",
   "metadata": {},
   "outputs": [],
   "source": []
  }
 ],
 "metadata": {
  "kernelspec": {
   "display_name": "Python 3",
   "language": "python",
   "name": "python3"
  },
  "language_info": {
   "codemirror_mode": {
    "name": "ipython",
    "version": 3
   },
   "file_extension": ".py",
   "mimetype": "text/x-python",
   "name": "python",
   "nbconvert_exporter": "python",
   "pygments_lexer": "ipython3",
   "version": "3.11.9"
  }
 },
 "nbformat": 4,
 "nbformat_minor": 5
}
