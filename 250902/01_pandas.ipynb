{
 "cells": [
  {
   "cell_type": "code",
   "execution_count": 1,
   "id": "fc52ba44",
   "metadata": {},
   "outputs": [],
   "source": [
    "# 라이브러리 로드 \n",
    "# import 라이브러리명 as 별칭 \n",
    "# from 라이브러리명 import 라이브러리안에 특정 기능\n",
    "import pandas as pd"
   ]
  },
  {
   "cell_type": "code",
   "execution_count": 2,
   "id": "3e33b037",
   "metadata": {},
   "outputs": [],
   "source": [
    "# 1차원 데이터형인 Series 생성 \n",
    "series_1 = pd.Series(\n",
    "    [5000, 6000, 6500, 6500]\n",
    ")"
   ]
  },
  {
   "cell_type": "code",
   "execution_count": 3,
   "id": "bf7c9ee0",
   "metadata": {},
   "outputs": [
    {
     "data": {
      "text/plain": [
       "0    5000\n",
       "1    6000\n",
       "2    6500\n",
       "3    6500\n",
       "dtype: int64"
      ]
     },
     "execution_count": 3,
     "metadata": {},
     "output_type": "execute_result"
    }
   ],
   "source": [
    "series_1"
   ]
  },
  {
   "cell_type": "code",
   "execution_count": 4,
   "id": "bdd16c26",
   "metadata": {},
   "outputs": [],
   "source": [
    "series_2 = pd.Series(\n",
    "    ['A', 'B', 'C']\n",
    ")"
   ]
  },
  {
   "cell_type": "code",
   "execution_count": 5,
   "id": "84c258f0",
   "metadata": {},
   "outputs": [
    {
     "data": {
      "text/plain": [
       "0    A\n",
       "1    B\n",
       "2    C\n",
       "dtype: object"
      ]
     },
     "execution_count": 5,
     "metadata": {},
     "output_type": "execute_result"
    }
   ],
   "source": [
    "series_2"
   ]
  },
  {
   "cell_type": "code",
   "execution_count": 6,
   "id": "48fceba9",
   "metadata": {},
   "outputs": [],
   "source": [
    "# 원소들의 타입이 다른 경우 Series 생성 할대 dtype은 어떻게 되는가?\n",
    "series_3 = pd.Series(\n",
    "    ['A', 10, True]\n",
    ")"
   ]
  },
  {
   "cell_type": "code",
   "execution_count": 7,
   "id": "8d5b0b38",
   "metadata": {},
   "outputs": [
    {
     "data": {
      "text/plain": [
       "0       A\n",
       "1      10\n",
       "2    True\n",
       "dtype: object"
      ]
     },
     "execution_count": 7,
     "metadata": {},
     "output_type": "execute_result"
    }
   ],
   "source": [
    "series_3"
   ]
  },
  {
   "cell_type": "code",
   "execution_count": 8,
   "id": "d5f0a576",
   "metadata": {},
   "outputs": [
    {
     "data": {
      "text/plain": [
       "bool"
      ]
     },
     "execution_count": 8,
     "metadata": {},
     "output_type": "execute_result"
    }
   ],
   "source": [
    "type(series_3[2])"
   ]
  },
  {
   "cell_type": "code",
   "execution_count": 9,
   "id": "2f1a720f",
   "metadata": {},
   "outputs": [
    {
     "name": "stdout",
     "output_type": "stream",
     "text": [
      "Series에서 values는  [5000 6000 6500 6500]\n",
      "Series에서 index는  RangeIndex(start=0, stop=4, step=1)\n"
     ]
    }
   ],
   "source": [
    "# Series 라는 class에는 적어도 2개의 변수가 존재\n",
    "# 값들이 저장되어있는 values\n",
    "# values의 키값인 index\n",
    "print(\"Series에서 values는 \", series_1.values)\n",
    "print(\"Series에서 index는 \", series_1.index)"
   ]
  },
  {
   "cell_type": "code",
   "execution_count": 10,
   "id": "7cccbbcf",
   "metadata": {},
   "outputs": [],
   "source": [
    "series_1[1] = 5500"
   ]
  },
  {
   "cell_type": "code",
   "execution_count": 11,
   "id": "aeb5660c",
   "metadata": {},
   "outputs": [
    {
     "data": {
      "text/plain": [
       "0    5000\n",
       "1    5500\n",
       "2    6500\n",
       "3    6500\n",
       "dtype: int64"
      ]
     },
     "execution_count": 11,
     "metadata": {},
     "output_type": "execute_result"
    }
   ],
   "source": [
    "series_1"
   ]
  },
  {
   "cell_type": "code",
   "execution_count": 12,
   "id": "a3b01def",
   "metadata": {},
   "outputs": [],
   "source": [
    "series_1[5] = 6000"
   ]
  },
  {
   "cell_type": "code",
   "execution_count": 13,
   "id": "096797c5",
   "metadata": {},
   "outputs": [
    {
     "data": {
      "text/plain": [
       "0    5000\n",
       "1    5500\n",
       "2    6500\n",
       "3    6500\n",
       "5    6000\n",
       "dtype: int64"
      ]
     },
     "execution_count": 13,
     "metadata": {},
     "output_type": "execute_result"
    }
   ],
   "source": [
    "series_1"
   ]
  },
  {
   "cell_type": "code",
   "execution_count": 14,
   "id": "5b2e4e86",
   "metadata": {},
   "outputs": [],
   "source": [
    "# index의 값을 변경한다.-> \n",
    "# Series class 내부에 존재하는 index 변수의 데이터를 다른값으로 채워준다. \n",
    "series_1.index = [0, 1, 1, 2, 2]"
   ]
  },
  {
   "cell_type": "code",
   "execution_count": 15,
   "id": "b7ac97d9",
   "metadata": {},
   "outputs": [
    {
     "data": {
      "text/plain": [
       "0    5000\n",
       "1    5500\n",
       "1    6500\n",
       "2    6500\n",
       "2    6000\n",
       "dtype: int64"
      ]
     },
     "execution_count": 15,
     "metadata": {},
     "output_type": "execute_result"
    }
   ],
   "source": [
    "series_1"
   ]
  },
  {
   "cell_type": "code",
   "execution_count": 16,
   "id": "5a3dab9d",
   "metadata": {},
   "outputs": [],
   "source": [
    "# series 안에 index를 변경하는데 values의 길이와 맞지 않는 경우 \n",
    "# 길이가 맞지 않는다면 에러 발생\n",
    "# series_1.index = [0, 1, 2, 3, 4, 5]"
   ]
  },
  {
   "cell_type": "code",
   "execution_count": 17,
   "id": "e95d529a",
   "metadata": {},
   "outputs": [],
   "source": [
    "# 특정 인덱스만 변경하려고 한다. \n",
    "# index 타입의 데이터에서 특정 데이터를 변경은 함수를 이용해서 가능\n",
    "# series_1.index[2] = 10"
   ]
  },
  {
   "cell_type": "code",
   "execution_count": 18,
   "id": "1dc0f1da",
   "metadata": {},
   "outputs": [],
   "source": [
    "# 데이터프레임 생성\n",
    "_values = [\n",
    "    [1,2,3], \n",
    "    [4,5,6], \n",
    "    [7,8,9]\n",
    "]\n",
    "_index = ['a', 'b', 'c']\n",
    "_cols = ['A', 'B', 'C']\n",
    "\n",
    "df = pd.DataFrame(_values, index = _index, columns = _cols)"
   ]
  },
  {
   "cell_type": "code",
   "execution_count": 19,
   "id": "50095f20",
   "metadata": {},
   "outputs": [
    {
     "data": {
      "text/html": [
       "<div>\n",
       "<style scoped>\n",
       "    .dataframe tbody tr th:only-of-type {\n",
       "        vertical-align: middle;\n",
       "    }\n",
       "\n",
       "    .dataframe tbody tr th {\n",
       "        vertical-align: top;\n",
       "    }\n",
       "\n",
       "    .dataframe thead th {\n",
       "        text-align: right;\n",
       "    }\n",
       "</style>\n",
       "<table border=\"1\" class=\"dataframe\">\n",
       "  <thead>\n",
       "    <tr style=\"text-align: right;\">\n",
       "      <th></th>\n",
       "      <th>A</th>\n",
       "      <th>B</th>\n",
       "      <th>C</th>\n",
       "    </tr>\n",
       "  </thead>\n",
       "  <tbody>\n",
       "    <tr>\n",
       "      <th>a</th>\n",
       "      <td>1</td>\n",
       "      <td>2</td>\n",
       "      <td>3</td>\n",
       "    </tr>\n",
       "    <tr>\n",
       "      <th>b</th>\n",
       "      <td>4</td>\n",
       "      <td>5</td>\n",
       "      <td>6</td>\n",
       "    </tr>\n",
       "    <tr>\n",
       "      <th>c</th>\n",
       "      <td>7</td>\n",
       "      <td>8</td>\n",
       "      <td>9</td>\n",
       "    </tr>\n",
       "  </tbody>\n",
       "</table>\n",
       "</div>"
      ],
      "text/plain": [
       "   A  B  C\n",
       "a  1  2  3\n",
       "b  4  5  6\n",
       "c  7  8  9"
      ]
     },
     "execution_count": 19,
     "metadata": {},
     "output_type": "execute_result"
    }
   ],
   "source": [
    "df"
   ]
  },
  {
   "cell_type": "code",
   "execution_count": 20,
   "id": "2405fda7",
   "metadata": {},
   "outputs": [
    {
     "name": "stdout",
     "output_type": "stream",
     "text": [
      "   A  B  C\n",
      "a  1  2  3\n",
      "b  4  5  6\n",
      "c  7  8  9\n"
     ]
    }
   ],
   "source": [
    "print(df)"
   ]
  },
  {
   "cell_type": "code",
   "execution_count": 21,
   "id": "0935ebe0",
   "metadata": {},
   "outputs": [],
   "source": [
    "# rename() 함수를 이용해서 특정 인덱스나 특정 컬럼을 변경 \n",
    "# df 의 컬럼 중 B 컬럼의 이름을 F변경 \n",
    "# inplace 매개변수를 True 변경하면 df의 데이터가 변경되고 출력 X\n",
    "df.rename(\n",
    "    columns = {\n",
    "        'B' : 'F'\n",
    "    }, \n",
    "    inplace = True\n",
    ")"
   ]
  },
  {
   "cell_type": "code",
   "execution_count": 22,
   "id": "fdd06ae1",
   "metadata": {},
   "outputs": [],
   "source": [
    "# 복사본 생성 \n",
    "df2 = df.copy()"
   ]
  },
  {
   "cell_type": "code",
   "execution_count": 23,
   "id": "24a157a3",
   "metadata": {},
   "outputs": [],
   "source": [
    "df2 = df2.rename(\n",
    "    columns ={\n",
    "        'A' : 'C'\n",
    "    } , inplace = True\n",
    ")"
   ]
  },
  {
   "cell_type": "code",
   "execution_count": 24,
   "id": "11d95992",
   "metadata": {},
   "outputs": [],
   "source": [
    "df2\n",
    "# inplace가 True이면 return으로 되돌려주는 데이터가 존재하지 않는다. \n",
    "# df2 = None 들어가는 형태로 df2의 데이터를 모두 제거 "
   ]
  },
  {
   "cell_type": "code",
   "execution_count": 25,
   "id": "0a20227c",
   "metadata": {},
   "outputs": [],
   "source": [
    "# DataFrame 안에 있는 columns 변수의 데이터를 변경\n",
    "df.columns = ['name', 'age', 'loc']"
   ]
  },
  {
   "cell_type": "code",
   "execution_count": 26,
   "id": "54b75213",
   "metadata": {},
   "outputs": [
    {
     "data": {
      "text/html": [
       "<div>\n",
       "<style scoped>\n",
       "    .dataframe tbody tr th:only-of-type {\n",
       "        vertical-align: middle;\n",
       "    }\n",
       "\n",
       "    .dataframe tbody tr th {\n",
       "        vertical-align: top;\n",
       "    }\n",
       "\n",
       "    .dataframe thead th {\n",
       "        text-align: right;\n",
       "    }\n",
       "</style>\n",
       "<table border=\"1\" class=\"dataframe\">\n",
       "  <thead>\n",
       "    <tr style=\"text-align: right;\">\n",
       "      <th></th>\n",
       "      <th>name</th>\n",
       "      <th>age</th>\n",
       "      <th>loc</th>\n",
       "    </tr>\n",
       "  </thead>\n",
       "  <tbody>\n",
       "    <tr>\n",
       "      <th>a</th>\n",
       "      <td>1</td>\n",
       "      <td>2</td>\n",
       "      <td>3</td>\n",
       "    </tr>\n",
       "    <tr>\n",
       "      <th>b</th>\n",
       "      <td>4</td>\n",
       "      <td>5</td>\n",
       "      <td>6</td>\n",
       "    </tr>\n",
       "    <tr>\n",
       "      <th>c</th>\n",
       "      <td>7</td>\n",
       "      <td>8</td>\n",
       "      <td>9</td>\n",
       "    </tr>\n",
       "  </tbody>\n",
       "</table>\n",
       "</div>"
      ],
      "text/plain": [
       "   name  age  loc\n",
       "a     1    2    3\n",
       "b     4    5    6\n",
       "c     7    8    9"
      ]
     },
     "execution_count": 26,
     "metadata": {},
     "output_type": "execute_result"
    }
   ],
   "source": [
    "df"
   ]
  },
  {
   "cell_type": "markdown",
   "id": "e7157dd3",
   "metadata": {},
   "source": [
    "#### pandas 라이브러리를 이용하여 외부의 데이터파일 로드 \n",
    "- csv, tsv\n",
    "    - 가장 단순한 형태의 데이터 파일 \n",
    "    - pandas 안에 내장된 read_csv() 함수를 이용하여 로드 \n",
    "    - csv는 데이터를 ',' 기준으로 나눠준다. \n",
    "        - read_csv()를 기본값으로 사용 \n",
    "    - tsv는 데이터를 '\\t' 기준으로 나눠준다. \n",
    "        - read_csv() 함수에서 sep 매개변수에 인자값을 '\\t' 대입\n",
    "- json\n",
    "    - 많이 사용하는 데이터의 파일\n",
    "    - python을 기준으로 생각하면 dict 형태와 같다\n",
    "    - pandas 안에 read_json() 함수를 이용하여 로드 \n",
    "- xml \n",
    "    - html 구조 언어와 같이 tag를 이용하여 데이터 구성 \n",
    "    - pandas 안에 read_xml() 함수를 이용하여 로드 \n",
    "- 공통적으로 사용이되는 매개변수 \n",
    "    - encoding 매개변수 \n",
    "        - 기본값은 'UTF-8'\n",
    "        - 데이터 파일을 로드 하는데 해당 데이터에 한글이 존재할때 종종 에러가 발생 ( decode error )\n",
    "            - 'CP949', 'EUC-KR'로 매개변수에 대입 에러가 해결\n",
    "        - 엑셀파일을 로드하는 함수에서는 encoding 매개변수가 존재하지 않는다. \n",
    "- excel ( xls, xlsx )\n",
    "    - 엑셀 데이터 파일 \n",
    "    - pandas 안에 read_excel() 함수를 이용\n",
    "    - 특정 엑셀 파일을 로드 할때는 추가적인 라이브러리 설치 필요한 경우가 발생 \n",
    "        - 해당 라이브러리가 설치가 되지 않은 경우에는 에러 발생 (모듈을 찾을수 없다.)\n",
    "        - openpyxl 라이브러리를 설치하면 에러 해결 \n",
    "\n",
    "- read_xxx() 공통적인 부분 \n",
    "    - 첫번째 인자 : 파일의 경로\n",
    "\n",
    "#### 경로 \n",
    "- 절대 경로\n",
    "    - 절대적인 주소값\n",
    "    - 환경이 변하더라도 같은 위치를 언제나 지정 \n",
    "    - ex)\n",
    "        - window -> c:/users/admin/document/a.txt\n",
    "        - mac -> ~/Desktop/a.txt\n",
    "        - url -> https://www.google.com\n",
    "- 상대 경로\n",
    "    - 상대적인 주소값\n",
    "    - 환경이 변할때 위치도 같이 변한다. \n",
    "    - 종류\n",
    "        - ./ -> 현재 작업중인 디렉토리\n",
    "        - ../ -> 상위(부모) 디렉토리 이동\n",
    "        - 디렉토리명/ -> 하위(자식) 디렉토리 이동\n"
   ]
  },
  {
   "cell_type": "code",
   "execution_count": 27,
   "id": "da747a46",
   "metadata": {},
   "outputs": [],
   "source": [
    "# 외부의 데이터파일 로드 \n",
    "# 절대 경로 사용\n",
    "df = pd.read_csv(\n",
    "    r\"C:\\Users\\ekfla\\Documents\\GitHub\\multicam_2025\\csv\\example.csv\"\n",
    ")"
   ]
  },
  {
   "cell_type": "code",
   "execution_count": 28,
   "id": "9c7b244c",
   "metadata": {},
   "outputs": [
    {
     "data": {
      "text/html": [
       "<div>\n",
       "<style scoped>\n",
       "    .dataframe tbody tr th:only-of-type {\n",
       "        vertical-align: middle;\n",
       "    }\n",
       "\n",
       "    .dataframe tbody tr th {\n",
       "        vertical-align: top;\n",
       "    }\n",
       "\n",
       "    .dataframe thead th {\n",
       "        text-align: right;\n",
       "    }\n",
       "</style>\n",
       "<table border=\"1\" class=\"dataframe\">\n",
       "  <thead>\n",
       "    <tr style=\"text-align: right;\">\n",
       "      <th></th>\n",
       "      <th>Name</th>\n",
       "      <th>Gender</th>\n",
       "      <th>Phone</th>\n",
       "    </tr>\n",
       "  </thead>\n",
       "  <tbody>\n",
       "    <tr>\n",
       "      <th>0</th>\n",
       "      <td>A</td>\n",
       "      <td>male</td>\n",
       "      <td>010-1234-5678</td>\n",
       "    </tr>\n",
       "    <tr>\n",
       "      <th>1</th>\n",
       "      <td>B</td>\n",
       "      <td>female</td>\n",
       "      <td>010-1234-5679</td>\n",
       "    </tr>\n",
       "    <tr>\n",
       "      <th>2</th>\n",
       "      <td>C</td>\n",
       "      <td>male</td>\n",
       "      <td>010-1234-5680</td>\n",
       "    </tr>\n",
       "    <tr>\n",
       "      <th>3</th>\n",
       "      <td>D</td>\n",
       "      <td>female</td>\n",
       "      <td>010-1234-5681</td>\n",
       "    </tr>\n",
       "    <tr>\n",
       "      <th>4</th>\n",
       "      <td>E</td>\n",
       "      <td>male</td>\n",
       "      <td>010-1234-5682</td>\n",
       "    </tr>\n",
       "    <tr>\n",
       "      <th>5</th>\n",
       "      <td>F</td>\n",
       "      <td>female</td>\n",
       "      <td>010-1234-5683</td>\n",
       "    </tr>\n",
       "    <tr>\n",
       "      <th>6</th>\n",
       "      <td>G</td>\n",
       "      <td>male</td>\n",
       "      <td>010-1234-5684</td>\n",
       "    </tr>\n",
       "    <tr>\n",
       "      <th>7</th>\n",
       "      <td>H</td>\n",
       "      <td>female</td>\n",
       "      <td>010-1234-5685</td>\n",
       "    </tr>\n",
       "    <tr>\n",
       "      <th>8</th>\n",
       "      <td>I</td>\n",
       "      <td>male</td>\n",
       "      <td>010-1234-5686</td>\n",
       "    </tr>\n",
       "    <tr>\n",
       "      <th>9</th>\n",
       "      <td>J</td>\n",
       "      <td>female</td>\n",
       "      <td>010-1234-5687</td>\n",
       "    </tr>\n",
       "  </tbody>\n",
       "</table>\n",
       "</div>"
      ],
      "text/plain": [
       "  Name  Gender          Phone\n",
       "0    A    male  010-1234-5678\n",
       "1    B  female  010-1234-5679\n",
       "2    C    male  010-1234-5680\n",
       "3    D  female  010-1234-5681\n",
       "4    E    male  010-1234-5682\n",
       "5    F  female  010-1234-5683\n",
       "6    G    male  010-1234-5684\n",
       "7    H  female  010-1234-5685\n",
       "8    I    male  010-1234-5686\n",
       "9    J  female  010-1234-5687"
      ]
     },
     "execution_count": 28,
     "metadata": {},
     "output_type": "execute_result"
    }
   ],
   "source": [
    "df"
   ]
  },
  {
   "cell_type": "code",
   "execution_count": 29,
   "id": "ba174ff0",
   "metadata": {},
   "outputs": [],
   "source": [
    "# 상대 경로 이용\n",
    "# 현재 디렉토리(./) -> 상위 디렉토리(../) -> csv 하위 디렉토리 이동(csv/)\n",
    "# -> example.csv\n",
    "df2 = pd.read_csv(\n",
    "    \"./../csv/example.csv\"\n",
    ")\n"
   ]
  },
  {
   "cell_type": "code",
   "execution_count": 30,
   "id": "51c83880",
   "metadata": {},
   "outputs": [
    {
     "data": {
      "text/html": [
       "<div>\n",
       "<style scoped>\n",
       "    .dataframe tbody tr th:only-of-type {\n",
       "        vertical-align: middle;\n",
       "    }\n",
       "\n",
       "    .dataframe tbody tr th {\n",
       "        vertical-align: top;\n",
       "    }\n",
       "\n",
       "    .dataframe thead th {\n",
       "        text-align: right;\n",
       "    }\n",
       "</style>\n",
       "<table border=\"1\" class=\"dataframe\">\n",
       "  <thead>\n",
       "    <tr style=\"text-align: right;\">\n",
       "      <th></th>\n",
       "      <th>Name</th>\n",
       "      <th>Gender</th>\n",
       "      <th>Phone</th>\n",
       "    </tr>\n",
       "  </thead>\n",
       "  <tbody>\n",
       "    <tr>\n",
       "      <th>0</th>\n",
       "      <td>A</td>\n",
       "      <td>male</td>\n",
       "      <td>010-1234-5678</td>\n",
       "    </tr>\n",
       "    <tr>\n",
       "      <th>1</th>\n",
       "      <td>B</td>\n",
       "      <td>female</td>\n",
       "      <td>010-1234-5679</td>\n",
       "    </tr>\n",
       "    <tr>\n",
       "      <th>2</th>\n",
       "      <td>C</td>\n",
       "      <td>male</td>\n",
       "      <td>010-1234-5680</td>\n",
       "    </tr>\n",
       "    <tr>\n",
       "      <th>3</th>\n",
       "      <td>D</td>\n",
       "      <td>female</td>\n",
       "      <td>010-1234-5681</td>\n",
       "    </tr>\n",
       "    <tr>\n",
       "      <th>4</th>\n",
       "      <td>E</td>\n",
       "      <td>male</td>\n",
       "      <td>010-1234-5682</td>\n",
       "    </tr>\n",
       "    <tr>\n",
       "      <th>5</th>\n",
       "      <td>F</td>\n",
       "      <td>female</td>\n",
       "      <td>010-1234-5683</td>\n",
       "    </tr>\n",
       "    <tr>\n",
       "      <th>6</th>\n",
       "      <td>G</td>\n",
       "      <td>male</td>\n",
       "      <td>010-1234-5684</td>\n",
       "    </tr>\n",
       "    <tr>\n",
       "      <th>7</th>\n",
       "      <td>H</td>\n",
       "      <td>female</td>\n",
       "      <td>010-1234-5685</td>\n",
       "    </tr>\n",
       "    <tr>\n",
       "      <th>8</th>\n",
       "      <td>I</td>\n",
       "      <td>male</td>\n",
       "      <td>010-1234-5686</td>\n",
       "    </tr>\n",
       "    <tr>\n",
       "      <th>9</th>\n",
       "      <td>J</td>\n",
       "      <td>female</td>\n",
       "      <td>010-1234-5687</td>\n",
       "    </tr>\n",
       "  </tbody>\n",
       "</table>\n",
       "</div>"
      ],
      "text/plain": [
       "  Name  Gender          Phone\n",
       "0    A    male  010-1234-5678\n",
       "1    B  female  010-1234-5679\n",
       "2    C    male  010-1234-5680\n",
       "3    D  female  010-1234-5681\n",
       "4    E    male  010-1234-5682\n",
       "5    F  female  010-1234-5683\n",
       "6    G    male  010-1234-5684\n",
       "7    H  female  010-1234-5685\n",
       "8    I    male  010-1234-5686\n",
       "9    J  female  010-1234-5687"
      ]
     },
     "execution_count": 30,
     "metadata": {},
     "output_type": "execute_result"
    }
   ],
   "source": [
    "df2"
   ]
  },
  {
   "cell_type": "code",
   "execution_count": 32,
   "id": "e5d8329d",
   "metadata": {},
   "outputs": [],
   "source": [
    "# tsv 파일을 로드 \n",
    "# read_csv() 함수를 이용\n",
    "# 상대경로 \n",
    "# 현재 경로(./) -> 상위 디렉토리 이동(../) -> 하위 csv 디렉토리 이동(csv/)\n",
    "# -> 하위 num_1 디렉토리 이동(num_1/) -> chipotle.tsv\n",
    "df3 = pd.read_csv(\n",
    "    \"./../csv/num_1/chipotle.tsv\", sep = '\\t'\n",
    ")"
   ]
  },
  {
   "cell_type": "code",
   "execution_count": 33,
   "id": "df223d0d",
   "metadata": {},
   "outputs": [],
   "source": [
    "# csv 폴더 안에 있는 2021 폴더에서 json 데이터 로드 \n",
    "# read_json() 함수 이용 \n",
    "# 현재 경로(./) -> 상위 디렉토리 이동(../) -> 하위 csv 디렉토리 이동(csv/)\n",
    "# -> 하위 2021 디렉토리 이동 -> 202101_xxxxx.json\n",
    "df4 = pd.read_json(\n",
    "    \"./../csv/2021/202101_expense_list.json\"\n",
    ")"
   ]
  },
  {
   "cell_type": "code",
   "execution_count": null,
   "id": "a12f8d74",
   "metadata": {},
   "outputs": [],
   "source": [
    "df4.head(1)"
   ]
  },
  {
   "cell_type": "code",
   "execution_count": 38,
   "id": "e8dd6d93",
   "metadata": {},
   "outputs": [],
   "source": [
    "# 같은 경로에 있는 xml 파일을 로드 \n",
    "df5 = pd.read_xml(\n",
    "    \"./../csv/2021/202101_expense_list.xml\"\n",
    ")"
   ]
  },
  {
   "cell_type": "code",
   "execution_count": null,
   "id": "6a4875c1",
   "metadata": {},
   "outputs": [],
   "source": [
    "# !pip install lxml"
   ]
  },
  {
   "cell_type": "code",
   "execution_count": 41,
   "id": "cfd96a5a",
   "metadata": {},
   "outputs": [],
   "source": [
    "# 같은 경로에 있는 excel 파일을 로드 \n",
    "df6 = pd.read_excel(\n",
    "    \"./../csv/2021/202101_expense_list.xlsx\"\n",
    ")"
   ]
  },
  {
   "cell_type": "code",
   "execution_count": null,
   "id": "d3c141be",
   "metadata": {},
   "outputs": [],
   "source": [
    "# !pip install openpyxl"
   ]
  },
  {
   "cell_type": "code",
   "execution_count": 46,
   "id": "be0974d3",
   "metadata": {},
   "outputs": [],
   "source": [
    "# data 파일에서 한글때문에 에러가 발생하는 경우 \n",
    "# csv 폴더 안에 '주민등록.csv' 파일을 로드 \n",
    "# 현재 경로(\"./\") -> 상위 디렉토리 이동(\"../\") -> 하위 csv 디렉토리 이동(csv/)\n",
    "# 주민등록.csv \n",
    "df7 = pd.read_csv(\n",
    "    \"./../csv/주민등록.csv\", encoding='CP949'\n",
    ")"
   ]
  },
  {
   "cell_type": "code",
   "execution_count": 47,
   "id": "666626f9",
   "metadata": {},
   "outputs": [
    {
     "data": {
      "text/html": [
       "<div>\n",
       "<style scoped>\n",
       "    .dataframe tbody tr th:only-of-type {\n",
       "        vertical-align: middle;\n",
       "    }\n",
       "\n",
       "    .dataframe tbody tr th {\n",
       "        vertical-align: top;\n",
       "    }\n",
       "\n",
       "    .dataframe thead th {\n",
       "        text-align: right;\n",
       "    }\n",
       "</style>\n",
       "<table border=\"1\" class=\"dataframe\">\n",
       "  <thead>\n",
       "    <tr style=\"text-align: right;\">\n",
       "      <th></th>\n",
       "      <th>자치구코드(atdrc_code_se)</th>\n",
       "      <th>자치구명(atdrc_nm)</th>\n",
       "      <th>년월(년월)</th>\n",
       "      <th>총인구수(tot_popltn_co)</th>\n",
       "      <th>세대수(tot_hshld_co)</th>\n",
       "      <th>세대당인구(hshld_popltn_avrg_co)</th>\n",
       "      <th>남자인구수(male_popltn_co)</th>\n",
       "      <th>여자인구수(female_popltn_co)</th>\n",
       "      <th>적재일시(ldadng_dt)</th>\n",
       "    </tr>\n",
       "  </thead>\n",
       "  <tbody>\n",
       "    <tr>\n",
       "      <th>0</th>\n",
       "      <td>금천구</td>\n",
       "      <td>11110</td>\n",
       "      <td>201907</td>\n",
       "      <td>228755</td>\n",
       "      <td>171426</td>\n",
       "      <td>2.44</td>\n",
       "      <td>319062</td>\n",
       "      <td>118352</td>\n",
       "      <td>2018-01-05 16:52:25</td>\n",
       "    </tr>\n",
       "    <tr>\n",
       "      <th>1</th>\n",
       "      <td>서대문구</td>\n",
       "      <td>11290</td>\n",
       "      <td>201607</td>\n",
       "      <td>153780</td>\n",
       "      <td>186744</td>\n",
       "      <td>2.12</td>\n",
       "      <td>75614</td>\n",
       "      <td>116393</td>\n",
       "      <td>2018-12-05 10:20:57</td>\n",
       "    </tr>\n",
       "    <tr>\n",
       "      <th>2</th>\n",
       "      <td>양천구</td>\n",
       "      <td>11740</td>\n",
       "      <td>201804</td>\n",
       "      <td>594315</td>\n",
       "      <td>61091</td>\n",
       "      <td>2.22</td>\n",
       "      <td>192817</td>\n",
       "      <td>307237</td>\n",
       "      <td>2020-11-03 10:50:11</td>\n",
       "    </tr>\n",
       "    <tr>\n",
       "      <th>3</th>\n",
       "      <td>은평구</td>\n",
       "      <td>11200</td>\n",
       "      <td>202004</td>\n",
       "      <td>345156</td>\n",
       "      <td>168865</td>\n",
       "      <td>2.13</td>\n",
       "      <td>229690</td>\n",
       "      <td>204108</td>\n",
       "      <td>2018-01-05 16:52:25</td>\n",
       "    </tr>\n",
       "    <tr>\n",
       "      <th>4</th>\n",
       "      <td>마포구</td>\n",
       "      <td>11260</td>\n",
       "      <td>201902</td>\n",
       "      <td>394788</td>\n",
       "      <td>168482</td>\n",
       "      <td>2.52</td>\n",
       "      <td>61714</td>\n",
       "      <td>146951</td>\n",
       "      <td>2018-01-05 16:52:25</td>\n",
       "    </tr>\n",
       "  </tbody>\n",
       "</table>\n",
       "</div>"
      ],
      "text/plain": [
       "  자치구코드(atdrc_code_se)  자치구명(atdrc_nm)  년월(년월)  총인구수(tot_popltn_co)  \\\n",
       "0                  금천구           11110  201907               228755   \n",
       "1                 서대문구           11290  201607               153780   \n",
       "2                  양천구           11740  201804               594315   \n",
       "3                  은평구           11200  202004               345156   \n",
       "4                  마포구           11260  201902               394788   \n",
       "\n",
       "   세대수(tot_hshld_co)  세대당인구(hshld_popltn_avrg_co)  남자인구수(male_popltn_co)  \\\n",
       "0             171426                         2.44                 319062   \n",
       "1             186744                         2.12                  75614   \n",
       "2              61091                         2.22                 192817   \n",
       "3             168865                         2.13                 229690   \n",
       "4             168482                         2.52                  61714   \n",
       "\n",
       "   여자인구수(female_popltn_co)      적재일시(ldadng_dt)  \n",
       "0                   118352  2018-01-05 16:52:25  \n",
       "1                   116393  2018-12-05 10:20:57  \n",
       "2                   307237  2020-11-03 10:50:11  \n",
       "3                   204108  2018-01-05 16:52:25  \n",
       "4                   146951  2018-01-05 16:52:25  "
      ]
     },
     "execution_count": 47,
     "metadata": {},
     "output_type": "execute_result"
    }
   ],
   "source": [
    "df7.head()"
   ]
  },
  {
   "cell_type": "markdown",
   "id": "99b71551",
   "metadata": {},
   "source": [
    "#### 결측치 \n",
    "- 데이터프레임에서 특정 부분에 데이터가 존재하지 않는 경우\n",
    "- NaN 표시 "
   ]
  },
  {
   "cell_type": "code",
   "execution_count": null,
   "id": "2f354901",
   "metadata": {},
   "outputs": [],
   "source": []
  }
 ],
 "metadata": {
  "kernelspec": {
   "display_name": "Python 3",
   "language": "python",
   "name": "python3"
  },
  "language_info": {
   "codemirror_mode": {
    "name": "ipython",
    "version": 3
   },
   "file_extension": ".py",
   "mimetype": "text/x-python",
   "name": "python",
   "nbconvert_exporter": "python",
   "pygments_lexer": "ipython3",
   "version": "3.11.9"
  }
 },
 "nbformat": 4,
 "nbformat_minor": 5
}
