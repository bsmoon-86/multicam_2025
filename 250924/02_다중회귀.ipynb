{
 "cells": [
  {
   "cell_type": "markdown",
   "id": "3faa1c77",
   "metadata": {},
   "source": [
    "# 다중 회귀 \n",
    "- 다중의 독립 변수가 존재하는 회귀 분석 \n",
    "- 여러 개의 독립 변수가 복합적으로 종속 변수에 영향을 미치는 경우 다중 회귀 모형으로 데이터를 예측\n",
    "- 다중 회귀에서 최적의 모델을 결정하기 위해 여러 가지의 방법이 존재 \n",
    "- 모델이 복잡해지면 과대적합이 발생할 가능성이 있기 때문에 이를 방지하기 위해 다양한 규제 방식이 존재하고 규제에 따른 모델들이 존재 \n",
    "    - 모델에서 규제 방식에 따라서 가중치를 제한\n",
    "    - 독립 변수에서의 가중치가 0이 되는 차원(컬럼 | 피쳐)들이 생성 \n",
    "    - 규제를 강하게 걸면 가중치의 절대치가 줄어들고 0에 가까워진다. "
   ]
  },
  {
   "cell_type": "markdown",
   "id": "47cb4e43",
   "metadata": {},
   "source": [
    "## 릿지 \n",
    "- 최소제곱 적합식의 수축 패널티라 불리는 항에 L2 패널티를 추가한것 \n",
    "\n",
    "- 매개변수 \n",
    "    - alpha\n",
    "        - 기본값 : 1.0\n",
    "        - 규제의 강도 -> 클수록 회귀 계수가 작아지고 과적합의 방지, 과소적합 위험\n",
    "        - 해당 모델의 중요한 매개변수\n",
    "    - solver\n",
    "        - 기본값 : 'auto'\n",
    "        - 해를 구하는 방법 \n",
    "        - 데이터의 크기 / 희소성에 따라 적합한 solver를 선택 \n",
    "        - 'auto', 'svd', 'cholesky', 'lsqr', 'sparse_cg', 'sag', 'saga'\n",
    "            - svd : 특이값 분해, 다중공선성 있고 데이터의 개수가 작거나 중간 정도 \n",
    "            - cholesky : 정규방정식, 데이터의 개수가 작거나 중간 정도 \n",
    "            - lsqr : 반복 최소제곱, 대규모 데이터중 희소/밀집 데이터\n",
    "            - sparse_cg : 공액 기울기법, 대규모 데이터 중 희소 데이터 \n",
    "            - sag : 확률적 평균 검사, 데이터의 행의 수가 열의 수보다 월등히 많은 경우\n",
    "            - saga : sag 확장, 대규모 희소, ElasticNet 가능\n",
    "    - tol\n",
    "        - 기본값 : 0.001 (1e-03)\n",
    "        - 수렴의 판단 기준, 작을수록 정밀, 속도적인 면에서 느려질수 있다. \n",
    "    - max_iter\n",
    "        - 기본값 : None\n",
    "        - 최적화 될때까지 최대 반복 횟수.(데이터 크거나 수치가 불안정 경우에 필요)\n",
    "    \n",
    "- 속성 \n",
    "    - coef_\n",
    "        - 회귀 계수를 출력 (규제로 인해서 선형 회귀에 비해 값들이 작게 출력)\n",
    "    - n_iter_\n",
    "        - solver가 반복한 횟수 출력 \n"
   ]
  },
  {
   "cell_type": "code",
   "execution_count": 1,
   "id": "59d35b0f",
   "metadata": {},
   "outputs": [],
   "source": [
    "import pandas as pd\n",
    "import numpy as np\n",
    "from sklearn.datasets import load_diabetes\n",
    "from sklearn.linear_model import Ridge\n",
    "import matplotlib.pyplot as plt"
   ]
  },
  {
   "cell_type": "code",
   "execution_count": 2,
   "id": "00a0ecb5",
   "metadata": {},
   "outputs": [],
   "source": [
    "diabetes = load_diabetes()"
   ]
  },
  {
   "cell_type": "code",
   "execution_count": 3,
   "id": "27fed46d",
   "metadata": {},
   "outputs": [
    {
     "data": {
      "text/html": [
       "<div>\n",
       "<style scoped>\n",
       "    .dataframe tbody tr th:only-of-type {\n",
       "        vertical-align: middle;\n",
       "    }\n",
       "\n",
       "    .dataframe tbody tr th {\n",
       "        vertical-align: top;\n",
       "    }\n",
       "\n",
       "    .dataframe thead th {\n",
       "        text-align: right;\n",
       "    }\n",
       "</style>\n",
       "<table border=\"1\" class=\"dataframe\">\n",
       "  <thead>\n",
       "    <tr style=\"text-align: right;\">\n",
       "      <th></th>\n",
       "      <th>age</th>\n",
       "      <th>sex</th>\n",
       "      <th>bmi</th>\n",
       "      <th>bp</th>\n",
       "      <th>s1</th>\n",
       "      <th>s2</th>\n",
       "      <th>s3</th>\n",
       "      <th>s4</th>\n",
       "      <th>s5</th>\n",
       "      <th>s6</th>\n",
       "    </tr>\n",
       "  </thead>\n",
       "  <tbody>\n",
       "    <tr>\n",
       "      <th>0</th>\n",
       "      <td>0.038076</td>\n",
       "      <td>0.050680</td>\n",
       "      <td>0.061696</td>\n",
       "      <td>0.021872</td>\n",
       "      <td>-0.044223</td>\n",
       "      <td>-0.034821</td>\n",
       "      <td>-0.043401</td>\n",
       "      <td>-0.002592</td>\n",
       "      <td>0.019907</td>\n",
       "      <td>-0.017646</td>\n",
       "    </tr>\n",
       "    <tr>\n",
       "      <th>1</th>\n",
       "      <td>-0.001882</td>\n",
       "      <td>-0.044642</td>\n",
       "      <td>-0.051474</td>\n",
       "      <td>-0.026328</td>\n",
       "      <td>-0.008449</td>\n",
       "      <td>-0.019163</td>\n",
       "      <td>0.074412</td>\n",
       "      <td>-0.039493</td>\n",
       "      <td>-0.068332</td>\n",
       "      <td>-0.092204</td>\n",
       "    </tr>\n",
       "    <tr>\n",
       "      <th>2</th>\n",
       "      <td>0.085299</td>\n",
       "      <td>0.050680</td>\n",
       "      <td>0.044451</td>\n",
       "      <td>-0.005670</td>\n",
       "      <td>-0.045599</td>\n",
       "      <td>-0.034194</td>\n",
       "      <td>-0.032356</td>\n",
       "      <td>-0.002592</td>\n",
       "      <td>0.002861</td>\n",
       "      <td>-0.025930</td>\n",
       "    </tr>\n",
       "    <tr>\n",
       "      <th>3</th>\n",
       "      <td>-0.089063</td>\n",
       "      <td>-0.044642</td>\n",
       "      <td>-0.011595</td>\n",
       "      <td>-0.036656</td>\n",
       "      <td>0.012191</td>\n",
       "      <td>0.024991</td>\n",
       "      <td>-0.036038</td>\n",
       "      <td>0.034309</td>\n",
       "      <td>0.022688</td>\n",
       "      <td>-0.009362</td>\n",
       "    </tr>\n",
       "    <tr>\n",
       "      <th>4</th>\n",
       "      <td>0.005383</td>\n",
       "      <td>-0.044642</td>\n",
       "      <td>-0.036385</td>\n",
       "      <td>0.021872</td>\n",
       "      <td>0.003935</td>\n",
       "      <td>0.015596</td>\n",
       "      <td>0.008142</td>\n",
       "      <td>-0.002592</td>\n",
       "      <td>-0.031988</td>\n",
       "      <td>-0.046641</td>\n",
       "    </tr>\n",
       "  </tbody>\n",
       "</table>\n",
       "</div>"
      ],
      "text/plain": [
       "        age       sex       bmi        bp        s1        s2        s3  \\\n",
       "0  0.038076  0.050680  0.061696  0.021872 -0.044223 -0.034821 -0.043401   \n",
       "1 -0.001882 -0.044642 -0.051474 -0.026328 -0.008449 -0.019163  0.074412   \n",
       "2  0.085299  0.050680  0.044451 -0.005670 -0.045599 -0.034194 -0.032356   \n",
       "3 -0.089063 -0.044642 -0.011595 -0.036656  0.012191  0.024991 -0.036038   \n",
       "4  0.005383 -0.044642 -0.036385  0.021872  0.003935  0.015596  0.008142   \n",
       "\n",
       "         s4        s5        s6  \n",
       "0 -0.002592  0.019907 -0.017646  \n",
       "1 -0.039493 -0.068332 -0.092204  \n",
       "2 -0.002592  0.002861 -0.025930  \n",
       "3  0.034309  0.022688 -0.009362  \n",
       "4 -0.002592 -0.031988 -0.046641  "
      ]
     },
     "execution_count": 3,
     "metadata": {},
     "output_type": "execute_result"
    }
   ],
   "source": [
    "df = pd.DataFrame(diabetes['data'], columns = diabetes['feature_names'])\n",
    "df.head()"
   ]
  },
  {
   "cell_type": "code",
   "execution_count": 4,
   "id": "226c9dae",
   "metadata": {},
   "outputs": [
    {
     "data": {
      "text/plain": [
       "array([1.e-03, 1.e-02, 1.e-01, 1.e+00, 1.e+01])"
      ]
     },
     "execution_count": 4,
     "metadata": {},
     "output_type": "execute_result"
    }
   ],
   "source": [
    "alpha = np.logspace(-3, 1, 5)\n",
    "alpha"
   ]
  },
  {
   "cell_type": "code",
   "execution_count": null,
   "id": "36f0a09e",
   "metadata": {},
   "outputs": [],
   "source": [
    "# alpha 값에 따라 회귀계수가 어떻게 변화하는가?\n",
    "# 반복 실행할때 마다 회귀계수를 추가해주는 빈 리스트 \n",
    "data = []\n",
    "\n",
    "for a in alpha:\n",
    "    # print(a)\n",
    "    # Ridge class 생성 시 alpha 매개변수에 a를 대입\n",
    "    ridge = Ridge(alpha=a)\n",
    "    # 모델 학습 \n",
    "    ridge.fit(df.values, diabetes['target'])\n",
    "    # 학습 된 모델에서 회귀계수를 출력하여 data에 추가 \n",
    "    data.append(\n",
    "        ridge.coef_\n",
    "    )\n",
    "data"
   ]
  },
  {
   "cell_type": "code",
   "execution_count": 10,
   "id": "79569f34",
   "metadata": {},
   "outputs": [],
   "source": [
    "df_ridge =  pd.DataFrame(data, index = alpha, columns = df.columns)"
   ]
  },
  {
   "cell_type": "code",
   "execution_count": null,
   "id": "f5a75752",
   "metadata": {},
   "outputs": [],
   "source": []
  }
 ],
 "metadata": {
  "kernelspec": {
   "display_name": "Python 3",
   "language": "python",
   "name": "python3"
  },
  "language_info": {
   "codemirror_mode": {
    "name": "ipython",
    "version": 3
   },
   "file_extension": ".py",
   "mimetype": "text/x-python",
   "name": "python",
   "nbconvert_exporter": "python",
   "pygments_lexer": "ipython3",
   "version": "3.11.9"
  }
 },
 "nbformat": 4,
 "nbformat_minor": 5
}
