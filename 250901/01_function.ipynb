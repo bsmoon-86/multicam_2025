{
 "cells": [
  {
   "cell_type": "code",
   "execution_count": 1,
   "id": "b699114a",
   "metadata": {},
   "outputs": [
    {
     "name": "stdout",
     "output_type": "stream",
     "text": [
      "[1, 4, 9, 16, 25]\n"
     ]
    }
   ],
   "source": [
    "# map() -> 1차원 데이터를 각각 원소별 변환 필요할 때 사용\n",
    "# map( 함수 , 1차원 데이터 )\n",
    "\n",
    "list_a = [1,2,3,4,5]\n",
    "# list_a에서 각각의 원소들에 제곱을 한 새로운 리스트 생성해보자 \n",
    "# case1 \n",
    "# for문\n",
    "new_list = []\n",
    "for i in list_a :\n",
    "    # i는? -> list_a의 원소의 값 (1, 2, 3, 4, 5)\n",
    "    new_list.append(i ** 2)\n",
    "# for i in range(len(list_a)):    \n",
    "#     # i는? -> list_a의 위치 값  (0, 1, 2, 3, 4)\n",
    "#     new_list.append(\n",
    "#         list_a[i] ** 2\n",
    "#     )\n",
    "print(new_list)"
   ]
  },
  {
   "cell_type": "code",
   "execution_count": 4,
   "id": "a77b7b4a",
   "metadata": {},
   "outputs": [
    {
     "name": "stdout",
     "output_type": "stream",
     "text": [
      "False True True True\n"
     ]
    }
   ],
   "source": [
    "# case2 \n",
    "# while문\n",
    "# while 조건식 : \n",
    "# 조건식이 들어가는 부분은 bool 형태\n",
    "# bool형태가 아닌 데이터가 들어오면 강제로 bool형태로 변환 \n",
    "print(\n",
    "    bool(0), \n",
    "    bool(1), \n",
    "    bool(10), \n",
    "    bool(-3)\n",
    ")"
   ]
  },
  {
   "cell_type": "code",
   "execution_count": 5,
   "id": "f8555cc8",
   "metadata": {},
   "outputs": [
    {
     "name": "stdout",
     "output_type": "stream",
     "text": [
      "False True True\n"
     ]
    }
   ],
   "source": [
    "print(\n",
    "    bool( \"\" ), \n",
    "    bool( \" \" ), \n",
    "    bool( \"asd\" )\n",
    ")"
   ]
  },
  {
   "cell_type": "code",
   "execution_count": 6,
   "id": "0d880908",
   "metadata": {},
   "outputs": [
    {
     "name": "stdout",
     "output_type": "stream",
     "text": [
      "False True\n"
     ]
    }
   ],
   "source": [
    "print(\n",
    "    bool( [] ), \n",
    "    bool( [1] )\n",
    ")"
   ]
  },
  {
   "cell_type": "code",
   "execution_count": null,
   "id": "e67b1f5c",
   "metadata": {},
   "outputs": [
    {
     "data": {
      "text/plain": [
       "[1, 4, 9, 16, 25]"
      ]
     },
     "execution_count": 10,
     "metadata": {},
     "output_type": "execute_result"
    }
   ],
   "source": [
    "# while 조건식 \n",
    "# 조건식은? -> 초기값을 지정하고 초기값이 list_a의 길이보다 작을때까지\n",
    "# 조건식은? -> 무한 ->  초기값이 list_a의 길이보다 같을때 반복문 강제 종료\n",
    "#                 -> 에러가 발생한다면 반복문을 강제 종료\n",
    "\n",
    "# 초기값을 지정 \n",
    "i = 0\n",
    "# 빈 리스트 생성 \n",
    "new_list = []\n",
    "\n",
    "# while i < len(list_a):\n",
    "#     # i는 ? list_a의 위치 값 \n",
    "#     new_list.append(\n",
    "#         list_a[i] ** 2\n",
    "#     )\n",
    "#     # i를 1씩 증가 \n",
    "#     i += 1\n",
    "\n",
    "while True:\n",
    "    new_list.append(\n",
    "        list_a[i] ** 2\n",
    "    )\n",
    "    i += 1\n",
    "    if i >= len(list_a):\n",
    "        break\n",
    "\n",
    "new_list"
   ]
  },
  {
   "cell_type": "code",
   "execution_count": 11,
   "id": "f87649b4",
   "metadata": {},
   "outputs": [
    {
     "data": {
      "text/plain": [
       "[1, 4, 9, 16, 25]"
      ]
     },
     "execution_count": 11,
     "metadata": {},
     "output_type": "execute_result"
    }
   ],
   "source": [
    "new_list = []\n",
    "i = 0\n",
    "\n",
    "while True:\n",
    "    # 예외처리 \n",
    "    try : \n",
    "        new_list.append(\n",
    "            list_a[i] ** 2\n",
    "        )\n",
    "        i += 1\n",
    "    except:\n",
    "        # try 문 안에서 실행되는 코드가 에러가 발생한다면 반복문을 종료\n",
    "        break\n",
    "new_list"
   ]
  },
  {
   "cell_type": "code",
   "execution_count": 13,
   "id": "0460eb99",
   "metadata": {},
   "outputs": [
    {
     "data": {
      "text/plain": [
       "[1, 4, 9, 16, 25]"
      ]
     },
     "execution_count": 13,
     "metadata": {},
     "output_type": "execute_result"
    }
   ],
   "source": [
    "# map() 함수를 이용\n",
    "# map() + 일반 함수\n",
    "def func_1(x):\n",
    "    result = x ** 2\n",
    "    return result\n",
    "# map() -> list_a의 데이터들은 각각 func_1 함수에 대입하여 새로운 결과를 완성 \n",
    "list(\n",
    "    map(\n",
    "        func_1, \n",
    "        list_a\n",
    "    )\n",
    ")"
   ]
  },
  {
   "cell_type": "code",
   "execution_count": 14,
   "id": "4b3d4c23",
   "metadata": {},
   "outputs": [
    {
     "data": {
      "text/plain": [
       "[1, 4, 9, 16, 25]"
      ]
     },
     "execution_count": 14,
     "metadata": {},
     "output_type": "execute_result"
    }
   ],
   "source": [
    "# lambda 함수 + map()\n",
    "# lambda 매개변수: 매개변수 변환하는 코드 ( return 필요x )\n",
    "\n",
    "list(\n",
    "    map(\n",
    "        lambda x : x ** 2, \n",
    "        list_a\n",
    "    )\n",
    ")"
   ]
  },
  {
   "cell_type": "code",
   "execution_count": 16,
   "id": "692b5856",
   "metadata": {},
   "outputs": [
    {
     "data": {
      "text/plain": [
       "[6, 6, 6, 6, 6]"
      ]
     },
     "execution_count": 16,
     "metadata": {},
     "output_type": "execute_result"
    }
   ],
   "source": [
    "# map() 함수에는 첫번째 인자는 함수로 고정 \n",
    "# 두번째 인자부터는 1차원 데이터의 가변 의 매개변수\n",
    "list(\n",
    "    map(\n",
    "        lambda x, y : x + y, \n",
    "        [1,2,3,4,5], \n",
    "        [5,4,3,2,1]\n",
    "    )\n",
    ")"
   ]
  },
  {
   "cell_type": "code",
   "execution_count": 17,
   "id": "c4ac0393",
   "metadata": {},
   "outputs": [
    {
     "data": {
      "text/plain": [
       "[6, 6, 6, 6, 6]"
      ]
     },
     "execution_count": 17,
     "metadata": {},
     "output_type": "execute_result"
    }
   ],
   "source": [
    "# 위의 map 함수가 하는 기능을 반복문으로 작성한다면?\n",
    "list_1 = [1,2,3,4,5]\n",
    "list_2 = [5,4,3,2,1]\n",
    "new_list = []\n",
    "for i in range(len(list_1)):\n",
    "    new_list.append(\n",
    "        list_1[i] + list_2[i]\n",
    "    )\n",
    "new_list"
   ]
  },
  {
   "cell_type": "code",
   "execution_count": 18,
   "id": "0caa08b7",
   "metadata": {},
   "outputs": [
    {
     "data": {
      "text/plain": [
       "[6, 6, 6, 6, 6]"
      ]
     },
     "execution_count": 18,
     "metadata": {},
     "output_type": "execute_result"
    }
   ],
   "source": [
    "new_list = []\n",
    "for x, y in zip( list_1, list_2 ):\n",
    "    new_list.append(x + y)\n",
    "new_list"
   ]
  },
  {
   "cell_type": "code",
   "execution_count": null,
   "id": "b37841d8",
   "metadata": {},
   "outputs": [],
   "source": []
  }
 ],
 "metadata": {
  "kernelspec": {
   "display_name": "Python 3",
   "language": "python",
   "name": "python3"
  },
  "language_info": {
   "codemirror_mode": {
    "name": "ipython",
    "version": 3
   },
   "file_extension": ".py",
   "mimetype": "text/x-python",
   "name": "python",
   "nbconvert_exporter": "python",
   "pygments_lexer": "ipython3",
   "version": "3.11.9"
  }
 },
 "nbformat": 4,
 "nbformat_minor": 5
}
