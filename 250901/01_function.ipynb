{
 "cells": [
  {
   "cell_type": "code",
   "execution_count": null,
   "id": "b699114a",
   "metadata": {},
   "outputs": [],
   "source": [
    "# map() -> 1차원 데이터를 각각 원소별 변환 필요할 때 사용\n",
    "# map( 함수 , 1차원 데이터 )\n",
    "\n",
    "list_a = [1,2,3,4,5]\n",
    "# list_a에서 각각의 원소들에 제곱을 한 새로운 리스트 생성해보자 \n",
    "# case1 \n",
    "# for문\n",
    "new_list = []\n",
    "for i in list_a :\n",
    "    # i는? -> list_a의 원소의 값 (1, 2, 3, 4, 5)\n",
    "    new_list.append(i ** 2)\n",
    "# for i in range(len(list_a)):    \n",
    "#     # i는? -> list_a의 위치 값  (0, 1, 2, 3, 4)\n",
    "#     new_list.append(\n",
    "#         list_a[i] ** 2\n",
    "#     )\n",
    "print(new_list)"
   ]
  },
  {
   "cell_type": "code",
   "execution_count": null,
   "id": "a77b7b4a",
   "metadata": {},
   "outputs": [],
   "source": [
    "# case2 \n",
    "# while문\n",
    "# while 조건식 : \n",
    "# 조건식이 들어가는 부분은 bool 형태\n",
    "# bool형태가 아닌 데이터가 들어오면 강제로 bool형태로 변환 \n",
    "print(\n",
    "    bool(0), \n",
    "    bool(1), \n",
    "    bool(10), \n",
    "    bool(-3)\n",
    ")"
   ]
  },
  {
   "cell_type": "code",
   "execution_count": null,
   "id": "f8555cc8",
   "metadata": {},
   "outputs": [],
   "source": [
    "print(\n",
    "    bool( \"\" ), \n",
    "    bool( \" \" ), \n",
    "    bool( \"asd\" )\n",
    ")"
   ]
  },
  {
   "cell_type": "code",
   "execution_count": null,
   "id": "0d880908",
   "metadata": {},
   "outputs": [],
   "source": [
    "print(\n",
    "    bool( [] ), \n",
    "    bool( [1] )\n",
    ")"
   ]
  },
  {
   "cell_type": "code",
   "execution_count": null,
   "id": "e67b1f5c",
   "metadata": {},
   "outputs": [],
   "source": [
    "# while 조건식 \n",
    "# 조건식은? -> 초기값을 지정하고 초기값이 list_a의 길이보다 작을때까지\n",
    "# 조건식은? -> 무한 ->  초기값이 list_a의 길이보다 같을때 반복문 강제 종료\n",
    "#                 -> 에러가 발생한다면 반복문을 강제 종료\n",
    "\n",
    "# 초기값을 지정 \n",
    "i = 0\n",
    "# 빈 리스트 생성 \n",
    "new_list = []\n",
    "\n",
    "# while i < len(list_a):\n",
    "#     # i는 ? list_a의 위치 값 \n",
    "#     new_list.append(\n",
    "#         list_a[i] ** 2\n",
    "#     )\n",
    "#     # i를 1씩 증가 \n",
    "#     i += 1\n",
    "\n",
    "while True:\n",
    "    new_list.append(\n",
    "        list_a[i] ** 2\n",
    "    )\n",
    "    i += 1\n",
    "    if i >= len(list_a):\n",
    "        break\n",
    "\n",
    "new_list"
   ]
  },
  {
   "cell_type": "code",
   "execution_count": null,
   "id": "f87649b4",
   "metadata": {},
   "outputs": [],
   "source": [
    "new_list = []\n",
    "i = 0\n",
    "\n",
    "while True:\n",
    "    # 예외처리 \n",
    "    try : \n",
    "        new_list.append(\n",
    "            list_a[i] ** 2\n",
    "        )\n",
    "        i += 1\n",
    "    except:\n",
    "        # try 문 안에서 실행되는 코드가 에러가 발생한다면 반복문을 종료\n",
    "        break\n",
    "new_list"
   ]
  },
  {
   "cell_type": "code",
   "execution_count": null,
   "id": "0460eb99",
   "metadata": {},
   "outputs": [],
   "source": [
    "# map() 함수를 이용\n",
    "# map() + 일반 함수\n",
    "def func_1(x):\n",
    "    result = x ** 2\n",
    "    return result\n",
    "# map() -> list_a의 데이터들은 각각 func_1 함수에 대입하여 새로운 결과를 완성 \n",
    "list(\n",
    "    map(\n",
    "        func_1, \n",
    "        list_a\n",
    "    )\n",
    ")"
   ]
  },
  {
   "cell_type": "code",
   "execution_count": null,
   "id": "4b3d4c23",
   "metadata": {},
   "outputs": [],
   "source": [
    "# lambda 함수 + map()\n",
    "# lambda 매개변수: 매개변수 변환하는 코드 ( return 필요x )\n",
    "\n",
    "list(\n",
    "    map(\n",
    "        lambda x : x ** 2, \n",
    "        list_a\n",
    "    )\n",
    ")"
   ]
  },
  {
   "cell_type": "code",
   "execution_count": null,
   "id": "692b5856",
   "metadata": {},
   "outputs": [],
   "source": [
    "# map() 함수에는 첫번째 인자는 함수로 고정 \n",
    "# 두번째 인자부터는 1차원 데이터의 가변 의 매개변수\n",
    "list(\n",
    "    map(\n",
    "        lambda x, y : x + y, \n",
    "        [1,2,3,4,5], \n",
    "        [5,4,3,2,1]\n",
    "    )\n",
    ")"
   ]
  },
  {
   "cell_type": "code",
   "execution_count": null,
   "id": "c4ac0393",
   "metadata": {},
   "outputs": [],
   "source": [
    "# 위의 map 함수가 하는 기능을 반복문으로 작성한다면?\n",
    "list_1 = [1,2,3,4,5]\n",
    "list_2 = [5,4,3,2,1]\n",
    "new_list = []\n",
    "for i in range(len(list_1)):\n",
    "    new_list.append(\n",
    "        list_1[i] + list_2[i]\n",
    "    )\n",
    "new_list"
   ]
  },
  {
   "cell_type": "code",
   "execution_count": null,
   "id": "0caa08b7",
   "metadata": {},
   "outputs": [],
   "source": [
    "new_list = []\n",
    "for x, y in zip( list_1, list_2 ):\n",
    "    new_list.append(x + y)\n",
    "new_list"
   ]
  },
  {
   "cell_type": "code",
   "execution_count": null,
   "id": "b37841d8",
   "metadata": {},
   "outputs": [],
   "source": [
    "list(zip( list_1, list_2 ))"
   ]
  },
  {
   "cell_type": "code",
   "execution_count": null,
   "id": "84c6ff16",
   "metadata": {},
   "outputs": [],
   "source": [
    "# map(), zip() 함수를 확인하면 0x.... 과 같은 출력 생성 \n",
    "class A:\n",
    "    def __init__(self, _x):\n",
    "        self.x = _x"
   ]
  },
  {
   "cell_type": "code",
   "execution_count": null,
   "id": "582521cf",
   "metadata": {},
   "outputs": [],
   "source": [
    "class_a = A(10)"
   ]
  },
  {
   "cell_type": "code",
   "execution_count": null,
   "id": "f4532ffc",
   "metadata": {},
   "outputs": [],
   "source": [
    "# 일반적으로 생성된 클래스는 주소값 확인이 가능\n",
    "class_a"
   ]
  },
  {
   "cell_type": "code",
   "execution_count": null,
   "id": "98ab3e62",
   "metadata": {},
   "outputs": [],
   "source": [
    "class B:\n",
    "    def __init__(self, _x):\n",
    "        self.x = _x\n",
    "    def __repr__(self):\n",
    "        return str(self.x)"
   ]
  },
  {
   "cell_type": "code",
   "execution_count": null,
   "id": "05ac5971",
   "metadata": {},
   "outputs": [],
   "source": [
    "class_b = B(20)"
   ]
  },
  {
   "cell_type": "code",
   "execution_count": null,
   "id": "01580d04",
   "metadata": {},
   "outputs": [],
   "source": [
    "class_b"
   ]
  },
  {
   "cell_type": "markdown",
   "id": "f309f755",
   "metadata": {},
   "source": [
    "#### 연습 \n",
    "- 함수(func_2) 생성 \n",
    "    - 매개변수 1개 -> n (기본값이 존재x)\n",
    "    - n 팩터리얼의 값을 되돌려주는 함수를 생성"
   ]
  },
  {
   "cell_type": "code",
   "execution_count": null,
   "id": "587cfb55",
   "metadata": {},
   "outputs": [],
   "source": [
    "# 함수 생성 -> 매개변수, 함수의 결과에 대한 힌트를 포함 \n",
    "def func_2( n : int ) -> int :\n",
    "    # 1부터 시작해서 자기 자신까지 1씩 증가시키면서 누적 곱\n",
    "    result = 1\n",
    "    for i in range( 2, n+1, 1 ):\n",
    "        result *= i\n",
    "    return result"
   ]
  },
  {
   "cell_type": "code",
   "execution_count": null,
   "id": "b53e77b9",
   "metadata": {},
   "outputs": [],
   "source": [
    "func_2(5)"
   ]
  },
  {
   "cell_type": "code",
   "execution_count": null,
   "id": "e7159a91",
   "metadata": {},
   "outputs": [],
   "source": [
    "def func_3(n : int) ->int :\n",
    "    result = n\n",
    "    for i in range(n-1, 1, -1):\n",
    "        result *= i\n",
    "    return result"
   ]
  },
  {
   "cell_type": "code",
   "execution_count": null,
   "id": "503e36ba",
   "metadata": {},
   "outputs": [],
   "source": [
    "func_3(6)"
   ]
  },
  {
   "cell_type": "markdown",
   "id": "6e508837",
   "metadata": {},
   "source": [
    "### 재귀 함수\n",
    "- 어떤 이벤트에서 자기 자신을 포함하고 다시 자기 자신을 사용하여 정의되는 것을 의미\n",
    "- 재귀를 효과적으로 사용하면 프로그램을 간결하고 효율성이 좋게 작성이 가능"
   ]
  },
  {
   "cell_type": "code",
   "execution_count": null,
   "id": "a36bc282",
   "metadata": {},
   "outputs": [],
   "source": [
    "def func_4(n : int) -> int:\n",
    "    if n > 0:\n",
    "        return n * func_4(n - 1)\n",
    "    else:\n",
    "        return 1"
   ]
  },
  {
   "cell_type": "code",
   "execution_count": null,
   "id": "6521e83b",
   "metadata": {},
   "outputs": [],
   "source": [
    "func_4(5)"
   ]
  },
  {
   "cell_type": "code",
   "execution_count": null,
   "id": "1b86961c",
   "metadata": {},
   "outputs": [],
   "source": [
    "# list에 내장된 reverse() 함수를 생성\n",
    "def list_reverse(_x):\n",
    "    # 가장 마지막의 데이터를 추출하여 새로운 리스트의 추가 \n",
    "    result = []\n",
    "\n",
    "    for i in range(1, len(_x) + 1):\n",
    "        result.append(\n",
    "            _x[-i]\n",
    "        )\n",
    "    return result\n"
   ]
  },
  {
   "cell_type": "code",
   "execution_count": null,
   "id": "bd8ff6ff",
   "metadata": {},
   "outputs": [],
   "source": [
    "test_list = [1,2,3,4,5]"
   ]
  },
  {
   "cell_type": "code",
   "execution_count": null,
   "id": "43adab06",
   "metadata": {},
   "outputs": [],
   "source": [
    "list_reverse(test_list)"
   ]
  },
  {
   "cell_type": "code",
   "execution_count": null,
   "id": "aa15517e",
   "metadata": {},
   "outputs": [],
   "source": [
    "def list_reverse2(_x):\n",
    "    # _x의 복사본 생성 \n",
    "    result = _x.copy()\n",
    "    for i in range(len(result)//2):\n",
    "        result[i], result[-1-i] = result[-1-i], result[i]\n",
    "    return result"
   ]
  },
  {
   "cell_type": "code",
   "execution_count": null,
   "id": "174a52b3",
   "metadata": {},
   "outputs": [],
   "source": [
    "list_reverse2(test_list)"
   ]
  },
  {
   "cell_type": "code",
   "execution_count": null,
   "id": "c149088b",
   "metadata": {},
   "outputs": [],
   "source": [
    "test_list"
   ]
  },
  {
   "cell_type": "markdown",
   "id": "15a9a93a",
   "metadata": {},
   "source": [
    "#### 연습 \n",
    "- find() 함수를 생성해보자 \n",
    "    - 함수의 이름은 c_find()\n",
    "    - 매개변수 2개 ( _data, _word )\n",
    "    - _data에서 _word의 위치를 출력하는 기능 \n",
    "    - 찾는 _word가 여러개라면 여러개를 동시에 출력 \n",
    "    - 찾는 _word가 존재하지 않는다면 () 출력"
   ]
  },
  {
   "cell_type": "code",
   "execution_count": 74,
   "id": "ddfcb380",
   "metadata": {},
   "outputs": [],
   "source": [
    "# find(), index() 함수를 모른다는 기준으로 함수 구성\n",
    "def c_find( _data, _word ):\n",
    "    # index들이 저장될 공간을 설정 \n",
    "    result = []\n",
    "    result2 = ()\n",
    "    for i in range(len(_data)):\n",
    "        # _data가 문자인가? -> 변수의 타입이 무엇인가\n",
    "        if type(_data) == str :\n",
    "            flag = _data[i : i + len(_word)] == _word\n",
    "        else:\n",
    "            flag = _data[i] == _word\n",
    "            \n",
    "        if flag:\n",
    "            # list 데이터에서 데이터를 추가할때\n",
    "            result.append(i)\n",
    "            # result2는 tuple에 데이터를 추가????\n",
    "            # tuple + tuple은 새로운 tuple 생성\n",
    "            # result2 += tuple([i])\n",
    "            result2 += (i,)\n",
    "    return result, result2"
   ]
  },
  {
   "cell_type": "code",
   "execution_count": 75,
   "id": "36c79db5",
   "metadata": {},
   "outputs": [
    {
     "data": {
      "text/plain": [
       "([1], (1,))"
      ]
     },
     "execution_count": 75,
     "metadata": {},
     "output_type": "execute_result"
    }
   ],
   "source": [
    "c_find('apple', 'pp')"
   ]
  },
  {
   "cell_type": "code",
   "execution_count": 76,
   "id": "286b3089",
   "metadata": {},
   "outputs": [
    {
     "data": {
      "text/plain": [
       "([0, 4], (0, 4))"
      ]
     },
     "execution_count": 76,
     "metadata": {},
     "output_type": "execute_result"
    }
   ],
   "source": [
    "c_find(\n",
    "    ['a', 'b', 'c', 'd', 'a'], \n",
    "    'a'\n",
    ")"
   ]
  },
  {
   "cell_type": "code",
   "execution_count": 77,
   "id": "36315d89",
   "metadata": {},
   "outputs": [
    {
     "data": {
      "text/plain": [
       "([], ())"
      ]
     },
     "execution_count": 77,
     "metadata": {},
     "output_type": "execute_result"
    }
   ],
   "source": [
    "c_find('apple', 'b')"
   ]
  },
  {
   "cell_type": "code",
   "execution_count": 71,
   "id": "c241ed4e",
   "metadata": {},
   "outputs": [
    {
     "data": {
      "text/plain": [
       "'e'"
      ]
     },
     "execution_count": 71,
     "metadata": {},
     "output_type": "execute_result"
    }
   ],
   "source": [
    "'apple'[4:6]"
   ]
  },
  {
   "cell_type": "code",
   "execution_count": 81,
   "id": "d2411fa7",
   "metadata": {},
   "outputs": [
    {
     "data": {
      "text/plain": [
       "1"
      ]
     },
     "execution_count": 81,
     "metadata": {},
     "output_type": "execute_result"
    }
   ],
   "source": [
    "'apple'.find('p')"
   ]
  },
  {
   "cell_type": "markdown",
   "id": "2a2ece38",
   "metadata": {},
   "source": [
    "#### 연습 \n",
    "- 소수를 구하는 함수를 생성하시오\n",
    "    - 매개변수 : 2개 ( _start (기본값 2), _end (기본값 100))\n",
    "    - 소수란?\n",
    "        - 1과 자기 자신을 이외에는 나누어 떨어지지 않는 수를 의미\n",
    "            - 조건 : 2부터 시작해서 (자기 자신 - 1) 까지 어떤 정수로도 나누어 떨어지지 않는다. \n",
    "    - _start부터 _end까지의 수를 반복하여 소수인 데이터를 비어있는 리스트에 추가한다 \n",
    "    - 소수의 리스트와 반복 횟수를 되돌려준다. \n"
   ]
  },
  {
   "cell_type": "code",
   "execution_count": null,
   "id": "84395e4f",
   "metadata": {},
   "outputs": [],
   "source": [
    "# 함수 생성 매개변수(_start, _end) 2개 기본값 설정 \n",
    "# 개선 : 소수는 2를 제외한 짝수는 포함 x\n",
    "def prime_list( _start = 2 , _end = 100):\n",
    "    # 반복횟수를 1씩 증가하기 위한 초기 값 0 설정\n",
    "    cnt = 0 \n",
    "    # 소수가 들어갈 비어있는 리스트를 생성 \n",
    "    # _start가 2라면 result는 -> [2]\n",
    "    if _start == 2:\n",
    "        result = [2]\n",
    "    else:\n",
    "        result = []\n",
    "    # 반복문을 이용하여 _start부터 _end + 1까지 반복\n",
    "    # 짝수는 2를 제외한 나머지는 소수가 될수 없으므로 홀수만 반복 실행\n",
    "    # _start가 짝수라면 _start + 1\n",
    "    if _start % 2 == 0:\n",
    "        _start += 1\n",
    "    for n in range(_start, _end + 1, 2):\n",
    "        # flag = 1\n",
    "        # 2부터 자기 자신의 - 1 까지 반복을 하는 반복문 생성\n",
    "        for i in range(2, n):\n",
    "            # 반복횟수를 1씩 증가\n",
    "            cnt += 1\n",
    "            # 나눠서 나머지가 0인가 체크 (조건문)\n",
    "            if n % i == 0:\n",
    "                # 참이라면 반복문을 종료\n",
    "                # flag = 0\n",
    "                break\n",
    "        # 조건문이 거짓이라면\n",
    "        else:\n",
    "        # if flag:\n",
    "            # 소수 리스트에 추가 \n",
    "            result.append(n)\n",
    "    # 소수의 리스트와 반복횟수를 되돌려준다. \n",
    "    return cnt, result"
   ]
  },
  {
   "cell_type": "code",
   "execution_count": 92,
   "id": "141f39e4",
   "metadata": {},
   "outputs": [
    {
     "data": {
      "text/plain": [
       "(1084,\n",
       " [2,\n",
       "  3,\n",
       "  5,\n",
       "  7,\n",
       "  11,\n",
       "  13,\n",
       "  17,\n",
       "  19,\n",
       "  23,\n",
       "  29,\n",
       "  31,\n",
       "  37,\n",
       "  41,\n",
       "  43,\n",
       "  47,\n",
       "  53,\n",
       "  59,\n",
       "  61,\n",
       "  67,\n",
       "  71,\n",
       "  73,\n",
       "  79,\n",
       "  83,\n",
       "  89,\n",
       "  97])"
      ]
     },
     "execution_count": 92,
     "metadata": {},
     "output_type": "execute_result"
    }
   ],
   "source": [
    "prime_list()"
   ]
  },
  {
   "cell_type": "code",
   "execution_count": 93,
   "id": "fc01ca42",
   "metadata": {},
   "outputs": [
    {
     "name": "stdout",
     "output_type": "stream",
     "text": [
      "362\n",
      "[2, 3, 5, 7, 11, 13, 17, 19, 23, 29, 31, 37, 41, 43, 47, 53, 59, 61, 67, 71, 73, 79, 83, 89, 97]\n"
     ]
    }
   ],
   "source": [
    "#  개선 \n",
    "# 홀수를 기준으로 반복 -> 이미 찾은 소수로 나눠서 나머지가 0이라면 소수x\n",
    "cnt = 0\n",
    "result =  [2]\n",
    "\n",
    "for n in range(3, 101, 2):\n",
    "    # 이미 찾은 소수의 데이터로 반복하여 나눠준다.\n",
    "    # for i in range(2, n): \n",
    "    for i in result :\n",
    "        cnt += 1\n",
    "        if n % i == 0 :\n",
    "            break\n",
    "    else:\n",
    "        result.append(n)\n",
    "\n",
    "print(cnt)\n",
    "print(result)"
   ]
  }
 ],
 "metadata": {
  "kernelspec": {
   "display_name": "Python 3",
   "language": "python",
   "name": "python3"
  },
  "language_info": {
   "codemirror_mode": {
    "name": "ipython",
    "version": 3
   },
   "file_extension": ".py",
   "mimetype": "text/x-python",
   "name": "python",
   "nbconvert_exporter": "python",
   "pygments_lexer": "ipython3",
   "version": "3.11.9"
  }
 },
 "nbformat": 4,
 "nbformat_minor": 5
}
