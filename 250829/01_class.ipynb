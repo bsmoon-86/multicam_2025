{
 "cells": [
  {
   "cell_type": "markdown",
   "id": "b614c687",
   "metadata": {},
   "source": [
    "### 은행 계좌 class 생성 \n",
    "- 클래스 변수 생성 (동일한 class를 생성하였을때 서로 공유하는 변수)\n",
    "    - total_cost = 0\n",
    "    - user_cnt = 0\n",
    "- 생성자 함수 (class 간 독립적인 변수 생성)\n",
    "    - 유저의 이름 : name (str)\n",
    "    - 유저의 생년월일 : birth (str)\n",
    "    - 계좌의 잔액 : cost (int)\n",
    "    - 계좌의 기록 : log ( list )\n",
    "    - 유저의 숫자(user_cnt)를 1 증가\n",
    "- 함수 생성\n",
    "    - 입/출금 함수 \n",
    "        - 매개변수 \n",
    "            - 입금과 출금을 확인하는 변수(_type) : 0이면 입금, 1이면 출금\n",
    "            - 금액(_cost)\n",
    "        - _type이 0이라면 계좌의 잔액(독립적인 변수)을 증가 시킨다. 은행이 가지고있는 총액(클래스 변수)을 증가\n",
    "        - _type이 1이라면 계좌의 잔액을 감소 시킨다. 은행이 가지고 있는 총액을 감소\n",
    "            - _cost가 self.cost보다 작거나 같은 경우\n",
    "                - 계좌의 잔액이 감소, 은행의 총액 감소\n",
    "            - 위의 조건이 거짓이라면\n",
    "                - 계좌는 그대로 유지 \n",
    "                - '잔액 부족' 메시지 출력\n",
    "        - 입/출금 내역을 self.log에 추가(append())\n",
    "    - 계좌의 입/출금 내역을 보여주는 함수\n",
    "        - 매개변수 \n",
    "            - 입금 / 출금 / 전체 내역을 확인할수 있는 변수 (_mode)\n",
    "                - 기본값은 9\n",
    "                - 입금 내역은 0, 출금 내역은 1\n",
    "        - _mode에 따라서 self.log에 있는 데이터를 필터해서 되돌려준다. "
   ]
  },
  {
   "cell_type": "code",
   "execution_count": 18,
   "id": "208fded4",
   "metadata": {},
   "outputs": [],
   "source": [
    "# class 선언 \n",
    "class Bank:\n",
    "    # class 변수 선언\n",
    "    total_cost = 0 # 유저가 입금 시 증가 출금 시 감소\n",
    "    user_cnt = 0 # class 생성이 될때(유저가 계좌를 생성할때) 1씩 증가\n",
    "\n",
    "    # 생성자 함수(__init__) 선언\n",
    "    def __init__(self, _name, _birth):\n",
    "        # 독립적인 변수를 선언 \n",
    "        self.name = _name\n",
    "        self.birth = _birth\n",
    "        self.cost = 0\n",
    "        self.log = []\n",
    "        # 유저의 수(class변수)를 1 증가시킨다.\n",
    "        Bank.user_cnt += 1\n",
    "\n",
    "    # 입/출금 함수 선언\n",
    "    def change_cost(self, _type, _cost):\n",
    "        # _type이 0이라면 -> 입금\n",
    "        if _type == 0:\n",
    "            # self.cost에 _cost만큼 증가\n",
    "            # self.cost = self.cost + _cost \n",
    "            self.cost += _cost\n",
    "            # Bank.total_cost에 _cost만큼 증가\n",
    "            Bank.total_cost += _cost \n",
    "            # log를 추가 -> dict의 형태의 데이터를 추가 \n",
    "            dict_data = {\n",
    "                \"타입\" : \"입금\", \n",
    "                \"금액\" : _cost, \n",
    "                \"잔액\" : self.cost\n",
    "            }\n",
    "            # self.log에 dict_data를 추가 -> self.log는 2차원 데이터 생성\n",
    "            self.log.append(dict_data)\n",
    "            print(f\"입금완료 : 잔액은 {self.cost}입니다\")\n",
    "        elif _type == 1:\n",
    "            # 출금\n",
    "            # self.cost가 _cost보다 크거나 같은 경우 \n",
    "            if self.cost >= _cost:\n",
    "                # 출금이 가능\n",
    "                # self.cost를 _cost만큼 감소 \n",
    "                self.cost -= _cost\n",
    "                # Bank.total_cost를 _cost만큼 감소 \n",
    "                Bank.total_cost -= _cost\n",
    "                # dict_data 생성 -> self.log 추가 \n",
    "                dict_data = {\n",
    "                    \"타입\" : \"출금\", \n",
    "                    \"금액\" : _cost, \n",
    "                    \"잔액\" : self.cost\n",
    "                }\n",
    "                self.log.append(dict_data)\n",
    "                print(f\"출금 완료 : 잔액은 {self.cost}입니다\")\n",
    "            else:\n",
    "                print(\"현재 잔액이 부족합니다.\")\n",
    "\n",
    "    def view_log(self, _mode = 9):\n",
    "        # 입 출금 내역(self.log)을 출력 \n",
    "        # _mode가 9인 경우 : 전체 내역 출력 \n",
    "        if _mode == 9:\n",
    "            # self.log를 기준으로 반복문을 생성 \n",
    "            for log_data in self.log:\n",
    "                print(log_data) \n",
    "        # 입금 내역만 출력한다. _mode가 0이라면\n",
    "        elif _mode == 0:\n",
    "            for log_data in self.log:\n",
    "                # log_data의 타입 -> dict {\"타입\" : \"xx\", \"금액\" : xxxx, \"잔액\" : xxx}\n",
    "                # log_data에서 key가 '타입'인 value의 값이 '입금' 이라면\n",
    "                if log_data['타입'] == '입금':\n",
    "                    print(log_data)\n",
    "        elif _mode == 1:\n",
    "            for log_data in self.log:\n",
    "                if log_data['타입'] == '출금':\n",
    "                    print(log_data)\n"
   ]
  },
  {
   "cell_type": "code",
   "execution_count": 19,
   "id": "993eb424",
   "metadata": {},
   "outputs": [],
   "source": [
    "# class 생성 -> 은행의 계좌 생성\n",
    "user1 = Bank('kim', '900101')\n",
    "user2 = Bank('park', '001020')"
   ]
  },
  {
   "cell_type": "code",
   "execution_count": 20,
   "id": "45224d3e",
   "metadata": {},
   "outputs": [
    {
     "name": "stdout",
     "output_type": "stream",
     "text": [
      "2\n",
      "2\n"
     ]
    }
   ],
   "source": [
    "print(user1.user_cnt)\n",
    "print(user2.user_cnt)"
   ]
  },
  {
   "cell_type": "code",
   "execution_count": 21,
   "id": "fe50a358",
   "metadata": {},
   "outputs": [
    {
     "name": "stdout",
     "output_type": "stream",
     "text": [
      "입금완료 : 잔액은 10000입니다\n"
     ]
    }
   ],
   "source": [
    "# user1이 입금 함수를 호출 \n",
    "user1.change_cost(_cost = 10000, _type = 0)"
   ]
  },
  {
   "cell_type": "code",
   "execution_count": 22,
   "id": "c005777a",
   "metadata": {},
   "outputs": [
    {
     "name": "stdout",
     "output_type": "stream",
     "text": [
      "현재 잔액이 부족합니다.\n"
     ]
    }
   ],
   "source": [
    "# user2에서 출금 함수를 호출 -> user2의 잔액은 0 -> 출금하면 잔액부족 \n",
    "user2.change_cost(1, 10000)\n"
   ]
  },
  {
   "cell_type": "code",
   "execution_count": 23,
   "id": "54c6f010",
   "metadata": {},
   "outputs": [
    {
     "name": "stdout",
     "output_type": "stream",
     "text": [
      "10000\n",
      "10000\n",
      "10000\n",
      "0\n"
     ]
    }
   ],
   "source": [
    "print(user1.total_cost)\n",
    "print(user1.cost)\n",
    "print(user2.total_cost)\n",
    "print(user2.cost)"
   ]
  },
  {
   "cell_type": "code",
   "execution_count": 24,
   "id": "58970796",
   "metadata": {},
   "outputs": [
    {
     "name": "stdout",
     "output_type": "stream",
     "text": [
      "출금 완료 : 잔액은 0입니다\n"
     ]
    }
   ],
   "source": [
    "user1.change_cost(1, 10000)"
   ]
  },
  {
   "cell_type": "code",
   "execution_count": 25,
   "id": "8d3f77aa",
   "metadata": {},
   "outputs": [
    {
     "name": "stdout",
     "output_type": "stream",
     "text": [
      "{'타입': '입금', '금액': 10000, '잔액': 10000}\n",
      "{'타입': '출금', '금액': 10000, '잔액': 0}\n"
     ]
    }
   ],
   "source": [
    "# Bank class에 있는 view_log 함수 호출 \n",
    "user1.view_log()"
   ]
  },
  {
   "cell_type": "code",
   "execution_count": 26,
   "id": "9d4d3b18",
   "metadata": {},
   "outputs": [
    {
     "name": "stdout",
     "output_type": "stream",
     "text": [
      "{'타입': '입금', '금액': 10000, '잔액': 10000}\n"
     ]
    }
   ],
   "source": [
    "user1.view_log(_mode=0)"
   ]
  },
  {
   "cell_type": "code",
   "execution_count": 27,
   "id": "0ac0ccc6",
   "metadata": {},
   "outputs": [
    {
     "name": "stdout",
     "output_type": "stream",
     "text": [
      "{'타입': '출금', '금액': 10000, '잔액': 0}\n"
     ]
    }
   ],
   "source": [
    "user1.view_log(_mode=1)"
   ]
  },
  {
   "cell_type": "code",
   "execution_count": null,
   "id": "19a914b9",
   "metadata": {},
   "outputs": [],
   "source": []
  }
 ],
 "metadata": {
  "kernelspec": {
   "display_name": "Python 3",
   "language": "python",
   "name": "python3"
  },
  "language_info": {
   "codemirror_mode": {
    "name": "ipython",
    "version": 3
   },
   "file_extension": ".py",
   "mimetype": "text/x-python",
   "name": "python",
   "nbconvert_exporter": "python",
   "pygments_lexer": "ipython3",
   "version": "3.11.9"
  }
 },
 "nbformat": 4,
 "nbformat_minor": 5
}
