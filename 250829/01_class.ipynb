{
 "cells": [
  {
   "cell_type": "markdown",
   "id": "b614c687",
   "metadata": {},
   "source": [
    "### 은행 계좌 class 생성 \n",
    "- 클래스 변수 생성 (동일한 class를 생성하였을때 서로 공유하는 변수)\n",
    "    - total_cost = 0\n",
    "    - user_cnt = 0\n",
    "- 생성자 함수 (class 간 독립적인 변수 생성)\n",
    "    - 유저의 이름 : name (str)\n",
    "    - 유저의 생년월일 : birth (str)\n",
    "    - 계좌의 잔액 : cost (int)\n",
    "    - 계좌의 기록 : log ( list )\n",
    "    - 유저의 숫자(user_cnt)를 1 증가\n",
    "- 함수 생성\n",
    "    - 입/출금 함수 \n",
    "        - 매개변수 \n",
    "            - 입금과 출금을 확인하는 변수(_type) : 0이면 입금, 1이면 출금\n",
    "            - 금액(_cost)\n",
    "        - _type이 0이라면 계좌의 잔액(독립적인 변수)을 증가 시킨다. 은행이 가지고있는 총액(클래스 변수)을 증가\n",
    "        - _type이 1이라면 계좌의 잔액을 감소 시킨다. 은행이 가지고 있는 총액을 감소\n",
    "            - _cost가 self.cost보다 작거나 같은 경우\n",
    "                - 계좌의 잔액이 감소, 은행의 총액 감소\n",
    "            - 위의 조건이 거짓이라면\n",
    "                - 계좌는 그대로 유지 \n",
    "                - '잔액 부족' 메시지 출력\n",
    "        - 입/출금 내역을 self.log에 추가(append())\n",
    "    - 계좌의 입/출금 내역을 보여주는 함수\n",
    "        - 매개변수 \n",
    "            - 입금 / 출금 / 전체 내역을 확인할수 있는 변수 (_mode)\n",
    "                - 기본값은 9\n",
    "                - 입금 내역은 0, 출금 내역은 1\n",
    "        - _mode에 따라서 self.log에 있는 데이터를 필터해서 되돌려준다. "
   ]
  },
  {
   "cell_type": "code",
   "execution_count": 40,
   "id": "208fded4",
   "metadata": {},
   "outputs": [],
   "source": [
    "# class 선언 \n",
    "class Bank:\n",
    "    # class 변수 선언\n",
    "    total_cost = 0 # 유저가 입금 시 증가 출금 시 감소\n",
    "    user_cnt = 0 # class 생성이 될때(유저가 계좌를 생성할때) 1씩 증가\n",
    "\n",
    "    # 생성자 함수(__init__) 선언\n",
    "    def __init__(self, _name, _birth):\n",
    "        # 독립적인 변수를 선언 \n",
    "        self.name = _name\n",
    "        self.birth = _birth\n",
    "        self.cost = 0\n",
    "        self.log = []\n",
    "        # 유저의 수(class변수)를 1 증가시킨다.\n",
    "        Bank.user_cnt += 1\n",
    "\n",
    "    # 입/출금 함수 선언\n",
    "    def change_cost(self, _type, _cost):\n",
    "        # _type이 0이라면 -> 입금\n",
    "        if _type == 0:\n",
    "            # self.cost에 _cost만큼 증가\n",
    "            # self.cost = self.cost + _cost \n",
    "            self.cost += _cost\n",
    "            # Bank.total_cost에 _cost만큼 증가\n",
    "            Bank.total_cost += _cost \n",
    "            # log를 추가 -> dict의 형태의 데이터를 추가 \n",
    "            dict_data = {\n",
    "                \"타입\" : \"입금\", \n",
    "                \"금액\" : _cost, \n",
    "                \"잔액\" : self.cost\n",
    "            }\n",
    "            # self.log에 dict_data를 추가 -> self.log는 2차원 데이터 생성\n",
    "            self.log.append(dict_data)\n",
    "            print(f\"입금완료 : 잔액은 {self.cost}입니다\")\n",
    "        elif _type == 1:\n",
    "            # 출금\n",
    "            # self.cost가 _cost보다 크거나 같은 경우 \n",
    "            if self.cost >= _cost:\n",
    "                # 출금이 가능\n",
    "                # self.cost를 _cost만큼 감소 \n",
    "                self.cost -= _cost\n",
    "                # Bank.total_cost를 _cost만큼 감소 \n",
    "                Bank.total_cost -= _cost\n",
    "                # dict_data 생성 -> self.log 추가 \n",
    "                dict_data = {\n",
    "                    \"타입\" : \"출금\", \n",
    "                    \"금액\" : _cost, \n",
    "                    \"잔액\" : self.cost\n",
    "                }\n",
    "                self.log.append(dict_data)\n",
    "                print(f\"출금 완료 : 잔액은 {self.cost}입니다\")\n",
    "            else:\n",
    "                print(\"현재 잔액이 부족합니다.\")\n",
    "        else:\n",
    "            # _type에 데이터가 잘못 들어왔을때 \n",
    "            print('_type의 값이 잘못되었습니다.')\n",
    "\n",
    "    def view_log(self, _mode = 9):\n",
    "        # 입 출금 내역(self.log)을 출력 \n",
    "        # _mode가 9인 경우 : 전체 내역 출력 \n",
    "        if _mode == 9:\n",
    "            # self.log를 기준으로 반복문을 생성 \n",
    "            for log_data in self.log:\n",
    "                print(log_data) \n",
    "        # 입금 내역만 출력한다. _mode가 0이라면\n",
    "        elif _mode == 0:\n",
    "            for log_data in self.log:\n",
    "                # log_data의 타입 -> dict {\"타입\" : \"xx\", \"금액\" : xxxx, \"잔액\" : xxx}\n",
    "                # log_data에서 key가 '타입'인 value의 값이 '입금' 이라면\n",
    "                if log_data['타입'] == '입금':\n",
    "                    print(log_data)\n",
    "        elif _mode == 1:\n",
    "            for log_data in self.log:\n",
    "                if log_data['타입'] == '출금':\n",
    "                    print(log_data)\n",
    "        else:\n",
    "            print(\"_mode의 값이 잘못되었습니다.\")\n"
   ]
  },
  {
   "cell_type": "code",
   "execution_count": null,
   "id": "993eb424",
   "metadata": {},
   "outputs": [],
   "source": [
    "# class 생성 -> 은행의 계좌 생성\n",
    "user1 = Bank('kim', '900101')\n",
    "user2 = Bank('park', '001020')"
   ]
  },
  {
   "cell_type": "code",
   "execution_count": null,
   "id": "45224d3e",
   "metadata": {},
   "outputs": [],
   "source": [
    "print(user1.user_cnt)\n",
    "print(user2.user_cnt)"
   ]
  },
  {
   "cell_type": "code",
   "execution_count": null,
   "id": "fe50a358",
   "metadata": {},
   "outputs": [],
   "source": [
    "# user1이 입금 함수를 호출 \n",
    "user1.change_cost(_cost = 10000, _type = 0)"
   ]
  },
  {
   "cell_type": "code",
   "execution_count": null,
   "id": "c005777a",
   "metadata": {},
   "outputs": [],
   "source": [
    "# user2에서 출금 함수를 호출 -> user2의 잔액은 0 -> 출금하면 잔액부족 \n",
    "user2.change_cost(1, 10000)\n"
   ]
  },
  {
   "cell_type": "code",
   "execution_count": null,
   "id": "54c6f010",
   "metadata": {},
   "outputs": [],
   "source": [
    "print(user1.total_cost)\n",
    "print(user1.cost)\n",
    "print(user2.total_cost)\n",
    "print(user2.cost)"
   ]
  },
  {
   "cell_type": "code",
   "execution_count": null,
   "id": "58970796",
   "metadata": {},
   "outputs": [],
   "source": [
    "user1.change_cost(1, 10000)"
   ]
  },
  {
   "cell_type": "code",
   "execution_count": null,
   "id": "8d3f77aa",
   "metadata": {},
   "outputs": [],
   "source": [
    "# Bank class에 있는 view_log 함수 호출 \n",
    "user1.view_log()"
   ]
  },
  {
   "cell_type": "code",
   "execution_count": null,
   "id": "9d4d3b18",
   "metadata": {},
   "outputs": [],
   "source": [
    "user1.view_log(_mode=0)"
   ]
  },
  {
   "cell_type": "code",
   "execution_count": null,
   "id": "0ac0ccc6",
   "metadata": {},
   "outputs": [],
   "source": [
    "user1.view_log(_mode=1)"
   ]
  },
  {
   "cell_type": "markdown",
   "id": "337ff6f7",
   "metadata": {},
   "source": [
    "### class의 상속\n",
    "- 상속? -> 물려받다. \n",
    "    - class 간의 상속은 부모 클래스에 있는 기능(변수, 함수)을 자식 클래스에서 사용이 가능하게 만드는 기능\n",
    "    - 부모 클래스의 기능은 그대로 유지한 상태에서 자식 클래스에서 해당 기능을 그대로 사용하거나 약간의 변형을 하여 사용이 가능\n",
    "    - 자식 클래스에서 부모 클래스에 접근하는 방법 : super()"
   ]
  },
  {
   "cell_type": "code",
   "execution_count": 41,
   "id": "19a914b9",
   "metadata": {},
   "outputs": [],
   "source": [
    "# 부모 클래스 선언 \n",
    "class A:\n",
    "    # 생성자 함수 (클래스 안에서 독립적으로 사용한 변수를 생성)\n",
    "    def __init__(self, _name, _age):\n",
    "        self.name = _name\n",
    "        self.age = _age\n",
    "    # class에 저장된 유저의 정보를 출력하는 함수 \n",
    "    def view_info(self):\n",
    "        print(f\"이름은 {self.name}이고 나이는 {self.age}입니다.\")"
   ]
  },
  {
   "cell_type": "code",
   "execution_count": 42,
   "id": "33945c49",
   "metadata": {},
   "outputs": [],
   "source": [
    "test_user = A(\"kim\", 20)"
   ]
  },
  {
   "cell_type": "code",
   "execution_count": 43,
   "id": "42fcac6f",
   "metadata": {},
   "outputs": [
    {
     "name": "stdout",
     "output_type": "stream",
     "text": [
      "이름은 kim이고 나이는 20입니다.\n"
     ]
    }
   ],
   "source": [
    "test_user.view_info()"
   ]
  },
  {
   "cell_type": "code",
   "execution_count": 53,
   "id": "3e4a9057",
   "metadata": {},
   "outputs": [],
   "source": [
    "# 자식 클래스 선언 -> A 클래스의 기능을 상속 받는다. \n",
    "class B(A):\n",
    "    # B class는 A의 변수 2개와 view_info() 함수를 사용이 가능 \n",
    "    # 생성자 함수 \n",
    "    def __init__( self, _name, _age, _loc ):\n",
    "        # 부모클래스에서 저장하는 부분\n",
    "        # self.name = _name\n",
    "        # self.age = _age\n",
    "        # 간단하게 저장이 되지 않는 경우\n",
    "        # 부모클래스(super())에 안에(.) 생성자함수(__init__()) 호출\n",
    "        super().__init__(_name, _age)\n",
    "        self.loc = _loc\n",
    "    def view_info(self):\n",
    "        # print(f\"이름은 {self.name}이고 나이는 {self.age} 지역은 {self.loc}입니다.\")\n",
    "        # 부모클래스에 있는 view_info()호출\n",
    "        super().view_info() \n",
    "        # 추가 기능 \n",
    "        print(f\"지역은 {self.loc}입니다\")"
   ]
  },
  {
   "cell_type": "code",
   "execution_count": 54,
   "id": "32490ba0",
   "metadata": {},
   "outputs": [],
   "source": [
    "test_user2 = B('park', 30, 'seoul')"
   ]
  },
  {
   "cell_type": "code",
   "execution_count": 55,
   "id": "b62139c3",
   "metadata": {},
   "outputs": [
    {
     "name": "stdout",
     "output_type": "stream",
     "text": [
      "이름은 park이고 나이는 30입니다.\n",
      "지역은 seoul입니다\n",
      "None\n"
     ]
    }
   ],
   "source": [
    "# test_user2에 사용 가능한 함수는 2개 -> view_info(), view_info2()\n",
    "print(test_user2.view_info())"
   ]
  },
  {
   "cell_type": "markdown",
   "id": "3b552f56",
   "metadata": {},
   "source": [
    "### User class 선언 \n",
    "- Bank 클래스의 기능을 상속받는다. \n",
    "- 일의 종류와 금액을 나타내는 dict 형태의 데이터를 클래스 변수에 저장 \n",
    "- 구매할 상품의 종류와 금액을 나타내는 dict 형태의 데이터를 클래스에 저장\n",
    "- 생성자 함수 선언\n",
    "    - Bank 클래스 안에 변수 _name, _age 데이터를 받는다. \n",
    "    - 구매한 물건의 목록을 저장하기 위해 비어있는 리스트를 생성 \n",
    "- 일을한다 -> work() 함수 선언\n",
    "    - 매개변수 \n",
    "        - 일의 종류(_type)\n",
    "    - _type에 따라서 금액 지정 \n",
    "        - dict을 이용하여 금액을 지정 \n",
    "    - 유저의 잔액을 금액만큼 증가\n",
    "        - Bank(부모 클래스) 안에 있는 change_cost() 함수를 이용\n",
    "- 지출, 구매하는 함수 -> buy()\n",
    "    - 매개변수 \n",
    "        - 물건의 종류(_type)\n",
    "    - _type에 따라서 금액 지정 \n",
    "        - dict을 이용하여 금액을 지정 \n",
    "    - 구매하려는 물건의 금액과 유저의 잔액(self.cost)을 비교\n",
    "        - 유저의 잔액이 크거나 같다면\n",
    "            - 부모클래스의 change_cost() 함수를 이용\n",
    "            - 구매한 물건의 종류를 목록에 추가 \n",
    "        - 작다면\n",
    "            - \"잔액이 부족합니다\" 메시지를 출력 "
   ]
  },
  {
   "cell_type": "code",
   "execution_count": 75,
   "id": "af04800c",
   "metadata": {},
   "outputs": [],
   "source": [
    "# User class 선언하고 Bank class의 기능을 상속 받는다.\n",
    "class User(Bank):\n",
    "    # 클래스 변수 생성 \n",
    "    work_types = {\n",
    "        'A' : 10000, \n",
    "        'B' : 20000, \n",
    "        'C' : 30000\n",
    "    }\n",
    "    item_list = {\n",
    "        \"돈까스\" : 7000, \n",
    "        \"학식\" : 6000, \n",
    "        \"햄버거\" : 8000, \n",
    "        \"탕수육\" : 19000\n",
    "    }\n",
    "    # 생성자 함수 -> 변수들을 저장 \n",
    "    def __init__(self, _name, _birth):\n",
    "        # _name, _age는 부모클래스의 생성자 함수를 이용하여 저장 \n",
    "        super().__init__(_name, _birth)\n",
    "        # 유저가 구매한 물건의 목록을 생성하여 비어있는 리스트를 대입 \n",
    "        self.items = []\n",
    "    \n",
    "    # work() 함수를 생성 \n",
    "    def work(self, _type):\n",
    "        # _type에 따라 금액이 지정 -> work_types에 저장 \n",
    "        # work_types에 없는 key를 지정하면 error 발생 -> 예외 처리 \n",
    "        try:\n",
    "            # 실행 할 코드 작성 \n",
    "            # 금액 지정\n",
    "            cost = User.work_types[_type]\n",
    "            # 잔액을 증가시킨다. \n",
    "            # 부모 클래스에 있는 change_cost() 함수를 호출\n",
    "            super().change_cost(_type=0, _cost = cost)\n",
    "        except:\n",
    "            # try 영역에 있는 코드들이 실행되다가 문제가 발생했을때 \n",
    "            print(\"work_types에 존재하지 않는 _type 입력하였습니다.\")\n",
    "    # buy() 함수를 생성 \n",
    "    def buy(self, _type, _cnt = 1):\n",
    "        # _type에 따라 금액 지정 \n",
    "        try:\n",
    "            # item_list에 있는 물건의 금액을 불러온다. \n",
    "            cost = User.item_list[_type] * _cnt\n",
    "            # 현재 잔액과 cost를 비교 \n",
    "            if self.cost >= cost:\n",
    "                # 구매가 성공하는 조건 \n",
    "                # 부모클래스에서 change_cost() 함수 호출 \n",
    "                super().change_cost(_type = 1, _cost = cost)\n",
    "                # self.items에 구매한 물건(개수)을 추가\n",
    "                self.items.append(\n",
    "                    f\"{_type} x {_cnt}\"\n",
    "                ) \n",
    "            else:\n",
    "                # 구매가 실패하는 조건 \n",
    "                print('구매 실패 : 잔액이 부족합니다.')\n",
    "        except:\n",
    "            print('구매 실패 : 구매하려는 물건의 정보가 존재하지 않는다.')\n",
    "    # 유저의 정보를 출력해주는 함수를 생성\n",
    "    def user_info(self):\n",
    "        print(f\"\"\"\n",
    "            이름 : {self.name}\n",
    "            나이 : {self.birth}\n",
    "            잔액 : {self.cost}\n",
    "            구매한 물건의 목록 : {self.items} \n",
    "        \"\"\")\n",
    "    # 함수 생성 -> 매개변수 3개 (_select, _key, _value)\n",
    "    def add_type( self, _select, _key, _value ):\n",
    "        # _select가 \"work\"라면\n",
    "        if _select == 'work':\n",
    "            # 클래스 안에 work_types에 _key : _value를 추가 \n",
    "            User.work_types[_key] = _value\n",
    "        # _select가 \"item\"이라면\n",
    "        elif _select == 'item':\n",
    "            # 클래스 변수 item_list에 _key : _value를 추가\n",
    "            User.item_list[_key] = _value\n",
    "        # 그 외의 경우\n",
    "        else:\n",
    "            # \"_select에는 work / item 만 사용이 가능합니다 \" 메시지 출력\n",
    "            print(\"_select에는 work / item 만 사용이 가능합니다.\")"
   ]
  },
  {
   "cell_type": "code",
   "execution_count": 76,
   "id": "ef95f021",
   "metadata": {},
   "outputs": [],
   "source": [
    "user1 = User('kim', 20)"
   ]
  },
  {
   "cell_type": "code",
   "execution_count": 77,
   "id": "7a1dd194",
   "metadata": {},
   "outputs": [
    {
     "name": "stdout",
     "output_type": "stream",
     "text": [
      "입금완료 : 잔액은 10000입니다\n"
     ]
    }
   ],
   "source": [
    "user1.work('A')"
   ]
  },
  {
   "cell_type": "code",
   "execution_count": 67,
   "id": "e8aef391",
   "metadata": {},
   "outputs": [
    {
     "name": "stdout",
     "output_type": "stream",
     "text": [
      "work_types에 존재하지 않는 _type 입력하였습니다.\n"
     ]
    }
   ],
   "source": [
    "user1.work('D')"
   ]
  },
  {
   "cell_type": "code",
   "execution_count": 68,
   "id": "7d78d40e",
   "metadata": {},
   "outputs": [
    {
     "name": "stdout",
     "output_type": "stream",
     "text": [
      "입금완료 : 잔액은 30000입니다\n"
     ]
    }
   ],
   "source": [
    "user1.work('B')"
   ]
  },
  {
   "cell_type": "code",
   "execution_count": 69,
   "id": "c17ae6e0",
   "metadata": {},
   "outputs": [
    {
     "name": "stdout",
     "output_type": "stream",
     "text": [
      "입금완료 : 잔액은 60000입니다\n"
     ]
    }
   ],
   "source": [
    "user1.work('C')"
   ]
  },
  {
   "cell_type": "code",
   "execution_count": 78,
   "id": "6f4aeb8a",
   "metadata": {},
   "outputs": [
    {
     "name": "stdout",
     "output_type": "stream",
     "text": [
      "출금 완료 : 잔액은 3000입니다\n"
     ]
    }
   ],
   "source": [
    "# 구매 함수 호출 \n",
    "user1.buy( '돈까스' )"
   ]
  },
  {
   "cell_type": "code",
   "execution_count": 71,
   "id": "eb25ea2b",
   "metadata": {},
   "outputs": [
    {
     "name": "stdout",
     "output_type": "stream",
     "text": [
      "출금 완료 : 잔액은 21000입니다\n"
     ]
    }
   ],
   "source": [
    "user1.buy( '햄버거', 4 )"
   ]
  },
  {
   "cell_type": "code",
   "execution_count": 72,
   "id": "0580dac9",
   "metadata": {},
   "outputs": [
    {
     "name": "stdout",
     "output_type": "stream",
     "text": [
      "구매 실패 : 잔액이 부족합니다.\n"
     ]
    }
   ],
   "source": [
    "user1.buy( '탕수육', 2 )"
   ]
  },
  {
   "cell_type": "code",
   "execution_count": 73,
   "id": "227e6a7e",
   "metadata": {},
   "outputs": [
    {
     "name": "stdout",
     "output_type": "stream",
     "text": [
      "구매 실패 : 구매하려는 물건의 정보가 존재하지 않는다.\n"
     ]
    }
   ],
   "source": [
    "user1.buy('크림새우')"
   ]
  },
  {
   "cell_type": "code",
   "execution_count": 74,
   "id": "a9aa9ed7",
   "metadata": {},
   "outputs": [
    {
     "data": {
      "text/plain": [
       "['돈까스 x 1', '햄버거 x 4']"
      ]
     },
     "execution_count": 74,
     "metadata": {},
     "output_type": "execute_result"
    }
   ],
   "source": [
    "user1.items"
   ]
  },
  {
   "cell_type": "code",
   "execution_count": 79,
   "id": "aaa659db",
   "metadata": {},
   "outputs": [],
   "source": [
    "# add_type() 함수 호출 \n",
    "user1.add_type( 'work', 'D', 50000 )"
   ]
  },
  {
   "cell_type": "code",
   "execution_count": 80,
   "id": "c88e9eb6",
   "metadata": {},
   "outputs": [
    {
     "name": "stdout",
     "output_type": "stream",
     "text": [
      "입금완료 : 잔액은 53000입니다\n"
     ]
    }
   ],
   "source": [
    "user1.work('D')"
   ]
  },
  {
   "cell_type": "code",
   "execution_count": 81,
   "id": "b77b4851",
   "metadata": {},
   "outputs": [
    {
     "data": {
      "text/plain": [
       "{'A': 10000, 'B': 20000, 'C': 30000, 'D': 50000}"
      ]
     },
     "execution_count": 81,
     "metadata": {},
     "output_type": "execute_result"
    }
   ],
   "source": [
    "user1.work_types"
   ]
  },
  {
   "cell_type": "code",
   "execution_count": 82,
   "id": "5c4114f1",
   "metadata": {},
   "outputs": [],
   "source": [
    "user1.add_type( 'item', '크림새우', 20000)"
   ]
  },
  {
   "cell_type": "code",
   "execution_count": 83,
   "id": "b5e23bc3",
   "metadata": {},
   "outputs": [
    {
     "data": {
      "text/plain": [
       "{'돈까스': 7000, '학식': 6000, '햄버거': 8000, '탕수육': 19000, '크림새우': 20000}"
      ]
     },
     "execution_count": 83,
     "metadata": {},
     "output_type": "execute_result"
    }
   ],
   "source": [
    "user1.item_list"
   ]
  },
  {
   "cell_type": "code",
   "execution_count": 84,
   "id": "975718df",
   "metadata": {},
   "outputs": [
    {
     "name": "stdout",
     "output_type": "stream",
     "text": [
      "출금 완료 : 잔액은 33000입니다\n"
     ]
    }
   ],
   "source": [
    "user1.buy('크림새우')"
   ]
  },
  {
   "cell_type": "code",
   "execution_count": 85,
   "id": "b75e5f32",
   "metadata": {},
   "outputs": [
    {
     "name": "stdout",
     "output_type": "stream",
     "text": [
      "\n",
      "            이름 : kim\n",
      "            나이 : 20\n",
      "            잔액 : 33000\n",
      "            구매한 물건의 목록 : ['돈까스 x 1', '크림새우 x 1'] \n",
      "        \n"
     ]
    }
   ],
   "source": [
    "user1.user_info()"
   ]
  },
  {
   "cell_type": "code",
   "execution_count": 86,
   "id": "80868b2a",
   "metadata": {},
   "outputs": [],
   "source": [
    "user2 = User('park', 30)"
   ]
  },
  {
   "cell_type": "code",
   "execution_count": 87,
   "id": "05ee4c22",
   "metadata": {},
   "outputs": [
    {
     "name": "stdout",
     "output_type": "stream",
     "text": [
      "입금완료 : 잔액은 50000입니다\n"
     ]
    }
   ],
   "source": [
    "user2.work('D')"
   ]
  },
  {
   "cell_type": "code",
   "execution_count": null,
   "id": "b2843de3",
   "metadata": {},
   "outputs": [],
   "source": []
  }
 ],
 "metadata": {
  "kernelspec": {
   "display_name": "Python 3",
   "language": "python",
   "name": "python3"
  },
  "language_info": {
   "codemirror_mode": {
    "name": "ipython",
    "version": 3
   },
   "file_extension": ".py",
   "mimetype": "text/x-python",
   "name": "python",
   "nbconvert_exporter": "python",
   "pygments_lexer": "ipython3",
   "version": "3.11.9"
  }
 },
 "nbformat": 4,
 "nbformat_minor": 5
}
