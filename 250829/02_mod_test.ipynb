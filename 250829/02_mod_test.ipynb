{
 "cells": [
  {
   "cell_type": "code",
   "execution_count": null,
   "id": "05bee4ce",
   "metadata": {},
   "outputs": [],
   "source": [
    "# 외부의 파일을 로드 \n",
    "import mod"
   ]
  },
  {
   "cell_type": "code",
   "execution_count": null,
   "id": "0821ab1c",
   "metadata": {},
   "outputs": [],
   "source": [
    "# 모듈 안에 변수를 호출 \n",
    "mod.test_vari"
   ]
  },
  {
   "cell_type": "code",
   "execution_count": null,
   "id": "c29cbf95",
   "metadata": {},
   "outputs": [],
   "source": [
    "mod.func_1(10, 4)"
   ]
  },
  {
   "cell_type": "code",
   "execution_count": null,
   "id": "1a821e1b",
   "metadata": {},
   "outputs": [],
   "source": [
    "user1 = mod.User('kim', 30)"
   ]
  },
  {
   "cell_type": "code",
   "execution_count": null,
   "id": "a2e4fde2",
   "metadata": {},
   "outputs": [],
   "source": [
    "user1.work('A')"
   ]
  },
  {
   "cell_type": "code",
   "execution_count": null,
   "id": "fb05109c",
   "metadata": {},
   "outputs": [],
   "source": []
  }
 ],
 "metadata": {
  "kernelspec": {
   "display_name": "Python 3",
   "language": "python",
   "name": "python3"
  },
  "language_info": {
   "codemirror_mode": {
    "name": "ipython",
    "version": 3
   },
   "file_extension": ".py",
   "mimetype": "text/x-python",
   "name": "python",
   "nbconvert_exporter": "python",
   "pygments_lexer": "ipython3",
   "version": "3.11.9"
  }
 },
 "nbformat": 4,
 "nbformat_minor": 5
}
