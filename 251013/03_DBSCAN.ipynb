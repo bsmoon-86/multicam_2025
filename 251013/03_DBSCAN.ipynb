{
 "cells": [
  {
   "cell_type": "markdown",
   "id": "637810b4",
   "metadata": {},
   "source": [
    "# DBSCAN (밀도를 기반으로 한 군집)\n",
    "\n",
    "- 밀도 기반의 클러스터링 알고리즘으로 데이터의 밀도를 이용하여 군집을 형성\n",
    "- 데이터가 빽빽한(고밀도) 지역을 하나의 군집으로 생성을 하고 드문(저밀도) 지역은 노이즈(이상치)로 판단 \n",
    "\n",
    "- KMeans와는 다르게 군집의 개수를 지정할 필요가 없다. \n",
    "- 비선형 구조의 데이터에서도 군집 형성이 가능(원형, 나선형 구조의 데이터의 패턴이 분석 가능)\n",
    "- 노이즈를 판단함으로 이상치에 대한 자동 감지 \n",
    "- 스케일링은 일반적으로 사용(Standard, MinMax)\n",
    "\n",
    "- 매개변수 \n",
    "    - eps\n",
    "        - 기본값 : 0.5\n",
    "        - 두개의 샘플이 같은 군집으로 간주되기 위한 최대의 거리(반경)\n",
    "        - 스케일링이 된 데이터를 기준으로 한다면 eps는 최대 값이 2정도로 설정 \n",
    "        - 스케일링이 되지 않은 데이터를 기준으로 한다면서 eps는 피쳐안의 데이터의 범위에 따라서 값이 변한다.\n",
    "    - min_samples\n",
    "        - 기본값 : 5\n",
    "        - 핵심점(core point)으로 판단하기 위한 최소의 샘플의 개수\n",
    "    - metric\n",
    "        - 기본값 : euclidean\n",
    "        - 거리 계산 방식 \n",
    "    - metric_params\n",
    "        - 기본값 : None\n",
    "        - 거리 계산시 추가 인자 설정 \n",
    "    - algorithm\n",
    "        - 기본값 : auto\n",
    "        - 이웃 탐색 알고리즘\n",
    "        - auto -> 자동 선택, 데이터 특성에 따라 알고리즘 자동 선택 \n",
    "        - 'ball_tree' -> 고차원 데이터에서 효율적인 거리 탐색(공간 분할 기반) -> 피쳐의 개수가 많은 경우\n",
    "        - 'kd_tree' -> 저차원 데이터(20차원 이하)에서 매우 빠른 성능\n",
    "        - 'brute' -> 모든 점 간의 거리를 계산 -> 데이터의 개수가 적은 경우(5000개 미만)\n",
    "    - leaf_size\n",
    "        - 기본값 : 30\n",
    "        - Tree 알고리즘을 사용하는 경우 리프의 크기를 지정 (성능 조절)\n",
    "- 속성\n",
    "    - core_sample_indices_\n",
    "        - 핵심점의 인덱스 목록 \n",
    "    - components_\n",
    "        - 핵심점 좌표 배열 \n",
    "    - labels_\n",
    "        - 각 데이터의 군집의 라벨 ( 노이즈는 -1로 표시 )\n",
    "- 메서드\n",
    "    - fit()\n",
    "        - 모델의 데이터를 학습\n",
    "    - predict()\n",
    "        - 학습된 모델에서 데이터를 예측(군집의 라벨을 반환)\n",
    "\n",
    "- 동작의 원리 \n",
    "    1. 핵심점을 생성 ( 각 점에 대해서 이웃점의 개수를 계산 )\n",
    "    2. 경계점을 생성 ( 핵심점 근처에 데이터가 존재하지만 자신이 핵심이 아닌 경우 )\n",
    "    3. 노이즈점을 생성 ( 어떠한 군집에도 속하지 않은 데이터 )\n",
    "    4. 핵심점에서 시작해 이웃을 계속 측정하여 확장하면서 군집 형성 \n",
    "\n",
    "- 파라미터 튜닝 팁\n",
    "    - 너무 많은 노이즈가 생성\n",
    "        - eps 증가 하거나 min_samples 감소 \n",
    "    - 클러스터(군집)이 너무 뭉치는 경우\n",
    "        - eps 감소\n",
    "    - 데이터가 너무 고차원인 경우 \n",
    "        - 차원 축소를 통해서 고차원 데이터를 저차원으로 변경하고 사용\n",
    "    - 속도가 너무 느리다\n",
    "        - algorithm 를 kd_tree로 변경하거나 n_jobs를 -1로 변경"
   ]
  },
  {
   "cell_type": "code",
   "execution_count": 1,
   "id": "19b11db7",
   "metadata": {},
   "outputs": [],
   "source": [
    "import numpy as np \n",
    "import pandas as pd\n",
    "import matplotlib.pyplot as plt \n",
    "\n",
    "from sklearn.preprocessing import StandardScaler, LabelEncoder\n",
    "from sklearn.cluster import DBSCAN\n",
    "from sklearn.decomposition import PCA\n",
    "from sklearn.neighbors import NearestNeighbors\n",
    "from sklearn.metrics import silhouette_score, calinski_harabasz_score, \\\n",
    "    davies_bouldin_score, adjusted_rand_score, normalized_mutual_info_score"
   ]
  },
  {
   "cell_type": "code",
   "execution_count": 2,
   "id": "b4589f99",
   "metadata": {},
   "outputs": [],
   "source": [
    "# 데이터셋 로드 \n",
    "df = pd.read_csv(\"../data/bodyPerformance.csv\")"
   ]
  },
  {
   "cell_type": "code",
   "execution_count": 4,
   "id": "4570c3b3",
   "metadata": {},
   "outputs": [],
   "source": [
    "# object형 컬럼의 데이터들을 라벨인코더를 이용하여 수치형 데이터로 변환 \n",
    "obj_cols =  df.select_dtypes('object').columns.tolist()\n",
    "\n",
    "for col in obj_cols:\n",
    "    le = LabelEncoder()\n",
    "    df[col] = le.fit_transform(df[col].values)"
   ]
  },
  {
   "cell_type": "code",
   "execution_count": null,
   "id": "c27a1191",
   "metadata": {},
   "outputs": [],
   "source": [
    "df.head()"
   ]
  },
  {
   "cell_type": "code",
   "execution_count": 6,
   "id": "21071b7f",
   "metadata": {},
   "outputs": [],
   "source": [
    "# 독립, 종속 데이터 변환 \n",
    "X = df.drop('class', axis=1).values\n",
    "Y = df['class'].values\n",
    "# 독립 데이터는 스케일링 \n",
    "X_std = StandardScaler().fit_transform(X)"
   ]
  },
  {
   "cell_type": "code",
   "execution_count": 16,
   "id": "4938ef83",
   "metadata": {},
   "outputs": [
    {
     "data": {
      "text/plain": [
       "array([0.98773763, 1.09658759, 1.16466538, ..., 1.29056459, 1.61649612,\n",
       "       1.29657021], shape=(13393,))"
      ]
     },
     "execution_count": 16,
     "metadata": {},
     "output_type": "execute_result"
    }
   ],
   "source": [
    "# K번째(10) 최근접 이웃의 거리 계산 \n",
    "nbrs = NearestNeighbors(n_neighbors=10).fit(X_std)\n",
    "distances, _ = nbrs.kneighbors(X_std)\n",
    "\n",
    "distances[:, -1]"
   ]
  },
  {
   "cell_type": "code",
   "execution_count": 17,
   "id": "db7d8c61",
   "metadata": {},
   "outputs": [
    {
     "data": {
      "text/plain": [
       "array([13357, 13370, 13371, 13374, 13376, 13378, 13380, 13382, 13383,\n",
       "       13384, 13385, 13386, 13387, 13388, 13389, 13390, 13391])"
      ]
     },
     "execution_count": 17,
     "metadata": {},
     "output_type": "execute_result"
    }
   ],
   "source": [
    "# 각각의 데이터에서 10번째 이웃의 거리만 추출 \n",
    "kth_list = np.sort(distances[:, -1])\n",
    "\n",
    "# eps -> 꺽이는 지점\n",
    "diffs = np.diff(kth_list)\n",
    "eps_ = np.where(diffs > 0.05)[0]\n",
    "eps_"
   ]
  },
  {
   "cell_type": "code",
   "execution_count": 18,
   "id": "8ca4a800",
   "metadata": {},
   "outputs": [
    {
     "name": "stdout",
     "output_type": "stream",
     "text": [
      "급변하는 인덱스의 값 :  [13357 13370 13371 13374 13376 13378 13380 13382 13383 13384 13385 13386\n",
      " 13387 13388 13389 13390 13391]\n",
      "대략적인 eps의 최적의 값 :  3\n"
     ]
    }
   ],
   "source": [
    "print(\"급변하는 인덱스의 값 : \", eps_)\n",
    "print( \"대략적인 eps의 최적의 값 : \", round( kth_list[ eps_[0] ] ) )"
   ]
  },
  {
   "cell_type": "code",
   "execution_count": 19,
   "id": "acdbab72",
   "metadata": {},
   "outputs": [
    {
     "data": {
      "image/png": "[encoded data removed]",
      "text/plain": [
       "<Figure size 1000x800 with 1 Axes>"
      ]
     },
     "metadata": {},
     "output_type": "display_data"
    }
   ],
   "source": [
    "plt.figure(figsize=(10, 8))\n",
    "plt.plot(kth_list)\n",
    "plt.grid(True)\n",
    "plt.show()"
   ]
  },
  {
   "cell_type": "code",
   "execution_count": 20,
   "id": "2126f67b",
   "metadata": {},
   "outputs": [],
   "source": [
    "eps = 3\n",
    "min_samples = 10\n",
    "# 모델 생성\n",
    "db = DBSCAN(\n",
    "    eps = eps, \n",
    "    min_samples= min_samples, \n",
    "    n_jobs= -1\n",
    ")\n",
    "# 모델에 데이터 학습 및 예측\n",
    "labels = db.fit_predict(X_std)"
   ]
  },
  {
   "cell_type": "code",
   "execution_count": 23,
   "id": "4e19f8a0",
   "metadata": {},
   "outputs": [
    {
     "data": {
      "text/plain": [
       "{np.int64(-1), np.int64(0)}"
      ]
     },
     "execution_count": 23,
     "metadata": {},
     "output_type": "execute_result"
    }
   ],
   "source": [
    "# 라벨의 구성 -> 군집이 여러개인 경우 0, 1, 2, ... / 노이즈 -1\n",
    "# 라벨의 개수를 확인 \n",
    "set(labels)"
   ]
  }
 ],
 "metadata": {
  "kernelspec": {
   "display_name": "Python 3",
   "language": "python",
   "name": "python3"
  },
  "language_info": {
   "codemirror_mode": {
    "name": "ipython",
    "version": 3
   },
   "file_extension": ".py",
   "mimetype": "text/x-python",
   "name": "python",
   "nbconvert_exporter": "python",
   "pygments_lexer": "ipython3",
   "version": "3.11.9"
  }
 },
 "nbformat": 4,
 "nbformat_minor": 5
}
