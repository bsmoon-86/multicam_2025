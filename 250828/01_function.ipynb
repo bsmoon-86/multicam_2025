{
 "cells": [
  {
   "cell_type": "markdown",
   "id": "3e029e33",
   "metadata": {},
   "source": [
    "#### 문자열에서 제공하는 내장 함수 \n",
    "- upper() : 문자열을 모두 대문자로 변경 \n",
    "- lower() : 문자열을 모두 소문자로 변경 \n",
    "- swapcase() : 대문자를 소문자로 소문자를 대문자로 변경 \n",
    "- title() : 단어의 첫글자만 대문자로 변경 \n",
    "- strip() : 기본적으로는 문자열의 시작과 끝의 존재하는 공백을 제거 \n",
    "    - rstrip() : 문자열의 끝의 공백을 제거 \n",
    "    - lstrip() : 문자열의 시작의 공백을 제거 \n",
    "- replace() : 특정 문자를 찾아서 다른 문자로 치환\n",
    "- split() : 특정 문자를 찾아서 문자를 잘라주는 기능 -> 결과 list"
   ]
  },
  {
   "cell_type": "code",
   "execution_count": 1,
   "id": "fc23a0ea",
   "metadata": {},
   "outputs": [],
   "source": [
    "text_a = 'Apple'\n",
    "text_b = 'apple'"
   ]
  },
  {
   "cell_type": "code",
   "execution_count": 2,
   "id": "b7f33115",
   "metadata": {},
   "outputs": [
    {
     "data": {
      "text/plain": [
       "False"
      ]
     },
     "execution_count": 2,
     "metadata": {},
     "output_type": "execute_result"
    }
   ],
   "source": [
    "text_a == text_b"
   ]
  },
  {
   "cell_type": "code",
   "execution_count": 4,
   "id": "774b09b7",
   "metadata": {},
   "outputs": [],
   "source": [
    "# text_a와 text_b를 비교했을때 같다 라는 결과를 만드려면 \n",
    "# 두개의 데이터의 형태를 같게 만든다. \n",
    "text_a = text_a.upper()"
   ]
  },
  {
   "cell_type": "code",
   "execution_count": 5,
   "id": "00ef9f71",
   "metadata": {},
   "outputs": [],
   "source": [
    "text_b = text_b.upper()"
   ]
  },
  {
   "cell_type": "code",
   "execution_count": 6,
   "id": "73d261e3",
   "metadata": {},
   "outputs": [
    {
     "data": {
      "text/plain": [
       "True"
      ]
     },
     "execution_count": 6,
     "metadata": {},
     "output_type": "execute_result"
    }
   ],
   "source": [
    "text_a == text_b"
   ]
  },
  {
   "cell_type": "code",
   "execution_count": 7,
   "id": "8951d03b",
   "metadata": {},
   "outputs": [],
   "source": [
    "text_c = \"  Hello world  \""
   ]
  },
  {
   "cell_type": "code",
   "execution_count": 8,
   "id": "af08ace6",
   "metadata": {},
   "outputs": [
    {
     "data": {
      "text/plain": [
       "'  hello world  '"
      ]
     },
     "execution_count": 8,
     "metadata": {},
     "output_type": "execute_result"
    }
   ],
   "source": [
    "# lower()\n",
    "text_c.lower()"
   ]
  },
  {
   "cell_type": "code",
   "execution_count": 9,
   "id": "6dd02084",
   "metadata": {},
   "outputs": [
    {
     "data": {
      "text/plain": [
       "'  hELLO WORLD  '"
      ]
     },
     "execution_count": 9,
     "metadata": {},
     "output_type": "execute_result"
    }
   ],
   "source": [
    "# swapcase()\n",
    "text_c.swapcase()"
   ]
  },
  {
   "cell_type": "code",
   "execution_count": 10,
   "id": "63ab8a7e",
   "metadata": {},
   "outputs": [
    {
     "data": {
      "text/plain": [
       "'  Hello World  '"
      ]
     },
     "execution_count": 10,
     "metadata": {},
     "output_type": "execute_result"
    }
   ],
   "source": [
    "text_c.title()"
   ]
  },
  {
   "cell_type": "code",
   "execution_count": 11,
   "id": "9e1fe971",
   "metadata": {},
   "outputs": [
    {
     "data": {
      "text/plain": [
       "False"
      ]
     },
     "execution_count": 11,
     "metadata": {},
     "output_type": "execute_result"
    }
   ],
   "source": [
    "# 좌우의 공백하는 함수 \n",
    "text_c == \"Hello world\""
   ]
  },
  {
   "cell_type": "code",
   "execution_count": 12,
   "id": "05447581",
   "metadata": {},
   "outputs": [
    {
     "data": {
      "text/plain": [
       "'Hello world'"
      ]
     },
     "execution_count": 12,
     "metadata": {},
     "output_type": "execute_result"
    }
   ],
   "source": [
    "text_c.strip()"
   ]
  },
  {
   "cell_type": "code",
   "execution_count": 13,
   "id": "968b2825",
   "metadata": {},
   "outputs": [
    {
     "data": {
      "text/plain": [
       "'  Hello world'"
      ]
     },
     "execution_count": 13,
     "metadata": {},
     "output_type": "execute_result"
    }
   ],
   "source": [
    "text_c.rstrip()"
   ]
  },
  {
   "cell_type": "code",
   "execution_count": 14,
   "id": "e2879499",
   "metadata": {},
   "outputs": [
    {
     "data": {
      "text/plain": [
       "'Hello world  '"
      ]
     },
     "execution_count": 14,
     "metadata": {},
     "output_type": "execute_result"
    }
   ],
   "source": [
    "text_c.lstrip()"
   ]
  },
  {
   "cell_type": "code",
   "execution_count": 15,
   "id": "50b1de97",
   "metadata": {},
   "outputs": [
    {
     "name": "stdout",
     "output_type": "stream",
     "text": [
      "Hello world  \n",
      "Hello world\n"
     ]
    }
   ],
   "source": [
    "print(text_c.lstrip())\n",
    "print(text_c.strip())"
   ]
  },
  {
   "cell_type": "code",
   "execution_count": 16,
   "id": "04f123ff",
   "metadata": {},
   "outputs": [],
   "source": [
    "# 문자열을 숫자형을 변환 \n",
    "# 금액을 숫자로 변경하여 계산\n",
    "price_1 = '$10.00'\n",
    "price_2 = '$20.00'"
   ]
  },
  {
   "cell_type": "code",
   "execution_count": 17,
   "id": "eafbd32e",
   "metadata": {},
   "outputs": [
    {
     "data": {
      "text/plain": [
       "'$10.00$20.00'"
      ]
     },
     "execution_count": 17,
     "metadata": {},
     "output_type": "execute_result"
    }
   ],
   "source": [
    "price_1 + price_2"
   ]
  },
  {
   "cell_type": "code",
   "execution_count": 20,
   "id": "eb193609",
   "metadata": {},
   "outputs": [],
   "source": [
    "# error : '$'를 숫자로 변경이 불가능하기 때문에\n",
    "# float(price_1)"
   ]
  },
  {
   "cell_type": "code",
   "execution_count": 23,
   "id": "90970a7d",
   "metadata": {},
   "outputs": [
    {
     "data": {
      "text/plain": [
       "30.0"
      ]
     },
     "execution_count": 23,
     "metadata": {},
     "output_type": "execute_result"
    }
   ],
   "source": [
    "# '$' 제거하고 숫자로 변경 \n",
    "float(price_1.lstrip('$')) + float(price_2.lstrip('$'))"
   ]
  },
  {
   "cell_type": "code",
   "execution_count": 24,
   "id": "933b417a",
   "metadata": {},
   "outputs": [],
   "source": [
    "price_3 = \"1,000원\"\n",
    "price_4 = '3,000원'"
   ]
  },
  {
   "cell_type": "code",
   "execution_count": 30,
   "id": "7922abfd",
   "metadata": {},
   "outputs": [
    {
     "data": {
      "text/plain": [
       "'1,000'"
      ]
     },
     "execution_count": 30,
     "metadata": {},
     "output_type": "execute_result"
    }
   ],
   "source": [
    "# 문자열 마지막의 '원' 문자를 제거 \n",
    "price_3.rstrip('원')"
   ]
  },
  {
   "cell_type": "code",
   "execution_count": 33,
   "id": "39e37358",
   "metadata": {},
   "outputs": [
    {
     "data": {
      "text/plain": [
       "1000"
      ]
     },
     "execution_count": 33,
     "metadata": {},
     "output_type": "execute_result"
    }
   ],
   "source": [
    "# strip() 함수는 문자의 시작과 끝의 데이터를 제거하는 용도\n",
    "# 문자열 사이에 있는 문자를 변경 x\n",
    "# replace() : 특정문자를 치환 -> 문자를 변경, 문자를 제거\n",
    "# replcae( '특정문자' ,  '변경문자' )\n",
    "int(price_3.replace(',' , '').rstrip('원'))"
   ]
  },
  {
   "cell_type": "code",
   "execution_count": 34,
   "id": "6bb09557",
   "metadata": {},
   "outputs": [],
   "source": [
    "item_1 = '상품A'\n",
    "item_2 = '상품a'\n",
    "item_3 = '상 품 a'"
   ]
  },
  {
   "cell_type": "code",
   "execution_count": 35,
   "id": "4b7164b0",
   "metadata": {},
   "outputs": [
    {
     "data": {
      "text/plain": [
       "False"
      ]
     },
     "execution_count": 35,
     "metadata": {},
     "output_type": "execute_result"
    }
   ],
   "source": [
    "(item_1 == item_2) and (item_2 == item_3)"
   ]
  },
  {
   "cell_type": "code",
   "execution_count": 37,
   "id": "8bcde511",
   "metadata": {},
   "outputs": [],
   "source": [
    "# item_1을 기준으로 item_2, item_3 데이터를 변경 \n",
    "# item_2에서는 소문자를 대문자로 변경 \n",
    "item_2 = item_2.upper()"
   ]
  },
  {
   "cell_type": "code",
   "execution_count": 39,
   "id": "08d25cde",
   "metadata": {},
   "outputs": [],
   "source": [
    "# item_3는 문자열 사이에 존재하는 공백을 제거 -> 문자열을 대문자로 변경 \n",
    "item_3 = item_3.upper()"
   ]
  },
  {
   "cell_type": "code",
   "execution_count": 41,
   "id": "713d0937",
   "metadata": {},
   "outputs": [],
   "source": [
    "item_3 = item_3.replace( ' ', '' )"
   ]
  },
  {
   "cell_type": "code",
   "execution_count": 42,
   "id": "56e12926",
   "metadata": {},
   "outputs": [
    {
     "data": {
      "text/plain": [
       "True"
      ]
     },
     "execution_count": 42,
     "metadata": {},
     "output_type": "execute_result"
    }
   ],
   "source": [
    "(item_1 == item_2) and (item_2 == item_3)"
   ]
  },
  {
   "cell_type": "code",
   "execution_count": 43,
   "id": "e39985c2",
   "metadata": {},
   "outputs": [
    {
     "data": {
      "text/plain": [
       "['a', 'b', 'c', 'd']"
      ]
     },
     "execution_count": 43,
     "metadata": {},
     "output_type": "execute_result"
    }
   ],
   "source": [
    "# 문자열을 나눠주는 함수 -> split()\n",
    "# 공백을 기준으로 문자를 나눠주는 함수 \n",
    "# 인자로 특정 문자를 입력하면 특정 문자로 문자를 나눠준다\n",
    "text_1 = 'a b c d'\n",
    "text_1.split()"
   ]
  },
  {
   "cell_type": "code",
   "execution_count": 44,
   "id": "28c03482",
   "metadata": {},
   "outputs": [
    {
     "data": {
      "text/plain": [
       "['a', 'b', 'c']"
      ]
     },
     "execution_count": 44,
     "metadata": {},
     "output_type": "execute_result"
    }
   ],
   "source": [
    "text_2 = 'ammbmmc'\n",
    "text_2.split('mm')"
   ]
  },
  {
   "cell_type": "code",
   "execution_count": 46,
   "id": "1f9ca9d2",
   "metadata": {},
   "outputs": [],
   "source": [
    "# sql query문 \n",
    "query_1 = \"select * from table\"\n",
    "query_2 = \"SELECT * FROM table\"\n",
    "query_3 = \"\"\"\n",
    "    INSERT INTO \n",
    "    table \n",
    "    VALUES \n",
    "    ('a')\n",
    "\"\"\"\n",
    "query_4 = \"\"\"\n",
    "    select \n",
    "    * \n",
    "    from \n",
    "    table\n",
    "\"\"\""
   ]
  },
  {
   "cell_type": "code",
   "execution_count": 50,
   "id": "35194850",
   "metadata": {},
   "outputs": [
    {
     "data": {
      "text/plain": [
       "True"
      ]
     },
     "execution_count": 50,
     "metadata": {},
     "output_type": "execute_result"
    }
   ],
   "source": [
    "# query가 select문인가??\n",
    "find_word = 'select'\n",
    "\n",
    "query_1[ 0 : len(find_word) ] == find_word"
   ]
  },
  {
   "cell_type": "code",
   "execution_count": 52,
   "id": "5995fde2",
   "metadata": {},
   "outputs": [
    {
     "data": {
      "text/plain": [
       "True"
      ]
     },
     "execution_count": 52,
     "metadata": {},
     "output_type": "execute_result"
    }
   ],
   "source": [
    "query_2[ : len(find_word)].lower() == find_word"
   ]
  },
  {
   "cell_type": "code",
   "execution_count": 55,
   "id": "d94284c0",
   "metadata": {},
   "outputs": [
    {
     "data": {
      "text/plain": [
       "True"
      ]
     },
     "execution_count": 55,
     "metadata": {},
     "output_type": "execute_result"
    }
   ],
   "source": [
    "query_4.lstrip()[ : len(find_word) ] == find_word"
   ]
  },
  {
   "cell_type": "code",
   "execution_count": 58,
   "id": "8a52d2d3",
   "metadata": {},
   "outputs": [
    {
     "data": {
      "text/plain": [
       "True"
      ]
     },
     "execution_count": 58,
     "metadata": {},
     "output_type": "execute_result"
    }
   ],
   "source": [
    "query_1.split()[0] == find_word"
   ]
  },
  {
   "cell_type": "code",
   "execution_count": 60,
   "id": "29e36cb5",
   "metadata": {},
   "outputs": [
    {
     "data": {
      "text/plain": [
       "'select'"
      ]
     },
     "execution_count": 60,
     "metadata": {},
     "output_type": "execute_result"
    }
   ],
   "source": [
    "query_4.split()[0]"
   ]
  },
  {
   "cell_type": "code",
   "execution_count": 62,
   "id": "de76c25e",
   "metadata": {},
   "outputs": [
    {
     "data": {
      "text/plain": [
       "'select'"
      ]
     },
     "execution_count": 62,
     "metadata": {},
     "output_type": "execute_result"
    }
   ],
   "source": [
    "query_2.split()[0].lower()"
   ]
  },
  {
   "cell_type": "code",
   "execution_count": 63,
   "id": "39ea5dd3",
   "metadata": {},
   "outputs": [
    {
     "data": {
      "text/plain": [
       "True"
      ]
     },
     "execution_count": 63,
     "metadata": {},
     "output_type": "execute_result"
    }
   ],
   "source": [
    "query_1.startswith(find_word)"
   ]
  },
  {
   "cell_type": "code",
   "execution_count": 64,
   "id": "d2d64b9a",
   "metadata": {},
   "outputs": [
    {
     "data": {
      "text/plain": [
       "True"
      ]
     },
     "execution_count": 64,
     "metadata": {},
     "output_type": "execute_result"
    }
   ],
   "source": [
    "query_2.lower().startswith(find_word)"
   ]
  },
  {
   "cell_type": "code",
   "execution_count": 66,
   "id": "5e85b2ba",
   "metadata": {},
   "outputs": [
    {
     "data": {
      "text/plain": [
       "True"
      ]
     },
     "execution_count": 66,
     "metadata": {},
     "output_type": "execute_result"
    }
   ],
   "source": [
    "query_4.lstrip().startswith(find_word)"
   ]
  },
  {
   "cell_type": "code",
   "execution_count": 67,
   "id": "b634dab5",
   "metadata": {},
   "outputs": [
    {
     "data": {
      "text/plain": [
       "False"
      ]
     },
     "execution_count": 67,
     "metadata": {},
     "output_type": "execute_result"
    }
   ],
   "source": [
    "query_3.lstrip().startswith(find_word)"
   ]
  },
  {
   "cell_type": "code",
   "execution_count": 68,
   "id": "59d19e5b",
   "metadata": {},
   "outputs": [],
   "source": [
    "file_list = [\n",
    "    \"/csv/a.csv\", \n",
    "    \"/csv/b.txt\", \n",
    "    \"/csv/c.csv\", \n",
    "    \"/csv/d.json\"\n",
    "]"
   ]
  },
  {
   "cell_type": "code",
   "execution_count": null,
   "id": "072d35b1",
   "metadata": {},
   "outputs": [
    {
     "data": {
      "text/plain": [
       "True"
      ]
     },
     "execution_count": 70,
     "metadata": {},
     "output_type": "execute_result"
    }
   ],
   "source": [
    "# file_list에서 확장자가 csv인 목록만 출력하자\n",
    "file_list[1].endswith('csv')"
   ]
  },
  {
   "cell_type": "code",
   "execution_count": null,
   "id": "11b471b7",
   "metadata": {},
   "outputs": [
    {
     "name": "stdout",
     "output_type": "stream",
     "text": [
      "['/csv/a.csv', '/csv/c.csv']\n"
     ]
    }
   ],
   "source": [
    "# 반복문을 이용하여 file_list에서 csv 확장인 파일만 새로운 목록을 만든다.\n",
    "# 비어있는 리스트를 생성 \n",
    "csv_list = []\n",
    "\n",
    "# for문 list의 원소를 확인 \n",
    "for i in range(len(file_list)):\n",
    "    # i에 들어오는 데이터의 의미 : index\n",
    "    # file_list에 i번째 항목이 csv로 끝나는가?\n",
    "    if file_list[i].endswith('csv'):\n",
    "        # 확장자가 csv인 경우 실행되는 부분 \n",
    "        csv_list.append(file_list[i])\n",
    "print(csv_list)\n",
    "# for i in file_list:\n",
    "#     # i에 들어오는 데이터의 의미 : file_list의 원소\n",
    "#     if i.endswith('csv'):\n",
    "#         csv_list.append(i)\n"
   ]
  },
  {
   "cell_type": "code",
   "execution_count": 72,
   "id": "ff868a00",
   "metadata": {},
   "outputs": [],
   "source": [
    "# 함수 \n",
    "# 특정한 행동을 코드로 표현하고 이름 붙이는 작업\n",
    "# 특정 입력값을 통해서 연산을 하고 결과를 되돌려주는 작업 \n",
    "# python에서 def 키워드를 이용해서 함수를 생성 \n",
    "def func_1():\n",
    "    # 결과 되돌려준다\n",
    "    return 'Hello'\n",
    "\n",
    "def func_2():\n",
    "    print('Hello')"
   ]
  },
  {
   "cell_type": "code",
   "execution_count": 75,
   "id": "a71c2508",
   "metadata": {},
   "outputs": [],
   "source": [
    "# 함수 호출 \n",
    "res_1 = func_1()"
   ]
  },
  {
   "cell_type": "code",
   "execution_count": 76,
   "id": "f5392058",
   "metadata": {},
   "outputs": [
    {
     "name": "stdout",
     "output_type": "stream",
     "text": [
      "Hello\n"
     ]
    }
   ],
   "source": [
    "res_2 = func_2()"
   ]
  },
  {
   "cell_type": "code",
   "execution_count": 77,
   "id": "10f97cb7",
   "metadata": {},
   "outputs": [
    {
     "data": {
      "text/plain": [
       "'Hello'"
      ]
     },
     "execution_count": 77,
     "metadata": {},
     "output_type": "execute_result"
    }
   ],
   "source": [
    "res_1"
   ]
  },
  {
   "cell_type": "code",
   "execution_count": 78,
   "id": "ff6891c8",
   "metadata": {},
   "outputs": [],
   "source": [
    "res_2"
   ]
  },
  {
   "cell_type": "code",
   "execution_count": 80,
   "id": "72948b8c",
   "metadata": {},
   "outputs": [],
   "source": [
    "# 매개변수가 존재하지 않는 함수에 입력값을 사용해서 호출  한다면?\n",
    "# 입력값을 저장할 수 있는 공간이 존재하지 않기때문에 에러가 발생\n",
    "# func_1('a')"
   ]
  },
  {
   "cell_type": "code",
   "execution_count": 81,
   "id": "6f774472",
   "metadata": {},
   "outputs": [],
   "source": [
    "# 매개변수가 존재하는 함수 생성 \n",
    "def func_3(a, b):\n",
    "    c = a + b\n",
    "    return c"
   ]
  },
  {
   "cell_type": "code",
   "execution_count": null,
   "id": "e863d609",
   "metadata": {},
   "outputs": [
    {
     "data": {
      "text/plain": [
       "15"
      ]
     },
     "execution_count": 82,
     "metadata": {},
     "output_type": "execute_result"
    }
   ],
   "source": [
    "func_3(10, 5)\n",
    "# a = 10\n",
    "# b = 5 \n",
    "# c = 10 + 5\n",
    "# c를 되돌려준다."
   ]
  },
  {
   "cell_type": "code",
   "execution_count": 84,
   "id": "60108f69",
   "metadata": {},
   "outputs": [],
   "source": [
    "# 매개변수가 2개인 함수를 호출하면서 인자를 1개만 입력하는 경우??\n",
    "# 데이터가 입력되는 공간이 2개인데 데이터는 1개만 입력하면 \n",
    "# 나머지 하나의 공간에 데이터가 없으므로 에러 \n",
    "# func_3(10)"
   ]
  },
  {
   "cell_type": "code",
   "execution_count": null,
   "id": "9557cf1e",
   "metadata": {},
   "outputs": [
    {
     "name": "stdout",
     "output_type": "stream",
     "text": [
      "a\n",
      "b\n",
      "c\n"
     ]
    }
   ],
   "source": [
    "# print() : 입력 데이터를 출력하는 기능\n",
    "# sep 매개변수에 입력 데이터를 대입하려면 매개변수명 = data\n",
    "# 첫번째 매개변수가 가변의 인자를 받는 형태이기때문에\n",
    "print('a', 'b', 'c', sep ='\\n')"
   ]
  },
  {
   "cell_type": "code",
   "execution_count": 89,
   "id": "f88c7f52",
   "metadata": {},
   "outputs": [],
   "source": [
    "def func_4(a, b = 5):\n",
    "    # 매개변수는 2개 a, b\n",
    "    #   a는 함수를 호출할때 필수 입력 공간 \n",
    "    #   b는 선택 입력 공간 \n",
    "    c = a ** b\n",
    "    return c "
   ]
  },
  {
   "cell_type": "code",
   "execution_count": null,
   "id": "aecf659a",
   "metadata": {},
   "outputs": [
    {
     "data": {
      "text/plain": [
       "32"
      ]
     },
     "execution_count": 90,
     "metadata": {},
     "output_type": "execute_result"
    }
   ],
   "source": [
    "func_4(2)\n",
    "# a = 2\n",
    "# b = 5\n",
    "# c = 2 ** 5 \n",
    "# 32를 되돌려준다."
   ]
  },
  {
   "cell_type": "code",
   "execution_count": 91,
   "id": "3a44882e",
   "metadata": {},
   "outputs": [
    {
     "data": {
      "text/plain": [
       "16"
      ]
     },
     "execution_count": 91,
     "metadata": {},
     "output_type": "execute_result"
    }
   ],
   "source": [
    "func_4(2, 4)\n",
    "# a = 2\n",
    "# b = 5\n",
    "# b = 4\n",
    "# c = 2 ** 4\n",
    "# 16 되돌려준다."
   ]
  },
  {
   "cell_type": "markdown",
   "id": "3b77f780",
   "metadata": {},
   "source": [
    "### 변수의 종류\n",
    "- 컴퓨터의 메모리에 데이터가 저장되는 공간에 이름을 붙이는 작업 \n",
    "\n",
    "    - 전역 변수 \n",
    "        - 전역의 의미 -> 모든 영역 \n",
    "        - 해당하는 파일 안에서 어디서든 사용이 가능이 변수 \n",
    "        - globals() 함수를 호출하면 전역 변수의 목록이 확인 가능\n",
    "    - 지역 변수\n",
    "        - 지역의 의미 -> 특정 영역\n",
    "        - 함수나 클래스 안에서만 사용이 가능한 변수 \n",
    "        - 함수에서 값을 되돌려주는 행동(return) 뒤에는 함수에서 사용된 변수들은 외부에서는 사용이 불가능"
   ]
  },
  {
   "cell_type": "code",
   "execution_count": 92,
   "id": "e473b2d4",
   "metadata": {},
   "outputs": [
    {
     "data": {
      "text/plain": [
       "{'__name__': '__main__',\n",
       " '__doc__': 'Automatically created module for IPython interactive environment',\n",
       " '__package__': None,\n",
       " '__loader__': None,\n",
       " '__spec__': None,\n",
       " '__builtin__': <module 'builtins' (built-in)>,\n",
       " '__builtins__': <module 'builtins' (built-in)>,\n",
       " '_ih': ['',\n",
       "  \"text_a = 'Apple'\\ntext_b = 'apple'\",\n",
       "  'text_a == text_b',\n",
       "  '# text_a와 text_b를 비교했을때 같다 라는 결과를 만드려면 \\n# 두개의 데이터의 형태를 같게 만든다. \\ntext_a.upper()',\n",
       "  '# text_a와 text_b를 비교했을때 같다 라는 결과를 만드려면 \\n# 두개의 데이터의 형태를 같게 만든다. \\ntext_a = text_a.upper()',\n",
       "  'text_b = text_b.upper()',\n",
       "  'text_a == text_b',\n",
       "  'text_c = \"  Hello world  \"',\n",
       "  '# lower()\\ntext_c.lower()',\n",
       "  '# swapcase()\\ntext_c.swapcase()',\n",
       "  'text_c.title()',\n",
       "  '# 좌우의 공백하는 함수 \\ntext_c == \"Hello world\"',\n",
       "  'text_c.strip()',\n",
       "  'text_c.rstrip()',\n",
       "  'text_c.lstrip()',\n",
       "  'print(text_c.lstrip())\\nprint(text_c.strip())',\n",
       "  \"# 문자열을 숫자형을 변환 \\n# 금액을 숫자로 변경하여 계산\\nprice_1 = '$10.00'\\nprice_2 = '$20.00'\",\n",
       "  'price_1 + price_2',\n",
       "  'int(price_1)',\n",
       "  'float(price_1)',\n",
       "  \"# error : '$'를 숫자로 변경이 불가능하기 때문에\\n# float(price_1)\",\n",
       "  \"# '$' 제거하고 숫자로 변경 \\nprice_1.lstrip('$')\",\n",
       "  \"# '$' 제거하고 숫자로 변경 \\nfloat(price_1.lstrip('$'))\",\n",
       "  \"# '$' 제거하고 숫자로 변경 \\nfloat(price_1.lstrip('$')) + float(price_2.lstrip('$'))\",\n",
       "  'price_3 = \"1,000원\"\\nprice_4 = \\'3,000원\\'',\n",
       "  \"# 문자열 마지막의 '원' 문자를 제거 \\nprice_3.rstrip('원')\",\n",
       "  \"# 문자열 마지막의 '원' 문자를 제거 \\nfloat(price_3.rstrip('원'))\",\n",
       "  \"# 문자열 마지막의 '원' 문자를 제거 \\nint(price_3.rstrip('원'))\",\n",
       "  \"# strip() 함수는 문자의 시작과 끝의 데이터를 제거하는 용도\\n# 문자열 사이에 있는 문자를 변경 x\\n# replace() : 특정문자를 치환 -> 문자를 변경, 문자를 제거\\n# replcae( '특정문자' ,  '변경문자' )\\nprice_3.replcae(',' , '')\",\n",
       "  \"# strip() 함수는 문자의 시작과 끝의 데이터를 제거하는 용도\\n# 문자열 사이에 있는 문자를 변경 x\\n# replace() : 특정문자를 치환 -> 문자를 변경, 문자를 제거\\n# replcae( '특정문자' ,  '변경문자' )\\nprice_3.replace(',' , '')\",\n",
       "  \"# 문자열 마지막의 '원' 문자를 제거 \\nprice_3.rstrip('원')\",\n",
       "  \"# strip() 함수는 문자의 시작과 끝의 데이터를 제거하는 용도\\n# 문자열 사이에 있는 문자를 변경 x\\n# replace() : 특정문자를 치환 -> 문자를 변경, 문자를 제거\\n# replcae( '특정문자' ,  '변경문자' )\\nprice_3.replace(',' , '')\",\n",
       "  \"# strip() 함수는 문자의 시작과 끝의 데이터를 제거하는 용도\\n# 문자열 사이에 있는 문자를 변경 x\\n# replace() : 특정문자를 치환 -> 문자를 변경, 문자를 제거\\n# replcae( '특정문자' ,  '변경문자' )\\nprice_3.replace(',' , '').rstrip('원')\",\n",
       "  \"# strip() 함수는 문자의 시작과 끝의 데이터를 제거하는 용도\\n# 문자열 사이에 있는 문자를 변경 x\\n# replace() : 특정문자를 치환 -> 문자를 변경, 문자를 제거\\n# replcae( '특정문자' ,  '변경문자' )\\nint(price_3.replace(',' , '').rstrip('원'))\",\n",
       "  \"item_1 = '상품A'\\nitem_2 = '상품a'\\nitem_3 = '상 품 a'\",\n",
       "  '(item_1 == item_2) and (item_2 == item_3)',\n",
       "  '# item_1을 기준으로 item_2, item_3 데이터를 변경 \\n# item_2에서는 소문자를 대문자로 변경 \\nitem_2.upper()',\n",
       "  '# item_1을 기준으로 item_2, item_3 데이터를 변경 \\n# item_2에서는 소문자를 대문자로 변경 \\nitem_2 = item_2.upper()',\n",
       "  '# item_3는 문자열 사이에 존재하는 공백을 제거 -> 문자열을 대문자로 변경 \\nitem_3.upper()',\n",
       "  '# item_3는 문자열 사이에 존재하는 공백을 제거 -> 문자열을 대문자로 변경 \\nitem_3 = item_3.upper()',\n",
       "  \"item_3.replace( ' ', '' )\",\n",
       "  \"item_3 = item_3.replace( ' ', '' )\",\n",
       "  '(item_1 == item_2) and (item_2 == item_3)',\n",
       "  \"# 문자열을 나눠주는 함수 -> split()\\n# 공백을 기준으로 문자를 나눠주는 함수 \\n# 인자로 특정 문자를 입력하면 특정 문자로 문자를 나눠준다\\ntext_1 = 'a b c d'\\ntext_1.split()\",\n",
       "  \"text_2 = 'ammbmmc'\\ntext_2.split('mm')\",\n",
       "  '# sql query문 \\nquery_1 = \"select * from table\"\\nquery_2 = \"SELECT * FROM table\"\\nquery_3 = \"\"\"\\n    INSERT INTO \\n    table \\n    VALUES \\n    (\\'a\\')\\n\"\"\"',\n",
       "  '# sql query문 \\nquery_1 = \"select * from table\"\\nquery_2 = \"SELECT * FROM table\"\\nquery_3 = \"\"\"\\n    INSERT INTO \\n    table \\n    VALUES \\n    (\\'a\\')\\n\"\"\"\\nquery_4 = \"\"\"\\n    select \\n    * \\n    from \\n    table\\n\"\"\"',\n",
       "  \"# query가 select문인가??\\nfind_word = 'select'\\n\\nquery_1[0]\",\n",
       "  \"# query가 select문인가??\\nfind_word = 'select'\\n\\nquery_1[ 0 : len(find_word)+1 ]\",\n",
       "  \"# query가 select문인가??\\nfind_word = 'select'\\n\\nquery_1[ 0 : len(find_word) ]\",\n",
       "  \"# query가 select문인가??\\nfind_word = 'select'\\n\\nquery_1[ 0 : len(find_word) ] == find_word\",\n",
       "  'query_2[ : len(find_word)] == find_word',\n",
       "  'query_2[ : len(find_word)].lower() == find_word',\n",
       "  'query_4[ : len(find_word) ]',\n",
       "  'query_4.lstrip()[ : len(find_word) ]',\n",
       "  'query_4.lstrip()[ : len(find_word) ] == find_word',\n",
       "  'query_1.split()',\n",
       "  'query_1.split()[0]',\n",
       "  'query_1.split()[0] == find_word',\n",
       "  'query_4.split()',\n",
       "  'query_4.split()[0]',\n",
       "  'query_2.split()',\n",
       "  'query_2.split()[0].lower()',\n",
       "  'query_1.startswith(find_word)',\n",
       "  'query_2.lower().startswith(find_word)',\n",
       "  'query_4.startswith(find_word)',\n",
       "  'query_4.lstrip().startswith(find_word)',\n",
       "  'query_3.lstrip().startswith(find_word)',\n",
       "  'file_list = [\\n    \"/csv/a.csv\", \\n    \"/csv/b.txt\", \\n    \"/csv/c.csv\", \\n    \"/csv/d.json\"\\n]',\n",
       "  '# file_list에서 확장자가 csv인 목록만 출력하자\\nfile_list[0]',\n",
       "  \"# file_list에서 확장자가 csv인 목록만 출력하자\\nfile_list[0].endswith('csv')\",\n",
       "  \"# 반복문을 이용하여 file_list에서 csv 확장인 파일만 새로운 목록을 만든다.\\n# 비어있는 리스트를 생성 \\ncsv_list = []\\n\\n# for문 list의 원소를 확인 \\nfor i in range(len(file_list)):\\n    # i에 들어오는 데이터의 의미 : index\\n    # file_list에 i번째 항목이 csv로 끝나는가?\\n    if file_list[i].endswith('csv'):\\n        # 확장자가 csv인 경우 실행되는 부분 \\n        csv_list.append(file_list[i])\\nprint(csv_list)\\n# for i in file_list:\\n    # i에 들어오는 데이터의 의미 : file_list의 원소\",\n",
       "  \"# 함수 \\n# 특정한 행동을 코드로 표현하고 이름 붙이는 작업\\n# 특정 입력값을 통해서 연산을 하고 결과를 되돌려주는 작업 \\n# python에서 def 키워드를 이용해서 함수를 생성 \\ndef func_1():\\n    # 결과 되돌려준다\\n    return 'Hello'\\n\\ndef func_2():\\n    print('Hello')\",\n",
       "  '# 함수 호출 \\nfunc_1()',\n",
       "  'func_2()',\n",
       "  '# 함수 호출 \\nres_1 = func_1()',\n",
       "  'res_2 = func_2()',\n",
       "  'res_1',\n",
       "  'res_2',\n",
       "  \"# 매개변수가 존재하지 않는 함수에 입력값을 사용해서 호출  한다면?\\nfunc_1('a')\",\n",
       "  \"# 매개변수가 존재하지 않는 함수에 입력값을 사용해서 호출  한다면?\\n# 입력값을 저장할 수 있는 공간이 존재하지 않기때문에 에러가 발생\\n# func_1('a')\",\n",
       "  '# 매개변수가 존재하는 함수 생성 \\ndef func_3(a, b):\\n    c = a + b\\n    return c',\n",
       "  'func_3(10, 5)',\n",
       "  '# 매개변수가 2개인 함수를 호출하면서 인자를 1개만 입력하는 경우??\\nfunc_3(10)',\n",
       "  '# 매개변수가 2개인 함수를 호출하면서 인자를 1개만 입력하는 경우??\\n# 데이터가 입력되는 공간이 2개인데 데이터는 1개만 입력하면 \\n# 나머지 하나의 공간에 데이터가 없으므로 에러 \\n# func_3(10)',\n",
       "  \"# print() : 입력 데이터를 출력하는 기능\\nprint('a')\",\n",
       "  \"# print() : 입력 데이터를 출력하는 기능\\nprint('a', 'b', 'c')\",\n",
       "  \"# print() : 입력 데이터를 출력하는 기능\\nprint('a', 'b', 'c', '\\\\n')\",\n",
       "  \"# print() : 입력 데이터를 출력하는 기능\\nprint('a', 'b', 'c', sep ='\\\\n')\",\n",
       "  'def func_4(a, b = 5):\\n    # 매개변수는 2개 a, b\\n    #   a는 함수를 호출할때 필수 입력 공간 \\n    #   b는 선택 입력 공간 \\n    c = a ** b\\n    return c ',\n",
       "  'func_4(2)',\n",
       "  'func_4(2, 4)\\n# a = 2\\n# b = 5\\n# b = 4\\n# c = 2 ** 4\\n# 16 되돌려준다.',\n",
       "  '# 모든 영역에서 사용 할수 있는 변수의 목록 확인 \\nglobals()'],\n",
       " '_oh': {2: False,\n",
       "  3: 'APPLE',\n",
       "  6: True,\n",
       "  8: '  hello world  ',\n",
       "  9: '  hELLO WORLD  ',\n",
       "  10: '  Hello World  ',\n",
       "  11: False,\n",
       "  12: 'Hello world',\n",
       "  13: '  Hello world',\n",
       "  14: 'Hello world  ',\n",
       "  17: '$10.00$20.00',\n",
       "  21: '10.00',\n",
       "  22: 10.0,\n",
       "  23: 30.0,\n",
       "  25: '1,000',\n",
       "  29: '1000원',\n",
       "  30: '1,000',\n",
       "  31: '1000원',\n",
       "  32: '1000',\n",
       "  33: 1000,\n",
       "  35: False,\n",
       "  36: '상품A',\n",
       "  38: '상 품 A',\n",
       "  40: '상품A',\n",
       "  42: True,\n",
       "  43: ['a', 'b', 'c', 'd'],\n",
       "  44: ['a', 'b', 'c'],\n",
       "  47: 's',\n",
       "  48: 'select ',\n",
       "  49: 'select',\n",
       "  50: True,\n",
       "  51: False,\n",
       "  52: True,\n",
       "  53: '\\n    s',\n",
       "  54: 'select',\n",
       "  55: True,\n",
       "  56: ['select', '*', 'from', 'table'],\n",
       "  57: 'select',\n",
       "  58: True,\n",
       "  59: ['select', '*', 'from', 'table'],\n",
       "  60: 'select',\n",
       "  61: ['SELECT', '*', 'FROM', 'table'],\n",
       "  62: 'select',\n",
       "  63: True,\n",
       "  64: True,\n",
       "  65: False,\n",
       "  66: True,\n",
       "  67: False,\n",
       "  69: '/csv/a.csv',\n",
       "  70: True,\n",
       "  73: 'Hello',\n",
       "  77: 'Hello',\n",
       "  82: 15,\n",
       "  90: 32,\n",
       "  91: 16},\n",
       " '_dh': [WindowsPath('c:/Users/ekfla/Documents/GitHub/multicam_2025/250828')],\n",
       " 'In': ['',\n",
       "  \"text_a = 'Apple'\\ntext_b = 'apple'\",\n",
       "  'text_a == text_b',\n",
       "  '# text_a와 text_b를 비교했을때 같다 라는 결과를 만드려면 \\n# 두개의 데이터의 형태를 같게 만든다. \\ntext_a.upper()',\n",
       "  '# text_a와 text_b를 비교했을때 같다 라는 결과를 만드려면 \\n# 두개의 데이터의 형태를 같게 만든다. \\ntext_a = text_a.upper()',\n",
       "  'text_b = text_b.upper()',\n",
       "  'text_a == text_b',\n",
       "  'text_c = \"  Hello world  \"',\n",
       "  '# lower()\\ntext_c.lower()',\n",
       "  '# swapcase()\\ntext_c.swapcase()',\n",
       "  'text_c.title()',\n",
       "  '# 좌우의 공백하는 함수 \\ntext_c == \"Hello world\"',\n",
       "  'text_c.strip()',\n",
       "  'text_c.rstrip()',\n",
       "  'text_c.lstrip()',\n",
       "  'print(text_c.lstrip())\\nprint(text_c.strip())',\n",
       "  \"# 문자열을 숫자형을 변환 \\n# 금액을 숫자로 변경하여 계산\\nprice_1 = '$10.00'\\nprice_2 = '$20.00'\",\n",
       "  'price_1 + price_2',\n",
       "  'int(price_1)',\n",
       "  'float(price_1)',\n",
       "  \"# error : '$'를 숫자로 변경이 불가능하기 때문에\\n# float(price_1)\",\n",
       "  \"# '$' 제거하고 숫자로 변경 \\nprice_1.lstrip('$')\",\n",
       "  \"# '$' 제거하고 숫자로 변경 \\nfloat(price_1.lstrip('$'))\",\n",
       "  \"# '$' 제거하고 숫자로 변경 \\nfloat(price_1.lstrip('$')) + float(price_2.lstrip('$'))\",\n",
       "  'price_3 = \"1,000원\"\\nprice_4 = \\'3,000원\\'',\n",
       "  \"# 문자열 마지막의 '원' 문자를 제거 \\nprice_3.rstrip('원')\",\n",
       "  \"# 문자열 마지막의 '원' 문자를 제거 \\nfloat(price_3.rstrip('원'))\",\n",
       "  \"# 문자열 마지막의 '원' 문자를 제거 \\nint(price_3.rstrip('원'))\",\n",
       "  \"# strip() 함수는 문자의 시작과 끝의 데이터를 제거하는 용도\\n# 문자열 사이에 있는 문자를 변경 x\\n# replace() : 특정문자를 치환 -> 문자를 변경, 문자를 제거\\n# replcae( '특정문자' ,  '변경문자' )\\nprice_3.replcae(',' , '')\",\n",
       "  \"# strip() 함수는 문자의 시작과 끝의 데이터를 제거하는 용도\\n# 문자열 사이에 있는 문자를 변경 x\\n# replace() : 특정문자를 치환 -> 문자를 변경, 문자를 제거\\n# replcae( '특정문자' ,  '변경문자' )\\nprice_3.replace(',' , '')\",\n",
       "  \"# 문자열 마지막의 '원' 문자를 제거 \\nprice_3.rstrip('원')\",\n",
       "  \"# strip() 함수는 문자의 시작과 끝의 데이터를 제거하는 용도\\n# 문자열 사이에 있는 문자를 변경 x\\n# replace() : 특정문자를 치환 -> 문자를 변경, 문자를 제거\\n# replcae( '특정문자' ,  '변경문자' )\\nprice_3.replace(',' , '')\",\n",
       "  \"# strip() 함수는 문자의 시작과 끝의 데이터를 제거하는 용도\\n# 문자열 사이에 있는 문자를 변경 x\\n# replace() : 특정문자를 치환 -> 문자를 변경, 문자를 제거\\n# replcae( '특정문자' ,  '변경문자' )\\nprice_3.replace(',' , '').rstrip('원')\",\n",
       "  \"# strip() 함수는 문자의 시작과 끝의 데이터를 제거하는 용도\\n# 문자열 사이에 있는 문자를 변경 x\\n# replace() : 특정문자를 치환 -> 문자를 변경, 문자를 제거\\n# replcae( '특정문자' ,  '변경문자' )\\nint(price_3.replace(',' , '').rstrip('원'))\",\n",
       "  \"item_1 = '상품A'\\nitem_2 = '상품a'\\nitem_3 = '상 품 a'\",\n",
       "  '(item_1 == item_2) and (item_2 == item_3)',\n",
       "  '# item_1을 기준으로 item_2, item_3 데이터를 변경 \\n# item_2에서는 소문자를 대문자로 변경 \\nitem_2.upper()',\n",
       "  '# item_1을 기준으로 item_2, item_3 데이터를 변경 \\n# item_2에서는 소문자를 대문자로 변경 \\nitem_2 = item_2.upper()',\n",
       "  '# item_3는 문자열 사이에 존재하는 공백을 제거 -> 문자열을 대문자로 변경 \\nitem_3.upper()',\n",
       "  '# item_3는 문자열 사이에 존재하는 공백을 제거 -> 문자열을 대문자로 변경 \\nitem_3 = item_3.upper()',\n",
       "  \"item_3.replace( ' ', '' )\",\n",
       "  \"item_3 = item_3.replace( ' ', '' )\",\n",
       "  '(item_1 == item_2) and (item_2 == item_3)',\n",
       "  \"# 문자열을 나눠주는 함수 -> split()\\n# 공백을 기준으로 문자를 나눠주는 함수 \\n# 인자로 특정 문자를 입력하면 특정 문자로 문자를 나눠준다\\ntext_1 = 'a b c d'\\ntext_1.split()\",\n",
       "  \"text_2 = 'ammbmmc'\\ntext_2.split('mm')\",\n",
       "  '# sql query문 \\nquery_1 = \"select * from table\"\\nquery_2 = \"SELECT * FROM table\"\\nquery_3 = \"\"\"\\n    INSERT INTO \\n    table \\n    VALUES \\n    (\\'a\\')\\n\"\"\"',\n",
       "  '# sql query문 \\nquery_1 = \"select * from table\"\\nquery_2 = \"SELECT * FROM table\"\\nquery_3 = \"\"\"\\n    INSERT INTO \\n    table \\n    VALUES \\n    (\\'a\\')\\n\"\"\"\\nquery_4 = \"\"\"\\n    select \\n    * \\n    from \\n    table\\n\"\"\"',\n",
       "  \"# query가 select문인가??\\nfind_word = 'select'\\n\\nquery_1[0]\",\n",
       "  \"# query가 select문인가??\\nfind_word = 'select'\\n\\nquery_1[ 0 : len(find_word)+1 ]\",\n",
       "  \"# query가 select문인가??\\nfind_word = 'select'\\n\\nquery_1[ 0 : len(find_word) ]\",\n",
       "  \"# query가 select문인가??\\nfind_word = 'select'\\n\\nquery_1[ 0 : len(find_word) ] == find_word\",\n",
       "  'query_2[ : len(find_word)] == find_word',\n",
       "  'query_2[ : len(find_word)].lower() == find_word',\n",
       "  'query_4[ : len(find_word) ]',\n",
       "  'query_4.lstrip()[ : len(find_word) ]',\n",
       "  'query_4.lstrip()[ : len(find_word) ] == find_word',\n",
       "  'query_1.split()',\n",
       "  'query_1.split()[0]',\n",
       "  'query_1.split()[0] == find_word',\n",
       "  'query_4.split()',\n",
       "  'query_4.split()[0]',\n",
       "  'query_2.split()',\n",
       "  'query_2.split()[0].lower()',\n",
       "  'query_1.startswith(find_word)',\n",
       "  'query_2.lower().startswith(find_word)',\n",
       "  'query_4.startswith(find_word)',\n",
       "  'query_4.lstrip().startswith(find_word)',\n",
       "  'query_3.lstrip().startswith(find_word)',\n",
       "  'file_list = [\\n    \"/csv/a.csv\", \\n    \"/csv/b.txt\", \\n    \"/csv/c.csv\", \\n    \"/csv/d.json\"\\n]',\n",
       "  '# file_list에서 확장자가 csv인 목록만 출력하자\\nfile_list[0]',\n",
       "  \"# file_list에서 확장자가 csv인 목록만 출력하자\\nfile_list[0].endswith('csv')\",\n",
       "  \"# 반복문을 이용하여 file_list에서 csv 확장인 파일만 새로운 목록을 만든다.\\n# 비어있는 리스트를 생성 \\ncsv_list = []\\n\\n# for문 list의 원소를 확인 \\nfor i in range(len(file_list)):\\n    # i에 들어오는 데이터의 의미 : index\\n    # file_list에 i번째 항목이 csv로 끝나는가?\\n    if file_list[i].endswith('csv'):\\n        # 확장자가 csv인 경우 실행되는 부분 \\n        csv_list.append(file_list[i])\\nprint(csv_list)\\n# for i in file_list:\\n    # i에 들어오는 데이터의 의미 : file_list의 원소\",\n",
       "  \"# 함수 \\n# 특정한 행동을 코드로 표현하고 이름 붙이는 작업\\n# 특정 입력값을 통해서 연산을 하고 결과를 되돌려주는 작업 \\n# python에서 def 키워드를 이용해서 함수를 생성 \\ndef func_1():\\n    # 결과 되돌려준다\\n    return 'Hello'\\n\\ndef func_2():\\n    print('Hello')\",\n",
       "  '# 함수 호출 \\nfunc_1()',\n",
       "  'func_2()',\n",
       "  '# 함수 호출 \\nres_1 = func_1()',\n",
       "  'res_2 = func_2()',\n",
       "  'res_1',\n",
       "  'res_2',\n",
       "  \"# 매개변수가 존재하지 않는 함수에 입력값을 사용해서 호출  한다면?\\nfunc_1('a')\",\n",
       "  \"# 매개변수가 존재하지 않는 함수에 입력값을 사용해서 호출  한다면?\\n# 입력값을 저장할 수 있는 공간이 존재하지 않기때문에 에러가 발생\\n# func_1('a')\",\n",
       "  '# 매개변수가 존재하는 함수 생성 \\ndef func_3(a, b):\\n    c = a + b\\n    return c',\n",
       "  'func_3(10, 5)',\n",
       "  '# 매개변수가 2개인 함수를 호출하면서 인자를 1개만 입력하는 경우??\\nfunc_3(10)',\n",
       "  '# 매개변수가 2개인 함수를 호출하면서 인자를 1개만 입력하는 경우??\\n# 데이터가 입력되는 공간이 2개인데 데이터는 1개만 입력하면 \\n# 나머지 하나의 공간에 데이터가 없으므로 에러 \\n# func_3(10)',\n",
       "  \"# print() : 입력 데이터를 출력하는 기능\\nprint('a')\",\n",
       "  \"# print() : 입력 데이터를 출력하는 기능\\nprint('a', 'b', 'c')\",\n",
       "  \"# print() : 입력 데이터를 출력하는 기능\\nprint('a', 'b', 'c', '\\\\n')\",\n",
       "  \"# print() : 입력 데이터를 출력하는 기능\\nprint('a', 'b', 'c', sep ='\\\\n')\",\n",
       "  'def func_4(a, b = 5):\\n    # 매개변수는 2개 a, b\\n    #   a는 함수를 호출할때 필수 입력 공간 \\n    #   b는 선택 입력 공간 \\n    c = a ** b\\n    return c ',\n",
       "  'func_4(2)',\n",
       "  'func_4(2, 4)\\n# a = 2\\n# b = 5\\n# b = 4\\n# c = 2 ** 4\\n# 16 되돌려준다.',\n",
       "  '# 모든 영역에서 사용 할수 있는 변수의 목록 확인 \\nglobals()'],\n",
       " 'Out': {2: False,\n",
       "  3: 'APPLE',\n",
       "  6: True,\n",
       "  8: '  hello world  ',\n",
       "  9: '  hELLO WORLD  ',\n",
       "  10: '  Hello World  ',\n",
       "  11: False,\n",
       "  12: 'Hello world',\n",
       "  13: '  Hello world',\n",
       "  14: 'Hello world  ',\n",
       "  17: '$10.00$20.00',\n",
       "  21: '10.00',\n",
       "  22: 10.0,\n",
       "  23: 30.0,\n",
       "  25: '1,000',\n",
       "  29: '1000원',\n",
       "  30: '1,000',\n",
       "  31: '1000원',\n",
       "  32: '1000',\n",
       "  33: 1000,\n",
       "  35: False,\n",
       "  36: '상품A',\n",
       "  38: '상 품 A',\n",
       "  40: '상품A',\n",
       "  42: True,\n",
       "  43: ['a', 'b', 'c', 'd'],\n",
       "  44: ['a', 'b', 'c'],\n",
       "  47: 's',\n",
       "  48: 'select ',\n",
       "  49: 'select',\n",
       "  50: True,\n",
       "  51: False,\n",
       "  52: True,\n",
       "  53: '\\n    s',\n",
       "  54: 'select',\n",
       "  55: True,\n",
       "  56: ['select', '*', 'from', 'table'],\n",
       "  57: 'select',\n",
       "  58: True,\n",
       "  59: ['select', '*', 'from', 'table'],\n",
       "  60: 'select',\n",
       "  61: ['SELECT', '*', 'FROM', 'table'],\n",
       "  62: 'select',\n",
       "  63: True,\n",
       "  64: True,\n",
       "  65: False,\n",
       "  66: True,\n",
       "  67: False,\n",
       "  69: '/csv/a.csv',\n",
       "  70: True,\n",
       "  73: 'Hello',\n",
       "  77: 'Hello',\n",
       "  82: 15,\n",
       "  90: 32,\n",
       "  91: 16},\n",
       " 'get_ipython': <bound method InteractiveShell.get_ipython of <ipykernel.zmqshell.ZMQInteractiveShell object at 0x000001FD7B7DB7D0>>,\n",
       " 'exit': <IPython.core.autocall.ZMQExitAutocall at 0x1fd7b7f4590>,\n",
       " 'quit': <IPython.core.autocall.ZMQExitAutocall at 0x1fd7b7f4590>,\n",
       " 'open': <function io.open(file, mode='r', buffering=-1, encoding=None, errors=None, newline=None, closefd=True, opener=None)>,\n",
       " '_': 16,\n",
       " '__': 32,\n",
       " '___': 15,\n",
       " '__vsc_ipynb_file__': 'c:\\\\Users\\\\ekfla\\\\Documents\\\\GitHub\\\\multicam_2025\\\\250828\\\\01_function.ipynb',\n",
       " '_i': 'func_4(2, 4)\\n# a = 2\\n# b = 5\\n# b = 4\\n# c = 2 ** 4\\n# 16 되돌려준다.',\n",
       " '_ii': 'func_4(2)',\n",
       " '_iii': 'def func_4(a, b = 5):\\n    # 매개변수는 2개 a, b\\n    #   a는 함수를 호출할때 필수 입력 공간 \\n    #   b는 선택 입력 공간 \\n    c = a ** b\\n    return c ',\n",
       " '_i1': \"text_a = 'Apple'\\ntext_b = 'apple'\",\n",
       " 'text_a': 'APPLE',\n",
       " 'text_b': 'APPLE',\n",
       " '_i2': 'text_a == text_b',\n",
       " '_2': False,\n",
       " '_i3': '# text_a와 text_b를 비교했을때 같다 라는 결과를 만드려면 \\n# 두개의 데이터의 형태를 같게 만든다. \\ntext_a.upper()',\n",
       " '_3': 'APPLE',\n",
       " '_i4': '# text_a와 text_b를 비교했을때 같다 라는 결과를 만드려면 \\n# 두개의 데이터의 형태를 같게 만든다. \\ntext_a = text_a.upper()',\n",
       " '_i5': 'text_b = text_b.upper()',\n",
       " '_i6': 'text_a == text_b',\n",
       " '_6': True,\n",
       " '_i7': 'text_c = \"  Hello world  \"',\n",
       " 'text_c': '  Hello world  ',\n",
       " '_i8': '# lower()\\ntext_c.lower()',\n",
       " '_8': '  hello world  ',\n",
       " '_i9': '# swapcase()\\ntext_c.swapcase()',\n",
       " '_9': '  hELLO WORLD  ',\n",
       " '_i10': 'text_c.title()',\n",
       " '_10': '  Hello World  ',\n",
       " '_i11': '# 좌우의 공백하는 함수 \\ntext_c == \"Hello world\"',\n",
       " '_11': False,\n",
       " '_i12': 'text_c.strip()',\n",
       " '_12': 'Hello world',\n",
       " '_i13': 'text_c.rstrip()',\n",
       " '_13': '  Hello world',\n",
       " '_i14': 'text_c.lstrip()',\n",
       " '_14': 'Hello world  ',\n",
       " '_i15': 'print(text_c.lstrip())\\nprint(text_c.strip())',\n",
       " '_i16': \"# 문자열을 숫자형을 변환 \\n# 금액을 숫자로 변경하여 계산\\nprice_1 = '$10.00'\\nprice_2 = '$20.00'\",\n",
       " 'price_1': '$10.00',\n",
       " 'price_2': '$20.00',\n",
       " '_i17': 'price_1 + price_2',\n",
       " '_17': '$10.00$20.00',\n",
       " '_i18': 'int(price_1)',\n",
       " '_i19': 'float(price_1)',\n",
       " '_i20': \"# error : '$'를 숫자로 변경이 불가능하기 때문에\\n# float(price_1)\",\n",
       " '_i21': \"# '$' 제거하고 숫자로 변경 \\nprice_1.lstrip('$')\",\n",
       " '_21': '10.00',\n",
       " '_i22': \"# '$' 제거하고 숫자로 변경 \\nfloat(price_1.lstrip('$'))\",\n",
       " '_22': 10.0,\n",
       " '_i23': \"# '$' 제거하고 숫자로 변경 \\nfloat(price_1.lstrip('$')) + float(price_2.lstrip('$'))\",\n",
       " '_23': 30.0,\n",
       " '_i24': 'price_3 = \"1,000원\"\\nprice_4 = \\'3,000원\\'',\n",
       " 'price_3': '1,000원',\n",
       " 'price_4': '3,000원',\n",
       " '_i25': \"# 문자열 마지막의 '원' 문자를 제거 \\nprice_3.rstrip('원')\",\n",
       " '_25': '1,000',\n",
       " '_i26': \"# 문자열 마지막의 '원' 문자를 제거 \\nfloat(price_3.rstrip('원'))\",\n",
       " '_i27': \"# 문자열 마지막의 '원' 문자를 제거 \\nint(price_3.rstrip('원'))\",\n",
       " '_i28': \"# strip() 함수는 문자의 시작과 끝의 데이터를 제거하는 용도\\n# 문자열 사이에 있는 문자를 변경 x\\n# replace() : 특정문자를 치환 -> 문자를 변경, 문자를 제거\\n# replcae( '특정문자' ,  '변경문자' )\\nprice_3.replcae(',' , '')\",\n",
       " '_i29': \"# strip() 함수는 문자의 시작과 끝의 데이터를 제거하는 용도\\n# 문자열 사이에 있는 문자를 변경 x\\n# replace() : 특정문자를 치환 -> 문자를 변경, 문자를 제거\\n# replcae( '특정문자' ,  '변경문자' )\\nprice_3.replace(',' , '')\",\n",
       " '_29': '1000원',\n",
       " '_i30': \"# 문자열 마지막의 '원' 문자를 제거 \\nprice_3.rstrip('원')\",\n",
       " '_30': '1,000',\n",
       " '_i31': \"# strip() 함수는 문자의 시작과 끝의 데이터를 제거하는 용도\\n# 문자열 사이에 있는 문자를 변경 x\\n# replace() : 특정문자를 치환 -> 문자를 변경, 문자를 제거\\n# replcae( '특정문자' ,  '변경문자' )\\nprice_3.replace(',' , '')\",\n",
       " '_31': '1000원',\n",
       " '_i32': \"# strip() 함수는 문자의 시작과 끝의 데이터를 제거하는 용도\\n# 문자열 사이에 있는 문자를 변경 x\\n# replace() : 특정문자를 치환 -> 문자를 변경, 문자를 제거\\n# replcae( '특정문자' ,  '변경문자' )\\nprice_3.replace(',' , '').rstrip('원')\",\n",
       " '_32': '1000',\n",
       " '_i33': \"# strip() 함수는 문자의 시작과 끝의 데이터를 제거하는 용도\\n# 문자열 사이에 있는 문자를 변경 x\\n# replace() : 특정문자를 치환 -> 문자를 변경, 문자를 제거\\n# replcae( '특정문자' ,  '변경문자' )\\nint(price_3.replace(',' , '').rstrip('원'))\",\n",
       " '_33': 1000,\n",
       " '_i34': \"item_1 = '상품A'\\nitem_2 = '상품a'\\nitem_3 = '상 품 a'\",\n",
       " 'item_1': '상품A',\n",
       " 'item_2': '상품A',\n",
       " 'item_3': '상품A',\n",
       " '_i35': '(item_1 == item_2) and (item_2 == item_3)',\n",
       " '_35': False,\n",
       " '_i36': '# item_1을 기준으로 item_2, item_3 데이터를 변경 \\n# item_2에서는 소문자를 대문자로 변경 \\nitem_2.upper()',\n",
       " '_36': '상품A',\n",
       " '_i37': '# item_1을 기준으로 item_2, item_3 데이터를 변경 \\n# item_2에서는 소문자를 대문자로 변경 \\nitem_2 = item_2.upper()',\n",
       " '_i38': '# item_3는 문자열 사이에 존재하는 공백을 제거 -> 문자열을 대문자로 변경 \\nitem_3.upper()',\n",
       " '_38': '상 품 A',\n",
       " '_i39': '# item_3는 문자열 사이에 존재하는 공백을 제거 -> 문자열을 대문자로 변경 \\nitem_3 = item_3.upper()',\n",
       " '_i40': \"item_3.replace( ' ', '' )\",\n",
       " '_40': '상품A',\n",
       " '_i41': \"item_3 = item_3.replace( ' ', '' )\",\n",
       " '_i42': '(item_1 == item_2) and (item_2 == item_3)',\n",
       " '_42': True,\n",
       " '_i43': \"# 문자열을 나눠주는 함수 -> split()\\n# 공백을 기준으로 문자를 나눠주는 함수 \\n# 인자로 특정 문자를 입력하면 특정 문자로 문자를 나눠준다\\ntext_1 = 'a b c d'\\ntext_1.split()\",\n",
       " 'text_1': 'a b c d',\n",
       " '_43': ['a', 'b', 'c', 'd'],\n",
       " '_i44': \"text_2 = 'ammbmmc'\\ntext_2.split('mm')\",\n",
       " 'text_2': 'ammbmmc',\n",
       " '_44': ['a', 'b', 'c'],\n",
       " '_i45': '# sql query문 \\nquery_1 = \"select * from table\"\\nquery_2 = \"SELECT * FROM table\"\\nquery_3 = \"\"\"\\n    INSERT INTO \\n    table \\n    VALUES \\n    (\\'a\\')\\n\"\"\"',\n",
       " 'query_1': 'select * from table',\n",
       " 'query_2': 'SELECT * FROM table',\n",
       " 'query_3': \"\\n    INSERT INTO \\n    table \\n    VALUES \\n    ('a')\\n\",\n",
       " '_i46': '# sql query문 \\nquery_1 = \"select * from table\"\\nquery_2 = \"SELECT * FROM table\"\\nquery_3 = \"\"\"\\n    INSERT INTO \\n    table \\n    VALUES \\n    (\\'a\\')\\n\"\"\"\\nquery_4 = \"\"\"\\n    select \\n    * \\n    from \\n    table\\n\"\"\"',\n",
       " 'query_4': '\\n    select \\n    * \\n    from \\n    table\\n',\n",
       " '_i47': \"# query가 select문인가??\\nfind_word = 'select'\\n\\nquery_1[0]\",\n",
       " 'find_word': 'select',\n",
       " '_47': 's',\n",
       " '_i48': \"# query가 select문인가??\\nfind_word = 'select'\\n\\nquery_1[ 0 : len(find_word)+1 ]\",\n",
       " '_48': 'select ',\n",
       " '_i49': \"# query가 select문인가??\\nfind_word = 'select'\\n\\nquery_1[ 0 : len(find_word) ]\",\n",
       " '_49': 'select',\n",
       " '_i50': \"# query가 select문인가??\\nfind_word = 'select'\\n\\nquery_1[ 0 : len(find_word) ] == find_word\",\n",
       " '_50': True,\n",
       " '_i51': 'query_2[ : len(find_word)] == find_word',\n",
       " '_51': False,\n",
       " '_i52': 'query_2[ : len(find_word)].lower() == find_word',\n",
       " '_52': True,\n",
       " '_i53': 'query_4[ : len(find_word) ]',\n",
       " '_53': '\\n    s',\n",
       " '_i54': 'query_4.lstrip()[ : len(find_word) ]',\n",
       " '_54': 'select',\n",
       " '_i55': 'query_4.lstrip()[ : len(find_word) ] == find_word',\n",
       " '_55': True,\n",
       " '_i56': 'query_1.split()',\n",
       " '_56': ['select', '*', 'from', 'table'],\n",
       " '_i57': 'query_1.split()[0]',\n",
       " '_57': 'select',\n",
       " '_i58': 'query_1.split()[0] == find_word',\n",
       " '_58': True,\n",
       " '_i59': 'query_4.split()',\n",
       " '_59': ['select', '*', 'from', 'table'],\n",
       " '_i60': 'query_4.split()[0]',\n",
       " '_60': 'select',\n",
       " '_i61': 'query_2.split()',\n",
       " '_61': ['SELECT', '*', 'FROM', 'table'],\n",
       " '_i62': 'query_2.split()[0].lower()',\n",
       " '_62': 'select',\n",
       " '_i63': 'query_1.startswith(find_word)',\n",
       " '_63': True,\n",
       " '_i64': 'query_2.lower().startswith(find_word)',\n",
       " '_64': True,\n",
       " '_i65': 'query_4.startswith(find_word)',\n",
       " '_65': False,\n",
       " '_i66': 'query_4.lstrip().startswith(find_word)',\n",
       " '_66': True,\n",
       " '_i67': 'query_3.lstrip().startswith(find_word)',\n",
       " '_67': False,\n",
       " '_i68': 'file_list = [\\n    \"/csv/a.csv\", \\n    \"/csv/b.txt\", \\n    \"/csv/c.csv\", \\n    \"/csv/d.json\"\\n]',\n",
       " 'file_list': ['/csv/a.csv', '/csv/b.txt', '/csv/c.csv', '/csv/d.json'],\n",
       " '_i69': '# file_list에서 확장자가 csv인 목록만 출력하자\\nfile_list[0]',\n",
       " '_69': '/csv/a.csv',\n",
       " '_i70': \"# file_list에서 확장자가 csv인 목록만 출력하자\\nfile_list[0].endswith('csv')\",\n",
       " '_70': True,\n",
       " '_i71': \"# 반복문을 이용하여 file_list에서 csv 확장인 파일만 새로운 목록을 만든다.\\n# 비어있는 리스트를 생성 \\ncsv_list = []\\n\\n# for문 list의 원소를 확인 \\nfor i in range(len(file_list)):\\n    # i에 들어오는 데이터의 의미 : index\\n    # file_list에 i번째 항목이 csv로 끝나는가?\\n    if file_list[i].endswith('csv'):\\n        # 확장자가 csv인 경우 실행되는 부분 \\n        csv_list.append(file_list[i])\\nprint(csv_list)\\n# for i in file_list:\\n    # i에 들어오는 데이터의 의미 : file_list의 원소\",\n",
       " 'csv_list': ['/csv/a.csv', '/csv/c.csv'],\n",
       " 'i': 3,\n",
       " '_i72': \"# 함수 \\n# 특정한 행동을 코드로 표현하고 이름 붙이는 작업\\n# 특정 입력값을 통해서 연산을 하고 결과를 되돌려주는 작업 \\n# python에서 def 키워드를 이용해서 함수를 생성 \\ndef func_1():\\n    # 결과 되돌려준다\\n    return 'Hello'\\n\\ndef func_2():\\n    print('Hello')\",\n",
       " 'func_1': <function __main__.func_1()>,\n",
       " 'func_2': <function __main__.func_2()>,\n",
       " '_i73': '# 함수 호출 \\nfunc_1()',\n",
       " '_73': 'Hello',\n",
       " '_i74': 'func_2()',\n",
       " '_i75': '# 함수 호출 \\nres_1 = func_1()',\n",
       " 'res_1': 'Hello',\n",
       " '_i76': 'res_2 = func_2()',\n",
       " 'res_2': None,\n",
       " '_i77': 'res_1',\n",
       " '_77': 'Hello',\n",
       " '_i78': 'res_2',\n",
       " '_i79': \"# 매개변수가 존재하지 않는 함수에 입력값을 사용해서 호출  한다면?\\nfunc_1('a')\",\n",
       " '_i80': \"# 매개변수가 존재하지 않는 함수에 입력값을 사용해서 호출  한다면?\\n# 입력값을 저장할 수 있는 공간이 존재하지 않기때문에 에러가 발생\\n# func_1('a')\",\n",
       " '_i81': '# 매개변수가 존재하는 함수 생성 \\ndef func_3(a, b):\\n    c = a + b\\n    return c',\n",
       " 'func_3': <function __main__.func_3(a, b)>,\n",
       " '_i82': 'func_3(10, 5)',\n",
       " '_82': 15,\n",
       " '_i83': '# 매개변수가 2개인 함수를 호출하면서 인자를 1개만 입력하는 경우??\\nfunc_3(10)',\n",
       " '_i84': '# 매개변수가 2개인 함수를 호출하면서 인자를 1개만 입력하는 경우??\\n# 데이터가 입력되는 공간이 2개인데 데이터는 1개만 입력하면 \\n# 나머지 하나의 공간에 데이터가 없으므로 에러 \\n# func_3(10)',\n",
       " '_i85': \"# print() : 입력 데이터를 출력하는 기능\\nprint('a')\",\n",
       " '_i86': \"# print() : 입력 데이터를 출력하는 기능\\nprint('a', 'b', 'c')\",\n",
       " '_i87': \"# print() : 입력 데이터를 출력하는 기능\\nprint('a', 'b', 'c', '\\\\n')\",\n",
       " '_i88': \"# print() : 입력 데이터를 출력하는 기능\\nprint('a', 'b', 'c', sep ='\\\\n')\",\n",
       " '_i89': 'def func_4(a, b = 5):\\n    # 매개변수는 2개 a, b\\n    #   a는 함수를 호출할때 필수 입력 공간 \\n    #   b는 선택 입력 공간 \\n    c = a ** b\\n    return c ',\n",
       " 'func_4': <function __main__.func_4(a, b=5)>,\n",
       " '_i90': 'func_4(2)',\n",
       " '_90': 32,\n",
       " '_i91': 'func_4(2, 4)\\n# a = 2\\n# b = 5\\n# b = 4\\n# c = 2 ** 4\\n# 16 되돌려준다.',\n",
       " '_91': 16,\n",
       " '_i92': '# 모든 영역에서 사용 할수 있는 변수의 목록 확인 \\nglobals()'}"
      ]
     },
     "execution_count": 92,
     "metadata": {},
     "output_type": "execute_result"
    }
   ],
   "source": [
    "# 모든 영역에서 사용 할수 있는 변수의 목록 확인 \n",
    "globals()"
   ]
  },
  {
   "cell_type": "code",
   "execution_count": 93,
   "id": "464883d1",
   "metadata": {},
   "outputs": [
    {
     "data": {
      "text/plain": [
       "'APPLE'"
      ]
     },
     "execution_count": 93,
     "metadata": {},
     "output_type": "execute_result"
    }
   ],
   "source": [
    "text_a"
   ]
  },
  {
   "cell_type": "code",
   "execution_count": 94,
   "id": "23b6758e",
   "metadata": {},
   "outputs": [
    {
     "data": {
      "text/plain": [
       "'APPLE'"
      ]
     },
     "execution_count": 94,
     "metadata": {},
     "output_type": "execute_result"
    }
   ],
   "source": [
    "globals()['text_a']"
   ]
  },
  {
   "cell_type": "code",
   "execution_count": 97,
   "id": "7163bc39",
   "metadata": {},
   "outputs": [],
   "source": [
    "# 반복문을 이용해서 전역변수를 생성\n",
    "for i in range(3, 10, 2):\n",
    "    # globals() 함수를 이용하여 전역 변수 생성 \n",
    "    globals()[f'a{i}'] = i"
   ]
  },
  {
   "cell_type": "code",
   "execution_count": 98,
   "id": "9e9172dc",
   "metadata": {},
   "outputs": [
    {
     "data": {
      "text/plain": [
       "3"
      ]
     },
     "execution_count": 98,
     "metadata": {},
     "output_type": "execute_result"
    }
   ],
   "source": [
    "a3"
   ]
  },
  {
   "cell_type": "code",
   "execution_count": 99,
   "id": "eb68a572",
   "metadata": {},
   "outputs": [
    {
     "data": {
      "text/plain": [
       "5"
      ]
     },
     "execution_count": 99,
     "metadata": {},
     "output_type": "execute_result"
    }
   ],
   "source": [
    "a5"
   ]
  },
  {
   "cell_type": "code",
   "execution_count": 100,
   "id": "6f2482e6",
   "metadata": {},
   "outputs": [
    {
     "data": {
      "text/plain": [
       "7"
      ]
     },
     "execution_count": 100,
     "metadata": {},
     "output_type": "execute_result"
    }
   ],
   "source": [
    "a7"
   ]
  },
  {
   "cell_type": "code",
   "execution_count": 101,
   "id": "462ffbe1",
   "metadata": {},
   "outputs": [
    {
     "data": {
      "text/plain": [
       "9"
      ]
     },
     "execution_count": 101,
     "metadata": {},
     "output_type": "execute_result"
    }
   ],
   "source": [
    "a9"
   ]
  },
  {
   "cell_type": "code",
   "execution_count": 102,
   "id": "75db9cd5",
   "metadata": {},
   "outputs": [],
   "source": [
    "# 지역 변수 확인 \n",
    "def func_5(input_a, input_b):\n",
    "    func_res = input_a + input_b\n",
    "    return func_res\n",
    "\n",
    "res_3 = func_5(20, 1)"
   ]
  },
  {
   "cell_type": "code",
   "execution_count": 104,
   "id": "603c9bba",
   "metadata": {},
   "outputs": [
    {
     "name": "stdout",
     "output_type": "stream",
     "text": [
      "21\n"
     ]
    }
   ],
   "source": [
    "print(res_3)\n",
    "# func_res, input_a 지역 변수이므로 전역에서는 사용이 불가능\n",
    "# print(func_res)\n",
    "# print(input_a)"
   ]
  },
  {
   "cell_type": "code",
   "execution_count": 105,
   "id": "b1a38cde",
   "metadata": {},
   "outputs": [
    {
     "name": "stdout",
     "output_type": "stream",
     "text": [
      "10 10 10\n"
     ]
    }
   ],
   "source": [
    "# 변수 생성 \n",
    "a = b = c = 10\n",
    "print(a, b, c)"
   ]
  },
  {
   "cell_type": "code",
   "execution_count": 106,
   "id": "a5cc4a92",
   "metadata": {},
   "outputs": [
    {
     "name": "stdout",
     "output_type": "stream",
     "text": [
      "3 A True\n"
     ]
    }
   ],
   "source": [
    "d, e, f = 3, 'A', True\n",
    "print(d, e, f)"
   ]
  },
  {
   "cell_type": "code",
   "execution_count": 107,
   "id": "dbeb4a60",
   "metadata": {},
   "outputs": [],
   "source": [
    "# return data가 2개 이상인 경우\n",
    "def func_6(a, b):\n",
    "    c = a + b\n",
    "    d = a - b\n",
    "    return c, d"
   ]
  },
  {
   "cell_type": "code",
   "execution_count": 108,
   "id": "53c0ef92",
   "metadata": {},
   "outputs": [
    {
     "data": {
      "text/plain": [
       "(13, 7)"
      ]
     },
     "execution_count": 108,
     "metadata": {},
     "output_type": "execute_result"
    }
   ],
   "source": [
    "func_6(10, 3)"
   ]
  },
  {
   "cell_type": "code",
   "execution_count": 109,
   "id": "d4608bbe",
   "metadata": {},
   "outputs": [
    {
     "data": {
      "text/plain": [
       "(13, 7)"
      ]
     },
     "execution_count": 109,
     "metadata": {},
     "output_type": "execute_result"
    }
   ],
   "source": [
    "res_4 = func_6(10, 3)\n",
    "res_4"
   ]
  },
  {
   "cell_type": "code",
   "execution_count": 110,
   "id": "e1ada5e0",
   "metadata": {},
   "outputs": [],
   "source": [
    "res_5, res_6 = func_6(10, 3)"
   ]
  },
  {
   "cell_type": "code",
   "execution_count": 111,
   "id": "45a9b590",
   "metadata": {},
   "outputs": [
    {
     "name": "stdout",
     "output_type": "stream",
     "text": [
      "13\n",
      "7\n"
     ]
    }
   ],
   "source": [
    "print(res_5)\n",
    "print(res_6)"
   ]
  },
  {
   "cell_type": "code",
   "execution_count": null,
   "id": "55c9fe55",
   "metadata": {},
   "outputs": [],
   "source": [
    "# 인자의 개수가 가변 인 경우 \n",
    "def func_7( *args ):\n",
    "    # args의 타입??\n",
    "    print(type(args))\n",
    "    # 인자들의 누적 합 구해서 되돌려주는 기능 \n",
    "    # 합계 초기값 지정 \n",
    "    result = 0\n",
    "    # args의 원소의 개수만큼 반복 실행하는 반복문 생성 \n",
    "    for i in args:\n",
    "        # i는 args의 원소들이 각각 대입 \n",
    "        result += i\n",
    "    # return은 값을 되돌려주고 함수를 종료\n",
    "    return result"
   ]
  },
  {
   "cell_type": "code",
   "execution_count": 117,
   "id": "49eb43ef",
   "metadata": {},
   "outputs": [
    {
     "name": "stdout",
     "output_type": "stream",
     "text": [
      "<class 'tuple'>\n"
     ]
    },
    {
     "data": {
      "text/plain": [
       "15"
      ]
     },
     "execution_count": 117,
     "metadata": {},
     "output_type": "execute_result"
    }
   ],
   "source": [
    "func_7(1, 2, 3, 4, 5)"
   ]
  },
  {
   "cell_type": "code",
   "execution_count": 118,
   "id": "3092e4dc",
   "metadata": {},
   "outputs": [],
   "source": [
    "def func_8(args):\n",
    "    result = 0 \n",
    "    for i in args:\n",
    "        result += i\n",
    "    return result"
   ]
  },
  {
   "cell_type": "code",
   "execution_count": 119,
   "id": "6932e1b9",
   "metadata": {},
   "outputs": [
    {
     "data": {
      "text/plain": [
       "15"
      ]
     },
     "execution_count": 119,
     "metadata": {},
     "output_type": "execute_result"
    }
   ],
   "source": [
    "func_8([1, 2, 3, 4, 5])"
   ]
  },
  {
   "cell_type": "code",
   "execution_count": 121,
   "id": "8fd728d3",
   "metadata": {},
   "outputs": [
    {
     "name": "stdout",
     "output_type": "stream",
     "text": [
      "<class 'tuple'>\n"
     ]
    },
    {
     "data": {
      "text/plain": [
       "15"
      ]
     },
     "execution_count": 121,
     "metadata": {},
     "output_type": "execute_result"
    }
   ],
   "source": [
    "# func_7() 함수를 호출하는데 입력 데이터가 리스트 경우\n",
    "func_7(*[1,2,3,4,5])"
   ]
  },
  {
   "cell_type": "code",
   "execution_count": 123,
   "id": "6a6174bc",
   "metadata": {},
   "outputs": [],
   "source": [
    "# 인자의 개수가 가변인 매개변수와 개수가 1개인 매개변수가 존재하는 함수 \n",
    "def func_9(*args, data):\n",
    "    result = 0\n",
    "    # data가 1이라면 누적합을 되돌려주고\n",
    "    if data == 1:\n",
    "        result = 0\n",
    "        for i in args : \n",
    "            result += i   \n",
    "    # data가 0이라면 누적곱을 되돌려준다.\n",
    "    if data == 0:\n",
    "        result = 1\n",
    "        for i in args:\n",
    "            result *= i\n",
    "    return result "
   ]
  },
  {
   "cell_type": "code",
   "execution_count": 125,
   "id": "56a9867b",
   "metadata": {},
   "outputs": [
    {
     "data": {
      "text/plain": [
       "15"
      ]
     },
     "execution_count": 125,
     "metadata": {},
     "output_type": "execute_result"
    }
   ],
   "source": [
    "func_9(1,2,3,4,5, data = 1)"
   ]
  },
  {
   "cell_type": "code",
   "execution_count": 127,
   "id": "040ed4d9",
   "metadata": {},
   "outputs": [],
   "source": [
    "# 매개변수에 기본값이 설정이 되어있는 함수 \n",
    "def func_10(a, b = 2, c = 3):\n",
    "    # 매개변수는 3개 : a는 필수 입력 / b,c는 선택 입력\n",
    "    # 인자의 개수가 1개, 2개, 3개 모두 호출이 가능\n",
    "    result = (a + b) ** c\n",
    "    return result"
   ]
  },
  {
   "cell_type": "code",
   "execution_count": 128,
   "id": "0d2891f0",
   "metadata": {},
   "outputs": [
    {
     "name": "stdout",
     "output_type": "stream",
     "text": [
      "125\n",
      "216\n",
      "4\n"
     ]
    }
   ],
   "source": [
    "print(func_10(3))\n",
    "print(func_10(5, 1))\n",
    "print(func_10(3, 1, 1))"
   ]
  },
  {
   "cell_type": "code",
   "execution_count": 129,
   "id": "802159c7",
   "metadata": {},
   "outputs": [
    {
     "data": {
      "text/plain": [
       "25"
      ]
     },
     "execution_count": 129,
     "metadata": {},
     "output_type": "execute_result"
    }
   ],
   "source": [
    "# func_10에서 b 매개변수는 기본값을 사용하고 c의 매개변수에는 새로운 입력값 대입 \n",
    "func_10(3, c= 2)"
   ]
  },
  {
   "cell_type": "code",
   "execution_count": 131,
   "id": "1e01a928",
   "metadata": {},
   "outputs": [],
   "source": [
    "# 함수를 생성시 매개변수의 기본값을 설정하려면 \n",
    "# 가장 뒤의 매개변수 부터 기본값을 설정 \n",
    "# 중간의 매개변수에만 기본값을 설정하면 에러가 발생 \n",
    "# def func_11(a, b = 2, c):\n",
    "#     result = a + b + c\n",
    "#     return result "
   ]
  },
  {
   "cell_type": "markdown",
   "id": "1a304e99",
   "metadata": {},
   "source": [
    "### 연습 \n",
    "- 함수를 생성 \n",
    "    - 매개변수 2개\n",
    "        - _datas : 인자의 개수가 가변인 매개변수\n",
    "        - _type : 기본값이 설정 ('max')\n",
    "    - _type이 'max'라면 _datas 들 중 가장 큰 값을 되돌려준다. \n",
    "    - _type이 'min'이라면 _datas 들 중 가장 작은 값을 되돌려준다. \n",
    "    - _type이 'mean'이라면 _datas 들의 평균을 되돌려준다. \n",
    "    - 위에 3가지의 경우가 아니라면 \"_type이 맞지 않습니다\"를 되돌려준다."
   ]
  },
  {
   "cell_type": "code",
   "execution_count": 132,
   "id": "c381e699",
   "metadata": {},
   "outputs": [],
   "source": [
    "def func_11(*_datas, _type='max'):\n",
    "    # _type의 데이터가 어떤것인가?\n",
    "    if _type == 'max':\n",
    "        # _datas 들 중 가장 큰 값을 되돌려준다. \n",
    "        return max(_datas)\n",
    "    if _type == 'min':\n",
    "        return min(_datas)\n",
    "    if _type == 'mean':\n",
    "        return sum(_datas) / len(_datas)\n",
    "    return \"_type이 맞지 않습니다.\""
   ]
  },
  {
   "cell_type": "code",
   "execution_count": 133,
   "id": "9e1c1f37",
   "metadata": {},
   "outputs": [],
   "source": [
    "def func_12(*_datas, _type='max'):\n",
    "    if _type == 'max':\n",
    "        result = max(_datas)\n",
    "    elif _type == 'min':\n",
    "        result = min(_datas)\n",
    "    elif _type == 'mean':\n",
    "        result = sum(_datas) / len(_datas)\n",
    "    else:\n",
    "        result = '_type이 맞지 않습니다.'\n",
    "    return result"
   ]
  },
  {
   "cell_type": "code",
   "execution_count": 134,
   "id": "6ac3245f",
   "metadata": {},
   "outputs": [
    {
     "data": {
      "text/plain": [
       "5"
      ]
     },
     "execution_count": 134,
     "metadata": {},
     "output_type": "execute_result"
    }
   ],
   "source": [
    "func_11(1,2,3,4,5)"
   ]
  },
  {
   "cell_type": "code",
   "execution_count": 136,
   "id": "e94d003d",
   "metadata": {},
   "outputs": [
    {
     "data": {
      "text/plain": [
       "1"
      ]
     },
     "execution_count": 136,
     "metadata": {},
     "output_type": "execute_result"
    }
   ],
   "source": [
    "func_11(1,2,3,4,5, _type='min')"
   ]
  },
  {
   "cell_type": "code",
   "execution_count": 137,
   "id": "ef4edcb3",
   "metadata": {},
   "outputs": [
    {
     "data": {
      "text/plain": [
       "3.0"
      ]
     },
     "execution_count": 137,
     "metadata": {},
     "output_type": "execute_result"
    }
   ],
   "source": [
    "func_11(1,2,3,4,5, _type='mean')"
   ]
  },
  {
   "cell_type": "code",
   "execution_count": 138,
   "id": "f41e283b",
   "metadata": {},
   "outputs": [
    {
     "data": {
      "text/plain": [
       "3.0"
      ]
     },
     "execution_count": 138,
     "metadata": {},
     "output_type": "execute_result"
    }
   ],
   "source": [
    "func_12(1,2,3,4,5, _type='mean')"
   ]
  },
  {
   "cell_type": "code",
   "execution_count": 139,
   "id": "88a8c1bc",
   "metadata": {},
   "outputs": [
    {
     "data": {
      "text/plain": [
       "'_type이 맞지 않습니다.'"
      ]
     },
     "execution_count": 139,
     "metadata": {},
     "output_type": "execute_result"
    }
   ],
   "source": [
    "func_12(1,2,3,4,5, _type='sum')"
   ]
  },
  {
   "cell_type": "code",
   "execution_count": null,
   "id": "0e395823",
   "metadata": {},
   "outputs": [],
   "source": []
  }
 ],
 "metadata": {
  "kernelspec": {
   "display_name": "Python 3",
   "language": "python",
   "name": "python3"
  },
  "language_info": {
   "codemirror_mode": {
    "name": "ipython",
    "version": 3
   },
   "file_extension": ".py",
   "mimetype": "text/x-python",
   "name": "python",
   "nbconvert_exporter": "python",
   "pygments_lexer": "ipython3",
   "version": "3.11.9"
  }
 },
 "nbformat": 4,
 "nbformat_minor": 5
}
