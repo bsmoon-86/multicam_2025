{
 "cells": [
  {
   "cell_type": "markdown",
   "id": "a13f7f33",
   "metadata": {},
   "source": [
    "### class 선언 \n",
    "    - class 키워드를 이용해서 class를 선언 \n",
    "    - class의 이름은 일반적으로 단어의 첫글자를 대문자로 표기 \n",
    "### class 생성 \n",
    "    - 선언이 된 class를 특정 공간에 저장하는 과정(변수를 생성해서 class를 대입)\n",
    "    - 생성된 class 안에는 변수와 함수가 존재(같은 변수명을 사용해도 각각 저장)\n",
    "### class 내부의 변수, 함수를 호출\n",
    "    - class가 저장되어잇는 공간(변수명) + ~안에(.) + class에 존재하는 변수(변수명), 함수(함수명()) 호출"
   ]
  },
  {
   "cell_type": "code",
   "execution_count": 1,
   "id": "a01513b0",
   "metadata": {},
   "outputs": [],
   "source": [
    "# 가장 기본적인 class 선언\n",
    "class Class_1:\n",
    "    # 생성자 함수(초기화 함수)\n",
    "    # class 내부에 함수를 생성할때는 일반적으로 매개변수 self는 기본\n",
    "    # self : 자기 자신(생성되는 class 공간)\n",
    "    # __init__ 함수는 class가 생성이 될때 한번 실행이 되는 함수\n",
    "    # 따로 호출할 필요가 없음\n",
    "    def __init__(self, _a, _b):\n",
    "        # class 내부에서 사용할 변수들을 저장하는 기능\n",
    "        # self.a -> self(자기자신) + .(안에) + a(변수명) \n",
    "        self.a = _a\n",
    "        self.b = _b\n",
    "        # __init__ 함수를 class 내부에서 사용할 데이터를 저장하는 기능\n",
    "        # return 따로 만들지 않는다. \n",
    "    \n",
    "    def add_value(self):\n",
    "        result = self.a + self.b\n",
    "        return result\n",
    "\n",
    "    \n"
   ]
  },
  {
   "cell_type": "code",
   "execution_count": null,
   "id": "0653685c",
   "metadata": {},
   "outputs": [],
   "source": [
    "# class 생성 \n",
    "# Class_1을 생성 -> __init__ 함수 호출 \n",
    "# -> __init__ 함수를 매개변수 3개 -> 입력값 3개 \n",
    "# -> self에는 변수의 위치가 자동으로 입력 -> 인자는 2개를 입력\n",
    "test = Class_1(10, 7)"
   ]
  },
  {
   "cell_type": "code",
   "execution_count": 4,
   "id": "a303a509",
   "metadata": {},
   "outputs": [],
   "source": [
    "# 3번째 인자는 저장될수 있는 공간이 존재하지 않는다. -> 에러\n",
    "# test2 = Class_1(10, 7, 1)"
   ]
  },
  {
   "cell_type": "code",
   "execution_count": 5,
   "id": "13aa3089",
   "metadata": {},
   "outputs": [],
   "source": [
    "test2 = Class_1(20, 4)"
   ]
  },
  {
   "cell_type": "code",
   "execution_count": 6,
   "id": "861340da",
   "metadata": {},
   "outputs": [
    {
     "name": "stdout",
     "output_type": "stream",
     "text": [
      "10\n",
      "20\n"
     ]
    }
   ],
   "source": [
    "# class 내부에 있는 변수를 호출 \n",
    "# 생성이 된 클래스의 위치(변수명) + 안에(.) + 변수명\n",
    "print(test.a)\n",
    "print(test2.a)"
   ]
  },
  {
   "cell_type": "code",
   "execution_count": 7,
   "id": "453eb4ac",
   "metadata": {},
   "outputs": [
    {
     "data": {
      "text/plain": [
       "17"
      ]
     },
     "execution_count": 7,
     "metadata": {},
     "output_type": "execute_result"
    }
   ],
   "source": [
    "# class 내부에 있는 함수를 호출 \n",
    "# 생성이 된 클래스의 위치(변수명) + 안에(.) + 함수()\n",
    "# add_value() 함수를 호출 \n",
    "test.add_value()"
   ]
  },
  {
   "cell_type": "code",
   "execution_count": 8,
   "id": "2c2a90dd",
   "metadata": {},
   "outputs": [
    {
     "data": {
      "text/plain": [
       "24"
      ]
     },
     "execution_count": 8,
     "metadata": {},
     "output_type": "execute_result"
    }
   ],
   "source": [
    "test2.add_value()"
   ]
  },
  {
   "cell_type": "code",
   "execution_count": 12,
   "id": "5dfdbe7b",
   "metadata": {},
   "outputs": [],
   "source": [
    "# 계산기 class 선언 \n",
    "class Calculate:\n",
    "\n",
    "    # 생성자 함수 -> 두개의 숫자 데이터를 저장하기 위한 기능 \n",
    "    # 생성자 함수는 필수 X\n",
    "    def __init__(self, _a, _b):\n",
    "        self.a = _a\n",
    "        self.b = _b\n",
    "    \n",
    "    # 두개의 데이터를 더한 뒤 되돌려주는 함수 \n",
    "    def add(self):\n",
    "        result = self.a + self.b\n",
    "        return result\n",
    "    # 두개의 데이터를 뺀 뒤 되돌려주는 함수 \n",
    "    def sub(self):\n",
    "        result = self.a - self.b\n",
    "        return result\n",
    "    # 두개의 데이터를 곱한 뒤 되돌려주는 함수 \n",
    "    def multi(self):\n",
    "        result = self.a * self.b\n",
    "        return result\n",
    "    # 두개의 데이터를 나눈 뒤 되돌려주는 함수 \n",
    "    def dev(self):\n",
    "        result = self.a / self.b\n",
    "        return result"
   ]
  },
  {
   "cell_type": "code",
   "execution_count": 14,
   "id": "2c9d79df",
   "metadata": {},
   "outputs": [],
   "source": [
    "cal_1 = Calculate(20, 4)\n",
    "cal_2 = Calculate(5, 10)"
   ]
  },
  {
   "cell_type": "code",
   "execution_count": 15,
   "id": "714a70c3",
   "metadata": {},
   "outputs": [
    {
     "name": "stdout",
     "output_type": "stream",
     "text": [
      "24 16 80 5.0\n"
     ]
    }
   ],
   "source": [
    "print(cal_1.add(), cal_1.sub(), cal_1.multi(), cal_1.dev())"
   ]
  },
  {
   "cell_type": "code",
   "execution_count": 16,
   "id": "e91addb3",
   "metadata": {},
   "outputs": [
    {
     "name": "stdout",
     "output_type": "stream",
     "text": [
      "15 -5 50 0.5\n"
     ]
    }
   ],
   "source": [
    "print(cal_2.add(), cal_2.sub(), cal_2.multi(), cal_2.dev())"
   ]
  },
  {
   "cell_type": "code",
   "execution_count": null,
   "id": "16cc4c58",
   "metadata": {},
   "outputs": [],
   "source": [
    "# cal_1, cal_2 함수들을 호출할때 출력이 나오는 의미는 \n",
    "# class 내부의 데이터가 변경이 되지 않는다. "
   ]
  },
  {
   "cell_type": "code",
   "execution_count": 17,
   "id": "a524efab",
   "metadata": {},
   "outputs": [],
   "source": [
    "# class 내부의 변수에 데이터를 변경하는 class 선언 \n",
    "class Class_2:\n",
    "    def __init__(self, _a):\n",
    "        self.a = _a\n",
    "\n",
    "    # self.a의 연산(더하기)하는 하는 함수 -> 매개변수 2개 추가 \n",
    "    def func_1(self, _val, inplace = False):\n",
    "        # inplace가 True라면 -> self.a에 _val를 더하고 self.a를 변경 \n",
    "        if inplace:\n",
    "            # self.a = self.a + _val\n",
    "            self.a += _val\n",
    "        # inplace가 False라면 -> self.a에 _val를 더한 데이터를 되돌려준다.\n",
    "        else:\n",
    "            result = self.a + _val\n",
    "            return result"
   ]
  },
  {
   "cell_type": "code",
   "execution_count": 18,
   "id": "07289fea",
   "metadata": {},
   "outputs": [],
   "source": [
    "test3 = Class_2(10)"
   ]
  },
  {
   "cell_type": "code",
   "execution_count": 19,
   "id": "9fa199d2",
   "metadata": {},
   "outputs": [
    {
     "data": {
      "text/plain": [
       "15"
      ]
     },
     "execution_count": 19,
     "metadata": {},
     "output_type": "execute_result"
    }
   ],
   "source": [
    "# test3 내부에 잇는 func_1() 함수를 호출 \n",
    "# 해당 함수는 매개변수 3개 -> self(test3의 위치가 자동 입력), \n",
    "#                          _val(필수 입력)\n",
    "#                          inplace( 기본값이 False )\n",
    "test3.func_1(5)"
   ]
  },
  {
   "cell_type": "code",
   "execution_count": 20,
   "id": "4197507c",
   "metadata": {},
   "outputs": [
    {
     "data": {
      "text/plain": [
       "10"
      ]
     },
     "execution_count": 20,
     "metadata": {},
     "output_type": "execute_result"
    }
   ],
   "source": [
    "test3.a"
   ]
  },
  {
   "cell_type": "code",
   "execution_count": 21,
   "id": "9a51eb4d",
   "metadata": {},
   "outputs": [],
   "source": [
    "# func_1() 호출하는데 inplace를 True 변경 \n",
    "test3.func_1(5, inplace=True)"
   ]
  },
  {
   "cell_type": "code",
   "execution_count": 22,
   "id": "eda7a86a",
   "metadata": {},
   "outputs": [
    {
     "data": {
      "text/plain": [
       "15"
      ]
     },
     "execution_count": 22,
     "metadata": {},
     "output_type": "execute_result"
    }
   ],
   "source": [
    "test3.a"
   ]
  },
  {
   "cell_type": "code",
   "execution_count": 29,
   "id": "d33cb4f1",
   "metadata": {},
   "outputs": [],
   "source": [
    "# class 변수 \n",
    "# 같은 class를 생성하는 경우 서로 공유하는 변수 \n",
    "class Class_3:\n",
    "    # self 변수들의 생성위치 -> 함수 안에서 생성\n",
    "    # class 변수는 생성위치 함수 밖에서 생성\n",
    "    cnt = 0\n",
    "    users = []\n",
    "    # 유저를 등록하는 함수\n",
    "    def add_user(self, _name):\n",
    "        # 유저가 등록됨에 따라 cnt는 1씩 증가 \n",
    "        Class_3.cnt += 1\n",
    "        # 유저의 이름은 users에 추가\n",
    "        Class_3.users.append(_name) "
   ]
  },
  {
   "cell_type": "code",
   "execution_count": 30,
   "id": "43250b4a",
   "metadata": {},
   "outputs": [],
   "source": [
    "user1 = Class_3()\n",
    "user2 = Class_3()"
   ]
  },
  {
   "cell_type": "code",
   "execution_count": 31,
   "id": "233c54c9",
   "metadata": {},
   "outputs": [],
   "source": [
    "# user1에 add_user() 함수를 호출 \n",
    "user1.add_user('kim')"
   ]
  },
  {
   "cell_type": "code",
   "execution_count": 32,
   "id": "882a0192",
   "metadata": {},
   "outputs": [],
   "source": [
    "user2.add_user('park')"
   ]
  },
  {
   "cell_type": "code",
   "execution_count": 33,
   "id": "47b06be3",
   "metadata": {},
   "outputs": [
    {
     "name": "stdout",
     "output_type": "stream",
     "text": [
      "2 ['kim', 'park']\n",
      "2 ['kim', 'park']\n"
     ]
    }
   ],
   "source": [
    "print(user1.cnt, user1.users)\n",
    "print(user2.cnt, user2.users)"
   ]
  },
  {
   "cell_type": "code",
   "execution_count": null,
   "id": "7a14bb71",
   "metadata": {},
   "outputs": [],
   "source": []
  }
 ],
 "metadata": {
  "kernelspec": {
   "display_name": "Python 3",
   "language": "python",
   "name": "python3"
  },
  "language_info": {
   "codemirror_mode": {
    "name": "ipython",
    "version": 3
   },
   "file_extension": ".py",
   "mimetype": "text/x-python",
   "name": "python",
   "nbconvert_exporter": "python",
   "pygments_lexer": "ipython3",
   "version": "3.11.9"
  }
 },
 "nbformat": 4,
 "nbformat_minor": 5
}
