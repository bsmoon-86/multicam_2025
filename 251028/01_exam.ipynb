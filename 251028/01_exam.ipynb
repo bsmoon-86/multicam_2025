{
 "cells": [
  {
   "cell_type": "markdown",
   "id": "4cef65d5",
   "metadata": {},
   "source": [
    "#### 감정 분석 자연어 처리 \n",
    "1. data 폴더 안에 ratings_train.txt 파일을 로드 \n",
    "2. 데이터를 상위 500개 데이터만 추출\n",
    "3. 리뷰 데이터와 감정 데이터로 나눠준다. \n",
    "4. 리뷰 데이터를 토큰화(komoran함수 이용)\n",
    "5. Word2Vec 학습\n",
    "    - window -> 3\n",
    "    - epochs -> 5\n",
    "    - min_count -> 5\n",
    "    - sg -> 1\n",
    "    - seed -> 42\n",
    "6. 벡터화(Word2Vec, 단위 벡터의 평균)\n",
    "7. 분류 모델 ( SVC, Logistic )\n",
    "8. train, test을 이용하여 2개의 모델중 성능이 높은 모델이 무엇인가?\n",
    "9. 단위 백터의 평균의 성능과 단위 벡터 + 중요도 평균의 성능의 차이를 확인\n"
   ]
  },
  {
   "cell_type": "markdown",
   "id": "81aa55cc",
   "metadata": {},
   "source": []
  }
 ],
 "metadata": {
  "language_info": {
   "name": "python"
  }
 },
 "nbformat": 4,
 "nbformat_minor": 5
}
