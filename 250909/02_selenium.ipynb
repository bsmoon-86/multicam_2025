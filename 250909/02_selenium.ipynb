{
 "cells": [
  {
   "cell_type": "code",
   "execution_count": 2,
   "id": "e1a90e12",
   "metadata": {},
   "outputs": [],
   "source": [
    "# 라이브러리 설치 \n",
    "# !pip install selenium"
   ]
  },
  {
   "cell_type": "code",
   "execution_count": 3,
   "id": "a220d4ba",
   "metadata": {},
   "outputs": [],
   "source": [
    "from selenium import webdriver"
   ]
  },
  {
   "cell_type": "code",
   "execution_count": 4,
   "id": "2f60aa51",
   "metadata": {},
   "outputs": [],
   "source": [
    "# webdriver -> 웹 브라우져들의 모음 \n",
    "driver = webdriver.Chrome()"
   ]
  },
  {
   "cell_type": "code",
   "execution_count": 5,
   "id": "b0b17949",
   "metadata": {},
   "outputs": [],
   "source": [
    "# driver에 url주소를 입력하여 요청 보낸다. \n",
    "driver.get('http://www.naver.com')"
   ]
  },
  {
   "cell_type": "code",
   "execution_count": 6,
   "id": "0ee6b820",
   "metadata": {},
   "outputs": [],
   "source": [
    "# driver에서 html 문서를 불러온다. \n",
    "html_data = driver.page_source"
   ]
  },
  {
   "cell_type": "code",
   "execution_count": 7,
   "id": "acff05b8",
   "metadata": {},
   "outputs": [],
   "source": [
    "from bs4 import BeautifulSoup as bs"
   ]
  },
  {
   "cell_type": "code",
   "execution_count": 8,
   "id": "eda635ca",
   "metadata": {},
   "outputs": [],
   "source": [
    "soup = bs(html_data, 'html.parser')"
   ]
  },
  {
   "cell_type": "code",
   "execution_count": 9,
   "id": "32ff14af",
   "metadata": {},
   "outputs": [
    {
     "data": {
      "text/plain": [
       "159"
      ]
     },
     "execution_count": 9,
     "metadata": {},
     "output_type": "execute_result"
    }
   ],
   "source": [
    "len(soup.find_all('a'))"
   ]
  },
  {
   "cell_type": "code",
   "execution_count": 10,
   "id": "b76ab210",
   "metadata": {},
   "outputs": [],
   "source": [
    "# driver에서 특정 속성을 이용하여 태그에 \n",
    "# 접근하도록 새로운 기능 로드 \n",
    "from selenium.webdriver.common.by import By \n",
    "# 키보드의 이벤트(ENTER, Back Space, ...)들이 저장되어있는 기능을 로드 \n",
    "from selenium.webdriver.common.keys import Keys"
   ]
  },
  {
   "cell_type": "markdown",
   "id": "a39db6d8",
   "metadata": {},
   "source": [
    "- find_element()\n",
    "    - driver 안에 있는 태그중 조건에 맞는 첫번째 태그를 선택 \n",
    "    - BeautifulSoup의 find() 함수와 비슷\n",
    "- find_elements()\n",
    "    - driver 안에 있는 태그중 조건에 맞는 모든 태그를 선택 "
   ]
  },
  {
   "cell_type": "code",
   "execution_count": 11,
   "id": "6911f90c",
   "metadata": {},
   "outputs": [],
   "source": [
    "# 검색어창 태그를 선택 \n",
    "# id가 query인 태그 -> id 속성이기 때문에 해당 조건에 맞는 태그는 유일\n",
    "search_element = driver.find_element(By.ID, 'query')"
   ]
  },
  {
   "cell_type": "code",
   "execution_count": 13,
   "id": "a9decc8b",
   "metadata": {},
   "outputs": [],
   "source": [
    "# 검색어창에 텍스트 입력 \n",
    "search_element.send_keys('추석')"
   ]
  },
  {
   "cell_type": "code",
   "execution_count": 14,
   "id": "b4ca10c3",
   "metadata": {},
   "outputs": [],
   "source": [
    "# 검색어창에서 키보드 이벤트 ENTER 발생\n",
    "search_element.send_keys( Keys.ENTER )"
   ]
  },
  {
   "cell_type": "code",
   "execution_count": null,
   "id": "4458ea0d",
   "metadata": {},
   "outputs": [],
   "source": []
  }
 ],
 "metadata": {
  "kernelspec": {
   "display_name": "Python 3",
   "language": "python",
   "name": "python3"
  },
  "language_info": {
   "codemirror_mode": {
    "name": "ipython",
    "version": 3
   },
   "file_extension": ".py",
   "mimetype": "text/x-python",
   "name": "python",
   "nbconvert_exporter": "python",
   "pygments_lexer": "ipython3",
   "version": "3.11.9"
  }
 },
 "nbformat": 4,
 "nbformat_minor": 5
}
