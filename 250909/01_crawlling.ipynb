{
 "cells": [
  {
   "cell_type": "markdown",
   "id": "1b3304b2",
   "metadata": {},
   "source": [
    "### 웹 크롤링 \n",
    "- 라이브러리 \n",
    "    - requests\n",
    "        - 웹서버에 요청을 보내고 응답을 받는 기능 \n",
    "        - 응답 데이터는 문자나 바이트형로 들어온다. \n",
    "    - bs4\n",
    "        - BeautifulSoup Class 이용\n",
    "        - html로 이루어진 문자 데이터를 parsing 작업을 통해서 데이터 타입을 변경하여 데이터를 쉽게 추출하기 위한 기능\n",
    "        - html은 TAG(element)를 기준으로 하여 데이터 접근\n",
    "        - 웹의 기본 구조를 파악을 하고 사용을 하면 조금 더 쉽게 접근 가능\n",
    "    - selenium\n",
    "        - 웹 어플리케이션을 테스트하기 위한 라이브러리 \n",
    "        - 웹 브라우져를 python code를 이용하여 제어 \n",
    "            - 함수를 이용해서 특정 버튼을 클릭 \n",
    "            - 특정 위치에 데이터를 대입 \n",
    "        - 구글 크롬의 버전이 구버전인 경우에는 별도의 소프트웨어 설치가 필요"
   ]
  },
  {
   "cell_type": "code",
   "execution_count": 1,
   "id": "8bf5b1cb",
   "metadata": {},
   "outputs": [],
   "source": [
    "# 라이브러리 로드 \n",
    "import requests"
   ]
  },
  {
   "cell_type": "code",
   "execution_count": 2,
   "id": "08d782ac",
   "metadata": {},
   "outputs": [],
   "source": [
    "# requests 안에 get()함수를 이용하여 openapi에 요청을 보냈을때는 \n",
    "# data가 json, xml 형태로 들어온다. \n",
    "# 그러면 naver에 요청을 보내면 어떤 데이터가 들어올것인가?\n",
    "res = requests.get(\"http://www.naver.com\")"
   ]
  },
  {
   "cell_type": "code",
   "execution_count": 3,
   "id": "3f615f20",
   "metadata": {},
   "outputs": [
    {
     "data": {
      "text/plain": [
       "<Response [200]>"
      ]
     },
     "execution_count": 3,
     "metadata": {},
     "output_type": "execute_result"
    }
   ],
   "source": [
    "res"
   ]
  },
  {
   "cell_type": "code",
   "execution_count": 6,
   "id": "315c1d52",
   "metadata": {},
   "outputs": [],
   "source": [
    "# res에서 바이트형식으로 데이터를 받을때는 content\n",
    "# 문자열로 데이터를 확인할때는 text\n",
    "html_text = res.text"
   ]
  },
  {
   "cell_type": "code",
   "execution_count": 7,
   "id": "9d1cfdf4",
   "metadata": {},
   "outputs": [
    {
     "data": {
      "text/plain": [
       "378"
      ]
     },
     "execution_count": 7,
     "metadata": {},
     "output_type": "execute_result"
    }
   ],
   "source": [
    "# html_text에서 네이버 글자를 찾아본다. \n",
    "html_text.find('네이버')"
   ]
  },
  {
   "cell_type": "code",
   "execution_count": 12,
   "id": "08ac5982",
   "metadata": {},
   "outputs": [
    {
     "data": {
      "text/plain": [
       "'네이버 메인에서 다양한 정보와 유용한 컨텐츠를 만나 보세요'"
      ]
     },
     "execution_count": 12,
     "metadata": {},
     "output_type": "execute_result"
    }
   ],
   "source": [
    "html_text[ 378:410 ]"
   ]
  },
  {
   "cell_type": "code",
   "execution_count": 14,
   "id": "fc6487cd",
   "metadata": {},
   "outputs": [],
   "source": [
    "# html 문서가 문자열로 이루어져있을때는 데이터를 추출하기가 어렵다. \n",
    "# 별도의 라이브러리 설치 \n",
    "# !pip install bs4"
   ]
  },
  {
   "cell_type": "code",
   "execution_count": 15,
   "id": "1c66118c",
   "metadata": {},
   "outputs": [],
   "source": [
    "# 라이브러리 로드 \n",
    "from bs4 import BeautifulSoup as bs"
   ]
  },
  {
   "cell_type": "code",
   "execution_count": null,
   "id": "2fdf6411",
   "metadata": {},
   "outputs": [],
   "source": [
    "# BeautifulSoup class 생성 -> class 안에 데이터를 대입 \n",
    "# class 안의 데이터를 이용하여 추가적인 작업 \n",
    "# 해당 class를 생성 할때 생성자 함수 2개의 인자 필요\n",
    "# 첫번째 인자 : 문자열로 이루어진 html\n",
    "# 두번째 인자 : 첫번째 인자의 따라 변경 ( html 문서를 변환 : html.parser )"
   ]
  }
 ],
 "metadata": {
  "kernelspec": {
   "display_name": "Python 3",
   "language": "python",
   "name": "python3"
  },
  "language_info": {
   "codemirror_mode": {
    "name": "ipython",
    "version": 3
   },
   "file_extension": ".py",
   "mimetype": "text/x-python",
   "name": "python",
   "nbconvert_exporter": "python",
   "pygments_lexer": "ipython3",
   "version": "3.11.9"
  }
 },
 "nbformat": 4,
 "nbformat_minor": 5
}
