{
 "cells": [
  {
   "cell_type": "markdown",
   "id": "2ebcbffb",
   "metadata": {},
   "source": [
    "- DB서버의 정보\n",
    "    - 주소\n",
    "    - port\n",
    "    - user명\n",
    "    - 비밀번호\n",
    "    - 데이터베이스명\n",
    "- 서버의 정보들은 외부에 노출이 되면 보안적으로 문제 발생할 수 있다. \n",
    "    - 서버의 정보와 같이 외부의 노출이 되는 데이터는 dotenv를 이용하여 데이터를 숨겨서 사용 ( 환경 변수 사용 )"
   ]
  },
  {
   "cell_type": "code",
   "execution_count": 2,
   "id": "6ba473c1",
   "metadata": {},
   "outputs": [],
   "source": [
    "# dotenv 라이브러리 설치 \n",
    "# !pip install python-dotenv"
   ]
  },
  {
   "cell_type": "code",
   "execution_count": 3,
   "id": "8a1cf39b",
   "metadata": {},
   "outputs": [],
   "source": [
    "import pandas as pd \n",
    "import pymysql \n",
    "import os \n",
    "from dotenv import load_dotenv"
   ]
  },
  {
   "cell_type": "code",
   "execution_count": 4,
   "id": "50120a2a",
   "metadata": {},
   "outputs": [
    {
     "data": {
      "text/plain": [
       "True"
      ]
     },
     "execution_count": 4,
     "metadata": {},
     "output_type": "execute_result"
    }
   ],
   "source": [
    "# .env 파일을 환경 변수에 등록한다. \n",
    "load_dotenv()"
   ]
  },
  {
   "cell_type": "code",
   "execution_count": 6,
   "id": "bad26c43",
   "metadata": {},
   "outputs": [
    {
     "data": {
      "text/plain": [
       "'3306'"
      ]
     },
     "execution_count": 6,
     "metadata": {},
     "output_type": "execute_result"
    }
   ],
   "source": [
    "# 등록된 환경 변수에 접근 \n",
    "# 획득하다(get) + 환경변수(env)\n",
    "# getenv( {변수명} ) -> return data의 type이 str\n",
    "os.getenv('port')"
   ]
  },
  {
   "cell_type": "code",
   "execution_count": 7,
   "id": "c6755364",
   "metadata": {},
   "outputs": [],
   "source": [
    "# DB 서버와의 연결 \n",
    "# mac 사용자는 터미널에서 brew services start mysql\n",
    "_db = pymysql.connect(\n",
    "    host = os.getenv('host'), \n",
    "    port = int(os.getenv('port')), \n",
    "    user = os.getenv('user'), \n",
    "    password = os.getenv('pw'), \n",
    "    db = os.getenv('db_name')\n",
    ") "
   ]
  },
  {
   "cell_type": "code",
   "execution_count": 8,
   "id": "83b4c76f",
   "metadata": {},
   "outputs": [],
   "source": [
    "# 가상 공간 cursor 생성 ( 연결된 데이터베이스로부터 생성 )\n",
    "cursor = _db.cursor( pymysql.cursors.DictCursor )"
   ]
  },
  {
   "cell_type": "code",
   "execution_count": 12,
   "id": "04ec0403",
   "metadata": {},
   "outputs": [
    {
     "data": {
      "text/plain": [
       "0"
      ]
     },
     "execution_count": 12,
     "metadata": {},
     "output_type": "execute_result"
    }
   ],
   "source": [
    "create_user_query = \"\"\"\n",
    "    CREATE TABLE if not exists `user_info`\n",
    "    (\n",
    "        `id` varchar(35) primary key, \n",
    "        `password` varchar(45) not null, \n",
    "        `name` varchar(45), \n",
    "        `birth` varchar(10) \n",
    "    )\n",
    "\"\"\"\n",
    "cursor.execute(create_user_query)"
   ]
  },
  {
   "cell_type": "code",
   "execution_count": null,
   "id": "894fd279",
   "metadata": {},
   "outputs": [
    {
     "data": {
      "text/plain": [
       "1"
      ]
     },
     "execution_count": 13,
     "metadata": {},
     "output_type": "execute_result"
    }
   ],
   "source": [
    "# query문 안에 유저가 입력한 데이터를 대입하여 query 실행 \n",
    "# 회원 가입을 설정 \n",
    "# 입력 데이터가 4개 id, password, name, birth\n",
    "input_id = input('id를 입력하시오')\n",
    "input_pass = input('password를 입력하시오')\n",
    "input_name = input('name을 입력하시오')\n",
    "input_birth = input('birth를 입력하시오')\n",
    "\n",
    "# 회원 정보를 저장하는 query 생성 \n",
    "signup_query = \"\"\"\n",
    "    insert into \n",
    "    `user_info`\n",
    "    values \n",
    "    ( %s, %s, %s, %s )\n",
    "\"\"\"\n",
    "\n",
    "# signup_query와 데이터를 이용하여 execute() 사용\n",
    "cursor.execute( signup_query, \n",
    "               [input_id, input_pass, input_name, input_birth] )"
   ]
  },
  {
   "cell_type": "markdown",
   "id": "fd52c5fc",
   "metadata": {},
   "source": [
    "- CUD(insert, update, delete)\n",
    "    - query 작성\n",
    "        - 데이터가 존재한다면 데이터들을 리스트나 튜플의 형태로 생성 \n",
    "    - execute() 함수를 이용하여 cursor에 질의를 보낸다. \n",
    "        - cursor에 존재하는 table의 data가 변화\n",
    "    - DB server와 cursor를 동기화 (.commit())\n",
    "    - DB server와의 연결을 종료 \n",
    "- R(select)\n",
    "    - query 작성 \n",
    "        - 데이터가 존재한다면 데이터들을 리스트나 튜플의 형태로 생성 \n",
    "    - execute() 함수를 이용하여 cursor에 질의를 보낸다. \n",
    "        - cursor에 존재하는 table의 data의 변화 X\n",
    "    - execute() 함수의 결과를 불러와서 변수에 저장 (fetchall()) \n",
    "    - DB server와의 연결을 종료"
   ]
  },
  {
   "cell_type": "code",
   "execution_count": 15,
   "id": "c30937de",
   "metadata": {},
   "outputs": [],
   "source": [
    "# query문이 select문인가?\n",
    "test_qeury = \"\"\"\n",
    "    SELECT \n",
    "    * \n",
    "    from \n",
    "    `table`\n",
    "\"\"\""
   ]
  },
  {
   "cell_type": "code",
   "execution_count": 22,
   "id": "4f2e5fa6",
   "metadata": {},
   "outputs": [
    {
     "data": {
      "text/plain": [
       "True"
      ]
     },
     "execution_count": 22,
     "metadata": {},
     "output_type": "execute_result"
    }
   ],
   "source": [
    "# query문이 select 인가?\n",
    "# 좌우의 공백을 제거(strip()) -> 위치를 이용해서 문자를 나눠준다. -> \n",
    "# 문자열을 대문자, 소문자 변환 -> 비교\n",
    "text_data = 'select'\n",
    "test_qeury.strip().lower()[ : len(text_data) ] == text_data"
   ]
  },
  {
   "cell_type": "code",
   "execution_count": 26,
   "id": "32624f3a",
   "metadata": {},
   "outputs": [
    {
     "data": {
      "text/plain": [
       "True"
      ]
     },
     "execution_count": 26,
     "metadata": {},
     "output_type": "execute_result"
    }
   ],
   "source": [
    "# 문자를 소문자 변환(lower()) -> \n",
    "# 공백을 기준으로 데이터를 나눠준다. ( split() ) ->\n",
    "# 첫번째 원소[0]를 선택 -> 비교\n",
    "test_qeury.lower().split()[0] == text_data"
   ]
  },
  {
   "cell_type": "code",
   "execution_count": 27,
   "id": "bb78d9e0",
   "metadata": {},
   "outputs": [
    {
     "data": {
      "text/plain": [
       "True"
      ]
     },
     "execution_count": 27,
     "metadata": {},
     "output_type": "execute_result"
    }
   ],
   "source": [
    "# 문자를 소문자 변환(lower()) ->\n",
    "# 좌우의 공백을 제거(strip()) ->\n",
    "# 시작하는 문자가 text_data와 같은가? 함수를 호출(startswith())\n",
    "test_qeury.lower().strip().startswith(text_data)"
   ]
  },
  {
   "cell_type": "code",
   "execution_count": 30,
   "id": "643807ca",
   "metadata": {},
   "outputs": [],
   "source": [
    "# CRUD query를 모두 사용할 수 있는 함수를 생성 \n",
    "# 매개변수 2개 -> query문, query에 대입이 되는 데이터들(가변)\n",
    "def sql_qeury(\n",
    "        _query, *_data_list\n",
    "):\n",
    "    # query문을 실행을 시도한다. \n",
    "    try:\n",
    "        # cursor에 질의 보낸다. \n",
    "        cursor.execute(_query, _data_list)\n",
    "    # execute()함수가 에러가 발생한다면\n",
    "    except Exception as e:\n",
    "        print(e)\n",
    "        # 함수를 강제로 종료하면서 메시지 되돌려준다. \n",
    "        return \"Query Error\"\n",
    "    # _query는 sql query문이 문자로 입력이되는 부분 \n",
    "    # _query가 select문인가?\n",
    "    if _query.lower().strip().startswith('select'):\n",
    "        # select문에 대한 결과를 불러온다. \n",
    "        result = cursor.fetchall()\n",
    "    else:\n",
    "        result = 'Query OK'\n",
    "    return result"
   ]
  },
  {
   "cell_type": "code",
   "execution_count": 32,
   "id": "ef782406",
   "metadata": {},
   "outputs": [
    {
     "data": {
      "text/plain": [
       "[{'id': 'test', 'password': '1234', 'name': 'kim', 'birth': '900101'},\n",
       " {'id': 'test1234', 'password': '0000', 'name': 'kim', 'birth': '900101'},\n",
       " {'id': 'test2', 'password': '1234', 'name': 'park', 'birth': '000101'}]"
      ]
     },
     "execution_count": 32,
     "metadata": {},
     "output_type": "execute_result"
    }
   ],
   "source": [
    "test_query = \"\"\"\n",
    "    select \n",
    "    * \n",
    "    from \n",
    "    `user_info`\n",
    "\"\"\"\n",
    "sql_qeury(test_query)"
   ]
  },
  {
   "cell_type": "code",
   "execution_count": 36,
   "id": "5a389e04",
   "metadata": {},
   "outputs": [],
   "source": [
    "# 로그인 과정 \n",
    "# 유저가 입력한 id, password를 이용해서 데이터베이스에 데이터가 존재하는가?\n",
    "input_id = input(\"id 입력하시오\")\n",
    "input_pass = input('password 입력하시오')\n",
    "\n",
    "login_query = \"\"\"\n",
    "    select * from \n",
    "    `user_info`\n",
    "    where \n",
    "    `id` = %s \n",
    "    and\n",
    "    `password` = %s\n",
    "\"\"\"\n",
    "\n",
    "login_result = sql_qeury(login_query, input_id, input_pass)"
   ]
  },
  {
   "cell_type": "code",
   "execution_count": 37,
   "id": "a5e14aae",
   "metadata": {},
   "outputs": [
    {
     "name": "stdout",
     "output_type": "stream",
     "text": [
      "로그인 실패\n"
     ]
    }
   ],
   "source": [
    "if login_result:\n",
    "    # login_result에 데이터가 존재한다면 -> 길이가 1이 아닌\n",
    "    print('로그인 성공')\n",
    "else:\n",
    "    # login_result에 데이터가 존재하지 않는다면 -> 길이가 0인\n",
    "    print('로그인 실패')"
   ]
  },
  {
   "cell_type": "code",
   "execution_count": 38,
   "id": "66650933",
   "metadata": {},
   "outputs": [
    {
     "data": {
      "text/plain": [
       "'Query OK'"
      ]
     },
     "execution_count": 38,
     "metadata": {},
     "output_type": "execute_result"
    }
   ],
   "source": [
    "input_id = 'test0000'\n",
    "input_pass = '1234'\n",
    "input_name = 'park'\n",
    "input_birth = '000101'\n",
    "\n",
    "insert_query = \"\"\"\n",
    "    insert into \n",
    "    `user_info`\n",
    "    values \n",
    "    (%s, %s, %s, %s)\n",
    "\"\"\"\n",
    "\n",
    "sql_qeury(insert_query, input_id, input_pass, input_name, input_birth)"
   ]
  },
  {
   "cell_type": "code",
   "execution_count": 39,
   "id": "eece170d",
   "metadata": {},
   "outputs": [],
   "source": [
    "# 데이터베이스 서버와 cursor를 동기화 하고 서버와의 연결을 종료하는 함수 생성 \n",
    "def commit_db():\n",
    "    # cursor와 데이터베이스 서버와의 동기화\n",
    "    _db.commit()\n",
    "    print('Commit 완료')\n",
    "    # 데이터베이스 서버와의 연결을 종료 \n",
    "    _db.close()\n",
    "    print('서버와의 연결 종료')"
   ]
  },
  {
   "cell_type": "code",
   "execution_count": 40,
   "id": "3febe1f7",
   "metadata": {},
   "outputs": [
    {
     "name": "stdout",
     "output_type": "stream",
     "text": [
      "Commit 완료\n",
      "서버와의 연결 종료\n"
     ]
    }
   ],
   "source": [
    "commit_db()"
   ]
  },
  {
   "cell_type": "code",
   "execution_count": 97,
   "id": "5bcb2e18",
   "metadata": {},
   "outputs": [],
   "source": [
    "# 데이터베이스 서버와 연결하여 query문을 사용하고 서버와의 연결을 종료하는 class 생성\n",
    "\n",
    "# class 선언 \n",
    "class MyDB:\n",
    "    # 생성자 함수 \n",
    "    # class 내부에서 사용하려는 변수의 데이터를 대입하는 함수 \n",
    "    # class 생성 될때 한번만 실행이 되는 함수 \n",
    "    # 입력 받을 데이터는 데이터베이스 서버의 정보 -> 기본값 설정(로컬 피씨의 데이터베이스 정보)\n",
    "    def __init__(\n",
    "            self, \n",
    "            _host = '127.0.0.1', \n",
    "            _port = 3306, \n",
    "            _user = 'root', \n",
    "            _pw = '1234', \n",
    "            _db_name = 'multicam'\n",
    "    ):\n",
    "        # self.변수를 생성 \n",
    "        # class에서 사용할 서버의 정보를 변수에 저장 \n",
    "        self.host = _host\n",
    "        self.port = _port\n",
    "        self.user = _user\n",
    "        self.pw = _pw\n",
    "        self.db_name = _db_name\n",
    "    \n",
    "    # query문과 데이터를 입력받아서 데이터베이스 서버에 질의를 보내는 함수 \n",
    "    def sql_query(\n",
    "            self, \n",
    "            _query, \n",
    "            *_data_list\n",
    "    ):\n",
    "        # _query 매개변수는 기본값이 존재하지 않으므로 필수 입력 공간 \n",
    "        # _data_list는 인자의 개수를 가변으로 받는다. 개수가 0개면 ()을 생성\n",
    "\n",
    "        # 데이터베이스 서버와의 연결 ( _db 변수를 생성하여 연결 )\n",
    "        # pymysql.connet() 함수는 입력값이 서버의 정보 -> \n",
    "        # 서버의 정보는 self.host, self.port, self.user, self.pw, self.db_name 저장되어 있다. \n",
    "        # connect() 함수에 해당 데이터를 입력\n",
    "        try:\n",
    "            # self._db라는 변수를 확인\n",
    "            self._db\n",
    "            # 해당 변수가 선언이 되어있지 않다면 NameError 발생\n",
    "        except:\n",
    "            # self._db라는 변수가 존재하지 않을때 \n",
    "            self._db = pymysql.connect(\n",
    "                host = self.host, \n",
    "                port = self.port, \n",
    "                user = self.user, \n",
    "                password = self.pw, \n",
    "                db = self.db_name\n",
    "            )\n",
    "        # self._db를 이용하여 cursor를 생성 \n",
    "        # ( class 내부에 다른 함수에서 사용이 가능하도록 self.변수로 등록 )\n",
    "        self.cursor = self._db.cursor( pymysql.cursors.DictCursor )\n",
    "\n",
    "        # _query와 _data_list를 이용하여 self.cursor에 질의 보낸다. \n",
    "        # 질의를 보내는 과정에서 문제가 발생하면 예외 처리를 한다. \n",
    "        try : \n",
    "            self.cursor.execute( _query, _data_list )\n",
    "        except Exception as e:\n",
    "            print(e)\n",
    "            # query문에서 문제가 발생했으니 에러 메시지를 돌려주고 함수를 종료 \n",
    "            return 'Query Error'\n",
    "        # _query가 만약에 select 문이라면?\n",
    "        if _query.lower().strip().startswith('select'):\n",
    "            # query문이 select문인 경우\n",
    "            # self.cursor에서 결과물을 돌려받는다. \n",
    "            result = self.cursor.fetchall()\n",
    "        else:\n",
    "            # select문이 아닌 경우 \n",
    "            result = \"Query OK\"\n",
    "        return result\n",
    "    def db_commit(self):\n",
    "        try:\n",
    "            # self._db와 self.cursor를 동기화\n",
    "            self._db.commit()\n",
    "            print('commit 완료')\n",
    "            # 데이터베이스 서버와의 연결을 종료 \n",
    "            self._db.close()\n",
    "            print('서버와의 연결 종료')\n",
    "            # 변수를 삭제 \n",
    "            del self._db\n",
    "        except Exception as e:\n",
    "            print(e)\n",
    "            # self._db와 self.cursor가 생성되지 않은 상황 \n",
    "            print(\"\"\"데이터베이스 서버와의 연결이 없습니다. \n",
    "                  sql_query() 함수를 이용하여 서버와의 연결을 해주세요\"\"\")"
   ]
  },
  {
   "cell_type": "code",
   "execution_count": 98,
   "id": "88b61846",
   "metadata": {},
   "outputs": [],
   "source": [
    "# MyDB class 생성하는데 생성자 함수의 매개변수는 기본값으로 사용\n",
    "# 로컬 피씨에 있는 데이터베이스에 연결 \n",
    "db1 = MyDB()"
   ]
  },
  {
   "cell_type": "code",
   "execution_count": 99,
   "id": "116af239",
   "metadata": {},
   "outputs": [],
   "source": [
    "# 외부의 데이터베이스 연결 \n",
    "db2 = MyDB(\n",
    "    '192.168.50.40', \n",
    "    3306, \n",
    "    'test', \n",
    "    '1234', \n",
    "    'multicam'\n",
    ")"
   ]
  },
  {
   "cell_type": "code",
   "execution_count": 100,
   "id": "12bbc352",
   "metadata": {},
   "outputs": [],
   "source": [
    "select_query = \"\"\"\n",
    "    select \n",
    "    * \n",
    "    from \n",
    "    `user_info`\n",
    "\"\"\""
   ]
  },
  {
   "cell_type": "code",
   "execution_count": 101,
   "id": "cf727aa8",
   "metadata": {},
   "outputs": [
    {
     "data": {
      "text/plain": [
       "[{'id': 'test', 'password': '1234', 'name': 'kim', 'birth': '900101'},\n",
       " {'id': 'test0000', 'password': '1234', 'name': 'park', 'birth': '000101'},\n",
       " {'id': 'test1234', 'password': '0000', 'name': 'kim', 'birth': '900101'},\n",
       " {'id': 'test2', 'password': '0123', 'name': 'park', 'birth': '000101'}]"
      ]
     },
     "execution_count": 101,
     "metadata": {},
     "output_type": "execute_result"
    }
   ],
   "source": [
    "db1.sql_query(select_query)"
   ]
  },
  {
   "cell_type": "code",
   "execution_count": 102,
   "id": "5da70555",
   "metadata": {},
   "outputs": [
    {
     "data": {
      "text/plain": [
       "[{'id': 'test', 'password': '1234', 'name': 'kim', 'birth': '900101'},\n",
       " {'id': 'test0000', 'password': '1234', 'name': 'park', 'birth': '000101'},\n",
       " {'id': 'test1234', 'password': '0000', 'name': 'kim', 'birth': '900101'},\n",
       " {'id': 'test2', 'password': '0123', 'name': 'park', 'birth': '000101'}]"
      ]
     },
     "execution_count": 102,
     "metadata": {},
     "output_type": "execute_result"
    }
   ],
   "source": [
    "db2.sql_query(select_query)"
   ]
  },
  {
   "cell_type": "code",
   "execution_count": 103,
   "id": "1f469704",
   "metadata": {},
   "outputs": [],
   "source": [
    "update_query = \"\"\"\n",
    "    update \n",
    "    `user_info`\n",
    "    set \n",
    "    `password` = %s\n",
    "    where \n",
    "    `id` = %s\n",
    "\"\"\""
   ]
  },
  {
   "cell_type": "code",
   "execution_count": 104,
   "id": "b4943ab2",
   "metadata": {},
   "outputs": [
    {
     "data": {
      "text/plain": [
       "'Query OK'"
      ]
     },
     "execution_count": 104,
     "metadata": {},
     "output_type": "execute_result"
    }
   ],
   "source": [
    "db1.sql_query(update_query, \"0123\", \"test2\")"
   ]
  },
  {
   "cell_type": "code",
   "execution_count": 107,
   "id": "b531cdea",
   "metadata": {},
   "outputs": [
    {
     "data": {
      "text/plain": [
       "[{'id': 'test', 'password': '1234', 'name': 'kim', 'birth': '900101'},\n",
       " {'id': 'test0000', 'password': '1234', 'name': 'park', 'birth': '000101'},\n",
       " {'id': 'test1234', 'password': '0000', 'name': 'kim', 'birth': '900101'},\n",
       " {'id': 'test2', 'password': '0123', 'name': 'park', 'birth': '000101'}]"
      ]
     },
     "execution_count": 107,
     "metadata": {},
     "output_type": "execute_result"
    }
   ],
   "source": [
    "db1.sql_query(select_query)"
   ]
  },
  {
   "cell_type": "code",
   "execution_count": 106,
   "id": "875d71fd",
   "metadata": {},
   "outputs": [
    {
     "name": "stdout",
     "output_type": "stream",
     "text": [
      "commit 완료\n",
      "서버와의 연결 종료\n"
     ]
    }
   ],
   "source": [
    "db1.db_commit()"
   ]
  },
  {
   "cell_type": "code",
   "execution_count": 108,
   "id": "0855414b",
   "metadata": {},
   "outputs": [],
   "source": [
    "import database"
   ]
  },
  {
   "cell_type": "code",
   "execution_count": 109,
   "id": "f8278812",
   "metadata": {},
   "outputs": [],
   "source": [
    "# database 모듈 안에 있는 MyDB 생성\n",
    "mod_db = database.MyDB()"
   ]
  },
  {
   "cell_type": "code",
   "execution_count": 111,
   "id": "0de467ed",
   "metadata": {},
   "outputs": [],
   "source": [
    "# mod_db에 입력이 되는 데이터베이스 서버의 정보는? -> 로컬\n",
    "select_query2 = \"\"\"\n",
    "    select * from `user_info`\n",
    "\"\"\"\n",
    "db_data = mod_db.sql_query(select_query2)"
   ]
  },
  {
   "cell_type": "code",
   "execution_count": 112,
   "id": "19c766dc",
   "metadata": {},
   "outputs": [
    {
     "data": {
      "text/html": [
       "<div>\n",
       "<style scoped>\n",
       "    .dataframe tbody tr th:only-of-type {\n",
       "        vertical-align: middle;\n",
       "    }\n",
       "\n",
       "    .dataframe tbody tr th {\n",
       "        vertical-align: top;\n",
       "    }\n",
       "\n",
       "    .dataframe thead th {\n",
       "        text-align: right;\n",
       "    }\n",
       "</style>\n",
       "<table border=\"1\" class=\"dataframe\">\n",
       "  <thead>\n",
       "    <tr style=\"text-align: right;\">\n",
       "      <th></th>\n",
       "      <th>id</th>\n",
       "      <th>password</th>\n",
       "      <th>name</th>\n",
       "      <th>birth</th>\n",
       "    </tr>\n",
       "  </thead>\n",
       "  <tbody>\n",
       "    <tr>\n",
       "      <th>0</th>\n",
       "      <td>test</td>\n",
       "      <td>1234</td>\n",
       "      <td>kim</td>\n",
       "      <td>900101</td>\n",
       "    </tr>\n",
       "    <tr>\n",
       "      <th>1</th>\n",
       "      <td>test0000</td>\n",
       "      <td>1234</td>\n",
       "      <td>park</td>\n",
       "      <td>000101</td>\n",
       "    </tr>\n",
       "    <tr>\n",
       "      <th>2</th>\n",
       "      <td>test1234</td>\n",
       "      <td>0000</td>\n",
       "      <td>kim</td>\n",
       "      <td>900101</td>\n",
       "    </tr>\n",
       "    <tr>\n",
       "      <th>3</th>\n",
       "      <td>test2</td>\n",
       "      <td>0123</td>\n",
       "      <td>park</td>\n",
       "      <td>000101</td>\n",
       "    </tr>\n",
       "  </tbody>\n",
       "</table>\n",
       "</div>"
      ],
      "text/plain": [
       "         id password  name   birth\n",
       "0      test     1234   kim  900101\n",
       "1  test0000     1234  park  000101\n",
       "2  test1234     0000   kim  900101\n",
       "3     test2     0123  park  000101"
      ]
     },
     "execution_count": 112,
     "metadata": {},
     "output_type": "execute_result"
    }
   ],
   "source": [
    "pd.DataFrame(db_data)"
   ]
  },
  {
   "cell_type": "code",
   "execution_count": 113,
   "id": "ac1de6ce",
   "metadata": {},
   "outputs": [],
   "source": [
    "# database.py 파일을 python 환경변수에 이동\n",
    "\n",
    "# 환경 변수의 목록을 확인하기 위해 라이브러리 하나 호출 \n",
    "import sys"
   ]
  },
  {
   "cell_type": "code",
   "execution_count": 116,
   "id": "e5a87087",
   "metadata": {},
   "outputs": [
    {
     "data": {
      "text/plain": [
       "'C:/Users/ekfla/AppData/Roaming/Python/Python311/site-packages'"
      ]
     },
     "execution_count": 116,
     "metadata": {},
     "output_type": "execute_result"
    }
   ],
   "source": [
    "sys.path[5].replace('\\\\', '/')"
   ]
  },
  {
   "cell_type": "code",
   "execution_count": null,
   "id": "e229b1cd",
   "metadata": {},
   "outputs": [],
   "source": []
  }
 ],
 "metadata": {
  "kernelspec": {
   "display_name": "Python 3",
   "language": "python",
   "name": "python3"
  },
  "language_info": {
   "codemirror_mode": {
    "name": "ipython",
    "version": 3
   },
   "file_extension": ".py",
   "mimetype": "text/x-python",
   "name": "python",
   "nbconvert_exporter": "python",
   "pygments_lexer": "ipython3",
   "version": "3.11.9"
  }
 },
 "nbformat": 4,
 "nbformat_minor": 5
}
