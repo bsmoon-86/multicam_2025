{
 "cells": [
  {
   "cell_type": "markdown",
   "id": "2ebcbffb",
   "metadata": {},
   "source": [
    "- DB서버의 정보\n",
    "    - 주소\n",
    "    - port\n",
    "    - user명\n",
    "    - 비밀번호\n",
    "    - 데이터베이스명\n",
    "- 서버의 정보들은 외부에 노출이 되면 보안적으로 문제 발생할 수 있다. \n",
    "    - 서버의 정보와 같이 외부의 노출이 되는 데이터는 dotenv를 이용하여 데이터를 숨겨서 사용 ( 환경 변수 사용 )"
   ]
  },
  {
   "cell_type": "code",
   "execution_count": 2,
   "id": "6ba473c1",
   "metadata": {},
   "outputs": [],
   "source": [
    "# dotenv 라이브러리 설치 \n",
    "# !pip install python-dotenv"
   ]
  },
  {
   "cell_type": "code",
   "execution_count": 3,
   "id": "8a1cf39b",
   "metadata": {},
   "outputs": [],
   "source": [
    "import pandas as pd \n",
    "import pymysql \n",
    "import os \n",
    "from dotenv import load_dotenv"
   ]
  },
  {
   "cell_type": "code",
   "execution_count": 4,
   "id": "50120a2a",
   "metadata": {},
   "outputs": [
    {
     "data": {
      "text/plain": [
       "True"
      ]
     },
     "execution_count": 4,
     "metadata": {},
     "output_type": "execute_result"
    }
   ],
   "source": [
    "# .env 파일을 환경 변수에 등록한다. \n",
    "load_dotenv()"
   ]
  },
  {
   "cell_type": "code",
   "execution_count": 6,
   "id": "bad26c43",
   "metadata": {},
   "outputs": [
    {
     "data": {
      "text/plain": [
       "'3306'"
      ]
     },
     "execution_count": 6,
     "metadata": {},
     "output_type": "execute_result"
    }
   ],
   "source": [
    "# 등록된 환경 변수에 접근 \n",
    "# 획득하다(get) + 환경변수(env)\n",
    "# getenv( {변수명} ) -> return data의 type이 str\n",
    "os.getenv('port')"
   ]
  },
  {
   "cell_type": "code",
   "execution_count": 7,
   "id": "c6755364",
   "metadata": {},
   "outputs": [],
   "source": [
    "# DB 서버와의 연결 \n",
    "# mac 사용자는 터미널에서 brew services start mysql\n",
    "_db = pymysql.connect(\n",
    "    host = os.getenv('host'), \n",
    "    port = int(os.getenv('port')), \n",
    "    user = os.getenv('user'), \n",
    "    password = os.getenv('pw'), \n",
    "    db = os.getenv('db_name')\n",
    ") "
   ]
  },
  {
   "cell_type": "code",
   "execution_count": 8,
   "id": "83b4c76f",
   "metadata": {},
   "outputs": [],
   "source": [
    "# 가상 공간 cursor 생성 ( 연결된 데이터베이스로부터 생성 )\n",
    "cursor = _db.cursor( pymysql.cursors.DictCursor )"
   ]
  },
  {
   "cell_type": "code",
   "execution_count": 12,
   "id": "04ec0403",
   "metadata": {},
   "outputs": [
    {
     "data": {
      "text/plain": [
       "0"
      ]
     },
     "execution_count": 12,
     "metadata": {},
     "output_type": "execute_result"
    }
   ],
   "source": [
    "create_user_query = \"\"\"\n",
    "    CREATE TABLE if not exists `user_info`\n",
    "    (\n",
    "        `id` varchar(35) primary key, \n",
    "        `password` varchar(45) not null, \n",
    "        `name` varchar(45), \n",
    "        `birth` varchar(10) \n",
    "    )\n",
    "\"\"\"\n",
    "cursor.execute(create_user_query)"
   ]
  },
  {
   "cell_type": "code",
   "execution_count": null,
   "id": "894fd279",
   "metadata": {},
   "outputs": [
    {
     "data": {
      "text/plain": [
       "1"
      ]
     },
     "execution_count": 13,
     "metadata": {},
     "output_type": "execute_result"
    }
   ],
   "source": [
    "# query문 안에 유저가 입력한 데이터를 대입하여 query 실행 \n",
    "# 회원 가입을 설정 \n",
    "# 입력 데이터가 4개 id, password, name, birth\n",
    "input_id = input('id를 입력하시오')\n",
    "input_pass = input('password를 입력하시오')\n",
    "input_name = input('name을 입력하시오')\n",
    "input_birth = input('birth를 입력하시오')\n",
    "\n",
    "# 회원 정보를 저장하는 query 생성 \n",
    "signup_query = \"\"\"\n",
    "    insert into \n",
    "    `user_info`\n",
    "    values \n",
    "    ( %s, %s, %s, %s )\n",
    "\"\"\"\n",
    "\n",
    "# signup_query와 데이터를 이용하여 execute() 사용\n",
    "cursor.execute( signup_query, \n",
    "               [input_id, input_pass, input_name, input_birth] )"
   ]
  },
  {
   "cell_type": "markdown",
   "id": "fd52c5fc",
   "metadata": {},
   "source": [
    "- CUD(insert, update, delete)\n",
    "    - query 작성\n",
    "        - 데이터가 존재한다면 데이터들을 리스트나 튜플의 형태로 생성 \n",
    "    - execute() 함수를 이용하여 cursor에 질의를 보낸다. \n",
    "        - cursor에 존재하는 table의 data가 변화\n",
    "    - DB server와 cursor를 동기화 (.commit())\n",
    "    - DB server와의 연결을 종료 \n",
    "- R(select)\n",
    "    - query 작성 \n",
    "        - 데이터가 존재한다면 데이터들을 리스트나 튜플의 형태로 생성 \n",
    "    - execute() 함수를 이용하여 cursor에 질의를 보낸다. \n",
    "        - cursor에 존재하는 table의 data의 변화 X\n",
    "    - execute() 함수의 결과를 불러와서 변수에 저장 (fetchall()) \n",
    "    - DB server와의 연결을 종료"
   ]
  },
  {
   "cell_type": "code",
   "execution_count": 15,
   "id": "c30937de",
   "metadata": {},
   "outputs": [],
   "source": [
    "# query문이 select문인가?\n",
    "test_qeury = \"\"\"\n",
    "    SELECT \n",
    "    * \n",
    "    from \n",
    "    `table`\n",
    "\"\"\""
   ]
  },
  {
   "cell_type": "code",
   "execution_count": 22,
   "id": "4f2e5fa6",
   "metadata": {},
   "outputs": [
    {
     "data": {
      "text/plain": [
       "True"
      ]
     },
     "execution_count": 22,
     "metadata": {},
     "output_type": "execute_result"
    }
   ],
   "source": [
    "# query문이 select 인가?\n",
    "# 좌우의 공백을 제거(strip()) -> 위치를 이용해서 문자를 나눠준다. -> \n",
    "# 문자열을 대문자, 소문자 변환 -> 비교\n",
    "text_data = 'select'\n",
    "test_qeury.strip().lower()[ : len(text_data) ] == text_data"
   ]
  },
  {
   "cell_type": "code",
   "execution_count": 26,
   "id": "32624f3a",
   "metadata": {},
   "outputs": [
    {
     "data": {
      "text/plain": [
       "True"
      ]
     },
     "execution_count": 26,
     "metadata": {},
     "output_type": "execute_result"
    }
   ],
   "source": [
    "# 문자를 소문자 변환(lower()) -> \n",
    "# 공백을 기준으로 데이터를 나눠준다. ( split() ) ->\n",
    "# 첫번째 원소[0]를 선택 -> 비교\n",
    "test_qeury.lower().split()[0] == text_data"
   ]
  },
  {
   "cell_type": "code",
   "execution_count": 27,
   "id": "bb78d9e0",
   "metadata": {},
   "outputs": [
    {
     "data": {
      "text/plain": [
       "True"
      ]
     },
     "execution_count": 27,
     "metadata": {},
     "output_type": "execute_result"
    }
   ],
   "source": [
    "# 문자를 소문자 변환(lower()) ->\n",
    "# 좌우의 공백을 제거(strip()) ->\n",
    "# 시작하는 문자가 text_data와 같은가? 함수를 호출(startswith())\n",
    "test_qeury.lower().strip().startswith(text_data)"
   ]
  },
  {
   "cell_type": "code",
   "execution_count": 30,
   "id": "643807ca",
   "metadata": {},
   "outputs": [],
   "source": [
    "# CRUD query를 모두 사용할 수 있는 함수를 생성 \n",
    "# 매개변수 2개 -> query문, query에 대입이 되는 데이터들(가변)\n",
    "def sql_qeury(\n",
    "        _query, *_data_list\n",
    "):\n",
    "    # query문을 실행을 시도한다. \n",
    "    try:\n",
    "        # cursor에 질의 보낸다. \n",
    "        cursor.execute(_query, _data_list)\n",
    "    # execute()함수가 에러가 발생한다면\n",
    "    except Exception as e:\n",
    "        print(e)\n",
    "        # 함수를 강제로 종료하면서 메시지 되돌려준다. \n",
    "        return \"Query Error\"\n",
    "    # _query는 sql query문이 문자로 입력이되는 부분 \n",
    "    # _query가 select문인가?\n",
    "    if _query.lower().strip().startswith('select'):\n",
    "        # select문에 대한 결과를 불러온다. \n",
    "        result = cursor.fetchall()\n",
    "    else:\n",
    "        result = 'Query OK'\n",
    "    return result"
   ]
  },
  {
   "cell_type": "code",
   "execution_count": 32,
   "id": "ef782406",
   "metadata": {},
   "outputs": [
    {
     "data": {
      "text/plain": [
       "[{'id': 'test', 'password': '1234', 'name': 'kim', 'birth': '900101'},\n",
       " {'id': 'test1234', 'password': '0000', 'name': 'kim', 'birth': '900101'},\n",
       " {'id': 'test2', 'password': '1234', 'name': 'park', 'birth': '000101'}]"
      ]
     },
     "execution_count": 32,
     "metadata": {},
     "output_type": "execute_result"
    }
   ],
   "source": [
    "test_query = \"\"\"\n",
    "    select \n",
    "    * \n",
    "    from \n",
    "    `user_info`\n",
    "\"\"\"\n",
    "sql_qeury(test_query)"
   ]
  },
  {
   "cell_type": "code",
   "execution_count": 36,
   "id": "5a389e04",
   "metadata": {},
   "outputs": [],
   "source": [
    "# 로그인 과정 \n",
    "# 유저가 입력한 id, password를 이용해서 데이터베이스에 데이터가 존재하는가?\n",
    "input_id = input(\"id 입력하시오\")\n",
    "input_pass = input('password 입력하시오')\n",
    "\n",
    "login_query = \"\"\"\n",
    "    select * from \n",
    "    `user_info`\n",
    "    where \n",
    "    `id` = %s \n",
    "    and\n",
    "    `password` = %s\n",
    "\"\"\"\n",
    "\n",
    "login_result = sql_qeury(login_query, input_id, input_pass)"
   ]
  },
  {
   "cell_type": "code",
   "execution_count": 37,
   "id": "a5e14aae",
   "metadata": {},
   "outputs": [
    {
     "name": "stdout",
     "output_type": "stream",
     "text": [
      "로그인 실패\n"
     ]
    }
   ],
   "source": [
    "if login_result:\n",
    "    # login_result에 데이터가 존재한다면 -> 길이가 1이 아닌\n",
    "    print('로그인 성공')\n",
    "else:\n",
    "    # login_result에 데이터가 존재하지 않는다면 -> 길이가 0인\n",
    "    print('로그인 실패')"
   ]
  },
  {
   "cell_type": "code",
   "execution_count": 38,
   "id": "66650933",
   "metadata": {},
   "outputs": [
    {
     "data": {
      "text/plain": [
       "'Query OK'"
      ]
     },
     "execution_count": 38,
     "metadata": {},
     "output_type": "execute_result"
    }
   ],
   "source": [
    "input_id = 'test0000'\n",
    "input_pass = '1234'\n",
    "input_name = 'park'\n",
    "input_birth = '000101'\n",
    "\n",
    "insert_query = \"\"\"\n",
    "    insert into \n",
    "    `user_info`\n",
    "    values \n",
    "    (%s, %s, %s, %s)\n",
    "\"\"\"\n",
    "\n",
    "sql_qeury(insert_query, input_id, input_pass, input_name, input_birth)"
   ]
  },
  {
   "cell_type": "code",
   "execution_count": 39,
   "id": "eece170d",
   "metadata": {},
   "outputs": [],
   "source": [
    "# 데이터베이스 서버와 cursor를 동기화 하고 서버와의 연결을 종료하는 함수 생성 \n",
    "def commit_db():\n",
    "    # cursor와 데이터베이스 서버와의 동기화\n",
    "    _db.commit()\n",
    "    print('Commit 완료')\n",
    "    # 데이터베이스 서버와의 연결을 종료 \n",
    "    _db.close()\n",
    "    print('서버와의 연결 종료')"
   ]
  },
  {
   "cell_type": "code",
   "execution_count": 40,
   "id": "3febe1f7",
   "metadata": {},
   "outputs": [
    {
     "name": "stdout",
     "output_type": "stream",
     "text": [
      "Commit 완료\n",
      "서버와의 연결 종료\n"
     ]
    }
   ],
   "source": [
    "commit_db()"
   ]
  },
  {
   "cell_type": "code",
   "execution_count": null,
   "id": "5bcb2e18",
   "metadata": {},
   "outputs": [],
   "source": [
    "# 데이터베이스 서버와 연결하여 query문을 사용하고 서버와의 연결을 종료하는 class 생성\n",
    "\n",
    "# class 선언 \n",
    "class MyDB:\n",
    "    # 생성자 함수 \n",
    "    # class 내부에서 사용하려는 변수의 데이터를 대입하는 함수 \n",
    "    # class 생성 될때 한번만 실행이 되는 함수 \n",
    "    # 입력 받을 데이터는 데이터베이스 서버의 정보 -> 기본값 설정(로컬 피씨의 데이터베이스 정보)\n",
    "    def __init__(\n",
    "            self, \n",
    "            _host = '127.0.0.1', \n",
    "            _port = 3306, \n",
    "            _user = 'root', \n",
    "            _pw = '1234', \n",
    "            _db_name = 'multicam'\n",
    "    ):\n",
    "        # self.변수를 생성 \n",
    "        self.host = _host\n",
    "        self.port = _port\n",
    "        self.user = _user\n",
    "        self.pw = _pw\n",
    "        self.db_name = _db_name\n",
    "\n",
    "    "
   ]
  }
 ],
 "metadata": {
  "kernelspec": {
   "display_name": "Python 3",
   "language": "python",
   "name": "python3"
  },
  "language_info": {
   "codemirror_mode": {
    "name": "ipython",
    "version": 3
   },
   "file_extension": ".py",
   "mimetype": "text/x-python",
   "name": "python",
   "nbconvert_exporter": "python",
   "pygments_lexer": "ipython3",
   "version": "3.11.9"
  }
 },
 "nbformat": 4,
 "nbformat_minor": 5
}
