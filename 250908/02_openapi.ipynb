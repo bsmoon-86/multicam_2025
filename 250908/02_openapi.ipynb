{
 "cells": [
  {
   "cell_type": "code",
   "execution_count": 4,
   "id": "4bc8d1d0",
   "metadata": {},
   "outputs": [],
   "source": [
    "# open api 접속을 위한 라이브러리 호출 \n",
    "import requests"
   ]
  },
  {
   "cell_type": "code",
   "execution_count": 3,
   "id": "ebf7767b",
   "metadata": {},
   "outputs": [],
   "source": [
    "# 라이브러리 설치 \n",
    "# !pip install requests"
   ]
  },
  {
   "cell_type": "code",
   "execution_count": null,
   "id": "02aaead4",
   "metadata": {},
   "outputs": [],
   "source": [
    "# 해당 api에서 사용할 서비스키 ( 함수에서 사용될 필수 매개변수의 인자값과 같다 )\n",
    "service_key = \"dtbWOdJ%2FCz5HE0DGLU%2BCRPe7pOW0NIQBUcGEqsHZaTRiYCI%2F5%2BzugwzQjcvuId7NPdg6rUiW%2Bft3fm7yqyD4pw%3D%3D\"\n",
    "# 해당 api의 주소 ( python에서 호출할 함수의 이름과 같다 )\n",
    "url = 'http://apis.data.go.kr/1262000/CountryPopulationService2/getCountryPopulationList2'"
   ]
  }
 ],
 "metadata": {
  "kernelspec": {
   "display_name": "Python 3",
   "language": "python",
   "name": "python3"
  },
  "language_info": {
   "codemirror_mode": {
    "name": "ipython",
    "version": 3
   },
   "file_extension": ".py",
   "mimetype": "text/x-python",
   "name": "python",
   "nbconvert_exporter": "python",
   "pygments_lexer": "ipython3",
   "version": "3.11.9"
  }
 },
 "nbformat": 4,
 "nbformat_minor": 5
}
