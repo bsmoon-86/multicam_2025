{
 "cells": [
  {
   "cell_type": "code",
   "execution_count": 4,
   "id": "4bc8d1d0",
   "metadata": {},
   "outputs": [],
   "source": [
    "# open api 접속을 위한 라이브러리 호출 \n",
    "import requests"
   ]
  },
  {
   "cell_type": "code",
   "execution_count": 3,
   "id": "ebf7767b",
   "metadata": {},
   "outputs": [],
   "source": [
    "# 라이브러리 설치 \n",
    "# !pip install requests"
   ]
  },
  {
   "cell_type": "code",
   "execution_count": 9,
   "id": "02aaead4",
   "metadata": {},
   "outputs": [],
   "source": [
    "# 해당 api에서 사용할 서비스키 ( 함수에서 사용될 필수 매개변수의 인자값과 같다 )\n",
    "service_key = \"dtbWOdJ/Cz5HE0DGLU+CRPe7pOW0NIQBUcGEqsHZaTRiYCI/5+zugwzQjcvuId7NPdg6rUiW+ft3fm7yqyD4pw==\"\n",
    "# 해당 api의 주소 ( python에서 호출할 함수의 이름과 같다 )\n",
    "url = 'http://apis.data.go.kr/1262000/CountryPopulationService2/getCountryPopulationList2'\n",
    "\n",
    "# 매개변수들을 하나의 변수에 dict 형태로 저장 \n",
    "_params = {\n",
    "    'ServiceKey' : service_key, \n",
    "    'pageNo' : 1, \n",
    "    'numOfRows' : 10, \n",
    "    'returnType' : 'JSON'\n",
    "}\n",
    "\n",
    "res = requests.get( url, params = _params )\n"
   ]
  },
  {
   "cell_type": "code",
   "execution_count": 10,
   "id": "34453440",
   "metadata": {},
   "outputs": [
    {
     "data": {
      "text/plain": [
       "<Response [200]>"
      ]
     },
     "execution_count": 10,
     "metadata": {},
     "output_type": "execute_result"
    }
   ],
   "source": [
    "res"
   ]
  },
  {
   "cell_type": "code",
   "execution_count": 12,
   "id": "c8fc58bc",
   "metadata": {},
   "outputs": [
    {
     "data": {
      "text/plain": [
       "bytes"
      ]
     },
     "execution_count": 12,
     "metadata": {},
     "output_type": "execute_result"
    }
   ],
   "source": [
    "type(res.content)"
   ]
  },
  {
   "cell_type": "code",
   "execution_count": 13,
   "id": "307614a5",
   "metadata": {},
   "outputs": [],
   "source": [
    "# bytes로 되어있는 데이터의 타입을 편한 dict 형태로 변환 \n",
    "import json"
   ]
  },
  {
   "cell_type": "code",
   "execution_count": 14,
   "id": "90666971",
   "metadata": {},
   "outputs": [],
   "source": [
    "res_data = json.loads(res.content)"
   ]
  },
  {
   "cell_type": "code",
   "execution_count": 16,
   "id": "875561f3",
   "metadata": {},
   "outputs": [],
   "source": [
    "from pprint import pprint"
   ]
  },
  {
   "cell_type": "code",
   "execution_count": null,
   "id": "ab4e4a47",
   "metadata": {},
   "outputs": [],
   "source": [
    "pprint(res_data['response']['body']['items']['item'])"
   ]
  },
  {
   "cell_type": "code",
   "execution_count": 22,
   "id": "a85f5096",
   "metadata": {},
   "outputs": [],
   "source": [
    "import pandas as pd"
   ]
  },
  {
   "cell_type": "code",
   "execution_count": 23,
   "id": "64bdd3c0",
   "metadata": {},
   "outputs": [],
   "source": [
    "# pandas의 DataFrame을 이용하여 res_data를 변경 \n",
    "df = pd.DataFrame(\n",
    "    res_data['response']['body']['items']['item']\n",
    ")"
   ]
  },
  {
   "cell_type": "code",
   "execution_count": null,
   "id": "38027940",
   "metadata": {},
   "outputs": [],
   "source": [
    "df"
   ]
  },
  {
   "cell_type": "code",
   "execution_count": null,
   "id": "6f0cf4f5",
   "metadata": {},
   "outputs": [],
   "source": [
    "# 데이터프레임 타입의 데이터를 타입을 변경 \n",
    "# 타입 변경 키워드(to) + 타입명 -> 함수 존재(DataFrame 안에 존재) \n",
    "df.to_dict('records')"
   ]
  },
  {
   "cell_type": "code",
   "execution_count": 28,
   "id": "d460ade3",
   "metadata": {},
   "outputs": [],
   "source": [
    "df.to_csv(\"./test.csv\", index=False)"
   ]
  },
  {
   "cell_type": "code",
   "execution_count": null,
   "id": "54c77990",
   "metadata": {},
   "outputs": [],
   "source": []
  }
 ],
 "metadata": {
  "kernelspec": {
   "display_name": "Python 3",
   "language": "python",
   "name": "python3"
  },
  "language_info": {
   "codemirror_mode": {
    "name": "ipython",
    "version": 3
   },
   "file_extension": ".py",
   "mimetype": "text/x-python",
   "name": "python",
   "nbconvert_exporter": "python",
   "pygments_lexer": "ipython3",
   "version": "3.11.9"
  }
 },
 "nbformat": 4,
 "nbformat_minor": 5
}
