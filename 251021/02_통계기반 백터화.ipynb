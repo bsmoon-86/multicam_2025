{
 "cells": [
  {
   "cell_type": "markdown",
   "id": "0442f3d5",
   "metadata": {},
   "source": [
    "# 통계기반 자연어 처리 \n",
    "\n",
    "## NLP의 접근 방식 \n",
    "1. 규칙 기반 \n",
    "    - 사람의 규칙(문법 / 패턴)을 정의\n",
    "2. 통계 기반\n",
    "    - 단어의 빈도, 확률, 통계를 활용\n",
    "3. 딥러닝 기반 \n",
    "    - 대규모 데이터 + 신경망 모델 활용\n",
    "\n",
    "## N-gram 근사 \n",
    "- Unigram \n",
    "    - N = 1 \n",
    "    - 독립 단어 (하나의 단어)\n",
    "- Bigram\n",
    "    - N = 2\n",
    "    - 바로 앞의 단어를 고려 \n",
    "- Trigram\n",
    "    - N = 3\n",
    "    - 앞의 2개의 단어를 고려 \n",
    "\n",
    "## 로그 확률\n",
    "- 단어의 조건부 확률은 매우 작은 값 (0.0001, 0.00001)\n",
    "- 조건부의 확률들 끼리 곱하게 되면 -> 0에 가까운 값 -> 계산이 불안정 \n",
    "- 이러한 문제를 해결하기 위해 log 값을 사용 \n",
    "\n",
    "## 혼란도(Preplexity)\n",
    "- 문장을 얼마나 햇갈려하는지를 수치로 표현한 값\n",
    "- 값이 높다면 -> 문장 이해도가 내려간다.\n",
    "- 값이 낮다면 -> 문장 이해도가 올라간다. "
   ]
  },
  {
   "cell_type": "markdown",
   "id": "24be7f1c",
   "metadata": {},
   "source": [
    "### BoW \n",
    "- 문서의 단어 순서는 무시 \n",
    "- 각 문서에서 단어가 몇번 등장했는가?(빈도수)\n",
    "- 가장 기본적인 백터화 방법 "
   ]
  },
  {
   "cell_type": "code",
   "execution_count": 1,
   "id": "77edc096",
   "metadata": {},
   "outputs": [],
   "source": [
    "# 샘플 데이터셋 생성 \n",
    "docs = [\n",
    "    \"영화가 정말 재미있었다\", \n",
    "    \"영화가 너무 지루하다\", \n",
    "    \"배우의 연기가 너무 좋았다.\"\n",
    "]"
   ]
  },
  {
   "cell_type": "code",
   "execution_count": 2,
   "id": "e9ca4b41",
   "metadata": {},
   "outputs": [
    {
     "data": {
      "text/plain": [
       "[['영화가', '정말', '재미있었다'], ['영화가', '너무', '지루하다'], ['배우의', '연기가', '너무', '좋았다.']]"
      ]
     },
     "execution_count": 2,
     "metadata": {},
     "output_type": "execute_result"
    }
   ],
   "source": [
    "tokens = [doc.split() for doc in docs]\n",
    "tokens"
   ]
  },
  {
   "cell_type": "code",
   "execution_count": 6,
   "id": "1c4e1a80",
   "metadata": {},
   "outputs": [],
   "source": [
    "# tokens에서 각각의 단어들을 하나의 리스트로 생성하고 중복은 제거 \n",
    "# tokens의 2차원 리스트를 1차원으로 변환 \n",
    "vocab1 = []\n",
    "for token in tokens:\n",
    "    # token -> tokens의 각 원소들 -> 1차원 리스트 \n",
    "    for word in token:\n",
    "        # word : token이라는 1차원 리스트의 각각의 원소들 \n",
    "        vocab1.append(word)\n",
    "vocab1 = list(set(vocab1))"
   ]
  },
  {
   "cell_type": "code",
   "execution_count": 7,
   "id": "7703032c",
   "metadata": {},
   "outputs": [
    {
     "data": {
      "text/plain": [
       "['너무', '지루하다', '배우의', '좋았다.', '연기가', '영화가', '재미있었다', '정말']"
      ]
     },
     "execution_count": 7,
     "metadata": {},
     "output_type": "execute_result"
    }
   ],
   "source": [
    "vocab1"
   ]
  },
  {
   "cell_type": "code",
   "execution_count": 13,
   "id": "3f17d5b6",
   "metadata": {},
   "outputs": [],
   "source": [
    "vocab = list(set(sum(tokens, [])))"
   ]
  },
  {
   "cell_type": "code",
   "execution_count": 24,
   "id": "547f93ec",
   "metadata": {},
   "outputs": [],
   "source": [
    "# Bow 행렬을 하나 생성 \n",
    "# tokens의 문장에 vocab의 단어가 몇개 포함되어있는가?\n",
    "bow_list = []\n",
    "vocab.sort()\n",
    "for doc in tokens:\n",
    "    # row = [ doc.count(word) for word in vocab ]\n",
    "    row = []\n",
    "    for word in vocab:\n",
    "        # count() 함수는 list에서 인자의 값과 같은 데이터가 몇개 있는가?\n",
    "        row.append(doc.count(word))\n",
    "    bow_list.append(row)"
   ]
  },
  {
   "cell_type": "code",
   "execution_count": 25,
   "id": "1919780a",
   "metadata": {},
   "outputs": [],
   "source": [
    "import pandas as pd "
   ]
  },
  {
   "cell_type": "code",
   "execution_count": 26,
   "id": "84d1b94d",
   "metadata": {},
   "outputs": [],
   "source": [
    "df_bow = pd.DataFrame(bow_list, columns=vocab)"
   ]
  },
  {
   "cell_type": "code",
   "execution_count": 27,
   "id": "bd05b157",
   "metadata": {},
   "outputs": [
    {
     "data": {
      "text/html": [
       "<div>\n",
       "<style scoped>\n",
       "    .dataframe tbody tr th:only-of-type {\n",
       "        vertical-align: middle;\n",
       "    }\n",
       "\n",
       "    .dataframe tbody tr th {\n",
       "        vertical-align: top;\n",
       "    }\n",
       "\n",
       "    .dataframe thead th {\n",
       "        text-align: right;\n",
       "    }\n",
       "</style>\n",
       "<table border=\"1\" class=\"dataframe\">\n",
       "  <thead>\n",
       "    <tr style=\"text-align: right;\">\n",
       "      <th></th>\n",
       "      <th>너무</th>\n",
       "      <th>배우의</th>\n",
       "      <th>연기가</th>\n",
       "      <th>영화가</th>\n",
       "      <th>재미있었다</th>\n",
       "      <th>정말</th>\n",
       "      <th>좋았다.</th>\n",
       "      <th>지루하다</th>\n",
       "    </tr>\n",
       "  </thead>\n",
       "  <tbody>\n",
       "    <tr>\n",
       "      <th>0</th>\n",
       "      <td>0</td>\n",
       "      <td>0</td>\n",
       "      <td>0</td>\n",
       "      <td>1</td>\n",
       "      <td>1</td>\n",
       "      <td>1</td>\n",
       "      <td>0</td>\n",
       "      <td>0</td>\n",
       "    </tr>\n",
       "    <tr>\n",
       "      <th>1</th>\n",
       "      <td>1</td>\n",
       "      <td>0</td>\n",
       "      <td>0</td>\n",
       "      <td>1</td>\n",
       "      <td>0</td>\n",
       "      <td>0</td>\n",
       "      <td>0</td>\n",
       "      <td>1</td>\n",
       "    </tr>\n",
       "    <tr>\n",
       "      <th>2</th>\n",
       "      <td>1</td>\n",
       "      <td>1</td>\n",
       "      <td>1</td>\n",
       "      <td>0</td>\n",
       "      <td>0</td>\n",
       "      <td>0</td>\n",
       "      <td>1</td>\n",
       "      <td>0</td>\n",
       "    </tr>\n",
       "  </tbody>\n",
       "</table>\n",
       "</div>"
      ],
      "text/plain": [
       "   너무  배우의  연기가  영화가  재미있었다  정말  좋았다.  지루하다\n",
       "0   0    0    0    1      1   1     0     0\n",
       "1   1    0    0    1      0   0     0     1\n",
       "2   1    1    1    0      0   0     1     0"
      ]
     },
     "execution_count": 27,
     "metadata": {},
     "output_type": "execute_result"
    }
   ],
   "source": [
    "df_bow"
   ]
  },
  {
   "cell_type": "code",
   "execution_count": 28,
   "id": "e7192087",
   "metadata": {},
   "outputs": [],
   "source": [
    "from sklearn.feature_extraction.text import CountVectorizer"
   ]
  },
  {
   "cell_type": "code",
   "execution_count": 29,
   "id": "e32b93bd",
   "metadata": {},
   "outputs": [],
   "source": [
    "vectorizer = CountVectorizer()\n",
    "X = vectorizer.fit_transform(docs)"
   ]
  },
  {
   "cell_type": "code",
   "execution_count": 30,
   "id": "f337d316",
   "metadata": {},
   "outputs": [],
   "source": [
    "df_vectorizer = pd.DataFrame(X.toarray(), \n",
    "    columns = vectorizer.get_feature_names_out())"
   ]
  },
  {
   "cell_type": "code",
   "execution_count": 31,
   "id": "c5efe342",
   "metadata": {},
   "outputs": [
    {
     "data": {
      "text/html": [
       "<div>\n",
       "<style scoped>\n",
       "    .dataframe tbody tr th:only-of-type {\n",
       "        vertical-align: middle;\n",
       "    }\n",
       "\n",
       "    .dataframe tbody tr th {\n",
       "        vertical-align: top;\n",
       "    }\n",
       "\n",
       "    .dataframe thead th {\n",
       "        text-align: right;\n",
       "    }\n",
       "</style>\n",
       "<table border=\"1\" class=\"dataframe\">\n",
       "  <thead>\n",
       "    <tr style=\"text-align: right;\">\n",
       "      <th></th>\n",
       "      <th>너무</th>\n",
       "      <th>배우의</th>\n",
       "      <th>연기가</th>\n",
       "      <th>영화가</th>\n",
       "      <th>재미있었다</th>\n",
       "      <th>정말</th>\n",
       "      <th>좋았다</th>\n",
       "      <th>지루하다</th>\n",
       "    </tr>\n",
       "  </thead>\n",
       "  <tbody>\n",
       "    <tr>\n",
       "      <th>0</th>\n",
       "      <td>0</td>\n",
       "      <td>0</td>\n",
       "      <td>0</td>\n",
       "      <td>1</td>\n",
       "      <td>1</td>\n",
       "      <td>1</td>\n",
       "      <td>0</td>\n",
       "      <td>0</td>\n",
       "    </tr>\n",
       "    <tr>\n",
       "      <th>1</th>\n",
       "      <td>1</td>\n",
       "      <td>0</td>\n",
       "      <td>0</td>\n",
       "      <td>1</td>\n",
       "      <td>0</td>\n",
       "      <td>0</td>\n",
       "      <td>0</td>\n",
       "      <td>1</td>\n",
       "    </tr>\n",
       "    <tr>\n",
       "      <th>2</th>\n",
       "      <td>1</td>\n",
       "      <td>1</td>\n",
       "      <td>1</td>\n",
       "      <td>0</td>\n",
       "      <td>0</td>\n",
       "      <td>0</td>\n",
       "      <td>1</td>\n",
       "      <td>0</td>\n",
       "    </tr>\n",
       "  </tbody>\n",
       "</table>\n",
       "</div>"
      ],
      "text/plain": [
       "   너무  배우의  연기가  영화가  재미있었다  정말  좋았다  지루하다\n",
       "0   0    0    0    1      1   1    0     0\n",
       "1   1    0    0    1      0   0    0     1\n",
       "2   1    1    1    0      0   0    1     0"
      ]
     },
     "execution_count": 31,
     "metadata": {},
     "output_type": "execute_result"
    }
   ],
   "source": [
    "df_vectorizer"
   ]
  },
  {
   "cell_type": "markdown",
   "id": "b186a230",
   "metadata": {},
   "source": [
    "### TF-IDF \n",
    "- Bow 모델(단순 빈도 모델)의 한계를 보완하기 위한 통계 기반 기법\n",
    "\n",
    "- TF\n",
    "    - 문서(문장들의 집합) 내의 빈도가 높을수록 값이 큼\n",
    "    - 자주 등장 할수록 그 문서에서 중요하다고 판단 \n",
    "- IDF\n",
    "    - 문장 내에서의 단어의 희소성"
   ]
  },
  {
   "cell_type": "code",
   "execution_count": 32,
   "id": "5b1b6107",
   "metadata": {},
   "outputs": [],
   "source": [
    "import math "
   ]
  },
  {
   "cell_type": "code",
   "execution_count": 33,
   "id": "b210f7f1",
   "metadata": {},
   "outputs": [],
   "source": [
    "# 단어사전의 길이 \n",
    "V = len(vocab)\n",
    "# 전체 문서의 길이 \n",
    "N = len(docs)"
   ]
  },
  {
   "cell_type": "code",
   "execution_count": 35,
   "id": "7e4f92ca",
   "metadata": {},
   "outputs": [
    {
     "data": {
      "text/plain": [
       "[['영화가', '정말', '재미있었다'], ['영화가', '너무', '지루하다'], ['배우의', '연기가', '너무', '좋았다.']]"
      ]
     },
     "execution_count": 35,
     "metadata": {},
     "output_type": "execute_result"
    }
   ],
   "source": [
    "tokens"
   ]
  },
  {
   "cell_type": "code",
   "execution_count": 34,
   "id": "eed7caf1",
   "metadata": {},
   "outputs": [
    {
     "data": {
      "text/plain": [
       "{'너무': 2,\n",
       " '배우의': 1,\n",
       " '연기가': 1,\n",
       " '영화가': 2,\n",
       " '재미있었다': 1,\n",
       " '정말': 1,\n",
       " '좋았다.': 1,\n",
       " '지루하다': 1}"
      ]
     },
     "execution_count": 34,
     "metadata": {},
     "output_type": "execute_result"
    }
   ],
   "source": [
    "# 단어의 개수를 생성 \n",
    "word_cnt = {\n",
    "    w : sum(1 for doc in tokens if w in doc) for w in vocab\n",
    "}\n",
    "word_cnt"
   ]
  },
  {
   "cell_type": "code",
   "execution_count": 36,
   "id": "0e8e0b7c",
   "metadata": {},
   "outputs": [],
   "source": [
    "# TF 계산식 함수 \n",
    "def tf(word, doc):\n",
    "    # word : 단어 사전의 각 원소\n",
    "    # doc : tokens 각 원소 \n",
    "    # doc.count(word) : 문장에서 특정 단어의 개수 \n",
    "    # len(doc) : 문장의 단어의 개수\n",
    "    result = doc.count(word) / len(doc)\n",
    "    return result"
   ]
  },
  {
   "cell_type": "code",
   "execution_count": 37,
   "id": "b892769e",
   "metadata": {},
   "outputs": [],
   "source": [
    "# IDF 계산식 함수 \n",
    "def idf(word):\n",
    "    # word : 단어 사전의 각 원소\n",
    "    # N : docs의 길이 -> 문장들의 개수 \n",
    "    # word_cnt[word] -> 문서에서 특정 단어의 개수\n",
    "    result = math.log( (N) / (word_cnt[word] + 1) ) + 1\n",
    "    return result"
   ]
  },
  {
   "cell_type": "code",
   "execution_count": 38,
   "id": "b1eaaedb",
   "metadata": {},
   "outputs": [
    {
     "data": {
      "text/plain": [
       "[[0.0,\n",
       "  0.0,\n",
       "  0.0,\n",
       "  0.3333333333333333,\n",
       "  0.4684883693693881,\n",
       "  0.4684883693693881,\n",
       "  0.0,\n",
       "  0.0],\n",
       " [0.3333333333333333,\n",
       "  0.0,\n",
       "  0.0,\n",
       "  0.3333333333333333,\n",
       "  0.0,\n",
       "  0.0,\n",
       "  0.0,\n",
       "  0.4684883693693881],\n",
       " [0.25,\n",
       "  0.3513662770270411,\n",
       "  0.3513662770270411,\n",
       "  0.0,\n",
       "  0.0,\n",
       "  0.0,\n",
       "  0.3513662770270411,\n",
       "  0.0]]"
      ]
     },
     "execution_count": 38,
     "metadata": {},
     "output_type": "execute_result"
    }
   ],
   "source": [
    "# TF-IDF -> TF의 값과 IDF 값을 곱한 수치 \n",
    "X_tfidf = [ \n",
    "    [tf(w, doc) * idf(w) for w in vocab] for doc in tokens \n",
    "]\n",
    "X_tfidf"
   ]
  },
  {
   "cell_type": "code",
   "execution_count": null,
   "id": "91ed160b",
   "metadata": {},
   "outputs": [],
   "source": []
  }
 ],
 "metadata": {
  "kernelspec": {
   "display_name": "Python 3",
   "language": "python",
   "name": "python3"
  },
  "language_info": {
   "codemirror_mode": {
    "name": "ipython",
    "version": 3
   },
   "file_extension": ".py",
   "mimetype": "text/x-python",
   "name": "python",
   "nbconvert_exporter": "python",
   "pygments_lexer": "ipython3",
   "version": "3.11.9"
  }
 },
 "nbformat": 4,
 "nbformat_minor": 5
}
