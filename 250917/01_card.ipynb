{
 "cells": [
  {
   "cell_type": "code",
   "execution_count": null,
   "id": "c010ff7e",
   "metadata": {},
   "outputs": [],
   "source": [
    "import pandas as pd \n",
    "import platform\n",
    "import matplotlib.pyplot as plt"
   ]
  },
  {
   "cell_type": "code",
   "execution_count": null,
   "id": "6a19dea6",
   "metadata": {},
   "outputs": [],
   "source": [
    "# csv 폴더 안에 card 폴더 안에 있는 오프라인.csv 파일 로드 \n",
    "offline = pd.read_csv(\"../csv/card/오프라인.csv\", encoding='cp949')"
   ]
  },
  {
   "cell_type": "code",
   "execution_count": null,
   "id": "a2bdca6a",
   "metadata": {},
   "outputs": [],
   "source": [
    "offline.info()"
   ]
  },
  {
   "cell_type": "code",
   "execution_count": null,
   "id": "dc046079",
   "metadata": {},
   "outputs": [],
   "source": [
    "offline.head()"
   ]
  },
  {
   "cell_type": "markdown",
   "id": "e3f6b949",
   "metadata": {},
   "source": [
    "1. 컬럼의 이름을 변경 -> 항목정의서의 컬럼의 설명을 기준으로 컬럼의 이름을 변경 \n",
    "2. 결측치가 존재하는가?\n",
    "    - non-null count을 기준으로 확인\n",
    "    - 성별 컬럼에는 '-', 9 라는 데이터가 존재하는가?\n",
    "3. 기준년월의 데이터를 시계열 데이터로 변환\n",
    "4. 남, 여 성별을 기준으로 연도별 건당 이용 금액의 평균은 어떠한 차이를 나타내는가?\n",
    "    - 기준년월의 시계열에서 년도를 추출하여 새로운 컬럼에 대입 \n",
    "    - 건당이용금액 컬럼을 생성하여 총이용금액 / 총건수\n",
    "    - 성별, 기준년 컬럼의 데이터로 그룹화 건당이용금액의 평균을 구한다. \n",
    "5. 해당 데이터를 막대그래프로 시각화 "
   ]
  },
  {
   "cell_type": "code",
   "execution_count": null,
   "id": "ffc6b49f",
   "metadata": {},
   "outputs": [],
   "source": [
    "# 항목정의서 파일을 로드 \n",
    "col_info = pd.read_excel(\n",
    "    \"../csv/card/(수정)(항목정의서)유통+업종+카드소비트랜드+데이터_20211101.xlsx\"\n",
    ")"
   ]
  },
  {
   "cell_type": "code",
   "execution_count": null,
   "id": "fcbb32db",
   "metadata": {},
   "outputs": [],
   "source": [
    "offline.columns = col_info['데이터 컬럼']"
   ]
  },
  {
   "cell_type": "code",
   "execution_count": 21,
   "id": "8448a2f2",
   "metadata": {},
   "outputs": [
    {
     "data": {
      "text/html": [
       "<div>\n",
       "<style scoped>\n",
       "    .dataframe tbody tr th:only-of-type {\n",
       "        vertical-align: middle;\n",
       "    }\n",
       "\n",
       "    .dataframe tbody tr th {\n",
       "        vertical-align: top;\n",
       "    }\n",
       "\n",
       "    .dataframe thead th {\n",
       "        text-align: right;\n",
       "    }\n",
       "</style>\n",
       "<table border=\"1\" class=\"dataframe\">\n",
       "  <thead>\n",
       "    <tr style=\"text-align: right;\">\n",
       "      <th></th>\n",
       "      <th>기준년월</th>\n",
       "      <th>업종 구분</th>\n",
       "      <th>성별</th>\n",
       "      <th>연령대</th>\n",
       "      <th>이용 건수</th>\n",
       "      <th>이용 금액</th>\n",
       "    </tr>\n",
       "  </thead>\n",
       "  <tbody>\n",
       "    <tr>\n",
       "      <th>0</th>\n",
       "      <td>201901</td>\n",
       "      <td>백화점</td>\n",
       "      <td>1</td>\n",
       "      <td>1</td>\n",
       "      <td>1</td>\n",
       "      <td>7.600000e+03</td>\n",
       "    </tr>\n",
       "    <tr>\n",
       "      <th>1</th>\n",
       "      <td>201901</td>\n",
       "      <td>백화점</td>\n",
       "      <td>1</td>\n",
       "      <td>10</td>\n",
       "      <td>379</td>\n",
       "      <td>1.945872e+07</td>\n",
       "    </tr>\n",
       "    <tr>\n",
       "      <th>2</th>\n",
       "      <td>201901</td>\n",
       "      <td>백화점</td>\n",
       "      <td>1</td>\n",
       "      <td>20</td>\n",
       "      <td>45173</td>\n",
       "      <td>4.747711e+09</td>\n",
       "    </tr>\n",
       "    <tr>\n",
       "      <th>3</th>\n",
       "      <td>201901</td>\n",
       "      <td>백화점</td>\n",
       "      <td>1</td>\n",
       "      <td>30</td>\n",
       "      <td>271858</td>\n",
       "      <td>2.791826e+10</td>\n",
       "    </tr>\n",
       "    <tr>\n",
       "      <th>4</th>\n",
       "      <td>201901</td>\n",
       "      <td>백화점</td>\n",
       "      <td>1</td>\n",
       "      <td>40</td>\n",
       "      <td>391109</td>\n",
       "      <td>3.791149e+10</td>\n",
       "    </tr>\n",
       "  </tbody>\n",
       "</table>\n",
       "</div>"
      ],
      "text/plain": [
       "     기준년월 업종 구분  성별  연령대   이용 건수         이용 금액\n",
       "0  201901   백화점   1    1       1  7.600000e+03\n",
       "1  201901   백화점   1   10     379  1.945872e+07\n",
       "2  201901   백화점   1   20   45173  4.747711e+09\n",
       "3  201901   백화점   1   30  271858  2.791826e+10\n",
       "4  201901   백화점   1   40  391109  3.791149e+10"
      ]
     },
     "execution_count": 21,
     "metadata": {},
     "output_type": "execute_result"
    }
   ],
   "source": [
    "\n",
    "offline.head()"
   ]
  },
  {
   "cell_type": "code",
   "execution_count": 18,
   "id": "93fe14f5",
   "metadata": {},
   "outputs": [
    {
     "name": "stdout",
     "output_type": "stream",
     "text": [
      "<class 'pandas.core.frame.DataFrame'>\n",
      "RangeIndex: 2648 entries, 0 to 2647\n",
      "Data columns (total 6 columns):\n",
      " #   Column  Non-Null Count  Dtype  \n",
      "---  ------  --------------  -----  \n",
      " 0   기준년월    2648 non-null   int64  \n",
      " 1   업종 구분   2648 non-null   object \n",
      " 2   성별      2648 non-null   int64  \n",
      " 3   연령대     2648 non-null   int64  \n",
      " 4   이용 건수   2648 non-null   int64  \n",
      " 5   이용 금액   2648 non-null   float64\n",
      "dtypes: float64(1), int64(4), object(1)\n",
      "memory usage: 124.3+ KB\n"
     ]
    }
   ],
   "source": [
    "\n",
    "offline.info()"
   ]
  },
  {
   "cell_type": "code",
   "execution_count": null,
   "id": "a206fbb7",
   "metadata": {},
   "outputs": [],
   "source": [
    "# 성별 컬럼에 '-', 9 데이터가 존재하는가?\n",
    "# offline['성별'].isin(['-', '9', 9]).sum()\n",
    "# offline['성별'].isin(['-', '9', 9]).any()\n",
    "offline['성별'].isin([1, 2]).all()"
   ]
  },
  {
   "cell_type": "code",
   "execution_count": null,
   "id": "8250439b",
   "metadata": {},
   "outputs": [],
   "source": [
    "offline['성별'].value_counts()"
   ]
  },
  {
   "cell_type": "code",
   "execution_count": null,
   "id": "850edad3",
   "metadata": {},
   "outputs": [],
   "source": [
    "# 유일한 데이터를 출력 \n",
    "offline['성별'].unique()"
   ]
  },
  {
   "cell_type": "code",
   "execution_count": null,
   "id": "6f4c1422",
   "metadata": {},
   "outputs": [],
   "source": []
  }
 ],
 "metadata": {
  "kernelspec": {
   "display_name": "Python 3",
   "language": "python",
   "name": "python3"
  },
  "language_info": {
   "codemirror_mode": {
    "name": "ipython",
    "version": 3
   },
   "file_extension": ".py",
   "mimetype": "text/x-python",
   "name": "python",
   "nbconvert_exporter": "python",
   "pygments_lexer": "ipython3",
   "version": "3.11.9"
  }
 },
 "nbformat": 4,
 "nbformat_minor": 5
}
