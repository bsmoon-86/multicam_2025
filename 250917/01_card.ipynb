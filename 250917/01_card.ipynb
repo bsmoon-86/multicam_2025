{
 "cells": [
  {
   "cell_type": "code",
   "execution_count": 1,
   "id": "c010ff7e",
   "metadata": {},
   "outputs": [],
   "source": [
    "import pandas as pd \n",
    "import platform\n",
    "import matplotlib.pyplot as plt"
   ]
  },
  {
   "cell_type": "code",
   "execution_count": 3,
   "id": "6a19dea6",
   "metadata": {},
   "outputs": [],
   "source": [
    "# csv 폴더 안에 card 폴더 안에 있는 오프라인.csv 파일 로드 \n",
    "offline = pd.read_csv(\"../csv/card/오프라인.csv\", encoding='cp949')"
   ]
  },
  {
   "cell_type": "code",
   "execution_count": 4,
   "id": "a2bdca6a",
   "metadata": {},
   "outputs": [
    {
     "name": "stdout",
     "output_type": "stream",
     "text": [
      "<class 'pandas.core.frame.DataFrame'>\n",
      "RangeIndex: 2648 entries, 0 to 2647\n",
      "Data columns (total 6 columns):\n",
      " #   Column        Non-Null Count  Dtype  \n",
      "---  ------        --------------  -----  \n",
      " 0   crym          2648 non-null   int64  \n",
      " 1   tco_btc_nm    2648 non-null   object \n",
      " 2   ma_fem_dc     2648 non-null   int64  \n",
      " 3   agegrp_dc     2648 non-null   int64  \n",
      " 4   tco_btc_u_ct  2648 non-null   int64  \n",
      " 5   tco_btc_u_am  2648 non-null   float64\n",
      "dtypes: float64(1), int64(4), object(1)\n",
      "memory usage: 124.3+ KB\n"
     ]
    }
   ],
   "source": [
    "offline.info()"
   ]
  },
  {
   "cell_type": "code",
   "execution_count": 5,
   "id": "dc046079",
   "metadata": {},
   "outputs": [
    {
     "data": {
      "text/html": [
       "<div>\n",
       "<style scoped>\n",
       "    .dataframe tbody tr th:only-of-type {\n",
       "        vertical-align: middle;\n",
       "    }\n",
       "\n",
       "    .dataframe tbody tr th {\n",
       "        vertical-align: top;\n",
       "    }\n",
       "\n",
       "    .dataframe thead th {\n",
       "        text-align: right;\n",
       "    }\n",
       "</style>\n",
       "<table border=\"1\" class=\"dataframe\">\n",
       "  <thead>\n",
       "    <tr style=\"text-align: right;\">\n",
       "      <th></th>\n",
       "      <th>crym</th>\n",
       "      <th>tco_btc_nm</th>\n",
       "      <th>ma_fem_dc</th>\n",
       "      <th>agegrp_dc</th>\n",
       "      <th>tco_btc_u_ct</th>\n",
       "      <th>tco_btc_u_am</th>\n",
       "    </tr>\n",
       "  </thead>\n",
       "  <tbody>\n",
       "    <tr>\n",
       "      <th>0</th>\n",
       "      <td>201901</td>\n",
       "      <td>백화점</td>\n",
       "      <td>1</td>\n",
       "      <td>1</td>\n",
       "      <td>1</td>\n",
       "      <td>7.600000e+03</td>\n",
       "    </tr>\n",
       "    <tr>\n",
       "      <th>1</th>\n",
       "      <td>201901</td>\n",
       "      <td>백화점</td>\n",
       "      <td>1</td>\n",
       "      <td>10</td>\n",
       "      <td>379</td>\n",
       "      <td>1.945872e+07</td>\n",
       "    </tr>\n",
       "    <tr>\n",
       "      <th>2</th>\n",
       "      <td>201901</td>\n",
       "      <td>백화점</td>\n",
       "      <td>1</td>\n",
       "      <td>20</td>\n",
       "      <td>45173</td>\n",
       "      <td>4.747711e+09</td>\n",
       "    </tr>\n",
       "    <tr>\n",
       "      <th>3</th>\n",
       "      <td>201901</td>\n",
       "      <td>백화점</td>\n",
       "      <td>1</td>\n",
       "      <td>30</td>\n",
       "      <td>271858</td>\n",
       "      <td>2.791826e+10</td>\n",
       "    </tr>\n",
       "    <tr>\n",
       "      <th>4</th>\n",
       "      <td>201901</td>\n",
       "      <td>백화점</td>\n",
       "      <td>1</td>\n",
       "      <td>40</td>\n",
       "      <td>391109</td>\n",
       "      <td>3.791149e+10</td>\n",
       "    </tr>\n",
       "  </tbody>\n",
       "</table>\n",
       "</div>"
      ],
      "text/plain": [
       "     crym tco_btc_nm  ma_fem_dc  agegrp_dc  tco_btc_u_ct  tco_btc_u_am\n",
       "0  201901        백화점          1          1             1  7.600000e+03\n",
       "1  201901        백화점          1         10           379  1.945872e+07\n",
       "2  201901        백화점          1         20         45173  4.747711e+09\n",
       "3  201901        백화점          1         30        271858  2.791826e+10\n",
       "4  201901        백화점          1         40        391109  3.791149e+10"
      ]
     },
     "execution_count": 5,
     "metadata": {},
     "output_type": "execute_result"
    }
   ],
   "source": [
    "offline.head()"
   ]
  }
 ],
 "metadata": {
  "kernelspec": {
   "display_name": "Python 3",
   "language": "python",
   "name": "python3"
  },
  "language_info": {
   "codemirror_mode": {
    "name": "ipython",
    "version": 3
   },
   "file_extension": ".py",
   "mimetype": "text/x-python",
   "name": "python",
   "nbconvert_exporter": "python",
   "pygments_lexer": "ipython3",
   "version": "3.11.9"
  }
 },
 "nbformat": 4,
 "nbformat_minor": 5
}
