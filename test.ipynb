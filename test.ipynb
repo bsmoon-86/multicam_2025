{
 "cells": [
  {
   "cell_type": "code",
   "execution_count": 1,
   "id": "5e0ab280",
   "metadata": {},
   "outputs": [],
   "source": [
    "import pandas as pd"
   ]
  },
  {
   "cell_type": "code",
   "execution_count": 2,
   "id": "67c58447",
   "metadata": {},
   "outputs": [],
   "source": [
    "df = pd.read_csv(\"./csv/dept.csv\")"
   ]
  },
  {
   "cell_type": "code",
   "execution_count": 3,
   "id": "a1b82d57",
   "metadata": {},
   "outputs": [
    {
     "data": {
      "text/html": [
       "<div>\n",
       "<style scoped>\n",
       "    .dataframe tbody tr th:only-of-type {\n",
       "        vertical-align: middle;\n",
       "    }\n",
       "\n",
       "    .dataframe tbody tr th {\n",
       "        vertical-align: top;\n",
       "    }\n",
       "\n",
       "    .dataframe thead th {\n",
       "        text-align: right;\n",
       "    }\n",
       "</style>\n",
       "<table border=\"1\" class=\"dataframe\">\n",
       "  <thead>\n",
       "    <tr style=\"text-align: right;\">\n",
       "      <th></th>\n",
       "      <th>DEPTNO</th>\n",
       "      <th>DNAME</th>\n",
       "      <th>LOC</th>\n",
       "    </tr>\n",
       "  </thead>\n",
       "  <tbody>\n",
       "    <tr>\n",
       "      <th>0</th>\n",
       "      <td>10.0</td>\n",
       "      <td>ACCOUNTING</td>\n",
       "      <td>NEW YORK</td>\n",
       "    </tr>\n",
       "    <tr>\n",
       "      <th>1</th>\n",
       "      <td>20.0</td>\n",
       "      <td>RESEARCH</td>\n",
       "      <td>DALLAS</td>\n",
       "    </tr>\n",
       "    <tr>\n",
       "      <th>2</th>\n",
       "      <td>30.0</td>\n",
       "      <td>SALES</td>\n",
       "      <td>CHICAGO</td>\n",
       "    </tr>\n",
       "    <tr>\n",
       "      <th>3</th>\n",
       "      <td>40.0</td>\n",
       "      <td>OPERATIONS</td>\n",
       "      <td>BOSTON</td>\n",
       "    </tr>\n",
       "  </tbody>\n",
       "</table>\n",
       "</div>"
      ],
      "text/plain": [
       "   DEPTNO       DNAME       LOC\n",
       "0    10.0  ACCOUNTING  NEW YORK\n",
       "1    20.0    RESEARCH    DALLAS\n",
       "2    30.0       SALES   CHICAGO\n",
       "3    40.0  OPERATIONS    BOSTON"
      ]
     },
     "execution_count": 3,
     "metadata": {},
     "output_type": "execute_result"
    }
   ],
   "source": [
    "df"
   ]
  },
  {
   "cell_type": "code",
   "execution_count": 5,
   "id": "8eed1202",
   "metadata": {},
   "outputs": [],
   "source": [
    "table_data = df.to_dict(orient='records')"
   ]
  },
  {
   "cell_type": "code",
   "execution_count": 7,
   "id": "8b33f793",
   "metadata": {},
   "outputs": [
    {
     "name": "stdout",
     "output_type": "stream",
     "text": [
      "{'DEPTNO': 10.0, 'DNAME': 'ACCOUNTING', 'LOC': 'NEW YORK'}\n",
      "{'DEPTNO': 20.0, 'DNAME': 'RESEARCH', 'LOC': 'DALLAS'}\n",
      "{'DEPTNO': 30.0, 'DNAME': 'SALES', 'LOC': 'CHICAGO'}\n",
      "{'DEPTNO': 40.0, 'DNAME': 'OPERATIONS', 'LOC': 'BOSTON'}\n"
     ]
    }
   ],
   "source": [
    "for i in range(len(table_data)):\n",
    "    print(table_data[i])"
   ]
  },
  {
   "cell_type": "code",
   "execution_count": 8,
   "id": "f248f5b8",
   "metadata": {},
   "outputs": [
    {
     "name": "stdout",
     "output_type": "stream",
     "text": [
      "{'DEPTNO': 10.0, 'DNAME': 'ACCOUNTING', 'LOC': 'NEW YORK'}\n",
      "{'DEPTNO': 20.0, 'DNAME': 'RESEARCH', 'LOC': 'DALLAS'}\n",
      "{'DEPTNO': 30.0, 'DNAME': 'SALES', 'LOC': 'CHICAGO'}\n",
      "{'DEPTNO': 40.0, 'DNAME': 'OPERATIONS', 'LOC': 'BOSTON'}\n"
     ]
    }
   ],
   "source": [
    "for i in table_data:\n",
    "    print(i)"
   ]
  },
  {
   "cell_type": "code",
   "execution_count": null,
   "id": "fdfc1cd6",
   "metadata": {},
   "outputs": [],
   "source": []
  }
 ],
 "metadata": {
  "kernelspec": {
   "display_name": "Python 3",
   "language": "python",
   "name": "python3"
  },
  "language_info": {
   "codemirror_mode": {
    "name": "ipython",
    "version": 3
   },
   "file_extension": ".py",
   "mimetype": "text/x-python",
   "name": "python",
   "nbconvert_exporter": "python",
   "pygments_lexer": "ipython3",
   "version": "3.11.9"
  }
 },
 "nbformat": 4,
 "nbformat_minor": 5
}
