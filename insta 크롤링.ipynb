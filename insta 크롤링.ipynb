{
 "cells": [
  {
   "cell_type": "code",
   "execution_count": 1,
   "metadata": {},
   "outputs": [],
   "source": [
    "from selenium import webdriver\n",
    "from selenium.webdriver.common.by import By\n",
    "from selenium.webdriver.common.keys import Keys\n",
    "import pandas as pd\n",
    "import time\n",
    "from bs4 import BeautifulSoup as bs\n",
    "import os \n",
    "from dotenv import load_dotenv"
   ]
  },
  {
   "cell_type": "code",
   "execution_count": 2,
   "metadata": {},
   "outputs": [],
   "source": [
    "# 웹 브라우져를 실행 \n",
    "driver = webdriver.Chrome()"
   ]
  },
  {
   "cell_type": "code",
   "execution_count": 3,
   "metadata": {},
   "outputs": [],
   "source": [
    "## 인스타그램에 요청 \n",
    "driver.get('https://www.instagram.com')"
   ]
  },
  {
   "cell_type": "code",
   "execution_count": 4,
   "metadata": {},
   "outputs": [
    {
     "data": {
      "text/plain": [
       "True"
      ]
     },
     "execution_count": 4,
     "metadata": {},
     "output_type": "execute_result"
    }
   ],
   "source": [
    "load_dotenv()"
   ]
  },
  {
   "cell_type": "code",
   "execution_count": 5,
   "metadata": {},
   "outputs": [],
   "source": [
    "driver.implicitly_wait(10)\n",
    "# 인스타그램에 로그인 \n",
    "id_element = driver.find_element(\n",
    "    By.CSS_SELECTOR, \n",
    "    'input[name=\"username\"]')\n",
    "# id_element에 아이디 값(.env에 있는 id)을 입력 \n",
    "id_element.send_keys(os.getenv('id'))\n",
    "pass_element = driver.find_element(\n",
    "    By.CSS_SELECTOR, \n",
    "    'input[name=\"password\"]'\n",
    ")\n",
    "# pass_element에 패스워드(.env에 있는 password)를 입력\n",
    "pass_element.send_keys(os.getenv('password'))\n",
    "# time.sleep(2)\n",
    "# implicitly_wait() : html, css 정보가 모두 로드가 되면 시간에 무관하게 다음 코드가 실행\n",
    "# 입력한 시간이 초과될때 로드가 전부 안되어있으면 에러 발생\n",
    "driver.implicitly_wait(10)\n",
    "pass_element.send_keys(Keys.ENTER)"
   ]
  },
  {
   "cell_type": "code",
   "execution_count": 6,
   "metadata": {},
   "outputs": [],
   "source": [
    "# svg 태그 중 aria-label=\"검색\" 인 태그를 선택\n",
    "driver.implicitly_wait(10)\n",
    "search_element = driver.find_element(By.CSS_SELECTOR, \n",
    "                                     'svg[aria-label=\"검색\"]')\n",
    "# search_element를 클릭\n",
    "search_element.click()"
   ]
  },
  {
   "cell_type": "code",
   "execution_count": 7,
   "metadata": {},
   "outputs": [],
   "source": [
    "driver.implicitly_wait(10)\n",
    "# 검색창에 input 태그를 선택\n",
    "search_input = driver.find_element(By.CSS_SELECTOR, \n",
    "                                   'input[aria-label=\"입력 검색\"]')\n",
    "# search_input에 특정 문자열을 입력\n",
    "search_input.send_keys(\"구디맛집\")"
   ]
  },
  {
   "cell_type": "code",
   "execution_count": 8,
   "metadata": {},
   "outputs": [
    {
     "name": "stdout",
     "output_type": "stream",
     "text": [
      "10\n"
     ]
    }
   ],
   "source": [
    "driver.implicitly_wait(10)\n",
    "## 검색 리스트 전체를 검색\n",
    "list_element = driver.find_elements(\n",
    "    By.CSS_SELECTOR, \n",
    "    '.x9f619.x78zum5.xdt5ytf.x1iyjqo2.x6ikm8r.x1odjw0f.xh8yej3.xocp1fn .x1i10hfl'\n",
    ")\n",
    "print(len(list_element))\n",
    "# 검색 리스트에서 첫번째를 클릭 \n",
    "list_element[0].click() \n"
   ]
  },
  {
   "cell_type": "code",
   "execution_count": 14,
   "metadata": {},
   "outputs": [],
   "source": [
    "# 다음 게시글로 이동하는 버튼을 선택 \n",
    "next_element = driver.find_element(By.CSS_SELECTOR, \n",
    "                                   '._aaqg ._abl-')\n",
    "next_element.click()"
   ]
  },
  {
   "cell_type": "code",
   "execution_count": 19,
   "metadata": {},
   "outputs": [],
   "source": [
    "## 게시글 링크를 모두 찾는다. \n",
    "imgs = driver.find_elements(\n",
    "    By.CLASS_NAME, '_aagw'\n",
    ")\n",
    "# 게시글의 첫번째를 클릭 \n",
    "imgs[0].click()\n"
   ]
  },
  {
   "cell_type": "code",
   "execution_count": null,
   "metadata": {},
   "outputs": [],
   "source": [
    "\n",
    "# data를 저장할 공간 생성\n",
    "data = {\n",
    "    'text' : []\n",
    "}\n",
    "\n",
    "driver.implicitly_wait(20)\n",
    "for i in range(3):\n",
    "    # 다음 버튼이 존재하지 않으면 ? -> 에러 발생 \n",
    "    # try 구문을 이용하여 에러 발생시 print로 출력\n",
    "    try:\n",
    "        driver.implicitly_wait(20)\n",
    "        # ul 태그(class 속성 기준) 찾기\n",
    "        ul_element = driver.find_element(By.CSS_SELECTOR, \"ul._a9z6._a9za\")\n",
    "\n",
    "        # ul 안의 모든 li 요소 찾기\n",
    "        li_elements = ul_element.find_elements(By.TAG_NAME, \"li\")\n",
    "\n",
    "        # 각 li의 텍스트 출력\n",
    "        for li in li_elements:\n",
    "            # print(li.text)\n",
    "            data['text'].append(li.text)\n",
    "        # 다음 게시글로 이동하는 버튼을 선택 \n",
    "        next_element = driver.find_element(By.CSS_SELECTOR, \n",
    "                                           '._aaqg ._abl-')\n",
    "        next_element.click()\n",
    "    except:\n",
    "        print('다음 버튼이 존재하지 않거나 에러 발생')\n",
    "# 게시물을 닫아준다. \n",
    "close_element = driver.find_element(By.CSS_SELECTOR, \n",
    "                                    'svg[aria-label=\"닫기\"]')\n",
    "close_element.click()\n",
    "df = pd.DataFrame(data)"
   ]
  },
  {
   "cell_type": "code",
   "execution_count": 21,
   "metadata": {},
   "outputs": [
    {
     "data": {
      "text/html": [
       "<div>\n",
       "<style scoped>\n",
       "    .dataframe tbody tr th:only-of-type {\n",
       "        vertical-align: middle;\n",
       "    }\n",
       "\n",
       "    .dataframe tbody tr th {\n",
       "        vertical-align: top;\n",
       "    }\n",
       "\n",
       "    .dataframe thead th {\n",
       "        text-align: right;\n",
       "    }\n",
       "</style>\n",
       "<table border=\"1\" class=\"dataframe\">\n",
       "  <thead>\n",
       "    <tr style=\"text-align: right;\">\n",
       "      <th></th>\n",
       "      <th>text</th>\n",
       "    </tr>\n",
       "  </thead>\n",
       "  <tbody>\n",
       "    <tr>\n",
       "      <th>0</th>\n",
       "      <td>hee.muk__\\n맛도리 비줠인데여😋\\n2일답글 달기</td>\n",
       "    </tr>\n",
       "    <tr>\n",
       "      <th>1</th>\n",
       "      <td>greenofginger\\n먹음직스럽네요 👏👏\\n2일답글 달기</td>\n",
       "    </tr>\n",
       "    <tr>\n",
       "      <th>2</th>\n",
       "      <td>mukdang0\\n찐으로 맛나보여용\\n2일답글 달기</td>\n",
       "    </tr>\n",
       "    <tr>\n",
       "      <th>3</th>\n",
       "      <td>jejuyummy_soyoung\\n아 진짜 밥도둑일거 같아요🤤\\n2일답글 달기</td>\n",
       "    </tr>\n",
       "    <tr>\n",
       "      <th>4</th>\n",
       "      <td>happyjisu0622\\n명태 맛나겠어요\\n2일답글 달기</td>\n",
       "    </tr>\n",
       "    <tr>\n",
       "      <th>5</th>\n",
       "      <td>couple_mukdiary\\n먹고파요!\\n1일답글 달기</td>\n",
       "    </tr>\n",
       "    <tr>\n",
       "      <th>6</th>\n",
       "      <td>jinjjin_seoul\\n🎀 비싼 금 가치를 가진 돼지고기\\n진찐🐽\\n\\n금천구 ...</td>\n",
       "    </tr>\n",
       "    <tr>\n",
       "      <th>7</th>\n",
       "      <td>yaami._.v\\n삼겹살 쵝오❤️\\n2일답글 달기</td>\n",
       "    </tr>\n",
       "    <tr>\n",
       "      <th>8</th>\n",
       "      <td>winnnie99\\n고기먹을래요❤️\\n3일답글 달기</td>\n",
       "    </tr>\n",
       "    <tr>\n",
       "      <th>9</th>\n",
       "      <td>greenofginger\\n군침도네요 💙\\n3일답글 달기</td>\n",
       "    </tr>\n",
       "    <tr>\n",
       "      <th>10</th>\n",
       "      <td>zin___nxy\\n캬 고기 너무 조은데여 언능 땡기고싶어요 ❤️\\n3일답글 달기</td>\n",
       "    </tr>\n",
       "    <tr>\n",
       "      <th>11</th>\n",
       "      <td>jinjjin_seoul\\n#협찬 🎀 요즘 핫한 마라꼬치 맛집✨\\n진찐🔥\\n\\n이곳...</td>\n",
       "    </tr>\n",
       "    <tr>\n",
       "      <th>12</th>\n",
       "      <td>muk_tteum\\n여기 마라꼬치 넘 궁금해요😍\\n1주답글 달기</td>\n",
       "    </tr>\n",
       "    <tr>\n",
       "      <th>13</th>\n",
       "      <td>hello_s_food\\n여기 가성비 좋더라구여❤️\\n1주답글 달기</td>\n",
       "    </tr>\n",
       "    <tr>\n",
       "      <th>14</th>\n",
       "      <td>eeekha1\\n정말 맛나 보여요~같이 먹친가능할까요? 😍\\n1주답글 달기</td>\n",
       "    </tr>\n",
       "    <tr>\n",
       "      <th>15</th>\n",
       "      <td>jandi_choice\\n우와 진짜 맛있어보여요요✨🧡\\n1주답글 달기</td>\n",
       "    </tr>\n",
       "    <tr>\n",
       "      <th>16</th>\n",
       "      <td>ivysfoodtrip\\n와 진짜 비주얼 최고잖아요🔥🔥\\n1주답글 달기</td>\n",
       "    </tr>\n",
       "    <tr>\n",
       "      <th>17</th>\n",
       "      <td>tornado_mukboss\\n요즘 정말 핫한 곳이네요🔥🔥 감사합니다 먹팔하고 갈게...</td>\n",
       "    </tr>\n",
       "    <tr>\n",
       "      <th>18</th>\n",
       "      <td>yxn_juice\\n마라꼬치 넘 맛있겠어요 🤍\\n5일답글 달기</td>\n",
       "    </tr>\n",
       "    <tr>\n",
       "      <th>19</th>\n",
       "      <td>man2_house\\n오리전병까지!!\\n1주답글 달기</td>\n",
       "    </tr>\n",
       "    <tr>\n",
       "      <th>20</th>\n",
       "      <td>happyjisu0622\\n꼬치 맛나요\\n1주답글 달기</td>\n",
       "    </tr>\n",
       "    <tr>\n",
       "      <th>21</th>\n",
       "      <td>woonyumnyum\\n마라 꼬치라뇨🔥\\n1주답글 달기</td>\n",
       "    </tr>\n",
       "    <tr>\n",
       "      <th>22</th>\n",
       "      <td>_matfolio\\n마라꼬치라니 !!!\\n1주답글 달기</td>\n",
       "    </tr>\n",
       "    <tr>\n",
       "      <th>23</th>\n",
       "      <td>binchanbubu\\n아주 술이 술술 들어갈 것 같아용🥹🤍 선팔하고 갈게요!! 먹...</td>\n",
       "    </tr>\n",
       "    <tr>\n",
       "      <th>24</th>\n",
       "      <td>kbb_reviewking\\n선팔하고가요 같이먹팔헤요❤️\\n1주답글 달기</td>\n",
       "    </tr>\n",
       "  </tbody>\n",
       "</table>\n",
       "</div>"
      ],
      "text/plain": [
       "                                                 text\n",
       "0                      hee.muk__\\n맛도리 비줠인데여😋\\n2일답글 달기\n",
       "1                  greenofginger\\n먹음직스럽네요 👏👏\\n2일답글 달기\n",
       "2                        mukdang0\\n찐으로 맛나보여용\\n2일답글 달기\n",
       "3         jejuyummy_soyoung\\n아 진짜 밥도둑일거 같아요🤤\\n2일답글 달기\n",
       "4                    happyjisu0622\\n명태 맛나겠어요\\n2일답글 달기\n",
       "5                     couple_mukdiary\\n먹고파요!\\n1일답글 달기\n",
       "6   jinjjin_seoul\\n🎀 비싼 금 가치를 가진 돼지고기\\n진찐🐽\\n\\n금천구 ...\n",
       "7                        yaami._.v\\n삼겹살 쵝오❤️\\n2일답글 달기\n",
       "8                        winnnie99\\n고기먹을래요❤️\\n3일답글 달기\n",
       "9                     greenofginger\\n군침도네요 💙\\n3일답글 달기\n",
       "10      zin___nxy\\n캬 고기 너무 조은데여 언능 땡기고싶어요 ❤️\\n3일답글 달기\n",
       "11  jinjjin_seoul\\n#협찬 🎀 요즘 핫한 마라꼬치 맛집✨\\n진찐🔥\\n\\n이곳...\n",
       "12                muk_tteum\\n여기 마라꼬치 넘 궁금해요😍\\n1주답글 달기\n",
       "13              hello_s_food\\n여기 가성비 좋더라구여❤️\\n1주답글 달기\n",
       "14          eeekha1\\n정말 맛나 보여요~같이 먹친가능할까요? 😍\\n1주답글 달기\n",
       "15             jandi_choice\\n우와 진짜 맛있어보여요요✨🧡\\n1주답글 달기\n",
       "16            ivysfoodtrip\\n와 진짜 비주얼 최고잖아요🔥🔥\\n1주답글 달기\n",
       "17  tornado_mukboss\\n요즘 정말 핫한 곳이네요🔥🔥 감사합니다 먹팔하고 갈게...\n",
       "18                 yxn_juice\\n마라꼬치 넘 맛있겠어요 🤍\\n5일답글 달기\n",
       "19                      man2_house\\n오리전병까지!!\\n1주답글 달기\n",
       "20                     happyjisu0622\\n꼬치 맛나요\\n1주답글 달기\n",
       "21                     woonyumnyum\\n마라 꼬치라뇨🔥\\n1주답글 달기\n",
       "22                     _matfolio\\n마라꼬치라니 !!!\\n1주답글 달기\n",
       "23  binchanbubu\\n아주 술이 술술 들어갈 것 같아용🥹🤍 선팔하고 갈게요!! 먹...\n",
       "24           kbb_reviewking\\n선팔하고가요 같이먹팔헤요❤️\\n1주답글 달기"
      ]
     },
     "execution_count": 21,
     "metadata": {},
     "output_type": "execute_result"
    }
   ],
   "source": [
    "df"
   ]
  }
 ],
 "metadata": {
  "kernelspec": {
   "display_name": "Python 3",
   "language": "python",
   "name": "python3"
  },
  "language_info": {
   "codemirror_mode": {
    "name": "ipython",
    "version": 3
   },
   "file_extension": ".py",
   "mimetype": "text/x-python",
   "name": "python",
   "nbconvert_exporter": "python",
   "pygments_lexer": "ipython3",
   "version": "3.11.8"
  }
 },
 "nbformat": 4,
 "nbformat_minor": 2
}
