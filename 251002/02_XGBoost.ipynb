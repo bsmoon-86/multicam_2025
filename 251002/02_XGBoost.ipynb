{
 "cells": [
  {
   "cell_type": "markdown",
   "id": "c343ec1d",
   "metadata": {},
   "source": [
    "# XGBoost\n",
    "- Boosting 중 대표적인 모델 \n",
    "- Gradient Boosting 알고리즘을 고도화한 모델 \n",
    "- 빠른속도, 높은 성능, 과적합 제어 기능을 제공하는 트리 기반 앙상블 모델 \n",
    "- XGBoost는 sklearn에 존재x 별도의 라이블러리 설치 \n",
    "- 대규모 데이터에서 자주 사용되는 모델\n",
    "- 분류(XGBoostClassifier)와 회귀(XGBoostRegressor) 모두 가능 \n",
    "\n",
    "- 매개변수 \n",
    "    1. 학습 제어 관련 \n",
    "        - n_estimators\n",
    "            - 기본값 : 100\n",
    "            - 트리가 생성이되는 개수 (모델의 개수)\n",
    "            - 클수록 성능이 올라가지만 계산이 많아지면서 시간은 오래 걸린다. \n",
    "        - learning_rate\n",
    "            - 기본값 : 0.1\n",
    "            - 각 단계별 학습율(기여도)\n",
    "            - 작을 수록 데이터의 단순화 , 클수록 데이터 복잡\n",
    "        - early_stopping_rounds\n",
    "            - 기본값 : None\n",
    "            - fit() 함수에서 'eval_set'에서 지정된 평가 지표가 n 라운드 연속 개선되지 않으면 학습 중단\n",
    "            - n_estimators의 값을 크게 잡고 이 값으로 최적의 라운드 검색 "
   ]
  }
 ],
 "metadata": {
  "language_info": {
   "name": "python"
  }
 },
 "nbformat": 4,
 "nbformat_minor": 5
}
