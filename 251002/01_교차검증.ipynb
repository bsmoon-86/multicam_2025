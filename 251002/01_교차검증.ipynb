{
 "cells": [
  {
   "cell_type": "markdown",
   "id": "5fb92b1c",
   "metadata": {},
   "source": [
    "# KFold\n",
    "- 데이터셋을 K개의 동일 크기 부분(Fold)나눠서 K번 반복하여 하나의 폴드를 검증용으로 사용을 하고 나머지 k-1개의 폴드를 학습용으로 사용\n",
    "- 모든 폴드를 한번은 검증용으로 포함이 되고 k-1개를 학습용으로 사용 \n",
    "- 데이터가 수가 적을때 모델의 성능을 안정적으로 평가 할 수 있는 방법 \n",
    "\n",
    "- 매개변수 \n",
    "    - n_splits\n",
    "        - 기본값 : 5\n",
    "        - 폴드의 개수를 지정 \n",
    "        - 최소 값은 2\n",
    "    - shuffle\n",
    "        - 기본값 : False\n",
    "        - 데이터를 분할하기 전에 섞을지 지정 \n",
    "        - True로 변경하게 되면 폴드가 랜덤하게 구성 \n",
    "    - random_state\n",
    "        - 기본값 : None\n",
    "        - shuffle이 True인 경우에 사용\n",
    "        - 랜덤 시드 고정 \n",
    "- 속성\n",
    "    - n_splits \n",
    "        - 분할된 폴드의 개수\n",
    "- 메서드 \n",
    "    - split(x, y = None)\n",
    "        - 학습용/검증용 인덱스를 생성\n",
    "        - 반복문을 이용하여 (train_index, test_index)로 변환하여 사용\n",
    "\n",
    "- 장점 \n",
    "    - 데이터를 폴드화 해서 학습/ 검증용으로 사용하기 때문에 데이터가 낭비가 없다. \n",
    "    - 일반적으로 사용하던 train_test_split보다 성능 평가가 안정적(설명이 충분하다.)\n",
    "- 단점 \n",
    "    - K번의 학습 -> K번의 예측 -> K번의 평가 --> 계산이 늘어남 -> 시간 증가\n",
    "    - 데이터의 크기가 크다면 시간이 증가 \n",
    "\n",
    "- 변형 KFold 클래스 \n",
    "    - StratifiedKFold : 분류 문제에서 클래스의 비율을 유지하여 분할 \n",
    "    - GroupKFold : 그룹 단위로 데이터를 나눠 그룹이 학습/검증에 동시에 들어가지 않도록 보장 \n",
    "    - RepeatedKFold : KFold를 여러번 반복해 평가 안정성 강화 "
   ]
  },
  {
   "cell_type": "code",
   "execution_count": null,
   "id": "128abb4f",
   "metadata": {},
   "outputs": [],
   "source": [
    "import pandas as pd \n",
    "import numpy as np \n",
    "from sklearn.model_selection import train_test_split, GridSearchCV, \\\n",
    "                KFold, StratifiedKFold\n",
    "from sklearn.pipeline import Pipeline\n",
    "from sklearn.preprocessing import StandardScaler\n",
    "from sklearn.svm import SVC, SVR\n",
    "from sklearn.metrics import classification_report, r2_score"
   ]
  },
  {
   "cell_type": "code",
   "execution_count": null,
   "id": "020b5be8",
   "metadata": {},
   "outputs": [],
   "source": [
    "# Pipeline + GridSearchCV + KFold를 사용하여 분류 문제 해결 \n",
    "# iris 데이터를 로드 \n",
    "iris = pd.read_csv(\"../data/iris.csv\")\n",
    "iris.head()"
   ]
  },
  {
   "cell_type": "code",
   "execution_count": null,
   "id": "91c7143c",
   "metadata": {},
   "outputs": [],
   "source": [
    "# target 데이터를 0, 1, 2로 데이터를 변경\n",
    "# iris['target'].unique()\n",
    "for i, key in enumerate(iris['target'].unique()):\n",
    "    # print(i)\n",
    "    # print(key)\n",
    "    iris['target'] = iris['target'].replace(key, i)"
   ]
  },
  {
   "cell_type": "code",
   "execution_count": null,
   "id": "446b0ca5",
   "metadata": {},
   "outputs": [],
   "source": [
    "# train, test 데이터셋을 구분 \n",
    "x = iris.drop('target', axis=1).values\n",
    "y = iris['target'].values\n"
   ]
  },
  {
   "cell_type": "code",
   "execution_count": null,
   "id": "22fc9be0",
   "metadata": {},
   "outputs": [],
   "source": [
    "X_train, X_test, Y_train, Y_test = train_test_split(\n",
    "    x, y, random_state=42, test_size=0.2, stratify=y\n",
    ")"
   ]
  },
  {
   "cell_type": "code",
   "execution_count": null,
   "id": "ae7763e6",
   "metadata": {},
   "outputs": [],
   "source": [
    "# KFold를 이용해서 데이터 분할 \n",
    "# 분류 모델 -> target의 비율 1:1:1 -> 비율을 맞춰서 폴드화\n",
    "# stratifiedKFold를 이용\n",
    "cv_folds = StratifiedKFold(n_splits=5, shuffle=True, random_state=42)"
   ]
  },
  {
   "cell_type": "code",
   "execution_count": null,
   "id": "9545dce8",
   "metadata": {},
   "outputs": [],
   "source": [
    "cv_folds"
   ]
  },
  {
   "cell_type": "code",
   "execution_count": null,
   "id": "5ee6846a",
   "metadata": {},
   "outputs": [],
   "source": [
    "# Pipeline 생성 -> \n",
    "# 학습(fit()) -> Scaler 생성하고 fit()을 이용하여 범위를 지정하고 \n",
    "# transform()을 이용해서 스케일링을 하고 모델에 학습을 시킨다.\n",
    "# 예측(predict()) -> 생성된 Scaler를 사용하여 \n",
    "# 검증 데이터를 transform()을 이용해서 스케일링하고 학습된 모델에 \n",
    "# predict() 함수를 이용하여 예측값을 반환\n",
    "pipe = Pipeline(\n",
    "    [\n",
    "        ('scaler', StandardScaler()), \n",
    "        ('svc', SVC(probability=True, random_state=42))\n",
    "    ]\n",
    ")"
   ]
  },
  {
   "cell_type": "code",
   "execution_count": null,
   "id": "69d66a65",
   "metadata": {},
   "outputs": [],
   "source": [
    "# GridSearchCV에서 사용할 파라미터 조합을 생성 \n",
    "# pipeline을 이용하여 Grid를 사용하면 매개변수의 이름을 수정할 필요가 있다\n",
    "# pipeline에서 사용할 모델에( 이름 + __ + 매개변수명) 키 값들을 변경 \n",
    "params = {\n",
    "    \"svc__C\" : [0.1, 1, 10], \n",
    "    'svc__gamma' : ['scale', 'auto'], \n",
    "    'svc__kernel' : ['linear', 'rbf']\n",
    "}"
   ]
  },
  {
   "cell_type": "code",
   "execution_count": null,
   "id": "9d77e341",
   "metadata": {},
   "outputs": [],
   "source": [
    "grid_cls = GridSearchCV(\n",
    "    estimator= pipe,   # gird에서 사용할 모델은 pipeline으로 만들어진 모델\n",
    "    param_grid= params, # dict 형태로 각 파라미터별 사용할 값 지정\n",
    "    scoring= 'accuracy',    # 검증할때마다 정확도를 이용하여 모델을 평가\n",
    "    cv = cv_folds,      # 교차 검증은 횟수는 KFold의 값들을 이용\n",
    "    verbose = 1,        # 진행상황을 간단한 로그로 표시 \n",
    "    refit = True,       # 베스트 파라미터를 이용하여 재학습 \n",
    "    return_train_score= True,   # 학습 데이터의 성능을 확인\n",
    "    n_jobs=-1           # 해당 코드를 이용하여 작업시 사용할 코어는 모두\n",
    ")\n",
    "grid_cls.fit(X_train, Y_train)"
   ]
  },
  {
   "cell_type": "code",
   "execution_count": null,
   "id": "b986b733",
   "metadata": {},
   "outputs": [],
   "source": [
    "print(grid_cls.score(X_test, Y_test))"
   ]
  },
  {
   "cell_type": "code",
   "execution_count": null,
   "id": "828070b0",
   "metadata": {},
   "outputs": [],
   "source": [
    "# print(grid_cls.cv_results_)\n",
    "pd.DataFrame(grid_cls.cv_results_).sort_values(\n",
    "    \"mean_test_score\", ascending=False\n",
    ")"
   ]
  },
  {
   "cell_type": "code",
   "execution_count": null,
   "id": "a6461df1",
   "metadata": {},
   "outputs": [],
   "source": [
    "# pipe + kfold + grid를 이용한 회귀 분석 \n",
    "# csv에 있는 boston 데이터 로드 \n",
    "boston = pd.read_csv(\"../csv/boston.csv\")"
   ]
  },
  {
   "cell_type": "code",
   "execution_count": null,
   "id": "c0701096",
   "metadata": {},
   "outputs": [],
   "source": [
    "x = boston.drop('Price', axis=1).values\n",
    "y = boston['Price']"
   ]
  },
  {
   "cell_type": "code",
   "execution_count": null,
   "id": "f74d1230",
   "metadata": {},
   "outputs": [],
   "source": [
    "# train, test 나눌때 회귀 분석이기때문에 계층화 사용하지 않음\n",
    "X_train, X_test, Y_train, Y_test = train_test_split(\n",
    "    x, y, random_state= 42, test_size=0.2\n",
    ")"
   ]
  },
  {
   "cell_type": "code",
   "execution_count": null,
   "id": "446b266d",
   "metadata": {},
   "outputs": [],
   "source": [
    "# 폴드화에서도 계층화가 필요 없기때문에 KFold 사용\n",
    "cv_folds = KFold(n_splits=5, shuffle = True, random_state=42)"
   ]
  },
  {
   "cell_type": "code",
   "execution_count": null,
   "id": "b8aed520",
   "metadata": {},
   "outputs": [],
   "source": [
    "pipe_reg = Pipeline(\n",
    "    [\n",
    "        ('stdscaler', StandardScaler()), \n",
    "        ('svm_reg', SVR())\n",
    "    ]\n",
    ")"
   ]
  },
  {
   "cell_type": "code",
   "execution_count": null,
   "id": "359ddeee",
   "metadata": {},
   "outputs": [],
   "source": [
    "# SVR() 모델의 파라미터를 C는 [1, 10, 100]\n",
    "# kenrle은 ['rbf', 'linear]\n",
    "# epsilon은 [0.1, 0.2, 0.5]\n",
    "# 파라미터 조합 \n",
    "params_reg = {\n",
    "    \"svm_reg__C\" : [1, 10, 100], \n",
    "    \"svm_reg__kernel\" : ['rbf', 'linear'], \n",
    "    \"svm_reg__epsilon\" : [0.1, 0.2, 0.5]\n",
    "}"
   ]
  },
  {
   "cell_type": "code",
   "execution_count": null,
   "id": "c01e924a",
   "metadata": {},
   "outputs": [],
   "source": [
    "# GridSearchCV를 이용하여 최적화 파라미터를 확인 \n",
    "# scoring은 'neg_mean_squared_error'\n",
    "grid_reg = GridSearchCV(\n",
    "    estimator= pipe_reg, \n",
    "    param_grid= params_reg, \n",
    "    scoring='neg_mean_squared_error', \n",
    "    cv = cv_folds, \n",
    "    verbose= 1, \n",
    "    refit = True, \n",
    "    return_train_score=True\n",
    ")\n",
    "grid_reg.fit(X_train, Y_train)"
   ]
  },
  {
   "cell_type": "code",
   "execution_count": null,
   "id": "4a710c0b",
   "metadata": {},
   "outputs": [],
   "source": []
  }
 ],
 "metadata": {
  "kernelspec": {
   "display_name": "Python 3",
   "language": "python",
   "name": "python3"
  },
  "language_info": {
   "codemirror_mode": {
    "name": "ipython",
    "version": 3
   },
   "file_extension": ".py",
   "mimetype": "text/x-python",
   "name": "python",
   "nbconvert_exporter": "python",
   "pygments_lexer": "ipython3",
   "version": "3.11.9"
  }
 },
 "nbformat": 4,
 "nbformat_minor": 5
}
