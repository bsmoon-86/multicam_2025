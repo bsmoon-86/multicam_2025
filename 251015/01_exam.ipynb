{
 "cells": [
  {
   "cell_type": "markdown",
   "id": "63bda46a",
   "metadata": {},
   "source": [
    "### 문제\n",
    "- data 폴더 안에 bodyPerformance.csv 파일을 로드 \n",
    "- 데이터중 object 형 데이터의 컬럼들은 LabelEncoder를 이용하여 라벨링\n",
    "- 독립, 종속 변수로 데이터를 나눠준다. \n",
    "- train, test 데이터를 8:2의 비율로 나눠준다. \n",
    "- 독립 데이터들은 StandardScaler를 이용하여 스케일링\n",
    "- 생성된 변수 4개를 Tensor의 형태로 변환\n",
    "- torch의 분류 분석을 통해서 데이터 학습 \n",
    "    - 손실함수는 Adam을 사용하고 lr의 값은 0.01로 설정 \n",
    "    - 반복 학습의 횟수는 200회 loss값 확인\n",
    "- 반복 학습이 끝나면 정확도를 확인\n"
   ]
  },
  {
   "cell_type": "code",
   "execution_count": 1,
   "id": "d36e0f20",
   "metadata": {},
   "outputs": [],
   "source": [
    "import numpy as np \n",
    "import torch\n",
    "import torch.nn as nn\n",
    "import torch.optim as optim\n",
    "from sklearn.model_selection import train_test_split\n",
    "from sklearn.preprocessing import StandardScaler, LabelEncoder\n",
    "from sklearn.metrics import accuracy_score\n",
    "import pandas as pd "
   ]
  },
  {
   "cell_type": "code",
   "execution_count": 2,
   "id": "719107df",
   "metadata": {},
   "outputs": [],
   "source": [
    "# 데이터 로드 \n",
    "df = pd.read_csv(\"../data/bodyPerformance.csv\")"
   ]
  },
  {
   "cell_type": "code",
   "execution_count": null,
   "id": "ef4298bc",
   "metadata": {},
   "outputs": [],
   "source": [
    "df.info()"
   ]
  },
  {
   "cell_type": "code",
   "execution_count": 7,
   "id": "f4839cdc",
   "metadata": {},
   "outputs": [],
   "source": [
    "# Object 형 컬럼을 선택하여 LabelEncoder를 사용하여 라벨링 \n",
    "# Str형태의 데이터를 Int형태로 자동 변환 \n",
    "\n",
    "cols = df.select_dtypes('object').columns.tolist()\n",
    "\n",
    "for col in cols:\n",
    "    # LabelEncoder 생성 \n",
    "    le = LabelEncoder()\n",
    "    # 각각 컬럼의 데이터들을 le에 학습하고 변환 \n",
    "    df[col] = le.fit_transform(df[col].values)"
   ]
  },
  {
   "cell_type": "code",
   "execution_count": null,
   "id": "6507556a",
   "metadata": {},
   "outputs": [],
   "source": [
    "df.head()"
   ]
  },
  {
   "cell_type": "code",
   "execution_count": 9,
   "id": "9ab7e5a7",
   "metadata": {},
   "outputs": [
    {
     "data": {
      "text/plain": [
       "array([2, 0, 1, 3])"
      ]
     },
     "execution_count": 9,
     "metadata": {},
     "output_type": "execute_result"
    }
   ],
   "source": [
    "# 해당 데이터를 이용하여 분류 분석 -> 정확도가 얼마나 되는가? -> 분류의 개수를 확인 \n",
    "# class 컬럼의 데이터들의 종류\n",
    "df['class'].unique()"
   ]
  },
  {
   "cell_type": "code",
   "execution_count": 32,
   "id": "5afcb85b",
   "metadata": {},
   "outputs": [
    {
     "name": "stdout",
     "output_type": "stream",
     "text": [
      "<class 'numpy.ndarray'> <class 'numpy.ndarray'>\n"
     ]
    }
   ],
   "source": [
    "# 독립, 종속으로 데이터를 분할\n",
    "X = df.drop('class', axis=1).values\n",
    "Y = df['class'].values\n",
    "print(type(X), type(Y))"
   ]
  },
  {
   "cell_type": "code",
   "execution_count": 33,
   "id": "242c16a7",
   "metadata": {},
   "outputs": [],
   "source": [
    "# train, test 데이터 분할\n",
    "X_train, X_test, Y_train, Y_test = train_test_split(\n",
    "    X, Y, test_size=0.2, random_state=42\n",
    ")"
   ]
  },
  {
   "cell_type": "code",
   "execution_count": 34,
   "id": "bcf67d32",
   "metadata": {},
   "outputs": [
    {
     "name": "stdout",
     "output_type": "stream",
     "text": [
      "<class 'numpy.ndarray'> <class 'numpy.ndarray'>\n"
     ]
    }
   ],
   "source": [
    "print(type(X_train), type(Y_train))"
   ]
  },
  {
   "cell_type": "code",
   "execution_count": 35,
   "id": "fd4ccdc8",
   "metadata": {},
   "outputs": [],
   "source": [
    "# 스케일링\n",
    "scaler = StandardScaler()\n",
    "X_train = scaler.fit_transform(X_train)\n",
    "X_test = scaler.transform(X_test)"
   ]
  },
  {
   "cell_type": "code",
   "execution_count": 36,
   "id": "e32f9a63",
   "metadata": {},
   "outputs": [
    {
     "name": "stdout",
     "output_type": "stream",
     "text": [
      "<class 'numpy.ndarray'> <class 'numpy.ndarray'>\n"
     ]
    }
   ],
   "source": [
    "print(type(X_train), type(Y_train))"
   ]
  },
  {
   "cell_type": "code",
   "execution_count": 37,
   "id": "dd444beb",
   "metadata": {},
   "outputs": [],
   "source": [
    "# Tensor 타입으로 데이터를 타입 변경 \n",
    "X_train_tensor = torch.tensor(X_train, dtype=torch.float32)\n",
    "X_test_tensor = torch.tensor(X_test, dtype=torch.float32)"
   ]
  },
  {
   "cell_type": "code",
   "execution_count": 38,
   "id": "d3a96896",
   "metadata": {},
   "outputs": [],
   "source": [
    "# CrossEntropyLoss에서 사용할 데이터의 타입을 설정 -> long\n",
    "Y_train_tensor = torch.tensor(Y_train, dtype=torch.long)\n",
    "Y_test_tensor = torch.tensor(Y_test, dtype=torch.long)"
   ]
  },
  {
   "cell_type": "code",
   "execution_count": 74,
   "id": "9226b2b7",
   "metadata": {},
   "outputs": [],
   "source": [
    "# 모델 정의 \n",
    "class Bodycls(nn.Module):\n",
    "    def __init__(self, _dim):\n",
    "        # _dim : 입력 데이터의 피쳐의 개수를 받아오기 위한 매개변수\n",
    "        super(Bodycls, self).__init__()\n",
    "        # Sequential() -> 여러개의 층을 순서대로 실행\n",
    "        self.model = nn.Sequential(\n",
    "            nn.Linear(_dim, _dim * 3),      # 11차원의 입력데이터, 22차원의 출력데이터 생성\n",
    "            # 비선형 활성화 함수 (ReLU, Sigmoid, Tanh)\n",
    "            nn.ReLU(),\n",
    "            nn.Linear(_dim * 3, _dim * 2), \n",
    "            nn.ReLU(),\n",
    "            nn.Linear(_dim * 2, 4)\n",
    "        )\n",
    "        # self.model = nn.Linear(_dim, 4)\n",
    "\n",
    "    def forward(self, x):\n",
    "        return self.model(x)"
   ]
  },
  {
   "cell_type": "code",
   "execution_count": 75,
   "id": "a1d627f2",
   "metadata": {},
   "outputs": [],
   "source": [
    "# 모델을 생성 \n",
    "body_model = Bodycls(X_train.shape[1])"
   ]
  },
  {
   "cell_type": "code",
   "execution_count": 76,
   "id": "98b6724d",
   "metadata": {},
   "outputs": [],
   "source": [
    "# 손실, 옵티마이저 생성 \n",
    "criterion = nn.CrossEntropyLoss()\n",
    "optimizer = optim.Adam(body_model.parameters(), lr = 0.01)"
   ]
  },
  {
   "cell_type": "code",
   "execution_count": 79,
   "id": "d41d3dec",
   "metadata": {},
   "outputs": [
    {
     "name": "stdout",
     "output_type": "stream",
     "text": [
      "Epoch : 40, Loss : 0.5568\n",
      "Epoch : 80, Loss : 0.549\n",
      "Epoch : 120, Loss : 0.5427\n",
      "Epoch : 160, Loss : 0.5374\n",
      "Epoch : 200, Loss : 0.5342\n"
     ]
    }
   ],
   "source": [
    "# 반복 학습 \n",
    "body_model.train()\n",
    "for epoch in range(200):\n",
    "    out = body_model(X_train_tensor)\n",
    "    loss = criterion(out, Y_train_tensor)\n",
    "\n",
    "    optimizer.zero_grad()\n",
    "    loss.backward()\n",
    "    optimizer.step()\n",
    "\n",
    "    if (epoch + 1) % 40 == 0:\n",
    "        print(f'Epoch : {epoch + 1}, Loss : {round(loss.item(), 4)}')"
   ]
  },
  {
   "cell_type": "code",
   "execution_count": 80,
   "id": "f0c49560",
   "metadata": {},
   "outputs": [
    {
     "name": "stdout",
     "output_type": "stream",
     "text": [
      "75.63%\n"
     ]
    }
   ],
   "source": [
    "# 평가 모드 진입 \n",
    "body_model.eval()\n",
    "with torch.no_grad():\n",
    "    out = body_model(X_test_tensor)\n",
    "    _, pred = torch.max(out, 1)    # 가장 높은 클래스를 선택 \n",
    "    acc = accuracy_score(Y_test, pred)\n",
    "\n",
    "print(f'{round(acc * 100, 2)}%')"
   ]
  },
  {
   "cell_type": "code",
   "execution_count": 81,
   "id": "352921f6",
   "metadata": {},
   "outputs": [],
   "source": [
    "# 비선형 활성화 함수 비교\n",
    "\n",
    "import matplotlib.pyplot as plt\n",
    "\n",
    "# sin 데이터를 하나 생성\n",
    "x = torch.linspace(-3, 3, 200).unsqueeze(1)\n",
    "y = torch.sin(x)"
   ]
  },
  {
   "cell_type": "code",
   "execution_count": 82,
   "id": "5972b63f",
   "metadata": {},
   "outputs": [],
   "source": [
    "linear_model = nn.Sequential(\n",
    "    nn.Linear(1, 16), \n",
    "    nn.Linear(16, 1)\n",
    ")"
   ]
  },
  {
   "cell_type": "code",
   "execution_count": 84,
   "id": "16d6cbd5",
   "metadata": {},
   "outputs": [],
   "source": [
    "relu_model = nn.Sequential(\n",
    "    nn.Linear(1, 16), \n",
    "    nn.ReLU(), \n",
    "    nn.Linear(16, 1)\n",
    ")"
   ]
  },
  {
   "cell_type": "code",
   "execution_count": 85,
   "id": "3493228a",
   "metadata": {},
   "outputs": [],
   "source": [
    "loss = nn.MSELoss()\n",
    "\n",
    "opt1 = optim.Adam(linear_model.parameters(), lr = 0.01)\n",
    "opt2 = optim.Adam(relu_model.parameters(), lr = 0.01)"
   ]
  },
  {
   "cell_type": "code",
   "execution_count": 86,
   "id": "7b5ef6f3",
   "metadata": {},
   "outputs": [],
   "source": [
    "# 반복 학습 \n",
    "for epoch in range(3000):\n",
    "    # 선형 모델\n",
    "    pred1 = linear_model(x)\n",
    "    loss1 = loss(pred1, y)\n",
    "    opt1.zero_grad()\n",
    "    loss1.backward()\n",
    "    opt1.step()\n",
    "\n",
    "    # 비선형 모델\n",
    "    pred2 = relu_model(x)\n",
    "    loss2 = loss(pred2, y)\n",
    "    opt2.zero_grad()\n",
    "    loss2.backward()\n",
    "    opt2.step()"
   ]
  },
  {
   "cell_type": "code",
   "execution_count": 87,
   "id": "f059a1e3",
   "metadata": {},
   "outputs": [],
   "source": [
    "# 예측 결과 \n",
    "linear_pred = linear_model(x).detach()\n",
    "relu_pred = relu_model(x).detach()"
   ]
  },
  {
   "cell_type": "code",
   "execution_count": 93,
   "id": "e6eb8ee8",
   "metadata": {},
   "outputs": [
    {
     "data": {
      "text/plain": [
       "[<matplotlib.lines.Line2D at 0x2845a79ae10>]"
      ]
     },
     "execution_count": 93,
     "metadata": {},
     "output_type": "execute_result"
    },
    {
     "data": {
      "image/png": "[encoded data removed]",
      "text/plain": [
       "<Figure size 1500x1000 with 1 Axes>"
      ]
     },
     "metadata": {},
     "output_type": "display_data"
    }
   ],
   "source": [
    "# 시각화 \n",
    "plt.figure(figsize=(15, 10))\n",
    "\n",
    "# 원본 데이터 산점도 그래프\n",
    "plt.scatter(x, y, s = 10, alpha=0.3, label = 'Origin Data')\n",
    "# 선형 모델 예측 값 -> 라인 그래프 \n",
    "plt.plot(x, linear_pred, color = 'red')\n",
    "# 비선형 모델의 예측 값 -> 라인그래프\n",
    "plt.plot(x, relu_pred, color = 'black')\n"
   ]
  }
 ],
 "metadata": {
  "kernelspec": {
   "display_name": "Python 3",
   "language": "python",
   "name": "python3"
  },
  "language_info": {
   "codemirror_mode": {
    "name": "ipython",
    "version": 3
   },
   "file_extension": ".py",
   "mimetype": "text/x-python",
   "name": "python",
   "nbconvert_exporter": "python",
   "pygments_lexer": "ipython3",
   "version": "3.11.9"
  }
 },
 "nbformat": 4,
 "nbformat_minor": 5
}
