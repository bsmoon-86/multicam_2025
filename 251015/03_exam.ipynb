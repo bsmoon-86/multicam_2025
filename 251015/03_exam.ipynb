{
 "cells": [
  {
   "cell_type": "code",
   "execution_count": 15,
   "id": "bdcfdb43",
   "metadata": {},
   "outputs": [],
   "source": [
    "import pandas as pd \n",
    "import matplotlib.pyplot as plt\n",
    "import torch \n",
    "import torch.optim as optim\n",
    "import torch.nn as nn\n",
    "from torch.utils.data import DataLoader, Dataset\n",
    "from sklearn.preprocessing import StandardScaler"
   ]
  },
  {
   "cell_type": "code",
   "execution_count": 16,
   "id": "a6cf8c15",
   "metadata": {},
   "outputs": [],
   "source": [
    "class WindowDataset(Dataset):\n",
    "    # 단변량 시계열에서 입력 값 정답 값을 만드는 Dataset\n",
    "    def __init__(self, _data, _window):\n",
    "        # _data : (N, ) 형태의 1차원 tensor 데이터\n",
    "        # _window : 과거의 몇개의 데이터를 볼것인가?(구간 설정)\n",
    "        self.data = _data\n",
    "        self.window = _window\n",
    "        # 유효 샘플의 개수는 학습 데이터의 개수는 data의 전체 길이에서 -1\n",
    "        # 입력 데이터는 전체 길이 - 윈도우 \n",
    "        self.n = len(_data) - _window\n",
    "\n",
    "    # __len__(), __getitem__() 두개의 특수 함수들은 \n",
    "    # DataLoder에서 자동으로 호출해서 사용이 되는 부분\n",
    "    def __len__(self):\n",
    "        return max(self.n, 0)\n",
    "    \n",
    "    def __getitem__(self, idx):\n",
    "        # 변환\n",
    "        # x -> 입력 데이터 (윈도우의 구간을 나타내는 데이터) --> 문제\n",
    "        # y -> 입력 데이터 다음 행의 데이터  --> 정답\n",
    "        x = self.data[idx : idx + self.window].unsqueeze(-1) # (window, ) -> (window, 1)\n",
    "        y = self.data[idx + self.window].unsqueeze(-1)\n",
    "        return x, y"
   ]
  },
  {
   "cell_type": "code",
   "execution_count": 17,
   "id": "92670632",
   "metadata": {},
   "outputs": [],
   "source": [
    "# RNN class 정의 \n",
    "class RNNReg(nn.Module):\n",
    "    # 해당 class에서 정의되는 함수는 생성자함수, forward()함수\n",
    "\n",
    "    def __init__(\n",
    "            self, \n",
    "            input_size, \n",
    "            hidden_size, \n",
    "            num_layers = 1, \n",
    "            nonlinearity = 'tanh', \n",
    "            dropout = 0.0, \n",
    "            bidirectional = False, \n",
    "            batch_first = True\n",
    "    ):\n",
    "        # 부모 클래스의 생성자 함수 호출 \n",
    "        super().__init__()\n",
    "        self.rnn = nn.RNN(\n",
    "            input_size = input_size, \n",
    "            hidden_size=hidden_size, \n",
    "            num_layers=num_layers, \n",
    "            nonlinearity=nonlinearity, \n",
    "            dropout=dropout, \n",
    "            bidirectional=bidirectional, \n",
    "            batch_first=batch_first\n",
    "        )\n",
    "        # self.head = nn.Linear(hidden_size, 1) # 1차원 스칼라 회귀\n",
    "        # bidirectional의 값이 False 인 경우에는 hidden_size를 사용\n",
    "        # 만약 True라면 hidden_size * 2\n",
    "        out_features = hidden_size * ( 2 if bidirectional else 1 )\n",
    "        self.head = nn.Linear(out_features, 1)\n",
    "\n",
    "    def forward(self, x):\n",
    "        # out -> 모든 시점에서의 은닉층의 값(결과)\n",
    "        # h_n -> 마지막 시점에서의 은닉층의 값(결과) -> 층이 존재하면 층별 마지막 값\n",
    "        #  -> 시계열 분석은 마지막 시점을 사용\n",
    "        out, h_n = self.rnn(x)\n",
    "        # 가장 마지막 은닉의 값을 사용(마지막 층의 값)\n",
    "        last_hidden = h_n[-1]\n",
    "        res =  self.head(last_hidden)\n",
    "        return res\n"
   ]
  },
  {
   "cell_type": "markdown",
   "id": "89d216a3",
   "metadata": {},
   "source": [
    "### 문제 \n",
    "- csv 폴더 안에 있는 AAPL.csv 파일을 로드 \n",
    "- 해당 데이터프레임에서 Date, Adj Close 컬럼을 제외한 나머지는 모두 삭제 \n",
    "- 결측치가 포함되어있는지 확인하고 결측치 데이터가 전체 데이터 수의 비해 매우 작은 크기라면 제거  \n",
    "- 해당 데이터 셋의 순서가 시간의 순서와 같은지 확인 (시간 컬럼을 기준으로 오름차순 정렬)\n",
    "- tensor 데이터를 생성하기 위해 Adj Close의 데이터 array 형태( (N, 1) )로 변경\n",
    "- train, test의 비율이 75:25의 비율로 데이터를 나눠준다. \n",
    "- train과 test를 스케일러를 이용하여 스케일링\n",
    "- train과 test를 Tensor의 형태로 변환 \n",
    "- Tensor의 형태로 변환된 데이터를 WindowDataset의 형태로 변경하고 DataLoader를 이용하여 학습에서 사용하기 편한 형태로 변경 (window의 개수는 60)"
   ]
  },
  {
   "cell_type": "code",
   "execution_count": 18,
   "id": "e1dc89a4",
   "metadata": {},
   "outputs": [
    {
     "name": "stdout",
     "output_type": "stream",
     "text": [
      "<class 'pandas.core.frame.DataFrame'>\n",
      "RangeIndex: 9715 entries, 0 to 9714\n",
      "Data columns (total 7 columns):\n",
      " #   Column     Non-Null Count  Dtype  \n",
      "---  ------     --------------  -----  \n",
      " 0   Date       9715 non-null   object \n",
      " 1   Open       9714 non-null   float64\n",
      " 2   High       9714 non-null   float64\n",
      " 3   Low        9714 non-null   float64\n",
      " 4   Close      9714 non-null   float64\n",
      " 5   Adj Close  9714 non-null   float64\n",
      " 6   Volume     9713 non-null   float64\n",
      "dtypes: float64(6), object(1)\n",
      "memory usage: 531.4+ KB\n"
     ]
    }
   ],
   "source": [
    "df = pd.read_csv(\"../csv/AAPL.csv\")\n",
    "df.info()"
   ]
  },
  {
   "cell_type": "code",
   "execution_count": 19,
   "id": "2d816bfc",
   "metadata": {},
   "outputs": [
    {
     "data": {
      "text/html": [
       "<div>\n",
       "<style scoped>\n",
       "    .dataframe tbody tr th:only-of-type {\n",
       "        vertical-align: middle;\n",
       "    }\n",
       "\n",
       "    .dataframe tbody tr th {\n",
       "        vertical-align: top;\n",
       "    }\n",
       "\n",
       "    .dataframe thead th {\n",
       "        text-align: right;\n",
       "    }\n",
       "</style>\n",
       "<table border=\"1\" class=\"dataframe\">\n",
       "  <thead>\n",
       "    <tr style=\"text-align: right;\">\n",
       "      <th></th>\n",
       "      <th>Date</th>\n",
       "      <th>Adj Close</th>\n",
       "    </tr>\n",
       "  </thead>\n",
       "  <tbody>\n",
       "    <tr>\n",
       "      <th>0</th>\n",
       "      <td>1980-12-12</td>\n",
       "      <td>0.410525</td>\n",
       "    </tr>\n",
       "    <tr>\n",
       "      <th>1</th>\n",
       "      <td>1980-12-15</td>\n",
       "      <td>0.389106</td>\n",
       "    </tr>\n",
       "    <tr>\n",
       "      <th>2</th>\n",
       "      <td>1980-12-16</td>\n",
       "      <td>0.360548</td>\n",
       "    </tr>\n",
       "    <tr>\n",
       "      <th>3</th>\n",
       "      <td>1980-12-17</td>\n",
       "      <td>0.369472</td>\n",
       "    </tr>\n",
       "    <tr>\n",
       "      <th>4</th>\n",
       "      <td>1980-12-18</td>\n",
       "      <td>0.380182</td>\n",
       "    </tr>\n",
       "    <tr>\n",
       "      <th>...</th>\n",
       "      <td>...</td>\n",
       "      <td>...</td>\n",
       "    </tr>\n",
       "    <tr>\n",
       "      <th>9710</th>\n",
       "      <td>2019-06-18</td>\n",
       "      <td>198.449997</td>\n",
       "    </tr>\n",
       "    <tr>\n",
       "      <th>9711</th>\n",
       "      <td>2019-06-19</td>\n",
       "      <td>197.869995</td>\n",
       "    </tr>\n",
       "    <tr>\n",
       "      <th>9712</th>\n",
       "      <td>2019-06-20</td>\n",
       "      <td>199.460007</td>\n",
       "    </tr>\n",
       "    <tr>\n",
       "      <th>9713</th>\n",
       "      <td>2019-06-21</td>\n",
       "      <td>198.779999</td>\n",
       "    </tr>\n",
       "    <tr>\n",
       "      <th>9714</th>\n",
       "      <td>2019-06-24</td>\n",
       "      <td>199.169998</td>\n",
       "    </tr>\n",
       "  </tbody>\n",
       "</table>\n",
       "<p>9715 rows × 2 columns</p>\n",
       "</div>"
      ],
      "text/plain": [
       "            Date   Adj Close\n",
       "0     1980-12-12    0.410525\n",
       "1     1980-12-15    0.389106\n",
       "2     1980-12-16    0.360548\n",
       "3     1980-12-17    0.369472\n",
       "4     1980-12-18    0.380182\n",
       "...          ...         ...\n",
       "9710  2019-06-18  198.449997\n",
       "9711  2019-06-19  197.869995\n",
       "9712  2019-06-20  199.460007\n",
       "9713  2019-06-21  198.779999\n",
       "9714  2019-06-24  199.169998\n",
       "\n",
       "[9715 rows x 2 columns]"
      ]
     },
     "execution_count": 19,
     "metadata": {},
     "output_type": "execute_result"
    }
   ],
   "source": [
    "# Date, Adj Close 컬럼을 제외한 나머지는 모두 제거 \n",
    "df2 = df.drop( ['Open', 'High', 'Low', 'Close', 'Volume'] , axis=1)\n",
    "df2"
   ]
  },
  {
   "cell_type": "code",
   "execution_count": 20,
   "id": "facbcf27",
   "metadata": {},
   "outputs": [],
   "source": [
    "df = df[['Date', 'Adj Close']]"
   ]
  },
  {
   "cell_type": "code",
   "execution_count": 21,
   "id": "300ae066",
   "metadata": {},
   "outputs": [
    {
     "name": "stdout",
     "output_type": "stream",
     "text": [
      "<class 'pandas.core.frame.DataFrame'>\n",
      "RangeIndex: 9715 entries, 0 to 9714\n",
      "Data columns (total 2 columns):\n",
      " #   Column     Non-Null Count  Dtype  \n",
      "---  ------     --------------  -----  \n",
      " 0   Date       9715 non-null   object \n",
      " 1   Adj Close  9714 non-null   float64\n",
      "dtypes: float64(1), object(1)\n",
      "memory usage: 151.9+ KB\n"
     ]
    }
   ],
   "source": [
    "df.info()"
   ]
  },
  {
   "cell_type": "code",
   "execution_count": 22,
   "id": "dcc22dce",
   "metadata": {},
   "outputs": [
    {
     "data": {
      "text/plain": [
       "np.float64(0.01)"
      ]
     },
     "execution_count": 22,
     "metadata": {},
     "output_type": "execute_result"
    }
   ],
   "source": [
    "# 결측치의 개수 / 전체 데이터의 개수 * 100\n",
    "# 결측치가 포함된 행의 개수\n",
    "na_cnt = df.isna().any(axis=1).sum()\n",
    "round( na_cnt / len(df) * 100 , 2 )"
   ]
  },
  {
   "cell_type": "code",
   "execution_count": 23,
   "id": "dcf476aa",
   "metadata": {},
   "outputs": [
    {
     "data": {
      "text/html": [
       "<div>\n",
       "<style scoped>\n",
       "    .dataframe tbody tr th:only-of-type {\n",
       "        vertical-align: middle;\n",
       "    }\n",
       "\n",
       "    .dataframe tbody tr th {\n",
       "        vertical-align: top;\n",
       "    }\n",
       "\n",
       "    .dataframe thead th {\n",
       "        text-align: right;\n",
       "    }\n",
       "</style>\n",
       "<table border=\"1\" class=\"dataframe\">\n",
       "  <thead>\n",
       "    <tr style=\"text-align: right;\">\n",
       "      <th></th>\n",
       "      <th>Date</th>\n",
       "      <th>Adj Close</th>\n",
       "    </tr>\n",
       "  </thead>\n",
       "  <tbody>\n",
       "    <tr>\n",
       "      <th>0</th>\n",
       "      <td>1980-12-12</td>\n",
       "      <td>0.410525</td>\n",
       "    </tr>\n",
       "    <tr>\n",
       "      <th>1</th>\n",
       "      <td>1980-12-15</td>\n",
       "      <td>0.389106</td>\n",
       "    </tr>\n",
       "    <tr>\n",
       "      <th>2</th>\n",
       "      <td>1980-12-16</td>\n",
       "      <td>0.360548</td>\n",
       "    </tr>\n",
       "    <tr>\n",
       "      <th>3</th>\n",
       "      <td>1980-12-17</td>\n",
       "      <td>0.369472</td>\n",
       "    </tr>\n",
       "    <tr>\n",
       "      <th>4</th>\n",
       "      <td>1980-12-18</td>\n",
       "      <td>0.380182</td>\n",
       "    </tr>\n",
       "    <tr>\n",
       "      <th>...</th>\n",
       "      <td>...</td>\n",
       "      <td>...</td>\n",
       "    </tr>\n",
       "    <tr>\n",
       "      <th>9710</th>\n",
       "      <td>2019-06-18</td>\n",
       "      <td>198.449997</td>\n",
       "    </tr>\n",
       "    <tr>\n",
       "      <th>9711</th>\n",
       "      <td>2019-06-19</td>\n",
       "      <td>197.869995</td>\n",
       "    </tr>\n",
       "    <tr>\n",
       "      <th>9712</th>\n",
       "      <td>2019-06-20</td>\n",
       "      <td>199.460007</td>\n",
       "    </tr>\n",
       "    <tr>\n",
       "      <th>9713</th>\n",
       "      <td>2019-06-21</td>\n",
       "      <td>198.779999</td>\n",
       "    </tr>\n",
       "    <tr>\n",
       "      <th>9714</th>\n",
       "      <td>2019-06-24</td>\n",
       "      <td>199.169998</td>\n",
       "    </tr>\n",
       "  </tbody>\n",
       "</table>\n",
       "<p>9714 rows × 2 columns</p>\n",
       "</div>"
      ],
      "text/plain": [
       "            Date   Adj Close\n",
       "0     1980-12-12    0.410525\n",
       "1     1980-12-15    0.389106\n",
       "2     1980-12-16    0.360548\n",
       "3     1980-12-17    0.369472\n",
       "4     1980-12-18    0.380182\n",
       "...          ...         ...\n",
       "9710  2019-06-18  198.449997\n",
       "9711  2019-06-19  197.869995\n",
       "9712  2019-06-20  199.460007\n",
       "9713  2019-06-21  198.779999\n",
       "9714  2019-06-24  199.169998\n",
       "\n",
       "[9714 rows x 2 columns]"
      ]
     },
     "execution_count": 23,
     "metadata": {},
     "output_type": "execute_result"
    }
   ],
   "source": [
    "# 결측치의 개수가 전체 데이터에 비해 매우 적다. -> 그냥 제거\n",
    "# 결측치가 포함되어있는 행을 제외하고 필터링 \n",
    "df.loc[ ~df.isna().any(axis=1),  ]"
   ]
  },
  {
   "cell_type": "code",
   "execution_count": 24,
   "id": "763f4e1b",
   "metadata": {},
   "outputs": [],
   "source": [
    "# 결측치가 포함되어있는 행을 제거\n",
    "df.dropna(axis=0, inplace=True)"
   ]
  },
  {
   "cell_type": "code",
   "execution_count": 25,
   "id": "cae75130",
   "metadata": {},
   "outputs": [],
   "source": [
    "# Date을 기준으로 오름차순 정렬 \n",
    "df.sort_values('Date', inplace=True)"
   ]
  },
  {
   "cell_type": "code",
   "execution_count": 26,
   "id": "c32a3590",
   "metadata": {},
   "outputs": [
    {
     "data": {
      "text/plain": [
       "array([[  0.410525],\n",
       "       [  0.389106],\n",
       "       [  0.360548],\n",
       "       ...,\n",
       "       [199.460007],\n",
       "       [198.779999],\n",
       "       [199.169998]], shape=(9714, 1))"
      ]
     },
     "execution_count": 26,
     "metadata": {},
     "output_type": "execute_result"
    }
   ],
   "source": [
    "# Adj Close의 values을 2차원 array의 형태로 변환 \n",
    "df['Adj Close'].values.reshape(-1, 1)"
   ]
  },
  {
   "cell_type": "code",
   "execution_count": 27,
   "id": "03dd64ca",
   "metadata": {},
   "outputs": [],
   "source": [
    "values = df[['Adj Close']].values"
   ]
  },
  {
   "cell_type": "code",
   "execution_count": 28,
   "id": "c2ceb557",
   "metadata": {},
   "outputs": [
    {
     "name": "stdout",
     "output_type": "stream",
     "text": [
      "(7285, 1) (2429, 1)\n"
     ]
    }
   ],
   "source": [
    "# 75 : 25 비율로 데이터 분할 \n",
    "split_idx = int( len(values) * 0.75 )\n",
    "\n",
    "train_data = values[ : split_idx]\n",
    "test_data = values[split_idx : ]\n",
    "print(train_data.shape, test_data.shape)"
   ]
  },
  {
   "cell_type": "code",
   "execution_count": 30,
   "id": "a5de1bd8",
   "metadata": {},
   "outputs": [],
   "source": [
    "# StandardScaler 스케일러를 이용하여 스케일링 작업 \n",
    "scaler = StandardScaler()\n",
    "train_sc = scaler.fit_transform(train_data)\n",
    "test_sc = scaler.transform(test_data)"
   ]
  },
  {
   "cell_type": "code",
   "execution_count": 31,
   "id": "9cc5e321",
   "metadata": {},
   "outputs": [],
   "source": [
    "# 스케일링이 완료된 데이터셋을 tensor형태로 변환\n",
    "train_sc = torch.tensor(train_sc.squeeze(-1), dtype=torch.float32)\n",
    "test_sc = torch.tensor(test_sc.squeeze(-1), dtype=torch.float32)"
   ]
  },
  {
   "cell_type": "code",
   "execution_count": 32,
   "id": "9d7ffd73",
   "metadata": {},
   "outputs": [],
   "source": [
    "train_ds = WindowDataset(train_sc, 60)\n",
    "test_ds = WindowDataset(test_sc, 60)"
   ]
  },
  {
   "cell_type": "code",
   "execution_count": 33,
   "id": "911cde19",
   "metadata": {},
   "outputs": [],
   "source": [
    "train_dl = DataLoader(train_ds, shuffle=True, drop_last=True, batch_size=64)\n",
    "test_dl = DataLoader(test_ds, shuffle=False, drop_last=False, batch_size=128)"
   ]
  },
  {
   "cell_type": "code",
   "execution_count": null,
   "id": "b9bda757",
   "metadata": {},
   "outputs": [
    {
     "name": "stdout",
     "output_type": "stream",
     "text": [
      "Epoch : 1, train_mse : 0.0934, val_mse : 303.4999\n",
      "Epoch : 2, train_mse : 0.0029, val_mse : 291.6605\n",
      "Epoch : 3, train_mse : 0.0028, val_mse : 282.558\n",
      "Epoch : 4, train_mse : 0.0025, val_mse : 276.5651\n",
      "Epoch : 5, train_mse : 0.0021, val_mse : 269.4989\n",
      "Epoch : 6, train_mse : 0.0022, val_mse : 266.7952\n",
      "Epoch : 7, train_mse : 0.002, val_mse : 261.5827\n",
      "Epoch : 8, train_mse : 0.002, val_mse : 257.9604\n",
      "Epoch : 9, train_mse : 0.0019, val_mse : 254.2076\n",
      "Epoch : 10, train_mse : 0.0019, val_mse : 250.8721\n",
      "Epoch : 11, train_mse : 0.0017, val_mse : 247.1798\n",
      "Epoch : 12, train_mse : 0.0017, val_mse : 244.6631\n",
      "Epoch : 13, train_mse : 0.0017, val_mse : 241.6393\n",
      "Epoch : 14, train_mse : 0.0017, val_mse : 238.6994\n",
      "Epoch : 15, train_mse : 0.0015, val_mse : 236.2042\n",
      "Epoch : 16, train_mse : 0.0016, val_mse : 234.9128\n",
      "Epoch : 17, train_mse : 0.0015, val_mse : 232.7051\n",
      "Epoch : 18, train_mse : 0.0015, val_mse : 230.6157\n",
      "Epoch : 19, train_mse : 0.0015, val_mse : 229.2457\n",
      "Epoch : 20, train_mse : 0.0015, val_mse : 227.1899\n"
     ]
    }
   ],
   "source": [
    "# 반복 학습 루프 생성 \n",
    "# 모델 생성\n",
    "aapl_model = RNNReg(input_size=1, hidden_size=64)\n",
    "# 손실함수 \n",
    "criterion = nn.MSELoss()\n",
    "# 옵티마이저 \n",
    "optimizer = optim.Adam(aapl_model.parameters(), lr = 0.001)\n"
   ]
  },
  {
   "cell_type": "code",
   "execution_count": 35,
   "id": "8ffb2ff9",
   "metadata": {},
   "outputs": [
    {
     "name": "stdout",
     "output_type": "stream",
     "text": [
      "Epoch : 1, train_mse : 0.0014, val_mse : 224.5346\n",
      "Epoch : 2, train_mse : 0.0013, val_mse : 222.4897\n",
      "Epoch : 3, train_mse : 0.0013, val_mse : 220.8103\n",
      "Epoch : 4, train_mse : 0.0015, val_mse : 219.4152\n",
      "Epoch : 5, train_mse : 0.0014, val_mse : 217.7293\n",
      "Epoch : 6, train_mse : 0.0015, val_mse : 216.2397\n",
      "Epoch : 7, train_mse : 0.0012, val_mse : 214.9231\n",
      "Epoch : 8, train_mse : 0.0014, val_mse : 211.6188\n",
      "Epoch : 9, train_mse : 0.0012, val_mse : 211.8586\n",
      "Epoch : 10, train_mse : 0.0012, val_mse : 209.7103\n",
      "Epoch : 11, train_mse : 0.0012, val_mse : 208.7595\n",
      "Epoch : 12, train_mse : 0.0012, val_mse : 206.8235\n",
      "Epoch : 13, train_mse : 0.0012, val_mse : 205.9492\n",
      "Epoch : 14, train_mse : 0.0011, val_mse : 205.1894\n",
      "Epoch : 15, train_mse : 0.0013, val_mse : 205.9669\n",
      "Epoch : 16, train_mse : 0.0013, val_mse : 203.6479\n",
      "Epoch : 17, train_mse : 0.0014, val_mse : 201.9871\n",
      "Epoch : 18, train_mse : 0.0012, val_mse : 202.5059\n",
      "Epoch : 19, train_mse : 0.0012, val_mse : 201.2842\n",
      "Epoch : 20, train_mse : 0.0012, val_mse : 201.3253\n"
     ]
    }
   ],
   "source": [
    "\n",
    "# 평가 함수 생성 \n",
    "# 함수 호출시 동시에 실행이 되는 데코레이터 생성 \n",
    "@torch.no_grad()\n",
    "def evaluate_mse(dataloader):\n",
    "    aapl_model.eval()\n",
    "    total_loss, total_n = 0.0, 0\n",
    "    # with torch.no_grad():\n",
    "    for x, y in dataloader:\n",
    "        x = x.float()\n",
    "        y = y.float()\n",
    "        yhat = aapl_model(x)\n",
    "        loss = criterion(yhat, y)\n",
    "        total_loss += loss.item() * y.size(0)\n",
    "        total_n += y.size(0)\n",
    "    return total_loss / max(total_n, 1)\n",
    "\n",
    "train_history, val_history = [], []\n",
    "for epoch in range(20):\n",
    "    aapl_model.train()\n",
    "    running, n_seen = 0.0, 0\n",
    "    for x, y in train_dl:\n",
    "        x = x.float()\n",
    "        y = y.float()\n",
    "\n",
    "        optimizer.zero_grad()\n",
    "        yhat = aapl_model(x)\n",
    "        loss = criterion(yhat, y)\n",
    "        loss.backward()\n",
    "\n",
    "        # 기울기 폭발 방지 -> nan값이 나올수 있는 확률은 배제\n",
    "        nn.utils.clip_grad_norm_(aapl_model.parameters(), 1.0)\n",
    "\n",
    "        optimizer.step()\n",
    "\n",
    "        running += loss.item() * y.size(0)\n",
    "        n_seen += y.size(0)\n",
    "    train_mse = running / max(n_seen, 1)\n",
    "    val_mse = evaluate_mse(test_dl)\n",
    "    train_history.append(train_mse)\n",
    "    val_history.append(val_mse)\n",
    "    print(f\"Epoch : {epoch+1}, train_mse : {round(train_mse, 4)}, val_mse : {round(val_mse, 4)}\")\n"
   ]
  }
 ],
 "metadata": {
  "kernelspec": {
   "display_name": "Python 3",
   "language": "python",
   "name": "python3"
  },
  "language_info": {
   "codemirror_mode": {
    "name": "ipython",
    "version": 3
   },
   "file_extension": ".py",
   "mimetype": "text/x-python",
   "name": "python",
   "nbconvert_exporter": "python",
   "pygments_lexer": "ipython3",
   "version": "3.11.9"
  }
 },
 "nbformat": 4,
 "nbformat_minor": 5
}
