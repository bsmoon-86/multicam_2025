{
 "cells": [
  {
   "cell_type": "code",
   "execution_count": 1,
   "id": "bdcfdb43",
   "metadata": {},
   "outputs": [],
   "source": [
    "import pandas as pd \n",
    "import matplotlib.pyplot as plt\n",
    "import torch \n",
    "import torch.optim as optim\n",
    "import torch.nn as nn\n",
    "from torch.utils.data import DataLoader, Dataset\n",
    "from sklearn.preprocessing import StandardScaler"
   ]
  },
  {
   "cell_type": "code",
   "execution_count": 2,
   "id": "a6cf8c15",
   "metadata": {},
   "outputs": [],
   "source": [
    "class WindowDataset(Dataset):\n",
    "    # 단변량 시계열에서 입력 값 정답 값을 만드는 Dataset\n",
    "    def __init__(self, _data, _window):\n",
    "        # _data : (N, ) 형태의 1차원 tensor 데이터\n",
    "        # _window : 과거의 몇개의 데이터를 볼것인가?(구간 설정)\n",
    "        self.data = _data\n",
    "        self.window = _window\n",
    "        # 유효 샘플의 개수는 학습 데이터의 개수는 data의 전체 길이에서 -1\n",
    "        # 입력 데이터는 전체 길이 - 윈도우 \n",
    "        self.n = len(_data) - _window\n",
    "\n",
    "    # __len__(), __getitem__() 두개의 특수 함수들은 \n",
    "    # DataLoder에서 자동으로 호출해서 사용이 되는 부분\n",
    "    def __len__(self):\n",
    "        return max(self.n, 0)\n",
    "    \n",
    "    def __getitem__(self, idx):\n",
    "        # 변환\n",
    "        # x -> 입력 데이터 (윈도우의 구간을 나타내는 데이터) --> 문제\n",
    "        # y -> 입력 데이터 다음 행의 데이터  --> 정답\n",
    "        x = self.data[idx : idx + self.window].unsqueeze(-1) # (window, ) -> (window, 1)\n",
    "        y = self.data[idx + self.window].unsqueeze(-1)\n",
    "        return x, y"
   ]
  },
  {
   "cell_type": "code",
   "execution_count": 3,
   "id": "92670632",
   "metadata": {},
   "outputs": [],
   "source": [
    "# RNN class 정의 \n",
    "class RNNReg(nn.Module):\n",
    "    # 해당 class에서 정의되는 함수는 생성자함수, forward()함수\n",
    "\n",
    "    def __init__(\n",
    "            self, \n",
    "            input_size, \n",
    "            hidden_size, \n",
    "            num_layers = 1, \n",
    "            nonlinearity = 'tanh', \n",
    "            dropout = 0.0, \n",
    "            bidirectional = False, \n",
    "            batch_first = True\n",
    "    ):\n",
    "        # 부모 클래스의 생성자 함수 호출 \n",
    "        super().__init__()\n",
    "        self.rnn = nn.RNN(\n",
    "            input_size = input_size, \n",
    "            hidden_size=hidden_size, \n",
    "            num_layers=num_layers, \n",
    "            nonlinearity=nonlinearity, \n",
    "            dropout=dropout, \n",
    "            bidirectional=bidirectional, \n",
    "            batch_first=batch_first\n",
    "        )\n",
    "        # self.head = nn.Linear(hidden_size, 1) # 1차원 스칼라 회귀\n",
    "        # bidirectional의 값이 False 인 경우에는 hidden_size를 사용\n",
    "        # 만약 True라면 hidden_size * 2\n",
    "        out_features = hidden_size * ( 2 if bidirectional else 1 )\n",
    "        self.head = nn.Linear(out_features, 1)\n",
    "\n",
    "    def forward(self, x):\n",
    "        # out -> 모든 시점에서의 은닉층의 값(결과)\n",
    "        # h_n -> 마지막 시점에서의 은닉층의 값(결과) -> 층이 존재하면 층별 마지막 값\n",
    "        #  -> 시계열 분석은 마지막 시점을 사용\n",
    "        out, h_n = self.rnn(x)\n",
    "        # 가장 마지막 은닉의 값을 사용(마지막 층의 값)\n",
    "        last_hidden = h_n[-1]\n",
    "        res =  self.head(last_hidden)\n",
    "        return res\n"
   ]
  },
  {
   "cell_type": "markdown",
   "id": "89d216a3",
   "metadata": {},
   "source": [
    "### 문제 \n",
    "- csv 폴더 안에 있는 AAPL.csv 파일을 로드 \n",
    "- 해당 데이터프레임에서 Date, Adj Close 컬럼을 제외한 나머지는 모두 삭제 \n",
    "- 결측치가 포함되어있는지 확인하고 결측치 데이터가 전체 데이터 수의 비해 매우 작은 크기라면 제거  \n",
    "- 해당 데이터 셋의 순서가 시간의 순서와 같은지 확인 (시간 컬럼을 기준으로 오름차순 정렬)\n",
    "- tensor 데이터를 생성하기 위해 Adj Close의 데이터 array 형태( (N, 1) )로 변경\n",
    "- train, test의 비율이 75:25의 비율로 데이터를 나눠준다. \n",
    "- train과 test를 스케일러를 이용하여 스케일링\n",
    "- train과 test를 Tensor의 형태로 변환 \n",
    "- Tensor의 형태로 변환된 데이터를 WindowDataset의 형태로 변경하고 DataLoader를 이용하여 학습에서 사용하기 편한 형태로 변경 (window의 개수는 60)"
   ]
  },
  {
   "cell_type": "code",
   "execution_count": 5,
   "id": "e1dc89a4",
   "metadata": {},
   "outputs": [
    {
     "name": "stdout",
     "output_type": "stream",
     "text": [
      "<class 'pandas.core.frame.DataFrame'>\n",
      "RangeIndex: 9715 entries, 0 to 9714\n",
      "Data columns (total 7 columns):\n",
      " #   Column     Non-Null Count  Dtype  \n",
      "---  ------     --------------  -----  \n",
      " 0   Date       9715 non-null   object \n",
      " 1   Open       9714 non-null   float64\n",
      " 2   High       9714 non-null   float64\n",
      " 3   Low        9714 non-null   float64\n",
      " 4   Close      9714 non-null   float64\n",
      " 5   Adj Close  9714 non-null   float64\n",
      " 6   Volume     9713 non-null   float64\n",
      "dtypes: float64(6), object(1)\n",
      "memory usage: 531.4+ KB\n"
     ]
    }
   ],
   "source": [
    "df = pd.read_csv(\"../csv/AAPL.csv\")\n",
    "df.info()"
   ]
  },
  {
   "cell_type": "code",
   "execution_count": null,
   "id": "2d816bfc",
   "metadata": {},
   "outputs": [],
   "source": [
    "# Date, Adj Close 컬럼을 제외한 나머지는 모두 제거 \n",
    "df2 = df.drop( ['Open', 'High', 'Low', 'Close', 'Volume'] , axis=1)\n",
    "df2"
   ]
  },
  {
   "cell_type": "code",
   "execution_count": 8,
   "id": "facbcf27",
   "metadata": {},
   "outputs": [],
   "source": [
    "df = df[['Date', 'Adj Close']]"
   ]
  },
  {
   "cell_type": "code",
   "execution_count": 9,
   "id": "300ae066",
   "metadata": {},
   "outputs": [
    {
     "name": "stdout",
     "output_type": "stream",
     "text": [
      "<class 'pandas.core.frame.DataFrame'>\n",
      "RangeIndex: 9715 entries, 0 to 9714\n",
      "Data columns (total 2 columns):\n",
      " #   Column     Non-Null Count  Dtype  \n",
      "---  ------     --------------  -----  \n",
      " 0   Date       9715 non-null   object \n",
      " 1   Adj Close  9714 non-null   float64\n",
      "dtypes: float64(1), object(1)\n",
      "memory usage: 151.9+ KB\n"
     ]
    }
   ],
   "source": [
    "df.info()"
   ]
  },
  {
   "cell_type": "code",
   "execution_count": 15,
   "id": "dcc22dce",
   "metadata": {},
   "outputs": [
    {
     "data": {
      "text/plain": [
       "np.float64(0.01)"
      ]
     },
     "execution_count": 15,
     "metadata": {},
     "output_type": "execute_result"
    }
   ],
   "source": [
    "# 결측치의 개수 / 전체 데이터의 개수 * 100\n",
    "# 결측치가 포함된 행의 개수\n",
    "na_cnt = df.isna().any(axis=1).sum()\n",
    "round( na_cnt / len(df) * 100 , 2 )"
   ]
  },
  {
   "cell_type": "code",
   "execution_count": null,
   "id": "dcf476aa",
   "metadata": {},
   "outputs": [],
   "source": [
    "# 결측치의 개수가 전체 데이터에 비해 매우 적다. -> 그냥 제거\n",
    "# 결측치가 포함되어있는 행을 제외하고 필터링 \n",
    "df.loc[ ~df.isna().any(axis=1),  ]"
   ]
  },
  {
   "cell_type": "code",
   "execution_count": 19,
   "id": "763f4e1b",
   "metadata": {},
   "outputs": [],
   "source": [
    "# 결측치가 포함되어있는 행을 제거\n",
    "df.dropna(axis=0, inplace=True)"
   ]
  },
  {
   "cell_type": "code",
   "execution_count": 21,
   "id": "cae75130",
   "metadata": {},
   "outputs": [],
   "source": [
    "# Date을 기준으로 오름차순 정렬 \n",
    "df.sort_values('Date', inplace=True)"
   ]
  },
  {
   "cell_type": "code",
   "execution_count": 24,
   "id": "c32a3590",
   "metadata": {},
   "outputs": [
    {
     "data": {
      "text/plain": [
       "array([[  0.410525],\n",
       "       [  0.389106],\n",
       "       [  0.360548],\n",
       "       ...,\n",
       "       [199.460007],\n",
       "       [198.779999],\n",
       "       [199.169998]], shape=(9714, 1))"
      ]
     },
     "execution_count": 24,
     "metadata": {},
     "output_type": "execute_result"
    }
   ],
   "source": [
    "# Adj Close의 values을 2차원 array의 형태로 변환 \n",
    "df['Adj Close'].values.reshape(-1, 1)"
   ]
  },
  {
   "cell_type": "code",
   "execution_count": 28,
   "id": "03dd64ca",
   "metadata": {},
   "outputs": [],
   "source": [
    "values = df[['Adj Close']].values"
   ]
  },
  {
   "cell_type": "code",
   "execution_count": 29,
   "id": "c2ceb557",
   "metadata": {},
   "outputs": [
    {
     "name": "stdout",
     "output_type": "stream",
     "text": [
      "(7285, 1) (2429, 1)\n"
     ]
    }
   ],
   "source": [
    "# 75 : 25 비율로 데이터 분할 \n",
    "split_idx = int( len(values) * 0.75 )\n",
    "\n",
    "train_data = values[ : split_idx]\n",
    "test_data = values[split_idx : ]\n",
    "print(train_data.shape, test_data.shape)"
   ]
  },
  {
   "cell_type": "code",
   "execution_count": null,
   "id": "a5de1bd8",
   "metadata": {},
   "outputs": [],
   "source": []
  }
 ],
 "metadata": {
  "kernelspec": {
   "display_name": "Python 3",
   "language": "python",
   "name": "python3"
  },
  "language_info": {
   "codemirror_mode": {
    "name": "ipython",
    "version": 3
   },
   "file_extension": ".py",
   "mimetype": "text/x-python",
   "name": "python",
   "nbconvert_exporter": "python",
   "pygments_lexer": "ipython3",
   "version": "3.11.9"
  }
 },
 "nbformat": 4,
 "nbformat_minor": 5
}
