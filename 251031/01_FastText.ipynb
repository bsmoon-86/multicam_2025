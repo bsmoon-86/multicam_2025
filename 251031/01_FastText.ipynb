{
 "cells": [
  {
   "cell_type": "markdown",
   "id": "aa58130b",
   "metadata": {},
   "source": [
    "### FastText \n",
    "- Word2Vec에서 OOV(사전에 없는 용어) 문제를 해결하기 위한 모델 \n",
    "- Word2Vec에서는 '강아지' 와 '강아지들' 문구를 다른 단어로 생각\n",
    "- FastText는 Word2Vec의 학습 방식은 비슷 \n",
    "    - 단어를 한글씩 잘게 쪼개서 단어의 유사도를 생성 \n",
    "    - '강아지' -> '강', '아', '지', '강아', '아지', '강아지'(n-gram 방식)\n",
    "    - word2vec과 기본적인 매개변수는 같지만 min_n, max_n 매개변수가 존재 \n",
    "    - subword의 최소 길이와 최대 길이를 설정 \n",
    "    - min_n = 1, max_n =1 --> subword를 사용하지 않겠다 -> Word2Vec 같은 형태로 학습"
   ]
  },
  {
   "cell_type": "code",
   "execution_count": 1,
   "id": "6c017b7b",
   "metadata": {},
   "outputs": [],
   "source": [
    "from gensim.models import Word2Vec, FastText"
   ]
  },
  {
   "cell_type": "code",
   "execution_count": 3,
   "id": "cb67d414",
   "metadata": {},
   "outputs": [],
   "source": [
    "# 샘플 문장 생성\n",
    "sentences = [\n",
    "    ['이커머스', '데이터', '분석', '진행'], \n",
    "    ['상품', '리뷰', '기반', '감성', '분석', '합니다'], \n",
    "    ['형태소', '단위', '임베딩', '가능']\n",
    "]\n",
    "# Fast Text 모델에 학습 \n",
    "model  = FastText(\n",
    "    sentences=sentences, \n",
    "    vector_size= 50,        # 단위 벡터의 차원 수\n",
    "    window=3,               # 주변의 확인할 단어의 개수\n",
    "    min_count=1,            # 최소 출현 횟수\n",
    "    sg = 1,                 # Skip-gram 방식으로 확률 계산\n",
    "    epochs= 10,             # 학습 반복 횟수\n",
    "    min_n = 2, \n",
    "    max_n= 6\n",
    ")"
   ]
  },
  {
   "cell_type": "code",
   "execution_count": null,
   "id": "0a6c4704",
   "metadata": {},
   "outputs": [],
   "source": [
    "# 특정 단어의 벡터를 확인 \n",
    "model.wv['이커머스']"
   ]
  },
  {
   "cell_type": "code",
   "execution_count": 5,
   "id": "4c8d1125",
   "metadata": {},
   "outputs": [
    {
     "data": {
      "text/plain": [
       "[('이커머스', 0.17707844078540802),\n",
       " ('합니다', 0.17073467373847961),\n",
       " ('가능', 0.16921374201774597)]"
      ]
     },
     "execution_count": 5,
     "metadata": {},
     "output_type": "execute_result"
    }
   ],
   "source": [
    "# 유사 단어를 확인 \n",
    "model.wv.most_similar('데이터', topn=3)"
   ]
  },
  {
   "cell_type": "code",
   "execution_count": null,
   "id": "42637dad",
   "metadata": {},
   "outputs": [],
   "source": [
    "# 학습 내용에 없는 단어를 확인 \n",
    "model.wv['감정']"
   ]
  },
  {
   "cell_type": "code",
   "execution_count": 7,
   "id": "1b7f0c8f",
   "metadata": {},
   "outputs": [],
   "source": [
    "# Word2vec을 이용해서 sentences 학습하고 없는 단어 확인 \n",
    "model2 = Word2Vec(\n",
    "    sentences=sentences, \n",
    "    window=3, \n",
    "    vector_size=50, \n",
    "    min_count=1, \n",
    "    sg = 1, \n",
    "    epochs=10\n",
    ")"
   ]
  },
  {
   "cell_type": "code",
   "execution_count": 9,
   "id": "464d52f3",
   "metadata": {},
   "outputs": [],
   "source": [
    "# 학습한 내용에 없는 단어를 출력 \n",
    "# model2.wv['감정']\n",
    "# Word2Vec은 사전에 없는 단어를 단위벡터로 확인하면 에러가 발생 "
   ]
  },
  {
   "cell_type": "markdown",
   "id": "7d30143b",
   "metadata": {},
   "source": [
    "- Word2Vec과 FastText와 단어간의 유사도 차이 확인 \n",
    "\n",
    "    - '강아지', '강아지들' 두개의 단어를 유사한 단어\n",
    "        - Word2Vec은 다른 단어로 인식 -> 유사도 낮게 \n",
    "        - FastText는 비슷한 단어로 인식 -> 유사도 높게 "
   ]
  },
  {
   "cell_type": "code",
   "execution_count": null,
   "id": "7f6c6916",
   "metadata": {},
   "outputs": [],
   "source": []
  }
 ],
 "metadata": {
  "kernelspec": {
   "display_name": "Python 3",
   "language": "python",
   "name": "python3"
  },
  "language_info": {
   "codemirror_mode": {
    "name": "ipython",
    "version": 3
   },
   "file_extension": ".py",
   "mimetype": "text/x-python",
   "name": "python",
   "nbconvert_exporter": "python",
   "pygments_lexer": "ipython3",
   "version": "3.11.9"
  }
 },
 "nbformat": 4,
 "nbformat_minor": 5
}
