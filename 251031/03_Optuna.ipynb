{
 "cells": [
  {
   "cell_type": "markdown",
   "id": "aa3b432b",
   "metadata": {},
   "source": [
    "## Optuna \n",
    "    - 최적의 파라미터를 찾기 위한 라이브러리 \n",
    "    - 별도의 라이브러리 설치 \n",
    "    - GridSearchCV와의 가장 큰 차이는 속도 Optuna 우세 \n",
    "    - GridSearch는 파라미터의 모든 조합을 fitting 확인 \n",
    "    - Optina는 확률 기반 -> 모든 조합을 다 실행하지는 않는다. \n",
    "    - 조합 수 제어 -> GridSearch는 params로 제어 , Optuna n_trials 매개변수로 제어 "
   ]
  },
  {
   "cell_type": "code",
   "execution_count": null,
   "id": "b673139f",
   "metadata": {},
   "outputs": [],
   "source": [
    "# !pip install optuna"
   ]
  },
  {
   "cell_type": "code",
   "execution_count": 6,
   "id": "a762e820",
   "metadata": {},
   "outputs": [],
   "source": [
    "import optuna\n",
    "from sklearn.datasets import load_iris\n",
    "from sklearn.model_selection import cross_val_score, StratifiedKFold\n",
    "from sklearn.svm import SVC\n",
    "from sklearn.preprocessing import StandardScaler\n",
    "from sklearn.pipeline import Pipeline\n",
    "from sklearn.metrics import classification_report, f1_score, make_scorer"
   ]
  },
  {
   "cell_type": "code",
   "execution_count": 3,
   "id": "62d2e2aa",
   "metadata": {},
   "outputs": [],
   "source": [
    "# iris 데이터 로드 \n",
    "X, Y = load_iris(return_X_y=True)"
   ]
  },
  {
   "cell_type": "code",
   "execution_count": 24,
   "id": "0442be3f",
   "metadata": {},
   "outputs": [],
   "source": [
    "# objective 함수를 생성 \n",
    "# 매개변수는 필수 \n",
    "def objective(trial):\n",
    "    # SVC 모델의 파라미터 경우의 수를 지정 \n",
    "    C = trial.suggest_float(\"C\", 1e-3, 10.0, log = True)\n",
    "    gamma = trial.suggest_float('gamma', 1e-4, 1.0, log=True)\n",
    "    kernel = trial.suggest_categorical('kernel', ['linear', 'rbf'])\n",
    "    model = SVC(C= C, gamma=gamma, kernel=kernel)\n",
    "\n",
    "    pipe = Pipeline(\n",
    "        [\n",
    "            ('scaler', StandardScaler()), \n",
    "            ('clf', model)\n",
    "        ]\n",
    "    )\n",
    "\n",
    "    cv = StratifiedKFold(n_splits=5, shuffle=True, random_state=42)\n",
    "    scores = cross_val_score(\n",
    "        pipe, X, Y, cv=cv, \n",
    "        scoring=make_scorer(f1_score, average='macro')\n",
    "    )\n",
    "    return scores.mean()"
   ]
  },
  {
   "cell_type": "code",
   "execution_count": 25,
   "id": "41ace0f1",
   "metadata": {},
   "outputs": [
    {
     "name": "stderr",
     "output_type": "stream",
     "text": [
      "[I 2025-10-31 17:43:06,045] A new study created in memory with name: class_ml_tuning\n",
      "Best trial: 9. Best value: 0.973266:  33%|███▎      | 10/30 [00:00<00:00, 59.93it/s]"
     ]
    },
    {
     "name": "stdout",
     "output_type": "stream",
     "text": [
      "[I 2025-10-31 17:43:06,064] Trial 0 finished with value: 0.8651321398124466 and parameters: {'C': 0.006305029356058344, 'gamma': 0.001409001915306681, 'kernel': 'linear'}. Best is trial 0 with value: 0.8651321398124466.\n",
      "[I 2025-10-31 17:43:06,081] Trial 1 finished with value: 0.8584153478324967 and parameters: {'C': 0.008806363110152982, 'gamma': 0.03533955678895162, 'kernel': 'rbf'}. Best is trial 0 with value: 0.8651321398124466.\n",
      "[I 2025-10-31 17:43:06,095] Trial 2 finished with value: 0.8651321398124466 and parameters: {'C': 0.00309922408220174, 'gamma': 0.008977028491363377, 'kernel': 'linear'}. Best is trial 0 with value: 0.8651321398124466.\n",
      "[I 2025-10-31 17:43:06,107] Trial 3 finished with value: 0.9661728917348785 and parameters: {'C': 4.845958206550635, 'gamma': 0.015606611416584412, 'kernel': 'linear'}. Best is trial 3 with value: 0.9661728917348785.\n",
      "[I 2025-10-31 17:43:06,126] Trial 4 finished with value: 0.8915294462097532 and parameters: {'C': 0.417797337903873, 'gamma': 0.026652222453721865, 'kernel': 'rbf'}. Best is trial 3 with value: 0.9661728917348785.\n",
      "[I 2025-10-31 17:43:06,145] Trial 5 finished with value: 0.8651321398124466 and parameters: {'C': 0.014519535360451597, 'gamma': 0.0004251997118331081, 'kernel': 'rbf'}. Best is trial 3 with value: 0.9661728917348785.\n",
      "[I 2025-10-31 17:43:06,161] Trial 6 finished with value: 0.9337768664084454 and parameters: {'C': 7.85389953136753, 'gamma': 0.8256589012545799, 'kernel': 'rbf'}. Best is trial 3 with value: 0.9661728917348785.\n",
      "[I 2025-10-31 17:43:06,176] Trial 7 finished with value: 0.8651321398124466 and parameters: {'C': 0.004405614035049224, 'gamma': 0.0012969791464477298, 'kernel': 'linear'}. Best is trial 3 with value: 0.9661728917348785.\n",
      "[I 2025-10-31 17:43:06,193] Trial 8 finished with value: 0.8651321398124466 and parameters: {'C': 0.008130748825343512, 'gamma': 0.04237117831321304, 'kernel': 'linear'}. Best is trial 3 with value: 0.9661728917348785.\n",
      "[I 2025-10-31 17:43:06,207] Trial 9 finished with value: 0.9732664995822891 and parameters: {'C': 0.759155577753631, 'gamma': 0.007113592501820986, 'kernel': 'linear'}. Best is trial 9 with value: 0.9732664995822891.\n",
      "[I 2025-10-31 17:43:06,226] Trial 10 finished with value: 0.9599331662489556 and parameters: {'C': 0.3298677138233346, 'gamma': 0.35278562116712897, 'kernel': 'linear'}. Best is trial 9 with value: 0.9732664995822891.\n"
     ]
    },
    {
     "name": "stderr",
     "output_type": "stream",
     "text": [
      "Best trial: 9. Best value: 0.973266:  73%|███████▎  | 22/30 [00:00<00:00, 61.14it/s]"
     ]
    },
    {
     "name": "stdout",
     "output_type": "stream",
     "text": [
      "[I 2025-10-31 17:43:06,241] Trial 11 finished with value: 0.9661728917348785 and parameters: {'C': 6.257618405765357, 'gamma': 0.006738966518801151, 'kernel': 'linear'}. Best is trial 9 with value: 0.9732664995822891.\n",
      "[I 2025-10-31 17:43:06,256] Trial 12 finished with value: 0.9663805979595453 and parameters: {'C': 1.1497082021588785, 'gamma': 0.00011801221069772131, 'kernel': 'linear'}. Best is trial 9 with value: 0.9732664995822891.\n",
      "[I 2025-10-31 17:43:06,275] Trial 13 finished with value: 0.9663805979595453 and parameters: {'C': 0.969224297109029, 'gamma': 0.00014640357199139566, 'kernel': 'linear'}. Best is trial 9 with value: 0.9732664995822891.\n",
      "[I 2025-10-31 17:43:06,294] Trial 14 finished with value: 0.9531151110098477 and parameters: {'C': 0.08443344850916891, 'gamma': 0.00012112491156419742, 'kernel': 'linear'}. Best is trial 9 with value: 0.9732664995822891.\n",
      "[I 2025-10-31 17:43:06,309] Trial 15 finished with value: 0.9728562668393061 and parameters: {'C': 1.2898338463134513, 'gamma': 0.1588479470436692, 'kernel': 'linear'}. Best is trial 9 with value: 0.9732664995822891.\n",
      "[I 2025-10-31 17:43:06,326] Trial 16 finished with value: 0.9599331662489557 and parameters: {'C': 0.057577028261071514, 'gamma': 0.1380169897553289, 'kernel': 'linear'}. Best is trial 9 with value: 0.9732664995822891.\n",
      "[I 2025-10-31 17:43:06,339] Trial 17 finished with value: 0.9661728917348785 and parameters: {'C': 1.7829790268641652, 'gamma': 0.003368789943061546, 'kernel': 'linear'}. Best is trial 9 with value: 0.9732664995822891.\n",
      "[I 2025-10-31 17:43:06,358] Trial 18 finished with value: 0.9392368647988516 and parameters: {'C': 0.25086576593455245, 'gamma': 0.10233770828923469, 'kernel': 'rbf'}. Best is trial 9 with value: 0.9732664995822891.\n",
      "[I 2025-10-31 17:43:06,373] Trial 19 finished with value: 0.9124021011219827 and parameters: {'C': 0.028527302470027157, 'gamma': 0.1839019577893622, 'kernel': 'linear'}. Best is trial 9 with value: 0.9732664995822891.\n",
      "[I 2025-10-31 17:43:06,392] Trial 20 finished with value: 0.9661728917348785 and parameters: {'C': 2.3536419166518385, 'gamma': 0.003534608104544266, 'kernel': 'linear'}. Best is trial 9 with value: 0.9732664995822891.\n",
      "[I 2025-10-31 17:43:06,409] Trial 21 finished with value: 0.9732664995822891 and parameters: {'C': 0.7685502325737265, 'gamma': 0.0003774608056494273, 'kernel': 'linear'}. Best is trial 9 with value: 0.9732664995822891.\n",
      "[I 2025-10-31 17:43:06,421] Trial 22 finished with value: 0.8651321398124466 and parameters: {'C': 0.0010212124271354907, 'gamma': 0.0003329506339982815, 'kernel': 'linear'}. Best is trial 9 with value: 0.9732664995822891.\n"
     ]
    },
    {
     "name": "stderr",
     "output_type": "stream",
     "text": [
      "Best trial: 9. Best value: 0.973266: 100%|██████████| 30/30 [00:00<00:00, 60.83it/s]"
     ]
    },
    {
     "name": "stdout",
     "output_type": "stream",
     "text": [
      "[I 2025-10-31 17:43:06,438] Trial 23 finished with value: 0.9732664995822891 and parameters: {'C': 0.6746293586200619, 'gamma': 0.0007388305775762612, 'kernel': 'linear'}. Best is trial 9 with value: 0.9732664995822891.\n",
      "[I 2025-10-31 17:43:06,455] Trial 24 finished with value: 0.9598653198653198 and parameters: {'C': 0.21281168643475867, 'gamma': 0.0008780957367761329, 'kernel': 'linear'}. Best is trial 9 with value: 0.9732664995822891.\n",
      "[I 2025-10-31 17:43:06,471] Trial 25 finished with value: 0.9732664995822891 and parameters: {'C': 0.6314995239333362, 'gamma': 0.00044366261285241654, 'kernel': 'linear'}. Best is trial 9 with value: 0.9732664995822891.\n",
      "[I 2025-10-31 17:43:06,491] Trial 26 finished with value: 0.8651321398124466 and parameters: {'C': 0.13843247070747156, 'gamma': 0.0017019608165525057, 'kernel': 'rbf'}. Best is trial 9 with value: 0.9732664995822891.\n",
      "[I 2025-10-31 17:43:06,505] Trial 27 finished with value: 0.9665831244778612 and parameters: {'C': 0.574578590942731, 'gamma': 0.003939377732634435, 'kernel': 'linear'}. Best is trial 9 with value: 0.9732664995822891.\n",
      "[I 2025-10-31 17:43:06,521] Trial 28 finished with value: 0.9661728917348785 and parameters: {'C': 3.531372191219058, 'gamma': 0.0002554853331917974, 'kernel': 'linear'}. Best is trial 9 with value: 0.9732664995822891.\n",
      "[I 2025-10-31 17:43:06,538] Trial 29 finished with value: 0.9661728917348785 and parameters: {'C': 3.1185632733399595, 'gamma': 0.0016770724183475803, 'kernel': 'linear'}. Best is trial 9 with value: 0.9732664995822891.\n"
     ]
    },
    {
     "name": "stderr",
     "output_type": "stream",
     "text": [
      "\n"
     ]
    }
   ],
   "source": [
    "# optuna을 이용하여 파라미터 찾기 \n",
    "study = optuna.create_study(direction='maximize', \n",
    "                            study_name='class_ml_tuning')\n",
    "study.optimize(\n",
    "    objective, n_trials=30, show_progress_bar=True\n",
    ")"
   ]
  },
  {
   "cell_type": "code",
   "execution_count": 26,
   "id": "bc11db85",
   "metadata": {},
   "outputs": [
    {
     "name": "stdout",
     "output_type": "stream",
     "text": [
      "{'C': 0.759155577753631, 'gamma': 0.007113592501820986, 'kernel': 'linear'}\n"
     ]
    }
   ],
   "source": [
    "# 최적의 파라미터 출력 \n",
    "print(study.best_params)"
   ]
  },
  {
   "cell_type": "code",
   "execution_count": 27,
   "id": "09d751c3",
   "metadata": {},
   "outputs": [
    {
     "name": "stdout",
     "output_type": "stream",
     "text": [
      "0.9732664995822891\n"
     ]
    }
   ],
   "source": [
    "# 최적의 스코어 확인 \n",
    "print(study.best_value)"
   ]
  },
  {
   "cell_type": "code",
   "execution_count": null,
   "id": "2e2e89ca",
   "metadata": {},
   "outputs": [],
   "source": []
  }
 ],
 "metadata": {
  "kernelspec": {
   "display_name": "Python 3",
   "language": "python",
   "name": "python3"
  },
  "language_info": {
   "codemirror_mode": {
    "name": "ipython",
    "version": 3
   },
   "file_extension": ".py",
   "mimetype": "text/x-python",
   "name": "python",
   "nbconvert_exporter": "python",
   "pygments_lexer": "ipython3",
   "version": "3.11.9"
  }
 },
 "nbformat": 4,
 "nbformat_minor": 5
}
